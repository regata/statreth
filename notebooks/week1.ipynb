{
 "cells": [
  {
   "cell_type": "markdown",
   "id": "b0361da0-4f02-4d6d-b19c-e361a7e6b1bd",
   "metadata": {},
   "source": [
    "# Week 1 Homework"
   ]
  },
  {
   "cell_type": "code",
   "execution_count": null,
   "id": "b1db6ed8-4c69-4c63-968c-3545418e8f63",
   "metadata": {},
   "outputs": [],
   "source": [
    "import altair as alt\n",
    "import numpy as np\n",
    "import pandas as pd\n",
    "from scipy import stats"
   ]
  },
  {
   "cell_type": "markdown",
   "id": "d7da7068-093c-4501-877b-012f61ef2f5b",
   "metadata": {},
   "source": [
    "## Exercise 1"
   ]
  },
  {
   "cell_type": "code",
   "execution_count": null,
   "id": "4e4ee9ce-75ce-4cc3-960e-154e5bcbe37f",
   "metadata": {},
   "outputs": [],
   "source": [
    "# possible values for uknown parameter: water proportion\n",
    "p_grid = np.linspace(0, 1, num=100)\n",
    "\n",
    "prior = np.full_like(p_grid, 1)\n",
    "prior = prior / prior.sum()\n",
    "\n",
    "prob_data = stats.binom.pmf(k=4, n=4 + 11, p=p_grid)\n",
    "prob_data = prob_data / prob_data.sum()\n",
    "\n",
    "posterior = prior * prob_data\n",
    "posterior = posterior / posterior.sum()\n",
    "\n",
    "posterior_samples = np.random.choice(p_grid, p=posterior, size=5000)"
   ]
  },
  {
   "cell_type": "code",
   "execution_count": null,
   "id": "c94f222d-672f-4165-9ad6-8c0858257a10",
   "metadata": {},
   "outputs": [],
   "source": [
    "# data source for plotting\n",
    "source = pd.DataFrame(\n",
    "    {\n",
    "        \"p_grid\": p_grid,\n",
    "        \"prior\": prior,\n",
    "        \"prob_data\": prob_data,\n",
    "        \"posterior\": posterior,\n",
    "    }\n",
    ")\n",
    "\n",
    "# convert wide df to tall, keep `p_grid` column\n",
    "source = source.melt(\"p_grid\", value_name=\"density\")\n",
    "source.head()"
   ]
  },
  {
   "cell_type": "code",
   "execution_count": null,
   "id": "0c90dc76-36e9-4717-a0dc-32e30cbd698f",
   "metadata": {},
   "outputs": [],
   "source": [
    "prob_lines = (\n",
    "    alt.Chart(source, title=\"probabilities\")\n",
    "    .mark_line()\n",
    "    .encode(\n",
    "        alt.X(\"p_grid\", title=\"water ratio\"),\n",
    "        y=\"density\",\n",
    "        color=\"variable\",\n",
    "    )\n",
    ")\n",
    "\n",
    "samples_source = pd.DataFrame({\"posterior_samples\": posterior_samples})\n",
    "hist = (\n",
    "    alt.Chart(samples_source)\n",
    "    .mark_bar(size=10)\n",
    "    .encode(\n",
    "        x=alt.X(\"posterior_samples\", bin=alt.BinParams(step=0.05, extent=[0, 1])),\n",
    "        y=\"count()\",\n",
    "    )\n",
    ")\n",
    "\n",
    "alt.vconcat(prob_lines, hist)"
   ]
  },
  {
   "cell_type": "code",
   "execution_count": null,
   "id": "b569f35e-d2e8-4fdf-8951-eaa81488c115",
   "metadata": {},
   "outputs": [],
   "source": [
    "posterior_mean = (p_grid * posterior).mean() * len(p_grid)\n",
    "posterior_samples_mean = posterior_samples.mean()\n",
    "print(\n",
    "    f\"posterior_mean={posterior_mean:.4f} posterior_samples_mean={posterior_samples_mean:.4f}\"\n",
    ")"
   ]
  },
  {
   "cell_type": "markdown",
   "id": "bf3ff813-4c6b-4041-912f-54af1d74abc2",
   "metadata": {},
   "source": [
    "## Exercise 2"
   ]
  },
  {
   "cell_type": "code",
   "execution_count": null,
   "id": "a85c72c4-fd3d-4578-b3fb-bed2935d66fa",
   "metadata": {},
   "outputs": [],
   "source": [
    "p_grid = np.linspace(0, 1, num=100)\n",
    "\n",
    "prior = np.full_like(p_grid, 1)\n",
    "prior[p_grid < 0.5] = 0\n",
    "prior = prior / prior.sum()\n",
    "\n",
    "prob_data = stats.binom.pmf(k=4, n=4 + 2, p=p_grid)\n",
    "prob_data = prob_data / prob_data.sum()\n",
    "\n",
    "posterior = prior * prob_data\n",
    "posterior = posterior / posterior.sum()\n",
    "\n",
    "posterior_samples = np.random.choice(p_grid, p=posterior, size=5000)"
   ]
  },
  {
   "cell_type": "code",
   "execution_count": null,
   "id": "7c9a68ce-bd90-42b8-9f2b-44174cf01508",
   "metadata": {},
   "outputs": [],
   "source": [
    "# data source for plotting\n",
    "source = pd.DataFrame(\n",
    "    {\n",
    "        \"p_grid\": p_grid,\n",
    "        \"prior\": prior,\n",
    "        \"prob_data\": prob_data,\n",
    "        \"posterior\": posterior,\n",
    "    }\n",
    ")\n",
    "\n",
    "# convert wide df to tall, keep `p_grid` column\n",
    "source = source.melt(\"p_grid\", value_name=\"density\")"
   ]
  },
  {
   "cell_type": "code",
   "execution_count": null,
   "id": "62ba1134-42c6-48cc-8c1f-726f238d3c79",
   "metadata": {},
   "outputs": [],
   "source": [
    "prob_lines = (\n",
    "    alt.Chart(source, title=\"probabilities\")\n",
    "    .mark_line()\n",
    "    .encode(\n",
    "        alt.X(\"p_grid\", title=\"water ratio\"),\n",
    "        y=\"density\",\n",
    "        color=\"variable\",\n",
    "    )\n",
    ")\n",
    "\n",
    "samples_source = pd.DataFrame({\"posterior_samples\": posterior_samples})\n",
    "hist = (\n",
    "    alt.Chart(samples_source)\n",
    "    .mark_bar(size=10)\n",
    "    .encode(\n",
    "        x=alt.X(\"posterior_samples\", bin=alt.BinParams(step=0.05, extent=[0, 1])),\n",
    "        y=\"count()\",\n",
    "    )\n",
    ")\n",
    "\n",
    "alt.vconcat(prob_lines, hist)"
   ]
  },
  {
   "cell_type": "code",
   "execution_count": null,
   "id": "d1ffb28c-8b45-4551-b450-02d340863140",
   "metadata": {},
   "outputs": [],
   "source": [
    "posterior_mean = (p_grid * posterior).mean() * len(p_grid)\n",
    "posterior_samples_mean = posterior_samples.mean()\n",
    "print(\n",
    "    f\"posterior_mean={posterior_mean:.4f} posterior_samples_mean={posterior_samples_mean:.4f}\"\n",
    ")"
   ]
  },
  {
   "cell_type": "markdown",
   "id": "70bbd857-989f-4054-a93e-817c8dfa86f5",
   "metadata": {},
   "source": [
    "## Exercise 3"
   ]
  },
  {
   "cell_type": "code",
   "execution_count": null,
   "id": "f13a7838-50f4-4ba2-b3cd-ce7693c1c174",
   "metadata": {},
   "outputs": [],
   "source": [
    "import statreth as sr"
   ]
  },
  {
   "cell_type": "code",
   "execution_count": null,
   "id": "e52179a7-3a5a-421b-b414-3e343a915c39",
   "metadata": {},
   "outputs": [],
   "source": [
    "prop_mass = 0.89\n",
    "hdpi = sr.hdi(posterior_samples, prop_mass)\n",
    "print(f\"HDPI={hdpi} at prop_mass={prop_mass}\")\n",
    "cred_int = sr.pi(posterior_samples, prop_mass)\n",
    "print(f\"PI={cred_int} at prop_mass={prop_mass}\")"
   ]
  },
  {
   "cell_type": "markdown",
   "id": "898a4098-89a0-4746-8f18-53ce6a5ab38e",
   "metadata": {},
   "source": [
    "## Exercise 4"
   ]
  },
  {
   "cell_type": "code",
   "execution_count": null,
   "id": "4972160d-252d-4ce9-8616-cf73e00e55e1",
   "metadata": {},
   "outputs": [],
   "source": [
    "p_error = 0.2\n",
    "p_water = 0.7\n",
    "\n",
    "n_measurements = 20  # number of measurments per simulation\n",
    "n_sim = 1000"
   ]
  },
  {
   "cell_type": "code",
   "execution_count": null,
   "id": "6943451b-2cb9-4751-bfab-06a68304cdf5",
   "metadata": {},
   "outputs": [],
   "source": [
    "# true water samples\n",
    "true_samples = np.random.binomial(n_measurements, p=p_water, size=n_sim)\n",
    "# take true samples and reduce them according to p_error\n",
    "obs_samples = np.random.binomial(true_samples, p=(1 - p_error))"
   ]
  },
  {
   "cell_type": "code",
   "execution_count": null,
   "id": "95e12aea-5060-4db8-9b35-9dd411837481",
   "metadata": {},
   "outputs": [],
   "source": [
    "print(\"true sample mean:\", true_samples.mean() / n_measurements)\n",
    "print(\"obs sample mean:\", obs_samples.mean() / n_measurements)"
   ]
  },
  {
   "cell_type": "code",
   "execution_count": null,
   "id": "3d69094e-6ecb-4aa8-a37a-192191511c53",
   "metadata": {},
   "outputs": [],
   "source": [
    "# take a biased sample\n",
    "k = obs_samples[1]\n",
    "print(\"number of water samples:\", k)\n",
    "\n",
    "# possible values for uknown parameter: water proportion\n",
    "p_grid = np.linspace(0, 1, num=100)\n",
    "\n",
    "prior = stats.beta.pdf(p_grid, 1, 1)\n",
    "prior = prior / prior.sum()\n",
    "\n",
    "p_grid_adj = p_grid * (1 - p_error)\n",
    "prob_data_adj = stats.binom.pmf(k=k, n=n_measurements, p=p_grid_adj)\n",
    "prob_data_adj = prob_data_adj / prob_data_adj.sum()\n",
    "\n",
    "posterior_adj = prior * prob_data_adj\n",
    "posterior_adj = posterior_adj / posterior_adj.sum()\n",
    "\n",
    "# assume prior is uniform\n",
    "posterior_biased = stats.binom.pmf(k=k, n=n_measurements, p=p_grid)\n",
    "posterior_biased = posterior_biased / posterior_biased.sum()"
   ]
  },
  {
   "cell_type": "code",
   "execution_count": null,
   "id": "59564ff8-d0bb-4190-8eb3-0033690613f0",
   "metadata": {
    "tags": []
   },
   "outputs": [],
   "source": [
    "# data source for plotting\n",
    "source = pd.DataFrame(\n",
    "    {\n",
    "        \"p_grid\": p_grid,\n",
    "        \"posterior_adj\": posterior_adj,\n",
    "        \"posterior_biased\": posterior_biased,\n",
    "    }\n",
    ")\n",
    "\n",
    "# convert wide df to tall, keep `p_grid` column\n",
    "source = source.melt(\"p_grid\", value_name=\"density\")\n",
    "\n",
    "alt.Chart(source, title=\"probabilities\").mark_line().encode(\n",
    "    alt.X(\"p_grid\", title=\"water ratio\"),\n",
    "    y=\"density\",\n",
    "    color=\"variable\",\n",
    ")"
   ]
  },
  {
   "cell_type": "code",
   "execution_count": null,
   "id": "9fe8aae1-559f-4a17-83b1-3b2f93138152",
   "metadata": {},
   "outputs": [],
   "source": []
  }
 ],
 "metadata": {
  "kernelspec": {
   "display_name": "Python 3 (ipykernel)",
   "language": "python",
   "name": "python3"
  },
  "language_info": {
   "codemirror_mode": {
    "name": "ipython",
    "version": 3
   },
   "file_extension": ".py",
   "mimetype": "text/x-python",
   "name": "python",
   "nbconvert_exporter": "python",
   "pygments_lexer": "ipython3",
   "version": "3.10.5"
  }
 },
 "nbformat": 4,
 "nbformat_minor": 5
}
