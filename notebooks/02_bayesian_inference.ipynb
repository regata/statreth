{
 "cells": [
  {
   "cell_type": "code",
   "execution_count": null,
   "id": "118c7787-f1b6-41fe-be70-bfbdc91bf767",
   "metadata": {},
   "outputs": [],
   "source": [
    "import altair as alt\n",
    "import numpy as np\n",
    "import pandas as pd\n",
    "from scipy import stats"
   ]
  },
  {
   "cell_type": "markdown",
   "id": "37d02879-085b-431f-ac60-52cb6b1344e8",
   "metadata": {},
   "source": [
    "## Exercise 1"
   ]
  },
  {
   "cell_type": "code",
   "execution_count": null,
   "id": "9ec99ade-fec9-426f-9591-2a25704f3976",
   "metadata": {},
   "outputs": [],
   "source": [
    "# possible values for uknown parameter: water proportion\n",
    "p_grid = np.linspace(0, 1, num=100)\n",
    "\n",
    "prior = np.full_like(p_grid, 1)\n",
    "prior = prior / prior.sum()\n",
    "\n",
    "prob_data = stats.binom.pmf(k=4, n=4 + 11, p=p_grid)\n",
    "prob_data = prob_data / prob_data.sum()\n",
    "\n",
    "posterior = prior * prob_data\n",
    "posterior = posterior / posterior.sum()\n",
    "\n",
    "posterior_samples = np.random.choice(p_grid, p=posterior, size=5000)"
   ]
  },
  {
   "cell_type": "code",
   "execution_count": null,
   "id": "55722a60-d010-435a-9346-3cbe1ec3e4fe",
   "metadata": {},
   "outputs": [],
   "source": [
    "# data source for plotting\n",
    "source = pd.DataFrame(\n",
    "    {\n",
    "        \"p_grid\": p_grid,\n",
    "        \"prior\": prior,\n",
    "        \"prob_data\": prob_data,\n",
    "        \"posterior\": posterior,\n",
    "    }\n",
    ")\n",
    "\n",
    "# convert wide df to tall, keep `p_grid` column\n",
    "source = source.melt(\"p_grid\", value_name=\"density\")\n",
    "source.head()"
   ]
  },
  {
   "cell_type": "code",
   "execution_count": null,
   "id": "cda488d2-97ef-4ec1-82bc-68d0c3ae9849",
   "metadata": {},
   "outputs": [],
   "source": [
    "prob_lines = (\n",
    "    alt.Chart(source, title=\"probabilities\")\n",
    "    .mark_line()\n",
    "    .encode(\n",
    "        alt.X(\"p_grid\", title=\"water ratio\"),\n",
    "        y=\"density\",\n",
    "        color=\"variable\",\n",
    "    )\n",
    ")\n",
    "\n",
    "samples_source = pd.DataFrame({\"posterior_samples\": posterior_samples})\n",
    "hist = (\n",
    "    alt.Chart(samples_source)\n",
    "    .mark_bar(size=10)\n",
    "    .encode(\n",
    "        x=alt.X(\"posterior_samples\", bin=alt.BinParams(step=0.05, extent=[0, 1])),\n",
    "        y=\"count()\",\n",
    "    )\n",
    ")\n",
    "\n",
    "alt.vconcat(prob_lines, hist)"
   ]
  },
  {
   "cell_type": "code",
   "execution_count": null,
   "id": "94cc47c4-74cf-4a64-9e78-2a32ef52920a",
   "metadata": {},
   "outputs": [],
   "source": [
    "posterior_mean = (p_grid * posterior).mean() * len(p_grid)\n",
    "posterior_samples_mean = posterior_samples.mean()\n",
    "print(\n",
    "    f\"posterior_mean={posterior_mean:.4f} posterior_samples_mean={posterior_samples_mean:.4f}\"\n",
    ")"
   ]
  },
  {
   "cell_type": "markdown",
   "id": "09bee31d-73e0-488a-a45d-51bb5aad7831",
   "metadata": {},
   "source": [
    "## Exercise 2"
   ]
  },
  {
   "cell_type": "code",
   "execution_count": null,
   "id": "04bbbd44-40e7-402e-9333-4f6d076b1650",
   "metadata": {},
   "outputs": [],
   "source": [
    "p_grid = np.linspace(0, 1, num=100)\n",
    "\n",
    "prior = np.full_like(p_grid, 1)\n",
    "prior[p_grid < 0.5] = 0\n",
    "prior = prior / prior.sum()\n",
    "\n",
    "prob_data = stats.binom.pmf(k=4, n=4 + 2, p=p_grid)\n",
    "prob_data = prob_data / prob_data.sum()\n",
    "\n",
    "posterior = prior * prob_data\n",
    "posterior = posterior / posterior.sum()\n",
    "\n",
    "posterior_samples = np.random.choice(p_grid, p=posterior, size=5000)"
   ]
  },
  {
   "cell_type": "code",
   "execution_count": null,
   "id": "134283ff-e660-419b-bc31-fbea0e49c55e",
   "metadata": {},
   "outputs": [],
   "source": [
    "# data source for plotting\n",
    "source = pd.DataFrame(\n",
    "    {\n",
    "        \"p_grid\": p_grid,\n",
    "        \"prior\": prior,\n",
    "        \"prob_data\": prob_data,\n",
    "        \"posterior\": posterior,\n",
    "    }\n",
    ")\n",
    "\n",
    "# convert wide df to tall, keep `p_grid` column\n",
    "source = source.melt(\"p_grid\", value_name=\"density\")"
   ]
  },
  {
   "cell_type": "code",
   "execution_count": null,
   "id": "e8e5b6a6-662e-42d0-bf4f-bd00df38da2c",
   "metadata": {},
   "outputs": [],
   "source": [
    "prob_lines = (\n",
    "    alt.Chart(source, title=\"probabilities\")\n",
    "    .mark_line()\n",
    "    .encode(\n",
    "        alt.X(\"p_grid\", title=\"water ratio\"),\n",
    "        y=\"density\",\n",
    "        color=\"variable\",\n",
    "    )\n",
    ")\n",
    "\n",
    "samples_source = pd.DataFrame({\"posterior_samples\": posterior_samples})\n",
    "hist = (\n",
    "    alt.Chart(samples_source)\n",
    "    .mark_bar(size=10)\n",
    "    .encode(\n",
    "        x=alt.X(\"posterior_samples\", bin=alt.BinParams(step=0.05, extent=[0, 1])),\n",
    "        y=\"count()\",\n",
    "    )\n",
    ")\n",
    "\n",
    "alt.vconcat(prob_lines, hist)"
   ]
  },
  {
   "cell_type": "code",
   "execution_count": null,
   "id": "7babc9c5-816d-426b-bdd0-4cc0f497d68a",
   "metadata": {},
   "outputs": [],
   "source": [
    "posterior_mean = (p_grid * posterior).mean() * len(p_grid)\n",
    "posterior_samples_mean = posterior_samples.mean()\n",
    "print(\n",
    "    f\"posterior_mean={posterior_mean:.4f} posterior_samples_mean={posterior_samples_mean:.4f}\"\n",
    ")"
   ]
  },
  {
   "cell_type": "markdown",
   "id": "63cb8b82-0b5d-4341-9137-35d9ca8871bc",
   "metadata": {},
   "source": [
    "## Exercise 3"
   ]
  },
  {
   "cell_type": "code",
   "execution_count": null,
   "id": "cc4736dd-69d1-486f-a058-87043dd02202",
   "metadata": {},
   "outputs": [],
   "source": [
    "def highest_density_interval(samples, mass):\n",
    "    \"\"\"Estimates Highest Density Interval (HDI) for an array of `samples` for a given probability `mass`\n",
    "    The HDI is the minimum width Bayesian credible interval (BCI).\n",
    "    Note: it asssumes that the underlying distribution is unimodal\n",
    "    \"\"\"\n",
    "    # number of samples included in HDI\n",
    "    n_inc = int(mass * len(samples))\n",
    "    # number of possible intervals\n",
    "    n_intervals = len(samples) - n_inc\n",
    "    # sort samples asc\n",
    "    samples = np.sort(samples)\n",
    "    # interval widths\n",
    "    # widths = np.zeros((n_intervals,))\n",
    "    # for i in range(n_intervals):\n",
    "    #     widths[i] = samples[i + n_inc] - samples[i]\n",
    "    widths = samples[n_inc:] - samples[:n_intervals]\n",
    "    # take the interval that has the minimum width, i.e. highest density\n",
    "    min_idx = widths.argmin()\n",
    "    hdi_min = samples[min_idx]\n",
    "    hdi_max = samples[min_idx + n_inc]\n",
    "    return [hdi_min, hdi_max]\n",
    "\n",
    "\n",
    "def percentile_interval(samples, mass):\n",
    "    \"\"\"Computes Percentile Interval for an array of `samples`\"\"\"\n",
    "    low = (1 - mass) / 2\n",
    "    high = 1 - low\n",
    "    return [np.quantile(samples, low), np.quantile(samples, high)]"
   ]
  },
  {
   "cell_type": "code",
   "execution_count": null,
   "id": "6feee4dc-006a-46d6-bcd7-0dd3936303bb",
   "metadata": {},
   "outputs": [],
   "source": [
    "prop_mass = 0.89\n",
    "hdpi = highest_density_interval(posterior_samples, prop_mass)\n",
    "print(f\"HDPI={hdpi} at prop_mass={prop_mass}\")\n",
    "cred_int = percentile_interval(posterior_samples, prop_mass)\n",
    "print(f\"PI={cred_int} at prop_mass={prop_mass}\")"
   ]
  },
  {
   "cell_type": "markdown",
   "id": "04c98846-1c68-4742-b40f-23bfda236138",
   "metadata": {},
   "source": [
    "## Exercise 4"
   ]
  },
  {
   "cell_type": "code",
   "execution_count": null,
   "id": "296d8b40-48bc-4218-a2c3-26274f42f327",
   "metadata": {},
   "outputs": [],
   "source": [
    "p_error = 0.2\n",
    "p_water = 0.7\n",
    "\n",
    "n_measurements = 20  # number of measurments per simulation\n",
    "n_sim = 1000"
   ]
  },
  {
   "cell_type": "code",
   "execution_count": null,
   "id": "17723a12-35e5-49ba-8c53-0724000fe5a6",
   "metadata": {},
   "outputs": [],
   "source": [
    "# true water samples\n",
    "true_samples = np.random.binomial(n_measurements, p=p_water, size=n_sim)\n",
    "# take true samples and reduce them according to p_error\n",
    "obs_samples = np.random.binomial(true_samples, p=(1 - p_error))"
   ]
  },
  {
   "cell_type": "code",
   "execution_count": null,
   "id": "8e90fba7-643c-408c-9479-9351b7312575",
   "metadata": {},
   "outputs": [],
   "source": [
    "print(\"true sample mean:\", true_samples.mean() / n_measurements)\n",
    "print(\"obs sample mean:\", obs_samples.mean() / n_measurements)"
   ]
  },
  {
   "cell_type": "code",
   "execution_count": null,
   "id": "03bbd264-8448-46ea-81cd-f7d2da711ada",
   "metadata": {},
   "outputs": [],
   "source": [
    "# take a biased sample\n",
    "k = obs_samples[1]\n",
    "print(\"number of water samples:\", k)\n",
    "\n",
    "# possible values for uknown parameter: water proportion\n",
    "p_grid = np.linspace(0, 1, num=100)\n",
    "\n",
    "prior = stats.beta.pdf(p_grid, 1, 1)\n",
    "prior = prior / prior.sum()\n",
    "\n",
    "p_grid_adj = p_grid * (1 - p_error)\n",
    "prob_data_adj = stats.binom.pmf(k=k, n=n_measurements, p=p_grid_adj)\n",
    "prob_data_adj = prob_data_adj / prob_data_adj.sum()\n",
    "\n",
    "posterior_adj = prior * prob_data_adj\n",
    "posterior_adj = posterior_adj / posterior_adj.sum()\n",
    "\n",
    "# assume prior is uniform\n",
    "posterior_biased = stats.binom.pmf(k=k, n=n_measurements, p=p_grid)\n",
    "posterior_biased = posterior_biased / posterior_biased.sum()"
   ]
  },
  {
   "cell_type": "code",
   "execution_count": null,
   "id": "0126da02-df6c-4a03-b758-3ff34278c06d",
   "metadata": {
    "tags": []
   },
   "outputs": [],
   "source": [
    "# data source for plotting\n",
    "source = pd.DataFrame(\n",
    "    {\n",
    "        \"p_grid\": p_grid,\n",
    "        \"posterior_adj\": posterior_adj,\n",
    "        \"posterior_biased\": posterior_biased,\n",
    "    }\n",
    ")\n",
    "\n",
    "# convert wide df to tall, keep `p_grid` column\n",
    "source = source.melt(\"p_grid\", value_name=\"density\")\n",
    "\n",
    "alt.Chart(source, title=\"probabilities\").mark_line().encode(\n",
    "    alt.X(\"p_grid\", title=\"water ratio\"),\n",
    "    y=\"density\",\n",
    "    color=\"variable\",\n",
    ")"
   ]
  },
  {
   "cell_type": "code",
   "execution_count": null,
   "id": "fa9d38ca-2989-41a2-aa98-b8514e71815f",
   "metadata": {},
   "outputs": [],
   "source": []
  }
 ],
 "metadata": {
  "kernelspec": {
   "display_name": "Python 3 (ipykernel)",
   "language": "python",
   "name": "python3"
  },
  "language_info": {
   "codemirror_mode": {
    "name": "ipython",
    "version": 3
   },
   "file_extension": ".py",
   "mimetype": "text/x-python",
   "name": "python",
   "nbconvert_exporter": "python",
   "pygments_lexer": "ipython3",
   "version": "3.10.5"
  }
 },
 "nbformat": 4,
 "nbformat_minor": 5
}
