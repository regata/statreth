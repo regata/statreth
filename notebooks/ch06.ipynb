{
 "cells": [
  {
   "cell_type": "markdown",
   "id": "2313dd64-42fe-4594-abac-dd2ee11e756f",
   "metadata": {},
   "source": [
    "# Chapter 6 Exercises. The Haunted DAG & The Causal Terror."
   ]
  },
  {
   "cell_type": "code",
   "execution_count": 1,
   "id": "bf86a1ef-a475-4cbb-8937-f11a2b13ff2f",
   "metadata": {},
   "outputs": [],
   "source": [
    "%load_ext autoreload\n",
    "%autoreload 2"
   ]
  },
  {
   "cell_type": "code",
   "execution_count": 2,
   "id": "d484673f-2ae2-4bae-9ed5-370b6b79cad9",
   "metadata": {},
   "outputs": [],
   "source": [
    "import altair as alt\n",
    "\n",
    "alt.renderers.enable(\"mimetype\")  # support rendering on github\n",
    "\n",
    "import numpy as np\n",
    "import pandas as pd\n",
    "from pandas.plotting import scatter_matrix\n",
    "from sklearn.linear_model import LinearRegression\n",
    "\n",
    "import statreth as sr\n",
    "from statreth.utils import suppress_subprocess_output"
   ]
  },
  {
   "cell_type": "markdown",
   "id": "be7564e4-25f4-42e3-8009-6dae860cabb7",
   "metadata": {},
   "source": [
    "## 6M1"
   ]
  },
  {
   "cell_type": "markdown",
   "id": "0a25adc2-9b2a-491e-b508-d521f1705d53",
   "metadata": {},
   "source": [
    "Modify the DAG on page 190 to include the variable V, an unobserved cause of C and Y: C ← V → Y. Reanalyze the DAG. How many paths connect X to Y? Which must be closed? Which variables should you condition on now?"
   ]
  },
  {
   "cell_type": "markdown",
   "id": "d0e367c9-b3c1-4a5a-a96b-a7ca7e7aee7f",
   "metadata": {},
   "source": [
    "```\n",
    " ┌───────A───────┐      \n",
    " │               │      \n",
    " │               │      \n",
    "┌▼┐              ▼      \n",
    "│U├─────►B◄──────C◄───┐ \n",
    "└┬┘              │    │ \n",
    " │               │   ┌┴┐\n",
    " │               │   │V│\n",
    " ▼               ▼   └┬┘\n",
    " X ─────────────►Y◄───┘ \n",
    "```\n",
    "\n",
    "We would like to find a direct effect of `X -> Y` which requires closing all \"backdoor\" paths that cause biased association.\n",
    "\n",
    "Backdoor paths:\n",
    "1. `X <- U <- A -> C <- V -> Y` - closed at collider `C`\n",
    "2. `X <- U <- A -> C -> Y` - open\n",
    "3. `X <- U -> B <- C <- V -> Y` closed at collider `B`\n",
    "4. `X <- U -> B <- C -> Y` - closed at collider `B`\n",
    "\n",
    "Only path #2 is open. To close it we could condition on `A` or `C` since `U` and `V` are unobserved. Conditioning on `C` would open path # 1 so we can only condition on `A`"
   ]
  },
  {
   "cell_type": "markdown",
   "id": "7d3201e0-a81d-49e7-b10b-f05d81844dd6",
   "metadata": {},
   "source": [
    "## 6H1"
   ]
  },
  {
   "cell_type": "markdown",
   "id": "48bba6e9-d134-45fa-b5a0-29944a88b698",
   "metadata": {},
   "source": [
    "Use the Waffle House data, `data(WaffleDivorce)`, to find the total causal influence of number of Waffle Houses on divorce rate. Justify your model or models with a causal graph."
   ]
  },
  {
   "cell_type": "markdown",
   "id": "39685ea7-e6aa-4ce8-9383-b4fe21d00456",
   "metadata": {},
   "source": [
    "Consider DAG from page 191:\n",
    "\n",
    "```\n",
    "S ──────────────► W\n",
    "│ ──────┐         │\n",
    "│       ▼         │\n",
    "│ ┌────►M         │\n",
    "│ │     │         │\n",
    "▼ │     └───────► ▼\n",
    "A ──────────────► D\n",
    "```\n",
    "\n",
    "To estimate total causal effect of `W` on `D` we need to close all backdoor paths that connect `W` to `D`:\n",
    "\n",
    "1. `W <- S -> A -> D`\n",
    "2. `W <- S -> M -> D`\n",
    "3. `W <- S -> A -> M -> D`\n",
    "\n",
    "Since `S` is shared among all 3 paths we can condition on `S` to close all of them: `D = f(W, S)`"
   ]
  },
  {
   "cell_type": "code",
   "execution_count": 3,
   "id": "e3f59025-5de3-42ff-95da-7fd7010e4707",
   "metadata": {},
   "outputs": [
    {
     "data": {
      "text/html": [
       "<div>\n",
       "<style scoped>\n",
       "    .dataframe tbody tr th:only-of-type {\n",
       "        vertical-align: middle;\n",
       "    }\n",
       "\n",
       "    .dataframe tbody tr th {\n",
       "        vertical-align: top;\n",
       "    }\n",
       "\n",
       "    .dataframe thead th {\n",
       "        text-align: right;\n",
       "    }\n",
       "</style>\n",
       "<table border=\"1\" class=\"dataframe\">\n",
       "  <thead>\n",
       "    <tr style=\"text-align: right;\">\n",
       "      <th></th>\n",
       "      <th>Location</th>\n",
       "      <th>Loc</th>\n",
       "      <th>Population</th>\n",
       "      <th>MedianAgeMarriage</th>\n",
       "      <th>Marriage</th>\n",
       "      <th>Marriage SE</th>\n",
       "      <th>Divorce</th>\n",
       "      <th>Divorce SE</th>\n",
       "      <th>WaffleHouses</th>\n",
       "      <th>South</th>\n",
       "      <th>Slaves1860</th>\n",
       "      <th>Population1860</th>\n",
       "      <th>PropSlaves1860</th>\n",
       "    </tr>\n",
       "  </thead>\n",
       "  <tbody>\n",
       "    <tr>\n",
       "      <th>0</th>\n",
       "      <td>Alabama</td>\n",
       "      <td>AL</td>\n",
       "      <td>4.78</td>\n",
       "      <td>25.3</td>\n",
       "      <td>20.2</td>\n",
       "      <td>1.27</td>\n",
       "      <td>12.7</td>\n",
       "      <td>0.79</td>\n",
       "      <td>128</td>\n",
       "      <td>1</td>\n",
       "      <td>435080</td>\n",
       "      <td>964201</td>\n",
       "      <td>0.45</td>\n",
       "    </tr>\n",
       "    <tr>\n",
       "      <th>1</th>\n",
       "      <td>Alaska</td>\n",
       "      <td>AK</td>\n",
       "      <td>0.71</td>\n",
       "      <td>25.2</td>\n",
       "      <td>26.0</td>\n",
       "      <td>2.93</td>\n",
       "      <td>12.5</td>\n",
       "      <td>2.05</td>\n",
       "      <td>0</td>\n",
       "      <td>0</td>\n",
       "      <td>0</td>\n",
       "      <td>0</td>\n",
       "      <td>0.00</td>\n",
       "    </tr>\n",
       "    <tr>\n",
       "      <th>2</th>\n",
       "      <td>Arizona</td>\n",
       "      <td>AZ</td>\n",
       "      <td>6.33</td>\n",
       "      <td>25.8</td>\n",
       "      <td>20.3</td>\n",
       "      <td>0.98</td>\n",
       "      <td>10.8</td>\n",
       "      <td>0.74</td>\n",
       "      <td>18</td>\n",
       "      <td>0</td>\n",
       "      <td>0</td>\n",
       "      <td>0</td>\n",
       "      <td>0.00</td>\n",
       "    </tr>\n",
       "    <tr>\n",
       "      <th>3</th>\n",
       "      <td>Arkansas</td>\n",
       "      <td>AR</td>\n",
       "      <td>2.92</td>\n",
       "      <td>24.3</td>\n",
       "      <td>26.4</td>\n",
       "      <td>1.70</td>\n",
       "      <td>13.5</td>\n",
       "      <td>1.22</td>\n",
       "      <td>41</td>\n",
       "      <td>1</td>\n",
       "      <td>111115</td>\n",
       "      <td>435450</td>\n",
       "      <td>0.26</td>\n",
       "    </tr>\n",
       "    <tr>\n",
       "      <th>4</th>\n",
       "      <td>California</td>\n",
       "      <td>CA</td>\n",
       "      <td>37.25</td>\n",
       "      <td>26.8</td>\n",
       "      <td>19.1</td>\n",
       "      <td>0.39</td>\n",
       "      <td>8.0</td>\n",
       "      <td>0.24</td>\n",
       "      <td>0</td>\n",
       "      <td>0</td>\n",
       "      <td>0</td>\n",
       "      <td>379994</td>\n",
       "      <td>0.00</td>\n",
       "    </tr>\n",
       "  </tbody>\n",
       "</table>\n",
       "</div>"
      ],
      "text/plain": [
       "     Location Loc  Population  MedianAgeMarriage  Marriage  Marriage SE  \\\n",
       "0     Alabama  AL        4.78               25.3      20.2         1.27   \n",
       "1      Alaska  AK        0.71               25.2      26.0         2.93   \n",
       "2     Arizona  AZ        6.33               25.8      20.3         0.98   \n",
       "3    Arkansas  AR        2.92               24.3      26.4         1.70   \n",
       "4  California  CA       37.25               26.8      19.1         0.39   \n",
       "\n",
       "   Divorce  Divorce SE  WaffleHouses  South  Slaves1860  Population1860  \\\n",
       "0     12.7        0.79           128      1      435080          964201   \n",
       "1     12.5        2.05             0      0           0               0   \n",
       "2     10.8        0.74            18      0           0               0   \n",
       "3     13.5        1.22            41      1      111115          435450   \n",
       "4      8.0        0.24             0      0           0          379994   \n",
       "\n",
       "   PropSlaves1860  \n",
       "0            0.45  \n",
       "1            0.00  \n",
       "2            0.00  \n",
       "3            0.26  \n",
       "4            0.00  "
      ]
     },
     "execution_count": 3,
     "metadata": {},
     "output_type": "execute_result"
    }
   ],
   "source": [
    "waffle_df = pd.read_csv(\"../data/WaffleDivorce.csv\", delimiter=\";\")\n",
    "waffle_df.head()"
   ]
  },
  {
   "cell_type": "code",
   "execution_count": 4,
   "id": "6514d967-893b-4a45-bec1-c0fe6c32ca60",
   "metadata": {},
   "outputs": [],
   "source": [
    "# since `South` is a binary variable we can stratify by it.\n",
    "data = {\"n\": waffle_df.shape[0]}\n",
    "\n",
    "for name in [\"WaffleHouses\", \"Divorce\"]:\n",
    "    d = waffle_df[name].to_numpy()\n",
    "    d = (d - d.mean()) / d.std()  # z-score\n",
    "    data[name] = d\n",
    "\n",
    "data[\"South\"] = waffle_df[\"South\"].to_numpy() + 1"
   ]
  },
  {
   "cell_type": "code",
   "execution_count": 5,
   "id": "3514a1c5-c4b6-45e3-ad87-2a21c2ba35c8",
   "metadata": {},
   "outputs": [],
   "source": [
    "# workaround to make stan run in jupyter\n",
    "# https://pystan.readthedocs.io/en/latest/faq.html#how-can-i-use-pystan-with-jupyter-notebook-or-jupyterlab\n",
    "import nest_asyncio\n",
    "\n",
    "nest_asyncio.apply()\n",
    "del nest_asyncio\n",
    "\n",
    "import stan\n",
    "\n",
    "from statreth.utils import suppress_subprocess_output"
   ]
  },
  {
   "cell_type": "code",
   "execution_count": 6,
   "id": "f21df82f-214f-48ed-801c-52d6927b90e0",
   "metadata": {},
   "outputs": [],
   "source": [
    "# build model: Divorce = f(WaffleHouses, South)\n",
    "code = \"\"\"\n",
    "data {\n",
    "  int<lower=0> n;\n",
    "  vector[n] WaffleHouses;\n",
    "  vector[n] Divorce;\n",
    "  array[n] int South;\n",
    "}\n",
    "parameters {\n",
    "  vector[2] alpha;\n",
    "  vector[2] betaW;\n",
    "  real<lower=0> sigma;\n",
    "}\n",
    "model {\n",
    "  // priors\n",
    "  alpha ~ normal(0, 0.2);\n",
    "  betaW ~ normal(0, 0.5);\n",
    "  sigma ~ exponential(1);\n",
    "\n",
    "  // likelihood\n",
    "  for (i in 1:n) {\n",
    "      real mu = alpha[South[i]] + betaW[South[i]] * WaffleHouses[i];\n",
    "      Divorce[i] ~ normal(mu, sigma);\n",
    "  }  \n",
    "}\n",
    "\"\"\""
   ]
  },
  {
   "cell_type": "code",
   "execution_count": 7,
   "id": "a4485edf-5b3f-4cef-8042-e037d14e8278",
   "metadata": {},
   "outputs": [],
   "source": [
    "%%capture\n",
    "with suppress_subprocess_output():\n",
    "    model = stan.build(code, data=data, random_seed=42)"
   ]
  },
  {
   "cell_type": "code",
   "execution_count": 8,
   "id": "9330b961-02f7-4bc3-b963-90d7f1571604",
   "metadata": {},
   "outputs": [],
   "source": [
    "%%capture\n",
    "fit = model.sample(num_chains=4, num_samples=1000)"
   ]
  },
  {
   "cell_type": "code",
   "execution_count": 9,
   "id": "2d5d20cb-05dc-4242-8d80-da1930d99a5c",
   "metadata": {},
   "outputs": [
    {
     "data": {
      "text/html": [
       "<div>\n",
       "<style scoped>\n",
       "    .dataframe tbody tr th:only-of-type {\n",
       "        vertical-align: middle;\n",
       "    }\n",
       "\n",
       "    .dataframe tbody tr th {\n",
       "        vertical-align: top;\n",
       "    }\n",
       "\n",
       "    .dataframe thead th {\n",
       "        text-align: right;\n",
       "    }\n",
       "</style>\n",
       "<table border=\"1\" class=\"dataframe\">\n",
       "  <thead>\n",
       "    <tr style=\"text-align: right;\">\n",
       "      <th></th>\n",
       "      <th>count</th>\n",
       "      <th>mean</th>\n",
       "      <th>std</th>\n",
       "      <th>min</th>\n",
       "      <th>25%</th>\n",
       "      <th>50%</th>\n",
       "      <th>75%</th>\n",
       "      <th>max</th>\n",
       "    </tr>\n",
       "    <tr>\n",
       "      <th>parameters</th>\n",
       "      <th></th>\n",
       "      <th></th>\n",
       "      <th></th>\n",
       "      <th></th>\n",
       "      <th></th>\n",
       "      <th></th>\n",
       "      <th></th>\n",
       "      <th></th>\n",
       "    </tr>\n",
       "  </thead>\n",
       "  <tbody>\n",
       "    <tr>\n",
       "      <th>alpha.1</th>\n",
       "      <td>4000.0</td>\n",
       "      <td>-0.043218</td>\n",
       "      <td>0.157898</td>\n",
       "      <td>-0.638386</td>\n",
       "      <td>-0.154320</td>\n",
       "      <td>-0.043923</td>\n",
       "      <td>0.063959</td>\n",
       "      <td>0.539787</td>\n",
       "    </tr>\n",
       "    <tr>\n",
       "      <th>alpha.2</th>\n",
       "      <td>4000.0</td>\n",
       "      <td>0.158292</td>\n",
       "      <td>0.173743</td>\n",
       "      <td>-0.537430</td>\n",
       "      <td>0.039926</td>\n",
       "      <td>0.155661</td>\n",
       "      <td>0.274496</td>\n",
       "      <td>0.813496</td>\n",
       "    </tr>\n",
       "    <tr>\n",
       "      <th>betaW.1</th>\n",
       "      <td>4000.0</td>\n",
       "      <td>0.327496</td>\n",
       "      <td>0.362218</td>\n",
       "      <td>-1.266717</td>\n",
       "      <td>0.082062</td>\n",
       "      <td>0.328147</td>\n",
       "      <td>0.569957</td>\n",
       "      <td>1.632568</td>\n",
       "    </tr>\n",
       "    <tr>\n",
       "      <th>betaW.2</th>\n",
       "      <td>4000.0</td>\n",
       "      <td>0.122891</td>\n",
       "      <td>0.153071</td>\n",
       "      <td>-0.458077</td>\n",
       "      <td>0.019124</td>\n",
       "      <td>0.121111</td>\n",
       "      <td>0.225561</td>\n",
       "      <td>0.688145</td>\n",
       "    </tr>\n",
       "    <tr>\n",
       "      <th>sigma</th>\n",
       "      <td>4000.0</td>\n",
       "      <td>0.981612</td>\n",
       "      <td>0.101794</td>\n",
       "      <td>0.719736</td>\n",
       "      <td>0.910364</td>\n",
       "      <td>0.973454</td>\n",
       "      <td>1.042198</td>\n",
       "      <td>1.408196</td>\n",
       "    </tr>\n",
       "  </tbody>\n",
       "</table>\n",
       "</div>"
      ],
      "text/plain": [
       "             count      mean       std       min       25%       50%  \\\n",
       "parameters                                                             \n",
       "alpha.1     4000.0 -0.043218  0.157898 -0.638386 -0.154320 -0.043923   \n",
       "alpha.2     4000.0  0.158292  0.173743 -0.537430  0.039926  0.155661   \n",
       "betaW.1     4000.0  0.327496  0.362218 -1.266717  0.082062  0.328147   \n",
       "betaW.2     4000.0  0.122891  0.153071 -0.458077  0.019124  0.121111   \n",
       "sigma       4000.0  0.981612  0.101794  0.719736  0.910364  0.973454   \n",
       "\n",
       "                 75%       max  \n",
       "parameters                      \n",
       "alpha.1     0.063959  0.539787  \n",
       "alpha.2     0.274496  0.813496  \n",
       "betaW.1     0.569957  1.632568  \n",
       "betaW.2     0.225561  0.688145  \n",
       "sigma       1.042198  1.408196  "
      ]
     },
     "execution_count": 9,
     "metadata": {},
     "output_type": "execute_result"
    }
   ],
   "source": [
    "fit_df = fit.to_frame()[[\"alpha.1\", \"alpha.2\", \"betaW.1\", \"betaW.2\", \"sigma\"]]\n",
    "fit_df.describe().T"
   ]
  },
  {
   "cell_type": "code",
   "execution_count": 10,
   "id": "042d3dde-a333-4534-bc06-fc20db963a13",
   "metadata": {},
   "outputs": [
    {
     "data": {
      "application/vnd.vegalite.v5+json": {
       "$schema": "https://vega.github.io/schema/vega-lite/v5.20.1.json",
       "config": {
        "view": {
         "continuousHeight": 300,
         "continuousWidth": 300
        }
       },
       "data": {
        "name": "data-6b7370f21a3ec2fae2a1a924185df173"
       },
       "datasets": {
        "data-6b7370f21a3ec2fae2a1a924185df173": [
         {
          "param": "alpha.1",
          "value": 0.2401884207689029
         },
         {
          "param": "alpha.1",
          "value": 0.20190861988823056
         },
         {
          "param": "alpha.1",
          "value": 0.1487163351451165
         },
         {
          "param": "alpha.1",
          "value": 0.012111191807285801
         },
         {
          "param": "alpha.1",
          "value": -0.2910016915036635
         },
         {
          "param": "alpha.1",
          "value": -0.06362911798903413
         },
         {
          "param": "alpha.1",
          "value": -0.031490281928721234
         },
         {
          "param": "alpha.1",
          "value": 0.12526700411217273
         },
         {
          "param": "alpha.1",
          "value": -0.09014475203691402
         },
         {
          "param": "alpha.1",
          "value": -0.23838489625819223
         },
         {
          "param": "alpha.1",
          "value": -0.025560526124996586
         },
         {
          "param": "alpha.1",
          "value": 0.014805986370210703
         },
         {
          "param": "alpha.1",
          "value": -0.21397573246609183
         },
         {
          "param": "alpha.1",
          "value": -0.06382957997791738
         },
         {
          "param": "alpha.1",
          "value": 0.10783638615330463
         },
         {
          "param": "alpha.1",
          "value": 0.28353421889523966
         },
         {
          "param": "alpha.1",
          "value": -0.15095126426668998
         },
         {
          "param": "alpha.1",
          "value": -0.16446545307239874
         },
         {
          "param": "alpha.1",
          "value": 0.30753420605998627
         },
         {
          "param": "alpha.1",
          "value": 0.4598934706711669
         },
         {
          "param": "alpha.1",
          "value": 0.22800409613645517
         },
         {
          "param": "alpha.1",
          "value": 0.11409884144493479
         },
         {
          "param": "alpha.1",
          "value": 0.49058066080151286
         },
         {
          "param": "alpha.1",
          "value": 0.06261580616968643
         },
         {
          "param": "alpha.1",
          "value": 0.04628955620703007
         },
         {
          "param": "alpha.1",
          "value": 0.03727114684299959
         },
         {
          "param": "alpha.1",
          "value": 0.32405958344063596
         },
         {
          "param": "alpha.1",
          "value": 0.21793206433802004
         },
         {
          "param": "alpha.1",
          "value": 0.02489848513700378
         },
         {
          "param": "alpha.1",
          "value": 0.012227984014893271
         },
         {
          "param": "alpha.1",
          "value": -0.2618466030236999
         },
         {
          "param": "alpha.1",
          "value": -0.19121657582826085
         },
         {
          "param": "alpha.1",
          "value": -0.001855567746599951
         },
         {
          "param": "alpha.1",
          "value": -0.304371181486378
         },
         {
          "param": "alpha.1",
          "value": -0.01612776647291575
         },
         {
          "param": "alpha.1",
          "value": -0.14176393231950257
         },
         {
          "param": "alpha.1",
          "value": -0.058283955874242545
         },
         {
          "param": "alpha.1",
          "value": -0.06160553851672235
         },
         {
          "param": "alpha.1",
          "value": -0.19514245436614458
         },
         {
          "param": "alpha.1",
          "value": 0.3308326476200907
         },
         {
          "param": "alpha.1",
          "value": 0.17046134078893582
         },
         {
          "param": "alpha.1",
          "value": -0.32064379781289876
         },
         {
          "param": "alpha.1",
          "value": -0.1605731409594943
         },
         {
          "param": "alpha.1",
          "value": 0.28068584007653535
         },
         {
          "param": "alpha.1",
          "value": 0.1304264661564779
         },
         {
          "param": "alpha.1",
          "value": -0.2327057746730024
         },
         {
          "param": "alpha.1",
          "value": 0.03739801266745271
         },
         {
          "param": "alpha.1",
          "value": 0.03267190983945145
         },
         {
          "param": "alpha.1",
          "value": -0.35757352967655265
         },
         {
          "param": "alpha.1",
          "value": 0.35415247661095206
         },
         {
          "param": "alpha.1",
          "value": 0.16353095335065887
         },
         {
          "param": "alpha.1",
          "value": -0.3087820340230057
         },
         {
          "param": "alpha.1",
          "value": -0.3255000045988851
         },
         {
          "param": "alpha.1",
          "value": 0.33337261970917226
         },
         {
          "param": "alpha.1",
          "value": 0.060060915305529344
         },
         {
          "param": "alpha.1",
          "value": -0.3545595317259998
         },
         {
          "param": "alpha.1",
          "value": 0.10586984053789766
         },
         {
          "param": "alpha.1",
          "value": -0.2721222605463133
         },
         {
          "param": "alpha.1",
          "value": -0.022547291138451553
         },
         {
          "param": "alpha.1",
          "value": 0.3475932129263567
         },
         {
          "param": "alpha.1",
          "value": -0.12565291745448454
         },
         {
          "param": "alpha.1",
          "value": -0.21870054965139576
         },
         {
          "param": "alpha.1",
          "value": 0.3304966066025903
         },
         {
          "param": "alpha.1",
          "value": 0.182618634360664
         },
         {
          "param": "alpha.1",
          "value": 0.010160085472969663
         },
         {
          "param": "alpha.1",
          "value": -0.1275757281004294
         },
         {
          "param": "alpha.1",
          "value": -0.2871879270954244
         },
         {
          "param": "alpha.1",
          "value": -0.1444170302212131
         },
         {
          "param": "alpha.1",
          "value": -0.00897001774401833
         },
         {
          "param": "alpha.1",
          "value": -0.09311384743837373
         },
         {
          "param": "alpha.1",
          "value": 0.11069703995674443
         },
         {
          "param": "alpha.1",
          "value": 0.003254503105035042
         },
         {
          "param": "alpha.1",
          "value": 0.1029704087082863
         },
         {
          "param": "alpha.1",
          "value": -0.15328702830535967
         },
         {
          "param": "alpha.1",
          "value": -0.33350178715272855
         },
         {
          "param": "alpha.1",
          "value": 0.019261229566963155
         },
         {
          "param": "alpha.1",
          "value": -0.2514976173901672
         },
         {
          "param": "alpha.1",
          "value": -0.004433042103516319
         },
         {
          "param": "alpha.1",
          "value": -0.12720661096724767
         },
         {
          "param": "alpha.1",
          "value": -0.11427195376042645
         },
         {
          "param": "alpha.1",
          "value": -0.032920631039948356
         },
         {
          "param": "alpha.1",
          "value": 0.09713454999763772
         },
         {
          "param": "alpha.1",
          "value": 0.22222237060427003
         },
         {
          "param": "alpha.1",
          "value": -0.13322761264976216
         },
         {
          "param": "alpha.1",
          "value": 0.01496335429404761
         },
         {
          "param": "alpha.1",
          "value": -0.1200789103347077
         },
         {
          "param": "alpha.1",
          "value": -0.014048825196651737
         },
         {
          "param": "alpha.1",
          "value": -0.1145845797717356
         },
         {
          "param": "alpha.1",
          "value": 0.01211551766641699
         },
         {
          "param": "alpha.1",
          "value": -0.17873527177699214
         },
         {
          "param": "alpha.1",
          "value": -0.04028292974815251
         },
         {
          "param": "alpha.1",
          "value": -0.15717123101772829
         },
         {
          "param": "alpha.1",
          "value": 0.01211551766641699
         },
         {
          "param": "alpha.1",
          "value": 0.11311787244161672
         },
         {
          "param": "alpha.1",
          "value": 0.003215224593131033
         },
         {
          "param": "alpha.1",
          "value": 0.06787288879752076
         },
         {
          "param": "alpha.1",
          "value": -0.08515822524299982
         },
         {
          "param": "alpha.1",
          "value": 0.031720811576604224
         },
         {
          "param": "alpha.1",
          "value": -0.06311380488461377
         },
         {
          "param": "alpha.1",
          "value": -0.10828503230279737
         },
         {
          "param": "alpha.1",
          "value": -0.19081988343590925
         },
         {
          "param": "alpha.1",
          "value": -0.004440950729913337
         },
         {
          "param": "alpha.1",
          "value": -0.07998922051073827
         },
         {
          "param": "alpha.1",
          "value": -0.47327929570772376
         },
         {
          "param": "alpha.1",
          "value": -0.15563674069178385
         },
         {
          "param": "alpha.1",
          "value": -0.21571563329062254
         },
         {
          "param": "alpha.1",
          "value": -0.041642905127523035
         },
         {
          "param": "alpha.1",
          "value": -0.1935076949621941
         },
         {
          "param": "alpha.1",
          "value": -0.3426313407501631
         },
         {
          "param": "alpha.1",
          "value": -0.04993841066088425
         },
         {
          "param": "alpha.1",
          "value": -0.05047115102856431
         },
         {
          "param": "alpha.1",
          "value": -0.055170795195914835
         },
         {
          "param": "alpha.1",
          "value": -0.1982839417842454
         },
         {
          "param": "alpha.1",
          "value": -0.05184358892910221
         },
         {
          "param": "alpha.1",
          "value": 0.1322015985268969
         },
         {
          "param": "alpha.1",
          "value": 0.17788354735495523
         },
         {
          "param": "alpha.1",
          "value": 0.13761836628956553
         },
         {
          "param": "alpha.1",
          "value": 0.1695522625781321
         },
         {
          "param": "alpha.1",
          "value": -0.022580603621176504
         },
         {
          "param": "alpha.1",
          "value": -0.11660689222870028
         },
         {
          "param": "alpha.1",
          "value": 0.03358936175285837
         },
         {
          "param": "alpha.1",
          "value": 0.002813592490372413
         },
         {
          "param": "alpha.1",
          "value": 0.05130194877372962
         },
         {
          "param": "alpha.1",
          "value": 0.021071907058456643
         },
         {
          "param": "alpha.1",
          "value": -0.02348222352697807
         },
         {
          "param": "alpha.1",
          "value": -0.14208480678789362
         },
         {
          "param": "alpha.1",
          "value": -0.09712450714022297
         },
         {
          "param": "alpha.1",
          "value": 0.069531158994973
         },
         {
          "param": "alpha.1",
          "value": -0.11992870590962669
         },
         {
          "param": "alpha.1",
          "value": -0.17020658849473283
         },
         {
          "param": "alpha.1",
          "value": -0.03840951529974341
         },
         {
          "param": "alpha.1",
          "value": 0.15492652302536153
         },
         {
          "param": "alpha.1",
          "value": -0.13137000223550446
         },
         {
          "param": "alpha.1",
          "value": -0.11605214382310772
         },
         {
          "param": "alpha.1",
          "value": 0.06312575307773816
         },
         {
          "param": "alpha.1",
          "value": 0.0011767056616334426
         },
         {
          "param": "alpha.1",
          "value": 0.02089776075424482
         },
         {
          "param": "alpha.1",
          "value": 0.19278767974505348
         },
         {
          "param": "alpha.1",
          "value": -0.030595459481506354
         },
         {
          "param": "alpha.1",
          "value": -0.05300740328630644
         },
         {
          "param": "alpha.1",
          "value": -0.12072479415230303
         },
         {
          "param": "alpha.1",
          "value": -0.36894293197788136
         },
         {
          "param": "alpha.1",
          "value": 0.12063533144667116
         },
         {
          "param": "alpha.1",
          "value": 0.3187973425202979
         },
         {
          "param": "alpha.1",
          "value": -0.08034655642919103
         },
         {
          "param": "alpha.1",
          "value": 0.0012466558001769032
         },
         {
          "param": "alpha.1",
          "value": 0.016415283613410783
         },
         {
          "param": "alpha.1",
          "value": 0.18410163158376291
         },
         {
          "param": "alpha.1",
          "value": -0.027927209573862154
         },
         {
          "param": "alpha.1",
          "value": -0.09698236956108683
         },
         {
          "param": "alpha.1",
          "value": 0.03186769064752879
         },
         {
          "param": "alpha.1",
          "value": -0.10543522805917908
         },
         {
          "param": "alpha.1",
          "value": 0.014432019473204938
         },
         {
          "param": "alpha.1",
          "value": -0.09426660886757
         },
         {
          "param": "alpha.1",
          "value": -0.013445321652691793
         },
         {
          "param": "alpha.1",
          "value": -0.05637303340808436
         },
         {
          "param": "alpha.1",
          "value": -0.1858781888252981
         },
         {
          "param": "alpha.1",
          "value": 0.0410116667859853
         },
         {
          "param": "alpha.1",
          "value": -0.11514165439664203
         },
         {
          "param": "alpha.1",
          "value": -0.13353096134633047
         },
         {
          "param": "alpha.1",
          "value": 0.04189074874740603
         },
         {
          "param": "alpha.1",
          "value": -0.016168217260432813
         },
         {
          "param": "alpha.1",
          "value": 0.01770325097781561
         },
         {
          "param": "alpha.1",
          "value": 0.06707012248646885
         },
         {
          "param": "alpha.1",
          "value": -0.2915690718178555
         },
         {
          "param": "alpha.1",
          "value": -0.16842043463656553
         },
         {
          "param": "alpha.1",
          "value": 0.16911169751888214
         },
         {
          "param": "alpha.1",
          "value": 0.060755102221132305
         },
         {
          "param": "alpha.1",
          "value": -0.17201101618549913
         },
         {
          "param": "alpha.1",
          "value": 0.06790280928116163
         },
         {
          "param": "alpha.1",
          "value": 0.11260448704582342
         },
         {
          "param": "alpha.1",
          "value": -0.02585558134873936
         },
         {
          "param": "alpha.1",
          "value": 0.03028016902002542
         },
         {
          "param": "alpha.1",
          "value": 0.03899752250534458
         },
         {
          "param": "alpha.1",
          "value": -0.2379725702960881
         },
         {
          "param": "alpha.1",
          "value": 0.190750089224842
         },
         {
          "param": "alpha.1",
          "value": 0.05710244758805132
         },
         {
          "param": "alpha.1",
          "value": 0.08645910729826631
         },
         {
          "param": "alpha.1",
          "value": 0.12630185503275532
         },
         {
          "param": "alpha.1",
          "value": 0.0012659110106353205
         },
         {
          "param": "alpha.1",
          "value": 0.05710244758805132
         },
         {
          "param": "alpha.1",
          "value": 0.024341903438614622
         },
         {
          "param": "alpha.1",
          "value": 0.17095421802242466
         },
         {
          "param": "alpha.1",
          "value": -0.1936366519728444
         },
         {
          "param": "alpha.1",
          "value": -0.034197438059664374
         },
         {
          "param": "alpha.1",
          "value": -0.1472917936647536
         },
         {
          "param": "alpha.1",
          "value": -0.17912756302921803
         },
         {
          "param": "alpha.1",
          "value": -0.0184016399204704
         },
         {
          "param": "alpha.1",
          "value": -0.0387956096046041
         },
         {
          "param": "alpha.1",
          "value": -0.06775293050224632
         },
         {
          "param": "alpha.1",
          "value": -0.018222364186241402
         },
         {
          "param": "alpha.1",
          "value": -0.19560723048643816
         },
         {
          "param": "alpha.1",
          "value": 0.2190709118926115
         },
         {
          "param": "alpha.1",
          "value": 0.07504690477592761
         },
         {
          "param": "alpha.1",
          "value": -0.06814621036147059
         },
         {
          "param": "alpha.1",
          "value": -0.022440364830001322
         },
         {
          "param": "alpha.1",
          "value": -0.06719034938560522
         },
         {
          "param": "alpha.1",
          "value": 0.20896318730066615
         },
         {
          "param": "alpha.1",
          "value": -0.0507089899207705
         },
         {
          "param": "alpha.1",
          "value": -0.1739560810020141
         },
         {
          "param": "alpha.1",
          "value": 0.025356419170963887
         },
         {
          "param": "alpha.1",
          "value": 0.1483703595879622
         },
         {
          "param": "alpha.1",
          "value": -0.07162002777682791
         },
         {
          "param": "alpha.1",
          "value": -0.10163640919953026
         },
         {
          "param": "alpha.1",
          "value": -0.027027933970082678
         },
         {
          "param": "alpha.1",
          "value": -0.06925907690743187
         },
         {
          "param": "alpha.1",
          "value": -0.07379242356072269
         },
         {
          "param": "alpha.1",
          "value": -0.11876559988996067
         },
         {
          "param": "alpha.1",
          "value": 0.058060165737364555
         },
         {
          "param": "alpha.1",
          "value": -0.03915397106363668
         },
         {
          "param": "alpha.1",
          "value": -0.16109757467869237
         },
         {
          "param": "alpha.1",
          "value": -0.17300814588091692
         },
         {
          "param": "alpha.1",
          "value": -0.2013868103058225
         },
         {
          "param": "alpha.1",
          "value": -0.07831429096413683
         },
         {
          "param": "alpha.1",
          "value": -0.016747484130546317
         },
         {
          "param": "alpha.1",
          "value": 0.031524967799520826
         },
         {
          "param": "alpha.1",
          "value": -0.30509366155719764
         },
         {
          "param": "alpha.1",
          "value": -0.33967031061867986
         },
         {
          "param": "alpha.1",
          "value": 0.09144045131955697
         },
         {
          "param": "alpha.1",
          "value": -0.17704867725677806
         },
         {
          "param": "alpha.1",
          "value": -0.1407199818686715
         },
         {
          "param": "alpha.1",
          "value": 0.2034915161884311
         },
         {
          "param": "alpha.1",
          "value": 0.06754903089431313
         },
         {
          "param": "alpha.1",
          "value": -0.0008968280943169316
         },
         {
          "param": "alpha.1",
          "value": 0.06865713514277515
         },
         {
          "param": "alpha.1",
          "value": 0.12159024116659639
         },
         {
          "param": "alpha.1",
          "value": -0.012698136593173842
         },
         {
          "param": "alpha.1",
          "value": 0.13017207918050483
         },
         {
          "param": "alpha.1",
          "value": -0.2211141758962158
         },
         {
          "param": "alpha.1",
          "value": 0.06253795648365931
         },
         {
          "param": "alpha.1",
          "value": -0.05285355859562092
         },
         {
          "param": "alpha.1",
          "value": 0.06029427740257379
         },
         {
          "param": "alpha.1",
          "value": -0.03065800676260854
         },
         {
          "param": "alpha.1",
          "value": -0.22641386666803826
         },
         {
          "param": "alpha.1",
          "value": 0.022389226167216503
         },
         {
          "param": "alpha.1",
          "value": 0.0539545526860859
         },
         {
          "param": "alpha.1",
          "value": 0.08158341939935948
         },
         {
          "param": "alpha.1",
          "value": -0.07063632262890418
         },
         {
          "param": "alpha.1",
          "value": -0.023632747286239902
         },
         {
          "param": "alpha.1",
          "value": 0.010322059716870564
         },
         {
          "param": "alpha.1",
          "value": -0.23949954754372427
         },
         {
          "param": "alpha.1",
          "value": 0.00971446615083
         },
         {
          "param": "alpha.1",
          "value": -0.1548945775991532
         },
         {
          "param": "alpha.1",
          "value": -0.06816843527392696
         },
         {
          "param": "alpha.1",
          "value": -0.2635099377056613
         },
         {
          "param": "alpha.1",
          "value": -0.08429176280492826
         },
         {
          "param": "alpha.1",
          "value": -0.20180237204882595
         },
         {
          "param": "alpha.1",
          "value": -0.22435417597360835
         },
         {
          "param": "alpha.1",
          "value": -0.30890768368596244
         },
         {
          "param": "alpha.1",
          "value": -0.03844746008554503
         },
         {
          "param": "alpha.1",
          "value": 0.21017914577142477
         },
         {
          "param": "alpha.1",
          "value": -0.11832816026304209
         },
         {
          "param": "alpha.1",
          "value": 0.040082022953436214
         },
         {
          "param": "alpha.1",
          "value": 0.05678110778194956
         },
         {
          "param": "alpha.1",
          "value": -0.208403259800697
         },
         {
          "param": "alpha.1",
          "value": -0.24878542307241716
         },
         {
          "param": "alpha.1",
          "value": -0.04307986228669283
         },
         {
          "param": "alpha.1",
          "value": -0.2340859921818668
         },
         {
          "param": "alpha.1",
          "value": 0.018190132540699427
         },
         {
          "param": "alpha.1",
          "value": -0.1556632019147161
         },
         {
          "param": "alpha.1",
          "value": 0.08264113060216295
         },
         {
          "param": "alpha.1",
          "value": -0.09133777723267372
         },
         {
          "param": "alpha.1",
          "value": -0.020183887788316777
         },
         {
          "param": "alpha.1",
          "value": -0.28286520423713624
         },
         {
          "param": "alpha.1",
          "value": -0.333109717257359
         },
         {
          "param": "alpha.1",
          "value": 0.1980581910315887
         },
         {
          "param": "alpha.1",
          "value": -0.02663733538681179
         },
         {
          "param": "alpha.1",
          "value": -0.05647112984067331
         },
         {
          "param": "alpha.1",
          "value": -0.1610688059712618
         },
         {
          "param": "alpha.1",
          "value": 0.12987559326967568
         },
         {
          "param": "alpha.1",
          "value": -0.13788550479157669
         },
         {
          "param": "alpha.1",
          "value": -0.3038764922783662
         },
         {
          "param": "alpha.1",
          "value": -0.10220140839319536
         },
         {
          "param": "alpha.1",
          "value": -0.29930067663042026
         },
         {
          "param": "alpha.1",
          "value": -0.013976389034542128
         },
         {
          "param": "alpha.1",
          "value": -0.03245623174255264
         },
         {
          "param": "alpha.1",
          "value": -0.11892871761660337
         },
         {
          "param": "alpha.1",
          "value": -0.04479932190441166
         },
         {
          "param": "alpha.1",
          "value": -0.015108001900506325
         },
         {
          "param": "alpha.1",
          "value": 0.01795032959344034
         },
         {
          "param": "alpha.1",
          "value": -0.18005106288862824
         },
         {
          "param": "alpha.1",
          "value": -0.019671873787165894
         },
         {
          "param": "alpha.1",
          "value": 0.04745501078787112
         },
         {
          "param": "alpha.1",
          "value": -0.09072225524124111
         },
         {
          "param": "alpha.1",
          "value": -0.15183295867422408
         },
         {
          "param": "alpha.1",
          "value": 0.05864033378149854
         },
         {
          "param": "alpha.1",
          "value": 0.015953476285654043
         },
         {
          "param": "alpha.1",
          "value": -0.06707083977893762
         },
         {
          "param": "alpha.1",
          "value": -0.23546184282136898
         },
         {
          "param": "alpha.1",
          "value": -0.06970152361415216
         },
         {
          "param": "alpha.1",
          "value": 0.18032669380865457
         },
         {
          "param": "alpha.1",
          "value": 0.022830712836290307
         },
         {
          "param": "alpha.1",
          "value": 0.15391995808549858
         },
         {
          "param": "alpha.1",
          "value": -0.18374164171367618
         },
         {
          "param": "alpha.1",
          "value": -0.07095891041804098
         },
         {
          "param": "alpha.1",
          "value": -0.28674411510928294
         },
         {
          "param": "alpha.1",
          "value": 0.020955849287364964
         },
         {
          "param": "alpha.1",
          "value": -0.05317959980238042
         },
         {
          "param": "alpha.1",
          "value": -0.23923730376233723
         },
         {
          "param": "alpha.1",
          "value": -0.01562565183623399
         },
         {
          "param": "alpha.1",
          "value": -0.06701768639070302
         },
         {
          "param": "alpha.1",
          "value": -0.2765880223617608
         },
         {
          "param": "alpha.1",
          "value": -0.03397952196232161
         },
         {
          "param": "alpha.1",
          "value": -0.20729038840096564
         },
         {
          "param": "alpha.1",
          "value": -0.17077006084773128
         },
         {
          "param": "alpha.1",
          "value": 0.10143130882657353
         },
         {
          "param": "alpha.1",
          "value": -0.003712650034807509
         },
         {
          "param": "alpha.1",
          "value": 0.19180436785163557
         },
         {
          "param": "alpha.1",
          "value": 0.04818974264517714
         },
         {
          "param": "alpha.1",
          "value": 0.09429670604529305
         },
         {
          "param": "alpha.1",
          "value": -0.22434769419016004
         },
         {
          "param": "alpha.1",
          "value": -0.1008085222442555
         },
         {
          "param": "alpha.1",
          "value": -0.0696002530208547
         },
         {
          "param": "alpha.1",
          "value": -0.020507299385035586
         },
         {
          "param": "alpha.1",
          "value": -0.01400401314866298
         },
         {
          "param": "alpha.1",
          "value": -0.24885371011483615
         },
         {
          "param": "alpha.1",
          "value": -0.024067201798363677
         },
         {
          "param": "alpha.1",
          "value": -0.18020649636656075
         },
         {
          "param": "alpha.1",
          "value": -0.054369435531000786
         },
         {
          "param": "alpha.1",
          "value": 0.08827906539688052
         },
         {
          "param": "alpha.1",
          "value": 0.000427542136260433
         },
         {
          "param": "alpha.1",
          "value": -0.03282681270580308
         },
         {
          "param": "alpha.1",
          "value": -0.03650366750004204
         },
         {
          "param": "alpha.1",
          "value": -0.3664863244170369
         },
         {
          "param": "alpha.1",
          "value": -0.11492114100284856
         },
         {
          "param": "alpha.1",
          "value": -0.0868778880027845
         },
         {
          "param": "alpha.1",
          "value": -0.11698066866723282
         },
         {
          "param": "alpha.1",
          "value": 0.26281907872562116
         },
         {
          "param": "alpha.1",
          "value": -0.1693930273862301
         },
         {
          "param": "alpha.1",
          "value": -0.06533305097443393
         },
         {
          "param": "alpha.1",
          "value": -0.09490084468373783
         },
         {
          "param": "alpha.1",
          "value": 0.014528241690993648
         },
         {
          "param": "alpha.1",
          "value": -0.011192126318674167
         },
         {
          "param": "alpha.1",
          "value": 0.16766792147411141
         },
         {
          "param": "alpha.1",
          "value": 0.010667723574649048
         },
         {
          "param": "alpha.1",
          "value": 0.07647439739313167
         },
         {
          "param": "alpha.1",
          "value": -0.07230605321413147
         },
         {
          "param": "alpha.1",
          "value": 0.005048824866785248
         },
         {
          "param": "alpha.1",
          "value": -0.035156786331514825
         },
         {
          "param": "alpha.1",
          "value": -0.21935098759443988
         },
         {
          "param": "alpha.1",
          "value": 0.11888944614752556
         },
         {
          "param": "alpha.1",
          "value": 0.13204503121795974
         },
         {
          "param": "alpha.1",
          "value": -0.22796288767649686
         },
         {
          "param": "alpha.1",
          "value": -0.24449159020483968
         },
         {
          "param": "alpha.1",
          "value": 0.1956045559195201
         },
         {
          "param": "alpha.1",
          "value": -0.29726866849574723
         },
         {
          "param": "alpha.1",
          "value": 0.20429585764963115
         },
         {
          "param": "alpha.1",
          "value": -0.12765058728771697
         },
         {
          "param": "alpha.1",
          "value": -0.02462524637601783
         },
         {
          "param": "alpha.1",
          "value": 0.24351694297150142
         },
         {
          "param": "alpha.1",
          "value": 0.17397526887878742
         },
         {
          "param": "alpha.1",
          "value": -0.12420733025956518
         },
         {
          "param": "alpha.1",
          "value": -0.08697104403365104
         },
         {
          "param": "alpha.1",
          "value": 0.2640714016689909
         },
         {
          "param": "alpha.1",
          "value": 0.14136050223296437
         },
         {
          "param": "alpha.1",
          "value": 0.1683864845879317
         },
         {
          "param": "alpha.1",
          "value": 0.1803454845586415
         },
         {
          "param": "alpha.1",
          "value": -0.06487216008046223
         },
         {
          "param": "alpha.1",
          "value": 0.03848554314345673
         },
         {
          "param": "alpha.1",
          "value": 0.0005971628689652522
         },
         {
          "param": "alpha.1",
          "value": -0.014643047629749467
         },
         {
          "param": "alpha.1",
          "value": 0.10976765238376007
         },
         {
          "param": "alpha.1",
          "value": 0.006960564150153274
         },
         {
          "param": "alpha.1",
          "value": -0.05267955814810134
         },
         {
          "param": "alpha.1",
          "value": 0.2347144067915305
         },
         {
          "param": "alpha.1",
          "value": -0.1225368909398837
         },
         {
          "param": "alpha.1",
          "value": 0.0341239268933112
         },
         {
          "param": "alpha.1",
          "value": -0.02968096500748573
         },
         {
          "param": "alpha.1",
          "value": 0.09536641389800013
         },
         {
          "param": "alpha.1",
          "value": 0.06848779990335199
         },
         {
          "param": "alpha.1",
          "value": -0.09588107718177108
         },
         {
          "param": "alpha.1",
          "value": 0.0022901810221868726
         },
         {
          "param": "alpha.1",
          "value": -0.017409275495552587
         },
         {
          "param": "alpha.1",
          "value": -0.10985353910303225
         },
         {
          "param": "alpha.1",
          "value": -0.09588107718177108
         },
         {
          "param": "alpha.1",
          "value": 0.17880912822627362
         },
         {
          "param": "alpha.1",
          "value": -0.11653570157482591
         },
         {
          "param": "alpha.1",
          "value": -0.11490819838554457
         },
         {
          "param": "alpha.1",
          "value": -0.14177301304285048
         },
         {
          "param": "alpha.1",
          "value": -0.15215601890528588
         },
         {
          "param": "alpha.1",
          "value": 0.15814285863746308
         },
         {
          "param": "alpha.1",
          "value": -0.22467368270199878
         },
         {
          "param": "alpha.1",
          "value": -0.1579795158929696
         },
         {
          "param": "alpha.1",
          "value": -0.11376968833900711
         },
         {
          "param": "alpha.1",
          "value": -0.06365485564069734
         },
         {
          "param": "alpha.1",
          "value": -0.02749187490251992
         },
         {
          "param": "alpha.1",
          "value": 0.1209626654919216
         },
         {
          "param": "alpha.1",
          "value": -0.09905743747974705
         },
         {
          "param": "alpha.1",
          "value": 0.02284321814747048
         },
         {
          "param": "alpha.1",
          "value": -0.16528852156323293
         },
         {
          "param": "alpha.1",
          "value": -0.41978975575151856
         },
         {
          "param": "alpha.1",
          "value": -0.2285273994418786
         },
         {
          "param": "alpha.1",
          "value": 0.07839345723550115
         },
         {
          "param": "alpha.1",
          "value": -0.08986505729075848
         },
         {
          "param": "alpha.1",
          "value": 0.025396229251873806
         },
         {
          "param": "alpha.1",
          "value": 0.055242144076574476
         },
         {
          "param": "alpha.1",
          "value": -0.0470744809696922
         },
         {
          "param": "alpha.1",
          "value": -0.12234696744130356
         },
         {
          "param": "alpha.1",
          "value": -0.05502394108257705
         },
         {
          "param": "alpha.1",
          "value": -0.3603115622341628
         },
         {
          "param": "alpha.1",
          "value": -0.2517782644680873
         },
         {
          "param": "alpha.1",
          "value": -0.18219255714684832
         },
         {
          "param": "alpha.1",
          "value": 0.020920365766998447
         },
         {
          "param": "alpha.1",
          "value": -0.03929971483194149
         },
         {
          "param": "alpha.1",
          "value": 0.19215352093587748
         },
         {
          "param": "alpha.1",
          "value": 0.08554232688247254
         },
         {
          "param": "alpha.1",
          "value": -0.050612470003915506
         },
         {
          "param": "alpha.1",
          "value": 0.013366310885787776
         },
         {
          "param": "alpha.1",
          "value": 0.004329227651192091
         },
         {
          "param": "alpha.1",
          "value": -0.052704194941817564
         },
         {
          "param": "alpha.1",
          "value": 0.10221262632245647
         },
         {
          "param": "alpha.1",
          "value": 0.2291143438176868
         },
         {
          "param": "alpha.1",
          "value": -0.1680467500461837
         },
         {
          "param": "alpha.1",
          "value": -0.08661711519664708
         },
         {
          "param": "alpha.1",
          "value": -0.24812787002640646
         },
         {
          "param": "alpha.1",
          "value": -0.0781698263698973
         },
         {
          "param": "alpha.1",
          "value": -0.0744491432140788
         },
         {
          "param": "alpha.1",
          "value": -0.18695749795697275
         },
         {
          "param": "alpha.1",
          "value": 0.3039246295758855
         },
         {
          "param": "alpha.1",
          "value": -0.23278467414697673
         },
         {
          "param": "alpha.1",
          "value": 0.11713539352272907
         },
         {
          "param": "alpha.1",
          "value": -0.1846452336320474
         },
         {
          "param": "alpha.1",
          "value": 0.12410135913212986
         },
         {
          "param": "alpha.1",
          "value": -0.24404955265854994
         },
         {
          "param": "alpha.1",
          "value": 0.023704917714939197
         },
         {
          "param": "alpha.1",
          "value": -0.08266118823959542
         },
         {
          "param": "alpha.1",
          "value": 0.08793205791181184
         },
         {
          "param": "alpha.1",
          "value": -0.2982393297374362
         },
         {
          "param": "alpha.1",
          "value": -0.2280997822193005
         },
         {
          "param": "alpha.1",
          "value": -0.08771595526739634
         },
         {
          "param": "alpha.1",
          "value": 0.06626397057349674
         },
         {
          "param": "alpha.1",
          "value": 0.3315481115723584
         },
         {
          "param": "alpha.1",
          "value": -0.12624028499201184
         },
         {
          "param": "alpha.1",
          "value": -0.18604582247078266
         },
         {
          "param": "alpha.1",
          "value": -0.34102561097183326
         },
         {
          "param": "alpha.1",
          "value": -0.3055890229022039
         },
         {
          "param": "alpha.1",
          "value": -0.18174265999242792
         },
         {
          "param": "alpha.1",
          "value": -0.1084969635507069
         },
         {
          "param": "alpha.1",
          "value": -0.20537616616354665
         },
         {
          "param": "alpha.1",
          "value": 0.13381334425704355
         },
         {
          "param": "alpha.1",
          "value": 0.09378952891582278
         },
         {
          "param": "alpha.1",
          "value": 0.006645745625236066
         },
         {
          "param": "alpha.1",
          "value": 0.17504918445119966
         },
         {
          "param": "alpha.1",
          "value": -0.17015395370727757
         },
         {
          "param": "alpha.1",
          "value": -0.263682135254864
         },
         {
          "param": "alpha.1",
          "value": -0.06947610676586105
         },
         {
          "param": "alpha.1",
          "value": -0.08164050205652951
         },
         {
          "param": "alpha.1",
          "value": -0.1611343410324024
         },
         {
          "param": "alpha.1",
          "value": -0.11967648489057944
         },
         {
          "param": "alpha.1",
          "value": -0.08166574777447752
         },
         {
          "param": "alpha.1",
          "value": 0.004095930902659958
         },
         {
          "param": "alpha.1",
          "value": 0.02570940334797496
         },
         {
          "param": "alpha.1",
          "value": -0.23705125945846897
         },
         {
          "param": "alpha.1",
          "value": 0.18340712044752935
         },
         {
          "param": "alpha.1",
          "value": -0.15906197453945203
         },
         {
          "param": "alpha.1",
          "value": -0.10436936835941882
         },
         {
          "param": "alpha.1",
          "value": 0.11036925338164996
         },
         {
          "param": "alpha.1",
          "value": 0.18378075239300937
         },
         {
          "param": "alpha.1",
          "value": 0.055202655728152805
         },
         {
          "param": "alpha.1",
          "value": -0.2510381846835387
         },
         {
          "param": "alpha.1",
          "value": 0.1430389619010006
         },
         {
          "param": "alpha.1",
          "value": -0.08787186314695872
         },
         {
          "param": "alpha.1",
          "value": -0.374178560013708
         },
         {
          "param": "alpha.1",
          "value": -0.010406815434715028
         },
         {
          "param": "alpha.1",
          "value": 0.15148746332867477
         },
         {
          "param": "alpha.1",
          "value": 0.018003728755143632
         },
         {
          "param": "alpha.1",
          "value": 0.24039042108115194
         },
         {
          "param": "alpha.1",
          "value": -0.2342776128338081
         },
         {
          "param": "alpha.1",
          "value": -0.19883297167562275
         },
         {
          "param": "alpha.1",
          "value": -0.223747162599301
         },
         {
          "param": "alpha.1",
          "value": -0.2880611542409886
         },
         {
          "param": "alpha.1",
          "value": -0.037398722708225945
         },
         {
          "param": "alpha.1",
          "value": 0.06898087434983124
         },
         {
          "param": "alpha.1",
          "value": 0.03668780776377689
         },
         {
          "param": "alpha.1",
          "value": -0.022151518540063087
         },
         {
          "param": "alpha.1",
          "value": 0.017879636059250553
         },
         {
          "param": "alpha.1",
          "value": -0.07575622936917886
         },
         {
          "param": "alpha.1",
          "value": -0.0039677207200312925
         },
         {
          "param": "alpha.1",
          "value": 0.18844032816970127
         },
         {
          "param": "alpha.1",
          "value": 0.19459102783987062
         },
         {
          "param": "alpha.1",
          "value": -0.24150975286949417
         },
         {
          "param": "alpha.1",
          "value": -0.08799441136900704
         },
         {
          "param": "alpha.1",
          "value": -0.1069759812317982
         },
         {
          "param": "alpha.1",
          "value": 0.1018485444822476
         },
         {
          "param": "alpha.1",
          "value": -0.20723238674335187
         },
         {
          "param": "alpha.1",
          "value": 0.11017688470775927
         },
         {
          "param": "alpha.1",
          "value": -0.24288250182844445
         },
         {
          "param": "alpha.1",
          "value": -0.12901876517812544
         },
         {
          "param": "alpha.1",
          "value": -0.062150506476653634
         },
         {
          "param": "alpha.1",
          "value": -0.09745953851874446
         },
         {
          "param": "alpha.1",
          "value": -0.13422407714347417
         },
         {
          "param": "alpha.1",
          "value": 0.11456608105358596
         },
         {
          "param": "alpha.1",
          "value": -0.21858449245950132
         },
         {
          "param": "alpha.1",
          "value": -0.07891268336050816
         },
         {
          "param": "alpha.1",
          "value": 0.07565798818897436
         },
         {
          "param": "alpha.1",
          "value": -0.09307000094167613
         },
         {
          "param": "alpha.1",
          "value": 0.18567063060346356
         },
         {
          "param": "alpha.1",
          "value": -0.258711341803979
         },
         {
          "param": "alpha.1",
          "value": -0.24250737534643402
         },
         {
          "param": "alpha.1",
          "value": 0.1282718135119172
         },
         {
          "param": "alpha.1",
          "value": -0.2126100725895812
         },
         {
          "param": "alpha.1",
          "value": -0.0527194305658694
         },
         {
          "param": "alpha.1",
          "value": -0.27411594396044403
         },
         {
          "param": "alpha.1",
          "value": -0.05595832231107893
         },
         {
          "param": "alpha.1",
          "value": 0.030491187550892945
         },
         {
          "param": "alpha.1",
          "value": 0.145900507737342
         },
         {
          "param": "alpha.1",
          "value": -0.14446463518673436
         },
         {
          "param": "alpha.1",
          "value": -0.18900901876386397
         },
         {
          "param": "alpha.1",
          "value": -0.297353908087179
         },
         {
          "param": "alpha.1",
          "value": 0.2115800262184605
         },
         {
          "param": "alpha.1",
          "value": -0.1681679284715801
         },
         {
          "param": "alpha.1",
          "value": 0.009465953767014007
         },
         {
          "param": "alpha.1",
          "value": 0.18947549578823947
         },
         {
          "param": "alpha.1",
          "value": 0.07481195955929383
         },
         {
          "param": "alpha.1",
          "value": -0.24975123992582793
         },
         {
          "param": "alpha.1",
          "value": 0.02823682393698035
         },
         {
          "param": "alpha.1",
          "value": -0.036484524033340994
         },
         {
          "param": "alpha.1",
          "value": -0.15152179345675498
         },
         {
          "param": "alpha.1",
          "value": -0.25606167316485223
         },
         {
          "param": "alpha.1",
          "value": -0.3039064559617961
         },
         {
          "param": "alpha.1",
          "value": -0.1688201743537821
         },
         {
          "param": "alpha.1",
          "value": 0.10558451882202081
         },
         {
          "param": "alpha.1",
          "value": 0.08009871955314438
         },
         {
          "param": "alpha.1",
          "value": -0.315878496414227
         },
         {
          "param": "alpha.1",
          "value": -0.1774560172021732
         },
         {
          "param": "alpha.1",
          "value": 0.14563846727978583
         },
         {
          "param": "alpha.1",
          "value": 0.0799971731036641
         },
         {
          "param": "alpha.1",
          "value": 0.25046811649239437
         },
         {
          "param": "alpha.1",
          "value": 0.0009215331209018185
         },
         {
          "param": "alpha.1",
          "value": 0.11710663031690297
         },
         {
          "param": "alpha.1",
          "value": -0.026698330098453696
         },
         {
          "param": "alpha.1",
          "value": 0.2768878027819647
         },
         {
          "param": "alpha.1",
          "value": -0.050638684930382906
         },
         {
          "param": "alpha.1",
          "value": -0.19484793441804357
         },
         {
          "param": "alpha.1",
          "value": -0.017134996605912264
         },
         {
          "param": "alpha.1",
          "value": -0.23438425790684442
         },
         {
          "param": "alpha.1",
          "value": 0.1352329397718395
         },
         {
          "param": "alpha.1",
          "value": 0.07508334913732002
         },
         {
          "param": "alpha.1",
          "value": -0.1581300750629711
         },
         {
          "param": "alpha.1",
          "value": -0.3448403056271477
         },
         {
          "param": "alpha.1",
          "value": -0.07213681275847356
         },
         {
          "param": "alpha.1",
          "value": 0.21771877523323602
         },
         {
          "param": "alpha.1",
          "value": 0.08099487768925152
         },
         {
          "param": "alpha.1",
          "value": -0.028931833235683265
         },
         {
          "param": "alpha.1",
          "value": -0.08504044667980265
         },
         {
          "param": "alpha.1",
          "value": -0.09615439723987104
         },
         {
          "param": "alpha.1",
          "value": 0.04287053950594237
         },
         {
          "param": "alpha.1",
          "value": -0.18344789607172612
         },
         {
          "param": "alpha.1",
          "value": -0.21708616138156572
         },
         {
          "param": "alpha.1",
          "value": -0.15468035927693827
         },
         {
          "param": "alpha.1",
          "value": -0.11478526015322134
         },
         {
          "param": "alpha.1",
          "value": -0.10432690935190753
         },
         {
          "param": "alpha.1",
          "value": 0.15306109419005934
         },
         {
          "param": "alpha.1",
          "value": -0.10879937750538751
         },
         {
          "param": "alpha.1",
          "value": -0.020919198554221613
         },
         {
          "param": "alpha.1",
          "value": -0.07597030099918335
         },
         {
          "param": "alpha.1",
          "value": 0.16256270519653537
         },
         {
          "param": "alpha.1",
          "value": 0.06342315299237676
         },
         {
          "param": "alpha.1",
          "value": 0.01939598335839398
         },
         {
          "param": "alpha.1",
          "value": -0.11945661102728812
         },
         {
          "param": "alpha.1",
          "value": -0.2163616736509643
         },
         {
          "param": "alpha.1",
          "value": -0.06905872105364073
         },
         {
          "param": "alpha.1",
          "value": 0.09214000221948883
         },
         {
          "param": "alpha.1",
          "value": 0.030371954265130723
         },
         {
          "param": "alpha.1",
          "value": -0.013220520032149324
         },
         {
          "param": "alpha.1",
          "value": -0.1555456671470469
         },
         {
          "param": "alpha.1",
          "value": 0.5293405021925556
         },
         {
          "param": "alpha.1",
          "value": -0.13892120961418025
         },
         {
          "param": "alpha.1",
          "value": -0.12042185338489254
         },
         {
          "param": "alpha.1",
          "value": -0.2065588637482438
         },
         {
          "param": "alpha.1",
          "value": 0.3564452160383734
         },
         {
          "param": "alpha.1",
          "value": 0.11447422806457624
         },
         {
          "param": "alpha.1",
          "value": -0.19421728799010018
         },
         {
          "param": "alpha.1",
          "value": 0.14195885517757026
         },
         {
          "param": "alpha.1",
          "value": 0.22416010104132952
         },
         {
          "param": "alpha.1",
          "value": 0.07076584080397848
         },
         {
          "param": "alpha.1",
          "value": 0.03585624984296144
         },
         {
          "param": "alpha.1",
          "value": 0.04150288569875352
         },
         {
          "param": "alpha.1",
          "value": -0.2626996953403285
         },
         {
          "param": "alpha.1",
          "value": -0.19589379893654552
         },
         {
          "param": "alpha.1",
          "value": 0.01911960117402092
         },
         {
          "param": "alpha.1",
          "value": -0.18787541122272822
         },
         {
          "param": "alpha.1",
          "value": -0.3036628031671557
         },
         {
          "param": "alpha.1",
          "value": -0.052502217588586475
         },
         {
          "param": "alpha.1",
          "value": -0.18629679402590169
         },
         {
          "param": "alpha.1",
          "value": 0.24230882474288426
         },
         {
          "param": "alpha.1",
          "value": 0.13535662925311964
         },
         {
          "param": "alpha.1",
          "value": -0.14350074070518648
         },
         {
          "param": "alpha.1",
          "value": -0.04614303844962481
         },
         {
          "param": "alpha.1",
          "value": 0.17676687759924986
         },
         {
          "param": "alpha.1",
          "value": -0.1930296669969298
         },
         {
          "param": "alpha.1",
          "value": -0.06486181645310705
         },
         {
          "param": "alpha.1",
          "value": 0.0731147270268014
         },
         {
          "param": "alpha.1",
          "value": -0.0028991827096421195
         },
         {
          "param": "alpha.1",
          "value": -0.27942173042664487
         },
         {
          "param": "alpha.1",
          "value": 0.04715626668973233
         },
         {
          "param": "alpha.1",
          "value": -0.1008021461205342
         },
         {
          "param": "alpha.1",
          "value": -0.2569088022814152
         },
         {
          "param": "alpha.1",
          "value": -0.1068265471530251
         },
         {
          "param": "alpha.1",
          "value": -0.07265700268707613
         },
         {
          "param": "alpha.1",
          "value": -0.2636374907290021
         },
         {
          "param": "alpha.1",
          "value": -0.3383697829106008
         },
         {
          "param": "alpha.1",
          "value": -0.048075172654179085
         },
         {
          "param": "alpha.1",
          "value": -0.05631863940956491
         },
         {
          "param": "alpha.1",
          "value": 0.10641900735036963
         },
         {
          "param": "alpha.1",
          "value": 0.03702191608956232
         },
         {
          "param": "alpha.1",
          "value": 0.014013686373657144
         },
         {
          "param": "alpha.1",
          "value": 0.08662753076733473
         },
         {
          "param": "alpha.1",
          "value": -0.19091955584830456
         },
         {
          "param": "alpha.1",
          "value": -0.024801271960901178
         },
         {
          "param": "alpha.1",
          "value": -0.3374645570671934
         },
         {
          "param": "alpha.1",
          "value": 0.10287480010344852
         },
         {
          "param": "alpha.1",
          "value": -0.07208854570746097
         },
         {
          "param": "alpha.1",
          "value": -0.12574815617841517
         },
         {
          "param": "alpha.1",
          "value": -0.3327486707354218
         },
         {
          "param": "alpha.1",
          "value": 0.20573461555596498
         },
         {
          "param": "alpha.1",
          "value": -0.1146725733445015
         },
         {
          "param": "alpha.1",
          "value": -0.2920114520214874
         },
         {
          "param": "alpha.1",
          "value": -0.49270682932261434
         },
         {
          "param": "alpha.1",
          "value": 0.01762538484577039
         },
         {
          "param": "alpha.1",
          "value": -0.17065704749835378
         },
         {
          "param": "alpha.1",
          "value": -0.10919904144255832
         },
         {
          "param": "alpha.1",
          "value": -0.2499964112778004
         },
         {
          "param": "alpha.1",
          "value": -0.46813655036552015
         },
         {
          "param": "alpha.1",
          "value": 0.058746563720398215
         },
         {
          "param": "alpha.1",
          "value": 0.2928048535935174
         },
         {
          "param": "alpha.1",
          "value": 0.26045659748437766
         },
         {
          "param": "alpha.1",
          "value": -0.5090231906087815
         },
         {
          "param": "alpha.1",
          "value": -0.012065810928055865
         },
         {
          "param": "alpha.1",
          "value": 0.09897961060329516
         },
         {
          "param": "alpha.1",
          "value": -0.010865386019570697
         },
         {
          "param": "alpha.1",
          "value": 0.0671204649123686
         },
         {
          "param": "alpha.1",
          "value": -0.05983429735728789
         },
         {
          "param": "alpha.1",
          "value": -0.01802397211033449
         },
         {
          "param": "alpha.1",
          "value": -0.06504532737998225
         },
         {
          "param": "alpha.1",
          "value": -0.04010161459176114
         },
         {
          "param": "alpha.1",
          "value": 0.20999483117938594
         },
         {
          "param": "alpha.1",
          "value": 0.1076476312643346
         },
         {
          "param": "alpha.1",
          "value": -0.030157812540311586
         },
         {
          "param": "alpha.1",
          "value": -0.15475113313130778
         },
         {
          "param": "alpha.1",
          "value": -0.11679197252244644
         },
         {
          "param": "alpha.1",
          "value": -0.01489617642076517
         },
         {
          "param": "alpha.1",
          "value": 0.0027282229306662964
         },
         {
          "param": "alpha.1",
          "value": 0.02507282277573776
         },
         {
          "param": "alpha.1",
          "value": -0.292676191479625
         },
         {
          "param": "alpha.1",
          "value": -0.33436782864269826
         },
         {
          "param": "alpha.1",
          "value": -0.24727863116429993
         },
         {
          "param": "alpha.1",
          "value": 0.006130228787830136
         },
         {
          "param": "alpha.1",
          "value": -0.04291107598028908
         },
         {
          "param": "alpha.1",
          "value": 0.12703712057460548
         },
         {
          "param": "alpha.1",
          "value": -0.1068973845387916
         },
         {
          "param": "alpha.1",
          "value": -0.033899235685124554
         },
         {
          "param": "alpha.1",
          "value": -0.2200230112828373
         },
         {
          "param": "alpha.1",
          "value": 0.032538990887785446
         },
         {
          "param": "alpha.1",
          "value": -0.24110176214416537
         },
         {
          "param": "alpha.1",
          "value": 0.3743051985237115
         },
         {
          "param": "alpha.1",
          "value": -0.06608728503482963
         },
         {
          "param": "alpha.1",
          "value": 0.09225847495911066
         },
         {
          "param": "alpha.1",
          "value": -0.15728239313128714
         },
         {
          "param": "alpha.1",
          "value": 0.08128646683571983
         },
         {
          "param": "alpha.1",
          "value": -0.010486168669336778
         },
         {
          "param": "alpha.1",
          "value": -0.25339591903803804
         },
         {
          "param": "alpha.1",
          "value": -0.25213575158983187
         },
         {
          "param": "alpha.1",
          "value": -0.013080755995057182
         },
         {
          "param": "alpha.1",
          "value": -0.008383611991230673
         },
         {
          "param": "alpha.1",
          "value": -0.062321518646509456
         },
         {
          "param": "alpha.1",
          "value": 0.07635585698531824
         },
         {
          "param": "alpha.1",
          "value": -0.18155025225745033
         },
         {
          "param": "alpha.1",
          "value": -0.22258197994450088
         },
         {
          "param": "alpha.1",
          "value": 0.15539699753190328
         },
         {
          "param": "alpha.1",
          "value": -0.18438579430130786
         },
         {
          "param": "alpha.1",
          "value": -0.2222045328771732
         },
         {
          "param": "alpha.1",
          "value": 0.2543558665818654
         },
         {
          "param": "alpha.1",
          "value": -0.0018938425703498435
         },
         {
          "param": "alpha.1",
          "value": -0.15675499919428568
         },
         {
          "param": "alpha.1",
          "value": -0.1544329550650386
         },
         {
          "param": "alpha.1",
          "value": 0.08905675413209538
         },
         {
          "param": "alpha.1",
          "value": 0.05550286767285776
         },
         {
          "param": "alpha.1",
          "value": -0.1730437666297187
         },
         {
          "param": "alpha.1",
          "value": -0.11199350868866081
         },
         {
          "param": "alpha.1",
          "value": 0.09210756883838185
         },
         {
          "param": "alpha.1",
          "value": -0.167318627573397
         },
         {
          "param": "alpha.1",
          "value": -0.17566694095853302
         },
         {
          "param": "alpha.1",
          "value": 0.07080021021477295
         },
         {
          "param": "alpha.1",
          "value": -0.2737368463865827
         },
         {
          "param": "alpha.1",
          "value": -0.0920285591279161
         },
         {
          "param": "alpha.1",
          "value": 0.21912653666619808
         },
         {
          "param": "alpha.1",
          "value": 0.010374935427734551
         },
         {
          "param": "alpha.1",
          "value": 0.2704303895048397
         },
         {
          "param": "alpha.1",
          "value": -0.16058975150793484
         },
         {
          "param": "alpha.1",
          "value": -0.16963896126756742
         },
         {
          "param": "alpha.1",
          "value": -0.15026332644113247
         },
         {
          "param": "alpha.1",
          "value": -0.016626445865549636
         },
         {
          "param": "alpha.1",
          "value": 0.22026542271980545
         },
         {
          "param": "alpha.1",
          "value": 0.08572736403585828
         },
         {
          "param": "alpha.1",
          "value": -0.09915326178554537
         },
         {
          "param": "alpha.1",
          "value": -0.014695940013422766
         },
         {
          "param": "alpha.1",
          "value": 0.2297112425528739
         },
         {
          "param": "alpha.1",
          "value": -0.06525620027863477
         },
         {
          "param": "alpha.1",
          "value": -0.2551243360397777
         },
         {
          "param": "alpha.1",
          "value": -0.022778466233228545
         },
         {
          "param": "alpha.1",
          "value": 0.11007836175612282
         },
         {
          "param": "alpha.1",
          "value": -0.016077778170513875
         },
         {
          "param": "alpha.1",
          "value": -0.22897832978361715
         },
         {
          "param": "alpha.1",
          "value": -0.32748066590182334
         },
         {
          "param": "alpha.1",
          "value": -0.08833462333735645
         },
         {
          "param": "alpha.1",
          "value": 0.07518222453988767
         },
         {
          "param": "alpha.1",
          "value": 0.10890924101684205
         },
         {
          "param": "alpha.1",
          "value": -0.22219421542423773
         },
         {
          "param": "alpha.1",
          "value": 0.03130483906854527
         },
         {
          "param": "alpha.1",
          "value": 0.13560761306502328
         },
         {
          "param": "alpha.1",
          "value": 0.07602464448598928
         },
         {
          "param": "alpha.1",
          "value": -0.254474543489341
         },
         {
          "param": "alpha.1",
          "value": 0.26439696477296837
         },
         {
          "param": "alpha.1",
          "value": -0.10005627336112752
         },
         {
          "param": "alpha.1",
          "value": 0.008921763664749748
         },
         {
          "param": "alpha.1",
          "value": 0.22938551021053832
         },
         {
          "param": "alpha.1",
          "value": 0.4387684390114416
         },
         {
          "param": "alpha.1",
          "value": 0.11373309217321954
         },
         {
          "param": "alpha.1",
          "value": 0.0723193580357158
         },
         {
          "param": "alpha.1",
          "value": -0.2691390583953198
         },
         {
          "param": "alpha.1",
          "value": -0.1531007820179747
         },
         {
          "param": "alpha.1",
          "value": 0.007096922862022695
         },
         {
          "param": "alpha.1",
          "value": 0.08770196114259966
         },
         {
          "param": "alpha.1",
          "value": 0.1769078201248245
         },
         {
          "param": "alpha.1",
          "value": -0.19998908571123664
         },
         {
          "param": "alpha.1",
          "value": 0.025854126033545324
         },
         {
          "param": "alpha.1",
          "value": -0.017086146667881247
         },
         {
          "param": "alpha.1",
          "value": -0.15630309293179456
         },
         {
          "param": "alpha.1",
          "value": -0.029119289200547044
         },
         {
          "param": "alpha.1",
          "value": -0.02021331656089227
         },
         {
          "param": "alpha.1",
          "value": -0.04531545453914934
         },
         {
          "param": "alpha.1",
          "value": -0.012031081580384864
         },
         {
          "param": "alpha.1",
          "value": -0.20745326486580118
         },
         {
          "param": "alpha.1",
          "value": -0.17358998425389308
         },
         {
          "param": "alpha.1",
          "value": -0.16825965633645026
         },
         {
          "param": "alpha.1",
          "value": 0.027064970335318586
         },
         {
          "param": "alpha.1",
          "value": -0.035115341304135655
         },
         {
          "param": "alpha.1",
          "value": -0.2927013381730032
         },
         {
          "param": "alpha.1",
          "value": -0.21625483527889486
         },
         {
          "param": "alpha.1",
          "value": -0.012537121825686899
         },
         {
          "param": "alpha.1",
          "value": -0.306900086888106
         },
         {
          "param": "alpha.1",
          "value": 0.1915880822249471
         },
         {
          "param": "alpha.1",
          "value": 0.05971528849522606
         },
         {
          "param": "alpha.1",
          "value": 0.04013162957980968
         },
         {
          "param": "alpha.1",
          "value": 0.15878841693456852
         },
         {
          "param": "alpha.1",
          "value": -0.1058190672873772
         },
         {
          "param": "alpha.1",
          "value": 0.06631627940494907
         },
         {
          "param": "alpha.1",
          "value": 0.11123080429796912
         },
         {
          "param": "alpha.1",
          "value": -0.012185456008945154
         },
         {
          "param": "alpha.1",
          "value": 0.17436995141204292
         },
         {
          "param": "alpha.1",
          "value": 0.2930483995529397
         },
         {
          "param": "alpha.1",
          "value": -0.09924262275991308
         },
         {
          "param": "alpha.1",
          "value": -0.2706455719871208
         },
         {
          "param": "alpha.1",
          "value": 0.12463627326178557
         },
         {
          "param": "alpha.1",
          "value": 0.075883368945664
         },
         {
          "param": "alpha.1",
          "value": -0.1286864029776571
         },
         {
          "param": "alpha.1",
          "value": -0.11587169733109197
         },
         {
          "param": "alpha.1",
          "value": -0.11745455118922436
         },
         {
          "param": "alpha.1",
          "value": -0.03296195841436805
         },
         {
          "param": "alpha.1",
          "value": -0.07188772856136984
         },
         {
          "param": "alpha.1",
          "value": -0.17000680746060104
         },
         {
          "param": "alpha.1",
          "value": -0.20747016112313194
         },
         {
          "param": "alpha.1",
          "value": -0.19216313033532278
         },
         {
          "param": "alpha.1",
          "value": 0.042932266844678935
         },
         {
          "param": "alpha.1",
          "value": -0.022024423392427814
         },
         {
          "param": "alpha.1",
          "value": -0.15628847827730863
         },
         {
          "param": "alpha.1",
          "value": 0.05034331471109339
         },
         {
          "param": "alpha.1",
          "value": -0.24823399121778128
         },
         {
          "param": "alpha.1",
          "value": -0.1405290206747703
         },
         {
          "param": "alpha.1",
          "value": 0.18074193820044507
         },
         {
          "param": "alpha.1",
          "value": -0.24040026594465352
         },
         {
          "param": "alpha.1",
          "value": -0.2855017350859058
         },
         {
          "param": "alpha.1",
          "value": 0.24959763141519586
         },
         {
          "param": "alpha.1",
          "value": 0.07464940545384881
         },
         {
          "param": "alpha.1",
          "value": 0.2461939449803979
         },
         {
          "param": "alpha.1",
          "value": -0.342876316615608
         },
         {
          "param": "alpha.1",
          "value": 0.03294466127825171
         },
         {
          "param": "alpha.1",
          "value": -0.2271859754661732
         },
         {
          "param": "alpha.1",
          "value": 0.09192364673294282
         },
         {
          "param": "alpha.1",
          "value": -0.009823499409580078
         },
         {
          "param": "alpha.1",
          "value": 0.023438506271893436
         },
         {
          "param": "alpha.1",
          "value": 0.19515825962631905
         },
         {
          "param": "alpha.1",
          "value": -0.12370957375552862
         },
         {
          "param": "alpha.1",
          "value": -0.060898197685185375
         },
         {
          "param": "alpha.1",
          "value": -0.09187602114851655
         },
         {
          "param": "alpha.1",
          "value": -0.29813197373509015
         },
         {
          "param": "alpha.1",
          "value": 0.04600402810258955
         },
         {
          "param": "alpha.1",
          "value": -0.2927668603575657
         },
         {
          "param": "alpha.1",
          "value": 0.07735144908308368
         },
         {
          "param": "alpha.1",
          "value": 0.08656840914786716
         },
         {
          "param": "alpha.1",
          "value": 0.05835147998360193
         },
         {
          "param": "alpha.1",
          "value": 0.13250843811665897
         },
         {
          "param": "alpha.1",
          "value": 0.042770580667176865
         },
         {
          "param": "alpha.1",
          "value": -0.3544678702167542
         },
         {
          "param": "alpha.1",
          "value": -0.07986041179966358
         },
         {
          "param": "alpha.1",
          "value": -0.06568987206856394
         },
         {
          "param": "alpha.1",
          "value": -0.2100174427103631
         },
         {
          "param": "alpha.1",
          "value": 0.34902362032737283
         },
         {
          "param": "alpha.1",
          "value": 0.057507122934601265
         },
         {
          "param": "alpha.1",
          "value": 0.009740325169040377
         },
         {
          "param": "alpha.1",
          "value": 0.1009937018736338
         },
         {
          "param": "alpha.1",
          "value": -0.27972448469840355
         },
         {
          "param": "alpha.1",
          "value": -0.20618003023610765
         },
         {
          "param": "alpha.1",
          "value": -0.2317558706088325
         },
         {
          "param": "alpha.1",
          "value": 0.21901170523854527
         },
         {
          "param": "alpha.1",
          "value": -0.17903831257840536
         },
         {
          "param": "alpha.1",
          "value": -0.21816204253283136
         },
         {
          "param": "alpha.1",
          "value": -0.2357800438582388
         },
         {
          "param": "alpha.1",
          "value": 0.19461530661663212
         },
         {
          "param": "alpha.1",
          "value": -0.07851296947418702
         },
         {
          "param": "alpha.1",
          "value": 0.03880452061794633
         },
         {
          "param": "alpha.1",
          "value": 0.410848396740771
         },
         {
          "param": "alpha.1",
          "value": 0.0864862486584629
         },
         {
          "param": "alpha.1",
          "value": -0.36636994286357905
         },
         {
          "param": "alpha.1",
          "value": -0.04498978284107967
         },
         {
          "param": "alpha.1",
          "value": 0.31568421656584733
         },
         {
          "param": "alpha.1",
          "value": -0.08549111109697435
         },
         {
          "param": "alpha.1",
          "value": -0.1848847821457722
         },
         {
          "param": "alpha.1",
          "value": -0.012232485036733933
         },
         {
          "param": "alpha.1",
          "value": 0.2689786279399589
         },
         {
          "param": "alpha.1",
          "value": 0.10409608517717625
         },
         {
          "param": "alpha.1",
          "value": 0.10559002508142831
         },
         {
          "param": "alpha.1",
          "value": 0.07839543935002305
         },
         {
          "param": "alpha.1",
          "value": -0.32105103816024866
         },
         {
          "param": "alpha.1",
          "value": -0.08368491567933736
         },
         {
          "param": "alpha.1",
          "value": 0.16360223207468186
         },
         {
          "param": "alpha.1",
          "value": 0.027610469097789386
         },
         {
          "param": "alpha.1",
          "value": 0.2620850246204789
         },
         {
          "param": "alpha.1",
          "value": -0.03666408520876732
         },
         {
          "param": "alpha.1",
          "value": -0.2499179300392462
         },
         {
          "param": "alpha.1",
          "value": 0.10415979723143379
         },
         {
          "param": "alpha.1",
          "value": -0.03633280057926988
         },
         {
          "param": "alpha.1",
          "value": 0.018472587581467637
         },
         {
          "param": "alpha.1",
          "value": 0.27794184011158507
         },
         {
          "param": "alpha.1",
          "value": -0.15177386993315395
         },
         {
          "param": "alpha.1",
          "value": -0.13209572136637843
         },
         {
          "param": "alpha.1",
          "value": -0.06052091359089132
         },
         {
          "param": "alpha.1",
          "value": -0.037860348173469144
         },
         {
          "param": "alpha.1",
          "value": -0.2408971458977518
         },
         {
          "param": "alpha.1",
          "value": -0.0233393596237738
         },
         {
          "param": "alpha.1",
          "value": -0.03503668683515583
         },
         {
          "param": "alpha.1",
          "value": -0.10372940215951329
         },
         {
          "param": "alpha.1",
          "value": -0.06965054235729728
         },
         {
          "param": "alpha.1",
          "value": 0.08358140850629285
         },
         {
          "param": "alpha.1",
          "value": -0.06458158952224491
         },
         {
          "param": "alpha.1",
          "value": -0.21398471322051651
         },
         {
          "param": "alpha.1",
          "value": -0.08441847340338644
         },
         {
          "param": "alpha.1",
          "value": -0.471250490118804
         },
         {
          "param": "alpha.1",
          "value": -0.027801945828045037
         },
         {
          "param": "alpha.1",
          "value": 0.17781203516764582
         },
         {
          "param": "alpha.1",
          "value": -0.2537640010346224
         },
         {
          "param": "alpha.1",
          "value": -0.21583170217593034
         },
         {
          "param": "alpha.1",
          "value": -0.07545670024261941
         },
         {
          "param": "alpha.1",
          "value": 0.041818248295009394
         },
         {
          "param": "alpha.1",
          "value": 0.011932362128703175
         },
         {
          "param": "alpha.1",
          "value": 0.201687826373856
         },
         {
          "param": "alpha.1",
          "value": 0.025483817368191636
         },
         {
          "param": "alpha.1",
          "value": -0.10393505235893215
         },
         {
          "param": "alpha.1",
          "value": -0.07029322640946839
         },
         {
          "param": "alpha.1",
          "value": 0.09133455971899752
         },
         {
          "param": "alpha.1",
          "value": 0.08190244631422519
         },
         {
          "param": "alpha.1",
          "value": 0.0700965647526069
         },
         {
          "param": "alpha.1",
          "value": -0.11432114555559683
         },
         {
          "param": "alpha.1",
          "value": -0.13166076323321182
         },
         {
          "param": "alpha.1",
          "value": -0.09170844215604443
         },
         {
          "param": "alpha.1",
          "value": 0.13677846528393828
         },
         {
          "param": "alpha.1",
          "value": -0.05496587049647677
         },
         {
          "param": "alpha.1",
          "value": -0.2364468911483786
         },
         {
          "param": "alpha.1",
          "value": 0.13388096008775843
         },
         {
          "param": "alpha.1",
          "value": -0.0032408241124029513
         },
         {
          "param": "alpha.1",
          "value": -0.12545225982928726
         },
         {
          "param": "alpha.1",
          "value": 0.15990877195973624
         },
         {
          "param": "alpha.1",
          "value": -0.29325237938030546
         },
         {
          "param": "alpha.1",
          "value": 0.16364062947439229
         },
         {
          "param": "alpha.1",
          "value": -0.17752486162718537
         },
         {
          "param": "alpha.1",
          "value": 0.28659953988819076
         },
         {
          "param": "alpha.1",
          "value": 0.26594068419190375
         },
         {
          "param": "alpha.1",
          "value": -0.06385815256679005
         },
         {
          "param": "alpha.1",
          "value": -0.07009098094881257
         },
         {
          "param": "alpha.1",
          "value": 0.13097208956932332
         },
         {
          "param": "alpha.1",
          "value": -0.16608139049521828
         },
         {
          "param": "alpha.1",
          "value": -0.3045820488438653
         },
         {
          "param": "alpha.1",
          "value": -0.14366852971726363
         },
         {
          "param": "alpha.1",
          "value": -0.07725564315773274
         },
         {
          "param": "alpha.1",
          "value": 0.1105439793285446
         },
         {
          "param": "alpha.1",
          "value": -0.30097881681763117
         },
         {
          "param": "alpha.1",
          "value": -0.09890590002028872
         },
         {
          "param": "alpha.1",
          "value": -0.1129750668509132
         },
         {
          "param": "alpha.1",
          "value": 0.11357583433570544
         },
         {
          "param": "alpha.1",
          "value": 0.1572446079435847
         },
         {
          "param": "alpha.1",
          "value": 0.03931859217971328
         },
         {
          "param": "alpha.1",
          "value": -0.09748658893639067
         },
         {
          "param": "alpha.1",
          "value": -0.1341640783408991
         },
         {
          "param": "alpha.1",
          "value": -0.18052356826957133
         },
         {
          "param": "alpha.1",
          "value": -0.1095898963067713
         },
         {
          "param": "alpha.1",
          "value": -0.2678954979340355
         },
         {
          "param": "alpha.1",
          "value": 0.10294612168391634
         },
         {
          "param": "alpha.1",
          "value": -0.18052356826957133
         },
         {
          "param": "alpha.1",
          "value": -0.12037047290437472
         },
         {
          "param": "alpha.1",
          "value": 0.07615255347815457
         },
         {
          "param": "alpha.1",
          "value": 0.03545922942380994
         },
         {
          "param": "alpha.1",
          "value": 0.10189322948002535
         },
         {
          "param": "alpha.1",
          "value": -0.005280318939111975
         },
         {
          "param": "alpha.1",
          "value": 0.12316688510019028
         },
         {
          "param": "alpha.1",
          "value": 0.25219167299540163
         },
         {
          "param": "alpha.1",
          "value": -0.12657340600394823
         },
         {
          "param": "alpha.1",
          "value": -0.13332143759053744
         },
         {
          "param": "alpha.1",
          "value": -0.08409691341443556
         },
         {
          "param": "alpha.1",
          "value": -0.11172341848021233
         },
         {
          "param": "alpha.1",
          "value": -0.12401858514500788
         },
         {
          "param": "alpha.1",
          "value": -0.20607919505485117
         },
         {
          "param": "alpha.1",
          "value": -0.053793298198199134
         },
         {
          "param": "alpha.1",
          "value": 0.1428677573184004
         },
         {
          "param": "alpha.1",
          "value": -0.1984846155466365
         },
         {
          "param": "alpha.1",
          "value": -0.19474983319746364
         },
         {
          "param": "alpha.1",
          "value": -0.1646147708966365
         },
         {
          "param": "alpha.1",
          "value": 0.5397874401114743
         },
         {
          "param": "alpha.1",
          "value": -0.18151658484519034
         },
         {
          "param": "alpha.1",
          "value": -0.044304918089273976
         },
         {
          "param": "alpha.1",
          "value": 0.0874414840692187
         },
         {
          "param": "alpha.1",
          "value": -0.47425144035719247
         },
         {
          "param": "alpha.1",
          "value": 0.00824539550581932
         },
         {
          "param": "alpha.1",
          "value": -0.03719755686437352
         },
         {
          "param": "alpha.1",
          "value": 0.14413007005073927
         },
         {
          "param": "alpha.1",
          "value": -0.30346329315959963
         },
         {
          "param": "alpha.1",
          "value": -0.17831174687053472
         },
         {
          "param": "alpha.1",
          "value": -0.07706825367022663
         },
         {
          "param": "alpha.1",
          "value": -0.3470349431633919
         },
         {
          "param": "alpha.1",
          "value": 0.002798243889351834
         },
         {
          "param": "alpha.1",
          "value": -0.2588973925083169
         },
         {
          "param": "alpha.1",
          "value": -0.20977200356043835
         },
         {
          "param": "alpha.1",
          "value": 0.2695587843747853
         },
         {
          "param": "alpha.1",
          "value": 0.0048893979386964576
         },
         {
          "param": "alpha.1",
          "value": -0.35343040237392814
         },
         {
          "param": "alpha.1",
          "value": 0.10669998134781704
         },
         {
          "param": "alpha.1",
          "value": -0.28876005123475973
         },
         {
          "param": "alpha.1",
          "value": -0.10190451916930653
         },
         {
          "param": "alpha.1",
          "value": 0.18740477646789153
         },
         {
          "param": "alpha.1",
          "value": -0.34091930102156376
         },
         {
          "param": "alpha.1",
          "value": -0.291139612077561
         },
         {
          "param": "alpha.1",
          "value": -0.08539022531663604
         },
         {
          "param": "alpha.1",
          "value": 0.08063387972143746
         },
         {
          "param": "alpha.1",
          "value": -0.09219180895919284
         },
         {
          "param": "alpha.1",
          "value": 0.025998725811929593
         },
         {
          "param": "alpha.1",
          "value": -0.12182136316179701
         },
         {
          "param": "alpha.1",
          "value": -0.25261360773701735
         },
         {
          "param": "alpha.1",
          "value": -0.30667386700075716
         },
         {
          "param": "alpha.1",
          "value": -0.044836988627356064
         },
         {
          "param": "alpha.1",
          "value": 0.21595361141716332
         },
         {
          "param": "alpha.1",
          "value": -0.02363427406412008
         },
         {
          "param": "alpha.1",
          "value": -0.06267372590521313
         },
         {
          "param": "alpha.1",
          "value": 0.1534403210971803
         },
         {
          "param": "alpha.1",
          "value": -0.1705363552038735
         },
         {
          "param": "alpha.1",
          "value": -0.016551817825836652
         },
         {
          "param": "alpha.1",
          "value": -0.19936022867338904
         },
         {
          "param": "alpha.1",
          "value": -0.21611720970764625
         },
         {
          "param": "alpha.1",
          "value": -0.1287853102300664
         },
         {
          "param": "alpha.1",
          "value": -0.09222173991249433
         },
         {
          "param": "alpha.1",
          "value": -0.039109892932300064
         },
         {
          "param": "alpha.1",
          "value": -0.23701790743254508
         },
         {
          "param": "alpha.1",
          "value": 0.29833301228796216
         },
         {
          "param": "alpha.1",
          "value": -0.061231409063765334
         },
         {
          "param": "alpha.1",
          "value": 0.034921521042303894
         },
         {
          "param": "alpha.1",
          "value": 0.07249258831042435
         },
         {
          "param": "alpha.1",
          "value": -0.2837932543949746
         },
         {
          "param": "alpha.1",
          "value": -0.1865928105040051
         },
         {
          "param": "alpha.1",
          "value": -0.07147233529286974
         },
         {
          "param": "alpha.1",
          "value": -0.10699513508248723
         },
         {
          "param": "alpha.1",
          "value": -0.0673973679628581
         },
         {
          "param": "alpha.1",
          "value": 0.15958894159370446
         },
         {
          "param": "alpha.1",
          "value": -0.12269868334516915
         },
         {
          "param": "alpha.1",
          "value": 0.005302051604578497
         },
         {
          "param": "alpha.1",
          "value": 0.020064465409061108
         },
         {
          "param": "alpha.1",
          "value": 0.2672859557453571
         },
         {
          "param": "alpha.1",
          "value": 0.04648056765421363
         },
         {
          "param": "alpha.1",
          "value": -0.05957605727140976
         },
         {
          "param": "alpha.1",
          "value": 0.056490955865825115
         },
         {
          "param": "alpha.1",
          "value": -0.034461206701922195
         },
         {
          "param": "alpha.1",
          "value": -0.19935110915272689
         },
         {
          "param": "alpha.1",
          "value": -0.10832786227491045
         },
         {
          "param": "alpha.1",
          "value": -0.12514108474076835
         },
         {
          "param": "alpha.1",
          "value": -0.006373165983527787
         },
         {
          "param": "alpha.1",
          "value": 0.005253388505802772
         },
         {
          "param": "alpha.1",
          "value": 0.33550410163991035
         },
         {
          "param": "alpha.1",
          "value": -0.33593612731186706
         },
         {
          "param": "alpha.1",
          "value": 0.04255718240692018
         },
         {
          "param": "alpha.1",
          "value": 0.02476107031995086
         },
         {
          "param": "alpha.1",
          "value": -0.02726656670052982
         },
         {
          "param": "alpha.1",
          "value": -0.006286770255193974
         },
         {
          "param": "alpha.1",
          "value": -0.013376674263091422
         },
         {
          "param": "alpha.1",
          "value": 0.004778024109952442
         },
         {
          "param": "alpha.1",
          "value": 0.1004668945397737
         },
         {
          "param": "alpha.1",
          "value": -0.34922218136850913
         },
         {
          "param": "alpha.1",
          "value": -0.0995132344366104
         },
         {
          "param": "alpha.1",
          "value": 0.3061391795384742
         },
         {
          "param": "alpha.1",
          "value": -0.053323109826954235
         },
         {
          "param": "alpha.1",
          "value": 0.08764754220018128
         },
         {
          "param": "alpha.1",
          "value": 0.04249365069602812
         },
         {
          "param": "alpha.1",
          "value": 0.10000511943609451
         },
         {
          "param": "alpha.2",
          "value": 0.1446048438422177
         },
         {
          "param": "alpha.2",
          "value": 0.21839605685391156
         },
         {
          "param": "alpha.2",
          "value": 0.4323874371713633
         },
         {
          "param": "alpha.2",
          "value": 0.5409590991349296
         },
         {
          "param": "alpha.2",
          "value": 0.1715061859749068
         },
         {
          "param": "alpha.2",
          "value": 0.13829049754323924
         },
         {
          "param": "alpha.2",
          "value": 0.1235715428974377
         },
         {
          "param": "alpha.2",
          "value": 0.24564374446684645
         },
         {
          "param": "alpha.2",
          "value": 0.2395738283832395
         },
         {
          "param": "alpha.2",
          "value": 0.20025722442683086
         },
         {
          "param": "alpha.2",
          "value": 0.09187625650994537
         },
         {
          "param": "alpha.2",
          "value": 0.4455006985331479
         },
         {
          "param": "alpha.2",
          "value": 0.2502458855195171
         },
         {
          "param": "alpha.2",
          "value": 0.2645542913637598
         },
         {
          "param": "alpha.2",
          "value": 0.08811336605335107
         },
         {
          "param": "alpha.2",
          "value": 0.22886492137687353
         },
         {
          "param": "alpha.2",
          "value": -0.00966509998169926
         },
         {
          "param": "alpha.2",
          "value": 0.3714263529457222
         },
         {
          "param": "alpha.2",
          "value": 0.20082127395588023
         },
         {
          "param": "alpha.2",
          "value": 0.33045465651872913
         },
         {
          "param": "alpha.2",
          "value": 0.04514652204845385
         },
         {
          "param": "alpha.2",
          "value": -0.05298534292158033
         },
         {
          "param": "alpha.2",
          "value": 0.2446116924669156
         },
         {
          "param": "alpha.2",
          "value": 0.11238303648153983
         },
         {
          "param": "alpha.2",
          "value": 0.2195740746683225
         },
         {
          "param": "alpha.2",
          "value": 0.10512945794852374
         },
         {
          "param": "alpha.2",
          "value": 0.4016035298456003
         },
         {
          "param": "alpha.2",
          "value": 0.2101710297906481
         },
         {
          "param": "alpha.2",
          "value": 0.1824507160368398
         },
         {
          "param": "alpha.2",
          "value": 0.07800621963390664
         },
         {
          "param": "alpha.2",
          "value": -0.020044329342784828
         },
         {
          "param": "alpha.2",
          "value": 0.03457290805214841
         },
         {
          "param": "alpha.2",
          "value": 0.09964037777047742
         },
         {
          "param": "alpha.2",
          "value": 0.13789092141717324
         },
         {
          "param": "alpha.2",
          "value": 0.3405232243532378
         },
         {
          "param": "alpha.2",
          "value": 0.10867467751771026
         },
         {
          "param": "alpha.2",
          "value": 0.38966969453354533
         },
         {
          "param": "alpha.2",
          "value": 0.3015723039167843
         },
         {
          "param": "alpha.2",
          "value": 0.054105626058043615
         },
         {
          "param": "alpha.2",
          "value": 0.06742511858269848
         },
         {
          "param": "alpha.2",
          "value": 0.04337875092654086
         },
         {
          "param": "alpha.2",
          "value": -0.15481618376628253
         },
         {
          "param": "alpha.2",
          "value": 0.2545032782939233
         },
         {
          "param": "alpha.2",
          "value": 0.08213392728421165
         },
         {
          "param": "alpha.2",
          "value": -0.13851036908176023
         },
         {
          "param": "alpha.2",
          "value": -0.039189460116366176
         },
         {
          "param": "alpha.2",
          "value": 0.20609478649909407
         },
         {
          "param": "alpha.2",
          "value": 0.0439049963539728
         },
         {
          "param": "alpha.2",
          "value": 0.12462379262580794
         },
         {
          "param": "alpha.2",
          "value": 0.18632324192762234
         },
         {
          "param": "alpha.2",
          "value": 0.3237736730825762
         },
         {
          "param": "alpha.2",
          "value": 0.19265491215472286
         },
         {
          "param": "alpha.2",
          "value": 0.6605522743472809
         },
         {
          "param": "alpha.2",
          "value": 0.13398535739999218
         },
         {
          "param": "alpha.2",
          "value": -0.10523418126822695
         },
         {
          "param": "alpha.2",
          "value": 0.0026830998249344415
         },
         {
          "param": "alpha.2",
          "value": -0.11798813551851828
         },
         {
          "param": "alpha.2",
          "value": -0.05984772335084837
         },
         {
          "param": "alpha.2",
          "value": 0.005919418202678689
         },
         {
          "param": "alpha.2",
          "value": 0.23126458716359297
         },
         {
          "param": "alpha.2",
          "value": 0.1225444164399652
         },
         {
          "param": "alpha.2",
          "value": -0.2615379878342142
         },
         {
          "param": "alpha.2",
          "value": 0.1966965346939262
         },
         {
          "param": "alpha.2",
          "value": 0.15784870724810468
         },
         {
          "param": "alpha.2",
          "value": 0.3451417112677497
         },
         {
          "param": "alpha.2",
          "value": -0.07122094274897026
         },
         {
          "param": "alpha.2",
          "value": 0.3957173535155181
         },
         {
          "param": "alpha.2",
          "value": 0.11600563178637288
         },
         {
          "param": "alpha.2",
          "value": -0.01451931515142535
         },
         {
          "param": "alpha.2",
          "value": 0.18503394086848518
         },
         {
          "param": "alpha.2",
          "value": 0.09996147424650592
         },
         {
          "param": "alpha.2",
          "value": 0.11453286964117008
         },
         {
          "param": "alpha.2",
          "value": 0.0018610081337513476
         },
         {
          "param": "alpha.2",
          "value": 0.08550084066756299
         },
         {
          "param": "alpha.2",
          "value": -0.18167696449063306
         },
         {
          "param": "alpha.2",
          "value": 0.11041906216162366
         },
         {
          "param": "alpha.2",
          "value": -0.1930659042754448
         },
         {
          "param": "alpha.2",
          "value": 0.36089374710978467
         },
         {
          "param": "alpha.2",
          "value": -0.15398421833833853
         },
         {
          "param": "alpha.2",
          "value": 0.19899136305921067
         },
         {
          "param": "alpha.2",
          "value": 0.03897171777169742
         },
         {
          "param": "alpha.2",
          "value": 0.33887820460824153
         },
         {
          "param": "alpha.2",
          "value": 0.43539282796451456
         },
         {
          "param": "alpha.2",
          "value": 0.22584423022428018
         },
         {
          "param": "alpha.2",
          "value": -0.04800103769541099
         },
         {
          "param": "alpha.2",
          "value": 0.24204892277697249
         },
         {
          "param": "alpha.2",
          "value": -0.1408888879307595
         },
         {
          "param": "alpha.2",
          "value": 0.2082148364826745
         },
         {
          "param": "alpha.2",
          "value": -0.04435002258616101
         },
         {
          "param": "alpha.2",
          "value": 0.2836432796503169
         },
         {
          "param": "alpha.2",
          "value": -0.09511828991706998
         },
         {
          "param": "alpha.2",
          "value": 0.281069209652851
         },
         {
          "param": "alpha.2",
          "value": -0.04435002258616101
         },
         {
          "param": "alpha.2",
          "value": 0.044480503438118796
         },
         {
          "param": "alpha.2",
          "value": -0.010732099532830441
         },
         {
          "param": "alpha.2",
          "value": 0.030263044338355236
         },
         {
          "param": "alpha.2",
          "value": -0.02455483690930299
         },
         {
          "param": "alpha.2",
          "value": -0.05638019170725135
         },
         {
          "param": "alpha.2",
          "value": 0.2574858833672065
         },
         {
          "param": "alpha.2",
          "value": 0.3354592415611618
         },
         {
          "param": "alpha.2",
          "value": 0.03635467731991707
         },
         {
          "param": "alpha.2",
          "value": 0.14010410839188933
         },
         {
          "param": "alpha.2",
          "value": 0.15276992082180862
         },
         {
          "param": "alpha.2",
          "value": 0.0812231399771415
         },
         {
          "param": "alpha.2",
          "value": 0.01614560703042682
         },
         {
          "param": "alpha.2",
          "value": 0.04004915258515859
         },
         {
          "param": "alpha.2",
          "value": 0.26735712562832276
         },
         {
          "param": "alpha.2",
          "value": 0.38442069194325346
         },
         {
          "param": "alpha.2",
          "value": 0.21338100304617555
         },
         {
          "param": "alpha.2",
          "value": 0.0862675572821964
         },
         {
          "param": "alpha.2",
          "value": 0.15120767031842075
         },
         {
          "param": "alpha.2",
          "value": 0.11212439348134781
         },
         {
          "param": "alpha.2",
          "value": 0.15858009594640335
         },
         {
          "param": "alpha.2",
          "value": 0.1221208738887702
         },
         {
          "param": "alpha.2",
          "value": 0.4136278309126015
         },
         {
          "param": "alpha.2",
          "value": 0.24557396717238758
         },
         {
          "param": "alpha.2",
          "value": 0.2715216232054447
         },
         {
          "param": "alpha.2",
          "value": 0.0946817926823782
         },
         {
          "param": "alpha.2",
          "value": 0.4897310999107667
         },
         {
          "param": "alpha.2",
          "value": 0.008540911897972361
         },
         {
          "param": "alpha.2",
          "value": 0.18761539947003275
         },
         {
          "param": "alpha.2",
          "value": 0.2951001040170698
         },
         {
          "param": "alpha.2",
          "value": 0.3173235864066451
         },
         {
          "param": "alpha.2",
          "value": 0.3512122114158439
         },
         {
          "param": "alpha.2",
          "value": 0.20798472233599552
         },
         {
          "param": "alpha.2",
          "value": 0.30700579083240725
         },
         {
          "param": "alpha.2",
          "value": 0.06525588011275675
         },
         {
          "param": "alpha.2",
          "value": 0.10156148975688734
         },
         {
          "param": "alpha.2",
          "value": -0.02689788995821224
         },
         {
          "param": "alpha.2",
          "value": 0.3968687837662881
         },
         {
          "param": "alpha.2",
          "value": 0.15070173088532204
         },
         {
          "param": "alpha.2",
          "value": 0.24921620661163096
         },
         {
          "param": "alpha.2",
          "value": 0.3241736121322606
         },
         {
          "param": "alpha.2",
          "value": 0.3867665880499436
         },
         {
          "param": "alpha.2",
          "value": -0.15635228632348486
         },
         {
          "param": "alpha.2",
          "value": 0.12510809383179514
         },
         {
          "param": "alpha.2",
          "value": 0.23344553189542858
         },
         {
          "param": "alpha.2",
          "value": 0.5258939068466952
         },
         {
          "param": "alpha.2",
          "value": -0.07292170954526238
         },
         {
          "param": "alpha.2",
          "value": 0.30709429908025876
         },
         {
          "param": "alpha.2",
          "value": 0.042741156893760596
         },
         {
          "param": "alpha.2",
          "value": -0.18783070709426108
         },
         {
          "param": "alpha.2",
          "value": 0.21608507109351768
         },
         {
          "param": "alpha.2",
          "value": 0.17945210277043933
         },
         {
          "param": "alpha.2",
          "value": 0.03632744719951829
         },
         {
          "param": "alpha.2",
          "value": 0.3804782881423493
         },
         {
          "param": "alpha.2",
          "value": -0.059411591606026645
         },
         {
          "param": "alpha.2",
          "value": 0.00720018235427225
         },
         {
          "param": "alpha.2",
          "value": 0.15797384839814196
         },
         {
          "param": "alpha.2",
          "value": 0.4103756989916781
         },
         {
          "param": "alpha.2",
          "value": 0.07622946008549386
         },
         {
          "param": "alpha.2",
          "value": 0.09155342925999654
         },
         {
          "param": "alpha.2",
          "value": 0.0591826958735705
         },
         {
          "param": "alpha.2",
          "value": -0.09509088053159112
         },
         {
          "param": "alpha.2",
          "value": 0.21994917666423275
         },
         {
          "param": "alpha.2",
          "value": -0.002304964351218082
         },
         {
          "param": "alpha.2",
          "value": 0.21761370212814188
         },
         {
          "param": "alpha.2",
          "value": 0.26148059275213864
         },
         {
          "param": "alpha.2",
          "value": 0.332841763542406
         },
         {
          "param": "alpha.2",
          "value": 0.07730472236533975
         },
         {
          "param": "alpha.2",
          "value": 0.364861275980554
         },
         {
          "param": "alpha.2",
          "value": 0.021909330039256
         },
         {
          "param": "alpha.2",
          "value": 0.24937995063723803
         },
         {
          "param": "alpha.2",
          "value": 0.5563015605396374
         },
         {
          "param": "alpha.2",
          "value": 0.02032256847700975
         },
         {
          "param": "alpha.2",
          "value": -0.31928999946385206
         },
         {
          "param": "alpha.2",
          "value": 0.23227110967539624
         },
         {
          "param": "alpha.2",
          "value": 0.5084388142020477
         },
         {
          "param": "alpha.2",
          "value": 0.006239852043688798
         },
         {
          "param": "alpha.2",
          "value": 0.1735576083625175
         },
         {
          "param": "alpha.2",
          "value": 0.1356007244916713
         },
         {
          "param": "alpha.2",
          "value": -0.21924701289195225
         },
         {
          "param": "alpha.2",
          "value": 0.07126516923342457
         },
         {
          "param": "alpha.2",
          "value": 0.21708656762405243
         },
         {
          "param": "alpha.2",
          "value": 0.1530314227560665
         },
         {
          "param": "alpha.2",
          "value": 0.2559620498763693
         },
         {
          "param": "alpha.2",
          "value": 0.08580855921720278
         },
         {
          "param": "alpha.2",
          "value": 0.268394829355472
         },
         {
          "param": "alpha.2",
          "value": 0.2703688007274179
         },
         {
          "param": "alpha.2",
          "value": 0.25777043466078914
         },
         {
          "param": "alpha.2",
          "value": 0.08580855921720278
         },
         {
          "param": "alpha.2",
          "value": 0.23843253632262262
         },
         {
          "param": "alpha.2",
          "value": 0.44027580586661497
         },
         {
          "param": "alpha.2",
          "value": -0.03341891135535391
         },
         {
          "param": "alpha.2",
          "value": 0.2150585577689376
         },
         {
          "param": "alpha.2",
          "value": 0.04171293233186084
         },
         {
          "param": "alpha.2",
          "value": 0.007998937405321066
         },
         {
          "param": "alpha.2",
          "value": 0.3062269594280739
         },
         {
          "param": "alpha.2",
          "value": 0.32612792282849196
         },
         {
          "param": "alpha.2",
          "value": 0.1179217153850471
         },
         {
          "param": "alpha.2",
          "value": 0.44005384080847226
         },
         {
          "param": "alpha.2",
          "value": 0.22568914012153535
         },
         {
          "param": "alpha.2",
          "value": 0.16866349049526302
         },
         {
          "param": "alpha.2",
          "value": 0.16197088109096955
         },
         {
          "param": "alpha.2",
          "value": 0.4378467329892441
         },
         {
          "param": "alpha.2",
          "value": -0.1668868059515614
         },
         {
          "param": "alpha.2",
          "value": 0.05612133493989116
         },
         {
          "param": "alpha.2",
          "value": 0.055507645913447284
         },
         {
          "param": "alpha.2",
          "value": -0.024267782159265318
         },
         {
          "param": "alpha.2",
          "value": 0.31186039354131506
         },
         {
          "param": "alpha.2",
          "value": -0.0022222722964833786
         },
         {
          "param": "alpha.2",
          "value": 0.08711501967536871
         },
         {
          "param": "alpha.2",
          "value": 0.4259663665976992
         },
         {
          "param": "alpha.2",
          "value": -0.026448152439713532
         },
         {
          "param": "alpha.2",
          "value": 0.1541146411918054
         },
         {
          "param": "alpha.2",
          "value": 0.13142762835334898
         },
         {
          "param": "alpha.2",
          "value": 0.4852623678922657
         },
         {
          "param": "alpha.2",
          "value": 0.42091799218695153
         },
         {
          "param": "alpha.2",
          "value": 0.03052966077768015
         },
         {
          "param": "alpha.2",
          "value": 0.24170988482529635
         },
         {
          "param": "alpha.2",
          "value": 0.2341235956681658
         },
         {
          "param": "alpha.2",
          "value": 0.007441281837087477
         },
         {
          "param": "alpha.2",
          "value": 0.23644475285871303
         },
         {
          "param": "alpha.2",
          "value": 0.10188763691585168
         },
         {
          "param": "alpha.2",
          "value": 0.10639153209406019
         },
         {
          "param": "alpha.2",
          "value": 0.17451546962007758
         },
         {
          "param": "alpha.2",
          "value": 0.040407378802932
         },
         {
          "param": "alpha.2",
          "value": 0.07149310711788048
         },
         {
          "param": "alpha.2",
          "value": -0.06568423786332643
         },
         {
          "param": "alpha.2",
          "value": 0.2986037247588919
         },
         {
          "param": "alpha.2",
          "value": 0.3161522687243814
         },
         {
          "param": "alpha.2",
          "value": 0.2627212364480529
         },
         {
          "param": "alpha.2",
          "value": 0.09979833730883944
         },
         {
          "param": "alpha.2",
          "value": 0.09714610871604838
         },
         {
          "param": "alpha.2",
          "value": -0.019765525712674592
         },
         {
          "param": "alpha.2",
          "value": 0.3626645714468604
         },
         {
          "param": "alpha.2",
          "value": -0.05226002847462212
         },
         {
          "param": "alpha.2",
          "value": 0.02905013855652197
         },
         {
          "param": "alpha.2",
          "value": 0.047839379926505915
         },
         {
          "param": "alpha.2",
          "value": 0.3604074121070203
         },
         {
          "param": "alpha.2",
          "value": -0.058013906692944935
         },
         {
          "param": "alpha.2",
          "value": 0.1249050882944084
         },
         {
          "param": "alpha.2",
          "value": 0.2784777272021586
         },
         {
          "param": "alpha.2",
          "value": 0.14833966212672736
         },
         {
          "param": "alpha.2",
          "value": 0.21513846278724655
         },
         {
          "param": "alpha.2",
          "value": 0.1550945610693522
         },
         {
          "param": "alpha.2",
          "value": 0.11967124873931419
         },
         {
          "param": "alpha.2",
          "value": 0.31487151430597693
         },
         {
          "param": "alpha.2",
          "value": -0.04312321491194244
         },
         {
          "param": "alpha.2",
          "value": 0.1251284870724459
         },
         {
          "param": "alpha.2",
          "value": 0.16004292198153922
         },
         {
          "param": "alpha.2",
          "value": 0.023037548487579912
         },
         {
          "param": "alpha.2",
          "value": 0.3195694901364937
         },
         {
          "param": "alpha.2",
          "value": 0.3602281211103963
         },
         {
          "param": "alpha.2",
          "value": -0.02698803767030434
         },
         {
          "param": "alpha.2",
          "value": 0.2927644985516534
         },
         {
          "param": "alpha.2",
          "value": 0.4020395944811776
         },
         {
          "param": "alpha.2",
          "value": 0.13546522546241543
         },
         {
          "param": "alpha.2",
          "value": 0.23062686204135222
         },
         {
          "param": "alpha.2",
          "value": 0.2290169516068662
         },
         {
          "param": "alpha.2",
          "value": -0.04572260040665188
         },
         {
          "param": "alpha.2",
          "value": 0.21161557164644926
         },
         {
          "param": "alpha.2",
          "value": 0.10124794628081892
         },
         {
          "param": "alpha.2",
          "value": 0.39910532670449855
         },
         {
          "param": "alpha.2",
          "value": 0.27533765648405223
         },
         {
          "param": "alpha.2",
          "value": 0.26928459683182204
         },
         {
          "param": "alpha.2",
          "value": 0.19161416712911347
         },
         {
          "param": "alpha.2",
          "value": 0.11386787730326278
         },
         {
          "param": "alpha.2",
          "value": 0.05387300657960894
         },
         {
          "param": "alpha.2",
          "value": 0.6592952242361152
         },
         {
          "param": "alpha.2",
          "value": 0.10753772065940358
         },
         {
          "param": "alpha.2",
          "value": 0.27220006843246725
         },
         {
          "param": "alpha.2",
          "value": 0.2985035021636282
         },
         {
          "param": "alpha.2",
          "value": -0.20348891467275637
         },
         {
          "param": "alpha.2",
          "value": -0.09332373862209355
         },
         {
          "param": "alpha.2",
          "value": 0.2819212477201066
         },
         {
          "param": "alpha.2",
          "value": 0.053699358924981094
         },
         {
          "param": "alpha.2",
          "value": 0.5075275431508667
         },
         {
          "param": "alpha.2",
          "value": 0.33417929997311824
         },
         {
          "param": "alpha.2",
          "value": 0.49379386306383827
         },
         {
          "param": "alpha.2",
          "value": 0.061283061245452256
         },
         {
          "param": "alpha.2",
          "value": -0.16375481156565258
         },
         {
          "param": "alpha.2",
          "value": 0.22537837333753036
         },
         {
          "param": "alpha.2",
          "value": -0.11474964047200453
         },
         {
          "param": "alpha.2",
          "value": 0.11772165697194287
         },
         {
          "param": "alpha.2",
          "value": 0.044845998094749706
         },
         {
          "param": "alpha.2",
          "value": 0.3922817456369703
         },
         {
          "param": "alpha.2",
          "value": -0.08705907056809223
         },
         {
          "param": "alpha.2",
          "value": -0.12805021955589752
         },
         {
          "param": "alpha.2",
          "value": -0.04502138136317712
         },
         {
          "param": "alpha.2",
          "value": -0.26129558076013865
         },
         {
          "param": "alpha.2",
          "value": 0.2046662038767429
         },
         {
          "param": "alpha.2",
          "value": 0.2135590662084467
         },
         {
          "param": "alpha.2",
          "value": 0.12833721180690572
         },
         {
          "param": "alpha.2",
          "value": 0.5899401252247555
         },
         {
          "param": "alpha.2",
          "value": 0.24298985853078875
         },
         {
          "param": "alpha.2",
          "value": -0.009643474993819137
         },
         {
          "param": "alpha.2",
          "value": 0.2539245891074191
         },
         {
          "param": "alpha.2",
          "value": 0.35133121569326947
         },
         {
          "param": "alpha.2",
          "value": -0.029121837106438647
         },
         {
          "param": "alpha.2",
          "value": -0.03222244443849549
         },
         {
          "param": "alpha.2",
          "value": 0.031802678152011474
         },
         {
          "param": "alpha.2",
          "value": 0.05353682879202973
         },
         {
          "param": "alpha.2",
          "value": 0.2905283314387497
         },
         {
          "param": "alpha.2",
          "value": 0.18937422047317953
         },
         {
          "param": "alpha.2",
          "value": 0.02571403655473084
         },
         {
          "param": "alpha.2",
          "value": -0.014624299587903136
         },
         {
          "param": "alpha.2",
          "value": 0.08001767431928408
         },
         {
          "param": "alpha.2",
          "value": 0.1962842492085872
         },
         {
          "param": "alpha.2",
          "value": 0.07704301119268163
         },
         {
          "param": "alpha.2",
          "value": -0.0231949398011798
         },
         {
          "param": "alpha.2",
          "value": 0.14767534293677198
         },
         {
          "param": "alpha.2",
          "value": 0.25903093931779186
         },
         {
          "param": "alpha.2",
          "value": 0.05618466011763605
         },
         {
          "param": "alpha.2",
          "value": 0.14329854649042217
         },
         {
          "param": "alpha.2",
          "value": 0.8134960136296556
         },
         {
          "param": "alpha.2",
          "value": -0.0772521721188495
         },
         {
          "param": "alpha.2",
          "value": 0.38110835144763794
         },
         {
          "param": "alpha.2",
          "value": 0.24848716079193095
         },
         {
          "param": "alpha.2",
          "value": -0.3281709203962758
         },
         {
          "param": "alpha.2",
          "value": 0.07260385870408836
         },
         {
          "param": "alpha.2",
          "value": -0.10614771361794467
         },
         {
          "param": "alpha.2",
          "value": 0.10363704041617552
         },
         {
          "param": "alpha.2",
          "value": 0.4152957711676114
         },
         {
          "param": "alpha.2",
          "value": 0.6761176087010996
         },
         {
          "param": "alpha.2",
          "value": 0.2568983993578079
         },
         {
          "param": "alpha.2",
          "value": 0.17289380127409498
         },
         {
          "param": "alpha.2",
          "value": 0.1385026192153319
         },
         {
          "param": "alpha.2",
          "value": 0.39476293909445803
         },
         {
          "param": "alpha.2",
          "value": 0.19575557003148933
         },
         {
          "param": "alpha.2",
          "value": 0.08403452943304775
         },
         {
          "param": "alpha.2",
          "value": 0.08990585081535002
         },
         {
          "param": "alpha.2",
          "value": 0.3899432875053714
         },
         {
          "param": "alpha.2",
          "value": 0.23904803466888377
         },
         {
          "param": "alpha.2",
          "value": 0.24970765571088024
         },
         {
          "param": "alpha.2",
          "value": 0.09816579250210396
         },
         {
          "param": "alpha.2",
          "value": -0.0008063654175605624
         },
         {
          "param": "alpha.2",
          "value": 0.16428316768009668
         },
         {
          "param": "alpha.2",
          "value": 0.05682006078237395
         },
         {
          "param": "alpha.2",
          "value": 0.08524026882886639
         },
         {
          "param": "alpha.2",
          "value": 0.052439375877299826
         },
         {
          "param": "alpha.2",
          "value": 0.056979091828388666
         },
         {
          "param": "alpha.2",
          "value": 0.17390134308969657
         },
         {
          "param": "alpha.2",
          "value": 0.07482898780525254
         },
         {
          "param": "alpha.2",
          "value": 0.17944936496961938
         },
         {
          "param": "alpha.2",
          "value": 0.005507609879878292
         },
         {
          "param": "alpha.2",
          "value": 0.15424914464268308
         },
         {
          "param": "alpha.2",
          "value": -0.17317059813054286
         },
         {
          "param": "alpha.2",
          "value": 0.1875617101871135
         },
         {
          "param": "alpha.2",
          "value": 0.10826351875852608
         },
         {
          "param": "alpha.2",
          "value": 0.26037062025037444
         },
         {
          "param": "alpha.2",
          "value": 0.03030048142907918
         },
         {
          "param": "alpha.2",
          "value": -0.19397035917571218
         },
         {
          "param": "alpha.2",
          "value": 0.2130736564531907
         },
         {
          "param": "alpha.2",
          "value": 0.12229714983512033
         },
         {
          "param": "alpha.2",
          "value": 0.08998370283154085
         },
         {
          "param": "alpha.2",
          "value": 0.4002824575125675
         },
         {
          "param": "alpha.2",
          "value": 0.1390268062133797
         },
         {
          "param": "alpha.2",
          "value": 0.23107202716821512
         },
         {
          "param": "alpha.2",
          "value": 0.48697531777421005
         },
         {
          "param": "alpha.2",
          "value": 0.3048890239008647
         },
         {
          "param": "alpha.2",
          "value": 0.18398170252043305
         },
         {
          "param": "alpha.2",
          "value": 0.08357343262702155
         },
         {
          "param": "alpha.2",
          "value": 0.48669416583714187
         },
         {
          "param": "alpha.2",
          "value": -0.035541443141582446
         },
         {
          "param": "alpha.2",
          "value": 0.0657677601445738
         },
         {
          "param": "alpha.2",
          "value": 0.11510000481326382
         },
         {
          "param": "alpha.2",
          "value": -0.26580764322644007
         },
         {
          "param": "alpha.2",
          "value": -0.04550271431961524
         },
         {
          "param": "alpha.2",
          "value": 0.1501446452321015
         },
         {
          "param": "alpha.2",
          "value": 0.22296667864852684
         },
         {
          "param": "alpha.2",
          "value": 0.010102644475238953
         },
         {
          "param": "alpha.2",
          "value": -0.027861322721480793
         },
         {
          "param": "alpha.2",
          "value": -0.044013812440889366
         },
         {
          "param": "alpha.2",
          "value": -0.10815038133568397
         },
         {
          "param": "alpha.2",
          "value": 0.4394884209313519
         },
         {
          "param": "alpha.2",
          "value": 0.017339139298436085
         },
         {
          "param": "alpha.2",
          "value": -0.07285862968017655
         },
         {
          "param": "alpha.2",
          "value": 0.19031750295507122
         },
         {
          "param": "alpha.2",
          "value": -0.07072780807905987
         },
         {
          "param": "alpha.2",
          "value": 0.3005738322293141
         },
         {
          "param": "alpha.2",
          "value": 0.451662050676867
         },
         {
          "param": "alpha.2",
          "value": 0.3393649496957592
         },
         {
          "param": "alpha.2",
          "value": 0.3722014233749034
         },
         {
          "param": "alpha.2",
          "value": 0.3005738322293141
         },
         {
          "param": "alpha.2",
          "value": 0.589894516187052
         },
         {
          "param": "alpha.2",
          "value": 0.009362785156665637
         },
         {
          "param": "alpha.2",
          "value": 0.3142246903112973
         },
         {
          "param": "alpha.2",
          "value": 0.11869171769856156
         },
         {
          "param": "alpha.2",
          "value": -0.20841421906133006
         },
         {
          "param": "alpha.2",
          "value": 0.1621257989711652
         },
         {
          "param": "alpha.2",
          "value": 0.11617574108235887
         },
         {
          "param": "alpha.2",
          "value": -0.014129602810035308
         },
         {
          "param": "alpha.2",
          "value": 0.02428373158170824
         },
         {
          "param": "alpha.2",
          "value": 0.19580045545018815
         },
         {
          "param": "alpha.2",
          "value": 0.01825882671367808
         },
         {
          "param": "alpha.2",
          "value": 0.08635546808962315
         },
         {
          "param": "alpha.2",
          "value": 0.019561471924818247
         },
         {
          "param": "alpha.2",
          "value": 0.10591608316976411
         },
         {
          "param": "alpha.2",
          "value": 0.028418621455516702
         },
         {
          "param": "alpha.2",
          "value": 0.35880248716349905
         },
         {
          "param": "alpha.2",
          "value": 0.1283784633441306
         },
         {
          "param": "alpha.2",
          "value": 0.24343849851193944
         },
         {
          "param": "alpha.2",
          "value": 0.20279013128286824
         },
         {
          "param": "alpha.2",
          "value": 0.007506410544862771
         },
         {
          "param": "alpha.2",
          "value": 0.1627828943590368
         },
         {
          "param": "alpha.2",
          "value": 0.16756233451662736
         },
         {
          "param": "alpha.2",
          "value": 0.2834794572033602
         },
         {
          "param": "alpha.2",
          "value": 0.04659763811845901
         },
         {
          "param": "alpha.2",
          "value": 0.3135945607155068
         },
         {
          "param": "alpha.2",
          "value": 0.12217441145353247
         },
         {
          "param": "alpha.2",
          "value": 0.28810441570610884
         },
         {
          "param": "alpha.2",
          "value": 0.16803523638203263
         },
         {
          "param": "alpha.2",
          "value": 0.16226329322231217
         },
         {
          "param": "alpha.2",
          "value": 0.3158340763610624
         },
         {
          "param": "alpha.2",
          "value": 0.11264672640548433
         },
         {
          "param": "alpha.2",
          "value": 0.015047637253744387
         },
         {
          "param": "alpha.2",
          "value": 0.05552699898856314
         },
         {
          "param": "alpha.2",
          "value": 0.16567933666200885
         },
         {
          "param": "alpha.2",
          "value": 0.10984006369381549
         },
         {
          "param": "alpha.2",
          "value": 0.17902003944953776
         },
         {
          "param": "alpha.2",
          "value": 0.08868990338815944
         },
         {
          "param": "alpha.2",
          "value": 0.049000876946542996
         },
         {
          "param": "alpha.2",
          "value": 0.227356893835856
         },
         {
          "param": "alpha.2",
          "value": 0.18438631392073287
         },
         {
          "param": "alpha.2",
          "value": 0.14950047244209708
         },
         {
          "param": "alpha.2",
          "value": -0.05067053332919333
         },
         {
          "param": "alpha.2",
          "value": -0.12795703238188919
         },
         {
          "param": "alpha.2",
          "value": 0.1539466961169481
         },
         {
          "param": "alpha.2",
          "value": 0.20017381951387908
         },
         {
          "param": "alpha.2",
          "value": 0.5102770506241162
         },
         {
          "param": "alpha.2",
          "value": -0.2513571640130638
         },
         {
          "param": "alpha.2",
          "value": 0.05378458878643878
         },
         {
          "param": "alpha.2",
          "value": -0.034505162147779496
         },
         {
          "param": "alpha.2",
          "value": -0.10961351111791146
         },
         {
          "param": "alpha.2",
          "value": 0.4070647294566756
         },
         {
          "param": "alpha.2",
          "value": 0.3761880713856667
         },
         {
          "param": "alpha.2",
          "value": -0.029908291271652315
         },
         {
          "param": "alpha.2",
          "value": 0.4832840356697513
         },
         {
          "param": "alpha.2",
          "value": 0.4199337210836477
         },
         {
          "param": "alpha.2",
          "value": 0.1283710653550117
         },
         {
          "param": "alpha.2",
          "value": 0.24435860342038174
         },
         {
          "param": "alpha.2",
          "value": 0.0654192897085388
         },
         {
          "param": "alpha.2",
          "value": 0.2909370130088198
         },
         {
          "param": "alpha.2",
          "value": 0.22692689707320518
         },
         {
          "param": "alpha.2",
          "value": 0.032024982432904345
         },
         {
          "param": "alpha.2",
          "value": 0.276696987145312
         },
         {
          "param": "alpha.2",
          "value": 0.05062081693465249
         },
         {
          "param": "alpha.2",
          "value": 0.20995838048460627
         },
         {
          "param": "alpha.2",
          "value": 0.3607558580360032
         },
         {
          "param": "alpha.2",
          "value": 0.21614138504430308
         },
         {
          "param": "alpha.2",
          "value": 0.2014649235029967
         },
         {
          "param": "alpha.2",
          "value": 0.13721169734124955
         },
         {
          "param": "alpha.2",
          "value": -0.02284165515848466
         },
         {
          "param": "alpha.2",
          "value": -0.11820410686067415
         },
         {
          "param": "alpha.2",
          "value": 0.21479007565663666
         },
         {
          "param": "alpha.2",
          "value": 0.23506539877831023
         },
         {
          "param": "alpha.2",
          "value": 0.2018600000730118
         },
         {
          "param": "alpha.2",
          "value": 0.21713145769960246
         },
         {
          "param": "alpha.2",
          "value": 0.11865781319456713
         },
         {
          "param": "alpha.2",
          "value": 0.15398694875529156
         },
         {
          "param": "alpha.2",
          "value": 0.03954971521040552
         },
         {
          "param": "alpha.2",
          "value": 0.043307353234392776
         },
         {
          "param": "alpha.2",
          "value": 0.25185416513452497
         },
         {
          "param": "alpha.2",
          "value": 0.01892286506048882
         },
         {
          "param": "alpha.2",
          "value": 0.2535193313399188
         },
         {
          "param": "alpha.2",
          "value": 0.01246664437734267
         },
         {
          "param": "alpha.2",
          "value": 0.0739367670442338
         },
         {
          "param": "alpha.2",
          "value": 0.3978898431292998
         },
         {
          "param": "alpha.2",
          "value": -0.008773920792864223
         },
         {
          "param": "alpha.2",
          "value": 0.012674361409601305
         },
         {
          "param": "alpha.2",
          "value": 0.5487692894650306
         },
         {
          "param": "alpha.2",
          "value": 0.18773821209316277
         },
         {
          "param": "alpha.2",
          "value": 0.49389423468677374
         },
         {
          "param": "alpha.2",
          "value": 0.19693100837325195
         },
         {
          "param": "alpha.2",
          "value": 0.32223619631895706
         },
         {
          "param": "alpha.2",
          "value": 0.35143701093696583
         },
         {
          "param": "alpha.2",
          "value": -0.10995482655339123
         },
         {
          "param": "alpha.2",
          "value": 0.2910410814628789
         },
         {
          "param": "alpha.2",
          "value": -0.05524924153716315
         },
         {
          "param": "alpha.2",
          "value": 0.06411642178078611
         },
         {
          "param": "alpha.2",
          "value": 0.6010502249618472
         },
         {
          "param": "alpha.2",
          "value": 0.23036389470428034
         },
         {
          "param": "alpha.2",
          "value": 0.23517195211062505
         },
         {
          "param": "alpha.2",
          "value": 0.480548074664478
         },
         {
          "param": "alpha.2",
          "value": 0.5526996412202683
         },
         {
          "param": "alpha.2",
          "value": 0.09431050934746253
         },
         {
          "param": "alpha.2",
          "value": 0.07944309327632279
         },
         {
          "param": "alpha.2",
          "value": 0.28132296343705593
         },
         {
          "param": "alpha.2",
          "value": -0.09304605101573131
         },
         {
          "param": "alpha.2",
          "value": 0.2714159881643259
         },
         {
          "param": "alpha.2",
          "value": 0.3834089535282775
         },
         {
          "param": "alpha.2",
          "value": 0.1926269885024321
         },
         {
          "param": "alpha.2",
          "value": 0.11607308755820708
         },
         {
          "param": "alpha.2",
          "value": 0.05037868653520042
         },
         {
          "param": "alpha.2",
          "value": 0.4682858808696795
         },
         {
          "param": "alpha.2",
          "value": 0.4184605527381935
         },
         {
          "param": "alpha.2",
          "value": 0.43149821188126597
         },
         {
          "param": "alpha.2",
          "value": -0.30911939030659874
         },
         {
          "param": "alpha.2",
          "value": 0.20067770262017334
         },
         {
          "param": "alpha.2",
          "value": 0.11910764177725303
         },
         {
          "param": "alpha.2",
          "value": 0.3878831379368945
         },
         {
          "param": "alpha.2",
          "value": 0.482769366968775
         },
         {
          "param": "alpha.2",
          "value": 0.4434431719962947
         },
         {
          "param": "alpha.2",
          "value": 0.14808071758312105
         },
         {
          "param": "alpha.2",
          "value": 0.03988983633348622
         },
         {
          "param": "alpha.2",
          "value": 0.29727749741835374
         },
         {
          "param": "alpha.2",
          "value": 0.09785570641309396
         },
         {
          "param": "alpha.2",
          "value": 0.07976725410451468
         },
         {
          "param": "alpha.2",
          "value": 0.015072934495893767
         },
         {
          "param": "alpha.2",
          "value": 0.2942769706905712
         },
         {
          "param": "alpha.2",
          "value": 0.08036223866230169
         },
         {
          "param": "alpha.2",
          "value": 0.09175268136944446
         },
         {
          "param": "alpha.2",
          "value": 0.23428951959012712
         },
         {
          "param": "alpha.2",
          "value": -0.10879827006158052
         },
         {
          "param": "alpha.2",
          "value": 0.381720690651428
         },
         {
          "param": "alpha.2",
          "value": 0.12526849323270628
         },
         {
          "param": "alpha.2",
          "value": -0.024748409279936545
         },
         {
          "param": "alpha.2",
          "value": 0.2830687845312867
         },
         {
          "param": "alpha.2",
          "value": -0.10877590892004077
         },
         {
          "param": "alpha.2",
          "value": -0.07878070872923089
         },
         {
          "param": "alpha.2",
          "value": 0.06608802007507934
         },
         {
          "param": "alpha.2",
          "value": 0.219560740212597
         },
         {
          "param": "alpha.2",
          "value": 0.1536935262597192
         },
         {
          "param": "alpha.2",
          "value": 0.3330370425505266
         },
         {
          "param": "alpha.2",
          "value": 0.2947103904270281
         },
         {
          "param": "alpha.2",
          "value": 0.10708169987414942
         },
         {
          "param": "alpha.2",
          "value": -0.0322061819973267
         },
         {
          "param": "alpha.2",
          "value": 0.24187953647820182
         },
         {
          "param": "alpha.2",
          "value": 0.06528811974098303
         },
         {
          "param": "alpha.2",
          "value": 0.269027967787935
         },
         {
          "param": "alpha.2",
          "value": 0.12118113240071186
         },
         {
          "param": "alpha.2",
          "value": 0.006779939930613016
         },
         {
          "param": "alpha.2",
          "value": 0.3453671307048835
         },
         {
          "param": "alpha.2",
          "value": -0.05171603483234721
         },
         {
          "param": "alpha.2",
          "value": 0.2003776874049475
         },
         {
          "param": "alpha.2",
          "value": 0.20175473690218793
         },
         {
          "param": "alpha.2",
          "value": 0.021212975801135864
         },
         {
          "param": "alpha.2",
          "value": 0.29155513121707965
         },
         {
          "param": "alpha.2",
          "value": 0.2626723004533409
         },
         {
          "param": "alpha.2",
          "value": 0.23666330742414537
         },
         {
          "param": "alpha.2",
          "value": 0.03585093781128698
         },
         {
          "param": "alpha.2",
          "value": -0.05195494647882279
         },
         {
          "param": "alpha.2",
          "value": -0.14034170470794013
         },
         {
          "param": "alpha.2",
          "value": 0.20307286701498237
         },
         {
          "param": "alpha.2",
          "value": 0.431616560555176
         },
         {
          "param": "alpha.2",
          "value": -0.024906999049864976
         },
         {
          "param": "alpha.2",
          "value": -0.17293406583130205
         },
         {
          "param": "alpha.2",
          "value": 0.1227785746541551
         },
         {
          "param": "alpha.2",
          "value": 0.3572995221027019
         },
         {
          "param": "alpha.2",
          "value": 0.2179183228312835
         },
         {
          "param": "alpha.2",
          "value": 0.23977485354169797
         },
         {
          "param": "alpha.2",
          "value": 0.337489036740013
         },
         {
          "param": "alpha.2",
          "value": -0.00252723426244055
         },
         {
          "param": "alpha.2",
          "value": 0.06292795758923098
         },
         {
          "param": "alpha.2",
          "value": 0.07415072166847984
         },
         {
          "param": "alpha.2",
          "value": 0.1971626379934517
         },
         {
          "param": "alpha.2",
          "value": 0.2601512882947461
         },
         {
          "param": "alpha.2",
          "value": 0.25224355758383077
         },
         {
          "param": "alpha.2",
          "value": 0.22780319242091002
         },
         {
          "param": "alpha.2",
          "value": 9.467909377479378e-05
         },
         {
          "param": "alpha.2",
          "value": 0.20627858404009244
         },
         {
          "param": "alpha.2",
          "value": -0.10673012236720683
         },
         {
          "param": "alpha.2",
          "value": 0.32196203799303935
         },
         {
          "param": "alpha.2",
          "value": -0.16552632411165707
         },
         {
          "param": "alpha.2",
          "value": 0.07610684398055148
         },
         {
          "param": "alpha.2",
          "value": 0.1862073129080687
         },
         {
          "param": "alpha.2",
          "value": 0.29818390208898904
         },
         {
          "param": "alpha.2",
          "value": -0.09572564835109863
         },
         {
          "param": "alpha.2",
          "value": 0.30744529171136264
         },
         {
          "param": "alpha.2",
          "value": 0.2104297502318108
         },
         {
          "param": "alpha.2",
          "value": 0.039270657781763335
         },
         {
          "param": "alpha.2",
          "value": 0.47478251883766676
         },
         {
          "param": "alpha.2",
          "value": -0.1708834365498752
         },
         {
          "param": "alpha.2",
          "value": 0.08169151616127769
         },
         {
          "param": "alpha.2",
          "value": 0.5189763029958883
         },
         {
          "param": "alpha.2",
          "value": 0.6052490956844047
         },
         {
          "param": "alpha.2",
          "value": 0.379814446986232
         },
         {
          "param": "alpha.2",
          "value": 0.13834375958325507
         },
         {
          "param": "alpha.2",
          "value": 0.35512750984174846
         },
         {
          "param": "alpha.2",
          "value": 0.475209089941845
         },
         {
          "param": "alpha.2",
          "value": -0.03700193218284697
         },
         {
          "param": "alpha.2",
          "value": 0.2962766079018312
         },
         {
          "param": "alpha.2",
          "value": 0.21986861386683512
         },
         {
          "param": "alpha.2",
          "value": 0.024465884729076542
         },
         {
          "param": "alpha.2",
          "value": 0.1341849332300641
         },
         {
          "param": "alpha.2",
          "value": -0.05117782380399252
         },
         {
          "param": "alpha.2",
          "value": 0.3140183908281317
         },
         {
          "param": "alpha.2",
          "value": 0.2058728495756094
         },
         {
          "param": "alpha.2",
          "value": 0.2352369814284977
         },
         {
          "param": "alpha.2",
          "value": 0.17894316856590292
         },
         {
          "param": "alpha.2",
          "value": -0.28539772927598567
         },
         {
          "param": "alpha.2",
          "value": 0.3703725245129374
         },
         {
          "param": "alpha.2",
          "value": -0.0649931162005257
         },
         {
          "param": "alpha.2",
          "value": 0.23858056456058252
         },
         {
          "param": "alpha.2",
          "value": 0.4592650049693233
         },
         {
          "param": "alpha.2",
          "value": 0.17900556465947193
         },
         {
          "param": "alpha.2",
          "value": 0.005212762666399445
         },
         {
          "param": "alpha.2",
          "value": -0.009535187906940135
         },
         {
          "param": "alpha.2",
          "value": 0.38830444445235873
         },
         {
          "param": "alpha.2",
          "value": 0.1991889704630006
         },
         {
          "param": "alpha.2",
          "value": 0.2099800556007096
         },
         {
          "param": "alpha.2",
          "value": 0.1524760749890055
         },
         {
          "param": "alpha.2",
          "value": 0.13017870315431151
         },
         {
          "param": "alpha.2",
          "value": 0.10722918353683267
         },
         {
          "param": "alpha.2",
          "value": 0.05700111920622632
         },
         {
          "param": "alpha.2",
          "value": 0.18330476787944988
         },
         {
          "param": "alpha.2",
          "value": 0.13839514647940235
         },
         {
          "param": "alpha.2",
          "value": 0.2537475148572258
         },
         {
          "param": "alpha.2",
          "value": 0.17815821732898396
         },
         {
          "param": "alpha.2",
          "value": -0.21279272751326214
         },
         {
          "param": "alpha.2",
          "value": -0.03928991169883768
         },
         {
          "param": "alpha.2",
          "value": 0.260137363238398
         },
         {
          "param": "alpha.2",
          "value": 0.14736740158692638
         },
         {
          "param": "alpha.2",
          "value": -0.05566132827200776
         },
         {
          "param": "alpha.2",
          "value": -0.012644946243469679
         },
         {
          "param": "alpha.2",
          "value": 0.11788614412699219
         },
         {
          "param": "alpha.2",
          "value": -0.16465482643419013
         },
         {
          "param": "alpha.2",
          "value": 0.4297842752669612
         },
         {
          "param": "alpha.2",
          "value": 0.06591517966849127
         },
         {
          "param": "alpha.2",
          "value": 0.18991651135895432
         },
         {
          "param": "alpha.2",
          "value": 0.01594097750097964
         },
         {
          "param": "alpha.2",
          "value": 0.48062292534214457
         },
         {
          "param": "alpha.2",
          "value": 0.20939213247081964
         },
         {
          "param": "alpha.2",
          "value": 0.15188546713000442
         },
         {
          "param": "alpha.2",
          "value": 0.03790203051389272
         },
         {
          "param": "alpha.2",
          "value": 0.4806095129100961
         },
         {
          "param": "alpha.2",
          "value": 0.19400242077963806
         },
         {
          "param": "alpha.2",
          "value": 0.39007849834734615
         },
         {
          "param": "alpha.2",
          "value": 0.267031737762723
         },
         {
          "param": "alpha.2",
          "value": 0.021322293414274163
         },
         {
          "param": "alpha.2",
          "value": 0.30735696495226594
         },
         {
          "param": "alpha.2",
          "value": 0.1715781399000483
         },
         {
          "param": "alpha.2",
          "value": -0.10012650246982735
         },
         {
          "param": "alpha.2",
          "value": 0.2529824760967814
         },
         {
          "param": "alpha.2",
          "value": 0.30233789439961856
         },
         {
          "param": "alpha.2",
          "value": 0.10585876043531031
         },
         {
          "param": "alpha.2",
          "value": -0.018495106909532835
         },
         {
          "param": "alpha.2",
          "value": 0.14705405417533352
         },
         {
          "param": "alpha.2",
          "value": 0.10985865942215786
         },
         {
          "param": "alpha.2",
          "value": 0.28088885436274186
         },
         {
          "param": "alpha.2",
          "value": 0.15011697155658865
         },
         {
          "param": "alpha.2",
          "value": 0.060768715684382725
         },
         {
          "param": "alpha.2",
          "value": 0.2422256350816037
         },
         {
          "param": "alpha.2",
          "value": 0.305597306469894
         },
         {
          "param": "alpha.2",
          "value": 0.19247229445853795
         },
         {
          "param": "alpha.2",
          "value": 0.09576643170535737
         },
         {
          "param": "alpha.2",
          "value": -0.20218012119184817
         },
         {
          "param": "alpha.2",
          "value": 0.26289748884443015
         },
         {
          "param": "alpha.2",
          "value": 0.1312326339430373
         },
         {
          "param": "alpha.2",
          "value": 0.06434921049594518
         },
         {
          "param": "alpha.2",
          "value": -0.2846425973857566
         },
         {
          "param": "alpha.2",
          "value": 0.40107248611113566
         },
         {
          "param": "alpha.2",
          "value": 0.3485744541086019
         },
         {
          "param": "alpha.2",
          "value": -0.08486304707471953
         },
         {
          "param": "alpha.2",
          "value": 0.45460375670534336
         },
         {
          "param": "alpha.2",
          "value": 0.02156526106750549
         },
         {
          "param": "alpha.2",
          "value": 0.32640535612199983
         },
         {
          "param": "alpha.2",
          "value": 0.38029769647190237
         },
         {
          "param": "alpha.2",
          "value": -0.024664350281582537
         },
         {
          "param": "alpha.2",
          "value": 0.037664953938509674
         },
         {
          "param": "alpha.2",
          "value": 0.22299214979595716
         },
         {
          "param": "alpha.2",
          "value": 0.14402886230784512
         },
         {
          "param": "alpha.2",
          "value": 0.09610798989550536
         },
         {
          "param": "alpha.2",
          "value": 0.12127413486460503
         },
         {
          "param": "alpha.2",
          "value": 0.2217813597125158
         },
         {
          "param": "alpha.2",
          "value": 0.19533955174192752
         },
         {
          "param": "alpha.2",
          "value": 0.14901463691536454
         },
         {
          "param": "alpha.2",
          "value": 0.04175841022078572
         },
         {
          "param": "alpha.2",
          "value": 0.21581537488225305
         },
         {
          "param": "alpha.2",
          "value": 0.23885628728126276
         },
         {
          "param": "alpha.2",
          "value": 0.4404595969773131
         },
         {
          "param": "alpha.2",
          "value": 0.0004969457751179962
         },
         {
          "param": "alpha.2",
          "value": 0.19088905075992507
         },
         {
          "param": "alpha.2",
          "value": 0.26446963039874805
         },
         {
          "param": "alpha.2",
          "value": -0.07983603993188647
         },
         {
          "param": "alpha.2",
          "value": 0.2488854618760279
         },
         {
          "param": "alpha.2",
          "value": -0.1321000360238107
         },
         {
          "param": "alpha.2",
          "value": 0.31087517366219686
         },
         {
          "param": "alpha.2",
          "value": 0.13503902441301935
         },
         {
          "param": "alpha.2",
          "value": 0.059508704388291894
         },
         {
          "param": "alpha.2",
          "value": -0.07133936439969718
         },
         {
          "param": "alpha.2",
          "value": -0.02554440505529331
         },
         {
          "param": "alpha.2",
          "value": -0.03645200731070141
         },
         {
          "param": "alpha.2",
          "value": 0.2927173024788843
         },
         {
          "param": "alpha.2",
          "value": -0.1715270501800549
         },
         {
          "param": "alpha.2",
          "value": 0.13181631217809703
         },
         {
          "param": "alpha.2",
          "value": 0.42831299686409097
         },
         {
          "param": "alpha.2",
          "value": 0.32192933237677834
         },
         {
          "param": "alpha.2",
          "value": 0.29500967094060093
         },
         {
          "param": "alpha.2",
          "value": -0.11263785673420215
         },
         {
          "param": "alpha.2",
          "value": -0.07042182088847646
         },
         {
          "param": "alpha.2",
          "value": 0.2055685020299876
         },
         {
          "param": "alpha.2",
          "value": 0.44769757817347267
         },
         {
          "param": "alpha.2",
          "value": 0.2517452065947374
         },
         {
          "param": "alpha.2",
          "value": 0.3472461384949541
         },
         {
          "param": "alpha.2",
          "value": 0.09688492738463449
         },
         {
          "param": "alpha.2",
          "value": 0.43407300279432554
         },
         {
          "param": "alpha.2",
          "value": 0.055936579867419456
         },
         {
          "param": "alpha.2",
          "value": -0.18383932107604417
         },
         {
          "param": "alpha.2",
          "value": 0.3603552258566164
         },
         {
          "param": "alpha.2",
          "value": 0.18677598131454512
         },
         {
          "param": "alpha.2",
          "value": 0.13020271753711207
         },
         {
          "param": "alpha.2",
          "value": 0.4022458434598058
         },
         {
          "param": "alpha.2",
          "value": 0.329777478416354
         },
         {
          "param": "alpha.2",
          "value": 0.13229248777250446
         },
         {
          "param": "alpha.2",
          "value": 0.2484757514930007
         },
         {
          "param": "alpha.2",
          "value": 0.47293736448722146
         },
         {
          "param": "alpha.2",
          "value": 0.10923779386283763
         },
         {
          "param": "alpha.2",
          "value": 0.08555417838664311
         },
         {
          "param": "alpha.2",
          "value": 0.05143545081662533
         },
         {
          "param": "alpha.2",
          "value": 0.4163284903666245
         },
         {
          "param": "alpha.2",
          "value": 0.05056892258054829
         },
         {
          "param": "alpha.2",
          "value": 0.11116975191677021
         },
         {
          "param": "alpha.2",
          "value": 0.19039580664438832
         },
         {
          "param": "alpha.2",
          "value": -0.06140689071515581
         },
         {
          "param": "alpha.2",
          "value": 0.02188408646850188
         },
         {
          "param": "alpha.2",
          "value": 0.20764823140924574
         },
         {
          "param": "alpha.2",
          "value": 0.18381639598301197
         },
         {
          "param": "alpha.2",
          "value": 0.3545476501384275
         },
         {
          "param": "alpha.2",
          "value": -0.06946267067623124
         },
         {
          "param": "alpha.2",
          "value": 0.04751707271309264
         },
         {
          "param": "alpha.2",
          "value": 0.3146532642285619
         },
         {
          "param": "alpha.2",
          "value": 0.41940563516819446
         },
         {
          "param": "alpha.2",
          "value": 0.3541832171330532
         },
         {
          "param": "alpha.2",
          "value": 0.2752577642565834
         },
         {
          "param": "alpha.2",
          "value": -0.1273376855311161
         },
         {
          "param": "alpha.2",
          "value": 0.15632303642167206
         },
         {
          "param": "alpha.2",
          "value": 0.2865204024654656
         },
         {
          "param": "alpha.2",
          "value": -0.12246464713257199
         },
         {
          "param": "alpha.2",
          "value": 0.2055098428083312
         },
         {
          "param": "alpha.2",
          "value": 0.22478014439646937
         },
         {
          "param": "alpha.2",
          "value": 0.16689057128868426
         },
         {
          "param": "alpha.2",
          "value": 0.19801188101567377
         },
         {
          "param": "alpha.2",
          "value": 0.09154145951913899
         },
         {
          "param": "alpha.2",
          "value": 0.04638123873787825
         },
         {
          "param": "alpha.2",
          "value": 0.2816379242129907
         },
         {
          "param": "alpha.2",
          "value": 0.30366278946237574
         },
         {
          "param": "alpha.2",
          "value": 0.21498511394538974
         },
         {
          "param": "alpha.2",
          "value": 0.28116852424040856
         },
         {
          "param": "alpha.2",
          "value": 0.2394388822295577
         },
         {
          "param": "alpha.2",
          "value": 0.02073363033270961
         },
         {
          "param": "alpha.2",
          "value": 0.052249151030580296
         },
         {
          "param": "alpha.2",
          "value": 0.0323459865342898
         },
         {
          "param": "alpha.2",
          "value": 0.3550339319156179
         },
         {
          "param": "alpha.2",
          "value": 0.38056095969655546
         },
         {
          "param": "alpha.2",
          "value": 0.16451821016852503
         },
         {
          "param": "alpha.2",
          "value": 0.12349780606121519
         },
         {
          "param": "alpha.2",
          "value": 0.06076679518268505
         },
         {
          "param": "alpha.2",
          "value": -0.16365689397693844
         },
         {
          "param": "alpha.2",
          "value": 0.10398728743440173
         },
         {
          "param": "alpha.2",
          "value": 0.33678231560192445
         },
         {
          "param": "alpha.2",
          "value": -0.0034102691090100723
         },
         {
          "param": "alpha.2",
          "value": 0.42746437573628226
         },
         {
          "param": "alpha.2",
          "value": 0.2541530068233346
         },
         {
          "param": "alpha.2",
          "value": -0.06952551422590458
         },
         {
          "param": "alpha.2",
          "value": -0.3210745912499625
         },
         {
          "param": "alpha.2",
          "value": -0.0442566747895948
         },
         {
          "param": "alpha.2",
          "value": 0.5255255556264051
         },
         {
          "param": "alpha.2",
          "value": -0.11009683853226596
         },
         {
          "param": "alpha.2",
          "value": 0.5195684370191299
         },
         {
          "param": "alpha.2",
          "value": 0.19715868121871782
         },
         {
          "param": "alpha.2",
          "value": -0.2680780246165997
         },
         {
          "param": "alpha.2",
          "value": 0.08195041897237412
         },
         {
          "param": "alpha.2",
          "value": 0.2114591652762552
         },
         {
          "param": "alpha.2",
          "value": 0.11290721550850222
         },
         {
          "param": "alpha.2",
          "value": -0.2742160556054664
         },
         {
          "param": "alpha.2",
          "value": 0.22051220473366276
         },
         {
          "param": "alpha.2",
          "value": -0.19722100498523312
         },
         {
          "param": "alpha.2",
          "value": 0.18178438277705017
         },
         {
          "param": "alpha.2",
          "value": 0.06789770199818912
         },
         {
          "param": "alpha.2",
          "value": 0.19051856122229816
         },
         {
          "param": "alpha.2",
          "value": 0.11069437145663989
         },
         {
          "param": "alpha.2",
          "value": -0.06099186926812267
         },
         {
          "param": "alpha.2",
          "value": 0.4970005554979397
         },
         {
          "param": "alpha.2",
          "value": -0.05890456614944876
         },
         {
          "param": "alpha.2",
          "value": 0.0054645708565478415
         },
         {
          "param": "alpha.2",
          "value": -0.1059951511044957
         },
         {
          "param": "alpha.2",
          "value": -0.17240099098459694
         },
         {
          "param": "alpha.2",
          "value": 0.4412484073270253
         },
         {
          "param": "alpha.2",
          "value": 0.401962746722366
         },
         {
          "param": "alpha.2",
          "value": 0.23892534203459223
         },
         {
          "param": "alpha.2",
          "value": -0.2115255394047149
         },
         {
          "param": "alpha.2",
          "value": 0.02480956385301182
         },
         {
          "param": "alpha.2",
          "value": 0.3238942046226597
         },
         {
          "param": "alpha.2",
          "value": -0.006478334122558849
         },
         {
          "param": "alpha.2",
          "value": -0.04915372766810702
         },
         {
          "param": "alpha.2",
          "value": 0.15248887846648695
         },
         {
          "param": "alpha.2",
          "value": 0.1563442012537632
         },
         {
          "param": "alpha.2",
          "value": -0.04980990250202184
         },
         {
          "param": "alpha.2",
          "value": 0.06741372530198045
         },
         {
          "param": "alpha.2",
          "value": 0.1507931667691383
         },
         {
          "param": "alpha.2",
          "value": 0.19737188962439933
         },
         {
          "param": "alpha.2",
          "value": 0.03283428570318261
         },
         {
          "param": "alpha.2",
          "value": 0.32164798921936855
         },
         {
          "param": "alpha.2",
          "value": 0.05728128780374091
         },
         {
          "param": "alpha.2",
          "value": -0.02614156479971371
         },
         {
          "param": "alpha.2",
          "value": -0.052247680529902335
         },
         {
          "param": "alpha.2",
          "value": 0.2262852416952225
         },
         {
          "param": "alpha.2",
          "value": 0.4828697562642467
         },
         {
          "param": "alpha.2",
          "value": 0.16566127695586808
         },
         {
          "param": "alpha.2",
          "value": 0.23617364845769728
         },
         {
          "param": "alpha.2",
          "value": 0.28115286766890596
         },
         {
          "param": "alpha.2",
          "value": -0.1391112215882011
         },
         {
          "param": "alpha.2",
          "value": 0.3460132463152384
         },
         {
          "param": "alpha.2",
          "value": 0.2222493378544071
         },
         {
          "param": "alpha.2",
          "value": -0.24075488182661692
         },
         {
          "param": "alpha.2",
          "value": -0.2016169245920747
         },
         {
          "param": "alpha.2",
          "value": 0.022600630588202053
         },
         {
          "param": "alpha.2",
          "value": 0.2419781804134092
         },
         {
          "param": "alpha.2",
          "value": 0.042960479671755786
         },
         {
          "param": "alpha.2",
          "value": 0.3423266193682244
         },
         {
          "param": "alpha.2",
          "value": 0.08403881918181041
         },
         {
          "param": "alpha.2",
          "value": 0.026590474525154686
         },
         {
          "param": "alpha.2",
          "value": 0.13433218318186926
         },
         {
          "param": "alpha.2",
          "value": 0.354141620589305
         },
         {
          "param": "alpha.2",
          "value": -0.004578572358894001
         },
         {
          "param": "alpha.2",
          "value": 0.21516510478441564
         },
         {
          "param": "alpha.2",
          "value": -0.23463167300485488
         },
         {
          "param": "alpha.2",
          "value": 0.5583790251128888
         },
         {
          "param": "alpha.2",
          "value": -0.17176949449378492
         },
         {
          "param": "alpha.2",
          "value": 0.21679995792000695
         },
         {
          "param": "alpha.2",
          "value": 0.2778153376284426
         },
         {
          "param": "alpha.2",
          "value": 0.18677464072409167
         },
         {
          "param": "alpha.2",
          "value": 0.46865510649642833
         },
         {
          "param": "alpha.2",
          "value": -0.1551104365134507
         },
         {
          "param": "alpha.2",
          "value": 0.22751817764655774
         },
         {
          "param": "alpha.2",
          "value": -0.06373918254166376
         },
         {
          "param": "alpha.2",
          "value": 0.2935047722017257
         },
         {
          "param": "alpha.2",
          "value": -0.3567568571487222
         },
         {
          "param": "alpha.2",
          "value": 0.21575385496956523
         },
         {
          "param": "alpha.2",
          "value": 0.3011289518669549
         },
         {
          "param": "alpha.2",
          "value": 0.2025385486257964
         },
         {
          "param": "alpha.2",
          "value": 0.5359735229519917
         },
         {
          "param": "alpha.2",
          "value": 0.15087948967677825
         },
         {
          "param": "alpha.2",
          "value": 0.2732133561050998
         },
         {
          "param": "alpha.2",
          "value": -0.038961256571258096
         },
         {
          "param": "alpha.2",
          "value": 0.6689007478113085
         },
         {
          "param": "alpha.2",
          "value": 0.2247658568266302
         },
         {
          "param": "alpha.2",
          "value": 0.01564311648755995
         },
         {
          "param": "alpha.2",
          "value": 0.3380417535068393
         },
         {
          "param": "alpha.2",
          "value": -0.0560076973306807
         },
         {
          "param": "alpha.2",
          "value": 0.27547479090735333
         },
         {
          "param": "alpha.2",
          "value": 0.32174644727049473
         },
         {
          "param": "alpha.2",
          "value": 0.182981846365428
         },
         {
          "param": "alpha.2",
          "value": -0.24155582270843345
         },
         {
          "param": "alpha.2",
          "value": 0.1852869013047853
         },
         {
          "param": "alpha.2",
          "value": 0.03690107207738447
         },
         {
          "param": "alpha.2",
          "value": -0.06491257206382597
         },
         {
          "param": "alpha.2",
          "value": 0.2675654320461223
         },
         {
          "param": "alpha.2",
          "value": 0.0270523703959481
         },
         {
          "param": "alpha.2",
          "value": 0.21828898424033727
         },
         {
          "param": "alpha.2",
          "value": 0.41741180340499484
         },
         {
          "param": "alpha.2",
          "value": -0.015225166738041057
         },
         {
          "param": "alpha.2",
          "value": 0.05230271776979326
         },
         {
          "param": "alpha.2",
          "value": -0.06049495162179007
         },
         {
          "param": "alpha.2",
          "value": 0.37092776141437866
         },
         {
          "param": "alpha.2",
          "value": -0.08957695501471258
         },
         {
          "param": "alpha.2",
          "value": 0.10897254955208024
         },
         {
          "param": "alpha.2",
          "value": -0.015907716413372512
         },
         {
          "param": "alpha.2",
          "value": 0.025944638653455004
         },
         {
          "param": "alpha.2",
          "value": -0.13476746915458732
         },
         {
          "param": "alpha.2",
          "value": 0.3690246408975877
         },
         {
          "param": "alpha.2",
          "value": 0.01961578976251869
         },
         {
          "param": "alpha.2",
          "value": 0.3837051712857703
         },
         {
          "param": "alpha.2",
          "value": 0.2533160199317013
         },
         {
          "param": "alpha.2",
          "value": 0.20810706095996825
         },
         {
          "param": "alpha.2",
          "value": 0.30340765393400826
         },
         {
          "param": "alpha.2",
          "value": 0.09978867920619587
         },
         {
          "param": "alpha.2",
          "value": 0.05430386360567664
         },
         {
          "param": "alpha.2",
          "value": 0.16333215549906893
         },
         {
          "param": "alpha.2",
          "value": 0.06430148644266283
         },
         {
          "param": "alpha.2",
          "value": -0.1852293504491962
         },
         {
          "param": "alpha.2",
          "value": 0.2805311131101623
         },
         {
          "param": "alpha.2",
          "value": 0.08879344473004477
         },
         {
          "param": "alpha.2",
          "value": 0.11974814480962476
         },
         {
          "param": "alpha.2",
          "value": 0.18222613646446686
         },
         {
          "param": "alpha.2",
          "value": 0.5550748086366701
         },
         {
          "param": "alpha.2",
          "value": 0.3172526105756275
         },
         {
          "param": "alpha.2",
          "value": -0.01991120195867141
         },
         {
          "param": "alpha.2",
          "value": 0.32796239616711786
         },
         {
          "param": "alpha.2",
          "value": 0.38912318032215054
         },
         {
          "param": "alpha.2",
          "value": -0.019447929981820683
         },
         {
          "param": "alpha.2",
          "value": 0.34517379602204956
         },
         {
          "param": "alpha.2",
          "value": 0.0025963985978824378
         },
         {
          "param": "alpha.2",
          "value": 0.29629008312199706
         },
         {
          "param": "alpha.2",
          "value": 0.3561255154876937
         },
         {
          "param": "alpha.2",
          "value": 0.3126069307604096
         },
         {
          "param": "alpha.2",
          "value": 0.3238076403227198
         },
         {
          "param": "alpha.2",
          "value": 0.23750428198899814
         },
         {
          "param": "alpha.2",
          "value": 0.20728662189596342
         },
         {
          "param": "alpha.2",
          "value": 0.1887162484400823
         },
         {
          "param": "alpha.2",
          "value": 0.08565392001829
         },
         {
          "param": "alpha.2",
          "value": 0.2799165240014107
         },
         {
          "param": "alpha.2",
          "value": 0.2701546897746579
         },
         {
          "param": "alpha.2",
          "value": 0.3921452220955754
         },
         {
          "param": "alpha.2",
          "value": 0.268010701889171
         },
         {
          "param": "alpha.2",
          "value": 0.19512699571025638
         },
         {
          "param": "alpha.2",
          "value": 0.23442337540784824
         },
         {
          "param": "alpha.2",
          "value": 0.11831214059026898
         },
         {
          "param": "alpha.2",
          "value": 0.17830176609405285
         },
         {
          "param": "alpha.2",
          "value": 0.08931748977435147
         },
         {
          "param": "alpha.2",
          "value": 0.05779381047681681
         },
         {
          "param": "alpha.2",
          "value": 0.11397321797743139
         },
         {
          "param": "alpha.2",
          "value": 0.3243787938038332
         },
         {
          "param": "alpha.2",
          "value": 0.16182696552151601
         },
         {
          "param": "alpha.2",
          "value": 0.156214743494002
         },
         {
          "param": "alpha.2",
          "value": 0.5042786088322109
         },
         {
          "param": "alpha.2",
          "value": 0.3243787938038332
         },
         {
          "param": "alpha.2",
          "value": -0.06648137139440287
         },
         {
          "param": "alpha.2",
          "value": 0.06030050463077
         },
         {
          "param": "alpha.2",
          "value": 0.2324279863019452
         },
         {
          "param": "alpha.2",
          "value": 0.020892596437767183
         },
         {
          "param": "alpha.2",
          "value": 0.26007899745723373
         },
         {
          "param": "alpha.2",
          "value": 0.21218911294873194
         },
         {
          "param": "alpha.2",
          "value": 0.13159423228859654
         },
         {
          "param": "alpha.2",
          "value": 0.23845813166656998
         },
         {
          "param": "alpha.2",
          "value": 0.0017135354008622414
         },
         {
          "param": "alpha.2",
          "value": -0.048240836133992715
         },
         {
          "param": "alpha.2",
          "value": -0.010241197596054782
         },
         {
          "param": "alpha.2",
          "value": 0.33211954311577274
         },
         {
          "param": "alpha.2",
          "value": 0.04511818353305286
         },
         {
          "param": "alpha.2",
          "value": 0.3575922348686861
         },
         {
          "param": "alpha.2",
          "value": -0.004313310597647887
         },
         {
          "param": "alpha.2",
          "value": 0.36540379133992484
         },
         {
          "param": "alpha.2",
          "value": 0.010391101979288754
         },
         {
          "param": "alpha.2",
          "value": -0.08022488916130269
         },
         {
          "param": "alpha.2",
          "value": 0.02493568763781449
         },
         {
          "param": "alpha.2",
          "value": 0.48780499649321646
         },
         {
          "param": "alpha.2",
          "value": 0.246714203347219
         },
         {
          "param": "alpha.2",
          "value": 0.57170956314726
         },
         {
          "param": "alpha.2",
          "value": 0.4133464330227479
         },
         {
          "param": "alpha.2",
          "value": 0.30575303891544603
         },
         {
          "param": "alpha.2",
          "value": 0.22818518968854887
         },
         {
          "param": "alpha.2",
          "value": 0.5333020250214248
         },
         {
          "param": "alpha.2",
          "value": 0.2362826570726856
         },
         {
          "param": "alpha.2",
          "value": -0.06561321309566373
         },
         {
          "param": "alpha.2",
          "value": 0.07909144896657883
         },
         {
          "param": "alpha.2",
          "value": 0.4034258203067915
         },
         {
          "param": "alpha.2",
          "value": 0.03449943553782714
         },
         {
          "param": "alpha.2",
          "value": 0.04669348224216363
         },
         {
          "param": "alpha.2",
          "value": 0.06023237541922076
         },
         {
          "param": "alpha.2",
          "value": 0.14775250090399744
         },
         {
          "param": "alpha.2",
          "value": 0.2249855970203464
         },
         {
          "param": "alpha.2",
          "value": -0.20451350843892835
         },
         {
          "param": "alpha.2",
          "value": 0.07809535669164538
         },
         {
          "param": "alpha.2",
          "value": 0.13249985262054512
         },
         {
          "param": "alpha.2",
          "value": 0.019141185849655774
         },
         {
          "param": "alpha.2",
          "value": 0.4113807025919133
         },
         {
          "param": "alpha.2",
          "value": 0.12494041205567942
         },
         {
          "param": "alpha.2",
          "value": 0.14987509442275707
         },
         {
          "param": "alpha.2",
          "value": 0.16680397426381427
         },
         {
          "param": "alpha.2",
          "value": 0.24136217615188332
         },
         {
          "param": "alpha.2",
          "value": 0.3154386209417078
         },
         {
          "param": "alpha.2",
          "value": 0.34065278442437963
         },
         {
          "param": "alpha.2",
          "value": 0.15048210676809326
         },
         {
          "param": "alpha.2",
          "value": 0.3374982829126187
         },
         {
          "param": "alpha.2",
          "value": 0.07441714714363645
         },
         {
          "param": "alpha.2",
          "value": 0.28659686148092467
         },
         {
          "param": "alpha.2",
          "value": 0.46847978990307254
         },
         {
          "param": "alpha.2",
          "value": 0.28252300939262753
         },
         {
          "param": "alpha.2",
          "value": 0.29285917062458117
         },
         {
          "param": "alpha.2",
          "value": 0.12354535123001309
         },
         {
          "param": "alpha.2",
          "value": 0.34859867293423574
         },
         {
          "param": "alpha.2",
          "value": 0.31434325472858154
         },
         {
          "param": "alpha.2",
          "value": 0.058578922246483305
         },
         {
          "param": "alpha.2",
          "value": 0.1424195671736979
         },
         {
          "param": "alpha.2",
          "value": 0.19975438839958312
         },
         {
          "param": "alpha.2",
          "value": -0.07129933311580568
         },
         {
          "param": "alpha.2",
          "value": 0.4589717685091843
         },
         {
          "param": "alpha.2",
          "value": 0.30192037386245957
         },
         {
          "param": "alpha.2",
          "value": 0.24042628847849343
         },
         {
          "param": "alpha.2",
          "value": 0.16710934957458284
         },
         {
          "param": "alpha.2",
          "value": 0.16631517351587152
         },
         {
          "param": "alpha.2",
          "value": 0.3952380061466136
         },
         {
          "param": "alpha.2",
          "value": 0.11334214791558364
         },
         {
          "param": "alpha.2",
          "value": 0.06347131122675152
         },
         {
          "param": "alpha.2",
          "value": 0.19448029205181375
         },
         {
          "param": "alpha.2",
          "value": 0.361164767907258
         },
         {
          "param": "alpha.2",
          "value": 0.46605810724445657
         },
         {
          "param": "alpha.2",
          "value": 0.10201696503960572
         },
         {
          "param": "alpha.2",
          "value": 0.08557504010108026
         },
         {
          "param": "alpha.2",
          "value": 0.4383787227486186
         },
         {
          "param": "alpha.2",
          "value": 0.29248034359233466
         },
         {
          "param": "alpha.2",
          "value": 0.17092847602068814
         },
         {
          "param": "alpha.2",
          "value": 0.31735073202756353
         },
         {
          "param": "alpha.2",
          "value": 0.028451937230533964
         },
         {
          "param": "alpha.2",
          "value": -0.020102115130627984
         },
         {
          "param": "alpha.2",
          "value": 0.25670459544404667
         },
         {
          "param": "alpha.2",
          "value": 0.07823088972747179
         },
         {
          "param": "alpha.2",
          "value": -0.1621486292307389
         },
         {
          "param": "alpha.2",
          "value": 0.06534054781318324
         },
         {
          "param": "alpha.2",
          "value": 0.23680303046002302
         },
         {
          "param": "alpha.2",
          "value": 0.29099623064246843
         },
         {
          "param": "alpha.2",
          "value": 0.5574689074942809
         },
         {
          "param": "alpha.2",
          "value": -0.04016046385722383
         },
         {
          "param": "alpha.2",
          "value": 0.2059660523652832
         },
         {
          "param": "alpha.2",
          "value": 0.02731052273254922
         },
         {
          "param": "alpha.2",
          "value": 0.3013863658275704
         },
         {
          "param": "alpha.2",
          "value": 0.10063204222916172
         },
         {
          "param": "alpha.2",
          "value": 0.08545845486516976
         },
         {
          "param": "alpha.2",
          "value": -0.08548252245264094
         },
         {
          "param": "alpha.2",
          "value": 0.06624270247229191
         },
         {
          "param": "alpha.2",
          "value": 0.32804341361835104
         },
         {
          "param": "alpha.2",
          "value": 0.17700085662373044
         },
         {
          "param": "alpha.2",
          "value": 0.25559877009057624
         },
         {
          "param": "alpha.2",
          "value": 0.18743089587452127
         },
         {
          "param": "alpha.2",
          "value": 0.045030656672306046
         },
         {
          "param": "alpha.2",
          "value": 0.3330305780208267
         },
         {
          "param": "alpha.2",
          "value": 0.26595985794531507
         },
         {
          "param": "betaW.1",
          "value": 1.086493903956338
         },
         {
          "param": "betaW.1",
          "value": 0.2920600109717539
         },
         {
          "param": "betaW.1",
          "value": 0.5520595318071411
         },
         {
          "param": "betaW.1",
          "value": 0.7544806001748279
         },
         {
          "param": "betaW.1",
          "value": -0.14188924369340405
         },
         {
          "param": "betaW.1",
          "value": 0.06885027196379423
         },
         {
          "param": "betaW.1",
          "value": 0.6062930587967463
         },
         {
          "param": "betaW.1",
          "value": 0.37314404237765153
         },
         {
          "param": "betaW.1",
          "value": 0.10132865646270171
         },
         {
          "param": "betaW.1",
          "value": 0.14718408137876504
         },
         {
          "param": "betaW.1",
          "value": 0.3441491884729023
         },
         {
          "param": "betaW.1",
          "value": 0.47438383489384695
         },
         {
          "param": "betaW.1",
          "value": 0.1590916393573698
         },
         {
          "param": "betaW.1",
          "value": 0.18598051358636028
         },
         {
          "param": "betaW.1",
          "value": 0.4680669599817132
         },
         {
          "param": "betaW.1",
          "value": 1.196287678749883
         },
         {
          "param": "betaW.1",
          "value": 0.21685808302470422
         },
         {
          "param": "betaW.1",
          "value": 0.5731785654709074
         },
         {
          "param": "betaW.1",
          "value": 1.1239380614570393
         },
         {
          "param": "betaW.1",
          "value": 1.2929268647858216
         },
         {
          "param": "betaW.1",
          "value": 0.7421654226447623
         },
         {
          "param": "betaW.1",
          "value": 0.28136704026484216
         },
         {
          "param": "betaW.1",
          "value": 1.5205950120390153
         },
         {
          "param": "betaW.1",
          "value": 0.4072463707580604
         },
         {
          "param": "betaW.1",
          "value": 0.646825036143469
         },
         {
          "param": "betaW.1",
          "value": 0.8551657071777649
         },
         {
          "param": "betaW.1",
          "value": 1.3265064042141486
         },
         {
          "param": "betaW.1",
          "value": 1.1476143168727493
         },
         {
          "param": "betaW.1",
          "value": 0.9412313305908517
         },
         {
          "param": "betaW.1",
          "value": 0.9489042630473924
         },
         {
          "param": "betaW.1",
          "value": -0.33017792158769993
         },
         {
          "param": "betaW.1",
          "value": 0.2756633648964789
         },
         {
          "param": "betaW.1",
          "value": -0.06723189888419068
         },
         {
          "param": "betaW.1",
          "value": 0.08359860041991943
         },
         {
          "param": "betaW.1",
          "value": 0.5369372704182578
         },
         {
          "param": "betaW.1",
          "value": -0.14694065786164023
         },
         {
          "param": "betaW.1",
          "value": 0.15748906295310097
         },
         {
          "param": "betaW.1",
          "value": 0.2071454847871966
         },
         {
          "param": "betaW.1",
          "value": -0.16431595424590698
         },
         {
          "param": "betaW.1",
          "value": 0.7087115755076356
         },
         {
          "param": "betaW.1",
          "value": 0.680422190307391
         },
         {
          "param": "betaW.1",
          "value": 0.15643988006323623
         },
         {
          "param": "betaW.1",
          "value": 0.11489578145767758
         },
         {
          "param": "betaW.1",
          "value": 0.9587303906058932
         },
         {
          "param": "betaW.1",
          "value": 0.8378622308202655
         },
         {
          "param": "betaW.1",
          "value": 0.1961369885179487
         },
         {
          "param": "betaW.1",
          "value": 0.5737094483753373
         },
         {
          "param": "betaW.1",
          "value": 1.0617139797214217
         },
         {
          "param": "betaW.1",
          "value": -0.3870010331577864
         },
         {
          "param": "betaW.1",
          "value": 0.6765719339390305
         },
         {
          "param": "betaW.1",
          "value": 0.30149340749031983
         },
         {
          "param": "betaW.1",
          "value": 0.31970366434495545
         },
         {
          "param": "betaW.1",
          "value": -0.8255644575474809
         },
         {
          "param": "betaW.1",
          "value": 0.7756856017420133
         },
         {
          "param": "betaW.1",
          "value": 0.4186956956359809
         },
         {
          "param": "betaW.1",
          "value": -0.7299017204741751
         },
         {
          "param": "betaW.1",
          "value": 0.4722474382420214
         },
         {
          "param": "betaW.1",
          "value": -0.12874165219467543
         },
         {
          "param": "betaW.1",
          "value": 0.4993409292428218
         },
         {
          "param": "betaW.1",
          "value": 1.167321853767041
         },
         {
          "param": "betaW.1",
          "value": 0.35342414217655677
         },
         {
          "param": "betaW.1",
          "value": -0.0810031038488544
         },
         {
          "param": "betaW.1",
          "value": 0.5065862164175446
         },
         {
          "param": "betaW.1",
          "value": 0.8842335273090869
         },
         {
          "param": "betaW.1",
          "value": 0.31856542078124117
         },
         {
          "param": "betaW.1",
          "value": 0.16193997109383879
         },
         {
          "param": "betaW.1",
          "value": 0.1137877476461624
         },
         {
          "param": "betaW.1",
          "value": 0.14053114830639235
         },
         {
          "param": "betaW.1",
          "value": 0.2167884637637449
         },
         {
          "param": "betaW.1",
          "value": 0.46484971489754584
         },
         {
          "param": "betaW.1",
          "value": 0.266812752158864
         },
         {
          "param": "betaW.1",
          "value": -0.05083827744156665
         },
         {
          "param": "betaW.1",
          "value": 0.32590537815748916
         },
         {
          "param": "betaW.1",
          "value": 0.43024966413554444
         },
         {
          "param": "betaW.1",
          "value": 0.08130385988128461
         },
         {
          "param": "betaW.1",
          "value": 0.047418878913527605
         },
         {
          "param": "betaW.1",
          "value": 0.08785002767412212
         },
         {
          "param": "betaW.1",
          "value": 0.0001865815722796038
         },
         {
          "param": "betaW.1",
          "value": -0.28488053696338866
         },
         {
          "param": "betaW.1",
          "value": 0.10292858707698979
         },
         {
          "param": "betaW.1",
          "value": -0.05964611385045543
         },
         {
          "param": "betaW.1",
          "value": -0.3840254062826438
         },
         {
          "param": "betaW.1",
          "value": 0.49626945192067523
         },
         {
          "param": "betaW.1",
          "value": 0.05528807443578814
         },
         {
          "param": "betaW.1",
          "value": 0.30850528976940894
         },
         {
          "param": "betaW.1",
          "value": -0.04657054015584472
         },
         {
          "param": "betaW.1",
          "value": 0.8834836845879436
         },
         {
          "param": "betaW.1",
          "value": 0.2618729554097204
         },
         {
          "param": "betaW.1",
          "value": 0.45935056883998476
         },
         {
          "param": "betaW.1",
          "value": -0.015635588022248435
         },
         {
          "param": "betaW.1",
          "value": 0.8935639183393215
         },
         {
          "param": "betaW.1",
          "value": 0.03531818225035804
         },
         {
          "param": "betaW.1",
          "value": 0.45935056883998476
         },
         {
          "param": "betaW.1",
          "value": 0.42964525929024205
         },
         {
          "param": "betaW.1",
          "value": 0.7368995365216153
         },
         {
          "param": "betaW.1",
          "value": 0.7343217511036157
         },
         {
          "param": "betaW.1",
          "value": 0.21198847199477372
         },
         {
          "param": "betaW.1",
          "value": 0.49740272481153636
         },
         {
          "param": "betaW.1",
          "value": -0.23978015260190977
         },
         {
          "param": "betaW.1",
          "value": 0.06248353733842746
         },
         {
          "param": "betaW.1",
          "value": -0.28500612121592933
         },
         {
          "param": "betaW.1",
          "value": 0.2912601104271836
         },
         {
          "param": "betaW.1",
          "value": 0.6482356490372034
         },
         {
          "param": "betaW.1",
          "value": 0.3620955911907925
         },
         {
          "param": "betaW.1",
          "value": 0.3759674312496899
         },
         {
          "param": "betaW.1",
          "value": 0.464333291718114
         },
         {
          "param": "betaW.1",
          "value": 0.38535416353472635
         },
         {
          "param": "betaW.1",
          "value": 0.5097180416691395
         },
         {
          "param": "betaW.1",
          "value": -0.6411720587558676
         },
         {
          "param": "betaW.1",
          "value": 0.6203773874577632
         },
         {
          "param": "betaW.1",
          "value": 0.2243986545837553
         },
         {
          "param": "betaW.1",
          "value": 0.3290373553997047
         },
         {
          "param": "betaW.1",
          "value": -0.22855257766266052
         },
         {
          "param": "betaW.1",
          "value": 0.28707679385248625
         },
         {
          "param": "betaW.1",
          "value": 0.5751745859163859
         },
         {
          "param": "betaW.1",
          "value": 0.549740562876808
         },
         {
          "param": "betaW.1",
          "value": 0.8190386224981414
         },
         {
          "param": "betaW.1",
          "value": 0.4433755753764749
         },
         {
          "param": "betaW.1",
          "value": 0.24788282606981837
         },
         {
          "param": "betaW.1",
          "value": 0.5204482133052394
         },
         {
          "param": "betaW.1",
          "value": 0.24337694396051218
         },
         {
          "param": "betaW.1",
          "value": 0.4168910130251375
         },
         {
          "param": "betaW.1",
          "value": 0.6100357651791453
         },
         {
          "param": "betaW.1",
          "value": -0.045827379531619666
         },
         {
          "param": "betaW.1",
          "value": 0.11294058123078099
         },
         {
          "param": "betaW.1",
          "value": 0.6329373201937084
         },
         {
          "param": "betaW.1",
          "value": 0.031205557385834692
         },
         {
          "param": "betaW.1",
          "value": 1.169748363478853
         },
         {
          "param": "betaW.1",
          "value": 0.18482733144154828
         },
         {
          "param": "betaW.1",
          "value": 0.6865189658401718
         },
         {
          "param": "betaW.1",
          "value": 0.5273493115459283
         },
         {
          "param": "betaW.1",
          "value": 0.2716235084526143
         },
         {
          "param": "betaW.1",
          "value": 1.076267402679301
         },
         {
          "param": "betaW.1",
          "value": 0.6437036588736091
         },
         {
          "param": "betaW.1",
          "value": 0.4602261928620387
         },
         {
          "param": "betaW.1",
          "value": -0.12308551875891649
         },
         {
          "param": "betaW.1",
          "value": 0.18524865984160244
         },
         {
          "param": "betaW.1",
          "value": 0.8697448056667285
         },
         {
          "param": "betaW.1",
          "value": 0.41733324654868936
         },
         {
          "param": "betaW.1",
          "value": 0.8970807978300136
         },
         {
          "param": "betaW.1",
          "value": 0.3351619978635849
         },
         {
          "param": "betaW.1",
          "value": 0.09179848757464211
         },
         {
          "param": "betaW.1",
          "value": 0.8421105185874561
         },
         {
          "param": "betaW.1",
          "value": 0.4084854745365282
         },
         {
          "param": "betaW.1",
          "value": 0.3473859873345544
         },
         {
          "param": "betaW.1",
          "value": 0.4632389143500462
         },
         {
          "param": "betaW.1",
          "value": 0.3227611701632988
         },
         {
          "param": "betaW.1",
          "value": 0.4373681593791002
         },
         {
          "param": "betaW.1",
          "value": 0.2337161841342399
         },
         {
          "param": "betaW.1",
          "value": 0.8692490378725772
         },
         {
          "param": "betaW.1",
          "value": 0.46116277040436715
         },
         {
          "param": "betaW.1",
          "value": 0.10119248762132302
         },
         {
          "param": "betaW.1",
          "value": 0.3567211873631051
         },
         {
          "param": "betaW.1",
          "value": -0.14909083546716348
         },
         {
          "param": "betaW.1",
          "value": 0.5982661472020461
         },
         {
          "param": "betaW.1",
          "value": 0.353488526858981
         },
         {
          "param": "betaW.1",
          "value": 0.01959681257301482
         },
         {
          "param": "betaW.1",
          "value": 0.5861150745581122
         },
         {
          "param": "betaW.1",
          "value": 0.27070241709346826
         },
         {
          "param": "betaW.1",
          "value": -0.08575101515375366
         },
         {
          "param": "betaW.1",
          "value": 0.7450720385370808
         },
         {
          "param": "betaW.1",
          "value": 0.35089285007906645
         },
         {
          "param": "betaW.1",
          "value": 0.4674855785997688
         },
         {
          "param": "betaW.1",
          "value": 0.6669968690307864
         },
         {
          "param": "betaW.1",
          "value": 0.061042807172136546
         },
         {
          "param": "betaW.1",
          "value": 0.28877589560205247
         },
         {
          "param": "betaW.1",
          "value": 0.8035792701138396
         },
         {
          "param": "betaW.1",
          "value": 0.43349512021598435
         },
         {
          "param": "betaW.1",
          "value": -0.05319412922147844
         },
         {
          "param": "betaW.1",
          "value": 0.4678313234329632
         },
         {
          "param": "betaW.1",
          "value": 0.7632768664607686
         },
         {
          "param": "betaW.1",
          "value": 0.2475363372433344
         },
         {
          "param": "betaW.1",
          "value": 0.6323918183004681
         },
         {
          "param": "betaW.1",
          "value": 0.5055139622587115
         },
         {
          "param": "betaW.1",
          "value": -0.00939204743197837
         },
         {
          "param": "betaW.1",
          "value": 1.0156174372175362
         },
         {
          "param": "betaW.1",
          "value": 0.3840338872633953
         },
         {
          "param": "betaW.1",
          "value": 0.5999381313306587
         },
         {
          "param": "betaW.1",
          "value": 0.6045143099660133
         },
         {
          "param": "betaW.1",
          "value": 0.8029684018407197
         },
         {
          "param": "betaW.1",
          "value": 0.3840338872633953
         },
         {
          "param": "betaW.1",
          "value": 0.6117660217661889
         },
         {
          "param": "betaW.1",
          "value": 0.7233610847585917
         },
         {
          "param": "betaW.1",
          "value": -0.03411578787330492
         },
         {
          "param": "betaW.1",
          "value": 0.25686056406444263
         },
         {
          "param": "betaW.1",
          "value": 0.28535174856920564
         },
         {
          "param": "betaW.1",
          "value": 0.18542240991157005
         },
         {
          "param": "betaW.1",
          "value": 0.43890923824078065
         },
         {
          "param": "betaW.1",
          "value": 0.10991518568150084
         },
         {
          "param": "betaW.1",
          "value": 0.395982435676155
         },
         {
          "param": "betaW.1",
          "value": 0.19292526534248405
         },
         {
          "param": "betaW.1",
          "value": 0.44313749335205493
         },
         {
          "param": "betaW.1",
          "value": 0.5815789061505142
         },
         {
          "param": "betaW.1",
          "value": 0.6406193099207546
         },
         {
          "param": "betaW.1",
          "value": 0.39634224927221934
         },
         {
          "param": "betaW.1",
          "value": 0.2564500637548077
         },
         {
          "param": "betaW.1",
          "value": 0.29909342030700803
         },
         {
          "param": "betaW.1",
          "value": 0.5732674946604488
         },
         {
          "param": "betaW.1",
          "value": 0.46939378208981425
         },
         {
          "param": "betaW.1",
          "value": -0.00874339475400758
         },
         {
          "param": "betaW.1",
          "value": 0.2873113401750399
         },
         {
          "param": "betaW.1",
          "value": 0.3149126192013875
         },
         {
          "param": "betaW.1",
          "value": 0.37322651485727826
         },
         {
          "param": "betaW.1",
          "value": 0.28279258209908253
         },
         {
          "param": "betaW.1",
          "value": 0.3799289234793256
         },
         {
          "param": "betaW.1",
          "value": 0.2528246160327511
         },
         {
          "param": "betaW.1",
          "value": 0.4037542919663723
         },
         {
          "param": "betaW.1",
          "value": 0.19450410609758984
         },
         {
          "param": "betaW.1",
          "value": 0.6640500628445596
         },
         {
          "param": "betaW.1",
          "value": 0.2923640888248885
         },
         {
          "param": "betaW.1",
          "value": 0.03992800044094619
         },
         {
          "param": "betaW.1",
          "value": 0.022607992588157495
         },
         {
          "param": "betaW.1",
          "value": -0.02181388424885783
         },
         {
          "param": "betaW.1",
          "value": 0.3396271555171068
         },
         {
          "param": "betaW.1",
          "value": 0.20615643533584915
         },
         {
          "param": "betaW.1",
          "value": 0.8819047520887456
         },
         {
          "param": "betaW.1",
          "value": -0.16621419103200796
         },
         {
          "param": "betaW.1",
          "value": -0.42220806214024165
         },
         {
          "param": "betaW.1",
          "value": 0.7532917632181009
         },
         {
          "param": "betaW.1",
          "value": 0.3043807117555211
         },
         {
          "param": "betaW.1",
          "value": 0.0074361406192968715
         },
         {
          "param": "betaW.1",
          "value": 0.5769683905320238
         },
         {
          "param": "betaW.1",
          "value": 0.4319867699838886
         },
         {
          "param": "betaW.1",
          "value": 0.5993009196603014
         },
         {
          "param": "betaW.1",
          "value": 0.5569225172143175
         },
         {
          "param": "betaW.1",
          "value": 0.33374064527156944
         },
         {
          "param": "betaW.1",
          "value": 0.3400474960631798
         },
         {
          "param": "betaW.1",
          "value": 0.2586550572782056
         },
         {
          "param": "betaW.1",
          "value": 0.39325752754934584
         },
         {
          "param": "betaW.1",
          "value": 0.5676197264965867
         },
         {
          "param": "betaW.1",
          "value": 0.39077546414762127
         },
         {
          "param": "betaW.1",
          "value": -0.1768290939040127
         },
         {
          "param": "betaW.1",
          "value": -0.007221164057146373
         },
         {
          "param": "betaW.1",
          "value": -0.05184062479525953
         },
         {
          "param": "betaW.1",
          "value": 0.23216834639047
         },
         {
          "param": "betaW.1",
          "value": 0.12284885307629292
         },
         {
          "param": "betaW.1",
          "value": 0.8254445497557492
         },
         {
          "param": "betaW.1",
          "value": 0.4578449449121602
         },
         {
          "param": "betaW.1",
          "value": 0.6374837806389826
         },
         {
          "param": "betaW.1",
          "value": 0.14620439897893886
         },
         {
          "param": "betaW.1",
          "value": -0.20645215682097598
         },
         {
          "param": "betaW.1",
          "value": 0.05822226410748879
         },
         {
          "param": "betaW.1",
          "value": 0.15226803659183086
         },
         {
          "param": "betaW.1",
          "value": 0.6605668783053713
         },
         {
          "param": "betaW.1",
          "value": -0.46871884174381934
         },
         {
          "param": "betaW.1",
          "value": 0.5300617485600279
         },
         {
          "param": "betaW.1",
          "value": -0.21592090682450432
         },
         {
          "param": "betaW.1",
          "value": -0.07213504654795365
         },
         {
          "param": "betaW.1",
          "value": -0.03101457267269697
         },
         {
          "param": "betaW.1",
          "value": 0.13797110958862752
         },
         {
          "param": "betaW.1",
          "value": 0.8230909599445502
         },
         {
          "param": "betaW.1",
          "value": 0.03858799129181864
         },
         {
          "param": "betaW.1",
          "value": 0.5427134950244275
         },
         {
          "param": "betaW.1",
          "value": -0.0073144670374590826
         },
         {
          "param": "betaW.1",
          "value": -0.2842816665732346
         },
         {
          "param": "betaW.1",
          "value": 0.15696174160410845
         },
         {
          "param": "betaW.1",
          "value": 0.508555064607034
         },
         {
          "param": "betaW.1",
          "value": 0.17082141474351753
         },
         {
          "param": "betaW.1",
          "value": 0.6923018660543653
         },
         {
          "param": "betaW.1",
          "value": 0.3109042697612604
         },
         {
          "param": "betaW.1",
          "value": 0.42381852145305005
         },
         {
          "param": "betaW.1",
          "value": 0.640978076730662
         },
         {
          "param": "betaW.1",
          "value": 0.3386116574917915
         },
         {
          "param": "betaW.1",
          "value": 0.12203857246829092
         },
         {
          "param": "betaW.1",
          "value": -0.16555555219019125
         },
         {
          "param": "betaW.1",
          "value": 0.08394273869085211
         },
         {
          "param": "betaW.1",
          "value": -0.07681573085964286
         },
         {
          "param": "betaW.1",
          "value": 0.08106712264786237
         },
         {
          "param": "betaW.1",
          "value": -0.0752053175644204
         },
         {
          "param": "betaW.1",
          "value": 0.839510199888454
         },
         {
          "param": "betaW.1",
          "value": 0.04265672111791265
         },
         {
          "param": "betaW.1",
          "value": 0.2274368078956672
         },
         {
          "param": "betaW.1",
          "value": 0.2279501998847806
         },
         {
          "param": "betaW.1",
          "value": -0.47550465316699936
         },
         {
          "param": "betaW.1",
          "value": 0.5156615067176473
         },
         {
          "param": "betaW.1",
          "value": 0.3824167592904577
         },
         {
          "param": "betaW.1",
          "value": 0.3280720734699305
         },
         {
          "param": "betaW.1",
          "value": 0.5173906370316901
         },
         {
          "param": "betaW.1",
          "value": 0.09936178067162157
         },
         {
          "param": "betaW.1",
          "value": 0.11766000791376616
         },
         {
          "param": "betaW.1",
          "value": 0.16443537068225947
         },
         {
          "param": "betaW.1",
          "value": 0.10519845790053964
         },
         {
          "param": "betaW.1",
          "value": 0.2445572410989169
         },
         {
          "param": "betaW.1",
          "value": 0.5393478342567763
         },
         {
          "param": "betaW.1",
          "value": 0.02218969084344702
         },
         {
          "param": "betaW.1",
          "value": 0.3255185810734653
         },
         {
          "param": "betaW.1",
          "value": 0.4354258516609343
         },
         {
          "param": "betaW.1",
          "value": 0.2562145349834787
         },
         {
          "param": "betaW.1",
          "value": -0.1552726809022995
         },
         {
          "param": "betaW.1",
          "value": 0.7550813595655075
         },
         {
          "param": "betaW.1",
          "value": 0.08831679800723258
         },
         {
          "param": "betaW.1",
          "value": 0.34987799714520945
         },
         {
          "param": "betaW.1",
          "value": 0.7492134793766534
         },
         {
          "param": "betaW.1",
          "value": 0.4695684593583034
         },
         {
          "param": "betaW.1",
          "value": 0.7951275004586066
         },
         {
          "param": "betaW.1",
          "value": -0.1195079081834047
         },
         {
          "param": "betaW.1",
          "value": 0.8635792533427847
         },
         {
          "param": "betaW.1",
          "value": 0.0030347729946495483
         },
         {
          "param": "betaW.1",
          "value": 0.2889179996273361
         },
         {
          "param": "betaW.1",
          "value": 0.1773037647411913
         },
         {
          "param": "betaW.1",
          "value": 0.6822977321129436
         },
         {
          "param": "betaW.1",
          "value": 0.3066826708812249
         },
         {
          "param": "betaW.1",
          "value": 0.2018622125946442
         },
         {
          "param": "betaW.1",
          "value": -0.040147909700813555
         },
         {
          "param": "betaW.1",
          "value": 0.14884203498211768
         },
         {
          "param": "betaW.1",
          "value": 0.2085361977494607
         },
         {
          "param": "betaW.1",
          "value": 0.43111578551884766
         },
         {
          "param": "betaW.1",
          "value": 0.7486663814592146
         },
         {
          "param": "betaW.1",
          "value": 0.5369265172785037
         },
         {
          "param": "betaW.1",
          "value": 0.2996188909217776
         },
         {
          "param": "betaW.1",
          "value": 0.25680520006615276
         },
         {
          "param": "betaW.1",
          "value": -0.14590700578393653
         },
         {
          "param": "betaW.1",
          "value": 0.7878753629882806
         },
         {
          "param": "betaW.1",
          "value": 0.6890744365677354
         },
         {
          "param": "betaW.1",
          "value": 0.06584099416282084
         },
         {
          "param": "betaW.1",
          "value": 0.2242428113186166
         },
         {
          "param": "betaW.1",
          "value": 0.7968723217804158
         },
         {
          "param": "betaW.1",
          "value": 0.1502219361852958
         },
         {
          "param": "betaW.1",
          "value": 0.3670721075354187
         },
         {
          "param": "betaW.1",
          "value": 0.25048242114810876
         },
         {
          "param": "betaW.1",
          "value": -0.04733552636485511
         },
         {
          "param": "betaW.1",
          "value": 0.16642294100849775
         },
         {
          "param": "betaW.1",
          "value": 0.40668590249878317
         },
         {
          "param": "betaW.1",
          "value": 0.0004915533898101621
         },
         {
          "param": "betaW.1",
          "value": -0.16693628427529422
         },
         {
          "param": "betaW.1",
          "value": 0.5106730155417107
         },
         {
          "param": "betaW.1",
          "value": 0.33642405620735405
         },
         {
          "param": "betaW.1",
          "value": 1.1979533153837343
         },
         {
          "param": "betaW.1",
          "value": 0.14293024525341974
         },
         {
          "param": "betaW.1",
          "value": -0.23035345349378605
         },
         {
          "param": "betaW.1",
          "value": -0.0055485850839610135
         },
         {
          "param": "betaW.1",
          "value": 1.2627617777924376
         },
         {
          "param": "betaW.1",
          "value": 0.23926629813538608
         },
         {
          "param": "betaW.1",
          "value": 0.4124691639115553
         },
         {
          "param": "betaW.1",
          "value": 0.5859745445622235
         },
         {
          "param": "betaW.1",
          "value": 0.8995997041560282
         },
         {
          "param": "betaW.1",
          "value": 0.15159473729613088
         },
         {
          "param": "betaW.1",
          "value": 0.8941318739541408
         },
         {
          "param": "betaW.1",
          "value": 0.06711082980595642
         },
         {
          "param": "betaW.1",
          "value": -0.2053443035078212
         },
         {
          "param": "betaW.1",
          "value": 0.49052206810134913
         },
         {
          "param": "betaW.1",
          "value": 0.3426512730997042
         },
         {
          "param": "betaW.1",
          "value": 0.05252494843413024
         },
         {
          "param": "betaW.1",
          "value": 0.08239553169347685
         },
         {
          "param": "betaW.1",
          "value": 0.5687575747884339
         },
         {
          "param": "betaW.1",
          "value": 0.11049955256805633
         },
         {
          "param": "betaW.1",
          "value": 0.6269553411555361
         },
         {
          "param": "betaW.1",
          "value": 0.48236029276184683
         },
         {
          "param": "betaW.1",
          "value": 1.048923154566117
         },
         {
          "param": "betaW.1",
          "value": 0.5090727120115762
         },
         {
          "param": "betaW.1",
          "value": 1.2195665081970788
         },
         {
          "param": "betaW.1",
          "value": 0.5992810405690054
         },
         {
          "param": "betaW.1",
          "value": 0.19360578249667482
         },
         {
          "param": "betaW.1",
          "value": 0.6184790081031413
         },
         {
          "param": "betaW.1",
          "value": 0.34007938990691966
         },
         {
          "param": "betaW.1",
          "value": 0.48766410047471687
         },
         {
          "param": "betaW.1",
          "value": -0.11458335339436318
         },
         {
          "param": "betaW.1",
          "value": 0.5098359594969282
         },
         {
          "param": "betaW.1",
          "value": 0.4380880063354836
         },
         {
          "param": "betaW.1",
          "value": 0.4628584837886268
         },
         {
          "param": "betaW.1",
          "value": 0.8872178853597689
         },
         {
          "param": "betaW.1",
          "value": 0.39219271220494123
         },
         {
          "param": "betaW.1",
          "value": 0.37595666730617416
         },
         {
          "param": "betaW.1",
          "value": 0.2829431125513391
         },
         {
          "param": "betaW.1",
          "value": 0.545230217407128
         },
         {
          "param": "betaW.1",
          "value": 0.10590507978402967
         },
         {
          "param": "betaW.1",
          "value": 0.5039199498768148
         },
         {
          "param": "betaW.1",
          "value": 0.1558228663629887
         },
         {
          "param": "betaW.1",
          "value": 0.22751014817944026
         },
         {
          "param": "betaW.1",
          "value": 0.5512193215763935
         },
         {
          "param": "betaW.1",
          "value": 0.08149883354642501
         },
         {
          "param": "betaW.1",
          "value": 0.5608061118071034
         },
         {
          "param": "betaW.1",
          "value": 0.485197760006252
         },
         {
          "param": "betaW.1",
          "value": 0.4326165656301968
         },
         {
          "param": "betaW.1",
          "value": 0.08149883354642501
         },
         {
          "param": "betaW.1",
          "value": 0.4344536866589159
         },
         {
          "param": "betaW.1",
          "value": 0.33646721400689716
         },
         {
          "param": "betaW.1",
          "value": -0.10523685519040799
         },
         {
          "param": "betaW.1",
          "value": 0.22591872808565183
         },
         {
          "param": "betaW.1",
          "value": 0.2930768081633818
         },
         {
          "param": "betaW.1",
          "value": 0.6128908354860162
         },
         {
          "param": "betaW.1",
          "value": 0.2318639004389586
         },
         {
          "param": "betaW.1",
          "value": -0.16690535498400833
         },
         {
          "param": "betaW.1",
          "value": 0.40795499169554006
         },
         {
          "param": "betaW.1",
          "value": 0.567317615052473
         },
         {
          "param": "betaW.1",
          "value": -0.0877295485271457
         },
         {
          "param": "betaW.1",
          "value": 1.1678013692396485
         },
         {
          "param": "betaW.1",
          "value": 0.483564667080977
         },
         {
          "param": "betaW.1",
          "value": 0.6102530987645105
         },
         {
          "param": "betaW.1",
          "value": 0.28562164374637006
         },
         {
          "param": "betaW.1",
          "value": 0.0650681315852946
         },
         {
          "param": "betaW.1",
          "value": 0.2945817891494124
         },
         {
          "param": "betaW.1",
          "value": 0.8927289693813365
         },
         {
          "param": "betaW.1",
          "value": 0.44251634402526263
         },
         {
          "param": "betaW.1",
          "value": 0.85547965330771
         },
         {
          "param": "betaW.1",
          "value": 0.3342716832732716
         },
         {
          "param": "betaW.1",
          "value": 0.15783102085071618
         },
         {
          "param": "betaW.1",
          "value": 0.7119360480767769
         },
         {
          "param": "betaW.1",
          "value": 0.5300277639783034
         },
         {
          "param": "betaW.1",
          "value": -0.25992814706694434
         },
         {
          "param": "betaW.1",
          "value": -0.019481050956431892
         },
         {
          "param": "betaW.1",
          "value": 0.45768190804263137
         },
         {
          "param": "betaW.1",
          "value": 0.1563465153379024
         },
         {
          "param": "betaW.1",
          "value": 0.7551326424229239
         },
         {
          "param": "betaW.1",
          "value": 0.555996782892084
         },
         {
          "param": "betaW.1",
          "value": 0.12403332704187306
         },
         {
          "param": "betaW.1",
          "value": 0.6217023668675703
         },
         {
          "param": "betaW.1",
          "value": 0.6851540468605362
         },
         {
          "param": "betaW.1",
          "value": 0.6448466425695305
         },
         {
          "param": "betaW.1",
          "value": 0.3700111533052244
         },
         {
          "param": "betaW.1",
          "value": 0.3472281960790945
         },
         {
          "param": "betaW.1",
          "value": 0.5583758962417886
         },
         {
          "param": "betaW.1",
          "value": 0.1505165214076798
         },
         {
          "param": "betaW.1",
          "value": -0.08831718853612378
         },
         {
          "param": "betaW.1",
          "value": -0.3083814798647271
         },
         {
          "param": "betaW.1",
          "value": 0.8419198942582214
         },
         {
          "param": "betaW.1",
          "value": 0.2799186680752739
         },
         {
          "param": "betaW.1",
          "value": 0.2519959235106782
         },
         {
          "param": "betaW.1",
          "value": 1.0258168275307908
         },
         {
          "param": "betaW.1",
          "value": -0.05405970855289882
         },
         {
          "param": "betaW.1",
          "value": 0.448269213643185
         },
         {
          "param": "betaW.1",
          "value": 0.2929118861358976
         },
         {
          "param": "betaW.1",
          "value": 0.6095520431312605
         },
         {
          "param": "betaW.1",
          "value": -0.15538102831553738
         },
         {
          "param": "betaW.1",
          "value": 0.7118861544780952
         },
         {
          "param": "betaW.1",
          "value": 0.07896377646724909
         },
         {
          "param": "betaW.1",
          "value": 0.23027220158780412
         },
         {
          "param": "betaW.1",
          "value": -0.5704477548415932
         },
         {
          "param": "betaW.1",
          "value": -0.12464041529196764
         },
         {
          "param": "betaW.1",
          "value": 0.3200738984539635
         },
         {
          "param": "betaW.1",
          "value": 1.2431744515523497
         },
         {
          "param": "betaW.1",
          "value": 0.9704778842497839
         },
         {
          "param": "betaW.1",
          "value": 0.10146570534263014
         },
         {
          "param": "betaW.1",
          "value": 0.48036588538184
         },
         {
          "param": "betaW.1",
          "value": 0.434683396638048
         },
         {
          "param": "betaW.1",
          "value": -0.15985875912105224
         },
         {
          "param": "betaW.1",
          "value": 0.28148598702068733
         },
         {
          "param": "betaW.1",
          "value": 0.21073703508293393
         },
         {
          "param": "betaW.1",
          "value": 0.9928844112801856
         },
         {
          "param": "betaW.1",
          "value": 0.6365725210497374
         },
         {
          "param": "betaW.1",
          "value": 0.7265177460876862
         },
         {
          "param": "betaW.1",
          "value": 0.1002569530268675
         },
         {
          "param": "betaW.1",
          "value": 0.4328792349578513
         },
         {
          "param": "betaW.1",
          "value": 0.1353165231575425
         },
         {
          "param": "betaW.1",
          "value": -0.5778852831469978
         },
         {
          "param": "betaW.1",
          "value": 0.08553607683806692
         },
         {
          "param": "betaW.1",
          "value": 0.6540422049255984
         },
         {
          "param": "betaW.1",
          "value": -0.057495364649370634
         },
         {
          "param": "betaW.1",
          "value": 0.6713513804452139
         },
         {
          "param": "betaW.1",
          "value": 0.46042336454381294
         },
         {
          "param": "betaW.1",
          "value": 0.32922849171614554
         },
         {
          "param": "betaW.1",
          "value": 0.7490046151879717
         },
         {
          "param": "betaW.1",
          "value": 0.05672010751736431
         },
         {
          "param": "betaW.1",
          "value": 0.47357836341103454
         },
         {
          "param": "betaW.1",
          "value": 0.21799422761359896
         },
         {
          "param": "betaW.1",
          "value": 0.028627825219788794
         },
         {
          "param": "betaW.1",
          "value": 0.7650125761652025
         },
         {
          "param": "betaW.1",
          "value": 0.9077925315095737
         },
         {
          "param": "betaW.1",
          "value": 0.8265417466343898
         },
         {
          "param": "betaW.1",
          "value": 0.07771709009639544
         },
         {
          "param": "betaW.1",
          "value": 0.773891519534605
         },
         {
          "param": "betaW.1",
          "value": 0.23237072073963988
         },
         {
          "param": "betaW.1",
          "value": 0.07184597179473902
         },
         {
          "param": "betaW.1",
          "value": 0.039547094621137244
         },
         {
          "param": "betaW.1",
          "value": 0.7180288925842413
         },
         {
          "param": "betaW.1",
          "value": 0.1141794138917492
         },
         {
          "param": "betaW.1",
          "value": 0.8998893904363628
         },
         {
          "param": "betaW.1",
          "value": 0.12112762686215767
         },
         {
          "param": "betaW.1",
          "value": 0.005941429059933168
         },
         {
          "param": "betaW.1",
          "value": 0.09140184252302735
         },
         {
          "param": "betaW.1",
          "value": -0.08754598188011997
         },
         {
          "param": "betaW.1",
          "value": 0.10752016517644197
         },
         {
          "param": "betaW.1",
          "value": 0.7518667656062058
         },
         {
          "param": "betaW.1",
          "value": 0.45583232875542673
         },
         {
          "param": "betaW.1",
          "value": 0.5693990026359772
         },
         {
          "param": "betaW.1",
          "value": 0.08683132221758463
         },
         {
          "param": "betaW.1",
          "value": -0.1097816936352245
         },
         {
          "param": "betaW.1",
          "value": 0.19720093135690003
         },
         {
          "param": "betaW.1",
          "value": 0.2695480731983062
         },
         {
          "param": "betaW.1",
          "value": 0.2396851160631855
         },
         {
          "param": "betaW.1",
          "value": 0.1941898794297874
         },
         {
          "param": "betaW.1",
          "value": 0.3538303421700508
         },
         {
          "param": "betaW.1",
          "value": 0.47698779135852515
         },
         {
          "param": "betaW.1",
          "value": 0.20098146567786485
         },
         {
          "param": "betaW.1",
          "value": 0.19765036874504294
         },
         {
          "param": "betaW.1",
          "value": 0.17961834141835553
         },
         {
          "param": "betaW.1",
          "value": 0.12306604653271752
         },
         {
          "param": "betaW.1",
          "value": 0.4741761192220175
         },
         {
          "param": "betaW.1",
          "value": 0.511043892893293
         },
         {
          "param": "betaW.1",
          "value": 0.6623098116313814
         },
         {
          "param": "betaW.1",
          "value": 0.16970463616186074
         },
         {
          "param": "betaW.1",
          "value": 0.13578785160466292
         },
         {
          "param": "betaW.1",
          "value": 0.17625337964374632
         },
         {
          "param": "betaW.1",
          "value": 0.33087597850216643
         },
         {
          "param": "betaW.1",
          "value": 0.7898024475688452
         },
         {
          "param": "betaW.1",
          "value": 0.46013605814876024
         },
         {
          "param": "betaW.1",
          "value": 0.5842775678224381
         },
         {
          "param": "betaW.1",
          "value": -0.2120933785879107
         },
         {
          "param": "betaW.1",
          "value": -0.1661734513017227
         },
         {
          "param": "betaW.1",
          "value": 0.5160830511173358
         },
         {
          "param": "betaW.1",
          "value": -0.323686000845063
         },
         {
          "param": "betaW.1",
          "value": 0.47643245971380094
         },
         {
          "param": "betaW.1",
          "value": -0.12528927916853191
         },
         {
          "param": "betaW.1",
          "value": -0.09796893961230188
         },
         {
          "param": "betaW.1",
          "value": 0.4433038038079851
         },
         {
          "param": "betaW.1",
          "value": 0.9428261940428481
         },
         {
          "param": "betaW.1",
          "value": 0.1805773024697115
         },
         {
          "param": "betaW.1",
          "value": 0.4381453898134534
         },
         {
          "param": "betaW.1",
          "value": 0.11854785413370685
         },
         {
          "param": "betaW.1",
          "value": 0.9389913304216291
         },
         {
          "param": "betaW.1",
          "value": -0.169962316617995
         },
         {
          "param": "betaW.1",
          "value": -0.15531653308953608
         },
         {
          "param": "betaW.1",
          "value": 0.7277576244789978
         },
         {
          "param": "betaW.1",
          "value": 0.4895923720068431
         },
         {
          "param": "betaW.1",
          "value": 0.5157060978137293
         },
         {
          "param": "betaW.1",
          "value": 0.49213207446499846
         },
         {
          "param": "betaW.1",
          "value": 0.5030048822021962
         },
         {
          "param": "betaW.1",
          "value": 0.22820414227062494
         },
         {
          "param": "betaW.1",
          "value": 0.41962041635173297
         },
         {
          "param": "betaW.1",
          "value": -0.22243994666779038
         },
         {
          "param": "betaW.1",
          "value": 0.3596183530314053
         },
         {
          "param": "betaW.1",
          "value": 0.25545683015627557
         },
         {
          "param": "betaW.1",
          "value": 1.0321140360229022
         },
         {
          "param": "betaW.1",
          "value": -0.22299912640838696
         },
         {
          "param": "betaW.1",
          "value": 0.35803041220992216
         },
         {
          "param": "betaW.1",
          "value": 0.369438234006915
         },
         {
          "param": "betaW.1",
          "value": 0.5031505989074967
         },
         {
          "param": "betaW.1",
          "value": 0.855289798253866
         },
         {
          "param": "betaW.1",
          "value": 0.40066897030465115
         },
         {
          "param": "betaW.1",
          "value": 0.10317228279061252
         },
         {
          "param": "betaW.1",
          "value": 0.4137039306320249
         },
         {
          "param": "betaW.1",
          "value": 1.1244556377015316
         },
         {
          "param": "betaW.1",
          "value": -0.2787388690639693
         },
         {
          "param": "betaW.1",
          "value": 0.6431500162208424
         },
         {
          "param": "betaW.1",
          "value": 0.17180120872165183
         },
         {
          "param": "betaW.1",
          "value": -0.009390306793070319
         },
         {
          "param": "betaW.1",
          "value": -0.0630937437111195
         },
         {
          "param": "betaW.1",
          "value": 0.39172432950791813
         },
         {
          "param": "betaW.1",
          "value": 0.20376614893359365
         },
         {
          "param": "betaW.1",
          "value": 0.11627972540416864
         },
         {
          "param": "betaW.1",
          "value": 0.27584879692118924
         },
         {
          "param": "betaW.1",
          "value": 0.7919487902541398
         },
         {
          "param": "betaW.1",
          "value": 0.641533495416848
         },
         {
          "param": "betaW.1",
          "value": 0.9449267680196074
         },
         {
          "param": "betaW.1",
          "value": 0.5850989774414403
         },
         {
          "param": "betaW.1",
          "value": 0.019804915370810916
         },
         {
          "param": "betaW.1",
          "value": 0.4816023591462513
         },
         {
          "param": "betaW.1",
          "value": -0.7599747248990188
         },
         {
          "param": "betaW.1",
          "value": 0.26171984936690484
         },
         {
          "param": "betaW.1",
          "value": 0.09707642993664868
         },
         {
          "param": "betaW.1",
          "value": 0.10644895100811622
         },
         {
          "param": "betaW.1",
          "value": 0.5416487821910998
         },
         {
          "param": "betaW.1",
          "value": 0.5083874208593753
         },
         {
          "param": "betaW.1",
          "value": 0.158981722454952
         },
         {
          "param": "betaW.1",
          "value": 0.005914221954468973
         },
         {
          "param": "betaW.1",
          "value": 0.5413142357237158
         },
         {
          "param": "betaW.1",
          "value": 0.541009977315323
         },
         {
          "param": "betaW.1",
          "value": 0.5088943700225451
         },
         {
          "param": "betaW.1",
          "value": 0.05929391112535525
         },
         {
          "param": "betaW.1",
          "value": 0.035174726687376034
         },
         {
          "param": "betaW.1",
          "value": -0.17598077604907345
         },
         {
          "param": "betaW.1",
          "value": 0.3655772987701609
         },
         {
          "param": "betaW.1",
          "value": 1.1079956074405788
         },
         {
          "param": "betaW.1",
          "value": 0.5592096455406932
         },
         {
          "param": "betaW.1",
          "value": 0.4834772585080483
         },
         {
          "param": "betaW.1",
          "value": -0.0027385781616984656
         },
         {
          "param": "betaW.1",
          "value": 0.8843583363795421
         },
         {
          "param": "betaW.1",
          "value": -0.24846975368398228
         },
         {
          "param": "betaW.1",
          "value": 0.0012615291058214462
         },
         {
          "param": "betaW.1",
          "value": -0.1954253622743265
         },
         {
          "param": "betaW.1",
          "value": 0.7501905458458399
         },
         {
          "param": "betaW.1",
          "value": 0.6768574952924656
         },
         {
          "param": "betaW.1",
          "value": 0.21451209415040962
         },
         {
          "param": "betaW.1",
          "value": -0.03365504611956863
         },
         {
          "param": "betaW.1",
          "value": 0.7917479714597863
         },
         {
          "param": "betaW.1",
          "value": 0.45573009467300807
         },
         {
          "param": "betaW.1",
          "value": 0.6719774517653072
         },
         {
          "param": "betaW.1",
          "value": 0.0630802975276285
         },
         {
          "param": "betaW.1",
          "value": -0.31897990542544413
         },
         {
          "param": "betaW.1",
          "value": 0.31899157319916094
         },
         {
          "param": "betaW.1",
          "value": 0.2339592078689705
         },
         {
          "param": "betaW.1",
          "value": 0.6951859356313583
         },
         {
          "param": "betaW.1",
          "value": 0.2606129881052375
         },
         {
          "param": "betaW.1",
          "value": 0.4801316540866359
         },
         {
          "param": "betaW.1",
          "value": 0.22275135446517919
         },
         {
          "param": "betaW.1",
          "value": 0.17332937827220352
         },
         {
          "param": "betaW.1",
          "value": 0.48974222592997635
         },
         {
          "param": "betaW.1",
          "value": -0.008644844475878571
         },
         {
          "param": "betaW.1",
          "value": 0.06332549719750413
         },
         {
          "param": "betaW.1",
          "value": 0.3338265133166569
         },
         {
          "param": "betaW.1",
          "value": 0.8017597286164762
         },
         {
          "param": "betaW.1",
          "value": -0.0056114088746729435
         },
         {
          "param": "betaW.1",
          "value": 0.28293416651655423
         },
         {
          "param": "betaW.1",
          "value": -0.19185798263925297
         },
         {
          "param": "betaW.1",
          "value": -0.025550934968256833
         },
         {
          "param": "betaW.1",
          "value": 0.5417169281318945
         },
         {
          "param": "betaW.1",
          "value": 0.4603207600983111
         },
         {
          "param": "betaW.1",
          "value": -0.11456327709192776
         },
         {
          "param": "betaW.1",
          "value": -0.05826013352496351
         },
         {
          "param": "betaW.1",
          "value": 0.3135834230019063
         },
         {
          "param": "betaW.1",
          "value": -0.02341530088018723
         },
         {
          "param": "betaW.1",
          "value": -0.3034087738186072
         },
         {
          "param": "betaW.1",
          "value": 0.14561978434835585
         },
         {
          "param": "betaW.1",
          "value": -0.4137151728853499
         },
         {
          "param": "betaW.1",
          "value": 0.16678116387228073
         },
         {
          "param": "betaW.1",
          "value": 0.3951359182526585
         },
         {
          "param": "betaW.1",
          "value": 0.20411174439454138
         },
         {
          "param": "betaW.1",
          "value": 0.6066466698296996
         },
         {
          "param": "betaW.1",
          "value": 0.6356073744733257
         },
         {
          "param": "betaW.1",
          "value": 1.1283817776561826
         },
         {
          "param": "betaW.1",
          "value": 0.020490753528222827
         },
         {
          "param": "betaW.1",
          "value": 0.8479798018731168
         },
         {
          "param": "betaW.1",
          "value": 0.24244243865218734
         },
         {
          "param": "betaW.1",
          "value": -0.03355594799576153
         },
         {
          "param": "betaW.1",
          "value": -0.137250438460607
         },
         {
          "param": "betaW.1",
          "value": 0.45751969792748787
         },
         {
          "param": "betaW.1",
          "value": -0.07448746283442506
         },
         {
          "param": "betaW.1",
          "value": -0.17922021852180925
         },
         {
          "param": "betaW.1",
          "value": -0.569368369890935
         },
         {
          "param": "betaW.1",
          "value": 0.8052414647263705
         },
         {
          "param": "betaW.1",
          "value": 0.029904754344755036
         },
         {
          "param": "betaW.1",
          "value": -0.3193771759275822
         },
         {
          "param": "betaW.1",
          "value": -0.12383108475780974
         },
         {
          "param": "betaW.1",
          "value": 0.11380282868604413
         },
         {
          "param": "betaW.1",
          "value": 0.5518390591092832
         },
         {
          "param": "betaW.1",
          "value": 0.591831875183873
         },
         {
          "param": "betaW.1",
          "value": 1.0510108174382444
         },
         {
          "param": "betaW.1",
          "value": -0.36922671569854404
         },
         {
          "param": "betaW.1",
          "value": 0.37215495886930505
         },
         {
          "param": "betaW.1",
          "value": 0.537016153385267
         },
         {
          "param": "betaW.1",
          "value": 0.3158573531265355
         },
         {
          "param": "betaW.1",
          "value": 0.38634856866375394
         },
         {
          "param": "betaW.1",
          "value": 0.3088328021884125
         },
         {
          "param": "betaW.1",
          "value": 0.45161040068987424
         },
         {
          "param": "betaW.1",
          "value": 0.37638543899149096
         },
         {
          "param": "betaW.1",
          "value": 0.330604890616427
         },
         {
          "param": "betaW.1",
          "value": 0.7851487041450516
         },
         {
          "param": "betaW.1",
          "value": 0.6965652943934145
         },
         {
          "param": "betaW.1",
          "value": 0.2897265953601581
         },
         {
          "param": "betaW.1",
          "value": 0.6926070486890233
         },
         {
          "param": "betaW.1",
          "value": 0.8455218828448293
         },
         {
          "param": "betaW.1",
          "value": 0.8516044692220988
         },
         {
          "param": "betaW.1",
          "value": 0.18818458945036928
         },
         {
          "param": "betaW.1",
          "value": 0.6060782433727452
         },
         {
          "param": "betaW.1",
          "value": 0.38249095726019156
         },
         {
          "param": "betaW.1",
          "value": 0.21742816102631818
         },
         {
          "param": "betaW.1",
          "value": 0.0027726750800276534
         },
         {
          "param": "betaW.1",
          "value": 0.288478251410579
         },
         {
          "param": "betaW.1",
          "value": 0.8260580562241815
         },
         {
          "param": "betaW.1",
          "value": 0.8239593345123342
         },
         {
          "param": "betaW.1",
          "value": -0.23782228661488236
         },
         {
          "param": "betaW.1",
          "value": 0.22213898435018303
         },
         {
          "param": "betaW.1",
          "value": 0.45941521147262615
         },
         {
          "param": "betaW.1",
          "value": 0.6121315987256384
         },
         {
          "param": "betaW.1",
          "value": 0.5505584785736555
         },
         {
          "param": "betaW.1",
          "value": 0.3856966048945161
         },
         {
          "param": "betaW.1",
          "value": 0.0968744873331549
         },
         {
          "param": "betaW.1",
          "value": 0.4917420807433938
         },
         {
          "param": "betaW.1",
          "value": -0.07805515505519611
         },
         {
          "param": "betaW.1",
          "value": 0.44516361372923147
         },
         {
          "param": "betaW.1",
          "value": 0.2079945902095108
         },
         {
          "param": "betaW.1",
          "value": 0.43037688559855974
         },
         {
          "param": "betaW.1",
          "value": -0.1747529765666208
         },
         {
          "param": "betaW.1",
          "value": 0.7272336798838477
         },
         {
          "param": "betaW.1",
          "value": 0.26664344827982045
         },
         {
          "param": "betaW.1",
          "value": -0.08507954570238985
         },
         {
          "param": "betaW.1",
          "value": 0.6703878134463649
         },
         {
          "param": "betaW.1",
          "value": -0.2821342648789051
         },
         {
          "param": "betaW.1",
          "value": 0.4417473889137175
         },
         {
          "param": "betaW.1",
          "value": 1.0417424616698219
         },
         {
          "param": "betaW.1",
          "value": -0.047368267999407354
         },
         {
          "param": "betaW.1",
          "value": 0.007736251189480903
         },
         {
          "param": "betaW.1",
          "value": 0.43912021045925315
         },
         {
          "param": "betaW.1",
          "value": 0.11811114126332684
         },
         {
          "param": "betaW.1",
          "value": 0.052599179911290095
         },
         {
          "param": "betaW.1",
          "value": -0.3457268167843589
         },
         {
          "param": "betaW.1",
          "value": 0.9705788446791332
         },
         {
          "param": "betaW.1",
          "value": 0.2926211330687728
         },
         {
          "param": "betaW.1",
          "value": 0.1317651588524893
         },
         {
          "param": "betaW.1",
          "value": 0.26918221490585326
         },
         {
          "param": "betaW.1",
          "value": 0.8881588487579255
         },
         {
          "param": "betaW.1",
          "value": 0.3613588533267277
         },
         {
          "param": "betaW.1",
          "value": 0.6336675652258975
         },
         {
          "param": "betaW.1",
          "value": 0.4219800736731871
         },
         {
          "param": "betaW.1",
          "value": -0.10418762811633231
         },
         {
          "param": "betaW.1",
          "value": 0.5731267088165783
         },
         {
          "param": "betaW.1",
          "value": 0.6792500266038279
         },
         {
          "param": "betaW.1",
          "value": 0.6644897617723728
         },
         {
          "param": "betaW.1",
          "value": 0.6904896312686204
         },
         {
          "param": "betaW.1",
          "value": -0.12410418316329458
         },
         {
          "param": "betaW.1",
          "value": 0.04917424595742592
         },
         {
          "param": "betaW.1",
          "value": 0.006557203061348049
         },
         {
          "param": "betaW.1",
          "value": 0.6840947651356071
         },
         {
          "param": "betaW.1",
          "value": 0.7849221922864049
         },
         {
          "param": "betaW.1",
          "value": -0.1831984522732339
         },
         {
          "param": "betaW.1",
          "value": 0.4023540158222235
         },
         {
          "param": "betaW.1",
          "value": 0.1231192979343946
         },
         {
          "param": "betaW.1",
          "value": 0.7420110192213534
         },
         {
          "param": "betaW.1",
          "value": 0.11212613007115083
         },
         {
          "param": "betaW.1",
          "value": 0.20459380136760155
         },
         {
          "param": "betaW.1",
          "value": 0.42396690345449667
         },
         {
          "param": "betaW.1",
          "value": 0.7646565633706415
         },
         {
          "param": "betaW.1",
          "value": 0.48746744159138156
         },
         {
          "param": "betaW.1",
          "value": -0.06379915944329057
         },
         {
          "param": "betaW.1",
          "value": -0.022383937090309197
         },
         {
          "param": "betaW.1",
          "value": 0.46904561506888615
         },
         {
          "param": "betaW.1",
          "value": 1.039476111681897
         },
         {
          "param": "betaW.1",
          "value": 0.942140792447041
         },
         {
          "param": "betaW.1",
          "value": -0.36655384272973635
         },
         {
          "param": "betaW.1",
          "value": 0.2600078113832049
         },
         {
          "param": "betaW.1",
          "value": -0.004785034305503755
         },
         {
          "param": "betaW.1",
          "value": 0.5695033174447092
         },
         {
          "param": "betaW.1",
          "value": 0.1590474775933761
         },
         {
          "param": "betaW.1",
          "value": 0.8414354246054434
         },
         {
          "param": "betaW.1",
          "value": 0.947058723268942
         },
         {
          "param": "betaW.1",
          "value": 0.5300632889840029
         },
         {
          "param": "betaW.1",
          "value": 0.23228388477062367
         },
         {
          "param": "betaW.1",
          "value": 1.4600994555449074
         },
         {
          "param": "betaW.1",
          "value": 0.1702212245254341
         },
         {
          "param": "betaW.1",
          "value": 0.5839305478640753
         },
         {
          "param": "betaW.1",
          "value": 0.4979547395566373
         },
         {
          "param": "betaW.1",
          "value": 0.09868833546915756
         },
         {
          "param": "betaW.1",
          "value": 0.6779963775670818
         },
         {
          "param": "betaW.1",
          "value": 0.5658085197718066
         },
         {
          "param": "betaW.1",
          "value": 1.070544657393575
         },
         {
          "param": "betaW.1",
          "value": 0.04180698520570455
         },
         {
          "param": "betaW.1",
          "value": 0.254608377974739
         },
         {
          "param": "betaW.1",
          "value": 0.36797467425801006
         },
         {
          "param": "betaW.1",
          "value": -0.12480342076022471
         },
         {
          "param": "betaW.1",
          "value": 0.581453198808283
         },
         {
          "param": "betaW.1",
          "value": 0.9547568454073851
         },
         {
          "param": "betaW.1",
          "value": 0.677331646335315
         },
         {
          "param": "betaW.1",
          "value": 0.40089981422810234
         },
         {
          "param": "betaW.1",
          "value": 0.1909024355372481
         },
         {
          "param": "betaW.1",
          "value": 0.5590981872803923
         },
         {
          "param": "betaW.1",
          "value": -0.18546524115401186
         },
         {
          "param": "betaW.1",
          "value": 0.562778620849162
         },
         {
          "param": "betaW.1",
          "value": 0.11779352844916907
         },
         {
          "param": "betaW.1",
          "value": 0.43578141574487084
         },
         {
          "param": "betaW.1",
          "value": 0.2830498058879748
         },
         {
          "param": "betaW.1",
          "value": 0.20307567488840317
         },
         {
          "param": "betaW.1",
          "value": -0.09631233780361785
         },
         {
          "param": "betaW.1",
          "value": 0.8848097385506175
         },
         {
          "param": "betaW.1",
          "value": 0.3308847132671877
         },
         {
          "param": "betaW.1",
          "value": 0.7944987240310439
         },
         {
          "param": "betaW.1",
          "value": 0.35226648383840437
         },
         {
          "param": "betaW.1",
          "value": -0.09476785480546457
         },
         {
          "param": "betaW.1",
          "value": 0.6781068017804122
         },
         {
          "param": "betaW.1",
          "value": 0.48077819623934437
         },
         {
          "param": "betaW.1",
          "value": 0.9259215829361771
         },
         {
          "param": "betaW.1",
          "value": 0.9517698120505999
         },
         {
          "param": "betaW.1",
          "value": 0.17957174841209547
         },
         {
          "param": "betaW.1",
          "value": -0.010312186450994243
         },
         {
          "param": "betaW.1",
          "value": -0.05613446255024912
         },
         {
          "param": "betaW.1",
          "value": 0.5070254727398623
         },
         {
          "param": "betaW.1",
          "value": 0.2932246993190321
         },
         {
          "param": "betaW.1",
          "value": 0.08875604829135081
         },
         {
          "param": "betaW.1",
          "value": -0.15080812598114654
         },
         {
          "param": "betaW.1",
          "value": -0.16659886753708106
         },
         {
          "param": "betaW.1",
          "value": 0.17756588315293298
         },
         {
          "param": "betaW.1",
          "value": -0.09205244743654167
         },
         {
          "param": "betaW.1",
          "value": -0.2027741192807552
         },
         {
          "param": "betaW.1",
          "value": 0.27186572175024415
         },
         {
          "param": "betaW.1",
          "value": 0.14583031541961733
         },
         {
          "param": "betaW.1",
          "value": 0.6329865288427514
         },
         {
          "param": "betaW.1",
          "value": 0.6669427365001537
         },
         {
          "param": "betaW.1",
          "value": -0.2284310410297511
         },
         {
          "param": "betaW.1",
          "value": 0.37328949187786337
         },
         {
          "param": "betaW.1",
          "value": 0.15477875119923762
         },
         {
          "param": "betaW.1",
          "value": -0.16609275806885304
         },
         {
          "param": "betaW.1",
          "value": 0.24129030265360166
         },
         {
          "param": "betaW.1",
          "value": -0.06933121780289388
         },
         {
          "param": "betaW.1",
          "value": 0.1064552275801833
         },
         {
          "param": "betaW.1",
          "value": 0.5882087548364524
         },
         {
          "param": "betaW.1",
          "value": 0.6588356434836471
         },
         {
          "param": "betaW.1",
          "value": 0.4171590990169613
         },
         {
          "param": "betaW.1",
          "value": -0.1135726798676113
         },
         {
          "param": "betaW.1",
          "value": 0.5802482885788133
         },
         {
          "param": "betaW.1",
          "value": -0.19592345424021718
         },
         {
          "param": "betaW.1",
          "value": 0.026697755384291158
         },
         {
          "param": "betaW.1",
          "value": 0.143323801554357
         },
         {
          "param": "betaW.1",
          "value": 0.32962143380857195
         },
         {
          "param": "betaW.1",
          "value": 0.5691377124196721
         },
         {
          "param": "betaW.1",
          "value": 0.00941713262852753
         },
         {
          "param": "betaW.1",
          "value": -0.02855867777822832
         },
         {
          "param": "betaW.1",
          "value": 0.11455903030014648
         },
         {
          "param": "betaW.1",
          "value": 0.008524592142681503
         },
         {
          "param": "betaW.1",
          "value": 0.5656668545230079
         },
         {
          "param": "betaW.1",
          "value": 0.21017482642133925
         },
         {
          "param": "betaW.1",
          "value": 0.5952931374521604
         },
         {
          "param": "betaW.1",
          "value": 0.5338275289339345
         },
         {
          "param": "betaW.1",
          "value": 0.41135263684170703
         },
         {
          "param": "betaW.1",
          "value": 0.34946001857655373
         },
         {
          "param": "betaW.1",
          "value": 0.1498576380859873
         },
         {
          "param": "betaW.1",
          "value": -0.3220437237202913
         },
         {
          "param": "betaW.1",
          "value": 0.33600244224593184
         },
         {
          "param": "betaW.1",
          "value": -0.16055601198001515
         },
         {
          "param": "betaW.1",
          "value": -0.058167236259229343
         },
         {
          "param": "betaW.1",
          "value": 0.4175318419928171
         },
         {
          "param": "betaW.1",
          "value": 0.551338370060259
         },
         {
          "param": "betaW.1",
          "value": 0.6797860104914607
         },
         {
          "param": "betaW.1",
          "value": 0.6866198512922789
         },
         {
          "param": "betaW.1",
          "value": 0.49840535163349464
         },
         {
          "param": "betaW.1",
          "value": -0.12205561407666898
         },
         {
          "param": "betaW.1",
          "value": 0.38980927406081856
         },
         {
          "param": "betaW.1",
          "value": 0.32930295950128957
         },
         {
          "param": "betaW.1",
          "value": 0.5032047928938437
         },
         {
          "param": "betaW.1",
          "value": -0.19589951598420502
         },
         {
          "param": "betaW.1",
          "value": -0.7254428396837467
         },
         {
          "param": "betaW.1",
          "value": 0.4608457053699796
         },
         {
          "param": "betaW.1",
          "value": 0.4451102152554931
         },
         {
          "param": "betaW.1",
          "value": 0.5376886051776896
         },
         {
          "param": "betaW.1",
          "value": 0.7150125730727739
         },
         {
          "param": "betaW.1",
          "value": 0.8926463023438996
         },
         {
          "param": "betaW.1",
          "value": 0.025016198929171507
         },
         {
          "param": "betaW.1",
          "value": 0.355498366667944
         },
         {
          "param": "betaW.1",
          "value": 0.7549451708526954
         },
         {
          "param": "betaW.1",
          "value": -0.13247989165770224
         },
         {
          "param": "betaW.1",
          "value": 0.36456425674639026
         },
         {
          "param": "betaW.1",
          "value": 0.19340446996857633
         },
         {
          "param": "betaW.1",
          "value": 0.7231986265726634
         },
         {
          "param": "betaW.1",
          "value": 0.7418761626538776
         },
         {
          "param": "betaW.1",
          "value": 0.16532652307372658
         },
         {
          "param": "betaW.1",
          "value": 0.6300854334442723
         },
         {
          "param": "betaW.1",
          "value": 0.14161538803223506
         },
         {
          "param": "betaW.1",
          "value": 0.16645448686142605
         },
         {
          "param": "betaW.1",
          "value": 0.9611343276029947
         },
         {
          "param": "betaW.1",
          "value": 0.9472925712987731
         },
         {
          "param": "betaW.1",
          "value": 0.5236085382336453
         },
         {
          "param": "betaW.1",
          "value": 0.6716897712446624
         },
         {
          "param": "betaW.1",
          "value": 0.003492558485421904
         },
         {
          "param": "betaW.1",
          "value": 0.729900010483689
         },
         {
          "param": "betaW.1",
          "value": 0.6761648545019638
         },
         {
          "param": "betaW.1",
          "value": 0.3819604961545362
         },
         {
          "param": "betaW.1",
          "value": 0.26352853476659316
         },
         {
          "param": "betaW.1",
          "value": 0.20184716974455913
         },
         {
          "param": "betaW.1",
          "value": -0.35031605904908986
         },
         {
          "param": "betaW.1",
          "value": 0.26037390753162365
         },
         {
          "param": "betaW.1",
          "value": 1.1463502809754922
         },
         {
          "param": "betaW.1",
          "value": -0.333257433084094
         },
         {
          "param": "betaW.1",
          "value": 1.004811157599272
         },
         {
          "param": "betaW.1",
          "value": 0.8123940967191179
         },
         {
          "param": "betaW.1",
          "value": -0.2360715744059903
         },
         {
          "param": "betaW.1",
          "value": 0.3672542061581332
         },
         {
          "param": "betaW.1",
          "value": 0.3873656841262555
         },
         {
          "param": "betaW.1",
          "value": -0.0024978935047084982
         },
         {
          "param": "betaW.1",
          "value": -0.135564300175895
         },
         {
          "param": "betaW.1",
          "value": 0.20530538858627803
         },
         {
          "param": "betaW.1",
          "value": -0.27065319874652893
         },
         {
          "param": "betaW.1",
          "value": -0.2884976073959197
         },
         {
          "param": "betaW.1",
          "value": 0.725834533187671
         },
         {
          "param": "betaW.1",
          "value": -0.13399984544074695
         },
         {
          "param": "betaW.1",
          "value": -0.2375819570567933
         },
         {
          "param": "betaW.1",
          "value": 0.24523409018106873
         },
         {
          "param": "betaW.1",
          "value": 0.10216791977960749
         },
         {
          "param": "betaW.1",
          "value": 0.215011388672852
         },
         {
          "param": "betaW.1",
          "value": 0.6854177416864077
         },
         {
          "param": "betaW.1",
          "value": 0.4893399165609259
         },
         {
          "param": "betaW.1",
          "value": 0.019904131459308097
         },
         {
          "param": "betaW.1",
          "value": 0.5124584827189036
         },
         {
          "param": "betaW.1",
          "value": 0.9513508076863704
         },
         {
          "param": "betaW.1",
          "value": 0.601586093894091
         },
         {
          "param": "betaW.1",
          "value": 0.5385096676247721
         },
         {
          "param": "betaW.1",
          "value": 0.2999552680720714
         },
         {
          "param": "betaW.1",
          "value": -0.18234012515685427
         },
         {
          "param": "betaW.1",
          "value": -0.09071603004340129
         },
         {
          "param": "betaW.1",
          "value": 0.24840853016473408
         },
         {
          "param": "betaW.1",
          "value": 0.16112497097063805
         },
         {
          "param": "betaW.1",
          "value": -0.16391677013300604
         },
         {
          "param": "betaW.1",
          "value": 0.4904507234496964
         },
         {
          "param": "betaW.1",
          "value": -0.11519779330997063
         },
         {
          "param": "betaW.1",
          "value": 0.3882678964465713
         },
         {
          "param": "betaW.1",
          "value": 0.9182720396165778
         },
         {
          "param": "betaW.1",
          "value": -0.24300047268436792
         },
         {
          "param": "betaW.1",
          "value": 0.1510857978380304
         },
         {
          "param": "betaW.1",
          "value": 0.29003055140389555
         },
         {
          "param": "betaW.1",
          "value": 1.0856870622686308
         },
         {
          "param": "betaW.1",
          "value": 0.8983975694825902
         },
         {
          "param": "betaW.1",
          "value": 0.16089274170032603
         },
         {
          "param": "betaW.1",
          "value": 0.11490067845305726
         },
         {
          "param": "betaW.1",
          "value": 0.7912962176912839
         },
         {
          "param": "betaW.1",
          "value": 0.21216860902845985
         },
         {
          "param": "betaW.1",
          "value": -0.12407014251517398
         },
         {
          "param": "betaW.1",
          "value": 0.1688078949004111
         },
         {
          "param": "betaW.1",
          "value": 0.49773620430692517
         },
         {
          "param": "betaW.1",
          "value": 0.838885830776128
         },
         {
          "param": "betaW.1",
          "value": -0.39298590258264043
         },
         {
          "param": "betaW.1",
          "value": 0.1972508369230841
         },
         {
          "param": "betaW.1",
          "value": 0.22524751377110036
         },
         {
          "param": "betaW.1",
          "value": 0.3884778670626461
         },
         {
          "param": "betaW.1",
          "value": 0.5528593813113111
         },
         {
          "param": "betaW.1",
          "value": 0.4215964620770857
         },
         {
          "param": "betaW.1",
          "value": 0.13796473079658292
         },
         {
          "param": "betaW.1",
          "value": 0.5719864907685868
         },
         {
          "param": "betaW.1",
          "value": -0.09381140166560209
         },
         {
          "param": "betaW.1",
          "value": 0.1854435831461868
         },
         {
          "param": "betaW.1",
          "value": 0.09142474639207221
         },
         {
          "param": "betaW.1",
          "value": 0.6163467997093278
         },
         {
          "param": "betaW.1",
          "value": -0.09381140166560209
         },
         {
          "param": "betaW.1",
          "value": 0.2924002961246069
         },
         {
          "param": "betaW.1",
          "value": 0.6434148973837868
         },
         {
          "param": "betaW.1",
          "value": 0.8227716341595946
         },
         {
          "param": "betaW.1",
          "value": 0.6672713883467198
         },
         {
          "param": "betaW.1",
          "value": 0.3338052732666777
         },
         {
          "param": "betaW.1",
          "value": 0.6491860154825281
         },
         {
          "param": "betaW.1",
          "value": 0.7563834805324373
         },
         {
          "param": "betaW.1",
          "value": 0.11879292977424236
         },
         {
          "param": "betaW.1",
          "value": 0.08821292815613652
         },
         {
          "param": "betaW.1",
          "value": 0.3261396393005502
         },
         {
          "param": "betaW.1",
          "value": 0.38376876830031814
         },
         {
          "param": "betaW.1",
          "value": -0.12152968197552586
         },
         {
          "param": "betaW.1",
          "value": 0.06383910159742659
         },
         {
          "param": "betaW.1",
          "value": 0.20969355095535808
         },
         {
          "param": "betaW.1",
          "value": 0.7839206320748636
         },
         {
          "param": "betaW.1",
          "value": 0.6966170823342478
         },
         {
          "param": "betaW.1",
          "value": -0.13023041133462357
         },
         {
          "param": "betaW.1",
          "value": -0.013293752737770004
         },
         {
          "param": "betaW.1",
          "value": 1.0304086647264286
         },
         {
          "param": "betaW.1",
          "value": 0.4610008566936527
         },
         {
          "param": "betaW.1",
          "value": 0.320071267180226
         },
         {
          "param": "betaW.1",
          "value": 0.49474554746651417
         },
         {
          "param": "betaW.1",
          "value": -0.28855468860992506
         },
         {
          "param": "betaW.1",
          "value": 0.468552375435176
         },
         {
          "param": "betaW.1",
          "value": 0.1563275431336339
         },
         {
          "param": "betaW.1",
          "value": 0.5159509607087364
         },
         {
          "param": "betaW.1",
          "value": -0.11988572110747966
         },
         {
          "param": "betaW.1",
          "value": -0.19785290705388023
         },
         {
          "param": "betaW.1",
          "value": 0.1034740212133283
         },
         {
          "param": "betaW.1",
          "value": 0.4080273795065863
         },
         {
          "param": "betaW.1",
          "value": 0.34363196741462965
         },
         {
          "param": "betaW.1",
          "value": -0.22291659532763497
         },
         {
          "param": "betaW.1",
          "value": -0.08241640002579781
         },
         {
          "param": "betaW.1",
          "value": 0.4134194410148391
         },
         {
          "param": "betaW.1",
          "value": 0.5650456412652216
         },
         {
          "param": "betaW.1",
          "value": 0.07756119615195206
         },
         {
          "param": "betaW.1",
          "value": 0.833363358086888
         },
         {
          "param": "betaW.1",
          "value": 0.26036245649010864
         },
         {
          "param": "betaW.1",
          "value": 0.2130197326635769
         },
         {
          "param": "betaW.1",
          "value": 0.8973347393916203
         },
         {
          "param": "betaW.1",
          "value": 0.167954917333616
         },
         {
          "param": "betaW.1",
          "value": 0.41003997208040377
         },
         {
          "param": "betaW.1",
          "value": -0.08887381450581647
         },
         {
          "param": "betaW.1",
          "value": 0.08455607395318498
         },
         {
          "param": "betaW.1",
          "value": 0.9338965784733508
         },
         {
          "param": "betaW.1",
          "value": 0.5003564039758729
         },
         {
          "param": "betaW.1",
          "value": -0.09118615580797088
         },
         {
          "param": "betaW.1",
          "value": 0.3325582484242687
         },
         {
          "param": "betaW.1",
          "value": 0.405023952712684
         },
         {
          "param": "betaW.1",
          "value": 0.38800464476439955
         },
         {
          "param": "betaW.1",
          "value": 0.680006571717696
         },
         {
          "param": "betaW.1",
          "value": 0.3347376636604996
         },
         {
          "param": "betaW.1",
          "value": 0.8079958524761013
         },
         {
          "param": "betaW.1",
          "value": 1.1174764256457446
         },
         {
          "param": "betaW.1",
          "value": 0.25958618115825666
         },
         {
          "param": "betaW.1",
          "value": 0.3579597262322437
         },
         {
          "param": "betaW.1",
          "value": 0.2049610972696324
         },
         {
          "param": "betaW.1",
          "value": 0.07033272764365021
         },
         {
          "param": "betaW.1",
          "value": -0.010043125292638011
         },
         {
          "param": "betaW.1",
          "value": 0.31551077799848537
         },
         {
          "param": "betaW.1",
          "value": 0.1614804299957763
         },
         {
          "param": "betaW.1",
          "value": 0.12242043624484358
         },
         {
          "param": "betaW.1",
          "value": 0.9216642334270305
         },
         {
          "param": "betaW.1",
          "value": 0.16873863834393368
         },
         {
          "param": "betaW.1",
          "value": 0.12503473887024824
         },
         {
          "param": "betaW.1",
          "value": -0.12889808004947653
         },
         {
          "param": "betaW.1",
          "value": -0.10236844246213916
         },
         {
          "param": "betaW.1",
          "value": 0.11228048253295704
         },
         {
          "param": "betaW.1",
          "value": 0.04761522023620921
         },
         {
          "param": "betaW.1",
          "value": -0.00774533308361236
         },
         {
          "param": "betaW.1",
          "value": 0.34863042427042623
         },
         {
          "param": "betaW.1",
          "value": 0.7015155506802409
         },
         {
          "param": "betaW.1",
          "value": 0.4217956199420272
         },
         {
          "param": "betaW.1",
          "value": 0.1303483799181552
         },
         {
          "param": "betaW.1",
          "value": 0.400355011195652
         },
         {
          "param": "betaW.1",
          "value": 0.6126752458725866
         },
         {
          "param": "betaW.1",
          "value": 0.2748074412042762
         },
         {
          "param": "betaW.1",
          "value": 0.15524870204308333
         },
         {
          "param": "betaW.1",
          "value": 0.13073250641678755
         },
         {
          "param": "betaW.1",
          "value": 0.548641963187247
         },
         {
          "param": "betaW.1",
          "value": 0.3192645205411243
         },
         {
          "param": "betaW.1",
          "value": -0.08125883753368321
         },
         {
          "param": "betaW.1",
          "value": -0.27983103326712677
         },
         {
          "param": "betaW.1",
          "value": 0.7233621573079847
         },
         {
          "param": "betaW.1",
          "value": 0.18153568166138245
         },
         {
          "param": "betaW.1",
          "value": 0.936354269512274
         },
         {
          "param": "betaW.1",
          "value": 0.4255808937261938
         },
         {
          "param": "betaW.1",
          "value": 0.13995961672536042
         },
         {
          "param": "betaW.1",
          "value": 0.767685170131344
         },
         {
          "param": "betaW.1",
          "value": 0.30852370298478576
         },
         {
          "param": "betaW.1",
          "value": 0.1678972575572805
         },
         {
          "param": "betaW.1",
          "value": 0.35669016352840244
         },
         {
          "param": "betaW.1",
          "value": 0.932294652543769
         },
         {
          "param": "betaW.1",
          "value": 0.07109620487585522
         },
         {
          "param": "betaW.1",
          "value": 0.14534390777095746
         },
         {
          "param": "betaW.1",
          "value": 0.43307622588719463
         },
         {
          "param": "betaW.1",
          "value": 1.3703612216753562
         },
         {
          "param": "betaW.1",
          "value": 0.23154822182648108
         },
         {
          "param": "betaW.1",
          "value": 0.36573046414381544
         },
         {
          "param": "betaW.1",
          "value": 0.45007502851276954
         },
         {
          "param": "betaW.1",
          "value": 0.49953078408621515
         },
         {
          "param": "betaW.2",
          "value": 0.161901019177891
         },
         {
          "param": "betaW.2",
          "value": 0.0267587266402012
         },
         {
          "param": "betaW.2",
          "value": -0.11487458223270464
         },
         {
          "param": "betaW.2",
          "value": -0.17073388095819175
         },
         {
          "param": "betaW.2",
          "value": 0.18023988626256376
         },
         {
          "param": "betaW.2",
          "value": 0.3679052566349846
         },
         {
          "param": "betaW.2",
          "value": 0.12481584259456677
         },
         {
          "param": "betaW.2",
          "value": -0.027605315135632677
         },
         {
          "param": "betaW.2",
          "value": 0.021129380913950738
         },
         {
          "param": "betaW.2",
          "value": 0.025704250999679545
         },
         {
          "param": "betaW.2",
          "value": 0.11449242606906045
         },
         {
          "param": "betaW.2",
          "value": -0.025371198778148196
         },
         {
          "param": "betaW.2",
          "value": 0.11308075643599692
         },
         {
          "param": "betaW.2",
          "value": 0.14902364058338133
         },
         {
          "param": "betaW.2",
          "value": 0.10894077789095226
         },
         {
          "param": "betaW.2",
          "value": 0.25312640476441517
         },
         {
          "param": "betaW.2",
          "value": 0.3555838706218258
         },
         {
          "param": "betaW.2",
          "value": 0.13000071024727244
         },
         {
          "param": "betaW.2",
          "value": 0.31152955367757046
         },
         {
          "param": "betaW.2",
          "value": 0.287297587189567
         },
         {
          "param": "betaW.2",
          "value": 0.08840575541589055
         },
         {
          "param": "betaW.2",
          "value": 0.2294794164121209
         },
         {
          "param": "betaW.2",
          "value": -0.02275641425274605
         },
         {
          "param": "betaW.2",
          "value": 0.026211300031254284
         },
         {
          "param": "betaW.2",
          "value": 0.2988616590401965
         },
         {
          "param": "betaW.2",
          "value": 0.32958470926350625
         },
         {
          "param": "betaW.2",
          "value": 0.1582298385177469
         },
         {
          "param": "betaW.2",
          "value": 0.14736037270532307
         },
         {
          "param": "betaW.2",
          "value": 0.21202746736352712
         },
         {
          "param": "betaW.2",
          "value": 0.3414149444643453
         },
         {
          "param": "betaW.2",
          "value": 0.03581716582986646
         },
         {
          "param": "betaW.2",
          "value": 0.2440703394236159
         },
         {
          "param": "betaW.2",
          "value": 0.014565330295170466
         },
         {
          "param": "betaW.2",
          "value": -0.2056737487669187
         },
         {
          "param": "betaW.2",
          "value": 0.28108813385748305
         },
         {
          "param": "betaW.2",
          "value": 0.07376862061169612
         },
         {
          "param": "betaW.2",
          "value": -0.07915835350478859
         },
         {
          "param": "betaW.2",
          "value": 0.34745381024396405
         },
         {
          "param": "betaW.2",
          "value": -0.007257517208396687
         },
         {
          "param": "betaW.2",
          "value": 0.019574671354518652
         },
         {
          "param": "betaW.2",
          "value": 0.29833415746823777
         },
         {
          "param": "betaW.2",
          "value": 0.0521397169161573
         },
         {
          "param": "betaW.2",
          "value": 0.0004901719556398426
         },
         {
          "param": "betaW.2",
          "value": -0.037151823907727234
         },
         {
          "param": "betaW.2",
          "value": 0.2974778936421577
         },
         {
          "param": "betaW.2",
          "value": 0.14328966710995736
         },
         {
          "param": "betaW.2",
          "value": 0.3322757751348857
         },
         {
          "param": "betaW.2",
          "value": -0.029678796358781803
         },
         {
          "param": "betaW.2",
          "value": -0.09509055675906689
         },
         {
          "param": "betaW.2",
          "value": 0.2241076945847062
         },
         {
          "param": "betaW.2",
          "value": 0.46613850593908734
         },
         {
          "param": "betaW.2",
          "value": 0.14194383033586166
         },
         {
          "param": "betaW.2",
          "value": -0.19031418602107758
         },
         {
          "param": "betaW.2",
          "value": 0.241645594399944
         },
         {
          "param": "betaW.2",
          "value": 0.1264634383733073
         },
         {
          "param": "betaW.2",
          "value": 0.2652524490420776
         },
         {
          "param": "betaW.2",
          "value": 0.43209792915903406
         },
         {
          "param": "betaW.2",
          "value": 0.2891862647187061
         },
         {
          "param": "betaW.2",
          "value": -0.004304903103715424
         },
         {
          "param": "betaW.2",
          "value": -0.13267245814427986
         },
         {
          "param": "betaW.2",
          "value": 0.14395912191493604
         },
         {
          "param": "betaW.2",
          "value": 0.23595259544201266
         },
         {
          "param": "betaW.2",
          "value": 0.2677920352802038
         },
         {
          "param": "betaW.2",
          "value": 0.1688504589447809
         },
         {
          "param": "betaW.2",
          "value": -0.07489861397743462
         },
         {
          "param": "betaW.2",
          "value": 0.3838343953380729
         },
         {
          "param": "betaW.2",
          "value": -0.19473739624318312
         },
         {
          "param": "betaW.2",
          "value": -0.0250244222444311
         },
         {
          "param": "betaW.2",
          "value": 0.2219519618532023
         },
         {
          "param": "betaW.2",
          "value": 0.06382306372854488
         },
         {
          "param": "betaW.2",
          "value": 0.24726271694538182
         },
         {
          "param": "betaW.2",
          "value": 0.34770459938300924
         },
         {
          "param": "betaW.2",
          "value": 0.36237632745642506
         },
         {
          "param": "betaW.2",
          "value": 0.028414355056917584
         },
         {
          "param": "betaW.2",
          "value": 0.335155632716609
         },
         {
          "param": "betaW.2",
          "value": 0.4308842982695812
         },
         {
          "param": "betaW.2",
          "value": 0.30513273979416583
         },
         {
          "param": "betaW.2",
          "value": -0.07756312927835587
         },
         {
          "param": "betaW.2",
          "value": 0.2824170426892267
         },
         {
          "param": "betaW.2",
          "value": -0.03956545572552503
         },
         {
          "param": "betaW.2",
          "value": 0.2761121150699002
         },
         {
          "param": "betaW.2",
          "value": -0.17007835702966176
         },
         {
          "param": "betaW.2",
          "value": -0.019328779784480457
         },
         {
          "param": "betaW.2",
          "value": -0.17594661149781332
         },
         {
          "param": "betaW.2",
          "value": 0.3189328150996194
         },
         {
          "param": "betaW.2",
          "value": -0.06788320599543486
         },
         {
          "param": "betaW.2",
          "value": 0.35835597542433695
         },
         {
          "param": "betaW.2",
          "value": -0.05342036819274401
         },
         {
          "param": "betaW.2",
          "value": 0.3944027677722204
         },
         {
          "param": "betaW.2",
          "value": -0.05505422930574903
         },
         {
          "param": "betaW.2",
          "value": 0.30775388111575885
         },
         {
          "param": "betaW.2",
          "value": 0.04367576835856908
         },
         {
          "param": "betaW.2",
          "value": 0.3944027677722204
         },
         {
          "param": "betaW.2",
          "value": 0.30042617347514083
         },
         {
          "param": "betaW.2",
          "value": 0.33139196860954845
         },
         {
          "param": "betaW.2",
          "value": 0.16856478353564225
         },
         {
          "param": "betaW.2",
          "value": 0.13868861647321162
         },
         {
          "param": "betaW.2",
          "value": 0.3420247699964308
         },
         {
          "param": "betaW.2",
          "value": -0.06298905844072611
         },
         {
          "param": "betaW.2",
          "value": 0.0699606601602476
         },
         {
          "param": "betaW.2",
          "value": 0.18764468633504378
         },
         {
          "param": "betaW.2",
          "value": 0.2770349103430261
         },
         {
          "param": "betaW.2",
          "value": 0.10161640627031664
         },
         {
          "param": "betaW.2",
          "value": 0.03947056040598334
         },
         {
          "param": "betaW.2",
          "value": 0.3061979747207251
         },
         {
          "param": "betaW.2",
          "value": -0.02327274226155066
         },
         {
          "param": "betaW.2",
          "value": 0.24036945232900703
         },
         {
          "param": "betaW.2",
          "value": 0.050234201068663775
         },
         {
          "param": "betaW.2",
          "value": 0.1611982657636858
         },
         {
          "param": "betaW.2",
          "value": 0.05195278773735022
         },
         {
          "param": "betaW.2",
          "value": 0.307381147376541
         },
         {
          "param": "betaW.2",
          "value": 0.023880995399758673
         },
         {
          "param": "betaW.2",
          "value": 0.08487196228861701
         },
         {
          "param": "betaW.2",
          "value": 0.1752236079578472
         },
         {
          "param": "betaW.2",
          "value": -0.1347516090408953
         },
         {
          "param": "betaW.2",
          "value": 0.22582322955567397
         },
         {
          "param": "betaW.2",
          "value": 0.163705136868334
         },
         {
          "param": "betaW.2",
          "value": 0.05059691280498452
         },
         {
          "param": "betaW.2",
          "value": -0.055324229339392475
         },
         {
          "param": "betaW.2",
          "value": 0.12453385882197944
         },
         {
          "param": "betaW.2",
          "value": 0.07049578576019151
         },
         {
          "param": "betaW.2",
          "value": 0.06305745888019024
         },
         {
          "param": "betaW.2",
          "value": -0.11914485386203472
         },
         {
          "param": "betaW.2",
          "value": 0.18261646407137228
         },
         {
          "param": "betaW.2",
          "value": 0.1277963593882038
         },
         {
          "param": "betaW.2",
          "value": -0.0588857446986355
         },
         {
          "param": "betaW.2",
          "value": 0.22975065952153467
         },
         {
          "param": "betaW.2",
          "value": 0.18746788806108897
         },
         {
          "param": "betaW.2",
          "value": 0.44979941654941064
         },
         {
          "param": "betaW.2",
          "value": -0.03757059317002769
         },
         {
          "param": "betaW.2",
          "value": 0.11360012041936929
         },
         {
          "param": "betaW.2",
          "value": 0.119811642736252
         },
         {
          "param": "betaW.2",
          "value": -0.05897495644837476
         },
         {
          "param": "betaW.2",
          "value": -0.03194114487689005
         },
         {
          "param": "betaW.2",
          "value": 0.24937105764452375
         },
         {
          "param": "betaW.2",
          "value": 0.22231423574484432
         },
         {
          "param": "betaW.2",
          "value": -0.015295691892922264
         },
         {
          "param": "betaW.2",
          "value": 0.01177693224792354
         },
         {
          "param": "betaW.2",
          "value": 0.03201409056219695
         },
         {
          "param": "betaW.2",
          "value": -0.0742281461915473
         },
         {
          "param": "betaW.2",
          "value": 0.30335382869312644
         },
         {
          "param": "betaW.2",
          "value": 0.02597626087011744
         },
         {
          "param": "betaW.2",
          "value": 0.10934104273148944
         },
         {
          "param": "betaW.2",
          "value": 0.14399506301173276
         },
         {
          "param": "betaW.2",
          "value": 0.017106634418953853
         },
         {
          "param": "betaW.2",
          "value": 0.3326238332156907
         },
         {
          "param": "betaW.2",
          "value": 0.18199740693731095
         },
         {
          "param": "betaW.2",
          "value": 0.1896974746105385
         },
         {
          "param": "betaW.2",
          "value": 0.3779763553182744
         },
         {
          "param": "betaW.2",
          "value": 0.09067611134982673
         },
         {
          "param": "betaW.2",
          "value": 0.11930201129477436
         },
         {
          "param": "betaW.2",
          "value": 0.17589892838204763
         },
         {
          "param": "betaW.2",
          "value": -0.019460624972591822
         },
         {
          "param": "betaW.2",
          "value": 0.3364058059441047
         },
         {
          "param": "betaW.2",
          "value": 0.3900385761057666
         },
         {
          "param": "betaW.2",
          "value": 0.053360620418713214
         },
         {
          "param": "betaW.2",
          "value": 0.3369538857301151
         },
         {
          "param": "betaW.2",
          "value": -0.195023333499186
         },
         {
          "param": "betaW.2",
          "value": 0.2064029699319483
         },
         {
          "param": "betaW.2",
          "value": 0.09789285656445801
         },
         {
          "param": "betaW.2",
          "value": 0.14374949204382553
         },
         {
          "param": "betaW.2",
          "value": 0.5133648953094404
         },
         {
          "param": "betaW.2",
          "value": 0.2533464747594624
         },
         {
          "param": "betaW.2",
          "value": -0.0395911627040774
         },
         {
          "param": "betaW.2",
          "value": 0.07515584999355493
         },
         {
          "param": "betaW.2",
          "value": 0.4558529779852566
         },
         {
          "param": "betaW.2",
          "value": 0.11479757009047065
         },
         {
          "param": "betaW.2",
          "value": 0.05731795759685739
         },
         {
          "param": "betaW.2",
          "value": 0.08179388030627019
         },
         {
          "param": "betaW.2",
          "value": 0.028480693682028296
         },
         {
          "param": "betaW.2",
          "value": 0.0423925926777695
         },
         {
          "param": "betaW.2",
          "value": 0.10147303847640901
         },
         {
          "param": "betaW.2",
          "value": 0.004524886138125184
         },
         {
          "param": "betaW.2",
          "value": 0.16672538221438316
         },
         {
          "param": "betaW.2",
          "value": 0.17380378491087456
         },
         {
          "param": "betaW.2",
          "value": 0.18310209547483625
         },
         {
          "param": "betaW.2",
          "value": 0.09158932856947319
         },
         {
          "param": "betaW.2",
          "value": 0.11732835775788406
         },
         {
          "param": "betaW.2",
          "value": -0.03517154768960841
         },
         {
          "param": "betaW.2",
          "value": -0.18622232814525197
         },
         {
          "param": "betaW.2",
          "value": 0.09158932856947319
         },
         {
          "param": "betaW.2",
          "value": 0.26464516000729543
         },
         {
          "param": "betaW.2",
          "value": 0.04666646532537466
         },
         {
          "param": "betaW.2",
          "value": 0.46058747702402597
         },
         {
          "param": "betaW.2",
          "value": 0.17998698694904586
         },
         {
          "param": "betaW.2",
          "value": -0.05679402876137152
         },
         {
          "param": "betaW.2",
          "value": -0.04798838160015241
         },
         {
          "param": "betaW.2",
          "value": -0.15273424277159567
         },
         {
          "param": "betaW.2",
          "value": -0.10344214774865382
         },
         {
          "param": "betaW.2",
          "value": 0.1575716907063731
         },
         {
          "param": "betaW.2",
          "value": 0.02169323146264522
         },
         {
          "param": "betaW.2",
          "value": -0.07327898530782492
         },
         {
          "param": "betaW.2",
          "value": 0.13334280923102196
         },
         {
          "param": "betaW.2",
          "value": 0.15604183578598466
         },
         {
          "param": "betaW.2",
          "value": 0.06424207573527912
         },
         {
          "param": "betaW.2",
          "value": 0.13983131971261706
         },
         {
          "param": "betaW.2",
          "value": 0.2489210987073911
         },
         {
          "param": "betaW.2",
          "value": 0.3309988283207196
         },
         {
          "param": "betaW.2",
          "value": 0.30831596228563185
         },
         {
          "param": "betaW.2",
          "value": 0.3188465405880945
         },
         {
          "param": "betaW.2",
          "value": 0.23131559731243617
         },
         {
          "param": "betaW.2",
          "value": 0.26506459990867187
         },
         {
          "param": "betaW.2",
          "value": -0.10868708252568653
         },
         {
          "param": "betaW.2",
          "value": 0.08375640226589394
         },
         {
          "param": "betaW.2",
          "value": 0.20924978058883334
         },
         {
          "param": "betaW.2",
          "value": 0.2658493393923764
         },
         {
          "param": "betaW.2",
          "value": -0.08230983502631473
         },
         {
          "param": "betaW.2",
          "value": 0.2151435481603151
         },
         {
          "param": "betaW.2",
          "value": 0.18927603938135848
         },
         {
          "param": "betaW.2",
          "value": 0.20468362817601585
         },
         {
          "param": "betaW.2",
          "value": 0.13709835520822605
         },
         {
          "param": "betaW.2",
          "value": 0.0019892227692471093
         },
         {
          "param": "betaW.2",
          "value": 0.05774521445527239
         },
         {
          "param": "betaW.2",
          "value": 0.15085475012888375
         },
         {
          "param": "betaW.2",
          "value": 0.015395184063542434
         },
         {
          "param": "betaW.2",
          "value": -0.13148816708957517
         },
         {
          "param": "betaW.2",
          "value": 0.1966411137652441
         },
         {
          "param": "betaW.2",
          "value": 0.13189510870371
         },
         {
          "param": "betaW.2",
          "value": 0.250063899124658
         },
         {
          "param": "betaW.2",
          "value": 0.2365972037391716
         },
         {
          "param": "betaW.2",
          "value": 0.04333306950988515
         },
         {
          "param": "betaW.2",
          "value": 0.22440170960646452
         },
         {
          "param": "betaW.2",
          "value": 0.19150319731629242
         },
         {
          "param": "betaW.2",
          "value": 0.07863199436614782
         },
         {
          "param": "betaW.2",
          "value": -0.027469342742172706
         },
         {
          "param": "betaW.2",
          "value": 0.2685306061392081
         },
         {
          "param": "betaW.2",
          "value": 0.22388399129962458
         },
         {
          "param": "betaW.2",
          "value": 0.3708768265392089
         },
         {
          "param": "betaW.2",
          "value": 0.12257454004859974
         },
         {
          "param": "betaW.2",
          "value": 0.3260276522667942
         },
         {
          "param": "betaW.2",
          "value": 0.11032176158151927
         },
         {
          "param": "betaW.2",
          "value": -0.1740233712291273
         },
         {
          "param": "betaW.2",
          "value": 0.09112269849630625
         },
         {
          "param": "betaW.2",
          "value": -0.021868493997822203
         },
         {
          "param": "betaW.2",
          "value": 0.019928564336588496
         },
         {
          "param": "betaW.2",
          "value": 0.28864972311392306
         },
         {
          "param": "betaW.2",
          "value": 0.12559097428599453
         },
         {
          "param": "betaW.2",
          "value": 0.03877010548916038
         },
         {
          "param": "betaW.2",
          "value": 0.21097346205122708
         },
         {
          "param": "betaW.2",
          "value": 0.2752687665798907
         },
         {
          "param": "betaW.2",
          "value": 0.18066779460099747
         },
         {
          "param": "betaW.2",
          "value": 0.17605553701532656
         },
         {
          "param": "betaW.2",
          "value": 0.0652690800280683
         },
         {
          "param": "betaW.2",
          "value": 0.1648608453991896
         },
         {
          "param": "betaW.2",
          "value": 0.005576652622040781
         },
         {
          "param": "betaW.2",
          "value": 0.05244790820891724
         },
         {
          "param": "betaW.2",
          "value": -0.14434126253879248
         },
         {
          "param": "betaW.2",
          "value": 0.010835329025929374
         },
         {
          "param": "betaW.2",
          "value": 0.18450794639315693
         },
         {
          "param": "betaW.2",
          "value": 0.10524702372080139
         },
         {
          "param": "betaW.2",
          "value": 0.33310337746291235
         },
         {
          "param": "betaW.2",
          "value": 0.05257321113814216
         },
         {
          "param": "betaW.2",
          "value": 0.1397960211576087
         },
         {
          "param": "betaW.2",
          "value": -0.08258685733020406
         },
         {
          "param": "betaW.2",
          "value": -0.06710137182820536
         },
         {
          "param": "betaW.2",
          "value": 0.042692563881068846
         },
         {
          "param": "betaW.2",
          "value": 0.11572026947823129
         },
         {
          "param": "betaW.2",
          "value": 0.16596426562223043
         },
         {
          "param": "betaW.2",
          "value": 0.31092640241379754
         },
         {
          "param": "betaW.2",
          "value": 0.0018070219552120091
         },
         {
          "param": "betaW.2",
          "value": 0.1489853024217982
         },
         {
          "param": "betaW.2",
          "value": 0.0935277131374027
         },
         {
          "param": "betaW.2",
          "value": 0.20981084611466316
         },
         {
          "param": "betaW.2",
          "value": 0.10867845882179838
         },
         {
          "param": "betaW.2",
          "value": 0.3291418836114431
         },
         {
          "param": "betaW.2",
          "value": 0.09679572907587464
         },
         {
          "param": "betaW.2",
          "value": 0.028677970491816203
         },
         {
          "param": "betaW.2",
          "value": 0.12563076546844207
         },
         {
          "param": "betaW.2",
          "value": -0.11662171663488004
         },
         {
          "param": "betaW.2",
          "value": -0.33628252946851406
         },
         {
          "param": "betaW.2",
          "value": -0.02579673353606899
         },
         {
          "param": "betaW.2",
          "value": 0.09561044844659654
         },
         {
          "param": "betaW.2",
          "value": 0.0615270009123805
         },
         {
          "param": "betaW.2",
          "value": 0.46175443845978137
         },
         {
          "param": "betaW.2",
          "value": 0.3929867327032594
         },
         {
          "param": "betaW.2",
          "value": 0.45231044588421987
         },
         {
          "param": "betaW.2",
          "value": 0.07510891165586878
         },
         {
          "param": "betaW.2",
          "value": 0.09031516860816569
         },
         {
          "param": "betaW.2",
          "value": 0.04023635509551024
         },
         {
          "param": "betaW.2",
          "value": 0.310250411054283
         },
         {
          "param": "betaW.2",
          "value": 0.11072343570325308
         },
         {
          "param": "betaW.2",
          "value": 0.11073376883159665
         },
         {
          "param": "betaW.2",
          "value": 0.004362425245635182
         },
         {
          "param": "betaW.2",
          "value": 0.08498671346108905
         },
         {
          "param": "betaW.2",
          "value": 0.11783102880267628
         },
         {
          "param": "betaW.2",
          "value": 0.28863262678625595
         },
         {
          "param": "betaW.2",
          "value": 0.020375184941906904
         },
         {
          "param": "betaW.2",
          "value": 0.07079754946424521
         },
         {
          "param": "betaW.2",
          "value": -0.12323635904604133
         },
         {
          "param": "betaW.2",
          "value": 0.15036020793733607
         },
         {
          "param": "betaW.2",
          "value": 0.11524980517521934
         },
         {
          "param": "betaW.2",
          "value": 0.025323534323589608
         },
         {
          "param": "betaW.2",
          "value": 0.123395386986944
         },
         {
          "param": "betaW.2",
          "value": 0.00940884185665794
         },
         {
          "param": "betaW.2",
          "value": 0.2087969416237543
         },
         {
          "param": "betaW.2",
          "value": 0.2773905138497868
         },
         {
          "param": "betaW.2",
          "value": 0.15759463124563808
         },
         {
          "param": "betaW.2",
          "value": 0.06287850038374876
         },
         {
          "param": "betaW.2",
          "value": 0.13518776753588402
         },
         {
          "param": "betaW.2",
          "value": -0.05001965055095313
         },
         {
          "param": "betaW.2",
          "value": 0.2841397006284665
         },
         {
          "param": "betaW.2",
          "value": -0.0623999095087099
         },
         {
          "param": "betaW.2",
          "value": 0.14152097962019322
         },
         {
          "param": "betaW.2",
          "value": 0.12543690720291817
         },
         {
          "param": "betaW.2",
          "value": 0.10263514474943157
         },
         {
          "param": "betaW.2",
          "value": -0.12211438067317627
         },
         {
          "param": "betaW.2",
          "value": 0.18786860918905113
         },
         {
          "param": "betaW.2",
          "value": 0.08192877213091768
         },
         {
          "param": "betaW.2",
          "value": 0.21577674893420792
         },
         {
          "param": "betaW.2",
          "value": 0.4456726721838975
         },
         {
          "param": "betaW.2",
          "value": -0.014404926760288178
         },
         {
          "param": "betaW.2",
          "value": 0.24544619892283298
         },
         {
          "param": "betaW.2",
          "value": 0.2658893571886272
         },
         {
          "param": "betaW.2",
          "value": 0.03998144444957771
         },
         {
          "param": "betaW.2",
          "value": -0.19150018807268615
         },
         {
          "param": "betaW.2",
          "value": 0.32812217153207685
         },
         {
          "param": "betaW.2",
          "value": 0.22281998099903053
         },
         {
          "param": "betaW.2",
          "value": 0.3044052925393597
         },
         {
          "param": "betaW.2",
          "value": -0.10311971992716956
         },
         {
          "param": "betaW.2",
          "value": 0.18293096209536772
         },
         {
          "param": "betaW.2",
          "value": 0.0819513240856948
         },
         {
          "param": "betaW.2",
          "value": -0.10875582888670285
         },
         {
          "param": "betaW.2",
          "value": -0.05762975209515751
         },
         {
          "param": "betaW.2",
          "value": 0.002208138905463626
         },
         {
          "param": "betaW.2",
          "value": 0.14913677815357476
         },
         {
          "param": "betaW.2",
          "value": 0.11278947430488344
         },
         {
          "param": "betaW.2",
          "value": 0.48637075489142695
         },
         {
          "param": "betaW.2",
          "value": 0.23218556332723728
         },
         {
          "param": "betaW.2",
          "value": 0.3281640439629686
         },
         {
          "param": "betaW.2",
          "value": 0.05684071267312024
         },
         {
          "param": "betaW.2",
          "value": 0.05166084364814602
         },
         {
          "param": "betaW.2",
          "value": 0.3236088674569782
         },
         {
          "param": "betaW.2",
          "value": 0.06619920673531884
         },
         {
          "param": "betaW.2",
          "value": -0.02730474093951204
         },
         {
          "param": "betaW.2",
          "value": 0.15622973202766346
         },
         {
          "param": "betaW.2",
          "value": 0.3449917850924132
         },
         {
          "param": "betaW.2",
          "value": 0.18637825354003607
         },
         {
          "param": "betaW.2",
          "value": 0.3213205302946295
         },
         {
          "param": "betaW.2",
          "value": 0.1943270089919645
         },
         {
          "param": "betaW.2",
          "value": 0.11106729942254907
         },
         {
          "param": "betaW.2",
          "value": 0.14956631963992403
         },
         {
          "param": "betaW.2",
          "value": 0.32475228141677215
         },
         {
          "param": "betaW.2",
          "value": 0.28639068651960164
         },
         {
          "param": "betaW.2",
          "value": 0.33656693068770305
         },
         {
          "param": "betaW.2",
          "value": 0.04378096965099931
         },
         {
          "param": "betaW.2",
          "value": -0.08062858514603682
         },
         {
          "param": "betaW.2",
          "value": 0.0029510560831814414
         },
         {
          "param": "betaW.2",
          "value": -0.04313421055615713
         },
         {
          "param": "betaW.2",
          "value": 0.33413688694512667
         },
         {
          "param": "betaW.2",
          "value": 0.14854384896949233
         },
         {
          "param": "betaW.2",
          "value": 0.04699618664578718
         },
         {
          "param": "betaW.2",
          "value": 0.3835759656315698
         },
         {
          "param": "betaW.2",
          "value": 0.09695945785463067
         },
         {
          "param": "betaW.2",
          "value": 0.12488433310502711
         },
         {
          "param": "betaW.2",
          "value": 0.17293118018473913
         },
         {
          "param": "betaW.2",
          "value": 0.08543034333832394
         },
         {
          "param": "betaW.2",
          "value": 0.22903577772243222
         },
         {
          "param": "betaW.2",
          "value": 0.2355396357901503
         },
         {
          "param": "betaW.2",
          "value": 0.33457269637816
         },
         {
          "param": "betaW.2",
          "value": 0.2058221974059634
         },
         {
          "param": "betaW.2",
          "value": -0.04712104784881896
         },
         {
          "param": "betaW.2",
          "value": 0.36523121097140343
         },
         {
          "param": "betaW.2",
          "value": 0.21304394033677038
         },
         {
          "param": "betaW.2",
          "value": 0.06090847446153873
         },
         {
          "param": "betaW.2",
          "value": 0.2208714267546304
         },
         {
          "param": "betaW.2",
          "value": 0.03860249793990489
         },
         {
          "param": "betaW.2",
          "value": 0.2012350843406145
         },
         {
          "param": "betaW.2",
          "value": -0.02012923872008511
         },
         {
          "param": "betaW.2",
          "value": -0.05373965119768301
         },
         {
          "param": "betaW.2",
          "value": 0.2367963060729083
         },
         {
          "param": "betaW.2",
          "value": 0.1504419594378018
         },
         {
          "param": "betaW.2",
          "value": 0.3168728904065321
         },
         {
          "param": "betaW.2",
          "value": 0.04936736684692235
         },
         {
          "param": "betaW.2",
          "value": 0.19171151646460005
         },
         {
          "param": "betaW.2",
          "value": 0.1504419594378018
         },
         {
          "param": "betaW.2",
          "value": 0.019728794125612598
         },
         {
          "param": "betaW.2",
          "value": 0.1517351869484472
         },
         {
          "param": "betaW.2",
          "value": 0.10980984036276056
         },
         {
          "param": "betaW.2",
          "value": 0.27852401377590214
         },
         {
          "param": "betaW.2",
          "value": 0.13905786222751923
         },
         {
          "param": "betaW.2",
          "value": 0.25031803653029006
         },
         {
          "param": "betaW.2",
          "value": 0.0581472862939426
         },
         {
          "param": "betaW.2",
          "value": 0.17288861395737776
         },
         {
          "param": "betaW.2",
          "value": 0.0828026576303049
         },
         {
          "param": "betaW.2",
          "value": -0.12370333170298228
         },
         {
          "param": "betaW.2",
          "value": 0.223349301187675
         },
         {
          "param": "betaW.2",
          "value": 0.30449891524662337
         },
         {
          "param": "betaW.2",
          "value": -0.08709986844295169
         },
         {
          "param": "betaW.2",
          "value": 0.04696025243743704
         },
         {
          "param": "betaW.2",
          "value": 0.07388086068558247
         },
         {
          "param": "betaW.2",
          "value": 0.009924570355217184
         },
         {
          "param": "betaW.2",
          "value": 0.4036136786563497
         },
         {
          "param": "betaW.2",
          "value": 0.03813213997909215
         },
         {
          "param": "betaW.2",
          "value": 0.18561740700316873
         },
         {
          "param": "betaW.2",
          "value": 0.3889820938247239
         },
         {
          "param": "betaW.2",
          "value": -0.18205666766743664
         },
         {
          "param": "betaW.2",
          "value": 0.15560743659307819
         },
         {
          "param": "betaW.2",
          "value": 0.22283539641232472
         },
         {
          "param": "betaW.2",
          "value": 0.21671533376991473
         },
         {
          "param": "betaW.2",
          "value": 0.15062510400089543
         },
         {
          "param": "betaW.2",
          "value": 0.13011021518502974
         },
         {
          "param": "betaW.2",
          "value": 0.21305995749001214
         },
         {
          "param": "betaW.2",
          "value": 0.20960141397406204
         },
         {
          "param": "betaW.2",
          "value": -0.01383604300714017
         },
         {
          "param": "betaW.2",
          "value": 0.027647684379027967
         },
         {
          "param": "betaW.2",
          "value": 0.2656939620828649
         },
         {
          "param": "betaW.2",
          "value": 0.1378325282225248
         },
         {
          "param": "betaW.2",
          "value": -0.0032741100065636058
         },
         {
          "param": "betaW.2",
          "value": 0.07414713160535127
         },
         {
          "param": "betaW.2",
          "value": 0.09560898491634232
         },
         {
          "param": "betaW.2",
          "value": 0.27796256245712514
         },
         {
          "param": "betaW.2",
          "value": 0.15325668241523777
         },
         {
          "param": "betaW.2",
          "value": 0.23388045307320926
         },
         {
          "param": "betaW.2",
          "value": 0.29563861643086603
         },
         {
          "param": "betaW.2",
          "value": -0.056189614352482264
         },
         {
          "param": "betaW.2",
          "value": 0.1396011440968541
         },
         {
          "param": "betaW.2",
          "value": 0.42272398136298484
         },
         {
          "param": "betaW.2",
          "value": 0.18454762552127113
         },
         {
          "param": "betaW.2",
          "value": 0.23876105078683416
         },
         {
          "param": "betaW.2",
          "value": 0.06681552509678527
         },
         {
          "param": "betaW.2",
          "value": -0.06486789007709957
         },
         {
          "param": "betaW.2",
          "value": 0.11463115669460645
         },
         {
          "param": "betaW.2",
          "value": 0.2818818983907011
         },
         {
          "param": "betaW.2",
          "value": 0.1151358417031727
         },
         {
          "param": "betaW.2",
          "value": 0.21384264203818332
         },
         {
          "param": "betaW.2",
          "value": 0.10161834013978471
         },
         {
          "param": "betaW.2",
          "value": 0.1476849759296649
         },
         {
          "param": "betaW.2",
          "value": 0.204918741834193
         },
         {
          "param": "betaW.2",
          "value": 0.013487173814287127
         },
         {
          "param": "betaW.2",
          "value": 0.18430805174179382
         },
         {
          "param": "betaW.2",
          "value": 0.19417383941878436
         },
         {
          "param": "betaW.2",
          "value": -0.06742616899287648
         },
         {
          "param": "betaW.2",
          "value": -0.00735617999563401
         },
         {
          "param": "betaW.2",
          "value": 0.10599039413288038
         },
         {
          "param": "betaW.2",
          "value": 0.06889404222322297
         },
         {
          "param": "betaW.2",
          "value": 0.39898609062836976
         },
         {
          "param": "betaW.2",
          "value": 0.07114537221544728
         },
         {
          "param": "betaW.2",
          "value": 0.1744786437052515
         },
         {
          "param": "betaW.2",
          "value": 0.1863179761208173
         },
         {
          "param": "betaW.2",
          "value": -0.016224706956245998
         },
         {
          "param": "betaW.2",
          "value": 0.08453074586625904
         },
         {
          "param": "betaW.2",
          "value": 0.1674956606999054
         },
         {
          "param": "betaW.2",
          "value": -0.013960529140580144
         },
         {
          "param": "betaW.2",
          "value": 0.1835084441188417
         },
         {
          "param": "betaW.2",
          "value": 0.42287528642237215
         },
         {
          "param": "betaW.2",
          "value": 0.20602342474487062
         },
         {
          "param": "betaW.2",
          "value": 0.06748773344022699
         },
         {
          "param": "betaW.2",
          "value": 0.21184928647248502
         },
         {
          "param": "betaW.2",
          "value": 0.062389400832327135
         },
         {
          "param": "betaW.2",
          "value": -0.006407423023516205
         },
         {
          "param": "betaW.2",
          "value": 0.03974361204775256
         },
         {
          "param": "betaW.2",
          "value": 0.10107196181265955
         },
         {
          "param": "betaW.2",
          "value": 0.0021691856912454677
         },
         {
          "param": "betaW.2",
          "value": 0.11418167870252657
         },
         {
          "param": "betaW.2",
          "value": 0.3326872090433533
         },
         {
          "param": "betaW.2",
          "value": 0.245143012460143
         },
         {
          "param": "betaW.2",
          "value": 0.020140218048498706
         },
         {
          "param": "betaW.2",
          "value": -0.08071040618957956
         },
         {
          "param": "betaW.2",
          "value": 0.04479268830696412
         },
         {
          "param": "betaW.2",
          "value": 0.09413814912915375
         },
         {
          "param": "betaW.2",
          "value": 0.27190676452905843
         },
         {
          "param": "betaW.2",
          "value": 0.11183178227738588
         },
         {
          "param": "betaW.2",
          "value": 0.20566558225334125
         },
         {
          "param": "betaW.2",
          "value": 0.05682148178366887
         },
         {
          "param": "betaW.2",
          "value": 0.20040261242853075
         },
         {
          "param": "betaW.2",
          "value": -0.06765740562514524
         },
         {
          "param": "betaW.2",
          "value": 0.007418849080145718
         },
         {
          "param": "betaW.2",
          "value": 0.17544671936589354
         },
         {
          "param": "betaW.2",
          "value": 0.16631558506359928
         },
         {
          "param": "betaW.2",
          "value": 0.18442088296507264
         },
         {
          "param": "betaW.2",
          "value": 0.12498534378622538
         },
         {
          "param": "betaW.2",
          "value": 0.025444952804581283
         },
         {
          "param": "betaW.2",
          "value": 0.09165049636597282
         },
         {
          "param": "betaW.2",
          "value": 0.11521040767928324
         },
         {
          "param": "betaW.2",
          "value": -0.006862867793324158
         },
         {
          "param": "betaW.2",
          "value": -0.040602355414096694
         },
         {
          "param": "betaW.2",
          "value": 0.17918498440321906
         },
         {
          "param": "betaW.2",
          "value": 0.21306850498735463
         },
         {
          "param": "betaW.2",
          "value": 0.03887898016523851
         },
         {
          "param": "betaW.2",
          "value": 0.1686081403248944
         },
         {
          "param": "betaW.2",
          "value": 0.11925401989501017
         },
         {
          "param": "betaW.2",
          "value": 0.0011274150911838032
         },
         {
          "param": "betaW.2",
          "value": -0.13914085994916425
         },
         {
          "param": "betaW.2",
          "value": 0.38880719674888037
         },
         {
          "param": "betaW.2",
          "value": 0.030624350877863117
         },
         {
          "param": "betaW.2",
          "value": 0.016500788216634373
         },
         {
          "param": "betaW.2",
          "value": 0.24092819536881813
         },
         {
          "param": "betaW.2",
          "value": -0.1685624933106183
         },
         {
          "param": "betaW.2",
          "value": 0.3628812987262986
         },
         {
          "param": "betaW.2",
          "value": 0.26561328926583083
         },
         {
          "param": "betaW.2",
          "value": 0.2538546832777995
         },
         {
          "param": "betaW.2",
          "value": -0.10860059362401522
         },
         {
          "param": "betaW.2",
          "value": -0.14732487949400547
         },
         {
          "param": "betaW.2",
          "value": -0.05008713513783014
         },
         {
          "param": "betaW.2",
          "value": -0.11657796557670938
         },
         {
          "param": "betaW.2",
          "value": 0.3539557097568946
         },
         {
          "param": "betaW.2",
          "value": 0.037168634491061614
         },
         {
          "param": "betaW.2",
          "value": 0.014775294838184877
         },
         {
          "param": "betaW.2",
          "value": -0.02118062786190736
         },
         {
          "param": "betaW.2",
          "value": 0.16436296239757556
         },
         {
          "param": "betaW.2",
          "value": 0.07985417927965072
         },
         {
          "param": "betaW.2",
          "value": 0.2482818729206371
         },
         {
          "param": "betaW.2",
          "value": 0.21198391732080518
         },
         {
          "param": "betaW.2",
          "value": 0.12598380119053962
         },
         {
          "param": "betaW.2",
          "value": 0.24359898424983129
         },
         {
          "param": "betaW.2",
          "value": -0.23294121949000185
         },
         {
          "param": "betaW.2",
          "value": 0.176946996449934
         },
         {
          "param": "betaW.2",
          "value": 0.25058229429462414
         },
         {
          "param": "betaW.2",
          "value": 0.047301517591329834
         },
         {
          "param": "betaW.2",
          "value": 0.05635712912052465
         },
         {
          "param": "betaW.2",
          "value": 0.3138613470886947
         },
         {
          "param": "betaW.2",
          "value": 0.2700466517274796
         },
         {
          "param": "betaW.2",
          "value": -0.11167371185359733
         },
         {
          "param": "betaW.2",
          "value": 0.3174902923068259
         },
         {
          "param": "betaW.2",
          "value": 0.03210385791836795
         },
         {
          "param": "betaW.2",
          "value": -0.04462955544154324
         },
         {
          "param": "betaW.2",
          "value": 0.034433357239141066
         },
         {
          "param": "betaW.2",
          "value": 0.1693425407912842
         },
         {
          "param": "betaW.2",
          "value": 0.13695059966275575
         },
         {
          "param": "betaW.2",
          "value": 0.22397919815390221
         },
         {
          "param": "betaW.2",
          "value": 0.10184201966478384
         },
         {
          "param": "betaW.2",
          "value": 0.043691794320220155
         },
         {
          "param": "betaW.2",
          "value": 0.020753088865344486
         },
         {
          "param": "betaW.2",
          "value": 0.09810151714453713
         },
         {
          "param": "betaW.2",
          "value": 0.07683803909241109
         },
         {
          "param": "betaW.2",
          "value": 0.1143280967687034
         },
         {
          "param": "betaW.2",
          "value": 0.26203761466973663
         },
         {
          "param": "betaW.2",
          "value": 0.20546217632758845
         },
         {
          "param": "betaW.2",
          "value": 0.12293457175509134
         },
         {
          "param": "betaW.2",
          "value": 0.06242284723699394
         },
         {
          "param": "betaW.2",
          "value": 0.1811558319550142
         },
         {
          "param": "betaW.2",
          "value": 0.25657754147088047
         },
         {
          "param": "betaW.2",
          "value": 0.13590466160698006
         },
         {
          "param": "betaW.2",
          "value": -0.04596575092736313
         },
         {
          "param": "betaW.2",
          "value": 0.16990376336406782
         },
         {
          "param": "betaW.2",
          "value": -0.03358145082361268
         },
         {
          "param": "betaW.2",
          "value": 0.05442274297734792
         },
         {
          "param": "betaW.2",
          "value": 0.20206670177426467
         },
         {
          "param": "betaW.2",
          "value": -0.03046760980559473
         },
         {
          "param": "betaW.2",
          "value": -0.06909900926452912
         },
         {
          "param": "betaW.2",
          "value": 0.37198466869078317
         },
         {
          "param": "betaW.2",
          "value": 0.07273629828509279
         },
         {
          "param": "betaW.2",
          "value": 0.2903051541387498
         },
         {
          "param": "betaW.2",
          "value": 0.42819092741562537
         },
         {
          "param": "betaW.2",
          "value": 0.012793307756446687
         },
         {
          "param": "betaW.2",
          "value": 0.07719382158086827
         },
         {
          "param": "betaW.2",
          "value": -0.128188005631527
         },
         {
          "param": "betaW.2",
          "value": -0.326995656164877
         },
         {
          "param": "betaW.2",
          "value": 0.2604685213865802
         },
         {
          "param": "betaW.2",
          "value": 0.19085645648198454
         },
         {
          "param": "betaW.2",
          "value": 0.21457239833595412
         },
         {
          "param": "betaW.2",
          "value": 0.3530858929035516
         },
         {
          "param": "betaW.2",
          "value": 0.1444892347954902
         },
         {
          "param": "betaW.2",
          "value": 0.30270371761547055
         },
         {
          "param": "betaW.2",
          "value": 0.4048132053967854
         },
         {
          "param": "betaW.2",
          "value": 0.23738105492332973
         },
         {
          "param": "betaW.2",
          "value": 0.288016726966972
         },
         {
          "param": "betaW.2",
          "value": 0.20407226354927924
         },
         {
          "param": "betaW.2",
          "value": 0.19777495252517208
         },
         {
          "param": "betaW.2",
          "value": -0.0924682755535274
         },
         {
          "param": "betaW.2",
          "value": 0.05514159587159073
         },
         {
          "param": "betaW.2",
          "value": 0.10625036352744464
         },
         {
          "param": "betaW.2",
          "value": -0.0634713800303842
         },
         {
          "param": "betaW.2",
          "value": 0.2259714874944479
         },
         {
          "param": "betaW.2",
          "value": 0.15452790287910712
         },
         {
          "param": "betaW.2",
          "value": 0.32111130841004876
         },
         {
          "param": "betaW.2",
          "value": -0.11129369304581076
         },
         {
          "param": "betaW.2",
          "value": 0.11135394646931665
         },
         {
          "param": "betaW.2",
          "value": 0.20745257878748904
         },
         {
          "param": "betaW.2",
          "value": 0.3072810838760096
         },
         {
          "param": "betaW.2",
          "value": -0.13001330778063958
         },
         {
          "param": "betaW.2",
          "value": 0.20659475289419363
         },
         {
          "param": "betaW.2",
          "value": -0.07591495269434935
         },
         {
          "param": "betaW.2",
          "value": 0.2967250578618139
         },
         {
          "param": "betaW.2",
          "value": 0.11355264227429825
         },
         {
          "param": "betaW.2",
          "value": 0.2501122567037161
         },
         {
          "param": "betaW.2",
          "value": 0.2893378077406491
         },
         {
          "param": "betaW.2",
          "value": 0.19753784602334679
         },
         {
          "param": "betaW.2",
          "value": 0.12093700376591045
         },
         {
          "param": "betaW.2",
          "value": -0.11133462367320826
         },
         {
          "param": "betaW.2",
          "value": 0.14955424514406504
         },
         {
          "param": "betaW.2",
          "value": 0.36676469831240366
         },
         {
          "param": "betaW.2",
          "value": -0.02438963005033705
         },
         {
          "param": "betaW.2",
          "value": 0.12412937639464619
         },
         {
          "param": "betaW.2",
          "value": -0.09929926335293622
         },
         {
          "param": "betaW.2",
          "value": -0.11042267156398361
         },
         {
          "param": "betaW.2",
          "value": 0.08813588459416595
         },
         {
          "param": "betaW.2",
          "value": 0.0038902177739334187
         },
         {
          "param": "betaW.2",
          "value": 0.27497753617688575
         },
         {
          "param": "betaW.2",
          "value": -0.00779221506077693
         },
         {
          "param": "betaW.2",
          "value": 0.2503777394676407
         },
         {
          "param": "betaW.2",
          "value": -0.12246218850699869
         },
         {
          "param": "betaW.2",
          "value": 0.046452248432002186
         },
         {
          "param": "betaW.2",
          "value": 0.44528452518334705
         },
         {
          "param": "betaW.2",
          "value": 0.14011222912154514
         },
         {
          "param": "betaW.2",
          "value": 0.369563869641621
         },
         {
          "param": "betaW.2",
          "value": 0.01660805110975004
         },
         {
          "param": "betaW.2",
          "value": 0.14778116714645925
         },
         {
          "param": "betaW.2",
          "value": -0.09346239327520316
         },
         {
          "param": "betaW.2",
          "value": -0.07902096456391794
         },
         {
          "param": "betaW.2",
          "value": 0.19684223597075579
         },
         {
          "param": "betaW.2",
          "value": 0.28147954152991167
         },
         {
          "param": "betaW.2",
          "value": -0.08334957860932439
         },
         {
          "param": "betaW.2",
          "value": 0.35048642024802773
         },
         {
          "param": "betaW.2",
          "value": 0.32615575882639786
         },
         {
          "param": "betaW.2",
          "value": 0.2551779817250466
         },
         {
          "param": "betaW.2",
          "value": 0.3298416450754519
         },
         {
          "param": "betaW.2",
          "value": -0.10071025433028508
         },
         {
          "param": "betaW.2",
          "value": 0.056479744537761896
         },
         {
          "param": "betaW.2",
          "value": 0.2149416683395997
         },
         {
          "param": "betaW.2",
          "value": 0.3620032306210104
         },
         {
          "param": "betaW.2",
          "value": -0.10979073408013959
         },
         {
          "param": "betaW.2",
          "value": -0.0315741404009531
         },
         {
          "param": "betaW.2",
          "value": 0.06599022286848819
         },
         {
          "param": "betaW.2",
          "value": 0.35180321865683156
         },
         {
          "param": "betaW.2",
          "value": -0.08933169030103776
         },
         {
          "param": "betaW.2",
          "value": 0.259112138463586
         },
         {
          "param": "betaW.2",
          "value": 0.08231106615844173
         },
         {
          "param": "betaW.2",
          "value": 0.1451823943927715
         },
         {
          "param": "betaW.2",
          "value": 0.1890489703238198
         },
         {
          "param": "betaW.2",
          "value": 0.2593542380806593
         },
         {
          "param": "betaW.2",
          "value": 0.03577683993846332
         },
         {
          "param": "betaW.2",
          "value": -0.14692215537704664
         },
         {
          "param": "betaW.2",
          "value": -0.1331407456061134
         },
         {
          "param": "betaW.2",
          "value": 0.12147049770078674
         },
         {
          "param": "betaW.2",
          "value": 0.19311255356657123
         },
         {
          "param": "betaW.2",
          "value": 0.24807070595526193
         },
         {
          "param": "betaW.2",
          "value": -0.017954259507335785
         },
         {
          "param": "betaW.2",
          "value": -0.10162586181649987
         },
         {
          "param": "betaW.2",
          "value": 0.06295791795115907
         },
         {
          "param": "betaW.2",
          "value": -0.15114607053559428
         },
         {
          "param": "betaW.2",
          "value": 0.3254565845343931
         },
         {
          "param": "betaW.2",
          "value": -0.00341357910107537
         },
         {
          "param": "betaW.2",
          "value": 0.2540823839345857
         },
         {
          "param": "betaW.2",
          "value": 0.23287646079400953
         },
         {
          "param": "betaW.2",
          "value": 0.048030032778526355
         },
         {
          "param": "betaW.2",
          "value": 0.2015045317877141
         },
         {
          "param": "betaW.2",
          "value": 0.3877458937862264
         },
         {
          "param": "betaW.2",
          "value": -0.14188544809094544
         },
         {
          "param": "betaW.2",
          "value": 0.11045073749101814
         },
         {
          "param": "betaW.2",
          "value": 0.06403007922843312
         },
         {
          "param": "betaW.2",
          "value": 0.46438494584042056
         },
         {
          "param": "betaW.2",
          "value": 0.06531251382605295
         },
         {
          "param": "betaW.2",
          "value": 0.26876389859150357
         },
         {
          "param": "betaW.2",
          "value": 0.15965227411172184
         },
         {
          "param": "betaW.2",
          "value": 0.008031781156134316
         },
         {
          "param": "betaW.2",
          "value": 0.06749990113298486
         },
         {
          "param": "betaW.2",
          "value": 0.3264258232673855
         },
         {
          "param": "betaW.2",
          "value": 0.04837306657358571
         },
         {
          "param": "betaW.2",
          "value": 0.10339716756354622
         },
         {
          "param": "betaW.2",
          "value": -0.02289996023836824
         },
         {
          "param": "betaW.2",
          "value": 0.1942083442159411
         },
         {
          "param": "betaW.2",
          "value": 0.38796887758597565
         },
         {
          "param": "betaW.2",
          "value": 0.31921087831052725
         },
         {
          "param": "betaW.2",
          "value": 0.17740115527202188
         },
         {
          "param": "betaW.2",
          "value": -0.031068243712874567
         },
         {
          "param": "betaW.2",
          "value": 0.22811307496608943
         },
         {
          "param": "betaW.2",
          "value": -0.16178737092595363
         },
         {
          "param": "betaW.2",
          "value": 0.27929415283884046
         },
         {
          "param": "betaW.2",
          "value": 0.0487712341969625
         },
         {
          "param": "betaW.2",
          "value": -0.15590125105821287
         },
         {
          "param": "betaW.2",
          "value": -0.1997818819548867
         },
         {
          "param": "betaW.2",
          "value": 0.252735387512413
         },
         {
          "param": "betaW.2",
          "value": 0.38660335970785076
         },
         {
          "param": "betaW.2",
          "value": 0.03817210440360712
         },
         {
          "param": "betaW.2",
          "value": 0.4043746848714505
         },
         {
          "param": "betaW.2",
          "value": 0.10970923041535181
         },
         {
          "param": "betaW.2",
          "value": 0.06862068859653561
         },
         {
          "param": "betaW.2",
          "value": 0.22329537798208865
         },
         {
          "param": "betaW.2",
          "value": 0.09850233667491809
         },
         {
          "param": "betaW.2",
          "value": 0.24612597210305398
         },
         {
          "param": "betaW.2",
          "value": 0.1123909250744203
         },
         {
          "param": "betaW.2",
          "value": -0.032229912650003495
         },
         {
          "param": "betaW.2",
          "value": 0.2636141840030156
         },
         {
          "param": "betaW.2",
          "value": -0.014171538401197482
         },
         {
          "param": "betaW.2",
          "value": 0.1164459355145555
         },
         {
          "param": "betaW.2",
          "value": 0.17826474057538733
         },
         {
          "param": "betaW.2",
          "value": 0.08850262727500269
         },
         {
          "param": "betaW.2",
          "value": 0.043245453941800426
         },
         {
          "param": "betaW.2",
          "value": 0.07122521848163821
         },
         {
          "param": "betaW.2",
          "value": 0.09667735008900068
         },
         {
          "param": "betaW.2",
          "value": 0.33430876178944435
         },
         {
          "param": "betaW.2",
          "value": 0.10398076156169181
         },
         {
          "param": "betaW.2",
          "value": 0.20729561733398666
         },
         {
          "param": "betaW.2",
          "value": -0.024241032887303754
         },
         {
          "param": "betaW.2",
          "value": 0.015657706772507538
         },
         {
          "param": "betaW.2",
          "value": 0.2881219807731819
         },
         {
          "param": "betaW.2",
          "value": 0.15827690701124664
         },
         {
          "param": "betaW.2",
          "value": 0.2918511003942008
         },
         {
          "param": "betaW.2",
          "value": 0.3221805398607927
         },
         {
          "param": "betaW.2",
          "value": 0.18977251618519017
         },
         {
          "param": "betaW.2",
          "value": -0.0010659140672096765
         },
         {
          "param": "betaW.2",
          "value": 0.07971318146315137
         },
         {
          "param": "betaW.2",
          "value": 0.0049967608090490945
         },
         {
          "param": "betaW.2",
          "value": 0.07142955309972449
         },
         {
          "param": "betaW.2",
          "value": 0.11297997362087697
         },
         {
          "param": "betaW.2",
          "value": 0.16171675335456992
         },
         {
          "param": "betaW.2",
          "value": -0.05955492516296777
         },
         {
          "param": "betaW.2",
          "value": 0.3189663648564775
         },
         {
          "param": "betaW.2",
          "value": 0.1561313785318808
         },
         {
          "param": "betaW.2",
          "value": 0.19229892511857544
         },
         {
          "param": "betaW.2",
          "value": -0.07755473801218436
         },
         {
          "param": "betaW.2",
          "value": 0.11550308097495451
         },
         {
          "param": "betaW.2",
          "value": 0.16470088553097922
         },
         {
          "param": "betaW.2",
          "value": 0.13470674811319006
         },
         {
          "param": "betaW.2",
          "value": 0.2608047138024861
         },
         {
          "param": "betaW.2",
          "value": 0.31583131920449303
         },
         {
          "param": "betaW.2",
          "value": 0.13010013538451967
         },
         {
          "param": "betaW.2",
          "value": 0.10806997509897633
         },
         {
          "param": "betaW.2",
          "value": 0.115454889033385
         },
         {
          "param": "betaW.2",
          "value": 0.18852021323969453
         },
         {
          "param": "betaW.2",
          "value": 0.18184292434404647
         },
         {
          "param": "betaW.2",
          "value": -0.05729816067461166
         },
         {
          "param": "betaW.2",
          "value": -0.10814071737026712
         },
         {
          "param": "betaW.2",
          "value": 0.1630614815355165
         },
         {
          "param": "betaW.2",
          "value": 0.06633060196259741
         },
         {
          "param": "betaW.2",
          "value": 0.2365842296608231
         },
         {
          "param": "betaW.2",
          "value": 0.08573272200328133
         },
         {
          "param": "betaW.2",
          "value": -0.033112905248207425
         },
         {
          "param": "betaW.2",
          "value": 0.1525372568233358
         },
         {
          "param": "betaW.2",
          "value": 0.2230276904751154
         },
         {
          "param": "betaW.2",
          "value": 0.259478338725066
         },
         {
          "param": "betaW.2",
          "value": 0.029621664062315443
         },
         {
          "param": "betaW.2",
          "value": 0.14613955783619784
         },
         {
          "param": "betaW.2",
          "value": 0.01769982538563488
         },
         {
          "param": "betaW.2",
          "value": 0.3086404490237398
         },
         {
          "param": "betaW.2",
          "value": 0.1369180557112719
         },
         {
          "param": "betaW.2",
          "value": 0.30229679064218173
         },
         {
          "param": "betaW.2",
          "value": 0.34885643627435164
         },
         {
          "param": "betaW.2",
          "value": -0.018063674743282743
         },
         {
          "param": "betaW.2",
          "value": 0.19994172555733536
         },
         {
          "param": "betaW.2",
          "value": -0.08739585767429313
         },
         {
          "param": "betaW.2",
          "value": -0.0809599743306339
         },
         {
          "param": "betaW.2",
          "value": 0.2492376950801048
         },
         {
          "param": "betaW.2",
          "value": 0.029035124035885707
         },
         {
          "param": "betaW.2",
          "value": -0.04863868663876528
         },
         {
          "param": "betaW.2",
          "value": 0.24017988414321556
         },
         {
          "param": "betaW.2",
          "value": 0.2211290019469843
         },
         {
          "param": "betaW.2",
          "value": 0.3151456708824225
         },
         {
          "param": "betaW.2",
          "value": 0.31375339274489716
         },
         {
          "param": "betaW.2",
          "value": 0.07887204084259812
         },
         {
          "param": "betaW.2",
          "value": -0.07489804953820728
         },
         {
          "param": "betaW.2",
          "value": 0.294814111771408
         },
         {
          "param": "betaW.2",
          "value": -0.043224562743933825
         },
         {
          "param": "betaW.2",
          "value": 0.1558764052476346
         },
         {
          "param": "betaW.2",
          "value": 0.2500078898021456
         },
         {
          "param": "betaW.2",
          "value": 0.39864309318869695
         },
         {
          "param": "betaW.2",
          "value": 0.16576431501280037
         },
         {
          "param": "betaW.2",
          "value": 0.10937812034291705
         },
         {
          "param": "betaW.2",
          "value": 0.18209742699162793
         },
         {
          "param": "betaW.2",
          "value": -0.17695064433577137
         },
         {
          "param": "betaW.2",
          "value": 0.27763857784426677
         },
         {
          "param": "betaW.2",
          "value": -0.023677291232193497
         },
         {
          "param": "betaW.2",
          "value": -0.0950978736529514
         },
         {
          "param": "betaW.2",
          "value": -0.4175966646184761
         },
         {
          "param": "betaW.2",
          "value": 0.2725180412072087
         },
         {
          "param": "betaW.2",
          "value": -0.14038474804304152
         },
         {
          "param": "betaW.2",
          "value": 0.2870747941961307
         },
         {
          "param": "betaW.2",
          "value": 0.5212265994745676
         },
         {
          "param": "betaW.2",
          "value": 0.26279132030942004
         },
         {
          "param": "betaW.2",
          "value": 0.13296457696582833
         },
         {
          "param": "betaW.2",
          "value": 0.26150337752154096
         },
         {
          "param": "betaW.2",
          "value": 0.20709031444212966
         },
         {
          "param": "betaW.2",
          "value": 0.5113419250727431
         },
         {
          "param": "betaW.2",
          "value": -0.06909448973749899
         },
         {
          "param": "betaW.2",
          "value": 0.13060204899467406
         },
         {
          "param": "betaW.2",
          "value": 0.30420058423723795
         },
         {
          "param": "betaW.2",
          "value": 0.027551581138715822
         },
         {
          "param": "betaW.2",
          "value": 0.4471369196141833
         },
         {
          "param": "betaW.2",
          "value": 0.05128633151399109
         },
         {
          "param": "betaW.2",
          "value": -0.056878650786946594
         },
         {
          "param": "betaW.2",
          "value": 0.2519054369890733
         },
         {
          "param": "betaW.2",
          "value": 0.4144497600130314
         },
         {
          "param": "betaW.2",
          "value": 0.27989281763412677
         },
         {
          "param": "betaW.2",
          "value": -0.041899795742105055
         },
         {
          "param": "betaW.2",
          "value": 0.029676999121957537
         },
         {
          "param": "betaW.2",
          "value": 0.5015183014380864
         },
         {
          "param": "betaW.2",
          "value": 0.004026317411565755
         },
         {
          "param": "betaW.2",
          "value": 0.17648035842292717
         },
         {
          "param": "betaW.2",
          "value": -0.15620774379684413
         },
         {
          "param": "betaW.2",
          "value": -0.09229033748394622
         },
         {
          "param": "betaW.2",
          "value": 0.39156400855541934
         },
         {
          "param": "betaW.2",
          "value": 0.09818789823065646
         },
         {
          "param": "betaW.2",
          "value": -0.050672316820111335
         },
         {
          "param": "betaW.2",
          "value": 0.056889116471549955
         },
         {
          "param": "betaW.2",
          "value": -0.12028135341169739
         },
         {
          "param": "betaW.2",
          "value": 0.23142270565626205
         },
         {
          "param": "betaW.2",
          "value": 0.03324713461771467
         },
         {
          "param": "betaW.2",
          "value": 0.008175185562640755
         },
         {
          "param": "betaW.2",
          "value": 0.10738257666292597
         },
         {
          "param": "betaW.2",
          "value": 0.12185454569312615
         },
         {
          "param": "betaW.2",
          "value": 0.21990315367934682
         },
         {
          "param": "betaW.2",
          "value": 0.13153212930376476
         },
         {
          "param": "betaW.2",
          "value": 0.1374192133045466
         },
         {
          "param": "betaW.2",
          "value": -0.06768602616140369
         },
         {
          "param": "betaW.2",
          "value": 0.10738336825492031
         },
         {
          "param": "betaW.2",
          "value": 0.38059485334507137
         },
         {
          "param": "betaW.2",
          "value": 0.13054573102322073
         },
         {
          "param": "betaW.2",
          "value": 0.40051605691574255
         },
         {
          "param": "betaW.2",
          "value": 0.34505782459952195
         },
         {
          "param": "betaW.2",
          "value": 0.12731783005372646
         },
         {
          "param": "betaW.2",
          "value": 0.0955205153601644
         },
         {
          "param": "betaW.2",
          "value": 0.2228391889605973
         },
         {
          "param": "betaW.2",
          "value": -0.056098705593129294
         },
         {
          "param": "betaW.2",
          "value": 0.04006292032001916
         },
         {
          "param": "betaW.2",
          "value": 0.14877510617496345
         },
         {
          "param": "betaW.2",
          "value": -0.25836288085671844
         },
         {
          "param": "betaW.2",
          "value": 0.19329234235973325
         },
         {
          "param": "betaW.2",
          "value": 0.16126618662418113
         },
         {
          "param": "betaW.2",
          "value": 0.12243817819083033
         },
         {
          "param": "betaW.2",
          "value": -0.20361609383898918
         },
         {
          "param": "betaW.2",
          "value": -0.034751498082378485
         },
         {
          "param": "betaW.2",
          "value": -0.1621460336512108
         },
         {
          "param": "betaW.2",
          "value": -0.053340690177361205
         },
         {
          "param": "betaW.2",
          "value": 0.08821798474372854
         },
         {
          "param": "betaW.2",
          "value": 0.014666547069610535
         },
         {
          "param": "betaW.2",
          "value": -0.14276966986932293
         },
         {
          "param": "betaW.2",
          "value": 0.36198057880130813
         },
         {
          "param": "betaW.2",
          "value": 0.038449610514968216
         },
         {
          "param": "betaW.2",
          "value": 0.19642059050025795
         },
         {
          "param": "betaW.2",
          "value": -0.03962426921975258
         },
         {
          "param": "betaW.2",
          "value": -0.1158071112190751
         },
         {
          "param": "betaW.2",
          "value": 0.1219108594726239
         },
         {
          "param": "betaW.2",
          "value": -0.013990655639860766
         },
         {
          "param": "betaW.2",
          "value": 0.21241471941482704
         },
         {
          "param": "betaW.2",
          "value": 0.07823830916523142
         },
         {
          "param": "betaW.2",
          "value": 0.1762923869151286
         },
         {
          "param": "betaW.2",
          "value": -0.07096923394696618
         },
         {
          "param": "betaW.2",
          "value": -0.10168839130783083
         },
         {
          "param": "betaW.2",
          "value": 0.2700431406118072
         },
         {
          "param": "betaW.2",
          "value": -0.11619074048180482
         },
         {
          "param": "betaW.2",
          "value": 0.06693846377598263
         },
         {
          "param": "betaW.2",
          "value": 0.10490156458903618
         },
         {
          "param": "betaW.2",
          "value": 0.012327437800762231
         },
         {
          "param": "betaW.2",
          "value": -0.04552395142209956
         },
         {
          "param": "betaW.2",
          "value": 0.05926038541792339
         },
         {
          "param": "betaW.2",
          "value": -0.11947382313752651
         },
         {
          "param": "betaW.2",
          "value": -0.11750230130080935
         },
         {
          "param": "betaW.2",
          "value": 0.06802842735496395
         },
         {
          "param": "betaW.2",
          "value": 0.3550505580313109
         },
         {
          "param": "betaW.2",
          "value": 0.5040970538518398
         },
         {
          "param": "betaW.2",
          "value": 0.10866829216424104
         },
         {
          "param": "betaW.2",
          "value": 0.13372895973203303
         },
         {
          "param": "betaW.2",
          "value": -0.009637279360461007
         },
         {
          "param": "betaW.2",
          "value": 0.37407651475079706
         },
         {
          "param": "betaW.2",
          "value": 0.1751880182693542
         },
         {
          "param": "betaW.2",
          "value": 0.057350468777359276
         },
         {
          "param": "betaW.2",
          "value": 0.43252747667851665
         },
         {
          "param": "betaW.2",
          "value": -0.010336204776866337
         },
         {
          "param": "betaW.2",
          "value": 0.14706789781142512
         },
         {
          "param": "betaW.2",
          "value": 0.28871893549460614
         },
         {
          "param": "betaW.2",
          "value": 0.24477830224288205
         },
         {
          "param": "betaW.2",
          "value": 0.032941508492716313
         },
         {
          "param": "betaW.2",
          "value": 0.15804991108271876
         },
         {
          "param": "betaW.2",
          "value": -0.11624720793857021
         },
         {
          "param": "betaW.2",
          "value": 0.3199550822654284
         },
         {
          "param": "betaW.2",
          "value": 0.25453168401483417
         },
         {
          "param": "betaW.2",
          "value": 0.11322436541184698
         },
         {
          "param": "betaW.2",
          "value": 0.3226609787691597
         },
         {
          "param": "betaW.2",
          "value": 0.3004191177591463
         },
         {
          "param": "betaW.2",
          "value": 0.37646900830039726
         },
         {
          "param": "betaW.2",
          "value": -0.04138150339433037
         },
         {
          "param": "betaW.2",
          "value": 0.2519585619313991
         },
         {
          "param": "betaW.2",
          "value": -0.08670582376792994
         },
         {
          "param": "betaW.2",
          "value": -0.18858463296382608
         },
         {
          "param": "betaW.2",
          "value": 0.2860485886695474
         },
         {
          "param": "betaW.2",
          "value": 0.36175830825067573
         },
         {
          "param": "betaW.2",
          "value": -0.06199136526266497
         },
         {
          "param": "betaW.2",
          "value": -0.12773058154019595
         },
         {
          "param": "betaW.2",
          "value": -0.08031165819522279
         },
         {
          "param": "betaW.2",
          "value": 0.048373678779405384
         },
         {
          "param": "betaW.2",
          "value": -0.1296473944272957
         },
         {
          "param": "betaW.2",
          "value": 0.4142406070265564
         },
         {
          "param": "betaW.2",
          "value": 0.3207179535829696
         },
         {
          "param": "betaW.2",
          "value": 0.1555242681633628
         },
         {
          "param": "betaW.2",
          "value": -0.24689758736746892
         },
         {
          "param": "betaW.2",
          "value": -0.14130117530479022
         },
         {
          "param": "betaW.2",
          "value": 0.19509477350077756
         },
         {
          "param": "betaW.2",
          "value": -0.009279799049690125
         },
         {
          "param": "betaW.2",
          "value": -0.18436534974944518
         },
         {
          "param": "betaW.2",
          "value": 0.19273783389575277
         },
         {
          "param": "betaW.2",
          "value": 0.18521303847777804
         },
         {
          "param": "betaW.2",
          "value": 0.1420910619500438
         },
         {
          "param": "betaW.2",
          "value": -0.20514882193903108
         },
         {
          "param": "betaW.2",
          "value": -0.29583620875034455
         },
         {
          "param": "betaW.2",
          "value": -0.1616178427715666
         },
         {
          "param": "betaW.2",
          "value": 0.21137194464492087
         },
         {
          "param": "betaW.2",
          "value": 0.26371093084435615
         },
         {
          "param": "betaW.2",
          "value": -0.03138166133073653
         },
         {
          "param": "betaW.2",
          "value": -0.2056470653469391
         },
         {
          "param": "betaW.2",
          "value": -0.10295719787708472
         },
         {
          "param": "betaW.2",
          "value": -0.15935095632822374
         },
         {
          "param": "betaW.2",
          "value": 0.36668094481995145
         },
         {
          "param": "betaW.2",
          "value": 0.026028399708755645
         },
         {
          "param": "betaW.2",
          "value": 0.22545844804612394
         },
         {
          "param": "betaW.2",
          "value": 0.23392536301489916
         },
         {
          "param": "betaW.2",
          "value": 0.365466008218436
         },
         {
          "param": "betaW.2",
          "value": 0.005440712303903045
         },
         {
          "param": "betaW.2",
          "value": 0.22545844804612394
         },
         {
          "param": "betaW.2",
          "value": 0.08510993142362114
         },
         {
          "param": "betaW.2",
          "value": -0.18430771059932927
         },
         {
          "param": "betaW.2",
          "value": 0.06535984719740985
         },
         {
          "param": "betaW.2",
          "value": 0.017332653249338845
         },
         {
          "param": "betaW.2",
          "value": 0.25659336728974214
         },
         {
          "param": "betaW.2",
          "value": 0.024986840498802315
         },
         {
          "param": "betaW.2",
          "value": -0.06631248759747674
         },
         {
          "param": "betaW.2",
          "value": -0.04374734128747912
         },
         {
          "param": "betaW.2",
          "value": -0.11026335056465761
         },
         {
          "param": "betaW.2",
          "value": 0.40663300633013416
         },
         {
          "param": "betaW.2",
          "value": 0.27303256812529564
         },
         {
          "param": "betaW.2",
          "value": 0.16144155335639648
         },
         {
          "param": "betaW.2",
          "value": -0.02266645783793851
         },
         {
          "param": "betaW.2",
          "value": 0.09632194641138547
         },
         {
          "param": "betaW.2",
          "value": 0.3287043073805849
         },
         {
          "param": "betaW.2",
          "value": 0.008705231275274256
         },
         {
          "param": "betaW.2",
          "value": -0.028022401581132377
         },
         {
          "param": "betaW.2",
          "value": 0.4177012568423565
         },
         {
          "param": "betaW.2",
          "value": 0.39334859574689696
         },
         {
          "param": "betaW.2",
          "value": 0.03839090567952859
         },
         {
          "param": "betaW.2",
          "value": 0.0043859739761018535
         },
         {
          "param": "betaW.2",
          "value": -0.1826503189202502
         },
         {
          "param": "betaW.2",
          "value": -0.4285893498569801
         },
         {
          "param": "betaW.2",
          "value": 0.04470032449967945
         },
         {
          "param": "betaW.2",
          "value": 0.179890986520497
         },
         {
          "param": "betaW.2",
          "value": -0.1781728404552168
         },
         {
          "param": "betaW.2",
          "value": -0.13415737899155852
         },
         {
          "param": "betaW.2",
          "value": 0.2675396987025042
         },
         {
          "param": "betaW.2",
          "value": 0.06315536610337968
         },
         {
          "param": "betaW.2",
          "value": -0.1391682418116597
         },
         {
          "param": "betaW.2",
          "value": 0.22341794048714095
         },
         {
          "param": "betaW.2",
          "value": 0.4173692135339182
         },
         {
          "param": "betaW.2",
          "value": 0.11350989735301899
         },
         {
          "param": "betaW.2",
          "value": 0.2069386267229621
         },
         {
          "param": "betaW.2",
          "value": 0.11219498702314143
         },
         {
          "param": "betaW.2",
          "value": 0.3511634380689386
         },
         {
          "param": "betaW.2",
          "value": 0.10078055818095569
         },
         {
          "param": "betaW.2",
          "value": 0.05290674739766413
         },
         {
          "param": "betaW.2",
          "value": 0.12513999262269596
         },
         {
          "param": "betaW.2",
          "value": -0.03720252215283963
         },
         {
          "param": "betaW.2",
          "value": -0.034548802968103545
         },
         {
          "param": "betaW.2",
          "value": -0.07312262911659803
         },
         {
          "param": "betaW.2",
          "value": 0.26354564057909713
         },
         {
          "param": "betaW.2",
          "value": 0.1263032981856092
         },
         {
          "param": "betaW.2",
          "value": 0.12776448008044577
         },
         {
          "param": "betaW.2",
          "value": 0.4246237870164027
         },
         {
          "param": "betaW.2",
          "value": 0.3662230846656274
         },
         {
          "param": "betaW.2",
          "value": -0.03537201437521275
         },
         {
          "param": "betaW.2",
          "value": 0.2883853117792687
         },
         {
          "param": "betaW.2",
          "value": 0.31827006548400993
         },
         {
          "param": "betaW.2",
          "value": 0.17127078527800835
         },
         {
          "param": "betaW.2",
          "value": 0.10764672839455039
         },
         {
          "param": "betaW.2",
          "value": 0.17850601638384742
         },
         {
          "param": "betaW.2",
          "value": 0.22068441006766773
         },
         {
          "param": "betaW.2",
          "value": -0.18262939939128614
         },
         {
          "param": "betaW.2",
          "value": -0.060139264623634434
         },
         {
          "param": "betaW.2",
          "value": 0.15399483899549404
         },
         {
          "param": "betaW.2",
          "value": 0.09599119548385132
         },
         {
          "param": "betaW.2",
          "value": -0.04781585571041433
         },
         {
          "param": "betaW.2",
          "value": 0.20650578266397504
         },
         {
          "param": "betaW.2",
          "value": -0.0805506129822565
         },
         {
          "param": "betaW.2",
          "value": 0.11740177004227914
         },
         {
          "param": "betaW.2",
          "value": 0.256699120935352
         },
         {
          "param": "betaW.2",
          "value": 0.0968909816123347
         },
         {
          "param": "betaW.2",
          "value": 0.1450218692064813
         },
         {
          "param": "betaW.2",
          "value": -0.09519278596618945
         },
         {
          "param": "betaW.2",
          "value": 0.02393017719745328
         },
         {
          "param": "betaW.2",
          "value": 0.20554490603476844
         },
         {
          "param": "betaW.2",
          "value": 0.2089162759005329
         },
         {
          "param": "betaW.2",
          "value": 0.10671819890863123
         },
         {
          "param": "betaW.2",
          "value": 0.0644429117333988
         },
         {
          "param": "betaW.2",
          "value": 0.10928476958525639
         },
         {
          "param": "betaW.2",
          "value": -0.02544135531064109
         },
         {
          "param": "betaW.2",
          "value": -0.019491691605140936
         },
         {
          "param": "betaW.2",
          "value": -0.15863414599693634
         },
         {
          "param": "betaW.2",
          "value": 0.2090013469745466
         },
         {
          "param": "betaW.2",
          "value": -0.09624784550235682
         },
         {
          "param": "betaW.2",
          "value": 0.38800321871020427
         },
         {
          "param": "betaW.2",
          "value": 0.3457808670474331
         },
         {
          "param": "betaW.2",
          "value": -0.06755839411611694
         },
         {
          "param": "betaW.2",
          "value": -0.08665485037525165
         },
         {
          "param": "betaW.2",
          "value": 0.3221175311638406
         },
         {
          "param": "betaW.2",
          "value": 0.17072709274621964
         },
         {
          "param": "betaW.2",
          "value": -0.027639359228317215
         },
         {
          "param": "betaW.2",
          "value": 0.17236917314504352
         },
         {
          "param": "betaW.2",
          "value": -0.08219331936252844
         },
         {
          "param": "betaW.2",
          "value": 0.22280225941895063
         },
         {
          "param": "betaW.2",
          "value": 0.0548451383828639
         },
         {
          "param": "betaW.2",
          "value": 0.16020547332548032
         },
         {
          "param": "betaW.2",
          "value": 0.016194987984087646
         },
         {
          "param": "betaW.2",
          "value": 0.03743085266273753
         },
         {
          "param": "betaW.2",
          "value": 0.09185867833302608
         },
         {
          "param": "betaW.2",
          "value": 0.10014098046192961
         },
         {
          "param": "betaW.2",
          "value": 0.21111108265465478
         },
         {
          "param": "betaW.2",
          "value": 0.24678339940891214
         },
         {
          "param": "betaW.2",
          "value": 0.09024760343258681
         },
         {
          "param": "betaW.2",
          "value": 0.16940847551356814
         },
         {
          "param": "betaW.2",
          "value": 0.4474920907153098
         },
         {
          "param": "betaW.2",
          "value": -0.016340592152868746
         },
         {
          "param": "betaW.2",
          "value": -0.07658455299528999
         },
         {
          "param": "betaW.2",
          "value": 0.1545904130793883
         },
         {
          "param": "sigma",
          "value": 0.9077013874963498
         },
         {
          "param": "sigma",
          "value": 0.9545304246443056
         },
         {
          "param": "sigma",
          "value": 0.9114912343734242
         },
         {
          "param": "sigma",
          "value": 1.1085741107915077
         },
         {
          "param": "sigma",
          "value": 1.0193023861042896
         },
         {
          "param": "sigma",
          "value": 1.0174527043603863
         },
         {
          "param": "sigma",
          "value": 0.9541950802759233
         },
         {
          "param": "sigma",
          "value": 1.1019988585991083
         },
         {
          "param": "sigma",
          "value": 0.8677702505543076
         },
         {
          "param": "sigma",
          "value": 1.0108274899191414
         },
         {
          "param": "sigma",
          "value": 0.9539245886887223
         },
         {
          "param": "sigma",
          "value": 1.179529730538005
         },
         {
          "param": "sigma",
          "value": 0.9507440585416803
         },
         {
          "param": "sigma",
          "value": 1.0048225476108605
         },
         {
          "param": "sigma",
          "value": 0.9472303104074995
         },
         {
          "param": "sigma",
          "value": 1.0812735609973674
         },
         {
          "param": "sigma",
          "value": 0.978268300335008
         },
         {
          "param": "sigma",
          "value": 0.996934986006067
         },
         {
          "param": "sigma",
          "value": 1.181382414884498
         },
         {
          "param": "sigma",
          "value": 1.0035521907956426
         },
         {
          "param": "sigma",
          "value": 1.0483507998445032
         },
         {
          "param": "sigma",
          "value": 1.1640208081397623
         },
         {
          "param": "sigma",
          "value": 0.8113290587064493
         },
         {
          "param": "sigma",
          "value": 1.1699035171671655
         },
         {
          "param": "sigma",
          "value": 0.9841155693142856
         },
         {
          "param": "sigma",
          "value": 0.8906710761665416
         },
         {
          "param": "sigma",
          "value": 1.0078966074823064
         },
         {
          "param": "sigma",
          "value": 1.02860839507864
         },
         {
          "param": "sigma",
          "value": 1.031347099268765
         },
         {
          "param": "sigma",
          "value": 0.8377913869056824
         },
         {
          "param": "sigma",
          "value": 0.8828495595791509
         },
         {
          "param": "sigma",
          "value": 1.009412360571651
         },
         {
          "param": "sigma",
          "value": 0.9948685783545814
         },
         {
          "param": "sigma",
          "value": 1.0439628864196162
         },
         {
          "param": "sigma",
          "value": 0.9844498751245482
         },
         {
          "param": "sigma",
          "value": 0.8032396180419892
         },
         {
          "param": "sigma",
          "value": 1.0854193417552023
         },
         {
          "param": "sigma",
          "value": 0.8828675783348094
         },
         {
          "param": "sigma",
          "value": 0.9330557320539723
         },
         {
          "param": "sigma",
          "value": 1.155920449122541
         },
         {
          "param": "sigma",
          "value": 1.0893775123707066
         },
         {
          "param": "sigma",
          "value": 1.0760269364948734
         },
         {
          "param": "sigma",
          "value": 1.0078916081763374
         },
         {
          "param": "sigma",
          "value": 1.0578612803262764
         },
         {
          "param": "sigma",
          "value": 0.9543460682279379
         },
         {
          "param": "sigma",
          "value": 0.8730120721740405
         },
         {
          "param": "sigma",
          "value": 1.0671247880766053
         },
         {
          "param": "sigma",
          "value": 1.059169994695315
         },
         {
          "param": "sigma",
          "value": 0.9827605335993118
         },
         {
          "param": "sigma",
          "value": 1.092754304841077
         },
         {
          "param": "sigma",
          "value": 1.0228580040016955
         },
         {
          "param": "sigma",
          "value": 0.9951513164854431
         },
         {
          "param": "sigma",
          "value": 0.9900906809533927
         },
         {
          "param": "sigma",
          "value": 1.006597292042826
         },
         {
          "param": "sigma",
          "value": 0.9627657491222197
         },
         {
          "param": "sigma",
          "value": 0.9537858289224385
         },
         {
          "param": "sigma",
          "value": 0.9780186827641293
         },
         {
          "param": "sigma",
          "value": 0.9792607242410106
         },
         {
          "param": "sigma",
          "value": 0.9082195430514132
         },
         {
          "param": "sigma",
          "value": 0.9987003651362565
         },
         {
          "param": "sigma",
          "value": 1.0095973883143745
         },
         {
          "param": "sigma",
          "value": 0.8978704481303386
         },
         {
          "param": "sigma",
          "value": 1.064329315629697
         },
         {
          "param": "sigma",
          "value": 0.8930443197589965
         },
         {
          "param": "sigma",
          "value": 0.9300237314782683
         },
         {
          "param": "sigma",
          "value": 1.124131165902141
         },
         {
          "param": "sigma",
          "value": 0.9346459527168076
         },
         {
          "param": "sigma",
          "value": 0.9209218044773532
         },
         {
          "param": "sigma",
          "value": 1.0688655190710938
         },
         {
          "param": "sigma",
          "value": 0.8426996249486371
         },
         {
          "param": "sigma",
          "value": 1.0137482139245666
         },
         {
          "param": "sigma",
          "value": 1.0440494068786477
         },
         {
          "param": "sigma",
          "value": 1.2152152193275114
         },
         {
          "param": "sigma",
          "value": 0.8177690097792721
         },
         {
          "param": "sigma",
          "value": 1.012052947533684
         },
         {
          "param": "sigma",
          "value": 1.0891282375766067
         },
         {
          "param": "sigma",
          "value": 0.966679142443063
         },
         {
          "param": "sigma",
          "value": 0.9522364310521075
         },
         {
          "param": "sigma",
          "value": 1.0113127562901005
         },
         {
          "param": "sigma",
          "value": 0.8886052682054749
         },
         {
          "param": "sigma",
          "value": 0.8174314680999525
         },
         {
          "param": "sigma",
          "value": 0.9498174643442917
         },
         {
          "param": "sigma",
          "value": 0.9675188174781254
         },
         {
          "param": "sigma",
          "value": 0.8577119190505502
         },
         {
          "param": "sigma",
          "value": 0.8470671910491221
         },
         {
          "param": "sigma",
          "value": 1.002661210905836
         },
         {
          "param": "sigma",
          "value": 0.856276279577877
         },
         {
          "param": "sigma",
          "value": 0.9459824716729818
         },
         {
          "param": "sigma",
          "value": 1.032302573314484
         },
         {
          "param": "sigma",
          "value": 1.019420079872354
         },
         {
          "param": "sigma",
          "value": 0.9171394948983871
         },
         {
          "param": "sigma",
          "value": 1.0334404388162215
         },
         {
          "param": "sigma",
          "value": 1.032302573314484
         },
         {
          "param": "sigma",
          "value": 0.8591643059813068
         },
         {
          "param": "sigma",
          "value": 0.9438007481518231
         },
         {
          "param": "sigma",
          "value": 0.8594365069888437
         },
         {
          "param": "sigma",
          "value": 1.0074428482488698
         },
         {
          "param": "sigma",
          "value": 0.8456273812943382
         },
         {
          "param": "sigma",
          "value": 0.9513153534483655
         },
         {
          "param": "sigma",
          "value": 0.9196707005936746
         },
         {
          "param": "sigma",
          "value": 0.7643875011702412
         },
         {
          "param": "sigma",
          "value": 0.9838404902261633
         },
         {
          "param": "sigma",
          "value": 0.9167227034916885
         },
         {
          "param": "sigma",
          "value": 1.0774007046626215
         },
         {
          "param": "sigma",
          "value": 1.0177929079103347
         },
         {
          "param": "sigma",
          "value": 1.0611396638876707
         },
         {
          "param": "sigma",
          "value": 0.978000403947869
         },
         {
          "param": "sigma",
          "value": 1.0032127971842064
         },
         {
          "param": "sigma",
          "value": 0.9683472445247068
         },
         {
          "param": "sigma",
          "value": 0.9176870532338315
         },
         {
          "param": "sigma",
          "value": 1.0025273047988916
         },
         {
          "param": "sigma",
          "value": 0.9050080197953834
         },
         {
          "param": "sigma",
          "value": 1.1058704616751014
         },
         {
          "param": "sigma",
          "value": 0.9734885759718757
         },
         {
          "param": "sigma",
          "value": 0.8029978261865254
         },
         {
          "param": "sigma",
          "value": 0.9442048745671803
         },
         {
          "param": "sigma",
          "value": 0.8220915159279765
         },
         {
          "param": "sigma",
          "value": 1.0631798317645214
         },
         {
          "param": "sigma",
          "value": 0.9815494205126727
         },
         {
          "param": "sigma",
          "value": 0.9952840763638704
         },
         {
          "param": "sigma",
          "value": 0.8944830834930524
         },
         {
          "param": "sigma",
          "value": 0.8846988706014538
         },
         {
          "param": "sigma",
          "value": 0.9321432320643509
         },
         {
          "param": "sigma",
          "value": 0.9327209702484597
         },
         {
          "param": "sigma",
          "value": 0.8895703113911936
         },
         {
          "param": "sigma",
          "value": 0.9205728425879753
         },
         {
          "param": "sigma",
          "value": 0.9479238955874734
         },
         {
          "param": "sigma",
          "value": 0.9179613494858662
         },
         {
          "param": "sigma",
          "value": 0.9729495885907065
         },
         {
          "param": "sigma",
          "value": 0.9375806455156532
         },
         {
          "param": "sigma",
          "value": 0.9690504652485704
         },
         {
          "param": "sigma",
          "value": 0.8944251328047855
         },
         {
          "param": "sigma",
          "value": 1.0493960507285782
         },
         {
          "param": "sigma",
          "value": 0.9445450529025268
         },
         {
          "param": "sigma",
          "value": 1.0001319224871712
         },
         {
          "param": "sigma",
          "value": 0.9656610631110167
         },
         {
          "param": "sigma",
          "value": 1.0941922129133146
         },
         {
          "param": "sigma",
          "value": 0.9606205765098966
         },
         {
          "param": "sigma",
          "value": 0.8434517361354185
         },
         {
          "param": "sigma",
          "value": 0.8987308270693296
         },
         {
          "param": "sigma",
          "value": 0.8020868098512904
         },
         {
          "param": "sigma",
          "value": 0.9498177979674701
         },
         {
          "param": "sigma",
          "value": 1.0543882205851731
         },
         {
          "param": "sigma",
          "value": 1.047223301537889
         },
         {
          "param": "sigma",
          "value": 0.9189360242897815
         },
         {
          "param": "sigma",
          "value": 1.0503493721268993
         },
         {
          "param": "sigma",
          "value": 0.9150082421821795
         },
         {
          "param": "sigma",
          "value": 0.8929514875611734
         },
         {
          "param": "sigma",
          "value": 0.9540577781375297
         },
         {
          "param": "sigma",
          "value": 1.117270154091196
         },
         {
          "param": "sigma",
          "value": 0.8942875764421875
         },
         {
          "param": "sigma",
          "value": 0.8834924992669594
         },
         {
          "param": "sigma",
          "value": 0.9628923672412142
         },
         {
          "param": "sigma",
          "value": 0.9402615169518003
         },
         {
          "param": "sigma",
          "value": 0.8754141855340184
         },
         {
          "param": "sigma",
          "value": 0.9167870354010317
         },
         {
          "param": "sigma",
          "value": 1.1040919452839848
         },
         {
          "param": "sigma",
          "value": 0.8760586403032382
         },
         {
          "param": "sigma",
          "value": 0.9313013388195305
         },
         {
          "param": "sigma",
          "value": 0.8934634183833091
         },
         {
          "param": "sigma",
          "value": 0.8792437521763065
         },
         {
          "param": "sigma",
          "value": 1.0616787732982682
         },
         {
          "param": "sigma",
          "value": 1.065190552323375
         },
         {
          "param": "sigma",
          "value": 1.0881342617178775
         },
         {
          "param": "sigma",
          "value": 1.0586097882862022
         },
         {
          "param": "sigma",
          "value": 1.0153712936048143
         },
         {
          "param": "sigma",
          "value": 1.0999649058024508
         },
         {
          "param": "sigma",
          "value": 1.0248849691927404
         },
         {
          "param": "sigma",
          "value": 1.0710840960009553
         },
         {
          "param": "sigma",
          "value": 1.1585766982665169
         },
         {
          "param": "sigma",
          "value": 1.015306624910281
         },
         {
          "param": "sigma",
          "value": 0.9605350742991199
         },
         {
          "param": "sigma",
          "value": 0.8740209573237717
         },
         {
          "param": "sigma",
          "value": 1.170672742244031
         },
         {
          "param": "sigma",
          "value": 0.9694034863367997
         },
         {
          "param": "sigma",
          "value": 0.8371847278925193
         },
         {
          "param": "sigma",
          "value": 0.8988225857049914
         },
         {
          "param": "sigma",
          "value": 1.274620779087889
         },
         {
          "param": "sigma",
          "value": 0.9743404124533852
         },
         {
          "param": "sigma",
          "value": 0.9151546492459226
         },
         {
          "param": "sigma",
          "value": 0.8988225857049914
         },
         {
          "param": "sigma",
          "value": 1.0709780624197143
         },
         {
          "param": "sigma",
          "value": 1.010039987104508
         },
         {
          "param": "sigma",
          "value": 1.0208807289094457
         },
         {
          "param": "sigma",
          "value": 0.9980207791310386
         },
         {
          "param": "sigma",
          "value": 1.066479999867205
         },
         {
          "param": "sigma",
          "value": 0.9107385793960492
         },
         {
          "param": "sigma",
          "value": 0.9523073575995968
         },
         {
          "param": "sigma",
          "value": 1.0350588100604583
         },
         {
          "param": "sigma",
          "value": 1.0939352349707867
         },
         {
          "param": "sigma",
          "value": 0.8802857364398612
         },
         {
          "param": "sigma",
          "value": 1.0028435526440551
         },
         {
          "param": "sigma",
          "value": 0.9852022518251539
         },
         {
          "param": "sigma",
          "value": 0.9317192439826805
         },
         {
          "param": "sigma",
          "value": 1.048569020362757
         },
         {
          "param": "sigma",
          "value": 0.8291318988492553
         },
         {
          "param": "sigma",
          "value": 0.9826912660798982
         },
         {
          "param": "sigma",
          "value": 1.1402197466114408
         },
         {
          "param": "sigma",
          "value": 1.0110486733196455
         },
         {
          "param": "sigma",
          "value": 1.1136541117587975
         },
         {
          "param": "sigma",
          "value": 0.9046072586910282
         },
         {
          "param": "sigma",
          "value": 1.0960568731338869
         },
         {
          "param": "sigma",
          "value": 0.7970008342328644
         },
         {
          "param": "sigma",
          "value": 0.8807580798438408
         },
         {
          "param": "sigma",
          "value": 0.7927705982168569
         },
         {
          "param": "sigma",
          "value": 0.9351220839565162
         },
         {
          "param": "sigma",
          "value": 0.9109484706994422
         },
         {
          "param": "sigma",
          "value": 0.9336574410450256
         },
         {
          "param": "sigma",
          "value": 0.7794089242763199
         },
         {
          "param": "sigma",
          "value": 1.0848121465723215
         },
         {
          "param": "sigma",
          "value": 0.8262968050350664
         },
         {
          "param": "sigma",
          "value": 0.890636383073212
         },
         {
          "param": "sigma",
          "value": 0.9858109045964814
         },
         {
          "param": "sigma",
          "value": 0.8561962393880891
         },
         {
          "param": "sigma",
          "value": 1.2327708400399657
         },
         {
          "param": "sigma",
          "value": 1.0947537403235796
         },
         {
          "param": "sigma",
          "value": 0.9590117097636628
         },
         {
          "param": "sigma",
          "value": 1.0196353498623865
         },
         {
          "param": "sigma",
          "value": 1.016222056980686
         },
         {
          "param": "sigma",
          "value": 0.8329639210842429
         },
         {
          "param": "sigma",
          "value": 0.902205775170231
         },
         {
          "param": "sigma",
          "value": 0.9775212904719824
         },
         {
          "param": "sigma",
          "value": 0.9941696071031045
         },
         {
          "param": "sigma",
          "value": 1.227420735411859
         },
         {
          "param": "sigma",
          "value": 0.9772773071986872
         },
         {
          "param": "sigma",
          "value": 0.944860523749197
         },
         {
          "param": "sigma",
          "value": 0.9216170485377956
         },
         {
          "param": "sigma",
          "value": 0.8224208442910168
         },
         {
          "param": "sigma",
          "value": 0.9143064790906299
         },
         {
          "param": "sigma",
          "value": 0.9097881185381217
         },
         {
          "param": "sigma",
          "value": 1.043658775317034
         },
         {
          "param": "sigma",
          "value": 1.0376004992628398
         },
         {
          "param": "sigma",
          "value": 1.0109413790695478
         },
         {
          "param": "sigma",
          "value": 0.8967022794937577
         },
         {
          "param": "sigma",
          "value": 1.0030493084237768
         },
         {
          "param": "sigma",
          "value": 0.9112005013811728
         },
         {
          "param": "sigma",
          "value": 0.8981965629272927
         },
         {
          "param": "sigma",
          "value": 0.9625360487694661
         },
         {
          "param": "sigma",
          "value": 0.9410091532242273
         },
         {
          "param": "sigma",
          "value": 0.9339395651206698
         },
         {
          "param": "sigma",
          "value": 1.0216277062085142
         },
         {
          "param": "sigma",
          "value": 0.9553382739849043
         },
         {
          "param": "sigma",
          "value": 0.9656617325922349
         },
         {
          "param": "sigma",
          "value": 0.9449081130318248
         },
         {
          "param": "sigma",
          "value": 0.9367316334727371
         },
         {
          "param": "sigma",
          "value": 0.9671582536623687
         },
         {
          "param": "sigma",
          "value": 0.862146116069465
         },
         {
          "param": "sigma",
          "value": 0.8933386694651706
         },
         {
          "param": "sigma",
          "value": 0.9517594482616372
         },
         {
          "param": "sigma",
          "value": 0.9576310107782049
         },
         {
          "param": "sigma",
          "value": 1.085680847520846
         },
         {
          "param": "sigma",
          "value": 1.0395444238108564
         },
         {
          "param": "sigma",
          "value": 0.8468623994361894
         },
         {
          "param": "sigma",
          "value": 0.9433880718549438
         },
         {
          "param": "sigma",
          "value": 0.8366872175227712
         },
         {
          "param": "sigma",
          "value": 1.0662736745980406
         },
         {
          "param": "sigma",
          "value": 1.0940660051829234
         },
         {
          "param": "sigma",
          "value": 0.9610152608910034
         },
         {
          "param": "sigma",
          "value": 0.9802915869464611
         },
         {
          "param": "sigma",
          "value": 1.0703709314894987
         },
         {
          "param": "sigma",
          "value": 0.9589995296143936
         },
         {
          "param": "sigma",
          "value": 0.902463381666436
         },
         {
          "param": "sigma",
          "value": 0.9259139023965434
         },
         {
          "param": "sigma",
          "value": 0.9614052475737822
         },
         {
          "param": "sigma",
          "value": 1.0137292799182507
         },
         {
          "param": "sigma",
          "value": 0.9847905391563017
         },
         {
          "param": "sigma",
          "value": 0.9703090305532631
         },
         {
          "param": "sigma",
          "value": 1.04283893720691
         },
         {
          "param": "sigma",
          "value": 0.9780630307181347
         },
         {
          "param": "sigma",
          "value": 1.0067021594041905
         },
         {
          "param": "sigma",
          "value": 0.9941020732058553
         },
         {
          "param": "sigma",
          "value": 0.9341482508119139
         },
         {
          "param": "sigma",
          "value": 1.005458484109027
         },
         {
          "param": "sigma",
          "value": 0.9262533461565521
         },
         {
          "param": "sigma",
          "value": 1.0190515797517543
         },
         {
          "param": "sigma",
          "value": 1.1794537070165068
         },
         {
          "param": "sigma",
          "value": 1.048333020282231
         },
         {
          "param": "sigma",
          "value": 1.031285196079226
         },
         {
          "param": "sigma",
          "value": 0.9832711979179003
         },
         {
          "param": "sigma",
          "value": 1.1745432639306053
         },
         {
          "param": "sigma",
          "value": 0.903093394684267
         },
         {
          "param": "sigma",
          "value": 0.8843730868288997
         },
         {
          "param": "sigma",
          "value": 0.9554497567193974
         },
         {
          "param": "sigma",
          "value": 0.8202000983313281
         },
         {
          "param": "sigma",
          "value": 1.09605805659141
         },
         {
          "param": "sigma",
          "value": 0.8884245546056873
         },
         {
          "param": "sigma",
          "value": 1.0165843260209373
         },
         {
          "param": "sigma",
          "value": 1.0935121576449025
         },
         {
          "param": "sigma",
          "value": 0.8817834551172188
         },
         {
          "param": "sigma",
          "value": 0.8916628062703509
         },
         {
          "param": "sigma",
          "value": 0.8555685569591738
         },
         {
          "param": "sigma",
          "value": 0.837306833881262
         },
         {
          "param": "sigma",
          "value": 1.1181042413124402
         },
         {
          "param": "sigma",
          "value": 1.112889930502549
         },
         {
          "param": "sigma",
          "value": 0.845488958678343
         },
         {
          "param": "sigma",
          "value": 1.2017294611494016
         },
         {
          "param": "sigma",
          "value": 1.1452632255456892
         },
         {
          "param": "sigma",
          "value": 0.9442695035409141
         },
         {
          "param": "sigma",
          "value": 1.026620289657834
         },
         {
          "param": "sigma",
          "value": 0.9453442413375849
         },
         {
          "param": "sigma",
          "value": 1.155828941363652
         },
         {
          "param": "sigma",
          "value": 0.9875946942001826
         },
         {
          "param": "sigma",
          "value": 0.9672643203016499
         },
         {
          "param": "sigma",
          "value": 0.9416516932959625
         },
         {
          "param": "sigma",
          "value": 1.1372452312920878
         },
         {
          "param": "sigma",
          "value": 0.8905937179606429
         },
         {
          "param": "sigma",
          "value": 0.9607678361425334
         },
         {
          "param": "sigma",
          "value": 1.0553793650736039
         },
         {
          "param": "sigma",
          "value": 0.8749829861970424
         },
         {
          "param": "sigma",
          "value": 1.101835027440314
         },
         {
          "param": "sigma",
          "value": 0.9458694263505071
         },
         {
          "param": "sigma",
          "value": 0.8718120075094404
         },
         {
          "param": "sigma",
          "value": 0.7594449088366398
         },
         {
          "param": "sigma",
          "value": 0.9171884107156469
         },
         {
          "param": "sigma",
          "value": 0.9819999883351025
         },
         {
          "param": "sigma",
          "value": 0.9374774590803215
         },
         {
          "param": "sigma",
          "value": 0.7808930543214256
         },
         {
          "param": "sigma",
          "value": 1.0052051471971675
         },
         {
          "param": "sigma",
          "value": 0.9297072910338353
         },
         {
          "param": "sigma",
          "value": 0.8962392759538348
         },
         {
          "param": "sigma",
          "value": 0.9355390898456486
         },
         {
          "param": "sigma",
          "value": 1.1151643954719495
         },
         {
          "param": "sigma",
          "value": 0.8324050608192388
         },
         {
          "param": "sigma",
          "value": 0.8376363036293466
         },
         {
          "param": "sigma",
          "value": 1.013661928775703
         },
         {
          "param": "sigma",
          "value": 1.0408828666524372
         },
         {
          "param": "sigma",
          "value": 1.090907609904367
         },
         {
          "param": "sigma",
          "value": 0.9825827554852958
         },
         {
          "param": "sigma",
          "value": 1.0911784997744332
         },
         {
          "param": "sigma",
          "value": 0.9972199777099444
         },
         {
          "param": "sigma",
          "value": 0.9064958795066597
         },
         {
          "param": "sigma",
          "value": 1.1374708517312127
         },
         {
          "param": "sigma",
          "value": 0.9030214269937938
         },
         {
          "param": "sigma",
          "value": 1.1096961630364572
         },
         {
          "param": "sigma",
          "value": 0.8127271810970793
         },
         {
          "param": "sigma",
          "value": 1.1666306529251396
         },
         {
          "param": "sigma",
          "value": 0.9958924083960022
         },
         {
          "param": "sigma",
          "value": 0.8952760420788833
         },
         {
          "param": "sigma",
          "value": 1.2290006061292023
         },
         {
          "param": "sigma",
          "value": 0.9246834614251
         },
         {
          "param": "sigma",
          "value": 0.9013812519906614
         },
         {
          "param": "sigma",
          "value": 0.8924665612411725
         },
         {
          "param": "sigma",
          "value": 1.056502266113038
         },
         {
          "param": "sigma",
          "value": 0.9681453107130775
         },
         {
          "param": "sigma",
          "value": 0.9285060383506938
         },
         {
          "param": "sigma",
          "value": 1.1244702770191128
         },
         {
          "param": "sigma",
          "value": 0.8719042893577688
         },
         {
          "param": "sigma",
          "value": 1.0005589728480895
         },
         {
          "param": "sigma",
          "value": 1.0327284025668517
         },
         {
          "param": "sigma",
          "value": 1.0924443572448062
         },
         {
          "param": "sigma",
          "value": 0.8889682308471576
         },
         {
          "param": "sigma",
          "value": 1.02805734286511
         },
         {
          "param": "sigma",
          "value": 1.0145037574162794
         },
         {
          "param": "sigma",
          "value": 1.029411268649739
         },
         {
          "param": "sigma",
          "value": 0.8055256025361428
         },
         {
          "param": "sigma",
          "value": 1.012765594364919
         },
         {
          "param": "sigma",
          "value": 0.9777932493963375
         },
         {
          "param": "sigma",
          "value": 1.0053476398584493
         },
         {
          "param": "sigma",
          "value": 0.8912541051516653
         },
         {
          "param": "sigma",
          "value": 0.9032868431076809
         },
         {
          "param": "sigma",
          "value": 1.1928079012105366
         },
         {
          "param": "sigma",
          "value": 0.9570958686807403
         },
         {
          "param": "sigma",
          "value": 0.9254996279623121
         },
         {
          "param": "sigma",
          "value": 0.8860985142828187
         },
         {
          "param": "sigma",
          "value": 0.941125008920921
         },
         {
          "param": "sigma",
          "value": 0.9954945277509494
         },
         {
          "param": "sigma",
          "value": 1.0257934237765
         },
         {
          "param": "sigma",
          "value": 0.8203606620547459
         },
         {
          "param": "sigma",
          "value": 1.017291410520869
         },
         {
          "param": "sigma",
          "value": 0.9909851666915673
         },
         {
          "param": "sigma",
          "value": 0.9113621734264219
         },
         {
          "param": "sigma",
          "value": 1.0015463009386072
         },
         {
          "param": "sigma",
          "value": 0.9548087489017488
         },
         {
          "param": "sigma",
          "value": 0.8535244333695204
         },
         {
          "param": "sigma",
          "value": 0.9113621734264219
         },
         {
          "param": "sigma",
          "value": 1.003611882834531
         },
         {
          "param": "sigma",
          "value": 0.9355006831718743
         },
         {
          "param": "sigma",
          "value": 0.8219547104500907
         },
         {
          "param": "sigma",
          "value": 1.116316643408059
         },
         {
          "param": "sigma",
          "value": 0.976307843355119
         },
         {
          "param": "sigma",
          "value": 1.0328831055845895
         },
         {
          "param": "sigma",
          "value": 1.0511238845029922
         },
         {
          "param": "sigma",
          "value": 0.9033353068096307
         },
         {
          "param": "sigma",
          "value": 0.9637930289898389
         },
         {
          "param": "sigma",
          "value": 0.9715129608974258
         },
         {
          "param": "sigma",
          "value": 0.8811222580866036
         },
         {
          "param": "sigma",
          "value": 1.1491236172121224
         },
         {
          "param": "sigma",
          "value": 0.9395118844103173
         },
         {
          "param": "sigma",
          "value": 0.9949595960592454
         },
         {
          "param": "sigma",
          "value": 0.8996428971060276
         },
         {
          "param": "sigma",
          "value": 0.9869381265014527
         },
         {
          "param": "sigma",
          "value": 1.0367005042293662
         },
         {
          "param": "sigma",
          "value": 0.903791326054803
         },
         {
          "param": "sigma",
          "value": 0.9896301935501164
         },
         {
          "param": "sigma",
          "value": 1.0355393190319784
         },
         {
          "param": "sigma",
          "value": 0.8841759679483507
         },
         {
          "param": "sigma",
          "value": 0.9315228863180353
         },
         {
          "param": "sigma",
          "value": 0.9210519664081929
         },
         {
          "param": "sigma",
          "value": 1.1094804887846605
         },
         {
          "param": "sigma",
          "value": 1.2099780464758472
         },
         {
          "param": "sigma",
          "value": 0.9279222172397906
         },
         {
          "param": "sigma",
          "value": 1.0566550517759246
         },
         {
          "param": "sigma",
          "value": 0.9921344849794781
         },
         {
          "param": "sigma",
          "value": 0.8456404730894136
         },
         {
          "param": "sigma",
          "value": 0.96644508644877
         },
         {
          "param": "sigma",
          "value": 1.0621336170125975
         },
         {
          "param": "sigma",
          "value": 0.883456484748836
         },
         {
          "param": "sigma",
          "value": 0.7768102268954151
         },
         {
          "param": "sigma",
          "value": 0.9050139719600575
         },
         {
          "param": "sigma",
          "value": 0.8903417072637062
         },
         {
          "param": "sigma",
          "value": 0.9838699961928601
         },
         {
          "param": "sigma",
          "value": 0.7956669639008462
         },
         {
          "param": "sigma",
          "value": 0.9416971254900544
         },
         {
          "param": "sigma",
          "value": 1.14400033702536
         },
         {
          "param": "sigma",
          "value": 1.0491622965055774
         },
         {
          "param": "sigma",
          "value": 1.2559152070932593
         },
         {
          "param": "sigma",
          "value": 0.9359551622917048
         },
         {
          "param": "sigma",
          "value": 1.1187560860183206
         },
         {
          "param": "sigma",
          "value": 0.836546674457175
         },
         {
          "param": "sigma",
          "value": 0.7871694068580067
         },
         {
          "param": "sigma",
          "value": 0.9771562489271366
         },
         {
          "param": "sigma",
          "value": 1.0512387619457169
         },
         {
          "param": "sigma",
          "value": 0.912994930342969
         },
         {
          "param": "sigma",
          "value": 1.032871983492422
         },
         {
          "param": "sigma",
          "value": 1.0255531982923842
         },
         {
          "param": "sigma",
          "value": 0.9149343282099465
         },
         {
          "param": "sigma",
          "value": 1.0203917816834667
         },
         {
          "param": "sigma",
          "value": 1.2178799637182278
         },
         {
          "param": "sigma",
          "value": 0.9015792479887064
         },
         {
          "param": "sigma",
          "value": 0.982068625331785
         },
         {
          "param": "sigma",
          "value": 1.1659625946691419
         },
         {
          "param": "sigma",
          "value": 0.8373829467619155
         },
         {
          "param": "sigma",
          "value": 1.0855980777357757
         },
         {
          "param": "sigma",
          "value": 0.9475045680182275
         },
         {
          "param": "sigma",
          "value": 0.8721916378307201
         },
         {
          "param": "sigma",
          "value": 1.1483255949699491
         },
         {
          "param": "sigma",
          "value": 0.9443783230791474
         },
         {
          "param": "sigma",
          "value": 0.9005040079202576
         },
         {
          "param": "sigma",
          "value": 0.9082281136730408
         },
         {
          "param": "sigma",
          "value": 0.8472553818555018
         },
         {
          "param": "sigma",
          "value": 1.0337203397172507
         },
         {
          "param": "sigma",
          "value": 1.0224290903311748
         },
         {
          "param": "sigma",
          "value": 0.8666113588979246
         },
         {
          "param": "sigma",
          "value": 1.035206490488761
         },
         {
          "param": "sigma",
          "value": 1.0161968360136877
         },
         {
          "param": "sigma",
          "value": 0.9002259248069125
         },
         {
          "param": "sigma",
          "value": 1.1581699816074391
         },
         {
          "param": "sigma",
          "value": 1.0525254861683324
         },
         {
          "param": "sigma",
          "value": 0.9186020083167226
         },
         {
          "param": "sigma",
          "value": 0.9425253558718238
         },
         {
          "param": "sigma",
          "value": 0.7758379506347334
         },
         {
          "param": "sigma",
          "value": 0.8846311969823802
         },
         {
          "param": "sigma",
          "value": 1.0032134418588672
         },
         {
          "param": "sigma",
          "value": 0.950173135257285
         },
         {
          "param": "sigma",
          "value": 1.0919862006192083
         },
         {
          "param": "sigma",
          "value": 0.9602105962209754
         },
         {
          "param": "sigma",
          "value": 0.9500288058238578
         },
         {
          "param": "sigma",
          "value": 0.8177569300140718
         },
         {
          "param": "sigma",
          "value": 0.862880082482711
         },
         {
          "param": "sigma",
          "value": 0.875485736566067
         },
         {
          "param": "sigma",
          "value": 1.0477077499429528
         },
         {
          "param": "sigma",
          "value": 1.0700977293712841
         },
         {
          "param": "sigma",
          "value": 1.0311791442767189
         },
         {
          "param": "sigma",
          "value": 1.141602393237737
         },
         {
          "param": "sigma",
          "value": 1.0065085767979194
         },
         {
          "param": "sigma",
          "value": 1.0230535825665361
         },
         {
          "param": "sigma",
          "value": 1.0719424949865617
         },
         {
          "param": "sigma",
          "value": 0.8171384609681468
         },
         {
          "param": "sigma",
          "value": 1.040116199869534
         },
         {
          "param": "sigma",
          "value": 0.9872699444775446
         },
         {
          "param": "sigma",
          "value": 0.8506822826526347
         },
         {
          "param": "sigma",
          "value": 1.060748111167181
         },
         {
          "param": "sigma",
          "value": 0.8956809493625857
         },
         {
          "param": "sigma",
          "value": 0.9447091148966699
         },
         {
          "param": "sigma",
          "value": 1.022880216097154
         },
         {
          "param": "sigma",
          "value": 1.040491135151299
         },
         {
          "param": "sigma",
          "value": 1.056020473965533
         },
         {
          "param": "sigma",
          "value": 1.00872083363055
         },
         {
          "param": "sigma",
          "value": 0.9400326667905388
         },
         {
          "param": "sigma",
          "value": 0.9282286493322485
         },
         {
          "param": "sigma",
          "value": 0.9597879503832527
         },
         {
          "param": "sigma",
          "value": 0.977554348187751
         },
         {
          "param": "sigma",
          "value": 0.9358185263274951
         },
         {
          "param": "sigma",
          "value": 1.1134081185158677
         },
         {
          "param": "sigma",
          "value": 1.0324571878541882
         },
         {
          "param": "sigma",
          "value": 1.0041455372978791
         },
         {
          "param": "sigma",
          "value": 0.9791791397571403
         },
         {
          "param": "sigma",
          "value": 1.0924610318136827
         },
         {
          "param": "sigma",
          "value": 1.0121495004897085
         },
         {
          "param": "sigma",
          "value": 0.9791249498763486
         },
         {
          "param": "sigma",
          "value": 0.8721724867486185
         },
         {
          "param": "sigma",
          "value": 1.0366281239476158
         },
         {
          "param": "sigma",
          "value": 0.9037906954322918
         },
         {
          "param": "sigma",
          "value": 0.97007265631754
         },
         {
          "param": "sigma",
          "value": 1.0373778494169763
         },
         {
          "param": "sigma",
          "value": 0.8974035821275352
         },
         {
          "param": "sigma",
          "value": 0.9191285510071143
         },
         {
          "param": "sigma",
          "value": 1.0241696034396175
         },
         {
          "param": "sigma",
          "value": 0.9331904987555013
         },
         {
          "param": "sigma",
          "value": 1.0456734011084485
         },
         {
          "param": "sigma",
          "value": 0.7850831410099357
         },
         {
          "param": "sigma",
          "value": 1.069116295708665
         },
         {
          "param": "sigma",
          "value": 0.9067532863200964
         },
         {
          "param": "sigma",
          "value": 0.8679413045756739
         },
         {
          "param": "sigma",
          "value": 1.2259805598364613
         },
         {
          "param": "sigma",
          "value": 0.9503491357991988
         },
         {
          "param": "sigma",
          "value": 0.8526154986836033
         },
         {
          "param": "sigma",
          "value": 0.9305303636096793
         },
         {
          "param": "sigma",
          "value": 0.7985837045536689
         },
         {
          "param": "sigma",
          "value": 0.8685357174517949
         },
         {
          "param": "sigma",
          "value": 0.9756531959909104
         },
         {
          "param": "sigma",
          "value": 1.0728566857133384
         },
         {
          "param": "sigma",
          "value": 1.0293912365114988
         },
         {
          "param": "sigma",
          "value": 0.8330995216913823
         },
         {
          "param": "sigma",
          "value": 0.8753965039857673
         },
         {
          "param": "sigma",
          "value": 0.8433970193758792
         },
         {
          "param": "sigma",
          "value": 1.0881656532667596
         },
         {
          "param": "sigma",
          "value": 1.0722963092344435
         },
         {
          "param": "sigma",
          "value": 0.9740210275969162
         },
         {
          "param": "sigma",
          "value": 0.8989847665578754
         },
         {
          "param": "sigma",
          "value": 0.8822634761617985
         },
         {
          "param": "sigma",
          "value": 1.2181679900268385
         },
         {
          "param": "sigma",
          "value": 0.9962622538021606
         },
         {
          "param": "sigma",
          "value": 0.9931009101357811
         },
         {
          "param": "sigma",
          "value": 1.0746679886651587
         },
         {
          "param": "sigma",
          "value": 1.1339917040669445
         },
         {
          "param": "sigma",
          "value": 0.8152571967846703
         },
         {
          "param": "sigma",
          "value": 1.0127754779992073
         },
         {
          "param": "sigma",
          "value": 1.0899418333181397
         },
         {
          "param": "sigma",
          "value": 0.9253508640043201
         },
         {
          "param": "sigma",
          "value": 0.9165355325050096
         },
         {
          "param": "sigma",
          "value": 1.005506435720862
         },
         {
          "param": "sigma",
          "value": 0.9377363834731518
         },
         {
          "param": "sigma",
          "value": 1.0682213279747934
         },
         {
          "param": "sigma",
          "value": 0.7761535974017206
         },
         {
          "param": "sigma",
          "value": 0.8883176404732881
         },
         {
          "param": "sigma",
          "value": 0.9315546584081372
         },
         {
          "param": "sigma",
          "value": 0.8607983527729478
         },
         {
          "param": "sigma",
          "value": 1.132815547560727
         },
         {
          "param": "sigma",
          "value": 0.9118378524479174
         },
         {
          "param": "sigma",
          "value": 1.0553200799238949
         },
         {
          "param": "sigma",
          "value": 1.0034518305050175
         },
         {
          "param": "sigma",
          "value": 0.8576580446525226
         },
         {
          "param": "sigma",
          "value": 1.0636071830800846
         },
         {
          "param": "sigma",
          "value": 0.9058355112946651
         },
         {
          "param": "sigma",
          "value": 0.9420833342201271
         },
         {
          "param": "sigma",
          "value": 1.1240027742149417
         },
         {
          "param": "sigma",
          "value": 1.1253360124746885
         },
         {
          "param": "sigma",
          "value": 1.040631304020959
         },
         {
          "param": "sigma",
          "value": 1.0219087831216132
         },
         {
          "param": "sigma",
          "value": 1.1187004920595516
         },
         {
          "param": "sigma",
          "value": 0.9152650716115932
         },
         {
          "param": "sigma",
          "value": 0.9451593002055576
         },
         {
          "param": "sigma",
          "value": 1.023187831358553
         },
         {
          "param": "sigma",
          "value": 0.8924118011018654
         },
         {
          "param": "sigma",
          "value": 0.9431134532039387
         },
         {
          "param": "sigma",
          "value": 1.0006994958627844
         },
         {
          "param": "sigma",
          "value": 0.9685941332514459
         },
         {
          "param": "sigma",
          "value": 0.9485516932100049
         },
         {
          "param": "sigma",
          "value": 0.9909557961229908
         },
         {
          "param": "sigma",
          "value": 1.0049105733359234
         },
         {
          "param": "sigma",
          "value": 1.026965704627464
         },
         {
          "param": "sigma",
          "value": 0.907450612410012
         },
         {
          "param": "sigma",
          "value": 0.8175749714997452
         },
         {
          "param": "sigma",
          "value": 0.987574552604411
         },
         {
          "param": "sigma",
          "value": 0.9205060338690615
         },
         {
          "param": "sigma",
          "value": 1.0665635197789292
         },
         {
          "param": "sigma",
          "value": 1.0899203372808453
         },
         {
          "param": "sigma",
          "value": 0.8418985937891732
         },
         {
          "param": "sigma",
          "value": 0.9356582476778308
         },
         {
          "param": "sigma",
          "value": 0.9708011884747958
         },
         {
          "param": "sigma",
          "value": 0.9104168390199235
         },
         {
          "param": "sigma",
          "value": 1.0956710565719845
         },
         {
          "param": "sigma",
          "value": 0.9711434275181278
         },
         {
          "param": "sigma",
          "value": 0.8953049000413942
         },
         {
          "param": "sigma",
          "value": 1.0373248309233731
         },
         {
          "param": "sigma",
          "value": 0.8711602116144771
         },
         {
          "param": "sigma",
          "value": 1.0441767354997715
         },
         {
          "param": "sigma",
          "value": 0.8978940457713703
         },
         {
          "param": "sigma",
          "value": 0.9082253503109929
         },
         {
          "param": "sigma",
          "value": 0.9981417503829532
         },
         {
          "param": "sigma",
          "value": 1.0078957568184768
         },
         {
          "param": "sigma",
          "value": 0.9056317297040146
         },
         {
          "param": "sigma",
          "value": 1.1537906708695194
         },
         {
          "param": "sigma",
          "value": 0.972406368475836
         },
         {
          "param": "sigma",
          "value": 1.0193340969408335
         },
         {
          "param": "sigma",
          "value": 1.0743159515288
         },
         {
          "param": "sigma",
          "value": 1.029009596039297
         },
         {
          "param": "sigma",
          "value": 0.9294852201457346
         },
         {
          "param": "sigma",
          "value": 0.9827212002003554
         },
         {
          "param": "sigma",
          "value": 0.9924623492126395
         },
         {
          "param": "sigma",
          "value": 1.0566584322053494
         },
         {
          "param": "sigma",
          "value": 1.0182386931932836
         },
         {
          "param": "sigma",
          "value": 1.0458057726363206
         },
         {
          "param": "sigma",
          "value": 0.9935771032745423
         },
         {
          "param": "sigma",
          "value": 0.9432005972963686
         },
         {
          "param": "sigma",
          "value": 1.0425810468093595
         },
         {
          "param": "sigma",
          "value": 0.9051105652175462
         },
         {
          "param": "sigma",
          "value": 1.0685192743296386
         },
         {
          "param": "sigma",
          "value": 0.8168372770117023
         },
         {
          "param": "sigma",
          "value": 1.2448626150721154
         },
         {
          "param": "sigma",
          "value": 0.9779530608630607
         },
         {
          "param": "sigma",
          "value": 1.0406249310617897
         },
         {
          "param": "sigma",
          "value": 1.1797898089750958
         },
         {
          "param": "sigma",
          "value": 1.1016673193674198
         },
         {
          "param": "sigma",
          "value": 1.0362591424192367
         },
         {
          "param": "sigma",
          "value": 0.8933319584274166
         },
         {
          "param": "sigma",
          "value": 1.0344345125197076
         },
         {
          "param": "sigma",
          "value": 0.8809289675736641
         },
         {
          "param": "sigma",
          "value": 0.9553025151786045
         },
         {
          "param": "sigma",
          "value": 0.902223293165571
         },
         {
          "param": "sigma",
          "value": 0.9784793993500022
         },
         {
          "param": "sigma",
          "value": 0.8667378947696968
         },
         {
          "param": "sigma",
          "value": 1.0127923816131112
         },
         {
          "param": "sigma",
          "value": 0.8800133244664409
         },
         {
          "param": "sigma",
          "value": 1.002830850453136
         },
         {
          "param": "sigma",
          "value": 1.0206826264921354
         },
         {
          "param": "sigma",
          "value": 0.939741182381045
         },
         {
          "param": "sigma",
          "value": 0.8329886754879694
         },
         {
          "param": "sigma",
          "value": 1.0612183650010931
         },
         {
          "param": "sigma",
          "value": 1.0098152226961536
         },
         {
          "param": "sigma",
          "value": 1.0127119582776307
         },
         {
          "param": "sigma",
          "value": 0.9837024194779387
         },
         {
          "param": "sigma",
          "value": 0.9364695603197339
         },
         {
          "param": "sigma",
          "value": 0.9831463684611856
         },
         {
          "param": "sigma",
          "value": 1.0107744300181996
         },
         {
          "param": "sigma",
          "value": 0.9777317946986641
         },
         {
          "param": "sigma",
          "value": 1.0186321033990686
         },
         {
          "param": "sigma",
          "value": 1.1395659714586488
         },
         {
          "param": "sigma",
          "value": 0.979789459647848
         },
         {
          "param": "sigma",
          "value": 0.8991596334172418
         },
         {
          "param": "sigma",
          "value": 0.938911838331656
         },
         {
          "param": "sigma",
          "value": 1.1751599089997575
         },
         {
          "param": "sigma",
          "value": 1.1200043209406139
         },
         {
          "param": "sigma",
          "value": 0.8583472101217295
         },
         {
          "param": "sigma",
          "value": 0.9510824734388753
         },
         {
          "param": "sigma",
          "value": 0.8056083013391028
         },
         {
          "param": "sigma",
          "value": 0.9317014772056872
         },
         {
          "param": "sigma",
          "value": 1.0663785414660796
         },
         {
          "param": "sigma",
          "value": 1.0162248784549293
         },
         {
          "param": "sigma",
          "value": 0.7394700507755612
         },
         {
          "param": "sigma",
          "value": 0.9260745530237409
         },
         {
          "param": "sigma",
          "value": 0.8930044391743864
         },
         {
          "param": "sigma",
          "value": 0.9969763547564167
         },
         {
          "param": "sigma",
          "value": 1.0423263466045711
         },
         {
          "param": "sigma",
          "value": 1.0161001403597067
         },
         {
          "param": "sigma",
          "value": 0.9417146397470982
         },
         {
          "param": "sigma",
          "value": 0.9999874485585734
         },
         {
          "param": "sigma",
          "value": 0.9870698273402629
         },
         {
          "param": "sigma",
          "value": 0.911310722131992
         },
         {
          "param": "sigma",
          "value": 0.8577205649405588
         },
         {
          "param": "sigma",
          "value": 0.9308380358753894
         },
         {
          "param": "sigma",
          "value": 1.0446823585211071
         },
         {
          "param": "sigma",
          "value": 0.916581359257297
         },
         {
          "param": "sigma",
          "value": 0.8340272188535254
         },
         {
          "param": "sigma",
          "value": 0.981821227858162
         },
         {
          "param": "sigma",
          "value": 1.0112645647400809
         },
         {
          "param": "sigma",
          "value": 1.0077674725688346
         },
         {
          "param": "sigma",
          "value": 1.193526524674857
         },
         {
          "param": "sigma",
          "value": 1.017001182465926
         },
         {
          "param": "sigma",
          "value": 1.0465575007811698
         },
         {
          "param": "sigma",
          "value": 0.9001348164300887
         },
         {
          "param": "sigma",
          "value": 1.2452142389018408
         },
         {
          "param": "sigma",
          "value": 1.0105808926439905
         },
         {
          "param": "sigma",
          "value": 1.0447980151738383
         },
         {
          "param": "sigma",
          "value": 1.0760022255775128
         },
         {
          "param": "sigma",
          "value": 0.7793960409168323
         },
         {
          "param": "sigma",
          "value": 1.018538381450235
         },
         {
          "param": "sigma",
          "value": 0.9299257778681658
         },
         {
          "param": "sigma",
          "value": 0.8658123957214655
         },
         {
          "param": "sigma",
          "value": 1.094883389652518
         },
         {
          "param": "sigma",
          "value": 1.0226473874890996
         },
         {
          "param": "sigma",
          "value": 1.0762769755163306
         },
         {
          "param": "sigma",
          "value": 1.127290938238053
         },
         {
          "param": "sigma",
          "value": 0.840588519521916
         },
         {
          "param": "sigma",
          "value": 1.093800415077862
         },
         {
          "param": "sigma",
          "value": 1.070659095029639
         },
         {
          "param": "sigma",
          "value": 0.8132165434569408
         },
         {
          "param": "sigma",
          "value": 0.8968617323989815
         },
         {
          "param": "sigma",
          "value": 0.9509647092183369
         },
         {
          "param": "sigma",
          "value": 0.9952704080575081
         },
         {
          "param": "sigma",
          "value": 1.0603727073985423
         },
         {
          "param": "sigma",
          "value": 0.9303342689615115
         },
         {
          "param": "sigma",
          "value": 0.9647264239378267
         },
         {
          "param": "sigma",
          "value": 0.992830365669549
         },
         {
          "param": "sigma",
          "value": 0.9411503313869422
         },
         {
          "param": "sigma",
          "value": 1.0552976735120714
         },
         {
          "param": "sigma",
          "value": 0.9882767408902504
         },
         {
          "param": "sigma",
          "value": 1.010051545475684
         },
         {
          "param": "sigma",
          "value": 1.0162231493539329
         },
         {
          "param": "sigma",
          "value": 0.974563047003786
         },
         {
          "param": "sigma",
          "value": 0.9255686089793729
         },
         {
          "param": "sigma",
          "value": 0.8884244354946988
         },
         {
          "param": "sigma",
          "value": 0.905776636343881
         },
         {
          "param": "sigma",
          "value": 1.1078616235138734
         },
         {
          "param": "sigma",
          "value": 1.1476131115470323
         },
         {
          "param": "sigma",
          "value": 0.9100982380722816
         },
         {
          "param": "sigma",
          "value": 0.9453790613159844
         },
         {
          "param": "sigma",
          "value": 0.90600910789299
         },
         {
          "param": "sigma",
          "value": 1.2073478490706768
         },
         {
          "param": "sigma",
          "value": 1.0294709943830862
         },
         {
          "param": "sigma",
          "value": 0.8340835950253014
         },
         {
          "param": "sigma",
          "value": 0.8940158518682115
         },
         {
          "param": "sigma",
          "value": 0.904593834111607
         },
         {
          "param": "sigma",
          "value": 0.9349902343776741
         },
         {
          "param": "sigma",
          "value": 1.1393278623239134
         },
         {
          "param": "sigma",
          "value": 0.8970949557912369
         },
         {
          "param": "sigma",
          "value": 0.9313057301909237
         },
         {
          "param": "sigma",
          "value": 0.8991440699378035
         },
         {
          "param": "sigma",
          "value": 1.0903933860440835
         },
         {
          "param": "sigma",
          "value": 0.9422794326232168
         },
         {
          "param": "sigma",
          "value": 0.8975679435006251
         },
         {
          "param": "sigma",
          "value": 0.8208133276214475
         },
         {
          "param": "sigma",
          "value": 1.136585904883332
         },
         {
          "param": "sigma",
          "value": 1.0066723010626641
         },
         {
          "param": "sigma",
          "value": 1.0200561821748402
         },
         {
          "param": "sigma",
          "value": 1.1055890260402252
         },
         {
          "param": "sigma",
          "value": 0.8644553290546121
         },
         {
          "param": "sigma",
          "value": 0.924800911222946
         },
         {
          "param": "sigma",
          "value": 0.7541458866643415
         },
         {
          "param": "sigma",
          "value": 0.8025920358114375
         },
         {
          "param": "sigma",
          "value": 0.9475757578313877
         },
         {
          "param": "sigma",
          "value": 0.8657615612674066
         },
         {
          "param": "sigma",
          "value": 0.9786168284653142
         },
         {
          "param": "sigma",
          "value": 1.207169172816677
         },
         {
          "param": "sigma",
          "value": 0.944504615619869
         },
         {
          "param": "sigma",
          "value": 0.9147761657093773
         },
         {
          "param": "sigma",
          "value": 0.9705114900952467
         },
         {
          "param": "sigma",
          "value": 0.813905613772919
         },
         {
          "param": "sigma",
          "value": 1.0050968554140365
         },
         {
          "param": "sigma",
          "value": 0.9170966846716042
         },
         {
          "param": "sigma",
          "value": 1.0090922670278377
         },
         {
          "param": "sigma",
          "value": 1.1337921154735606
         },
         {
          "param": "sigma",
          "value": 0.9676619245129572
         },
         {
          "param": "sigma",
          "value": 0.9349165222865379
         },
         {
          "param": "sigma",
          "value": 1.0695354395860892
         },
         {
          "param": "sigma",
          "value": 0.843332206267134
         },
         {
          "param": "sigma",
          "value": 0.8981958083988133
         },
         {
          "param": "sigma",
          "value": 1.0644910550769515
         },
         {
          "param": "sigma",
          "value": 1.0097821078950748
         },
         {
          "param": "sigma",
          "value": 0.9410235902618665
         },
         {
          "param": "sigma",
          "value": 0.8403719353780164
         },
         {
          "param": "sigma",
          "value": 1.0394247320422692
         },
         {
          "param": "sigma",
          "value": 0.984668581152294
         },
         {
          "param": "sigma",
          "value": 0.8674135498825888
         },
         {
          "param": "sigma",
          "value": 1.312607606554099
         },
         {
          "param": "sigma",
          "value": 1.04841447462421
         },
         {
          "param": "sigma",
          "value": 1.3113215575840418
         },
         {
          "param": "sigma",
          "value": 0.7884903823585877
         },
         {
          "param": "sigma",
          "value": 0.9475513757525685
         },
         {
          "param": "sigma",
          "value": 0.8661151146904773
         },
         {
          "param": "sigma",
          "value": 1.1630486824545165
         },
         {
          "param": "sigma",
          "value": 1.2783713264197116
         },
         {
          "param": "sigma",
          "value": 0.9184461813739736
         },
         {
          "param": "sigma",
          "value": 0.9268452208186276
         },
         {
          "param": "sigma",
          "value": 0.9637395699761073
         },
         {
          "param": "sigma",
          "value": 1.2551054229929814
         },
         {
          "param": "sigma",
          "value": 0.8969126697459939
         },
         {
          "param": "sigma",
          "value": 0.9564517281772239
         },
         {
          "param": "sigma",
          "value": 0.9715147123502111
         },
         {
          "param": "sigma",
          "value": 0.9405854300948844
         },
         {
          "param": "sigma",
          "value": 1.0204542044843166
         },
         {
          "param": "sigma",
          "value": 1.1230610600162376
         },
         {
          "param": "sigma",
          "value": 0.9416541215220889
         },
         {
          "param": "sigma",
          "value": 0.8552287544617707
         },
         {
          "param": "sigma",
          "value": 0.9422242169467177
         },
         {
          "param": "sigma",
          "value": 0.8682099837632024
         },
         {
          "param": "sigma",
          "value": 1.063501870471477
         },
         {
          "param": "sigma",
          "value": 0.9162579904498257
         },
         {
          "param": "sigma",
          "value": 0.9730816572093816
         },
         {
          "param": "sigma",
          "value": 1.0732336754480059
         },
         {
          "param": "sigma",
          "value": 0.9095997854674326
         },
         {
          "param": "sigma",
          "value": 1.1726490931964535
         },
         {
          "param": "sigma",
          "value": 1.2383190842001577
         },
         {
          "param": "sigma",
          "value": 0.9799888587859634
         },
         {
          "param": "sigma",
          "value": 1.0180578789121073
         },
         {
          "param": "sigma",
          "value": 0.9655850348509692
         },
         {
          "param": "sigma",
          "value": 1.0616279081902142
         },
         {
          "param": "sigma",
          "value": 0.909301384239529
         },
         {
          "param": "sigma",
          "value": 1.1312559422626458
         },
         {
          "param": "sigma",
          "value": 0.9564796966121052
         },
         {
          "param": "sigma",
          "value": 0.9005500376647196
         },
         {
          "param": "sigma",
          "value": 0.9853859427424204
         },
         {
          "param": "sigma",
          "value": 1.001601500556251
         },
         {
          "param": "sigma",
          "value": 0.959812330343716
         },
         {
          "param": "sigma",
          "value": 0.9802349867927053
         },
         {
          "param": "sigma",
          "value": 1.0577556732410731
         },
         {
          "param": "sigma",
          "value": 0.9056454908502019
         },
         {
          "param": "sigma",
          "value": 0.8379352949208436
         },
         {
          "param": "sigma",
          "value": 1.0210807664685877
         },
         {
          "param": "sigma",
          "value": 0.881852873891407
         },
         {
          "param": "sigma",
          "value": 1.1377633590925225
         },
         {
          "param": "sigma",
          "value": 0.9756792113810354
         },
         {
          "param": "sigma",
          "value": 0.8858208020852733
         },
         {
          "param": "sigma",
          "value": 1.0676127033396352
         },
         {
          "param": "sigma",
          "value": 0.942586144331035
         },
         {
          "param": "sigma",
          "value": 1.0658078306093555
         },
         {
          "param": "sigma",
          "value": 0.9120033924410034
         },
         {
          "param": "sigma",
          "value": 0.9232167611437025
         },
         {
          "param": "sigma",
          "value": 1.043389692524248
         },
         {
          "param": "sigma",
          "value": 1.1097612573161038
         },
         {
          "param": "sigma",
          "value": 0.8146823307508982
         },
         {
          "param": "sigma",
          "value": 0.8251606375981905
         },
         {
          "param": "sigma",
          "value": 0.827347208418986
         },
         {
          "param": "sigma",
          "value": 1.0739868219736968
         },
         {
          "param": "sigma",
          "value": 0.8535792651095491
         },
         {
          "param": "sigma",
          "value": 1.2256502544833408
         },
         {
          "param": "sigma",
          "value": 0.9348236933009366
         },
         {
          "param": "sigma",
          "value": 0.9246228883107982
         },
         {
          "param": "sigma",
          "value": 0.8206954851695032
         },
         {
          "param": "sigma",
          "value": 1.344510055359404
         },
         {
          "param": "sigma",
          "value": 0.9455274945752618
         },
         {
          "param": "sigma",
          "value": 0.9997845540057778
         },
         {
          "param": "sigma",
          "value": 0.8397976013051993
         },
         {
          "param": "sigma",
          "value": 1.111509876535294
         },
         {
          "param": "sigma",
          "value": 0.9977869587356533
         },
         {
          "param": "sigma",
          "value": 0.9906642656796534
         },
         {
          "param": "sigma",
          "value": 0.9226733134401927
         },
         {
          "param": "sigma",
          "value": 1.1682125640173584
         },
         {
          "param": "sigma",
          "value": 1.028756243048797
         },
         {
          "param": "sigma",
          "value": 0.9889695324079543
         },
         {
          "param": "sigma",
          "value": 0.9894817947979093
         },
         {
          "param": "sigma",
          "value": 1.0185457563222386
         },
         {
          "param": "sigma",
          "value": 0.9118539241700072
         },
         {
          "param": "sigma",
          "value": 0.9296934663257655
         },
         {
          "param": "sigma",
          "value": 0.9302344152029021
         },
         {
          "param": "sigma",
          "value": 0.9406522972586032
         },
         {
          "param": "sigma",
          "value": 0.8794494366682575
         },
         {
          "param": "sigma",
          "value": 1.2047399340901037
         },
         {
          "param": "sigma",
          "value": 0.9213618708676027
         },
         {
          "param": "sigma",
          "value": 1.11029020042935
         },
         {
          "param": "sigma",
          "value": 1.0150564588369952
         },
         {
          "param": "sigma",
          "value": 1.1074472104205202
         },
         {
          "param": "sigma",
          "value": 1.055813537737694
         },
         {
          "param": "sigma",
          "value": 1.0388090072266443
         },
         {
          "param": "sigma",
          "value": 1.0141252530020204
         },
         {
          "param": "sigma",
          "value": 0.8887713913498866
         },
         {
          "param": "sigma",
          "value": 0.95040540419555
         },
         {
          "param": "sigma",
          "value": 1.0806268759099218
         },
         {
          "param": "sigma",
          "value": 1.0781758768831347
         },
         {
          "param": "sigma",
          "value": 1.0035662918706418
         },
         {
          "param": "sigma",
          "value": 1.1356830452195332
         },
         {
          "param": "sigma",
          "value": 0.960188113516337
         },
         {
          "param": "sigma",
          "value": 1.0778234813341163
         },
         {
          "param": "sigma",
          "value": 0.9835448872644731
         },
         {
          "param": "sigma",
          "value": 0.8464296401810697
         },
         {
          "param": "sigma",
          "value": 0.9444462183237733
         },
         {
          "param": "sigma",
          "value": 0.9141905959957579
         },
         {
          "param": "sigma",
          "value": 1.0287608364693925
         },
         {
          "param": "sigma",
          "value": 0.9684101063916103
         },
         {
          "param": "sigma",
          "value": 0.9631729517521891
         },
         {
          "param": "sigma",
          "value": 0.9575369221305743
         },
         {
          "param": "sigma",
          "value": 0.9558878929905646
         },
         {
          "param": "sigma",
          "value": 1.0080080140480967
         },
         {
          "param": "sigma",
          "value": 0.9791147373480529
         },
         {
          "param": "sigma",
          "value": 0.8497968854822069
         },
         {
          "param": "sigma",
          "value": 0.9172977420151842
         },
         {
          "param": "sigma",
          "value": 0.8598749597717068
         },
         {
          "param": "sigma",
          "value": 0.8733887384217833
         },
         {
          "param": "sigma",
          "value": 0.8509349811687983
         },
         {
          "param": "sigma",
          "value": 1.0163303548997802
         },
         {
          "param": "sigma",
          "value": 1.1176870291517367
         },
         {
          "param": "sigma",
          "value": 0.9441480667487671
         },
         {
          "param": "sigma",
          "value": 1.1083302859995532
         },
         {
          "param": "sigma",
          "value": 1.0306381117946752
         },
         {
          "param": "sigma",
          "value": 0.865569806770638
         },
         {
          "param": "sigma",
          "value": 0.9982443353124256
         },
         {
          "param": "sigma",
          "value": 0.8230900931689263
         },
         {
          "param": "sigma",
          "value": 0.931867146995557
         },
         {
          "param": "sigma",
          "value": 0.8945437987010934
         },
         {
          "param": "sigma",
          "value": 1.1205100219298292
         },
         {
          "param": "sigma",
          "value": 0.8750324254722679
         },
         {
          "param": "sigma",
          "value": 0.9832804491422183
         },
         {
          "param": "sigma",
          "value": 1.078999282570455
         },
         {
          "param": "sigma",
          "value": 1.0323244757671586
         },
         {
          "param": "sigma",
          "value": 0.9151648698420474
         },
         {
          "param": "sigma",
          "value": 0.8549287700393639
         },
         {
          "param": "sigma",
          "value": 0.9632189711582726
         },
         {
          "param": "sigma",
          "value": 0.8644751550109584
         },
         {
          "param": "sigma",
          "value": 0.9368199605274085
         },
         {
          "param": "sigma",
          "value": 1.000333433357909
         },
         {
          "param": "sigma",
          "value": 0.9319083997315912
         },
         {
          "param": "sigma",
          "value": 0.9965182052200344
         },
         {
          "param": "sigma",
          "value": 0.9151570582357448
         },
         {
          "param": "sigma",
          "value": 1.025448791268288
         },
         {
          "param": "sigma",
          "value": 0.9566885953021527
         },
         {
          "param": "sigma",
          "value": 1.0671808881438165
         },
         {
          "param": "sigma",
          "value": 1.10285457675206
         },
         {
          "param": "sigma",
          "value": 0.9468680356204418
         },
         {
          "param": "sigma",
          "value": 0.7922792119865596
         },
         {
          "param": "sigma",
          "value": 0.8950528533234199
         },
         {
          "param": "sigma",
          "value": 1.0519132841572523
         },
         {
          "param": "sigma",
          "value": 1.0363700831709126
         },
         {
          "param": "sigma",
          "value": 0.8798174495546714
         },
         {
          "param": "sigma",
          "value": 0.9895121064251049
         },
         {
          "param": "sigma",
          "value": 0.8449038109540521
         },
         {
          "param": "sigma",
          "value": 1.0187539750977284
         },
         {
          "param": "sigma",
          "value": 1.020235400354361
         },
         {
          "param": "sigma",
          "value": 0.9895121064251049
         },
         {
          "param": "sigma",
          "value": 0.8646519202344771
         },
         {
          "param": "sigma",
          "value": 0.9491354934117451
         },
         {
          "param": "sigma",
          "value": 0.891078206879388
         },
         {
          "param": "sigma",
          "value": 1.063046191164792
         },
         {
          "param": "sigma",
          "value": 0.9540575274978611
         },
         {
          "param": "sigma",
          "value": 1.0085491498128185
         },
         {
          "param": "sigma",
          "value": 0.8390250457924779
         },
         {
          "param": "sigma",
          "value": 0.9833118711715861
         },
         {
          "param": "sigma",
          "value": 0.979609916536112
         },
         {
          "param": "sigma",
          "value": 0.923712914524552
         },
         {
          "param": "sigma",
          "value": 1.1042950965115053
         },
         {
          "param": "sigma",
          "value": 0.9857226134250016
         },
         {
          "param": "sigma",
          "value": 0.9863529231774493
         },
         {
          "param": "sigma",
          "value": 1.1474979557096743
         },
         {
          "param": "sigma",
          "value": 0.945042202102421
         },
         {
          "param": "sigma",
          "value": 0.9708950011354636
         },
         {
          "param": "sigma",
          "value": 0.9767426721365526
         },
         {
          "param": "sigma",
          "value": 1.0835322071257207
         },
         {
          "param": "sigma",
          "value": 1.0705156193009226
         },
         {
          "param": "sigma",
          "value": 0.8507353527218489
         },
         {
          "param": "sigma",
          "value": 0.8808923182137622
         },
         {
          "param": "sigma",
          "value": 0.9975355683696233
         },
         {
          "param": "sigma",
          "value": 1.0375499838093065
         },
         {
          "param": "sigma",
          "value": 0.9178832422574414
         },
         {
          "param": "sigma",
          "value": 1.0266556948624477
         },
         {
          "param": "sigma",
          "value": 0.8974875139810666
         },
         {
          "param": "sigma",
          "value": 1.0834604112979431
         },
         {
          "param": "sigma",
          "value": 1.1076326148206932
         },
         {
          "param": "sigma",
          "value": 0.9171186655137057
         },
         {
          "param": "sigma",
          "value": 1.0457908665764508
         },
         {
          "param": "sigma",
          "value": 0.8678452187467169
         },
         {
          "param": "sigma",
          "value": 1.1938704159289397
         },
         {
          "param": "sigma",
          "value": 0.9883134047196255
         },
         {
          "param": "sigma",
          "value": 0.8403212719710804
         },
         {
          "param": "sigma",
          "value": 0.9942642890277664
         },
         {
          "param": "sigma",
          "value": 1.1802114631461804
         },
         {
          "param": "sigma",
          "value": 0.9962988485388797
         },
         {
          "param": "sigma",
          "value": 1.1469586797365294
         },
         {
          "param": "sigma",
          "value": 0.9404943807323505
         },
         {
          "param": "sigma",
          "value": 0.9917884837697142
         },
         {
          "param": "sigma",
          "value": 1.1319097751843332
         },
         {
          "param": "sigma",
          "value": 1.0678767584579947
         },
         {
          "param": "sigma",
          "value": 1.0257627729836762
         },
         {
          "param": "sigma",
          "value": 0.986631655314646
         },
         {
          "param": "sigma",
          "value": 0.9201316746736935
         },
         {
          "param": "sigma",
          "value": 0.9351704712932272
         },
         {
          "param": "sigma",
          "value": 1.1557226411733872
         },
         {
          "param": "sigma",
          "value": 0.9201416202899717
         },
         {
          "param": "sigma",
          "value": 1.1289657764667878
         },
         {
          "param": "sigma",
          "value": 1.1794760025166207
         },
         {
          "param": "sigma",
          "value": 0.9277258934767563
         },
         {
          "param": "sigma",
          "value": 1.0309212317990601
         },
         {
          "param": "sigma",
          "value": 0.9735418659050048
         },
         {
          "param": "sigma",
          "value": 0.954153951291917
         },
         {
          "param": "sigma",
          "value": 0.8473961496083403
         },
         {
          "param": "sigma",
          "value": 1.0214114085929535
         },
         {
          "param": "sigma",
          "value": 0.9981850618452959
         },
         {
          "param": "sigma",
          "value": 1.0759587173833072
         },
         {
          "param": "sigma",
          "value": 0.8108164370422394
         },
         {
          "param": "sigma",
          "value": 0.8860788569361013
         },
         {
          "param": "sigma",
          "value": 0.7980404070987537
         },
         {
          "param": "sigma",
          "value": 0.9845529241506107
         },
         {
          "param": "sigma",
          "value": 1.209567491321168
         },
         {
          "param": "sigma",
          "value": 1.0636666984319518
         },
         {
          "param": "sigma",
          "value": 1.1358023464188007
         },
         {
          "param": "sigma",
          "value": 1.0786830713949336
         },
         {
          "param": "sigma",
          "value": 0.8625355962383288
         },
         {
          "param": "sigma",
          "value": 0.9005224269630687
         },
         {
          "param": "sigma",
          "value": 0.8596591717753848
         },
         {
          "param": "sigma",
          "value": 1.2130360639749505
         },
         {
          "param": "sigma",
          "value": 1.0133712784793518
         },
         {
          "param": "sigma",
          "value": 0.9468327880034232
         },
         {
          "param": "sigma",
          "value": 0.9001527026214426
         },
         {
          "param": "sigma",
          "value": 0.945911105891008
         },
         {
          "param": "sigma",
          "value": 0.8132600245211754
         },
         {
          "param": "sigma",
          "value": 0.9102573311877419
         },
         {
          "param": "sigma",
          "value": 0.9401043592315078
         },
         {
          "param": "sigma",
          "value": 0.9477988721458209
         },
         {
          "param": "sigma",
          "value": 1.1139529894155138
         },
         {
          "param": "sigma",
          "value": 0.9701603483228676
         },
         {
          "param": "sigma",
          "value": 0.8935952925619663
         },
         {
          "param": "sigma",
          "value": 0.8845057255890496
         },
         {
          "param": "sigma",
          "value": 0.9120449788635153
         },
         {
          "param": "sigma",
          "value": 0.8890840029666146
         },
         {
          "param": "sigma",
          "value": 0.9347102944928913
         },
         {
          "param": "sigma",
          "value": 1.1100531717469122
         },
         {
          "param": "sigma",
          "value": 0.8357643334121119
         },
         {
          "param": "sigma",
          "value": 0.7902889851311701
         },
         {
          "param": "sigma",
          "value": 0.9754884097612276
         },
         {
          "param": "sigma",
          "value": 0.9026440799396107
         },
         {
          "param": "sigma",
          "value": 0.9740868734070988
         },
         {
          "param": "sigma",
          "value": 1.1319926809550493
         },
         {
          "param": "sigma",
          "value": 0.9775152935792697
         },
         {
          "param": "sigma",
          "value": 1.0992834970814926
         },
         {
          "param": "sigma",
          "value": 1.0021461609951605
         },
         {
          "param": "sigma",
          "value": 0.8729757432211007
         },
         {
          "param": "sigma",
          "value": 1.0258712964723578
         },
         {
          "param": "sigma",
          "value": 0.9077203991280979
         },
         {
          "param": "sigma",
          "value": 0.9641457398201733
         },
         {
          "param": "sigma",
          "value": 1.1114386643384742
         },
         {
          "param": "sigma",
          "value": 0.8827759943377623
         }
        ]
       },
       "height": 200,
       "layer": [
        {
         "encoding": {
          "x": {
           "field": "value",
           "type": "quantitative"
          },
          "y": {
           "field": "param",
           "type": "nominal"
          }
         },
         "mark": {
          "extent": "stdev",
          "type": "errorbar"
         }
        },
        {
         "encoding": {
          "color": {
           "field": "param",
           "type": "nominal"
          },
          "x": {
           "aggregate": "mean",
           "field": "value",
           "type": "quantitative"
          },
          "y": {
           "field": "param",
           "type": "nominal"
          }
         },
         "mark": {
          "filled": false,
          "type": "point"
         }
        }
       ],
       "width": 400
      },
      "image/png": "[encoded data removed]",
      "text/plain": [
       "<VegaLite 5 object>\n",
       "\n",
       "If you see this message, it means the renderer has not been properly enabled\n",
       "for the frontend that you are using. For more information, see\n",
       "https://altair-viz.github.io/user_guide/display_frontends.html#troubleshooting\n"
      ]
     },
     "execution_count": 10,
     "metadata": {},
     "output_type": "execute_result"
    }
   ],
   "source": [
    "df = fit_df[:1000]\n",
    "df = df.melt(var_name=\"param\")\n",
    "\n",
    "error_bars = alt.Chart(df).mark_errorbar(extent=\"stdev\").encode(x=\"value\", y=\"param\")\n",
    "\n",
    "points = (\n",
    "    alt.Chart(df)\n",
    "    .mark_point(filled=False)\n",
    "    .encode(x=alt.X(\"value\", aggregate=\"mean\"), y=\"param\", color=\"param\")\n",
    ")\n",
    "\n",
    "(error_bars + points).properties(width=400, height=200)"
   ]
  },
  {
   "cell_type": "code",
   "execution_count": 11,
   "id": "fa90691f-1fd7-4dd3-ac2b-5ffcbd0c70c2",
   "metadata": {},
   "outputs": [],
   "source": [
    "# It seems using `South` as a quantative variable would produce \"better\"\n",
    "# results since `South` as index variable splits data and makes the\n",
    "# final results more noisy."
   ]
  },
  {
   "cell_type": "code",
   "execution_count": 12,
   "id": "612d5035-c2ea-4d20-bdb1-b1e62e6cb25e",
   "metadata": {},
   "outputs": [
    {
     "data": {
      "text/plain": [
       "South\n",
       "0    36\n",
       "1    14\n",
       "Name: count, dtype: int64"
      ]
     },
     "execution_count": 12,
     "metadata": {},
     "output_type": "execute_result"
    }
   ],
   "source": [
    "# there is too little data\n",
    "waffle_df[\"South\"].value_counts()"
   ]
  },
  {
   "cell_type": "code",
   "execution_count": 13,
   "id": "d5065f53-5e78-4787-8dc8-52c651514058",
   "metadata": {},
   "outputs": [
    {
     "data": {
      "text/plain": [
       "<Axes: xlabel='WaffleHouses', ylabel='Divorce'>"
      ]
     },
     "execution_count": 13,
     "metadata": {},
     "output_type": "execute_result"
    },
    {
     "data": {
      "image/png": "[encoded data removed]",
      "text/plain": [
       "<Figure size 640x480 with 1 Axes>"
      ]
     },
     "metadata": {},
     "output_type": "display_data"
    }
   ],
   "source": [
    "waffle_df[\"Color\"] = waffle_df[\"South\"].map(lambda s: [\"blue\", \"red\"][s])\n",
    "waffle_df.plot.scatter(x=\"WaffleHouses\", y=\"Divorce\", c=\"Color\")"
   ]
  },
  {
   "cell_type": "markdown",
   "id": "c8de251d-eaee-41e7-ba95-63a8636d7074",
   "metadata": {},
   "source": [
    "## 6H2"
   ]
  },
  {
   "cell_type": "markdown",
   "id": "83e45e64-726f-4e53-a1a2-df89536c4f49",
   "metadata": {},
   "source": [
    "Build a series of models to test the implied conditional independencies of the causal graph you used in the previous problem. If any of the tests fail, how do you think the graph needs to be amended? Does the graph need more or fewer arrows? Feel free to nominate variables that aren’t in the data."
   ]
  },
  {
   "cell_type": "markdown",
   "id": "0230a943-2f68-4482-8680-3e56320ea8f7",
   "metadata": {},
   "source": [
    "Using [Daggity](https://www.dagitty.net/dags.html#):\n",
    "\n",
    "```\n",
    "dag {\n",
    "bb=\"-2.727,-2.165,3.471,1.687\"\n",
    "A [pos=\"-2.079,0.456\"]\n",
    "D [outcome,pos=\"1.694,0.447\"]\n",
    "M [pos=\"-0.657,-0.253\"]\n",
    "S [pos=\"-2.072,-1.122\"]\n",
    "W [exposure,pos=\"1.713,-1.160\"]\n",
    "A -> D\n",
    "A -> M\n",
    "M -> D\n",
    "S -> A\n",
    "S -> M\n",
    "S -> W\n",
    "W -> D\n",
    "}\n",
    "```\n",
    "\n",
    "we get the following testable conditions:\n",
    "```\n",
    "A ⊥ W | S\n",
    "D ⊥ S | A, M, W\n",
    "M ⊥ W | S\n",
    "```"
   ]
  },
  {
   "cell_type": "code",
   "execution_count": 14,
   "id": "7d1be948-9f84-4774-9e52-92aa48ecc22a",
   "metadata": {},
   "outputs": [],
   "source": [
    "# Test the first implication: A ⊥ W | S\n",
    "# Use `South` as quantative variable\n",
    "\n",
    "data = {\"n\": waffle_df.shape[0]}\n",
    "\n",
    "for name in [\"MedianAgeMarriage\", \"WaffleHouses\", \"South\"]:\n",
    "    d = waffle_df[name].to_numpy()\n",
    "    d = (d - d.mean()) / d.std()  # z-score\n",
    "    data[name] = d"
   ]
  },
  {
   "cell_type": "code",
   "execution_count": 15,
   "id": "9d622157-1f4a-4070-b555-6849a7de79ea",
   "metadata": {},
   "outputs": [],
   "source": [
    "# build model: WaffleHouses = f(MedianAgeMarriage, South)\n",
    "code = \"\"\"\n",
    "data {\n",
    "  int<lower=0> n;\n",
    "  vector[n] MedianAgeMarriage;\n",
    "  vector[n] South;\n",
    "  vector[n] WaffleHouses;\n",
    "}\n",
    "parameters {\n",
    "  real alpha;\n",
    "  real betaA;\n",
    "  real betaS;\n",
    "  real<lower=0> sigma;\n",
    "}\n",
    "model {\n",
    "  // priors\n",
    "  alpha ~ normal(0, 0.2);\n",
    "  betaA ~ normal(0, 0.5);\n",
    "  betaS ~ normal(0, 0.5);\n",
    "  sigma ~ exponential(1);\n",
    "\n",
    "  // likelihood\n",
    "  vector[n] mu = alpha + betaA * MedianAgeMarriage + betaS * South;\n",
    "  WaffleHouses ~ normal(mu, sigma);\n",
    "}\n",
    "\"\"\""
   ]
  },
  {
   "cell_type": "code",
   "execution_count": 16,
   "id": "2de9847e-6a40-44a1-95ba-77ce26b71c86",
   "metadata": {},
   "outputs": [],
   "source": [
    "%%capture\n",
    "with suppress_subprocess_output():\n",
    "    model = stan.build(code, data=data, random_seed=42)"
   ]
  },
  {
   "cell_type": "code",
   "execution_count": 17,
   "id": "a397165d-b21c-4bd9-a838-2826d31fbab6",
   "metadata": {},
   "outputs": [],
   "source": [
    "%%capture\n",
    "fit = model.sample(num_chains=4, num_samples=1000)"
   ]
  },
  {
   "cell_type": "code",
   "execution_count": 18,
   "id": "6deba091-6828-4d70-b3c5-adf30535e876",
   "metadata": {},
   "outputs": [
    {
     "data": {
      "text/html": [
       "<div>\n",
       "<style scoped>\n",
       "    .dataframe tbody tr th:only-of-type {\n",
       "        vertical-align: middle;\n",
       "    }\n",
       "\n",
       "    .dataframe tbody tr th {\n",
       "        vertical-align: top;\n",
       "    }\n",
       "\n",
       "    .dataframe thead th {\n",
       "        text-align: right;\n",
       "    }\n",
       "</style>\n",
       "<table border=\"1\" class=\"dataframe\">\n",
       "  <thead>\n",
       "    <tr style=\"text-align: right;\">\n",
       "      <th></th>\n",
       "      <th>count</th>\n",
       "      <th>mean</th>\n",
       "      <th>std</th>\n",
       "      <th>min</th>\n",
       "      <th>25%</th>\n",
       "      <th>50%</th>\n",
       "      <th>75%</th>\n",
       "      <th>max</th>\n",
       "    </tr>\n",
       "    <tr>\n",
       "      <th>parameters</th>\n",
       "      <th></th>\n",
       "      <th></th>\n",
       "      <th></th>\n",
       "      <th></th>\n",
       "      <th></th>\n",
       "      <th></th>\n",
       "      <th></th>\n",
       "      <th></th>\n",
       "    </tr>\n",
       "  </thead>\n",
       "  <tbody>\n",
       "    <tr>\n",
       "      <th>alpha</th>\n",
       "      <td>4000.0</td>\n",
       "      <td>-0.001028</td>\n",
       "      <td>0.095967</td>\n",
       "      <td>-0.419320</td>\n",
       "      <td>-0.064686</td>\n",
       "      <td>-0.000803</td>\n",
       "      <td>0.062753</td>\n",
       "      <td>0.331379</td>\n",
       "    </tr>\n",
       "    <tr>\n",
       "      <th>betaA</th>\n",
       "      <td>4000.0</td>\n",
       "      <td>0.043852</td>\n",
       "      <td>0.111450</td>\n",
       "      <td>-0.389943</td>\n",
       "      <td>-0.030213</td>\n",
       "      <td>0.046528</td>\n",
       "      <td>0.118939</td>\n",
       "      <td>0.384540</td>\n",
       "    </tr>\n",
       "    <tr>\n",
       "      <th>betaS</th>\n",
       "      <td>4000.0</td>\n",
       "      <td>0.663620</td>\n",
       "      <td>0.109656</td>\n",
       "      <td>0.292182</td>\n",
       "      <td>0.589965</td>\n",
       "      <td>0.662117</td>\n",
       "      <td>0.737804</td>\n",
       "      <td>1.101519</td>\n",
       "    </tr>\n",
       "    <tr>\n",
       "      <th>sigma</th>\n",
       "      <td>4000.0</td>\n",
       "      <td>0.762766</td>\n",
       "      <td>0.081056</td>\n",
       "      <td>0.522138</td>\n",
       "      <td>0.704427</td>\n",
       "      <td>0.756223</td>\n",
       "      <td>0.811939</td>\n",
       "      <td>1.108495</td>\n",
       "    </tr>\n",
       "  </tbody>\n",
       "</table>\n",
       "</div>"
      ],
      "text/plain": [
       "             count      mean       std       min       25%       50%  \\\n",
       "parameters                                                             \n",
       "alpha       4000.0 -0.001028  0.095967 -0.419320 -0.064686 -0.000803   \n",
       "betaA       4000.0  0.043852  0.111450 -0.389943 -0.030213  0.046528   \n",
       "betaS       4000.0  0.663620  0.109656  0.292182  0.589965  0.662117   \n",
       "sigma       4000.0  0.762766  0.081056  0.522138  0.704427  0.756223   \n",
       "\n",
       "                 75%       max  \n",
       "parameters                      \n",
       "alpha       0.062753  0.331379  \n",
       "betaA       0.118939  0.384540  \n",
       "betaS       0.737804  1.101519  \n",
       "sigma       0.811939  1.108495  "
      ]
     },
     "execution_count": 18,
     "metadata": {},
     "output_type": "execute_result"
    }
   ],
   "source": [
    "fit_df = fit.to_frame()[[\"alpha\", \"betaA\", \"betaS\", \"sigma\"]]\n",
    "fit_df.describe().T"
   ]
  },
  {
   "cell_type": "code",
   "execution_count": 19,
   "id": "4b813f29-2a76-4a41-b562-7de749293cf5",
   "metadata": {},
   "outputs": [
    {
     "data": {
      "application/vnd.vegalite.v5+json": {
       "$schema": "https://vega.github.io/schema/vega-lite/v5.20.1.json",
       "config": {
        "view": {
         "continuousHeight": 300,
         "continuousWidth": 300
        }
       },
       "data": {
        "name": "data-899ad62da5870a92826be929e3aa57ab"
       },
       "datasets": {
        "data-899ad62da5870a92826be929e3aa57ab": [
         {
          "param": "alpha",
          "value": 0.14807491464352143
         },
         {
          "param": "alpha",
          "value": 0.014039004730464877
         },
         {
          "param": "alpha",
          "value": -0.12078569919589635
         },
         {
          "param": "alpha",
          "value": 0.01955460428425814
         },
         {
          "param": "alpha",
          "value": 0.08251909274632455
         },
         {
          "param": "alpha",
          "value": 0.21355132254197687
         },
         {
          "param": "alpha",
          "value": 0.06256413237074754
         },
         {
          "param": "alpha",
          "value": -0.06848148660292785
         },
         {
          "param": "alpha",
          "value": 0.03267550290206653
         },
         {
          "param": "alpha",
          "value": 0.005876382900049354
         },
         {
          "param": "alpha",
          "value": 0.027165721184426374
         },
         {
          "param": "alpha",
          "value": -0.011210197057886728
         },
         {
          "param": "alpha",
          "value": -0.049761457388708054
         },
         {
          "param": "alpha",
          "value": -0.016610621015876556
         },
         {
          "param": "alpha",
          "value": -0.062305683353897086
         },
         {
          "param": "alpha",
          "value": 0.018780187482979792
         },
         {
          "param": "alpha",
          "value": -0.05667968146735726
         },
         {
          "param": "alpha",
          "value": -0.032760781073598075
         },
         {
          "param": "alpha",
          "value": 0.06753800123819784
         },
         {
          "param": "alpha",
          "value": 0.061623226070831094
         },
         {
          "param": "alpha",
          "value": -0.08845732786275372
         },
         {
          "param": "alpha",
          "value": 0.027207055886565752
         },
         {
          "param": "alpha",
          "value": 0.07393442194213459
         },
         {
          "param": "alpha",
          "value": 0.1033187125443281
         },
         {
          "param": "alpha",
          "value": -0.05223798500604742
         },
         {
          "param": "alpha",
          "value": -0.09090555187474719
         },
         {
          "param": "alpha",
          "value": -0.07116728279858801
         },
         {
          "param": "alpha",
          "value": 0.16394568590427733
         },
         {
          "param": "alpha",
          "value": 0.0025290588982129145
         },
         {
          "param": "alpha",
          "value": -0.023143570457607412
         },
         {
          "param": "alpha",
          "value": -0.055139799581769955
         },
         {
          "param": "alpha",
          "value": 0.2751145692048762
         },
         {
          "param": "alpha",
          "value": 0.0405581403411053
         },
         {
          "param": "alpha",
          "value": -0.05614510164000605
         },
         {
          "param": "alpha",
          "value": 0.03486826016950259
         },
         {
          "param": "alpha",
          "value": 0.09871771880402505
         },
         {
          "param": "alpha",
          "value": 0.006914027456168266
         },
         {
          "param": "alpha",
          "value": 0.036491000157270845
         },
         {
          "param": "alpha",
          "value": -0.004540787355424049
         },
         {
          "param": "alpha",
          "value": -0.016039748610497465
         },
         {
          "param": "alpha",
          "value": -0.031423014411165046
         },
         {
          "param": "alpha",
          "value": -0.04341997166194328
         },
         {
          "param": "alpha",
          "value": 0.005189496283595313
         },
         {
          "param": "alpha",
          "value": -0.01877344578649484
         },
         {
          "param": "alpha",
          "value": 0.17675428097258641
         },
         {
          "param": "alpha",
          "value": 0.058475904629078784
         },
         {
          "param": "alpha",
          "value": 0.19295198262831048
         },
         {
          "param": "alpha",
          "value": -0.0001733556033667108
         },
         {
          "param": "alpha",
          "value": -0.18800393657954095
         },
         {
          "param": "alpha",
          "value": -0.12350630070297838
         },
         {
          "param": "alpha",
          "value": 0.18532132983267474
         },
         {
          "param": "alpha",
          "value": 0.10404952774647253
         },
         {
          "param": "alpha",
          "value": -0.004572441225025772
         },
         {
          "param": "alpha",
          "value": 0.11983783690677652
         },
         {
          "param": "alpha",
          "value": 0.07880646175922826
         },
         {
          "param": "alpha",
          "value": -0.1667995053976299
         },
         {
          "param": "alpha",
          "value": -0.12564533737398817
         },
         {
          "param": "alpha",
          "value": -0.16795672077915208
         },
         {
          "param": "alpha",
          "value": -0.0510893694712127
         },
         {
          "param": "alpha",
          "value": -0.18523320825935835
         },
         {
          "param": "alpha",
          "value": 0.07710598567204814
         },
         {
          "param": "alpha",
          "value": 0.1702284034199844
         },
         {
          "param": "alpha",
          "value": 0.026991386632684612
         },
         {
          "param": "alpha",
          "value": 0.1962117519431803
         },
         {
          "param": "alpha",
          "value": -0.13820758716942055
         },
         {
          "param": "alpha",
          "value": 0.1112918056038357
         },
         {
          "param": "alpha",
          "value": 0.017284116627607357
         },
         {
          "param": "alpha",
          "value": -0.015683542930579858
         },
         {
          "param": "alpha",
          "value": 0.1362890641687355
         },
         {
          "param": "alpha",
          "value": -0.024440351940174965
         },
         {
          "param": "alpha",
          "value": 0.02504528298841363
         },
         {
          "param": "alpha",
          "value": 0.03609033741155361
         },
         {
          "param": "alpha",
          "value": -0.05741793330367398
         },
         {
          "param": "alpha",
          "value": -0.1273118393197567
         },
         {
          "param": "alpha",
          "value": -0.06441391521918002
         },
         {
          "param": "alpha",
          "value": -0.06199801934909661
         },
         {
          "param": "alpha",
          "value": 0.23723852380268423
         },
         {
          "param": "alpha",
          "value": 0.04714232602679366
         },
         {
          "param": "alpha",
          "value": 0.06872898928486061
         },
         {
          "param": "alpha",
          "value": 0.09789533873859299
         },
         {
          "param": "alpha",
          "value": -0.0809220261513724
         },
         {
          "param": "alpha",
          "value": 0.06065160118452643
         },
         {
          "param": "alpha",
          "value": -0.08537603160334417
         },
         {
          "param": "alpha",
          "value": 0.1384640891854293
         },
         {
          "param": "alpha",
          "value": -0.06327612817940528
         },
         {
          "param": "alpha",
          "value": 0.09964309520231573
         },
         {
          "param": "alpha",
          "value": 0.09120959261133904
         },
         {
          "param": "alpha",
          "value": 0.16123833957921319
         },
         {
          "param": "alpha",
          "value": 0.06652138106806234
         },
         {
          "param": "alpha",
          "value": -0.19244513668520857
         },
         {
          "param": "alpha",
          "value": 0.07619879818870903
         },
         {
          "param": "alpha",
          "value": -0.03402547419545113
         },
         {
          "param": "alpha",
          "value": -0.09498904304559104
         },
         {
          "param": "alpha",
          "value": -0.08218698636734505
         },
         {
          "param": "alpha",
          "value": 0.08234677697943973
         },
         {
          "param": "alpha",
          "value": -0.019716958640945956
         },
         {
          "param": "alpha",
          "value": 0.09895551914073686
         },
         {
          "param": "alpha",
          "value": -0.036571647147207884
         },
         {
          "param": "alpha",
          "value": -0.07813954473785295
         },
         {
          "param": "alpha",
          "value": -0.006386400323671677
         },
         {
          "param": "alpha",
          "value": -0.10725321403719584
         },
         {
          "param": "alpha",
          "value": -0.1292112146367718
         },
         {
          "param": "alpha",
          "value": -0.06316609976986196
         },
         {
          "param": "alpha",
          "value": 0.0958842410797256
         },
         {
          "param": "alpha",
          "value": 0.10895148208039515
         },
         {
          "param": "alpha",
          "value": 0.15474315828687568
         },
         {
          "param": "alpha",
          "value": 0.02163080190057308
         },
         {
          "param": "alpha",
          "value": -0.08203237871858235
         },
         {
          "param": "alpha",
          "value": 0.15318812674975993
         },
         {
          "param": "alpha",
          "value": 0.01768908419245986
         },
         {
          "param": "alpha",
          "value": 0.21349247831348153
         },
         {
          "param": "alpha",
          "value": 0.07882528186777304
         },
         {
          "param": "alpha",
          "value": -0.15136452093162445
         },
         {
          "param": "alpha",
          "value": -0.06464536547039343
         },
         {
          "param": "alpha",
          "value": 0.1533563270577678
         },
         {
          "param": "alpha",
          "value": 0.10782058325170865
         },
         {
          "param": "alpha",
          "value": -0.09634215377537618
         },
         {
          "param": "alpha",
          "value": -0.12955383916353772
         },
         {
          "param": "alpha",
          "value": -0.1660126145233287
         },
         {
          "param": "alpha",
          "value": -0.14774851456050925
         },
         {
          "param": "alpha",
          "value": 0.035072857416306655
         },
         {
          "param": "alpha",
          "value": -0.023241506320207966
         },
         {
          "param": "alpha",
          "value": -0.05860295209550784
         },
         {
          "param": "alpha",
          "value": 0.16004992461959902
         },
         {
          "param": "alpha",
          "value": 0.05558422877023247
         },
         {
          "param": "alpha",
          "value": 0.07637493515816457
         },
         {
          "param": "alpha",
          "value": 0.12346657987207055
         },
         {
          "param": "alpha",
          "value": -0.11947063087435722
         },
         {
          "param": "alpha",
          "value": 0.13386828656970123
         },
         {
          "param": "alpha",
          "value": 0.04437535362182529
         },
         {
          "param": "alpha",
          "value": -0.1369261709441511
         },
         {
          "param": "alpha",
          "value": -0.07453265146846674
         },
         {
          "param": "alpha",
          "value": -0.007636403858606186
         },
         {
          "param": "alpha",
          "value": 0.06827249474680933
         },
         {
          "param": "alpha",
          "value": 0.1367461383529336
         },
         {
          "param": "alpha",
          "value": -0.07453265146846674
         },
         {
          "param": "alpha",
          "value": 0.028756589745493787
         },
         {
          "param": "alpha",
          "value": -0.08574194170205027
         },
         {
          "param": "alpha",
          "value": -0.1426183307762475
         },
         {
          "param": "alpha",
          "value": -0.09072192410013538
         },
         {
          "param": "alpha",
          "value": 0.02309485011354804
         },
         {
          "param": "alpha",
          "value": 0.06691824982378981
         },
         {
          "param": "alpha",
          "value": 0.055705835248443344
         },
         {
          "param": "alpha",
          "value": -0.06318015079725967
         },
         {
          "param": "alpha",
          "value": -0.03671088008564011
         },
         {
          "param": "alpha",
          "value": 0.02038033215097959
         },
         {
          "param": "alpha",
          "value": 0.03468887350720476
         },
         {
          "param": "alpha",
          "value": 0.004721233479314427
         },
         {
          "param": "alpha",
          "value": 0.05004754315038851
         },
         {
          "param": "alpha",
          "value": -0.01048013920536546
         },
         {
          "param": "alpha",
          "value": -0.033738092837517934
         },
         {
          "param": "alpha",
          "value": -0.038445047452880146
         },
         {
          "param": "alpha",
          "value": -0.06711796885224613
         },
         {
          "param": "alpha",
          "value": -8.138165639442509e-05
         },
         {
          "param": "alpha",
          "value": -0.04233458546109294
         },
         {
          "param": "alpha",
          "value": -0.14320477801679982
         },
         {
          "param": "alpha",
          "value": -0.1311975997987015
         },
         {
          "param": "alpha",
          "value": -0.0024081078780191327
         },
         {
          "param": "alpha",
          "value": 0.030468461158848666
         },
         {
          "param": "alpha",
          "value": -0.09872351487189321
         },
         {
          "param": "alpha",
          "value": 0.035312903535614865
         },
         {
          "param": "alpha",
          "value": -0.023218523913898195
         },
         {
          "param": "alpha",
          "value": 0.012632825540109516
         },
         {
          "param": "alpha",
          "value": 0.1137582141458036
         },
         {
          "param": "alpha",
          "value": 0.16480337173042442
         },
         {
          "param": "alpha",
          "value": 0.2663757693513459
         },
         {
          "param": "alpha",
          "value": -0.1007702520268166
         },
         {
          "param": "alpha",
          "value": -0.01903140227858499
         },
         {
          "param": "alpha",
          "value": -0.06328343696157732
         },
         {
          "param": "alpha",
          "value": -0.03540502881327662
         },
         {
          "param": "alpha",
          "value": 0.09540300024790668
         },
         {
          "param": "alpha",
          "value": 0.01205149689600387
         },
         {
          "param": "alpha",
          "value": 0.05915503317069168
         },
         {
          "param": "alpha",
          "value": 0.03827459153886786
         },
         {
          "param": "alpha",
          "value": 0.005521978967935735
         },
         {
          "param": "alpha",
          "value": -0.021573349127083592
         },
         {
          "param": "alpha",
          "value": -0.06637849733252647
         },
         {
          "param": "alpha",
          "value": 0.06983113556172826
         },
         {
          "param": "alpha",
          "value": 0.09763350157163911
         },
         {
          "param": "alpha",
          "value": 0.2040289467429262
         },
         {
          "param": "alpha",
          "value": -0.12307540491111008
         },
         {
          "param": "alpha",
          "value": -0.05190492836484499
         },
         {
          "param": "alpha",
          "value": -0.14398666298982846
         },
         {
          "param": "alpha",
          "value": 0.15539904417177014
         },
         {
          "param": "alpha",
          "value": -0.06434034538218586
         },
         {
          "param": "alpha",
          "value": 0.11119253046066004
         },
         {
          "param": "alpha",
          "value": -0.028130263475753536
         },
         {
          "param": "alpha",
          "value": 0.11309547648782975
         },
         {
          "param": "alpha",
          "value": 0.0627268570937082
         },
         {
          "param": "alpha",
          "value": 0.03094880886134488
         },
         {
          "param": "alpha",
          "value": -0.054600289226280393
         },
         {
          "param": "alpha",
          "value": 0.10732307845659804
         },
         {
          "param": "alpha",
          "value": 0.010128807115849486
         },
         {
          "param": "alpha",
          "value": 0.08031680633187491
         },
         {
          "param": "alpha",
          "value": 0.15406890803914272
         },
         {
          "param": "alpha",
          "value": 0.13897619012019777
         },
         {
          "param": "alpha",
          "value": -0.02039666464161282
         },
         {
          "param": "alpha",
          "value": 0.018965325198504003
         },
         {
          "param": "alpha",
          "value": 0.0009551097754574855
         },
         {
          "param": "alpha",
          "value": -0.13681281312701515
         },
         {
          "param": "alpha",
          "value": 0.005661451401711089
         },
         {
          "param": "alpha",
          "value": 0.03615864465100391
         },
         {
          "param": "alpha",
          "value": -0.12416913960511236
         },
         {
          "param": "alpha",
          "value": 0.036814896703020544
         },
         {
          "param": "alpha",
          "value": 0.15026271924940793
         },
         {
          "param": "alpha",
          "value": -0.012437399690472955
         },
         {
          "param": "alpha",
          "value": -0.05250160720373902
         },
         {
          "param": "alpha",
          "value": -0.012158226086895138
         },
         {
          "param": "alpha",
          "value": -0.07641818701968721
         },
         {
          "param": "alpha",
          "value": -0.016204861840226986
         },
         {
          "param": "alpha",
          "value": -0.04527523199311213
         },
         {
          "param": "alpha",
          "value": 0.1299571896524393
         },
         {
          "param": "alpha",
          "value": -0.005765495495043224
         },
         {
          "param": "alpha",
          "value": 0.10131109057136173
         },
         {
          "param": "alpha",
          "value": 0.040303863136216235
         },
         {
          "param": "alpha",
          "value": -0.043453646258273235
         },
         {
          "param": "alpha",
          "value": -0.022427064920907083
         },
         {
          "param": "alpha",
          "value": 0.040997284558072083
         },
         {
          "param": "alpha",
          "value": 0.027578334643533833
         },
         {
          "param": "alpha",
          "value": -0.01293561534664768
         },
         {
          "param": "alpha",
          "value": -0.0801266535781939
         },
         {
          "param": "alpha",
          "value": 0.0069522667241430774
         },
         {
          "param": "alpha",
          "value": -0.04292674759449629
         },
         {
          "param": "alpha",
          "value": 0.10576914781489133
         },
         {
          "param": "alpha",
          "value": 0.07165736766175303
         },
         {
          "param": "alpha",
          "value": -0.21548940957045906
         },
         {
          "param": "alpha",
          "value": -0.059061405757011326
         },
         {
          "param": "alpha",
          "value": 0.1337048283022631
         },
         {
          "param": "alpha",
          "value": 0.051744480391903644
         },
         {
          "param": "alpha",
          "value": 0.19432032726091789
         },
         {
          "param": "alpha",
          "value": -0.12184958701357818
         },
         {
          "param": "alpha",
          "value": -0.07139596692080345
         },
         {
          "param": "alpha",
          "value": 0.08350421951647727
         },
         {
          "param": "alpha",
          "value": -0.20402157384926997
         },
         {
          "param": "alpha",
          "value": 0.12318528179364793
         },
         {
          "param": "alpha",
          "value": -0.07440876753972543
         },
         {
          "param": "alpha",
          "value": -0.096909494696621
         },
         {
          "param": "alpha",
          "value": 0.10231250462173413
         },
         {
          "param": "alpha",
          "value": 0.04052474810664425
         },
         {
          "param": "alpha",
          "value": 0.0020401453548400394
         },
         {
          "param": "alpha",
          "value": 0.08862225683138622
         },
         {
          "param": "alpha",
          "value": 0.040688658093813564
         },
         {
          "param": "alpha",
          "value": -0.03875042457249555
         },
         {
          "param": "alpha",
          "value": 0.00022958627031017826
         },
         {
          "param": "alpha",
          "value": -0.03473393291429354
         },
         {
          "param": "alpha",
          "value": 0.023190840718087368
         },
         {
          "param": "alpha",
          "value": 0.060844763792281306
         },
         {
          "param": "alpha",
          "value": 0.02971822259024675
         },
         {
          "param": "alpha",
          "value": -0.0005290628839994989
         },
         {
          "param": "alpha",
          "value": -0.0486504187421677
         },
         {
          "param": "alpha",
          "value": 0.039302202222257554
         },
         {
          "param": "alpha",
          "value": -0.03268508593489215
         },
         {
          "param": "alpha",
          "value": -0.12322667797389561
         },
         {
          "param": "alpha",
          "value": 0.10181138194800259
         },
         {
          "param": "alpha",
          "value": -0.027963267804252706
         },
         {
          "param": "alpha",
          "value": -0.027168335494081593
         },
         {
          "param": "alpha",
          "value": 0.13959033957522266
         },
         {
          "param": "alpha",
          "value": -0.06410297106455244
         },
         {
          "param": "alpha",
          "value": -0.040268059580648524
         },
         {
          "param": "alpha",
          "value": -0.03939583652911081
         },
         {
          "param": "alpha",
          "value": 0.09956993936544518
         },
         {
          "param": "alpha",
          "value": -0.09794522714394673
         },
         {
          "param": "alpha",
          "value": 0.04817385472482491
         },
         {
          "param": "alpha",
          "value": -0.07318739726928654
         },
         {
          "param": "alpha",
          "value": -0.0782942465365089
         },
         {
          "param": "alpha",
          "value": 0.09657871947696078
         },
         {
          "param": "alpha",
          "value": -0.20568586229163804
         },
         {
          "param": "alpha",
          "value": 0.14185945388108656
         },
         {
          "param": "alpha",
          "value": 0.062033311827798136
         },
         {
          "param": "alpha",
          "value": -0.05702341367097382
         },
         {
          "param": "alpha",
          "value": -0.13560287845711044
         },
         {
          "param": "alpha",
          "value": -0.0849636322527663
         },
         {
          "param": "alpha",
          "value": 0.03359198084027354
         },
         {
          "param": "alpha",
          "value": -0.05011921581467199
         },
         {
          "param": "alpha",
          "value": -0.021799285253007783
         },
         {
          "param": "alpha",
          "value": 0.2194432681067175
         },
         {
          "param": "alpha",
          "value": -0.06175009923024192
         },
         {
          "param": "alpha",
          "value": -0.028089702835938334
         },
         {
          "param": "alpha",
          "value": -0.2290490489734045
         },
         {
          "param": "alpha",
          "value": 0.14585608665881009
         },
         {
          "param": "alpha",
          "value": 0.05700108445381993
         },
         {
          "param": "alpha",
          "value": -0.0021067967561393744
         },
         {
          "param": "alpha",
          "value": 0.27837599540223806
         },
         {
          "param": "alpha",
          "value": 0.0722219865211144
         },
         {
          "param": "alpha",
          "value": -0.09567758821179831
         },
         {
          "param": "alpha",
          "value": -0.030000832349830968
         },
         {
          "param": "alpha",
          "value": -0.25776875843492697
         },
         {
          "param": "alpha",
          "value": -0.1341196054073645
         },
         {
          "param": "alpha",
          "value": -0.1225871341619442
         },
         {
          "param": "alpha",
          "value": 0.029858311636040476
         },
         {
          "param": "alpha",
          "value": -0.2482621465509878
         },
         {
          "param": "alpha",
          "value": -0.15318092579346984
         },
         {
          "param": "alpha",
          "value": -0.07843611921084466
         },
         {
          "param": "alpha",
          "value": -0.17854992989157092
         },
         {
          "param": "alpha",
          "value": -0.20900493502265827
         },
         {
          "param": "alpha",
          "value": 0.24527432118312067
         },
         {
          "param": "alpha",
          "value": -0.012053550227200102
         },
         {
          "param": "alpha",
          "value": 0.022525057724499253
         },
         {
          "param": "alpha",
          "value": 0.012777416267224173
         },
         {
          "param": "alpha",
          "value": -0.02677604610575615
         },
         {
          "param": "alpha",
          "value": 0.0042905125696495825
         },
         {
          "param": "alpha",
          "value": -0.09473651124583536
         },
         {
          "param": "alpha",
          "value": -0.033361003233560005
         },
         {
          "param": "alpha",
          "value": -0.07550311708316589
         },
         {
          "param": "alpha",
          "value": 0.15314977682064174
         },
         {
          "param": "alpha",
          "value": 0.03706713040160542
         },
         {
          "param": "alpha",
          "value": 0.03082326279277981
         },
         {
          "param": "alpha",
          "value": 0.1540002472487643
         },
         {
          "param": "alpha",
          "value": -0.005715186797489558
         },
         {
          "param": "alpha",
          "value": -0.11377718358062966
         },
         {
          "param": "alpha",
          "value": 0.005874385737880981
         },
         {
          "param": "alpha",
          "value": -0.060471182529450745
         },
         {
          "param": "alpha",
          "value": 0.04206609334609064
         },
         {
          "param": "alpha",
          "value": 0.10700090019870581
         },
         {
          "param": "alpha",
          "value": -0.01436836295791412
         },
         {
          "param": "alpha",
          "value": -0.1304048823621705
         },
         {
          "param": "alpha",
          "value": -0.03498988882085044
         },
         {
          "param": "alpha",
          "value": 0.10700090019870581
         },
         {
          "param": "alpha",
          "value": 0.0026723595950090395
         },
         {
          "param": "alpha",
          "value": 0.13024637459271274
         },
         {
          "param": "alpha",
          "value": -0.03455645599760925
         },
         {
          "param": "alpha",
          "value": -0.005413998686386881
         },
         {
          "param": "alpha",
          "value": 0.10491633300947201
         },
         {
          "param": "alpha",
          "value": 0.07960438237666854
         },
         {
          "param": "alpha",
          "value": 0.025144784428039097
         },
         {
          "param": "alpha",
          "value": 0.0034620833833943973
         },
         {
          "param": "alpha",
          "value": 0.0305562819166032
         },
         {
          "param": "alpha",
          "value": -0.10230593542915103
         },
         {
          "param": "alpha",
          "value": 0.03814247293173445
         },
         {
          "param": "alpha",
          "value": 0.10210314833686474
         },
         {
          "param": "alpha",
          "value": -0.0272600743796168
         },
         {
          "param": "alpha",
          "value": 0.12930339087293188
         },
         {
          "param": "alpha",
          "value": 0.01264225529297755
         },
         {
          "param": "alpha",
          "value": -0.05559893694880963
         },
         {
          "param": "alpha",
          "value": 0.1291351740171994
         },
         {
          "param": "alpha",
          "value": 0.034310283307322484
         },
         {
          "param": "alpha",
          "value": -0.10250548190225084
         },
         {
          "param": "alpha",
          "value": 0.07244266407589045
         },
         {
          "param": "alpha",
          "value": 0.060192172210065634
         },
         {
          "param": "alpha",
          "value": 0.02978276415481169
         },
         {
          "param": "alpha",
          "value": 0.11530976384623613
         },
         {
          "param": "alpha",
          "value": 0.009367050527269674
         },
         {
          "param": "alpha",
          "value": -0.06264987240450486
         },
         {
          "param": "alpha",
          "value": -0.05545185433765236
         },
         {
          "param": "alpha",
          "value": 0.17068764932095362
         },
         {
          "param": "alpha",
          "value": 0.12258386914035413
         },
         {
          "param": "alpha",
          "value": 0.21444672781512653
         },
         {
          "param": "alpha",
          "value": -0.10505816338586993
         },
         {
          "param": "alpha",
          "value": -0.07103086270412566
         },
         {
          "param": "alpha",
          "value": 0.037215377069987815
         },
         {
          "param": "alpha",
          "value": 0.1575331595861816
         },
         {
          "param": "alpha",
          "value": 0.1573602595274549
         },
         {
          "param": "alpha",
          "value": -0.03354026367106442
         },
         {
          "param": "alpha",
          "value": 0.09773757808345446
         },
         {
          "param": "alpha",
          "value": -0.11903618637165961
         },
         {
          "param": "alpha",
          "value": -0.08393630630353788
         },
         {
          "param": "alpha",
          "value": 0.031407513045530355
         },
         {
          "param": "alpha",
          "value": -0.04523088701445688
         },
         {
          "param": "alpha",
          "value": 0.011491910930624474
         },
         {
          "param": "alpha",
          "value": -0.09610118665769878
         },
         {
          "param": "alpha",
          "value": -0.04313358394361468
         },
         {
          "param": "alpha",
          "value": 0.041390596053219625
         },
         {
          "param": "alpha",
          "value": 0.022461476013617355
         },
         {
          "param": "alpha",
          "value": -0.06830948281551891
         },
         {
          "param": "alpha",
          "value": 0.04784400477898844
         },
         {
          "param": "alpha",
          "value": -0.060412705854474405
         },
         {
          "param": "alpha",
          "value": 0.02923566918294318
         },
         {
          "param": "alpha",
          "value": 0.10006550527055007
         },
         {
          "param": "alpha",
          "value": 0.14784097433395565
         },
         {
          "param": "alpha",
          "value": 0.11132996436371477
         },
         {
          "param": "alpha",
          "value": 0.01790818375445582
         },
         {
          "param": "alpha",
          "value": -0.11114516182747126
         },
         {
          "param": "alpha",
          "value": 0.03673533971193582
         },
         {
          "param": "alpha",
          "value": -0.12450494623061348
         },
         {
          "param": "alpha",
          "value": -0.03586558425527709
         },
         {
          "param": "alpha",
          "value": -0.09391476119044927
         },
         {
          "param": "alpha",
          "value": -0.024426762863297508
         },
         {
          "param": "alpha",
          "value": 0.09146134753112285
         },
         {
          "param": "alpha",
          "value": -0.0041398390213225646
         },
         {
          "param": "alpha",
          "value": -0.10712708705900509
         },
         {
          "param": "alpha",
          "value": -0.05325142005499586
         },
         {
          "param": "alpha",
          "value": -0.0975409872522068
         },
         {
          "param": "alpha",
          "value": -0.06856272813566083
         },
         {
          "param": "alpha",
          "value": 0.07452813243349171
         },
         {
          "param": "alpha",
          "value": 0.023851551724237776
         },
         {
          "param": "alpha",
          "value": 0.08425489271406504
         },
         {
          "param": "alpha",
          "value": 0.004357603967097598
         },
         {
          "param": "alpha",
          "value": -0.04137037801477089
         },
         {
          "param": "alpha",
          "value": -0.026263478534109194
         },
         {
          "param": "alpha",
          "value": -0.05989495635797777
         },
         {
          "param": "alpha",
          "value": 0.04609682831126999
         },
         {
          "param": "alpha",
          "value": -0.13055070445139758
         },
         {
          "param": "alpha",
          "value": 0.09020659908616938
         },
         {
          "param": "alpha",
          "value": -0.027218611240235613
         },
         {
          "param": "alpha",
          "value": 0.046937741243016855
         },
         {
          "param": "alpha",
          "value": -0.1688997717806589
         },
         {
          "param": "alpha",
          "value": 0.011585603111084294
         },
         {
          "param": "alpha",
          "value": 0.033054985048545135
         },
         {
          "param": "alpha",
          "value": -0.23040493290634884
         },
         {
          "param": "alpha",
          "value": -0.10890680353691432
         },
         {
          "param": "alpha",
          "value": 0.0297494150034619
         },
         {
          "param": "alpha",
          "value": 0.012180404132484349
         },
         {
          "param": "alpha",
          "value": -0.15209772164038832
         },
         {
          "param": "alpha",
          "value": 0.06702033753215138
         },
         {
          "param": "alpha",
          "value": 0.14201021451482723
         },
         {
          "param": "alpha",
          "value": -0.0668359024147855
         },
         {
          "param": "alpha",
          "value": 0.0934889828215003
         },
         {
          "param": "alpha",
          "value": 0.07931275561500582
         },
         {
          "param": "alpha",
          "value": -0.12841428693903803
         },
         {
          "param": "alpha",
          "value": -0.07301849324001485
         },
         {
          "param": "alpha",
          "value": 0.1792053610507649
         },
         {
          "param": "alpha",
          "value": -0.05440493954242639
         },
         {
          "param": "alpha",
          "value": 0.0444895052437433
         },
         {
          "param": "alpha",
          "value": 0.02948760517499048
         },
         {
          "param": "alpha",
          "value": 0.07971353050933472
         },
         {
          "param": "alpha",
          "value": -0.07748523993602077
         },
         {
          "param": "alpha",
          "value": -0.03279923826990305
         },
         {
          "param": "alpha",
          "value": 0.0388503903336818
         },
         {
          "param": "alpha",
          "value": -0.21052826173595945
         },
         {
          "param": "alpha",
          "value": -0.10403225131391425
         },
         {
          "param": "alpha",
          "value": 0.04819865873093352
         },
         {
          "param": "alpha",
          "value": 0.0304420075713042
         },
         {
          "param": "alpha",
          "value": 0.18537015767273865
         },
         {
          "param": "alpha",
          "value": -0.07977951669360997
         },
         {
          "param": "alpha",
          "value": 0.08156265300768129
         },
         {
          "param": "alpha",
          "value": -0.043008210978715745
         },
         {
          "param": "alpha",
          "value": 0.15763501044885786
         },
         {
          "param": "alpha",
          "value": -0.027825861704006388
         },
         {
          "param": "alpha",
          "value": -0.041937492177280725
         },
         {
          "param": "alpha",
          "value": -0.010540773808906348
         },
         {
          "param": "alpha",
          "value": -0.0005749937948297673
         },
         {
          "param": "alpha",
          "value": -0.11006230943492844
         },
         {
          "param": "alpha",
          "value": -0.07871198417117181
         },
         {
          "param": "alpha",
          "value": 0.07463338724916284
         },
         {
          "param": "alpha",
          "value": 0.029050829069781688
         },
         {
          "param": "alpha",
          "value": -0.08997729468497032
         },
         {
          "param": "alpha",
          "value": -0.00822102346961489
         },
         {
          "param": "alpha",
          "value": 0.0085669421336904
         },
         {
          "param": "alpha",
          "value": 0.03779827180577357
         },
         {
          "param": "alpha",
          "value": 0.013945983324829991
         },
         {
          "param": "alpha",
          "value": -0.22251527262275578
         },
         {
          "param": "alpha",
          "value": -0.007673388935027904
         },
         {
          "param": "alpha",
          "value": 0.089325543805432
         },
         {
          "param": "alpha",
          "value": 0.0482194519878369
         },
         {
          "param": "alpha",
          "value": -0.21495717840769202
         },
         {
          "param": "alpha",
          "value": -0.16051345422305346
         },
         {
          "param": "alpha",
          "value": 0.07907662085100589
         },
         {
          "param": "alpha",
          "value": 0.0482194519878369
         },
         {
          "param": "alpha",
          "value": 0.0157551343288303
         },
         {
          "param": "alpha",
          "value": -0.11249090840973405
         },
         {
          "param": "alpha",
          "value": 0.0012285798599361922
         },
         {
          "param": "alpha",
          "value": 0.0392366015508461
         },
         {
          "param": "alpha",
          "value": 0.054006166332774545
         },
         {
          "param": "alpha",
          "value": 0.02367112116532763
         },
         {
          "param": "alpha",
          "value": -0.0016787094729574755
         },
         {
          "param": "alpha",
          "value": -0.03397088764682033
         },
         {
          "param": "alpha",
          "value": -0.07642923112840411
         },
         {
          "param": "alpha",
          "value": -0.1498731508308359
         },
         {
          "param": "alpha",
          "value": 0.032369594376833816
         },
         {
          "param": "alpha",
          "value": -0.019734077988452704
         },
         {
          "param": "alpha",
          "value": 0.006426077553892115
         },
         {
          "param": "alpha",
          "value": -0.08780621149204632
         },
         {
          "param": "alpha",
          "value": 0.07142697868085161
         },
         {
          "param": "alpha",
          "value": 0.031346259204859124
         },
         {
          "param": "alpha",
          "value": 0.04051965310206779
         },
         {
          "param": "alpha",
          "value": -0.037958698358201585
         },
         {
          "param": "alpha",
          "value": -0.021546322909941858
         },
         {
          "param": "alpha",
          "value": -0.012057243660436982
         },
         {
          "param": "alpha",
          "value": 0.10308862481085557
         },
         {
          "param": "alpha",
          "value": 0.02696731644362986
         },
         {
          "param": "alpha",
          "value": 0.05910513017263292
         },
         {
          "param": "alpha",
          "value": 0.05716110289658956
         },
         {
          "param": "alpha",
          "value": -0.0637562377569906
         },
         {
          "param": "alpha",
          "value": -0.034860861610735414
         },
         {
          "param": "alpha",
          "value": -0.09714364402704838
         },
         {
          "param": "alpha",
          "value": -0.06260238552603668
         },
         {
          "param": "alpha",
          "value": 0.08213095333080934
         },
         {
          "param": "alpha",
          "value": 0.03539323114055648
         },
         {
          "param": "alpha",
          "value": 0.09690206514999945
         },
         {
          "param": "alpha",
          "value": 0.08386181106360721
         },
         {
          "param": "alpha",
          "value": -0.026277731310296114
         },
         {
          "param": "alpha",
          "value": 0.0823113131575289
         },
         {
          "param": "alpha",
          "value": -0.09286201996475339
         },
         {
          "param": "alpha",
          "value": -0.06037834515175205
         },
         {
          "param": "alpha",
          "value": -0.029643198225481907
         },
         {
          "param": "alpha",
          "value": -0.08082056290072184
         },
         {
          "param": "alpha",
          "value": 0.0674522069454668
         },
         {
          "param": "alpha",
          "value": -0.2084383559808744
         },
         {
          "param": "alpha",
          "value": 0.03355747852870712
         },
         {
          "param": "alpha",
          "value": 0.07620915327255381
         },
         {
          "param": "alpha",
          "value": 0.1439292026632606
         },
         {
          "param": "alpha",
          "value": -0.08234691537069633
         },
         {
          "param": "alpha",
          "value": 0.01938444453770326
         },
         {
          "param": "alpha",
          "value": 0.12081334840219686
         },
         {
          "param": "alpha",
          "value": 0.14784775074006867
         },
         {
          "param": "alpha",
          "value": 0.07527867658597341
         },
         {
          "param": "alpha",
          "value": -0.014782308435268655
         },
         {
          "param": "alpha",
          "value": -0.09764188796013885
         },
         {
          "param": "alpha",
          "value": -0.09441955000184989
         },
         {
          "param": "alpha",
          "value": 0.15770577773989053
         },
         {
          "param": "alpha",
          "value": 0.010630464092766663
         },
         {
          "param": "alpha",
          "value": 0.15091156283336904
         },
         {
          "param": "alpha",
          "value": 0.004016805791953515
         },
         {
          "param": "alpha",
          "value": -0.014480811673159386
         },
         {
          "param": "alpha",
          "value": 0.0835508488428543
         },
         {
          "param": "alpha",
          "value": 0.22845405117617107
         },
         {
          "param": "alpha",
          "value": -0.2798757273493341
         },
         {
          "param": "alpha",
          "value": 0.11154617716996082
         },
         {
          "param": "alpha",
          "value": -0.10996107396327709
         },
         {
          "param": "alpha",
          "value": 0.10410393096142549
         },
         {
          "param": "alpha",
          "value": -0.15407406295237402
         },
         {
          "param": "alpha",
          "value": 0.10323764232302467
         },
         {
          "param": "alpha",
          "value": 0.09757458928811469
         },
         {
          "param": "alpha",
          "value": -0.10642318412685331
         },
         {
          "param": "alpha",
          "value": -0.013277007435565674
         },
         {
          "param": "alpha",
          "value": -0.026008863906132842
         },
         {
          "param": "alpha",
          "value": -0.12775343036273185
         },
         {
          "param": "alpha",
          "value": 0.017247621983755415
         },
         {
          "param": "alpha",
          "value": -0.08485918243432237
         },
         {
          "param": "alpha",
          "value": -0.06077885579723736
         },
         {
          "param": "alpha",
          "value": 0.089451144886567
         },
         {
          "param": "alpha",
          "value": 0.04783328609367976
         },
         {
          "param": "alpha",
          "value": 0.02764429854917748
         },
         {
          "param": "alpha",
          "value": -0.1302120534678982
         },
         {
          "param": "alpha",
          "value": -0.19719630150168732
         },
         {
          "param": "alpha",
          "value": 0.04783328609367976
         },
         {
          "param": "alpha",
          "value": -0.11359091593181828
         },
         {
          "param": "alpha",
          "value": 0.08069712621831988
         },
         {
          "param": "alpha",
          "value": 0.1815858480236412
         },
         {
          "param": "alpha",
          "value": 0.05002335626547394
         },
         {
          "param": "alpha",
          "value": 0.029785454285950065
         },
         {
          "param": "alpha",
          "value": -0.1397738830389716
         },
         {
          "param": "alpha",
          "value": 0.048713086018708315
         },
         {
          "param": "alpha",
          "value": 0.07601365766370174
         },
         {
          "param": "alpha",
          "value": -0.024413641083534332
         },
         {
          "param": "alpha",
          "value": -0.07860446809259869
         },
         {
          "param": "alpha",
          "value": 0.15314783971502788
         },
         {
          "param": "alpha",
          "value": -0.0346826015474464
         },
         {
          "param": "alpha",
          "value": -0.0650728296148889
         },
         {
          "param": "alpha",
          "value": -0.09523684961521371
         },
         {
          "param": "alpha",
          "value": -0.10489763158524383
         },
         {
          "param": "alpha",
          "value": 0.040416802567788394
         },
         {
          "param": "alpha",
          "value": -0.02725419416669765
         },
         {
          "param": "alpha",
          "value": -0.09512280748141867
         },
         {
          "param": "alpha",
          "value": -0.15818456170709302
         },
         {
          "param": "alpha",
          "value": -0.2606407974231863
         },
         {
          "param": "alpha",
          "value": 0.12521143293865547
         },
         {
          "param": "alpha",
          "value": -0.015237685905213141
         },
         {
          "param": "alpha",
          "value": -0.1931790412511277
         },
         {
          "param": "alpha",
          "value": 0.2009581772427234
         },
         {
          "param": "alpha",
          "value": 0.026418342687754393
         },
         {
          "param": "alpha",
          "value": 0.04008728050984112
         },
         {
          "param": "alpha",
          "value": -0.04626014562242786
         },
         {
          "param": "alpha",
          "value": -0.19611209234863633
         },
         {
          "param": "alpha",
          "value": -0.03319504123017173
         },
         {
          "param": "alpha",
          "value": -0.1565894878149121
         },
         {
          "param": "alpha",
          "value": -0.010125938300274966
         },
         {
          "param": "alpha",
          "value": -0.02692157132428097
         },
         {
          "param": "alpha",
          "value": -0.053816346782272706
         },
         {
          "param": "alpha",
          "value": 0.15993395814065536
         },
         {
          "param": "alpha",
          "value": 0.026667347323560395
         },
         {
          "param": "alpha",
          "value": 0.07591784632381356
         },
         {
          "param": "alpha",
          "value": 0.01695919971514865
         },
         {
          "param": "alpha",
          "value": -0.12563125290322358
         },
         {
          "param": "alpha",
          "value": -0.025279930905740294
         },
         {
          "param": "alpha",
          "value": -0.0046223998026427016
         },
         {
          "param": "alpha",
          "value": 0.04368813864683645
         },
         {
          "param": "alpha",
          "value": 0.12091456235369794
         },
         {
          "param": "alpha",
          "value": -0.03704488693817619
         },
         {
          "param": "alpha",
          "value": 0.04555667508136611
         },
         {
          "param": "alpha",
          "value": -0.08090839300823405
         },
         {
          "param": "alpha",
          "value": 0.10753808912847601
         },
         {
          "param": "alpha",
          "value": -0.11737247654475577
         },
         {
          "param": "alpha",
          "value": -0.04943481688212367
         },
         {
          "param": "alpha",
          "value": 0.0379755590127533
         },
         {
          "param": "alpha",
          "value": -0.0540209569508886
         },
         {
          "param": "alpha",
          "value": -0.09464383397185415
         },
         {
          "param": "alpha",
          "value": 0.02115005748931914
         },
         {
          "param": "alpha",
          "value": 0.21180492715136184
         },
         {
          "param": "alpha",
          "value": 0.026945779903883645
         },
         {
          "param": "alpha",
          "value": -0.0625968405328127
         },
         {
          "param": "alpha",
          "value": -0.12737499747553394
         },
         {
          "param": "alpha",
          "value": -0.1544976533644033
         },
         {
          "param": "alpha",
          "value": -0.17651692577237804
         },
         {
          "param": "alpha",
          "value": 0.02594469183734984
         },
         {
          "param": "alpha",
          "value": -0.045033433802107836
         },
         {
          "param": "alpha",
          "value": -0.0866806852180344
         },
         {
          "param": "alpha",
          "value": -0.10987105433616372
         },
         {
          "param": "alpha",
          "value": 0.02152564183237898
         },
         {
          "param": "alpha",
          "value": -0.18469963365507283
         },
         {
          "param": "alpha",
          "value": 0.0007340322532844307
         },
         {
          "param": "alpha",
          "value": 0.030691695687339246
         },
         {
          "param": "alpha",
          "value": 0.050712721994980545
         },
         {
          "param": "alpha",
          "value": -0.07532350507286688
         },
         {
          "param": "alpha",
          "value": -0.10115176738339049
         },
         {
          "param": "alpha",
          "value": -0.1083182935693391
         },
         {
          "param": "alpha",
          "value": -0.0425442451675955
         },
         {
          "param": "alpha",
          "value": 0.13773683361323175
         },
         {
          "param": "alpha",
          "value": -0.04680921383055613
         },
         {
          "param": "alpha",
          "value": 0.10175587821548256
         },
         {
          "param": "alpha",
          "value": 0.021087028249537416
         },
         {
          "param": "alpha",
          "value": -0.02208159651889796
         },
         {
          "param": "alpha",
          "value": 0.013782334772371098
         },
         {
          "param": "alpha",
          "value": -0.14370149547493014
         },
         {
          "param": "alpha",
          "value": -0.03822143463142418
         },
         {
          "param": "alpha",
          "value": 0.01905233077172802
         },
         {
          "param": "alpha",
          "value": -0.021458787994798216
         },
         {
          "param": "alpha",
          "value": -0.11587017842302794
         },
         {
          "param": "alpha",
          "value": 0.16461402344901804
         },
         {
          "param": "alpha",
          "value": 0.16273124486021803
         },
         {
          "param": "alpha",
          "value": -0.052483771696541934
         },
         {
          "param": "alpha",
          "value": -0.07709092201349914
         },
         {
          "param": "alpha",
          "value": 0.1067574795900686
         },
         {
          "param": "alpha",
          "value": 0.20639094466840116
         },
         {
          "param": "alpha",
          "value": -0.04575613084957139
         },
         {
          "param": "alpha",
          "value": 0.058036507654429234
         },
         {
          "param": "alpha",
          "value": -0.05498058008815487
         },
         {
          "param": "alpha",
          "value": 0.12308134789042613
         },
         {
          "param": "alpha",
          "value": 0.017870915627207405
         },
         {
          "param": "alpha",
          "value": 0.07234090145583394
         },
         {
          "param": "alpha",
          "value": -0.09623242513844305
         },
         {
          "param": "alpha",
          "value": 0.1808964899496791
         },
         {
          "param": "alpha",
          "value": 0.15780454506228794
         },
         {
          "param": "alpha",
          "value": -0.06878579039052618
         },
         {
          "param": "alpha",
          "value": 0.06161363814650766
         },
         {
          "param": "alpha",
          "value": -0.07080372099485972
         },
         {
          "param": "alpha",
          "value": 0.13406547786406262
         },
         {
          "param": "alpha",
          "value": -0.1527313750748411
         },
         {
          "param": "alpha",
          "value": 0.04121707944273302
         },
         {
          "param": "alpha",
          "value": 0.06321689539476993
         },
         {
          "param": "alpha",
          "value": -0.15899372026540662
         },
         {
          "param": "alpha",
          "value": 0.08065913344238965
         },
         {
          "param": "alpha",
          "value": -0.06292411579516669
         },
         {
          "param": "alpha",
          "value": -0.07337735515990758
         },
         {
          "param": "alpha",
          "value": -0.17752388591808724
         },
         {
          "param": "alpha",
          "value": -0.08989211877194905
         },
         {
          "param": "alpha",
          "value": 0.05132667432160722
         },
         {
          "param": "alpha",
          "value": -0.033854435910559866
         },
         {
          "param": "alpha",
          "value": 0.2340393051212966
         },
         {
          "param": "alpha",
          "value": -0.0920535503337777
         },
         {
          "param": "alpha",
          "value": 0.10355737662588663
         },
         {
          "param": "alpha",
          "value": 0.05051520688348538
         },
         {
          "param": "alpha",
          "value": -0.13355670821812915
         },
         {
          "param": "alpha",
          "value": -0.04041842706706035
         },
         {
          "param": "alpha",
          "value": 0.029154091426145855
         },
         {
          "param": "alpha",
          "value": 0.005843864112824837
         },
         {
          "param": "alpha",
          "value": -0.11329649687814991
         },
         {
          "param": "alpha",
          "value": 0.0199106036138088
         },
         {
          "param": "alpha",
          "value": 0.027693012916725546
         },
         {
          "param": "alpha",
          "value": 0.005843864112824837
         },
         {
          "param": "alpha",
          "value": -0.13823158340038588
         },
         {
          "param": "alpha",
          "value": -0.1917616809869842
         },
         {
          "param": "alpha",
          "value": 0.019602321471285836
         },
         {
          "param": "alpha",
          "value": -0.03216755356691
         },
         {
          "param": "alpha",
          "value": 0.10675949742857133
         },
         {
          "param": "alpha",
          "value": -0.08098145962127905
         },
         {
          "param": "alpha",
          "value": -0.06489779353648364
         },
         {
          "param": "alpha",
          "value": -0.008243867279686658
         },
         {
          "param": "alpha",
          "value": -0.11987427174897551
         },
         {
          "param": "alpha",
          "value": 0.09019921434813143
         },
         {
          "param": "alpha",
          "value": -0.04266642507021869
         },
         {
          "param": "alpha",
          "value": 0.09295017983239434
         },
         {
          "param": "alpha",
          "value": 0.05694202359551499
         },
         {
          "param": "alpha",
          "value": -0.09165235894212627
         },
         {
          "param": "alpha",
          "value": 0.06694308129697124
         },
         {
          "param": "alpha",
          "value": 0.08566234417046509
         },
         {
          "param": "alpha",
          "value": 0.21015205247029592
         },
         {
          "param": "alpha",
          "value": -0.01837017304390108
         },
         {
          "param": "alpha",
          "value": 0.08550467625665825
         },
         {
          "param": "alpha",
          "value": -0.02054451253528819
         },
         {
          "param": "alpha",
          "value": 0.20161027569505144
         },
         {
          "param": "alpha",
          "value": -0.1281600372034432
         },
         {
          "param": "alpha",
          "value": -0.054936374581527156
         },
         {
          "param": "alpha",
          "value": 0.11883910810310631
         },
         {
          "param": "alpha",
          "value": -0.19874266258313836
         },
         {
          "param": "alpha",
          "value": -0.06467416749590192
         },
         {
          "param": "alpha",
          "value": -0.16574969729582062
         },
         {
          "param": "alpha",
          "value": 0.04635118436099814
         },
         {
          "param": "alpha",
          "value": 0.0033337551090139445
         },
         {
          "param": "alpha",
          "value": 0.0765600769070798
         },
         {
          "param": "alpha",
          "value": -0.19534637093154375
         },
         {
          "param": "alpha",
          "value": 0.023561819831162872
         },
         {
          "param": "alpha",
          "value": 0.022666655075224126
         },
         {
          "param": "alpha",
          "value": -0.027285866258692712
         },
         {
          "param": "alpha",
          "value": -0.13455421371211354
         },
         {
          "param": "alpha",
          "value": 0.11029721323544417
         },
         {
          "param": "alpha",
          "value": 0.002610800041599002
         },
         {
          "param": "alpha",
          "value": 0.054533794612340585
         },
         {
          "param": "alpha",
          "value": 0.04398464751151575
         },
         {
          "param": "alpha",
          "value": 0.09257334441268084
         },
         {
          "param": "alpha",
          "value": -0.03243797397837071
         },
         {
          "param": "alpha",
          "value": -0.10314314162353061
         },
         {
          "param": "alpha",
          "value": -0.008371007735551834
         },
         {
          "param": "alpha",
          "value": 0.11387329498163323
         },
         {
          "param": "alpha",
          "value": -0.06696497963090431
         },
         {
          "param": "alpha",
          "value": -0.08420271781528627
         },
         {
          "param": "alpha",
          "value": 0.016241939481072342
         },
         {
          "param": "alpha",
          "value": 0.14154928469138672
         },
         {
          "param": "alpha",
          "value": -0.047388521968759284
         },
         {
          "param": "alpha",
          "value": 0.10818295862520186
         },
         {
          "param": "alpha",
          "value": 0.13807476154936976
         },
         {
          "param": "alpha",
          "value": -0.1801840541008843
         },
         {
          "param": "alpha",
          "value": -0.007855964347305379
         },
         {
          "param": "alpha",
          "value": 0.028213070119293443
         },
         {
          "param": "alpha",
          "value": -0.1408956028704919
         },
         {
          "param": "alpha",
          "value": -0.2020590006889728
         },
         {
          "param": "alpha",
          "value": -0.034023547963212636
         },
         {
          "param": "alpha",
          "value": -0.028130248766539696
         },
         {
          "param": "alpha",
          "value": -0.14887823587106722
         },
         {
          "param": "alpha",
          "value": -0.09030802617547642
         },
         {
          "param": "alpha",
          "value": 0.02534593520395452
         },
         {
          "param": "alpha",
          "value": 0.028775266737655857
         },
         {
          "param": "alpha",
          "value": -0.23712314613145136
         },
         {
          "param": "alpha",
          "value": 0.19825070791801636
         },
         {
          "param": "alpha",
          "value": -0.009382458070386358
         },
         {
          "param": "alpha",
          "value": -0.01728079471755087
         },
         {
          "param": "alpha",
          "value": 0.15771616347882983
         },
         {
          "param": "alpha",
          "value": -0.21243250982481485
         },
         {
          "param": "alpha",
          "value": 0.028188268750707228
         },
         {
          "param": "alpha",
          "value": -0.01728079471755087
         },
         {
          "param": "alpha",
          "value": 0.23874956303543313
         },
         {
          "param": "alpha",
          "value": 0.10541131781744414
         },
         {
          "param": "alpha",
          "value": 0.10804869286028829
         },
         {
          "param": "alpha",
          "value": 0.0628308427736345
         },
         {
          "param": "alpha",
          "value": 0.08491957372823496
         },
         {
          "param": "alpha",
          "value": 0.0463864820445896
         },
         {
          "param": "alpha",
          "value": 0.033634981095759735
         },
         {
          "param": "alpha",
          "value": -0.019232530313745638
         },
         {
          "param": "alpha",
          "value": -0.1390828043817722
         },
         {
          "param": "alpha",
          "value": -0.41931978817199567
         },
         {
          "param": "alpha",
          "value": -0.031061769949099375
         },
         {
          "param": "alpha",
          "value": -0.041625127600340324
         },
         {
          "param": "alpha",
          "value": 0.01761243432543011
         },
         {
          "param": "alpha",
          "value": -0.2192827115096236
         },
         {
          "param": "alpha",
          "value": -0.20566041249119224
         },
         {
          "param": "alpha",
          "value": 0.026556690082434983
         },
         {
          "param": "alpha",
          "value": 0.12513840282575886
         },
         {
          "param": "alpha",
          "value": -0.1736003305673579
         },
         {
          "param": "alpha",
          "value": 0.09797872792288033
         },
         {
          "param": "alpha",
          "value": -0.11338764606936567
         },
         {
          "param": "alpha",
          "value": 0.21330935397195977
         },
         {
          "param": "alpha",
          "value": 0.07695330433631384
         },
         {
          "param": "alpha",
          "value": -0.0028333277738961937
         },
         {
          "param": "alpha",
          "value": -0.011809829556251969
         },
         {
          "param": "alpha",
          "value": -0.19194484771842202
         },
         {
          "param": "alpha",
          "value": -0.16844260797554914
         },
         {
          "param": "alpha",
          "value": 0.10773859726736243
         },
         {
          "param": "alpha",
          "value": -0.13036156903685733
         },
         {
          "param": "alpha",
          "value": -0.01770015450119393
         },
         {
          "param": "alpha",
          "value": 0.0318536767506237
         },
         {
          "param": "alpha",
          "value": 0.011349184760680753
         },
         {
          "param": "alpha",
          "value": 0.03993047105962279
         },
         {
          "param": "alpha",
          "value": 0.006742213754908874
         },
         {
          "param": "alpha",
          "value": 0.15045890362641073
         },
         {
          "param": "alpha",
          "value": -0.0440885464703899
         },
         {
          "param": "alpha",
          "value": -0.07075862813025836
         },
         {
          "param": "alpha",
          "value": 0.09896424514017987
         },
         {
          "param": "alpha",
          "value": -0.13440828238991234
         },
         {
          "param": "alpha",
          "value": -0.014271799564071676
         },
         {
          "param": "alpha",
          "value": -0.10906506221966972
         },
         {
          "param": "alpha",
          "value": -0.10926742731249314
         },
         {
          "param": "alpha",
          "value": -0.07240770332020827
         },
         {
          "param": "alpha",
          "value": 0.1280783808760032
         },
         {
          "param": "alpha",
          "value": -0.04374540276493895
         },
         {
          "param": "alpha",
          "value": -0.0777011390034113
         },
         {
          "param": "alpha",
          "value": 0.026090592331601374
         },
         {
          "param": "alpha",
          "value": 0.05705022609318911
         },
         {
          "param": "alpha",
          "value": 0.14190652817998434
         },
         {
          "param": "alpha",
          "value": -0.007493194814524311
         },
         {
          "param": "alpha",
          "value": -0.10260828269229369
         },
         {
          "param": "alpha",
          "value": 0.030523647993606517
         },
         {
          "param": "alpha",
          "value": 0.022613546212146812
         },
         {
          "param": "alpha",
          "value": -0.002707005966409731
         },
         {
          "param": "alpha",
          "value": -0.04631505903049428
         },
         {
          "param": "alpha",
          "value": -0.08047872543848565
         },
         {
          "param": "alpha",
          "value": -0.0922182633521561
         },
         {
          "param": "alpha",
          "value": 0.13563155883082614
         },
         {
          "param": "alpha",
          "value": 0.022233453785228303
         },
         {
          "param": "alpha",
          "value": -0.002150183451446394
         },
         {
          "param": "alpha",
          "value": 0.13212891506009866
         },
         {
          "param": "alpha",
          "value": 0.01908746446627478
         },
         {
          "param": "alpha",
          "value": 0.08076803723714183
         },
         {
          "param": "alpha",
          "value": 0.06201847220630633
         },
         {
          "param": "alpha",
          "value": -0.10755761206114264
         },
         {
          "param": "alpha",
          "value": 0.04506581983171976
         },
         {
          "param": "alpha",
          "value": 0.07210587386107753
         },
         {
          "param": "alpha",
          "value": -0.0029180261770614113
         },
         {
          "param": "alpha",
          "value": 0.26423484472630143
         },
         {
          "param": "alpha",
          "value": -0.009798508981019048
         },
         {
          "param": "alpha",
          "value": 0.08710663919017611
         },
         {
          "param": "alpha",
          "value": -0.01743351286490818
         },
         {
          "param": "alpha",
          "value": -0.14227397812482315
         },
         {
          "param": "alpha",
          "value": 0.05587929043318955
         },
         {
          "param": "alpha",
          "value": -0.06738212963594459
         },
         {
          "param": "alpha",
          "value": 0.009155633691479672
         },
         {
          "param": "alpha",
          "value": 0.00016109554987653318
         },
         {
          "param": "alpha",
          "value": 0.059039776515280834
         },
         {
          "param": "alpha",
          "value": -0.13320432409433525
         },
         {
          "param": "alpha",
          "value": 0.1278318770973963
         },
         {
          "param": "alpha",
          "value": 0.14137228166080013
         },
         {
          "param": "alpha",
          "value": 0.08843961008970075
         },
         {
          "param": "alpha",
          "value": 0.005659108245522293
         },
         {
          "param": "alpha",
          "value": 0.17436320051653056
         },
         {
          "param": "alpha",
          "value": -0.07342897338758601
         },
         {
          "param": "alpha",
          "value": -0.10796416618297792
         },
         {
          "param": "alpha",
          "value": 0.09548593838535288
         },
         {
          "param": "alpha",
          "value": -0.16167742407056535
         },
         {
          "param": "alpha",
          "value": 0.007909823849472128
         },
         {
          "param": "alpha",
          "value": 0.026540223718760796
         },
         {
          "param": "alpha",
          "value": -0.10417154105715962
         },
         {
          "param": "alpha",
          "value": -0.1450191577158884
         },
         {
          "param": "alpha",
          "value": 0.023341939571290563
         },
         {
          "param": "alpha",
          "value": 0.10195555862237576
         },
         {
          "param": "alpha",
          "value": -0.008377039826361413
         },
         {
          "param": "alpha",
          "value": 0.19820189329968207
         },
         {
          "param": "alpha",
          "value": 0.06578918532407217
         },
         {
          "param": "alpha",
          "value": 0.027835329494223
         },
         {
          "param": "alpha",
          "value": 0.06079520040057498
         },
         {
          "param": "alpha",
          "value": -0.18379579719573297
         },
         {
          "param": "alpha",
          "value": -0.020819876643796288
         },
         {
          "param": "alpha",
          "value": 0.08365498898569348
         },
         {
          "param": "alpha",
          "value": -0.05907158469100869
         },
         {
          "param": "alpha",
          "value": 0.05805454516479658
         },
         {
          "param": "alpha",
          "value": 0.158720780752532
         },
         {
          "param": "alpha",
          "value": -0.023173372764709113
         },
         {
          "param": "alpha",
          "value": -0.04308716264794601
         },
         {
          "param": "alpha",
          "value": 0.07092214350691713
         },
         {
          "param": "alpha",
          "value": 0.043049852209242234
         },
         {
          "param": "alpha",
          "value": -0.16009162113327702
         },
         {
          "param": "alpha",
          "value": -0.006452450896477613
         },
         {
          "param": "alpha",
          "value": 0.049320273117498314
         },
         {
          "param": "alpha",
          "value": -0.044739190565562484
         },
         {
          "param": "alpha",
          "value": 0.13227970864047778
         },
         {
          "param": "alpha",
          "value": -0.019887710553413075
         },
         {
          "param": "alpha",
          "value": 0.022325741761477877
         },
         {
          "param": "alpha",
          "value": -0.14351635760087442
         },
         {
          "param": "alpha",
          "value": -0.007003060686182616
         },
         {
          "param": "alpha",
          "value": 0.0501465660417072
         },
         {
          "param": "alpha",
          "value": 0.04612902056076021
         },
         {
          "param": "alpha",
          "value": 0.1277369256615118
         },
         {
          "param": "alpha",
          "value": 0.15392084817521196
         },
         {
          "param": "alpha",
          "value": 0.07474535976025784
         },
         {
          "param": "alpha",
          "value": -0.15108799928138178
         },
         {
          "param": "alpha",
          "value": 0.07196570506250435
         },
         {
          "param": "alpha",
          "value": -0.10684568006458417
         },
         {
          "param": "alpha",
          "value": -0.05327710569694996
         },
         {
          "param": "alpha",
          "value": -0.15768176491526886
         },
         {
          "param": "alpha",
          "value": -0.14167424233440595
         },
         {
          "param": "alpha",
          "value": -0.039688129066683564
         },
         {
          "param": "alpha",
          "value": 0.08211183968017563
         },
         {
          "param": "alpha",
          "value": -0.019288554298064975
         },
         {
          "param": "alpha",
          "value": 0.14218166822392536
         },
         {
          "param": "alpha",
          "value": 0.12951403876454312
         },
         {
          "param": "alpha",
          "value": -0.02604848571120834
         },
         {
          "param": "alpha",
          "value": -0.10784554740573427
         },
         {
          "param": "alpha",
          "value": 0.07911481850550234
         },
         {
          "param": "alpha",
          "value": -0.2180412395186538
         },
         {
          "param": "alpha",
          "value": -0.0178294495137184
         },
         {
          "param": "alpha",
          "value": -0.06593381696265918
         },
         {
          "param": "alpha",
          "value": -0.0629767138408619
         },
         {
          "param": "alpha",
          "value": 0.0069118026664066745
         },
         {
          "param": "alpha",
          "value": -0.030782330991582323
         },
         {
          "param": "alpha",
          "value": -0.14346892039827974
         },
         {
          "param": "alpha",
          "value": 0.18562710968810697
         },
         {
          "param": "alpha",
          "value": 0.006612127399201151
         },
         {
          "param": "alpha",
          "value": 0.02085420480113937
         },
         {
          "param": "alpha",
          "value": -0.08087802794415593
         },
         {
          "param": "alpha",
          "value": -0.1740222101967381
         },
         {
          "param": "alpha",
          "value": 0.03547930215359258
         },
         {
          "param": "alpha",
          "value": 0.05365044068772572
         },
         {
          "param": "alpha",
          "value": 0.07600252667014464
         },
         {
          "param": "alpha",
          "value": -0.10653824552237998
         },
         {
          "param": "alpha",
          "value": -0.1051504565275665
         },
         {
          "param": "alpha",
          "value": 0.01064415420438744
         },
         {
          "param": "alpha",
          "value": 0.0633849847384689
         },
         {
          "param": "alpha",
          "value": -0.19569072581418326
         },
         {
          "param": "alpha",
          "value": -0.14191514409688585
         },
         {
          "param": "alpha",
          "value": 0.006635522994474615
         },
         {
          "param": "alpha",
          "value": 0.13203454263709866
         },
         {
          "param": "alpha",
          "value": -0.08988466937199041
         },
         {
          "param": "alpha",
          "value": 0.03876894350223921
         },
         {
          "param": "alpha",
          "value": -0.05830883068324136
         },
         {
          "param": "alpha",
          "value": -0.16335508267402238
         },
         {
          "param": "alpha",
          "value": -0.08988466937199041
         },
         {
          "param": "alpha",
          "value": -0.034500439856841515
         },
         {
          "param": "alpha",
          "value": 0.04262798303707654
         },
         {
          "param": "alpha",
          "value": 0.10074020273738958
         },
         {
          "param": "alpha",
          "value": 0.005623592358865198
         },
         {
          "param": "alpha",
          "value": 0.08190541978168214
         },
         {
          "param": "alpha",
          "value": 0.033871411501779705
         },
         {
          "param": "alpha",
          "value": 0.04735151120898807
         },
         {
          "param": "alpha",
          "value": 0.05220002000288084
         },
         {
          "param": "alpha",
          "value": 7.274884249178215e-05
         },
         {
          "param": "alpha",
          "value": -0.015556487080407033
         },
         {
          "param": "alpha",
          "value": -0.05471278861799026
         },
         {
          "param": "alpha",
          "value": -0.06943763686927769
         },
         {
          "param": "alpha",
          "value": -0.1086940368868466
         },
         {
          "param": "alpha",
          "value": 0.10305842732146728
         },
         {
          "param": "alpha",
          "value": 0.050857767464285004
         },
         {
          "param": "alpha",
          "value": -0.06627903093126472
         },
         {
          "param": "alpha",
          "value": 0.033147564845311304
         },
         {
          "param": "alpha",
          "value": 0.05373583526307903
         },
         {
          "param": "alpha",
          "value": 0.06046291171335414
         },
         {
          "param": "alpha",
          "value": 0.004998857121273528
         },
         {
          "param": "alpha",
          "value": -0.05434025846157661
         },
         {
          "param": "alpha",
          "value": 0.16008225739907184
         },
         {
          "param": "alpha",
          "value": -0.020974218898205166
         },
         {
          "param": "alpha",
          "value": 0.12956233965112685
         },
         {
          "param": "alpha",
          "value": 0.06566278467452008
         },
         {
          "param": "alpha",
          "value": 0.1351126226227674
         },
         {
          "param": "alpha",
          "value": 0.14144683357762333
         },
         {
          "param": "alpha",
          "value": -0.06059452939920587
         },
         {
          "param": "alpha",
          "value": 0.06723489698091967
         },
         {
          "param": "alpha",
          "value": -0.08292146122821945
         },
         {
          "param": "alpha",
          "value": 0.1306730415280419
         },
         {
          "param": "alpha",
          "value": -0.0040543598991464175
         },
         {
          "param": "alpha",
          "value": -0.07571687214187947
         },
         {
          "param": "alpha",
          "value": -0.07316843985890933
         },
         {
          "param": "alpha",
          "value": -0.16916158439806844
         },
         {
          "param": "alpha",
          "value": -0.0007655570682158566
         },
         {
          "param": "alpha",
          "value": -0.06388155453211189
         },
         {
          "param": "alpha",
          "value": 0.04899279225376858
         },
         {
          "param": "alpha",
          "value": -0.03907578785653883
         },
         {
          "param": "alpha",
          "value": 0.06286254900407834
         },
         {
          "param": "alpha",
          "value": -0.03847417245222611
         },
         {
          "param": "alpha",
          "value": -0.04297486262664183
         },
         {
          "param": "alpha",
          "value": -0.03907578785653883
         },
         {
          "param": "alpha",
          "value": 0.019185148466248345
         },
         {
          "param": "alpha",
          "value": 0.05059154867757831
         },
         {
          "param": "alpha",
          "value": -0.05486243288813031
         },
         {
          "param": "alpha",
          "value": -0.03828530041983791
         },
         {
          "param": "alpha",
          "value": -0.02135816913349448
         },
         {
          "param": "alpha",
          "value": -0.16589008005572636
         },
         {
          "param": "alpha",
          "value": -0.1705919572401733
         },
         {
          "param": "alpha",
          "value": 0.018971176269645614
         },
         {
          "param": "alpha",
          "value": 0.12672621391535635
         },
         {
          "param": "alpha",
          "value": 0.13373983470543255
         },
         {
          "param": "alpha",
          "value": -0.09738061407124238
         },
         {
          "param": "alpha",
          "value": -0.09639567890908324
         },
         {
          "param": "alpha",
          "value": -0.013503920994307944
         },
         {
          "param": "alpha",
          "value": -0.025911925858733947
         },
         {
          "param": "alpha",
          "value": -0.029348917873751407
         },
         {
          "param": "alpha",
          "value": -0.057880831840253465
         },
         {
          "param": "alpha",
          "value": -0.045050443398645536
         },
         {
          "param": "alpha",
          "value": 0.02051763049350171
         },
         {
          "param": "alpha",
          "value": -0.115627049841318
         },
         {
          "param": "alpha",
          "value": 0.03539586639018924
         },
         {
          "param": "alpha",
          "value": -0.07202793442618804
         },
         {
          "param": "alpha",
          "value": -0.04105169871752709
         },
         {
          "param": "alpha",
          "value": 0.09080169124657564
         },
         {
          "param": "alpha",
          "value": 0.09227421455953937
         },
         {
          "param": "alpha",
          "value": -0.042419486205474484
         },
         {
          "param": "alpha",
          "value": 0.006983900913404787
         },
         {
          "param": "alpha",
          "value": -0.12263618353274408
         },
         {
          "param": "alpha",
          "value": 0.08955346478477141
         },
         {
          "param": "alpha",
          "value": 0.12851057496382134
         },
         {
          "param": "alpha",
          "value": 0.00044877300463119687
         },
         {
          "param": "alpha",
          "value": 0.10999073693713597
         },
         {
          "param": "alpha",
          "value": 0.019984116349293327
         },
         {
          "param": "alpha",
          "value": 0.02333201234345872
         },
         {
          "param": "alpha",
          "value": -0.02592560684564771
         },
         {
          "param": "alpha",
          "value": -0.08095238988844723
         },
         {
          "param": "alpha",
          "value": 0.050146122163583065
         },
         {
          "param": "alpha",
          "value": -0.11281141041611784
         },
         {
          "param": "alpha",
          "value": -0.056244108530610064
         },
         {
          "param": "alpha",
          "value": -0.04085645519538919
         },
         {
          "param": "alpha",
          "value": 0.08935531043586581
         },
         {
          "param": "alpha",
          "value": -0.1996749940148981
         },
         {
          "param": "alpha",
          "value": 0.07189954754107034
         },
         {
          "param": "alpha",
          "value": 0.10677657197568768
         },
         {
          "param": "alpha",
          "value": 0.042733604925494925
         },
         {
          "param": "alpha",
          "value": 0.1870975268828615
         },
         {
          "param": "alpha",
          "value": 0.026530199642767316
         },
         {
          "param": "alpha",
          "value": -0.08008019959154972
         },
         {
          "param": "alpha",
          "value": -0.047911589229959674
         },
         {
          "param": "alpha",
          "value": -0.052759423512362125
         },
         {
          "param": "alpha",
          "value": -0.03144176339838605
         },
         {
          "param": "alpha",
          "value": -0.026003176553031554
         },
         {
          "param": "alpha",
          "value": -0.05179080015928765
         },
         {
          "param": "alpha",
          "value": -0.03575881517688239
         },
         {
          "param": "alpha",
          "value": 0.05124766509376261
         },
         {
          "param": "alpha",
          "value": -0.0442394288553537
         },
         {
          "param": "alpha",
          "value": -0.05064491186288125
         },
         {
          "param": "alpha",
          "value": -0.09347047914354667
         },
         {
          "param": "alpha",
          "value": 0.0948271075852631
         },
         {
          "param": "alpha",
          "value": 0.0007198256985811585
         },
         {
          "param": "alpha",
          "value": 0.031924537584522156
         },
         {
          "param": "alpha",
          "value": -0.08358946686252554
         },
         {
          "param": "alpha",
          "value": 0.11571539668326566
         },
         {
          "param": "alpha",
          "value": -0.09730178912860682
         },
         {
          "param": "alpha",
          "value": -0.039443815756498746
         },
         {
          "param": "alpha",
          "value": 0.05125389783612677
         },
         {
          "param": "alpha",
          "value": 0.12796278692142163
         },
         {
          "param": "alpha",
          "value": 0.10006698026564034
         },
         {
          "param": "alpha",
          "value": -0.011036717881926814
         },
         {
          "param": "alpha",
          "value": -0.1390109490342331
         },
         {
          "param": "alpha",
          "value": -0.10367068168597687
         },
         {
          "param": "alpha",
          "value": -0.0979569852024928
         },
         {
          "param": "alpha",
          "value": 0.09298503775733617
         },
         {
          "param": "alpha",
          "value": 0.05886892479189826
         },
         {
          "param": "betaA",
          "value": 0.06577578387302904
         },
         {
          "param": "betaA",
          "value": -0.1243420059521708
         },
         {
          "param": "betaA",
          "value": 0.11576913094619938
         },
         {
          "param": "betaA",
          "value": 0.0636726990881925
         },
         {
          "param": "betaA",
          "value": 0.12651832508984218
         },
         {
          "param": "betaA",
          "value": -0.043048631499797
         },
         {
          "param": "betaA",
          "value": 0.37547098451759275
         },
         {
          "param": "betaA",
          "value": 0.35050913584367566
         },
         {
          "param": "betaA",
          "value": 0.10048631981311135
         },
         {
          "param": "betaA",
          "value": -0.06515794678010553
         },
         {
          "param": "betaA",
          "value": 0.23850309083283963
         },
         {
          "param": "betaA",
          "value": -0.13688200041121934
         },
         {
          "param": "betaA",
          "value": -0.0810125124662401
         },
         {
          "param": "betaA",
          "value": -0.10506302292966581
         },
         {
          "param": "betaA",
          "value": -0.08987379221819192
         },
         {
          "param": "betaA",
          "value": 0.022421700566277167
         },
         {
          "param": "betaA",
          "value": 0.039754357171196644
         },
         {
          "param": "betaA",
          "value": 0.1145990524624728
         },
         {
          "param": "betaA",
          "value": 0.15386316790957447
         },
         {
          "param": "betaA",
          "value": 0.2960728419937032
         },
         {
          "param": "betaA",
          "value": 0.21607412394748093
         },
         {
          "param": "betaA",
          "value": 0.05714638264450312
         },
         {
          "param": "betaA",
          "value": 0.1896499827457586
         },
         {
          "param": "betaA",
          "value": 0.24427759884415629
         },
         {
          "param": "betaA",
          "value": 0.03926635844488943
         },
         {
          "param": "betaA",
          "value": -0.05211557028343659
         },
         {
          "param": "betaA",
          "value": 0.1958811170148964
         },
         {
          "param": "betaA",
          "value": 0.3305628714891584
         },
         {
          "param": "betaA",
          "value": -0.0851438819245435
         },
         {
          "param": "betaA",
          "value": -0.09855790083497419
         },
         {
          "param": "betaA",
          "value": 0.06294972499698916
         },
         {
          "param": "betaA",
          "value": 0.17735449164782482
         },
         {
          "param": "betaA",
          "value": 0.20462308034309018
         },
         {
          "param": "betaA",
          "value": 0.1116009958749644
         },
         {
          "param": "betaA",
          "value": -0.0354217495934224
         },
         {
          "param": "betaA",
          "value": 0.03541924852418507
         },
         {
          "param": "betaA",
          "value": -0.0661754041131593
         },
         {
          "param": "betaA",
          "value": 0.046174003138982886
         },
         {
          "param": "betaA",
          "value": -0.03658613215307023
         },
         {
          "param": "betaA",
          "value": -0.0025971510818651317
         },
         {
          "param": "betaA",
          "value": 0.07568830852772757
         },
         {
          "param": "betaA",
          "value": -0.003950143977644267
         },
         {
          "param": "betaA",
          "value": 0.17262958417672242
         },
         {
          "param": "betaA",
          "value": -0.010104773429926217
         },
         {
          "param": "betaA",
          "value": 0.11261815603558202
         },
         {
          "param": "betaA",
          "value": -0.08805305020861143
         },
         {
          "param": "betaA",
          "value": -0.07169147229404371
         },
         {
          "param": "betaA",
          "value": 0.008587612409998661
         },
         {
          "param": "betaA",
          "value": -0.1630405708336405
         },
         {
          "param": "betaA",
          "value": -0.08353401751722189
         },
         {
          "param": "betaA",
          "value": 0.1542839821025168
         },
         {
          "param": "betaA",
          "value": -0.0203003893195107
         },
         {
          "param": "betaA",
          "value": -0.20220221545340908
         },
         {
          "param": "betaA",
          "value": 0.08629722845174813
         },
         {
          "param": "betaA",
          "value": -0.02647186208406982
         },
         {
          "param": "betaA",
          "value": 0.020469655944301394
         },
         {
          "param": "betaA",
          "value": 0.00482262989818058
         },
         {
          "param": "betaA",
          "value": 0.046588697383645516
         },
         {
          "param": "betaA",
          "value": 0.005699882986269236
         },
         {
          "param": "betaA",
          "value": 0.022563009538518967
         },
         {
          "param": "betaA",
          "value": 0.1546999797998387
         },
         {
          "param": "betaA",
          "value": 0.0410357573143989
         },
         {
          "param": "betaA",
          "value": 0.04821629182719983
         },
         {
          "param": "betaA",
          "value": 0.20853159848870803
         },
         {
          "param": "betaA",
          "value": 0.0006774507583778705
         },
         {
          "param": "betaA",
          "value": -0.07266653877297648
         },
         {
          "param": "betaA",
          "value": 0.24831769419388391
         },
         {
          "param": "betaA",
          "value": -0.18988706594753815
         },
         {
          "param": "betaA",
          "value": 0.08087031838356423
         },
         {
          "param": "betaA",
          "value": -0.008452817533081247
         },
         {
          "param": "betaA",
          "value": 0.20569779263440233
         },
         {
          "param": "betaA",
          "value": 0.1752132055061499
         },
         {
          "param": "betaA",
          "value": -0.01352529740485136
         },
         {
          "param": "betaA",
          "value": 0.027758264807724566
         },
         {
          "param": "betaA",
          "value": 0.004422872421937479
         },
         {
          "param": "betaA",
          "value": 0.08055897432524642
         },
         {
          "param": "betaA",
          "value": 0.1803859073606937
         },
         {
          "param": "betaA",
          "value": 0.16538587806899535
         },
         {
          "param": "betaA",
          "value": 0.11773908817651164
         },
         {
          "param": "betaA",
          "value": 0.014223475845694354
         },
         {
          "param": "betaA",
          "value": 0.15970741837162422
         },
         {
          "param": "betaA",
          "value": -0.08658179538276388
         },
         {
          "param": "betaA",
          "value": 0.048033193493709866
         },
         {
          "param": "betaA",
          "value": 0.11834786675013056
         },
         {
          "param": "betaA",
          "value": 0.23156803167681844
         },
         {
          "param": "betaA",
          "value": -0.024816121064105516
         },
         {
          "param": "betaA",
          "value": 0.016757578393462147
         },
         {
          "param": "betaA",
          "value": 0.21223318958753895
         },
         {
          "param": "betaA",
          "value": -0.12504867300758382
         },
         {
          "param": "betaA",
          "value": 0.21317483684015692
         },
         {
          "param": "betaA",
          "value": 0.039998138582711326
         },
         {
          "param": "betaA",
          "value": 0.016525058492145167
         },
         {
          "param": "betaA",
          "value": 0.014165080202352243
         },
         {
          "param": "betaA",
          "value": -0.12916772888085598
         },
         {
          "param": "betaA",
          "value": 0.10744036465019502
         },
         {
          "param": "betaA",
          "value": 0.042965676912099085
         },
         {
          "param": "betaA",
          "value": 0.1066498384440287
         },
         {
          "param": "betaA",
          "value": -0.05047359502646746
         },
         {
          "param": "betaA",
          "value": 0.10805787179737132
         },
         {
          "param": "betaA",
          "value": 0.13410240811151647
         },
         {
          "param": "betaA",
          "value": -0.0002855495051124757
         },
         {
          "param": "betaA",
          "value": 0.2821446848358291
         },
         {
          "param": "betaA",
          "value": 0.15818771674133236
         },
         {
          "param": "betaA",
          "value": 0.011089620623752544
         },
         {
          "param": "betaA",
          "value": 0.11344518973578847
         },
         {
          "param": "betaA",
          "value": -0.039489133865529574
         },
         {
          "param": "betaA",
          "value": 0.21159077236462256
         },
         {
          "param": "betaA",
          "value": 0.05518011839290529
         },
         {
          "param": "betaA",
          "value": 0.06379902210299848
         },
         {
          "param": "betaA",
          "value": 0.22017607801024874
         },
         {
          "param": "betaA",
          "value": 0.27087156380259597
         },
         {
          "param": "betaA",
          "value": 0.08570348762518709
         },
         {
          "param": "betaA",
          "value": 0.14987737441826696
         },
         {
          "param": "betaA",
          "value": 0.021085057548523925
         },
         {
          "param": "betaA",
          "value": 0.23629971041643513
         },
         {
          "param": "betaA",
          "value": 0.02488670847503719
         },
         {
          "param": "betaA",
          "value": 0.15688717432330848
         },
         {
          "param": "betaA",
          "value": -0.1323220610158659
         },
         {
          "param": "betaA",
          "value": -0.11352766274544833
         },
         {
          "param": "betaA",
          "value": 0.04709296976316616
         },
         {
          "param": "betaA",
          "value": -0.04433111882285497
         },
         {
          "param": "betaA",
          "value": 0.049494898406461124
         },
         {
          "param": "betaA",
          "value": -0.13348268851156422
         },
         {
          "param": "betaA",
          "value": 0.11762323273715455
         },
         {
          "param": "betaA",
          "value": 0.06268379389257245
         },
         {
          "param": "betaA",
          "value": 0.030403913032411328
         },
         {
          "param": "betaA",
          "value": 0.06777037224372078
         },
         {
          "param": "betaA",
          "value": 0.04656611085166059
         },
         {
          "param": "betaA",
          "value": -0.22211412964147215
         },
         {
          "param": "betaA",
          "value": 0.1815680413934624
         },
         {
          "param": "betaA",
          "value": 0.17307450016339904
         },
         {
          "param": "betaA",
          "value": 0.22334033439593798
         },
         {
          "param": "betaA",
          "value": 0.06452609178794493
         },
         {
          "param": "betaA",
          "value": -0.04892700781958839
         },
         {
          "param": "betaA",
          "value": -0.13603641906155065
         },
         {
          "param": "betaA",
          "value": 0.22334033439593798
         },
         {
          "param": "betaA",
          "value": 0.12616788916738952
         },
         {
          "param": "betaA",
          "value": 0.07993743267941567
         },
         {
          "param": "betaA",
          "value": 0.20260780798615058
         },
         {
          "param": "betaA",
          "value": 0.2023878856000335
         },
         {
          "param": "betaA",
          "value": -0.1167671789723646
         },
         {
          "param": "betaA",
          "value": 0.3291713581113881
         },
         {
          "param": "betaA",
          "value": 0.1820215730222053
         },
         {
          "param": "betaA",
          "value": 0.18748518518816443
         },
         {
          "param": "betaA",
          "value": 0.3091485738228458
         },
         {
          "param": "betaA",
          "value": -0.15818124913115905
         },
         {
          "param": "betaA",
          "value": 0.09383164843896492
         },
         {
          "param": "betaA",
          "value": 0.05436229989981226
         },
         {
          "param": "betaA",
          "value": -0.07717056933411637
         },
         {
          "param": "betaA",
          "value": -0.17891705788480444
         },
         {
          "param": "betaA",
          "value": 0.04767359816188953
         },
         {
          "param": "betaA",
          "value": 0.03998628569035104
         },
         {
          "param": "betaA",
          "value": 0.17996039593540475
         },
         {
          "param": "betaA",
          "value": 0.0372554400292083
         },
         {
          "param": "betaA",
          "value": 0.04024530616168391
         },
         {
          "param": "betaA",
          "value": 0.20621956033782957
         },
         {
          "param": "betaA",
          "value": 0.10428738351737547
         },
         {
          "param": "betaA",
          "value": 0.04411161732444295
         },
         {
          "param": "betaA",
          "value": -0.01417554367772094
         },
         {
          "param": "betaA",
          "value": -0.1487624555664417
         },
         {
          "param": "betaA",
          "value": 0.034217344178800554
         },
         {
          "param": "betaA",
          "value": 0.10982466019762485
         },
         {
          "param": "betaA",
          "value": 0.09333364518811738
         },
         {
          "param": "betaA",
          "value": -0.18818055893112134
         },
         {
          "param": "betaA",
          "value": -0.06100416372170336
         },
         {
          "param": "betaA",
          "value": 0.11896421796424081
         },
         {
          "param": "betaA",
          "value": 0.18841558976060999
         },
         {
          "param": "betaA",
          "value": 0.1891311213152499
         },
         {
          "param": "betaA",
          "value": -0.020562076815270947
         },
         {
          "param": "betaA",
          "value": 0.16091631631918385
         },
         {
          "param": "betaA",
          "value": -0.14491200080394742
         },
         {
          "param": "betaA",
          "value": -0.00628656168869271
         },
         {
          "param": "betaA",
          "value": 0.11292091969975725
         },
         {
          "param": "betaA",
          "value": -0.012166413560106351
         },
         {
          "param": "betaA",
          "value": 0.06325738869458783
         },
         {
          "param": "betaA",
          "value": 0.008210233498902722
         },
         {
          "param": "betaA",
          "value": -0.05789306910605293
         },
         {
          "param": "betaA",
          "value": 0.04802771061151172
         },
         {
          "param": "betaA",
          "value": 0.07844743100040456
         },
         {
          "param": "betaA",
          "value": 0.012353336634277304
         },
         {
          "param": "betaA",
          "value": -0.003381179302868853
         },
         {
          "param": "betaA",
          "value": -0.09243648835633678
         },
         {
          "param": "betaA",
          "value": 0.11036832508872027
         },
         {
          "param": "betaA",
          "value": 0.010393625026939763
         },
         {
          "param": "betaA",
          "value": 0.136315546177003
         },
         {
          "param": "betaA",
          "value": 0.16870122108112012
         },
         {
          "param": "betaA",
          "value": 0.2758533258415615
         },
         {
          "param": "betaA",
          "value": -0.09395683314278742
         },
         {
          "param": "betaA",
          "value": 0.12445246678050072
         },
         {
          "param": "betaA",
          "value": 0.07885388084119167
         },
         {
          "param": "betaA",
          "value": 0.18115001502899838
         },
         {
          "param": "betaA",
          "value": -0.0739328920665003
         },
         {
          "param": "betaA",
          "value": 0.006699506971062766
         },
         {
          "param": "betaA",
          "value": 0.06135657935779737
         },
         {
          "param": "betaA",
          "value": 0.00420343316400093
         },
         {
          "param": "betaA",
          "value": -0.035021100265474774
         },
         {
          "param": "betaA",
          "value": 0.048011713423511036
         },
         {
          "param": "betaA",
          "value": 0.043940465421261454
         },
         {
          "param": "betaA",
          "value": 0.08951323130296819
         },
         {
          "param": "betaA",
          "value": 0.08219093411058756
         },
         {
          "param": "betaA",
          "value": 0.050116838744991676
         },
         {
          "param": "betaA",
          "value": -0.015889590079134784
         },
         {
          "param": "betaA",
          "value": 0.010870604952357553
         },
         {
          "param": "betaA",
          "value": -0.02295541786788461
         },
         {
          "param": "betaA",
          "value": 0.10042317801010905
         },
         {
          "param": "betaA",
          "value": 0.033249657143432476
         },
         {
          "param": "betaA",
          "value": -0.01672048320395944
         },
         {
          "param": "betaA",
          "value": 0.03331044512989246
         },
         {
          "param": "betaA",
          "value": 0.1679806266971146
         },
         {
          "param": "betaA",
          "value": 0.14764397709057545
         },
         {
          "param": "betaA",
          "value": 0.04368236921779438
         },
         {
          "param": "betaA",
          "value": 0.10026566916192316
         },
         {
          "param": "betaA",
          "value": 0.10271925759627477
         },
         {
          "param": "betaA",
          "value": 0.010734087624139549
         },
         {
          "param": "betaA",
          "value": 0.04920805321719115
         },
         {
          "param": "betaA",
          "value": 0.06314835451517115
         },
         {
          "param": "betaA",
          "value": 0.26549940865776417
         },
         {
          "param": "betaA",
          "value": 0.07726633216816448
         },
         {
          "param": "betaA",
          "value": 0.045542145460001446
         },
         {
          "param": "betaA",
          "value": 0.1450712027640143
         },
         {
          "param": "betaA",
          "value": -0.000424228138205765
         },
         {
          "param": "betaA",
          "value": 0.050409084053632966
         },
         {
          "param": "betaA",
          "value": 0.05420932032852614
         },
         {
          "param": "betaA",
          "value": 0.0448246008924954
         },
         {
          "param": "betaA",
          "value": 0.0712657806001227
         },
         {
          "param": "betaA",
          "value": 0.050583577789795664
         },
         {
          "param": "betaA",
          "value": 0.07595511114724324
         },
         {
          "param": "betaA",
          "value": 0.17512230683189978
         },
         {
          "param": "betaA",
          "value": 0.08539343832617767
         },
         {
          "param": "betaA",
          "value": 0.0306148201151214
         },
         {
          "param": "betaA",
          "value": -0.02264777331706664
         },
         {
          "param": "betaA",
          "value": 0.03623187368136714
         },
         {
          "param": "betaA",
          "value": 0.11286006445846952
         },
         {
          "param": "betaA",
          "value": 0.04839456496677702
         },
         {
          "param": "betaA",
          "value": -0.02226650957764678
         },
         {
          "param": "betaA",
          "value": 0.07213181403051075
         },
         {
          "param": "betaA",
          "value": 0.005683124814614124
         },
         {
          "param": "betaA",
          "value": 0.021664054049849963
         },
         {
          "param": "betaA",
          "value": -0.01469156138779603
         },
         {
          "param": "betaA",
          "value": -0.0206434578869973
         },
         {
          "param": "betaA",
          "value": 0.08198233596058084
         },
         {
          "param": "betaA",
          "value": 0.11656220511750201
         },
         {
          "param": "betaA",
          "value": -0.04409959975677771
         },
         {
          "param": "betaA",
          "value": 0.08604187957748094
         },
         {
          "param": "betaA",
          "value": 0.1251132033847111
         },
         {
          "param": "betaA",
          "value": 0.030455562741006748
         },
         {
          "param": "betaA",
          "value": -0.008814564344170179
         },
         {
          "param": "betaA",
          "value": 0.0561871761354547
         },
         {
          "param": "betaA",
          "value": 0.07843968511339511
         },
         {
          "param": "betaA",
          "value": -0.03412667072920711
         },
         {
          "param": "betaA",
          "value": 0.07181632208508328
         },
         {
          "param": "betaA",
          "value": 0.01172157637452026
         },
         {
          "param": "betaA",
          "value": 0.06709512208268847
         },
         {
          "param": "betaA",
          "value": -0.01101118181525989
         },
         {
          "param": "betaA",
          "value": 0.2085013903650389
         },
         {
          "param": "betaA",
          "value": 0.1328542588323357
         },
         {
          "param": "betaA",
          "value": -0.04488091881436343
         },
         {
          "param": "betaA",
          "value": 0.2961374062320363
         },
         {
          "param": "betaA",
          "value": 0.0968858451074195
         },
         {
          "param": "betaA",
          "value": 0.22799949604606684
         },
         {
          "param": "betaA",
          "value": -0.06378919501856965
         },
         {
          "param": "betaA",
          "value": -0.027418267700058535
         },
         {
          "param": "betaA",
          "value": -0.0907242760234762
         },
         {
          "param": "betaA",
          "value": -0.08523502000368635
         },
         {
          "param": "betaA",
          "value": 0.2928054502673337
         },
         {
          "param": "betaA",
          "value": 0.13874278678910787
         },
         {
          "param": "betaA",
          "value": -0.13821757322942643
         },
         {
          "param": "betaA",
          "value": -0.02726187124468101
         },
         {
          "param": "betaA",
          "value": -0.12304424156168567
         },
         {
          "param": "betaA",
          "value": 0.16052438877433742
         },
         {
          "param": "betaA",
          "value": 0.051667044568648623
         },
         {
          "param": "betaA",
          "value": 0.12213768912097989
         },
         {
          "param": "betaA",
          "value": -0.15523902769345588
         },
         {
          "param": "betaA",
          "value": 0.00015219441439418002
         },
         {
          "param": "betaA",
          "value": 0.11697481167316852
         },
         {
          "param": "betaA",
          "value": -0.03802755911132366
         },
         {
          "param": "betaA",
          "value": -0.13116450690915768
         },
         {
          "param": "betaA",
          "value": -0.05307564083955557
         },
         {
          "param": "betaA",
          "value": 0.035412933673000774
         },
         {
          "param": "betaA",
          "value": -0.036472559909079515
         },
         {
          "param": "betaA",
          "value": 0.18641924419528466
         },
         {
          "param": "betaA",
          "value": -0.18531167639570215
         },
         {
          "param": "betaA",
          "value": 0.1518703561572859
         },
         {
          "param": "betaA",
          "value": 0.19935027220572016
         },
         {
          "param": "betaA",
          "value": -0.16557527745105136
         },
         {
          "param": "betaA",
          "value": -0.007111157754478806
         },
         {
          "param": "betaA",
          "value": -0.11223032154672775
         },
         {
          "param": "betaA",
          "value": -0.07901067227258654
         },
         {
          "param": "betaA",
          "value": -0.10283176590384646
         },
         {
          "param": "betaA",
          "value": 0.006205283196572105
         },
         {
          "param": "betaA",
          "value": -0.11208028346366576
         },
         {
          "param": "betaA",
          "value": 0.15975604822822603
         },
         {
          "param": "betaA",
          "value": -0.05408499645178996
         },
         {
          "param": "betaA",
          "value": 0.08187266824176476
         },
         {
          "param": "betaA",
          "value": -0.07421949359466815
         },
         {
          "param": "betaA",
          "value": -0.05386371157866614
         },
         {
          "param": "betaA",
          "value": 0.09086441972765617
         },
         {
          "param": "betaA",
          "value": 0.1104348894847395
         },
         {
          "param": "betaA",
          "value": 0.12126007024535702
         },
         {
          "param": "betaA",
          "value": 0.08414693953502955
         },
         {
          "param": "betaA",
          "value": 0.005968989289982969
         },
         {
          "param": "betaA",
          "value": -0.07673313366690869
         },
         {
          "param": "betaA",
          "value": -0.022880713673450237
         },
         {
          "param": "betaA",
          "value": 0.15068890357892795
         },
         {
          "param": "betaA",
          "value": -0.030270595307788112
         },
         {
          "param": "betaA",
          "value": 0.21766231987509932
         },
         {
          "param": "betaA",
          "value": 0.20216392312682346
         },
         {
          "param": "betaA",
          "value": -0.01940023808949208
         },
         {
          "param": "betaA",
          "value": 0.03323237283723121
         },
         {
          "param": "betaA",
          "value": 0.05957521303205607
         },
         {
          "param": "betaA",
          "value": 0.18672771891999085
         },
         {
          "param": "betaA",
          "value": -0.029298405060949634
         },
         {
          "param": "betaA",
          "value": -0.03198936371678837
         },
         {
          "param": "betaA",
          "value": 0.05802207184888989
         },
         {
          "param": "betaA",
          "value": -0.022331778380549117
         },
         {
          "param": "betaA",
          "value": 0.144008840044358
         },
         {
          "param": "betaA",
          "value": 0.02676996239048744
         },
         {
          "param": "betaA",
          "value": 0.05802207184888989
         },
         {
          "param": "betaA",
          "value": 0.09698578510423733
         },
         {
          "param": "betaA",
          "value": -0.1073009137963462
         },
         {
          "param": "betaA",
          "value": -0.07572812952667211
         },
         {
          "param": "betaA",
          "value": -0.026641674158002168
         },
         {
          "param": "betaA",
          "value": 0.025522481946723977
         },
         {
          "param": "betaA",
          "value": 0.11069895116883872
         },
         {
          "param": "betaA",
          "value": -0.01053511488898451
         },
         {
          "param": "betaA",
          "value": 0.12894024696581158
         },
         {
          "param": "betaA",
          "value": 0.2121982219862283
         },
         {
          "param": "betaA",
          "value": -0.02483215535616081
         },
         {
          "param": "betaA",
          "value": -0.11282524798991911
         },
         {
          "param": "betaA",
          "value": 0.23161213182851098
         },
         {
          "param": "betaA",
          "value": -0.02093842740329062
         },
         {
          "param": "betaA",
          "value": 0.10759829838981559
         },
         {
          "param": "betaA",
          "value": -0.118135517273468
         },
         {
          "param": "betaA",
          "value": -0.03225914757385115
         },
         {
          "param": "betaA",
          "value": 0.19258996685600127
         },
         {
          "param": "betaA",
          "value": -0.07197614719511174
         },
         {
          "param": "betaA",
          "value": 0.05341572841077378
         },
         {
          "param": "betaA",
          "value": 0.020397645822337024
         },
         {
          "param": "betaA",
          "value": 0.18779292900035144
         },
         {
          "param": "betaA",
          "value": -0.11633595988632225
         },
         {
          "param": "betaA",
          "value": 0.0016248100538549808
         },
         {
          "param": "betaA",
          "value": 0.19405117261096602
         },
         {
          "param": "betaA",
          "value": -0.15792332211251756
         },
         {
          "param": "betaA",
          "value": -0.1653882139266647
         },
         {
          "param": "betaA",
          "value": 0.1911125527824095
         },
         {
          "param": "betaA",
          "value": 0.2288840017725452
         },
         {
          "param": "betaA",
          "value": 0.2709139046052913
         },
         {
          "param": "betaA",
          "value": -0.16033305386892666
         },
         {
          "param": "betaA",
          "value": -0.019320163816647154
         },
         {
          "param": "betaA",
          "value": 0.05248365553393983
         },
         {
          "param": "betaA",
          "value": 0.173560438548756
         },
         {
          "param": "betaA",
          "value": 0.1127620012462321
         },
         {
          "param": "betaA",
          "value": 0.14431943550874227
         },
         {
          "param": "betaA",
          "value": 0.18867633332711342
         },
         {
          "param": "betaA",
          "value": -0.060087629779839974
         },
         {
          "param": "betaA",
          "value": -0.03986846448763561
         },
         {
          "param": "betaA",
          "value": -0.09622170041527651
         },
         {
          "param": "betaA",
          "value": 0.02823331211287544
         },
         {
          "param": "betaA",
          "value": 0.06087608573034139
         },
         {
          "param": "betaA",
          "value": 0.012187140960384077
         },
         {
          "param": "betaA",
          "value": 0.19022448947593626
         },
         {
          "param": "betaA",
          "value": 0.10016960164761414
         },
         {
          "param": "betaA",
          "value": -0.17226651341029256
         },
         {
          "param": "betaA",
          "value": 0.09255075662442205
         },
         {
          "param": "betaA",
          "value": -0.011589872289104242
         },
         {
          "param": "betaA",
          "value": 0.009817931483680787
         },
         {
          "param": "betaA",
          "value": -0.13756560885223595
         },
         {
          "param": "betaA",
          "value": -0.02872971064411004
         },
         {
          "param": "betaA",
          "value": 0.06784249627887984
         },
         {
          "param": "betaA",
          "value": -0.1890480474465557
         },
         {
          "param": "betaA",
          "value": -0.1105158593164435
         },
         {
          "param": "betaA",
          "value": -0.06261189423679095
         },
         {
          "param": "betaA",
          "value": 0.002316280803514221
         },
         {
          "param": "betaA",
          "value": 0.2721687315539833
         },
         {
          "param": "betaA",
          "value": -0.15197030768605557
         },
         {
          "param": "betaA",
          "value": -0.0996732186463295
         },
         {
          "param": "betaA",
          "value": 0.015421029802354165
         },
         {
          "param": "betaA",
          "value": 0.008896906785093334
         },
         {
          "param": "betaA",
          "value": 0.1449016573372173
         },
         {
          "param": "betaA",
          "value": -0.027937911379338154
         },
         {
          "param": "betaA",
          "value": 0.020719000328717783
         },
         {
          "param": "betaA",
          "value": -0.02340824641097397
         },
         {
          "param": "betaA",
          "value": 0.11935510878441662
         },
         {
          "param": "betaA",
          "value": 0.07216712901673325
         },
         {
          "param": "betaA",
          "value": 0.19930035506684524
         },
         {
          "param": "betaA",
          "value": 0.21312856479940348
         },
         {
          "param": "betaA",
          "value": 0.14588122323966748
         },
         {
          "param": "betaA",
          "value": 0.07232023885366277
         },
         {
          "param": "betaA",
          "value": 0.05180198002144622
         },
         {
          "param": "betaA",
          "value": 0.04590991034917574
         },
         {
          "param": "betaA",
          "value": 0.11984577569011212
         },
         {
          "param": "betaA",
          "value": -0.08931185794875317
         },
         {
          "param": "betaA",
          "value": 0.10872053720938647
         },
         {
          "param": "betaA",
          "value": 0.1232856529132159
         },
         {
          "param": "betaA",
          "value": 0.0006716302847157712
         },
         {
          "param": "betaA",
          "value": 0.11964754662441131
         },
         {
          "param": "betaA",
          "value": 0.11726079985124566
         },
         {
          "param": "betaA",
          "value": -0.07159043994449016
         },
         {
          "param": "betaA",
          "value": 0.05928427970093053
         },
         {
          "param": "betaA",
          "value": 0.13768827496125247
         },
         {
          "param": "betaA",
          "value": -0.045664617828566796
         },
         {
          "param": "betaA",
          "value": 0.11243722412110976
         },
         {
          "param": "betaA",
          "value": 0.053734341784945135
         },
         {
          "param": "betaA",
          "value": 0.19666253582775056
         },
         {
          "param": "betaA",
          "value": 0.04935874854577498
         },
         {
          "param": "betaA",
          "value": 0.09957225987457413
         },
         {
          "param": "betaA",
          "value": -0.007911334786846094
         },
         {
          "param": "betaA",
          "value": 0.07076627707951441
         },
         {
          "param": "betaA",
          "value": -0.1426378039808782
         },
         {
          "param": "betaA",
          "value": 0.11335019062536261
         },
         {
          "param": "betaA",
          "value": 0.05697847071980894
         },
         {
          "param": "betaA",
          "value": 0.08051844829449653
         },
         {
          "param": "betaA",
          "value": 0.19500832463051396
         },
         {
          "param": "betaA",
          "value": -0.006089247229145521
         },
         {
          "param": "betaA",
          "value": 0.12392666875773567
         },
         {
          "param": "betaA",
          "value": 0.017523756460549794
         },
         {
          "param": "betaA",
          "value": 0.054930912322506326
         },
         {
          "param": "betaA",
          "value": 0.011334139121640413
         },
         {
          "param": "betaA",
          "value": -0.1854571587446254
         },
         {
          "param": "betaA",
          "value": -0.031146448859636952
         },
         {
          "param": "betaA",
          "value": 0.057030745907066915
         },
         {
          "param": "betaA",
          "value": 0.04663565037128577
         },
         {
          "param": "betaA",
          "value": 0.1686721693742958
         },
         {
          "param": "betaA",
          "value": -0.0651228374702244
         },
         {
          "param": "betaA",
          "value": 0.08758767666639933
         },
         {
          "param": "betaA",
          "value": -0.05008416711996311
         },
         {
          "param": "betaA",
          "value": 0.21047431606108852
         },
         {
          "param": "betaA",
          "value": -0.19682514040942395
         },
         {
          "param": "betaA",
          "value": -0.096605584944257
         },
         {
          "param": "betaA",
          "value": 0.0502223819188449
         },
         {
          "param": "betaA",
          "value": 0.07960592187028248
         },
         {
          "param": "betaA",
          "value": 0.16583417104444317
         },
         {
          "param": "betaA",
          "value": -0.05631944865604849
         },
         {
          "param": "betaA",
          "value": 0.18856228507244396
         },
         {
          "param": "betaA",
          "value": -0.028105053112134668
         },
         {
          "param": "betaA",
          "value": -0.28904862537437825
         },
         {
          "param": "betaA",
          "value": -0.1414044716747958
         },
         {
          "param": "betaA",
          "value": 0.1943072626509945
         },
         {
          "param": "betaA",
          "value": 0.09436619636349092
         },
         {
          "param": "betaA",
          "value": 0.382505758835742
         },
         {
          "param": "betaA",
          "value": 0.11478603179267216
         },
         {
          "param": "betaA",
          "value": -0.001426483631344018
         },
         {
          "param": "betaA",
          "value": 0.0952490003897827
         },
         {
          "param": "betaA",
          "value": -0.01669380544491117
         },
         {
          "param": "betaA",
          "value": 0.1715778442197635
         },
         {
          "param": "betaA",
          "value": -0.044333506195857963
         },
         {
          "param": "betaA",
          "value": -0.01915677990406342
         },
         {
          "param": "betaA",
          "value": -0.01669380544491117
         },
         {
          "param": "betaA",
          "value": 0.14806192356873926
         },
         {
          "param": "betaA",
          "value": -0.08872719710709717
         },
         {
          "param": "betaA",
          "value": 0.08509759122972198
         },
         {
          "param": "betaA",
          "value": 0.2392891052929508
         },
         {
          "param": "betaA",
          "value": 0.08560317759426024
         },
         {
          "param": "betaA",
          "value": 0.006705646546429099
         },
         {
          "param": "betaA",
          "value": 0.16610516334242834
         },
         {
          "param": "betaA",
          "value": 0.15518839799527892
         },
         {
          "param": "betaA",
          "value": 0.1683770734140526
         },
         {
          "param": "betaA",
          "value": 0.19432616482642476
         },
         {
          "param": "betaA",
          "value": -0.06552848104227013
         },
         {
          "param": "betaA",
          "value": -0.028605659602583447
         },
         {
          "param": "betaA",
          "value": 0.12069817991634174
         },
         {
          "param": "betaA",
          "value": 0.26916162908360913
         },
         {
          "param": "betaA",
          "value": 0.08680833007495753
         },
         {
          "param": "betaA",
          "value": 0.1034688685794458
         },
         {
          "param": "betaA",
          "value": 0.11906147038232089
         },
         {
          "param": "betaA",
          "value": 0.17504403727494086
         },
         {
          "param": "betaA",
          "value": -0.10270440399161364
         },
         {
          "param": "betaA",
          "value": -0.0337937601848595
         },
         {
          "param": "betaA",
          "value": 0.14246528262731728
         },
         {
          "param": "betaA",
          "value": -0.0940362816791297
         },
         {
          "param": "betaA",
          "value": 0.07948937010632644
         },
         {
          "param": "betaA",
          "value": -0.09964963862332366
         },
         {
          "param": "betaA",
          "value": -0.04025125849785437
         },
         {
          "param": "betaA",
          "value": -0.010025617097845219
         },
         {
          "param": "betaA",
          "value": 0.04765013291501691
         },
         {
          "param": "betaA",
          "value": 0.2553079753266218
         },
         {
          "param": "betaA",
          "value": 0.09067166875639898
         },
         {
          "param": "betaA",
          "value": 0.10088528285797727
         },
         {
          "param": "betaA",
          "value": 0.011516615764735534
         },
         {
          "param": "betaA",
          "value": -0.0583232699016142
         },
         {
          "param": "betaA",
          "value": 0.07578025804043499
         },
         {
          "param": "betaA",
          "value": 0.10895656385463678
         },
         {
          "param": "betaA",
          "value": 0.148775078544487
         },
         {
          "param": "betaA",
          "value": 0.14593196764844754
         },
         {
          "param": "betaA",
          "value": 0.15052329464808067
         },
         {
          "param": "betaA",
          "value": -0.023254103950404295
         },
         {
          "param": "betaA",
          "value": 0.0174177566046571
         },
         {
          "param": "betaA",
          "value": 0.10925167098731563
         },
         {
          "param": "betaA",
          "value": -0.1189030744433447
         },
         {
          "param": "betaA",
          "value": 0.09227351089522005
         },
         {
          "param": "betaA",
          "value": -0.04771912980240175
         },
         {
          "param": "betaA",
          "value": 0.07191876624457874
         },
         {
          "param": "betaA",
          "value": -0.14316957101328068
         },
         {
          "param": "betaA",
          "value": -0.03282723995894547
         },
         {
          "param": "betaA",
          "value": 0.0679763604048775
         },
         {
          "param": "betaA",
          "value": 0.10369390222510273
         },
         {
          "param": "betaA",
          "value": 0.1184295079399098
         },
         {
          "param": "betaA",
          "value": -0.10381261308587554
         },
         {
          "param": "betaA",
          "value": -0.01676551379100256
         },
         {
          "param": "betaA",
          "value": 0.13395304684710127
         },
         {
          "param": "betaA",
          "value": -0.07831076854148637
         },
         {
          "param": "betaA",
          "value": -0.03713762094599106
         },
         {
          "param": "betaA",
          "value": -0.011787446775014278
         },
         {
          "param": "betaA",
          "value": 0.10913703938875378
         },
         {
          "param": "betaA",
          "value": 0.1653718586129053
         },
         {
          "param": "betaA",
          "value": 0.10562641936270234
         },
         {
          "param": "betaA",
          "value": 0.05177212029529994
         },
         {
          "param": "betaA",
          "value": 0.13121099294733532
         },
         {
          "param": "betaA",
          "value": 0.08746305397853743
         },
         {
          "param": "betaA",
          "value": 0.18201180023238783
         },
         {
          "param": "betaA",
          "value": 0.03440199859240696
         },
         {
          "param": "betaA",
          "value": 0.10922195605598797
         },
         {
          "param": "betaA",
          "value": 0.17334000059466143
         },
         {
          "param": "betaA",
          "value": 0.06404916559383307
         },
         {
          "param": "betaA",
          "value": 0.18252689357393775
         },
         {
          "param": "betaA",
          "value": -0.029353102220856575
         },
         {
          "param": "betaA",
          "value": 0.04890256079909437
         },
         {
          "param": "betaA",
          "value": 0.03783128564468241
         },
         {
          "param": "betaA",
          "value": 0.039589557774219075
         },
         {
          "param": "betaA",
          "value": -0.06973236832921441
         },
         {
          "param": "betaA",
          "value": 0.176826847218418
         },
         {
          "param": "betaA",
          "value": 0.029153308551968536
         },
         {
          "param": "betaA",
          "value": 0.09527516619678311
         },
         {
          "param": "betaA",
          "value": 0.15957571679557034
         },
         {
          "param": "betaA",
          "value": 0.08189850687165741
         },
         {
          "param": "betaA",
          "value": 0.029153308551968536
         },
         {
          "param": "betaA",
          "value": 0.1430981687448179
         },
         {
          "param": "betaA",
          "value": -0.05087547646869499
         },
         {
          "param": "betaA",
          "value": -0.0028138493588729385
         },
         {
          "param": "betaA",
          "value": -0.10332460587489971
         },
         {
          "param": "betaA",
          "value": 0.039338180594829616
         },
         {
          "param": "betaA",
          "value": 0.032268947716509164
         },
         {
          "param": "betaA",
          "value": 0.05861878246911698
         },
         {
          "param": "betaA",
          "value": -0.13640671843465996
         },
         {
          "param": "betaA",
          "value": 0.10903646464366455
         },
         {
          "param": "betaA",
          "value": 0.032758596217441996
         },
         {
          "param": "betaA",
          "value": 0.05571470662229114
         },
         {
          "param": "betaA",
          "value": -0.07250083013115938
         },
         {
          "param": "betaA",
          "value": -0.09734513902609143
         },
         {
          "param": "betaA",
          "value": 0.013311145129095144
         },
         {
          "param": "betaA",
          "value": 0.05472223926012898
         },
         {
          "param": "betaA",
          "value": 0.03771223576822741
         },
         {
          "param": "betaA",
          "value": 0.1770011938476504
         },
         {
          "param": "betaA",
          "value": 0.0728818173990554
         },
         {
          "param": "betaA",
          "value": 0.09309128233617217
         },
         {
          "param": "betaA",
          "value": -0.04342486727450062
         },
         {
          "param": "betaA",
          "value": -0.09377298762287643
         },
         {
          "param": "betaA",
          "value": 0.14643479878121574
         },
         {
          "param": "betaA",
          "value": -0.010490439133693671
         },
         {
          "param": "betaA",
          "value": 0.14245300525737337
         },
         {
          "param": "betaA",
          "value": 0.07089794997523499
         },
         {
          "param": "betaA",
          "value": -0.04945991167318381
         },
         {
          "param": "betaA",
          "value": 0.03860721120991428
         },
         {
          "param": "betaA",
          "value": -0.1087664101526048
         },
         {
          "param": "betaA",
          "value": 0.009116101573592217
         },
         {
          "param": "betaA",
          "value": -0.05587552760998663
         },
         {
          "param": "betaA",
          "value": 0.06789841820343043
         },
         {
          "param": "betaA",
          "value": 0.021910721604692263
         },
         {
          "param": "betaA",
          "value": 0.18187343108482745
         },
         {
          "param": "betaA",
          "value": 0.2039729623496368
         },
         {
          "param": "betaA",
          "value": 0.08728680655045619
         },
         {
          "param": "betaA",
          "value": 0.10923289174166387
         },
         {
          "param": "betaA",
          "value": -0.14520365316513603
         },
         {
          "param": "betaA",
          "value": 0.0691798863902862
         },
         {
          "param": "betaA",
          "value": -0.0435997750677898
         },
         {
          "param": "betaA",
          "value": 0.1282679911985347
         },
         {
          "param": "betaA",
          "value": 0.10834453649929907
         },
         {
          "param": "betaA",
          "value": -0.008365829445493932
         },
         {
          "param": "betaA",
          "value": 0.1893261408589705
         },
         {
          "param": "betaA",
          "value": 0.13719718123979863
         },
         {
          "param": "betaA",
          "value": 0.12285143285703483
         },
         {
          "param": "betaA",
          "value": 0.0956430556568294
         },
         {
          "param": "betaA",
          "value": 0.1276983588679108
         },
         {
          "param": "betaA",
          "value": 0.006803213088245608
         },
         {
          "param": "betaA",
          "value": 0.022833503055894572
         },
         {
          "param": "betaA",
          "value": 0.08078506984028883
         },
         {
          "param": "betaA",
          "value": 0.094932514097859
         },
         {
          "param": "betaA",
          "value": 0.10028352884194516
         },
         {
          "param": "betaA",
          "value": 0.23530469099864448
         },
         {
          "param": "betaA",
          "value": 0.16187670065512402
         },
         {
          "param": "betaA",
          "value": -0.15533292362653844
         },
         {
          "param": "betaA",
          "value": 0.022883132327027385
         },
         {
          "param": "betaA",
          "value": -0.03730802003144659
         },
         {
          "param": "betaA",
          "value": 0.22936482149042534
         },
         {
          "param": "betaA",
          "value": -0.1456231571064811
         },
         {
          "param": "betaA",
          "value": 0.05988085262481325
         },
         {
          "param": "betaA",
          "value": -0.1746138179947207
         },
         {
          "param": "betaA",
          "value": 0.2944346030257947
         },
         {
          "param": "betaA",
          "value": 0.04379798256006072
         },
         {
          "param": "betaA",
          "value": 0.026274013120303807
         },
         {
          "param": "betaA",
          "value": -0.18064284950919568
         },
         {
          "param": "betaA",
          "value": 0.24461106216104864
         },
         {
          "param": "betaA",
          "value": 0.12123869400994043
         },
         {
          "param": "betaA",
          "value": -0.14364543985780132
         },
         {
          "param": "betaA",
          "value": 0.043672006903528904
         },
         {
          "param": "betaA",
          "value": 0.051016927923366956
         },
         {
          "param": "betaA",
          "value": 0.16619848917301902
         },
         {
          "param": "betaA",
          "value": 0.1048552354124662
         },
         {
          "param": "betaA",
          "value": -0.0367914550765923
         },
         {
          "param": "betaA",
          "value": 0.07081992663565835
         },
         {
          "param": "betaA",
          "value": -0.10091679243125899
         },
         {
          "param": "betaA",
          "value": 0.26837719115447367
         },
         {
          "param": "betaA",
          "value": 0.14144903233325806
         },
         {
          "param": "betaA",
          "value": 0.0843583887697626
         },
         {
          "param": "betaA",
          "value": 0.18565683616871456
         },
         {
          "param": "betaA",
          "value": -0.15340802243126636
         },
         {
          "param": "betaA",
          "value": 0.0011045528785556952
         },
         {
          "param": "betaA",
          "value": -0.012936255507251165
         },
         {
          "param": "betaA",
          "value": -0.1017970195298482
         },
         {
          "param": "betaA",
          "value": 0.31976714264080386
         },
         {
          "param": "betaA",
          "value": 0.03089710143077986
         },
         {
          "param": "betaA",
          "value": 0.07402768143746798
         },
         {
          "param": "betaA",
          "value": -0.07510555249131294
         },
         {
          "param": "betaA",
          "value": 0.3653960797716169
         },
         {
          "param": "betaA",
          "value": 0.03907799841516174
         },
         {
          "param": "betaA",
          "value": 0.13360266174538388
         },
         {
          "param": "betaA",
          "value": 0.19677944078751092
         },
         {
          "param": "betaA",
          "value": 0.30618419490851784
         },
         {
          "param": "betaA",
          "value": 0.09254270425330524
         },
         {
          "param": "betaA",
          "value": -0.22003689539037774
         },
         {
          "param": "betaA",
          "value": 0.12464243108134156
         },
         {
          "param": "betaA",
          "value": 0.26098316106793823
         },
         {
          "param": "betaA",
          "value": 0.1654663552283182
         },
         {
          "param": "betaA",
          "value": 0.1610302185068384
         },
         {
          "param": "betaA",
          "value": 0.06852794855265562
         },
         {
          "param": "betaA",
          "value": -0.09699454369002902
         },
         {
          "param": "betaA",
          "value": 0.0901326431260315
         },
         {
          "param": "betaA",
          "value": 0.06984271007874691
         },
         {
          "param": "betaA",
          "value": -0.05242958402429095
         },
         {
          "param": "betaA",
          "value": 0.12530685151396206
         },
         {
          "param": "betaA",
          "value": 0.09180695076725268
         },
         {
          "param": "betaA",
          "value": -0.032663593662007814
         },
         {
          "param": "betaA",
          "value": -0.10232003185739724
         },
         {
          "param": "betaA",
          "value": -0.07233027128916794
         },
         {
          "param": "betaA",
          "value": 0.03339948201262052
         },
         {
          "param": "betaA",
          "value": 0.17989085778638814
         },
         {
          "param": "betaA",
          "value": 0.22173559470513987
         },
         {
          "param": "betaA",
          "value": 0.22166249058555793
         },
         {
          "param": "betaA",
          "value": 0.06603695845840346
         },
         {
          "param": "betaA",
          "value": 0.19293853560162633
         },
         {
          "param": "betaA",
          "value": -0.11663037001251482
         },
         {
          "param": "betaA",
          "value": -0.008611036087842111
         },
         {
          "param": "betaA",
          "value": 0.005203419727162845
         },
         {
          "param": "betaA",
          "value": 0.08960425045678541
         },
         {
          "param": "betaA",
          "value": -0.02284868893041668
         },
         {
          "param": "betaA",
          "value": 0.042560523329679044
         },
         {
          "param": "betaA",
          "value": -0.21585458611278782
         },
         {
          "param": "betaA",
          "value": 0.026788063482720337
         },
         {
          "param": "betaA",
          "value": 0.17706800143473425
         },
         {
          "param": "betaA",
          "value": 0.042560523329679044
         },
         {
          "param": "betaA",
          "value": -0.11943847882854566
         },
         {
          "param": "betaA",
          "value": 0.06134699917509116
         },
         {
          "param": "betaA",
          "value": 0.005920967604199155
         },
         {
          "param": "betaA",
          "value": 0.1337591497342564
         },
         {
          "param": "betaA",
          "value": -0.022912739736132476
         },
         {
          "param": "betaA",
          "value": -0.017160553078063745
         },
         {
          "param": "betaA",
          "value": 0.0809661431150291
         },
         {
          "param": "betaA",
          "value": 0.03706884771144153
         },
         {
          "param": "betaA",
          "value": 0.10229339811469235
         },
         {
          "param": "betaA",
          "value": 0.19579227120091447
         },
         {
          "param": "betaA",
          "value": 0.12246658232100359
         },
         {
          "param": "betaA",
          "value": -0.07867536620049656
         },
         {
          "param": "betaA",
          "value": 0.09832962672883008
         },
         {
          "param": "betaA",
          "value": 0.1298647754469327
         },
         {
          "param": "betaA",
          "value": -0.0643800504339057
         },
         {
          "param": "betaA",
          "value": -0.013444168148951344
         },
         {
          "param": "betaA",
          "value": -0.03793107985276135
         },
         {
          "param": "betaA",
          "value": 0.1772542396946794
         },
         {
          "param": "betaA",
          "value": -0.05853739975194864
         },
         {
          "param": "betaA",
          "value": 0.06986455714732441
         },
         {
          "param": "betaA",
          "value": -0.03495110085711914
         },
         {
          "param": "betaA",
          "value": -0.04236355095670044
         },
         {
          "param": "betaA",
          "value": 0.23380509861655258
         },
         {
          "param": "betaA",
          "value": -0.025106148117881102
         },
         {
          "param": "betaA",
          "value": 0.16029337734134766
         },
         {
          "param": "betaA",
          "value": 0.08286209583743515
         },
         {
          "param": "betaA",
          "value": 0.028758443473040435
         },
         {
          "param": "betaA",
          "value": -0.041975753121024986
         },
         {
          "param": "betaA",
          "value": 0.074324072201204
         },
         {
          "param": "betaA",
          "value": 0.014916256657495637
         },
         {
          "param": "betaA",
          "value": 0.06571319246960572
         },
         {
          "param": "betaA",
          "value": 0.11996604604796467
         },
         {
          "param": "betaA",
          "value": 0.0911977503625456
         },
         {
          "param": "betaA",
          "value": 0.049054287194785634
         },
         {
          "param": "betaA",
          "value": 0.0680080176533198
         },
         {
          "param": "betaA",
          "value": 0.1653444489278506
         },
         {
          "param": "betaA",
          "value": 0.27953073225173175
         },
         {
          "param": "betaA",
          "value": 0.04571269373309228
         },
         {
          "param": "betaA",
          "value": 0.07525733701444909
         },
         {
          "param": "betaA",
          "value": 0.042767481252854844
         },
         {
          "param": "betaA",
          "value": -0.061330309388475265
         },
         {
          "param": "betaA",
          "value": -0.012509335804982348
         },
         {
          "param": "betaA",
          "value": 0.13887844392198878
         },
         {
          "param": "betaA",
          "value": 0.07674698554640733
         },
         {
          "param": "betaA",
          "value": 0.05517756348778667
         },
         {
          "param": "betaA",
          "value": -0.04059331983848878
         },
         {
          "param": "betaA",
          "value": -0.10475394037285113
         },
         {
          "param": "betaA",
          "value": 0.031663621809227355
         },
         {
          "param": "betaA",
          "value": 0.02714798164699075
         },
         {
          "param": "betaA",
          "value": -0.01686877918882776
         },
         {
          "param": "betaA",
          "value": -0.00313511307807611
         },
         {
          "param": "betaA",
          "value": 0.10431347966046192
         },
         {
          "param": "betaA",
          "value": 0.08281680174322238
         },
         {
          "param": "betaA",
          "value": 0.08138021902362273
         },
         {
          "param": "betaA",
          "value": 0.17329534528903762
         },
         {
          "param": "betaA",
          "value": -0.08463785567587398
         },
         {
          "param": "betaA",
          "value": 0.0503730104901217
         },
         {
          "param": "betaA",
          "value": 0.0647727758130398
         },
         {
          "param": "betaA",
          "value": -0.12715148927979086
         },
         {
          "param": "betaA",
          "value": 0.018186483046029975
         },
         {
          "param": "betaA",
          "value": 0.07204256656666749
         },
         {
          "param": "betaA",
          "value": 0.07314635530036306
         },
         {
          "param": "betaA",
          "value": 0.009829198534685057
         },
         {
          "param": "betaA",
          "value": -0.06396589429335603
         },
         {
          "param": "betaA",
          "value": 0.10247879114509292
         },
         {
          "param": "betaA",
          "value": 0.010299375253498097
         },
         {
          "param": "betaA",
          "value": 0.011342720103464696
         },
         {
          "param": "betaA",
          "value": 0.10548221133601714
         },
         {
          "param": "betaA",
          "value": 0.005288447146458625
         },
         {
          "param": "betaA",
          "value": 0.010299375253498097
         },
         {
          "param": "betaA",
          "value": 0.03174300118416873
         },
         {
          "param": "betaA",
          "value": -0.019256277520857082
         },
         {
          "param": "betaA",
          "value": -0.034321584474171586
         },
         {
          "param": "betaA",
          "value": 0.007324156200020273
         },
         {
          "param": "betaA",
          "value": -0.17970159272574765
         },
         {
          "param": "betaA",
          "value": 0.017248370363805665
         },
         {
          "param": "betaA",
          "value": 0.05816824671118078
         },
         {
          "param": "betaA",
          "value": 0.1263444412404771
         },
         {
          "param": "betaA",
          "value": 0.216118722319381
         },
         {
          "param": "betaA",
          "value": 0.2335284176398513
         },
         {
          "param": "betaA",
          "value": -0.04727298416325045
         },
         {
          "param": "betaA",
          "value": 0.06905403265167981
         },
         {
          "param": "betaA",
          "value": -0.11195195204344333
         },
         {
          "param": "betaA",
          "value": -0.039845839525988594
         },
         {
          "param": "betaA",
          "value": -0.017910044351941268
         },
         {
          "param": "betaA",
          "value": -0.016342667592407087
         },
         {
          "param": "betaA",
          "value": -0.0643128936499894
         },
         {
          "param": "betaA",
          "value": -0.01992748936600523
         },
         {
          "param": "betaA",
          "value": 0.06785582753355171
         },
         {
          "param": "betaA",
          "value": -0.16137330504995023
         },
         {
          "param": "betaA",
          "value": 0.07740188385261751
         },
         {
          "param": "betaA",
          "value": -0.041606426200564844
         },
         {
          "param": "betaA",
          "value": 0.03252151175192271
         },
         {
          "param": "betaA",
          "value": 0.04525896105826853
         },
         {
          "param": "betaA",
          "value": 0.14168585170790782
         },
         {
          "param": "betaA",
          "value": 0.25132491604102186
         },
         {
          "param": "betaA",
          "value": 0.026743183083957227
         },
         {
          "param": "betaA",
          "value": 0.08811048057690522
         },
         {
          "param": "betaA",
          "value": 0.12234729554916524
         },
         {
          "param": "betaA",
          "value": -0.08009110355704681
         },
         {
          "param": "betaA",
          "value": 0.08184484794720616
         },
         {
          "param": "betaA",
          "value": 0.023125033108022275
         },
         {
          "param": "betaA",
          "value": 0.09386995511873096
         },
         {
          "param": "betaA",
          "value": 0.07356999614439544
         },
         {
          "param": "betaA",
          "value": 0.01678348732859332
         },
         {
          "param": "betaA",
          "value": 0.04766428187656298
         },
         {
          "param": "betaA",
          "value": 0.03441412547264747
         },
         {
          "param": "betaA",
          "value": 0.05073116942771312
         },
         {
          "param": "betaA",
          "value": -0.12975444989000023
         },
         {
          "param": "betaA",
          "value": 0.09033613807994616
         },
         {
          "param": "betaA",
          "value": 0.06451752524404102
         },
         {
          "param": "betaA",
          "value": 0.01328806479727715
         },
         {
          "param": "betaA",
          "value": -0.12851250553670013
         },
         {
          "param": "betaA",
          "value": 0.00047498163767492607
         },
         {
          "param": "betaA",
          "value": 0.059609482476162955
         },
         {
          "param": "betaA",
          "value": -0.2860025467442126
         },
         {
          "param": "betaA",
          "value": -0.25550879724094133
         },
         {
          "param": "betaA",
          "value": 0.07309569668630295
         },
         {
          "param": "betaA",
          "value": -0.09158598246970819
         },
         {
          "param": "betaA",
          "value": -0.26946854126505
         },
         {
          "param": "betaA",
          "value": -0.2270192172575362
         },
         {
          "param": "betaA",
          "value": -0.01286939859599627
         },
         {
          "param": "betaA",
          "value": -0.05391860457877488
         },
         {
          "param": "betaA",
          "value": 0.17231129002049428
         },
         {
          "param": "betaA",
          "value": 0.2615619541181542
         },
         {
          "param": "betaA",
          "value": 0.06099260379848399
         },
         {
          "param": "betaA",
          "value": -0.03305680299919696
         },
         {
          "param": "betaA",
          "value": -0.03825993547207898
         },
         {
          "param": "betaA",
          "value": 0.1602616052883733
         },
         {
          "param": "betaA",
          "value": -0.0606766822943801
         },
         {
          "param": "betaA",
          "value": 0.011234731825235225
         },
         {
          "param": "betaA",
          "value": 0.03749797973954962
         },
         {
          "param": "betaA",
          "value": -0.006918106551892816
         },
         {
          "param": "betaA",
          "value": 0.12025820853537836
         },
         {
          "param": "betaA",
          "value": -0.05638885673679443
         },
         {
          "param": "betaA",
          "value": 0.10447804628385404
         },
         {
          "param": "betaA",
          "value": 0.06117398761081995
         },
         {
          "param": "betaA",
          "value": -0.02511076459833269
         },
         {
          "param": "betaA",
          "value": 0.07595606579570355
         },
         {
          "param": "betaA",
          "value": 0.11125557219674528
         },
         {
          "param": "betaA",
          "value": 0.10152502424573724
         },
         {
          "param": "betaA",
          "value": -0.1094262383256239
         },
         {
          "param": "betaA",
          "value": 0.007602239706388483
         },
         {
          "param": "betaA",
          "value": -0.06053064851868138
         },
         {
          "param": "betaA",
          "value": 0.07440904764958065
         },
         {
          "param": "betaA",
          "value": 0.19441563999654982
         },
         {
          "param": "betaA",
          "value": -0.057067958298496715
         },
         {
          "param": "betaA",
          "value": -0.05967739838665143
         },
         {
          "param": "betaA",
          "value": 0.14016279939567117
         },
         {
          "param": "betaA",
          "value": 0.05929077809087152
         },
         {
          "param": "betaA",
          "value": 0.0940358755271361
         },
         {
          "param": "betaA",
          "value": -0.05705279002701753
         },
         {
          "param": "betaA",
          "value": 0.08635541662459209
         },
         {
          "param": "betaA",
          "value": 0.060514961410320256
         },
         {
          "param": "betaA",
          "value": -0.003860484023690044
         },
         {
          "param": "betaA",
          "value": 0.05930896248816968
         },
         {
          "param": "betaA",
          "value": 0.04144093275218052
         },
         {
          "param": "betaA",
          "value": 0.028546908535112735
         },
         {
          "param": "betaA",
          "value": -0.01627432618180736
         },
         {
          "param": "betaA",
          "value": -0.017215166064601967
         },
         {
          "param": "betaA",
          "value": -0.0020552997731511646
         },
         {
          "param": "betaA",
          "value": 0.17979262363486676
         },
         {
          "param": "betaA",
          "value": 0.10905493061057805
         },
         {
          "param": "betaA",
          "value": 0.06182897291808175
         },
         {
          "param": "betaA",
          "value": 0.14438951054463137
         },
         {
          "param": "betaA",
          "value": -0.0032324067890908414
         },
         {
          "param": "betaA",
          "value": 0.049704288536565194
         },
         {
          "param": "betaA",
          "value": -0.02930868368208551
         },
         {
          "param": "betaA",
          "value": -0.0859863392144867
         },
         {
          "param": "betaA",
          "value": 0.023256982165501594
         },
         {
          "param": "betaA",
          "value": -0.14432020184505445
         },
         {
          "param": "betaA",
          "value": 0.05514778421844342
         },
         {
          "param": "betaA",
          "value": 0.3014793146878112
         },
         {
          "param": "betaA",
          "value": 0.04812151388532113
         },
         {
          "param": "betaA",
          "value": -0.023341594630310117
         },
         {
          "param": "betaA",
          "value": 0.1519811055736111
         },
         {
          "param": "betaA",
          "value": 0.1411650859547768
         },
         {
          "param": "betaA",
          "value": -0.0688383213994839
         },
         {
          "param": "betaA",
          "value": -0.010907653257789092
         },
         {
          "param": "betaA",
          "value": 0.15396904778971626
         },
         {
          "param": "betaA",
          "value": 0.13880301242418153
         },
         {
          "param": "betaA",
          "value": 0.05738176283388427
         },
         {
          "param": "betaA",
          "value": 0.15524238337695206
         },
         {
          "param": "betaA",
          "value": -0.053578183561828974
         },
         {
          "param": "betaA",
          "value": 0.02317540277875492
         },
         {
          "param": "betaA",
          "value": 0.029661439425419774
         },
         {
          "param": "betaA",
          "value": -0.01772049947163963
         },
         {
          "param": "betaA",
          "value": -0.032271357545042206
         },
         {
          "param": "betaA",
          "value": 0.021077286221055747
         },
         {
          "param": "betaA",
          "value": 0.1575025671388065
         },
         {
          "param": "betaA",
          "value": 0.051061684162695575
         },
         {
          "param": "betaA",
          "value": 0.10757116921568295
         },
         {
          "param": "betaA",
          "value": 0.029070296158538858
         },
         {
          "param": "betaA",
          "value": 0.01829623613724435
         },
         {
          "param": "betaA",
          "value": 0.18489919704009633
         },
         {
          "param": "betaA",
          "value": 0.006235730524842054
         },
         {
          "param": "betaA",
          "value": 0.15036987311386119
         },
         {
          "param": "betaA",
          "value": -0.07994155296859158
         },
         {
          "param": "betaA",
          "value": -0.08706977846557268
         },
         {
          "param": "betaA",
          "value": 0.022423548476007808
         },
         {
          "param": "betaA",
          "value": 0.18223223736330982
         },
         {
          "param": "betaA",
          "value": 0.26082235841542123
         },
         {
          "param": "betaA",
          "value": 0.08682770799312862
         },
         {
          "param": "betaA",
          "value": 0.03839037302906273
         },
         {
          "param": "betaA",
          "value": -0.14843297480801973
         },
         {
          "param": "betaA",
          "value": 0.04353965296380424
         },
         {
          "param": "betaA",
          "value": -0.07682975565098502
         },
         {
          "param": "betaA",
          "value": 0.1555933621193612
         },
         {
          "param": "betaA",
          "value": -0.05066690723866152
         },
         {
          "param": "betaA",
          "value": 0.0021497183408191317
         },
         {
          "param": "betaA",
          "value": 0.09651102035086892
         },
         {
          "param": "betaA",
          "value": 0.21362108929571194
         },
         {
          "param": "betaA",
          "value": 0.01554485892532357
         },
         {
          "param": "betaA",
          "value": 0.11319853554187138
         },
         {
          "param": "betaA",
          "value": 0.19201787235365567
         },
         {
          "param": "betaA",
          "value": -0.08893567887351767
         },
         {
          "param": "betaA",
          "value": 0.05104393394938962
         },
         {
          "param": "betaA",
          "value": -0.13238435004584384
         },
         {
          "param": "betaA",
          "value": 0.10883440771899533
         },
         {
          "param": "betaA",
          "value": -0.05252350879914385
         },
         {
          "param": "betaA",
          "value": 0.03268032624771601
         },
         {
          "param": "betaA",
          "value": 0.026582649190588586
         },
         {
          "param": "betaA",
          "value": -0.18489633490883306
         },
         {
          "param": "betaA",
          "value": 0.08593615035968524
         },
         {
          "param": "betaA",
          "value": 0.05574508956624255
         },
         {
          "param": "betaA",
          "value": 0.03516503169100167
         },
         {
          "param": "betaA",
          "value": -0.10806344506506847
         },
         {
          "param": "betaA",
          "value": -0.018058966669152035
         },
         {
          "param": "betaA",
          "value": 0.057998413878582795
         },
         {
          "param": "betaA",
          "value": 0.08122874323938767
         },
         {
          "param": "betaA",
          "value": 0.11734475521609085
         },
         {
          "param": "betaA",
          "value": -0.007000905520400343
         },
         {
          "param": "betaA",
          "value": 0.16954204970586034
         },
         {
          "param": "betaA",
          "value": 0.08122874323938767
         },
         {
          "param": "betaA",
          "value": 0.07445439477401439
         },
         {
          "param": "betaA",
          "value": 0.2313483516037647
         },
         {
          "param": "betaA",
          "value": -7.276458777033534e-05
         },
         {
          "param": "betaA",
          "value": 0.2034707248059951
         },
         {
          "param": "betaA",
          "value": -0.0840470984932916
         },
         {
          "param": "betaA",
          "value": 0.048071218125276316
         },
         {
          "param": "betaA",
          "value": -0.007422350317792236
         },
         {
          "param": "betaA",
          "value": -0.029351888366244167
         },
         {
          "param": "betaA",
          "value": 0.13226947653167603
         },
         {
          "param": "betaA",
          "value": -0.07847205622324586
         },
         {
          "param": "betaA",
          "value": 0.09524092170649384
         },
         {
          "param": "betaA",
          "value": 0.10726893093336981
         },
         {
          "param": "betaA",
          "value": 0.019072904891462336
         },
         {
          "param": "betaA",
          "value": 0.05245330533187739
         },
         {
          "param": "betaA",
          "value": 0.10884697168625947
         },
         {
          "param": "betaA",
          "value": 0.028153913113400528
         },
         {
          "param": "betaA",
          "value": -0.042934314979298144
         },
         {
          "param": "betaA",
          "value": 0.020041058181683245
         },
         {
          "param": "betaA",
          "value": -0.12806753517913966
         },
         {
          "param": "betaA",
          "value": 0.12979726675326592
         },
         {
          "param": "betaA",
          "value": -0.05623946673170184
         },
         {
          "param": "betaA",
          "value": 0.17575577198869077
         },
         {
          "param": "betaA",
          "value": -0.017186211702459694
         },
         {
          "param": "betaA",
          "value": -0.09611841685029346
         },
         {
          "param": "betaA",
          "value": 0.1754044819047786
         },
         {
          "param": "betaA",
          "value": 0.16712103341372525
         },
         {
          "param": "betaA",
          "value": 0.057486700309306304
         },
         {
          "param": "betaA",
          "value": 0.14486343362057025
         },
         {
          "param": "betaA",
          "value": 0.06175409658582873
         },
         {
          "param": "betaA",
          "value": -0.0021633454163464926
         },
         {
          "param": "betaA",
          "value": 0.059010076507723185
         },
         {
          "param": "betaA",
          "value": -0.032119432473210544
         },
         {
          "param": "betaA",
          "value": 0.06663191403503624
         },
         {
          "param": "betaA",
          "value": 0.08216672429456381
         },
         {
          "param": "betaA",
          "value": 0.06443279793745468
         },
         {
          "param": "betaA",
          "value": 0.05009562123712938
         },
         {
          "param": "betaA",
          "value": 0.04946173939690974
         },
         {
          "param": "betaA",
          "value": 0.007063468721245199
         },
         {
          "param": "betaA",
          "value": 0.024974348607546843
         },
         {
          "param": "betaA",
          "value": -0.07010896059424318
         },
         {
          "param": "betaA",
          "value": -0.006960209460624816
         },
         {
          "param": "betaA",
          "value": -0.0011016149846528774
         },
         {
          "param": "betaA",
          "value": 0.024974348607546843
         },
         {
          "param": "betaA",
          "value": 0.23081043673620033
         },
         {
          "param": "betaA",
          "value": 0.08396135761534004
         },
         {
          "param": "betaA",
          "value": 0.07363372705284621
         },
         {
          "param": "betaA",
          "value": -0.07325871609188214
         },
         {
          "param": "betaA",
          "value": -0.04532789447943808
         },
         {
          "param": "betaA",
          "value": 0.17886168974460023
         },
         {
          "param": "betaA",
          "value": 0.05480869787145565
         },
         {
          "param": "betaA",
          "value": 0.09706967010974099
         },
         {
          "param": "betaA",
          "value": -0.050352883326637315
         },
         {
          "param": "betaA",
          "value": 0.27823600602560083
         },
         {
          "param": "betaA",
          "value": 0.008683164881895813
         },
         {
          "param": "betaA",
          "value": 0.04187192494974143
         },
         {
          "param": "betaA",
          "value": 0.059350743298111144
         },
         {
          "param": "betaA",
          "value": 0.1577096118387185
         },
         {
          "param": "betaA",
          "value": 0.12317004897998084
         },
         {
          "param": "betaA",
          "value": -0.055582847830096004
         },
         {
          "param": "betaA",
          "value": 0.1466751597638028
         },
         {
          "param": "betaA",
          "value": -0.01944200534197643
         },
         {
          "param": "betaA",
          "value": 0.10534100404240292
         },
         {
          "param": "betaA",
          "value": 0.07662488906684978
         },
         {
          "param": "betaA",
          "value": -0.04976746352404658
         },
         {
          "param": "betaA",
          "value": 0.18789112451958798
         },
         {
          "param": "betaA",
          "value": 0.05791235700135662
         },
         {
          "param": "betaA",
          "value": 0.0637392502022103
         },
         {
          "param": "betaA",
          "value": -0.04756793151940659
         },
         {
          "param": "betaA",
          "value": 0.24094827883675818
         },
         {
          "param": "betaA",
          "value": -0.13582026174004036
         },
         {
          "param": "betaA",
          "value": 0.21872067566013417
         },
         {
          "param": "betaA",
          "value": 0.11923767293865817
         },
         {
          "param": "betaA",
          "value": 0.31459314841641295
         },
         {
          "param": "betaA",
          "value": 0.10083831946874262
         },
         {
          "param": "betaA",
          "value": 0.14109053831644797
         },
         {
          "param": "betaA",
          "value": 0.034417098128097984
         },
         {
          "param": "betaA",
          "value": -0.170740843898874
         },
         {
          "param": "betaA",
          "value": -0.015581384067286416
         },
         {
          "param": "betaA",
          "value": 0.14664751750886437
         },
         {
          "param": "betaA",
          "value": 0.08469156457304237
         },
         {
          "param": "betaA",
          "value": -0.01254488697621084
         },
         {
          "param": "betaA",
          "value": 0.00986707484755953
         },
         {
          "param": "betaA",
          "value": 0.056115813443479254
         },
         {
          "param": "betaA",
          "value": 0.2460790477440289
         },
         {
          "param": "betaA",
          "value": 0.22065120642201147
         },
         {
          "param": "betaA",
          "value": 0.029838004731378792
         },
         {
          "param": "betaA",
          "value": 0.10357818828183424
         },
         {
          "param": "betaA",
          "value": 0.0004284097802442488
         },
         {
          "param": "betaA",
          "value": -0.1261926892221003
         },
         {
          "param": "betaA",
          "value": 0.18156300010376988
         },
         {
          "param": "betaA",
          "value": -0.03679817111820606
         },
         {
          "param": "betaA",
          "value": 0.000485016497149696
         },
         {
          "param": "betaA",
          "value": 0.11065671381069568
         },
         {
          "param": "betaA",
          "value": 0.21692826440465146
         },
         {
          "param": "betaA",
          "value": -0.015061013394638941
         },
         {
          "param": "betaA",
          "value": 0.15621818811755428
         },
         {
          "param": "betaA",
          "value": -0.10202400389736588
         },
         {
          "param": "betaA",
          "value": 0.10494458361835406
         },
         {
          "param": "betaA",
          "value": 0.07765159627105644
         },
         {
          "param": "betaA",
          "value": -0.1159864536256006
         },
         {
          "param": "betaA",
          "value": -0.09941234132131352
         },
         {
          "param": "betaA",
          "value": -0.02699419549456012
         },
         {
          "param": "betaA",
          "value": 0.004674325484752592
         },
         {
          "param": "betaA",
          "value": -0.01063049759793798
         },
         {
          "param": "betaA",
          "value": -0.268515544680619
         },
         {
          "param": "betaA",
          "value": -0.07974716200945921
         },
         {
          "param": "betaA",
          "value": 0.09389044592002695
         },
         {
          "param": "betaA",
          "value": 0.08252139960025782
         },
         {
          "param": "betaA",
          "value": -0.18568087048054266
         },
         {
          "param": "betaA",
          "value": 0.1424639693065953
         },
         {
          "param": "betaA",
          "value": 0.0859071858277688
         },
         {
          "param": "betaA",
          "value": 0.08650181648513894
         },
         {
          "param": "betaA",
          "value": 0.013644948266799711
         },
         {
          "param": "betaA",
          "value": -0.02790581814400986
         },
         {
          "param": "betaA",
          "value": 0.12971564314745804
         },
         {
          "param": "betaA",
          "value": -0.10441897170603728
         },
         {
          "param": "betaS",
          "value": 0.6010270247576928
         },
         {
          "param": "betaS",
          "value": 0.7670265746818826
         },
         {
          "param": "betaS",
          "value": 0.7535715823184543
         },
         {
          "param": "betaS",
          "value": 0.6845935362197209
         },
         {
          "param": "betaS",
          "value": 0.703004714638789
         },
         {
          "param": "betaS",
          "value": 0.589086497477682
         },
         {
          "param": "betaS",
          "value": 0.7549701620878726
         },
         {
          "param": "betaS",
          "value": 0.7989752598557387
         },
         {
          "param": "betaS",
          "value": 0.6820329840947669
         },
         {
          "param": "betaS",
          "value": 0.7259721857513333
         },
         {
          "param": "betaS",
          "value": 0.8436602296116743
         },
         {
          "param": "betaS",
          "value": 0.5792514138906193
         },
         {
          "param": "betaS",
          "value": 0.604772351792183
         },
         {
          "param": "betaS",
          "value": 0.7087097269486824
         },
         {
          "param": "betaS",
          "value": 0.5866743712703331
         },
         {
          "param": "betaS",
          "value": 0.5815042051854564
         },
         {
          "param": "betaS",
          "value": 0.7105454719636097
         },
         {
          "param": "betaS",
          "value": 0.5784020402909686
         },
         {
          "param": "betaS",
          "value": 0.7442252646972275
         },
         {
          "param": "betaS",
          "value": 0.9024054247115979
         },
         {
          "param": "betaS",
          "value": 0.4927418094423632
         },
         {
          "param": "betaS",
          "value": 0.8215915419968035
         },
         {
          "param": "betaS",
          "value": 0.5122730207492454
         },
         {
          "param": "betaS",
          "value": 0.9478236264276553
         },
         {
          "param": "betaS",
          "value": 0.4796346473340552
         },
         {
          "param": "betaS",
          "value": 0.7663490219253525
         },
         {
          "param": "betaS",
          "value": 0.6114517554726433
         },
         {
          "param": "betaS",
          "value": 0.8561600500163741
         },
         {
          "param": "betaS",
          "value": 0.7642604713034314
         },
         {
          "param": "betaS",
          "value": 0.5020911626076632
         },
         {
          "param": "betaS",
          "value": 0.7377278583376534
         },
         {
          "param": "betaS",
          "value": 0.590069316319402
         },
         {
          "param": "betaS",
          "value": 0.5665508247247991
         },
         {
          "param": "betaS",
          "value": 0.8376275810677098
         },
         {
          "param": "betaS",
          "value": 0.6596105892036764
         },
         {
          "param": "betaS",
          "value": 0.7176506118876529
         },
         {
          "param": "betaS",
          "value": 0.624792999787356
         },
         {
          "param": "betaS",
          "value": 0.867367724675015
         },
         {
          "param": "betaS",
          "value": 0.5484061176593402
         },
         {
          "param": "betaS",
          "value": 0.5431195242940319
         },
         {
          "param": "betaS",
          "value": 0.5713966873815667
         },
         {
          "param": "betaS",
          "value": 0.7075265645590059
         },
         {
          "param": "betaS",
          "value": 0.7205719129357879
         },
         {
          "param": "betaS",
          "value": 0.7127313167719109
         },
         {
          "param": "betaS",
          "value": 0.8432347853834675
         },
         {
          "param": "betaS",
          "value": 0.5307627481211373
         },
         {
          "param": "betaS",
          "value": 0.6798029398573273
         },
         {
          "param": "betaS",
          "value": 0.58178296484656
         },
         {
          "param": "betaS",
          "value": 0.6151344495199643
         },
         {
          "param": "betaS",
          "value": 0.6040678512921016
         },
         {
          "param": "betaS",
          "value": 0.674684808299271
         },
         {
          "param": "betaS",
          "value": 0.655835580905794
         },
         {
          "param": "betaS",
          "value": 0.5973271656878737
         },
         {
          "param": "betaS",
          "value": 0.7469883699605484
         },
         {
          "param": "betaS",
          "value": 0.6806567730956664
         },
         {
          "param": "betaS",
          "value": 0.6601195466873927
         },
         {
          "param": "betaS",
          "value": 0.6481412538631224
         },
         {
          "param": "betaS",
          "value": 0.5475726603529242
         },
         {
          "param": "betaS",
          "value": 0.7439136449058168
         },
         {
          "param": "betaS",
          "value": 0.645365077112133
         },
         {
          "param": "betaS",
          "value": 0.756200613424349
         },
         {
          "param": "betaS",
          "value": 0.7498789193583137
         },
         {
          "param": "betaS",
          "value": 0.6150887453344441
         },
         {
          "param": "betaS",
          "value": 0.8393651626851503
         },
         {
          "param": "betaS",
          "value": 0.663204097670772
         },
         {
          "param": "betaS",
          "value": 0.6798675542350273
         },
         {
          "param": "betaS",
          "value": 0.8847771087444004
         },
         {
          "param": "betaS",
          "value": 0.5330292643953476
         },
         {
          "param": "betaS",
          "value": 0.6517674422569165
         },
         {
          "param": "betaS",
          "value": 0.5599657213098176
         },
         {
          "param": "betaS",
          "value": 0.7496356882405546
         },
         {
          "param": "betaS",
          "value": 0.6901849796670959
         },
         {
          "param": "betaS",
          "value": 0.6858334873363681
         },
         {
          "param": "betaS",
          "value": 0.6417252119053123
         },
         {
          "param": "betaS",
          "value": 0.45517186639969626
         },
         {
          "param": "betaS",
          "value": 0.7284188011340719
         },
         {
          "param": "betaS",
          "value": 0.6008044799679572
         },
         {
          "param": "betaS",
          "value": 0.8501144031156959
         },
         {
          "param": "betaS",
          "value": 0.8897434612280677
         },
         {
          "param": "betaS",
          "value": 0.8965426416583788
         },
         {
          "param": "betaS",
          "value": 0.6768082765640657
         },
         {
          "param": "betaS",
          "value": 0.5145908703299025
         },
         {
          "param": "betaS",
          "value": 0.5942759690503306
         },
         {
          "param": "betaS",
          "value": 0.8273417767023681
         },
         {
          "param": "betaS",
          "value": 0.5984693414620195
         },
         {
          "param": "betaS",
          "value": 0.6880279065281718
         },
         {
          "param": "betaS",
          "value": 0.7800794712338359
         },
         {
          "param": "betaS",
          "value": 0.7741746090672963
         },
         {
          "param": "betaS",
          "value": 0.73991173205523
         },
         {
          "param": "betaS",
          "value": 0.7214335393401224
         },
         {
          "param": "betaS",
          "value": 0.8093318504049302
         },
         {
          "param": "betaS",
          "value": 0.5530572285223357
         },
         {
          "param": "betaS",
          "value": 0.8240549662047562
         },
         {
          "param": "betaS",
          "value": 0.5518168240856927
         },
         {
          "param": "betaS",
          "value": 0.5757328935545092
         },
         {
          "param": "betaS",
          "value": 0.583073536267961
         },
         {
          "param": "betaS",
          "value": 0.5522689099752807
         },
         {
          "param": "betaS",
          "value": 0.6349781337541898
         },
         {
          "param": "betaS",
          "value": 0.786763818654839
         },
         {
          "param": "betaS",
          "value": 0.8080374697772974
         },
         {
          "param": "betaS",
          "value": 0.8365967873419304
         },
         {
          "param": "betaS",
          "value": 0.7471137150236403
         },
         {
          "param": "betaS",
          "value": 0.6919571158290234
         },
         {
          "param": "betaS",
          "value": 0.5969228634238662
         },
         {
          "param": "betaS",
          "value": 0.4971943356090902
         },
         {
          "param": "betaS",
          "value": 0.7393399797564107
         },
         {
          "param": "betaS",
          "value": 0.7290960706733587
         },
         {
          "param": "betaS",
          "value": 0.7449507759088849
         },
         {
          "param": "betaS",
          "value": 0.41152743697722016
         },
         {
          "param": "betaS",
          "value": 0.7968571762047526
         },
         {
          "param": "betaS",
          "value": 0.7097139985499843
         },
         {
          "param": "betaS",
          "value": 0.5961501202884021
         },
         {
          "param": "betaS",
          "value": 0.711423818011325
         },
         {
          "param": "betaS",
          "value": 0.6412742343569633
         },
         {
          "param": "betaS",
          "value": 0.8467428529332097
         },
         {
          "param": "betaS",
          "value": 0.6245147893749722
         },
         {
          "param": "betaS",
          "value": 0.6999155459875228
         },
         {
          "param": "betaS",
          "value": 0.5529125236359907
         },
         {
          "param": "betaS",
          "value": 0.4743519245733709
         },
         {
          "param": "betaS",
          "value": 0.6973086398271512
         },
         {
          "param": "betaS",
          "value": 0.5679961750208732
         },
         {
          "param": "betaS",
          "value": 0.6355380914803131
         },
         {
          "param": "betaS",
          "value": 0.8016070138770233
         },
         {
          "param": "betaS",
          "value": 0.6758593063454229
         },
         {
          "param": "betaS",
          "value": 0.6676369573678139
         },
         {
          "param": "betaS",
          "value": 0.6773139227773025
         },
         {
          "param": "betaS",
          "value": 0.47176416857242026
         },
         {
          "param": "betaS",
          "value": 0.8283371531618328
         },
         {
          "param": "betaS",
          "value": 0.47491729419928935
         },
         {
          "param": "betaS",
          "value": 0.7978132749196339
         },
         {
          "param": "betaS",
          "value": 0.8636974832691113
         },
         {
          "param": "betaS",
          "value": 0.6871756012715786
         },
         {
          "param": "betaS",
          "value": 0.5004090648160591
         },
         {
          "param": "betaS",
          "value": 0.5848589088758404
         },
         {
          "param": "betaS",
          "value": 0.5475908596089922
         },
         {
          "param": "betaS",
          "value": 0.6871756012715786
         },
         {
          "param": "betaS",
          "value": 0.6940459616993436
         },
         {
          "param": "betaS",
          "value": 0.8909135915112608
         },
         {
          "param": "betaS",
          "value": 0.6423066301527975
         },
         {
          "param": "betaS",
          "value": 0.7641912780652989
         },
         {
          "param": "betaS",
          "value": 0.5459270059737613
         },
         {
          "param": "betaS",
          "value": 0.5007079631484274
         },
         {
          "param": "betaS",
          "value": 0.8353490717783933
         },
         {
          "param": "betaS",
          "value": 0.8007805202232849
         },
         {
          "param": "betaS",
          "value": 0.7638990503894667
         },
         {
          "param": "betaS",
          "value": 0.6585678342016981
         },
         {
          "param": "betaS",
          "value": 0.749753215603611
         },
         {
          "param": "betaS",
          "value": 0.558783302183022
         },
         {
          "param": "betaS",
          "value": 0.6981784340064981
         },
         {
          "param": "betaS",
          "value": 0.6741001066415118
         },
         {
          "param": "betaS",
          "value": 0.6441360905622676
         },
         {
          "param": "betaS",
          "value": 0.6248583875768063
         },
         {
          "param": "betaS",
          "value": 0.6211679105462955
         },
         {
          "param": "betaS",
          "value": 0.8301602256940329
         },
         {
          "param": "betaS",
          "value": 0.6239051605118346
         },
         {
          "param": "betaS",
          "value": 0.7238500342182512
         },
         {
          "param": "betaS",
          "value": 0.6058021362463676
         },
         {
          "param": "betaS",
          "value": 0.7515688273635015
         },
         {
          "param": "betaS",
          "value": 0.6994665282301644
         },
         {
          "param": "betaS",
          "value": 0.9133825834505531
         },
         {
          "param": "betaS",
          "value": 0.7136592904958384
         },
         {
          "param": "betaS",
          "value": 0.7089854174121627
         },
         {
          "param": "betaS",
          "value": 0.8470186716713183
         },
         {
          "param": "betaS",
          "value": 0.3328165770895183
         },
         {
          "param": "betaS",
          "value": 0.5190655211493947
         },
         {
          "param": "betaS",
          "value": 0.785495207449638
         },
         {
          "param": "betaS",
          "value": 0.7728126690897603
         },
         {
          "param": "betaS",
          "value": 0.8767542081588263
         },
         {
          "param": "betaS",
          "value": 0.7082364085347099
         },
         {
          "param": "betaS",
          "value": 0.7444448729601415
         },
         {
          "param": "betaS",
          "value": 0.6430705677088407
         },
         {
          "param": "betaS",
          "value": 0.8497388608915672
         },
         {
          "param": "betaS",
          "value": 0.5512623107535937
         },
         {
          "param": "betaS",
          "value": 0.64586266657256
         },
         {
          "param": "betaS",
          "value": 0.7997459329115303
         },
         {
          "param": "betaS",
          "value": 0.384928115781067
         },
         {
          "param": "betaS",
          "value": 0.8546371638574959
         },
         {
          "param": "betaS",
          "value": 0.6119432906035376
         },
         {
          "param": "betaS",
          "value": 0.4964241709229452
         },
         {
          "param": "betaS",
          "value": 0.3951329941869744
         },
         {
          "param": "betaS",
          "value": 0.7446850497129484
         },
         {
          "param": "betaS",
          "value": 0.5962055637479139
         },
         {
          "param": "betaS",
          "value": 0.8367010773954017
         },
         {
          "param": "betaS",
          "value": 0.4563520444338438
         },
         {
          "param": "betaS",
          "value": 0.6644077749869052
         },
         {
          "param": "betaS",
          "value": 0.685084241094025
         },
         {
          "param": "betaS",
          "value": 0.6576925267870204
         },
         {
          "param": "betaS",
          "value": 0.6280962764844993
         },
         {
          "param": "betaS",
          "value": 0.6643562097399596
         },
         {
          "param": "betaS",
          "value": 0.7084693719988836
         },
         {
          "param": "betaS",
          "value": 0.6478861594578481
         },
         {
          "param": "betaS",
          "value": 0.5467997445836772
         },
         {
          "param": "betaS",
          "value": 0.8031536575993711
         },
         {
          "param": "betaS",
          "value": 0.8598356232457498
         },
         {
          "param": "betaS",
          "value": 0.7036708327817894
         },
         {
          "param": "betaS",
          "value": 0.6232378568444427
         },
         {
          "param": "betaS",
          "value": 0.5932186791506552
         },
         {
          "param": "betaS",
          "value": 0.9421713471555093
         },
         {
          "param": "betaS",
          "value": 0.6232780773681358
         },
         {
          "param": "betaS",
          "value": 0.681720371908373
         },
         {
          "param": "betaS",
          "value": 0.6309880316057697
         },
         {
          "param": "betaS",
          "value": 0.7159155822218576
         },
         {
          "param": "betaS",
          "value": 0.6348341571931099
         },
         {
          "param": "betaS",
          "value": 0.6127365399374208
         },
         {
          "param": "betaS",
          "value": 0.5477381509919226
         },
         {
          "param": "betaS",
          "value": 0.7060215997817552
         },
         {
          "param": "betaS",
          "value": 0.6985875006138496
         },
         {
          "param": "betaS",
          "value": 0.6397598043001089
         },
         {
          "param": "betaS",
          "value": 0.6647854617679988
         },
         {
          "param": "betaS",
          "value": 0.6487451113712454
         },
         {
          "param": "betaS",
          "value": 0.5586111560586876
         },
         {
          "param": "betaS",
          "value": 0.6090140624509105
         },
         {
          "param": "betaS",
          "value": 0.6946344973716511
         },
         {
          "param": "betaS",
          "value": 0.7162424678876831
         },
         {
          "param": "betaS",
          "value": 0.7270461761507334
         },
         {
          "param": "betaS",
          "value": 0.8021181916392333
         },
         {
          "param": "betaS",
          "value": 0.8207220501219666
         },
         {
          "param": "betaS",
          "value": 0.5963539577151562
         },
         {
          "param": "betaS",
          "value": 0.7767657670681853
         },
         {
          "param": "betaS",
          "value": 0.6579427999447856
         },
         {
          "param": "betaS",
          "value": 0.7512200997697034
         },
         {
          "param": "betaS",
          "value": 0.5737781922189534
         },
         {
          "param": "betaS",
          "value": 0.6104080302868008
         },
         {
          "param": "betaS",
          "value": 0.6719458965519326
         },
         {
          "param": "betaS",
          "value": 0.6064076647899753
         },
         {
          "param": "betaS",
          "value": 0.7411370052826012
         },
         {
          "param": "betaS",
          "value": 0.6068183307242929
         },
         {
          "param": "betaS",
          "value": 0.737872293013298
         },
         {
          "param": "betaS",
          "value": 0.5417903628660535
         },
         {
          "param": "betaS",
          "value": 0.6688341567108157
         },
         {
          "param": "betaS",
          "value": 0.7895748178888865
         },
         {
          "param": "betaS",
          "value": 0.8100146511845272
         },
         {
          "param": "betaS",
          "value": 0.5665279824718918
         },
         {
          "param": "betaS",
          "value": 0.7148045291294821
         },
         {
          "param": "betaS",
          "value": 0.6222026543332483
         },
         {
          "param": "betaS",
          "value": 0.6467319360112579
         },
         {
          "param": "betaS",
          "value": 0.7317045405893621
         },
         {
          "param": "betaS",
          "value": 0.5303509851761639
         },
         {
          "param": "betaS",
          "value": 0.6311585545223471
         },
         {
          "param": "betaS",
          "value": 0.6463279699566755
         },
         {
          "param": "betaS",
          "value": 0.533985706066647
         },
         {
          "param": "betaS",
          "value": 0.663301862067852
         },
         {
          "param": "betaS",
          "value": 0.5821929615697976
         },
         {
          "param": "betaS",
          "value": 0.6500300286876391
         },
         {
          "param": "betaS",
          "value": 0.5496006341847268
         },
         {
          "param": "betaS",
          "value": 0.7567637234769262
         },
         {
          "param": "betaS",
          "value": 0.4188441853635221
         },
         {
          "param": "betaS",
          "value": 0.7415900865373792
         },
         {
          "param": "betaS",
          "value": 0.6285053464946123
         },
         {
          "param": "betaS",
          "value": 0.49304522482404267
         },
         {
          "param": "betaS",
          "value": 0.5216230253903096
         },
         {
          "param": "betaS",
          "value": 0.762021087165862
         },
         {
          "param": "betaS",
          "value": 0.6142657708075846
         },
         {
          "param": "betaS",
          "value": 0.711247914871812
         },
         {
          "param": "betaS",
          "value": 0.5582039033445002
         },
         {
          "param": "betaS",
          "value": 0.5689944037424269
         },
         {
          "param": "betaS",
          "value": 0.8456296260131624
         },
         {
          "param": "betaS",
          "value": 0.7508802896922534
         },
         {
          "param": "betaS",
          "value": 0.6342429097889195
         },
         {
          "param": "betaS",
          "value": 0.6268801658448718
         },
         {
          "param": "betaS",
          "value": 0.6086414792514006
         },
         {
          "param": "betaS",
          "value": 0.48781081407751065
         },
         {
          "param": "betaS",
          "value": 0.720601960038504
         },
         {
          "param": "betaS",
          "value": 0.6433132083523055
         },
         {
          "param": "betaS",
          "value": 0.6959952913086898
         },
         {
          "param": "betaS",
          "value": 0.865118192781336
         },
         {
          "param": "betaS",
          "value": 0.5030353853047372
         },
         {
          "param": "betaS",
          "value": 0.7588950182921387
         },
         {
          "param": "betaS",
          "value": 0.5513492475310113
         },
         {
          "param": "betaS",
          "value": 0.5971561897886043
         },
         {
          "param": "betaS",
          "value": 0.5416003497085083
         },
         {
          "param": "betaS",
          "value": 0.5838644639111323
         },
         {
          "param": "betaS",
          "value": 0.6433903852268844
         },
         {
          "param": "betaS",
          "value": 0.49811101953556464
         },
         {
          "param": "betaS",
          "value": 0.498079607125602
         },
         {
          "param": "betaS",
          "value": 0.46969360829692625
         },
         {
          "param": "betaS",
          "value": 0.5632647710540228
         },
         {
          "param": "betaS",
          "value": 0.4880463496776997
         },
         {
          "param": "betaS",
          "value": 0.5092184448891834
         },
         {
          "param": "betaS",
          "value": 0.6288696491452745
         },
         {
          "param": "betaS",
          "value": 0.7765243453850503
         },
         {
          "param": "betaS",
          "value": 0.5172818066631681
         },
         {
          "param": "betaS",
          "value": 0.7574805909991469
         },
         {
          "param": "betaS",
          "value": 0.6922495443004547
         },
         {
          "param": "betaS",
          "value": 0.5430439612770616
         },
         {
          "param": "betaS",
          "value": 0.5929319337218711
         },
         {
          "param": "betaS",
          "value": 0.6439837497559288
         },
         {
          "param": "betaS",
          "value": 0.7576889968281983
         },
         {
          "param": "betaS",
          "value": 0.6919269713347549
         },
         {
          "param": "betaS",
          "value": 0.6466029581418266
         },
         {
          "param": "betaS",
          "value": 0.5773995236704613
         },
         {
          "param": "betaS",
          "value": 0.5935697008650151
         },
         {
          "param": "betaS",
          "value": 0.5671965251723661
         },
         {
          "param": "betaS",
          "value": 0.6820575838661661
         },
         {
          "param": "betaS",
          "value": 0.6090221524408058
         },
         {
          "param": "betaS",
          "value": 0.7899690212270228
         },
         {
          "param": "betaS",
          "value": 0.6984865312313799
         },
         {
          "param": "betaS",
          "value": 0.6465213696111015
         },
         {
          "param": "betaS",
          "value": 0.6640581319996943
         },
         {
          "param": "betaS",
          "value": 0.5300536644708156
         },
         {
          "param": "betaS",
          "value": 0.6584795386225383
         },
         {
          "param": "betaS",
          "value": 0.6892671775395243
         },
         {
          "param": "betaS",
          "value": 0.674357873513642
         },
         {
          "param": "betaS",
          "value": 0.6806676896613716
         },
         {
          "param": "betaS",
          "value": 0.8201202346953806
         },
         {
          "param": "betaS",
          "value": 0.5928148839106273
         },
         {
          "param": "betaS",
          "value": 0.533555291186499
         },
         {
          "param": "betaS",
          "value": 0.6896868261822647
         },
         {
          "param": "betaS",
          "value": 0.8863919499138144
         },
         {
          "param": "betaS",
          "value": 0.619641245886261
         },
         {
          "param": "betaS",
          "value": 0.7216858495684808
         },
         {
          "param": "betaS",
          "value": 0.8368263971169577
         },
         {
          "param": "betaS",
          "value": 0.5524362322268115
         },
         {
          "param": "betaS",
          "value": 0.7509381279121287
         },
         {
          "param": "betaS",
          "value": 0.5300425344756687
         },
         {
          "param": "betaS",
          "value": 0.7402395891384302
         },
         {
          "param": "betaS",
          "value": 0.6979834218790053
         },
         {
          "param": "betaS",
          "value": 0.7509381279121287
         },
         {
          "param": "betaS",
          "value": 0.7246296343107125
         },
         {
          "param": "betaS",
          "value": 0.5492329357372907
         },
         {
          "param": "betaS",
          "value": 0.9072884715966871
         },
         {
          "param": "betaS",
          "value": 0.5998205000374797
         },
         {
          "param": "betaS",
          "value": 0.592137580594676
         },
         {
          "param": "betaS",
          "value": 0.7037007830626166
         },
         {
          "param": "betaS",
          "value": 0.7448525804319099
         },
         {
          "param": "betaS",
          "value": 0.764047422337147
         },
         {
          "param": "betaS",
          "value": 0.7432892578146929
         },
         {
          "param": "betaS",
          "value": 0.6702664646617603
         },
         {
          "param": "betaS",
          "value": 0.5641752672254633
         },
         {
          "param": "betaS",
          "value": 0.8380979395550416
         },
         {
          "param": "betaS",
          "value": 0.5460911059582021
         },
         {
          "param": "betaS",
          "value": 0.6736254921006679
         },
         {
          "param": "betaS",
          "value": 0.455836921697553
         },
         {
          "param": "betaS",
          "value": 0.5388645755637093
         },
         {
          "param": "betaS",
          "value": 0.8255170437358532
         },
         {
          "param": "betaS",
          "value": 0.5676910531946573
         },
         {
          "param": "betaS",
          "value": 0.7457739445876598
         },
         {
          "param": "betaS",
          "value": 0.8371312331727013
         },
         {
          "param": "betaS",
          "value": 0.7730449609044443
         },
         {
          "param": "betaS",
          "value": 0.7043448305487429
         },
         {
          "param": "betaS",
          "value": 0.5836781273560235
         },
         {
          "param": "betaS",
          "value": 0.7095881498879063
         },
         {
          "param": "betaS",
          "value": 0.6104103855389349
         },
         {
          "param": "betaS",
          "value": 0.657820637828709
         },
         {
          "param": "betaS",
          "value": 0.6784415722355371
         },
         {
          "param": "betaS",
          "value": 0.6654836397251976
         },
         {
          "param": "betaS",
          "value": 0.4903409742754709
         },
         {
          "param": "betaS",
          "value": 0.5427816119590608
         },
         {
          "param": "betaS",
          "value": 0.6342505070920069
         },
         {
          "param": "betaS",
          "value": 0.8016982364605885
         },
         {
          "param": "betaS",
          "value": 0.6356332746208448
         },
         {
          "param": "betaS",
          "value": 0.6687547325993981
         },
         {
          "param": "betaS",
          "value": 0.5999412233226592
         },
         {
          "param": "betaS",
          "value": 0.6404907187626273
         },
         {
          "param": "betaS",
          "value": 0.7555508133099371
         },
         {
          "param": "betaS",
          "value": 0.6032153811184156
         },
         {
          "param": "betaS",
          "value": 0.7612564573932595
         },
         {
          "param": "betaS",
          "value": 0.5878093161179403
         },
         {
          "param": "betaS",
          "value": 0.516752254815901
         },
         {
          "param": "betaS",
          "value": 0.5271379406082375
         },
         {
          "param": "betaS",
          "value": 0.5552753026395102
         },
         {
          "param": "betaS",
          "value": 0.5892111627196316
         },
         {
          "param": "betaS",
          "value": 0.70482723999271
         },
         {
          "param": "betaS",
          "value": 0.5463163737857181
         },
         {
          "param": "betaS",
          "value": 0.6625873063912362
         },
         {
          "param": "betaS",
          "value": 0.8264505289482621
         },
         {
          "param": "betaS",
          "value": 0.661124211321603
         },
         {
          "param": "betaS",
          "value": 0.756101629774949
         },
         {
          "param": "betaS",
          "value": 0.7206774141559967
         },
         {
          "param": "betaS",
          "value": 0.741711906595497
         },
         {
          "param": "betaS",
          "value": 0.5489990984576056
         },
         {
          "param": "betaS",
          "value": 0.5881626539459421
         },
         {
          "param": "betaS",
          "value": 0.6153551321546782
         },
         {
          "param": "betaS",
          "value": 0.551726228426501
         },
         {
          "param": "betaS",
          "value": 0.5419812477461459
         },
         {
          "param": "betaS",
          "value": 0.858242739152725
         },
         {
          "param": "betaS",
          "value": 0.7998974047002948
         },
         {
          "param": "betaS",
          "value": 0.5373328249091688
         },
         {
          "param": "betaS",
          "value": 0.7612392164486378
         },
         {
          "param": "betaS",
          "value": 0.7945106906025928
         },
         {
          "param": "betaS",
          "value": 0.7716271497262832
         },
         {
          "param": "betaS",
          "value": 0.7910170612341898
         },
         {
          "param": "betaS",
          "value": 0.7368317896432197
         },
         {
          "param": "betaS",
          "value": 0.6773144937462082
         },
         {
          "param": "betaS",
          "value": 0.6366374852600968
         },
         {
          "param": "betaS",
          "value": 0.5428457026934267
         },
         {
          "param": "betaS",
          "value": 0.5344703801477481
         },
         {
          "param": "betaS",
          "value": 0.8756992158335133
         },
         {
          "param": "betaS",
          "value": 0.6729838660007851
         },
         {
          "param": "betaS",
          "value": 0.7777939403200336
         },
         {
          "param": "betaS",
          "value": 0.6070614775671435
         },
         {
          "param": "betaS",
          "value": 0.5650140509177473
         },
         {
          "param": "betaS",
          "value": 0.507570017526826
         },
         {
          "param": "betaS",
          "value": 0.7659385160850419
         },
         {
          "param": "betaS",
          "value": 0.8026924147875443
         },
         {
          "param": "betaS",
          "value": 0.7334326290739046
         },
         {
          "param": "betaS",
          "value": 0.6351851936769921
         },
         {
          "param": "betaS",
          "value": 0.653576487131613
         },
         {
          "param": "betaS",
          "value": 0.5016373982478092
         },
         {
          "param": "betaS",
          "value": 0.7526528898504873
         },
         {
          "param": "betaS",
          "value": 0.6695451005156605
         },
         {
          "param": "betaS",
          "value": 0.7200296335869146
         },
         {
          "param": "betaS",
          "value": 0.724013850741843
         },
         {
          "param": "betaS",
          "value": 0.6783223351332346
         },
         {
          "param": "betaS",
          "value": 0.5534903312832741
         },
         {
          "param": "betaS",
          "value": 0.6302095048136073
         },
         {
          "param": "betaS",
          "value": 0.6170368702937797
         },
         {
          "param": "betaS",
          "value": 0.6181904252473861
         },
         {
          "param": "betaS",
          "value": 0.5718645085223195
         },
         {
          "param": "betaS",
          "value": 0.5294461382122132
         },
         {
          "param": "betaS",
          "value": 0.6406611011056256
         },
         {
          "param": "betaS",
          "value": 0.6047447952083248
         },
         {
          "param": "betaS",
          "value": 0.7664737496316502
         },
         {
          "param": "betaS",
          "value": 0.8131628024776741
         },
         {
          "param": "betaS",
          "value": 0.5495825555275102
         },
         {
          "param": "betaS",
          "value": 0.5566251148030448
         },
         {
          "param": "betaS",
          "value": 0.4492103420900554
         },
         {
          "param": "betaS",
          "value": 0.8507924418454271
         },
         {
          "param": "betaS",
          "value": 0.6615001985781879
         },
         {
          "param": "betaS",
          "value": 0.5019508195532778
         },
         {
          "param": "betaS",
          "value": 0.914952514792421
         },
         {
          "param": "betaS",
          "value": 0.4439687435786612
         },
         {
          "param": "betaS",
          "value": 0.7485923929217305
         },
         {
          "param": "betaS",
          "value": 0.5065052158941183
         },
         {
          "param": "betaS",
          "value": 0.531716175128452
         },
         {
          "param": "betaS",
          "value": 0.5377701965580493
         },
         {
          "param": "betaS",
          "value": 0.8191842718594557
         },
         {
          "param": "betaS",
          "value": 0.45228828575071317
         },
         {
          "param": "betaS",
          "value": 0.7163892214620731
         },
         {
          "param": "betaS",
          "value": 0.5963521498668964
         },
         {
          "param": "betaS",
          "value": 0.7780748698322222
         },
         {
          "param": "betaS",
          "value": 0.5633963307055324
         },
         {
          "param": "betaS",
          "value": 0.6778538400276788
         },
         {
          "param": "betaS",
          "value": 0.7892084174229773
         },
         {
          "param": "betaS",
          "value": 0.6550479650081085
         },
         {
          "param": "betaS",
          "value": 0.6632567155770093
         },
         {
          "param": "betaS",
          "value": 0.632191724126481
         },
         {
          "param": "betaS",
          "value": 0.8540790378516568
         },
         {
          "param": "betaS",
          "value": 0.8441657177935901
         },
         {
          "param": "betaS",
          "value": 0.6528498911439191
         },
         {
          "param": "betaS",
          "value": 0.800551220500246
         },
         {
          "param": "betaS",
          "value": 0.4909544107695931
         },
         {
          "param": "betaS",
          "value": 0.654926255423526
         },
         {
          "param": "betaS",
          "value": 0.8090826640211956
         },
         {
          "param": "betaS",
          "value": 0.7873317405163126
         },
         {
          "param": "betaS",
          "value": 0.5354157300323911
         },
         {
          "param": "betaS",
          "value": 0.6786438341927591
         },
         {
          "param": "betaS",
          "value": 0.8090826640211956
         },
         {
          "param": "betaS",
          "value": 0.6370271489604705
         },
         {
          "param": "betaS",
          "value": 0.4912035195651261
         },
         {
          "param": "betaS",
          "value": 0.7629645693898166
         },
         {
          "param": "betaS",
          "value": 0.5823146432891301
         },
         {
          "param": "betaS",
          "value": 0.5815514850700614
         },
         {
          "param": "betaS",
          "value": 0.4044708117042435
         },
         {
          "param": "betaS",
          "value": 0.7735979522904868
         },
         {
          "param": "betaS",
          "value": 0.6947409385942945
         },
         {
          "param": "betaS",
          "value": 0.6310705563185223
         },
         {
          "param": "betaS",
          "value": 0.795020773999958
         },
         {
          "param": "betaS",
          "value": 0.6006490246712086
         },
         {
          "param": "betaS",
          "value": 0.8361586904593573
         },
         {
          "param": "betaS",
          "value": 0.6372504124536255
         },
         {
          "param": "betaS",
          "value": 0.6931142272462743
         },
         {
          "param": "betaS",
          "value": 0.7166836435493874
         },
         {
          "param": "betaS",
          "value": 0.48338583620319253
         },
         {
          "param": "betaS",
          "value": 0.5661953711028571
         },
         {
          "param": "betaS",
          "value": 0.5696198636670482
         },
         {
          "param": "betaS",
          "value": 0.5544556925886269
         },
         {
          "param": "betaS",
          "value": 0.6722618581602378
         },
         {
          "param": "betaS",
          "value": 0.6198588623959457
         },
         {
          "param": "betaS",
          "value": 0.733649851211355
         },
         {
          "param": "betaS",
          "value": 0.458709795657806
         },
         {
          "param": "betaS",
          "value": 0.7465800736187013
         },
         {
          "param": "betaS",
          "value": 0.7324926256964264
         },
         {
          "param": "betaS",
          "value": 0.6789177435536371
         },
         {
          "param": "betaS",
          "value": 0.9033811120833726
         },
         {
          "param": "betaS",
          "value": 0.561618189843392
         },
         {
          "param": "betaS",
          "value": 0.6317867340417148
         },
         {
          "param": "betaS",
          "value": 0.6563725466062511
         },
         {
          "param": "betaS",
          "value": 0.5086584282891813
         },
         {
          "param": "betaS",
          "value": 0.8765799104492994
         },
         {
          "param": "betaS",
          "value": 0.8657548974298819
         },
         {
          "param": "betaS",
          "value": 0.7244655620788694
         },
         {
          "param": "betaS",
          "value": 0.8501566922365261
         },
         {
          "param": "betaS",
          "value": 0.6282612095641106
         },
         {
          "param": "betaS",
          "value": 0.8217324885117177
         },
         {
          "param": "betaS",
          "value": 0.6474038085084232
         },
         {
          "param": "betaS",
          "value": 0.4928447882139059
         },
         {
          "param": "betaS",
          "value": 0.5919428399471637
         },
         {
          "param": "betaS",
          "value": 0.5329805181253809
         },
         {
          "param": "betaS",
          "value": 0.5904789170884408
         },
         {
          "param": "betaS",
          "value": 0.49597010591972995
         },
         {
          "param": "betaS",
          "value": 0.7270410056767028
         },
         {
          "param": "betaS",
          "value": 0.7363300517345355
         },
         {
          "param": "betaS",
          "value": 0.7349026876977454
         },
         {
          "param": "betaS",
          "value": 0.6189235999144421
         },
         {
          "param": "betaS",
          "value": 0.8235837130271543
         },
         {
          "param": "betaS",
          "value": 0.7172528684216368
         },
         {
          "param": "betaS",
          "value": 0.5816971842108598
         },
         {
          "param": "betaS",
          "value": 0.688517953858998
         },
         {
          "param": "betaS",
          "value": 0.8392109532411577
         },
         {
          "param": "betaS",
          "value": 0.6445533779524513
         },
         {
          "param": "betaS",
          "value": 0.5503878549292713
         },
         {
          "param": "betaS",
          "value": 0.5391371843030829
         },
         {
          "param": "betaS",
          "value": 0.8212226078420429
         },
         {
          "param": "betaS",
          "value": 0.6903294218042441
         },
         {
          "param": "betaS",
          "value": 0.5124000389898254
         },
         {
          "param": "betaS",
          "value": 0.6304521901797999
         },
         {
          "param": "betaS",
          "value": 0.7002214334340451
         },
         {
          "param": "betaS",
          "value": 0.627894855251717
         },
         {
          "param": "betaS",
          "value": 0.5740312954306946
         },
         {
          "param": "betaS",
          "value": 0.6766710986061957
         },
         {
          "param": "betaS",
          "value": 0.6016012546981176
         },
         {
          "param": "betaS",
          "value": 0.7448359283763045
         },
         {
          "param": "betaS",
          "value": 0.8572659128979747
         },
         {
          "param": "betaS",
          "value": 0.8437509665273293
         },
         {
          "param": "betaS",
          "value": 0.519256356802932
         },
         {
          "param": "betaS",
          "value": 0.505512984129855
         },
         {
          "param": "betaS",
          "value": 0.6389794815452766
         },
         {
          "param": "betaS",
          "value": 0.6203161952713148
         },
         {
          "param": "betaS",
          "value": 0.6133618354210453
         },
         {
          "param": "betaS",
          "value": 0.9145655643792995
         },
         {
          "param": "betaS",
          "value": 0.6834704174034651
         },
         {
          "param": "betaS",
          "value": 0.7587108117400914
         },
         {
          "param": "betaS",
          "value": 0.8300534096487836
         },
         {
          "param": "betaS",
          "value": 0.7802887109381058
         },
         {
          "param": "betaS",
          "value": 0.6834704174034651
         },
         {
          "param": "betaS",
          "value": 0.7710842457329617
         },
         {
          "param": "betaS",
          "value": 0.49200333695983234
         },
         {
          "param": "betaS",
          "value": 0.5808895098095614
         },
         {
          "param": "betaS",
          "value": 0.6752305980213563
         },
         {
          "param": "betaS",
          "value": 0.6864038503302619
         },
         {
          "param": "betaS",
          "value": 0.54291411425976
         },
         {
          "param": "betaS",
          "value": 0.579307223371651
         },
         {
          "param": "betaS",
          "value": 0.6559040239997087
         },
         {
          "param": "betaS",
          "value": 0.6769336688214934
         },
         {
          "param": "betaS",
          "value": 0.7966192124755526
         },
         {
          "param": "betaS",
          "value": 0.6293708027304047
         },
         {
          "param": "betaS",
          "value": 0.499463855104619
         },
         {
          "param": "betaS",
          "value": 0.7297955191426712
         },
         {
          "param": "betaS",
          "value": 0.7283640877964251
         },
         {
          "param": "betaS",
          "value": 0.7203161337554895
         },
         {
          "param": "betaS",
          "value": 0.5606483366223738
         },
         {
          "param": "betaS",
          "value": 0.6022615738507759
         },
         {
          "param": "betaS",
          "value": 0.7073997593886016
         },
         {
          "param": "betaS",
          "value": 0.7402639475108567
         },
         {
          "param": "betaS",
          "value": 0.7232874990550473
         },
         {
          "param": "betaS",
          "value": 0.640475261871087
         },
         {
          "param": "betaS",
          "value": 0.5903204942488275
         },
         {
          "param": "betaS",
          "value": 0.898651092458874
         },
         {
          "param": "betaS",
          "value": 0.6007038489042489
         },
         {
          "param": "betaS",
          "value": 0.6316986262480899
         },
         {
          "param": "betaS",
          "value": 0.5679106013190278
         },
         {
          "param": "betaS",
          "value": 0.7025269040239874
         },
         {
          "param": "betaS",
          "value": 0.6090582429324221
         },
         {
          "param": "betaS",
          "value": 0.7285696847707587
         },
         {
          "param": "betaS",
          "value": 0.7394899606310485
         },
         {
          "param": "betaS",
          "value": 0.6656326201519098
         },
         {
          "param": "betaS",
          "value": 0.8819315413657488
         },
         {
          "param": "betaS",
          "value": 0.6693713571115056
         },
         {
          "param": "betaS",
          "value": 0.6622482272314147
         },
         {
          "param": "betaS",
          "value": 0.721684591069036
         },
         {
          "param": "betaS",
          "value": 0.8272691765824394
         },
         {
          "param": "betaS",
          "value": 0.6402425709805363
         },
         {
          "param": "betaS",
          "value": 0.7691076903761834
         },
         {
          "param": "betaS",
          "value": 0.6446820789274014
         },
         {
          "param": "betaS",
          "value": 0.9285729945725129
         },
         {
          "param": "betaS",
          "value": 0.7909744709620612
         },
         {
          "param": "betaS",
          "value": 0.6207591640439103
         },
         {
          "param": "betaS",
          "value": 0.7318491042544555
         },
         {
          "param": "betaS",
          "value": 0.8409557032492276
         },
         {
          "param": "betaS",
          "value": 0.8308174811739247
         },
         {
          "param": "betaS",
          "value": 0.5941121604730322
         },
         {
          "param": "betaS",
          "value": 0.7720597079416766
         },
         {
          "param": "betaS",
          "value": 0.5437598810838674
         },
         {
          "param": "betaS",
          "value": 0.572263798091608
         },
         {
          "param": "betaS",
          "value": 0.580745256199893
         },
         {
          "param": "betaS",
          "value": 0.5880145777609866
         },
         {
          "param": "betaS",
          "value": 0.7526997132850026
         },
         {
          "param": "betaS",
          "value": 0.7768455215874983
         },
         {
          "param": "betaS",
          "value": 0.825081244735799
         },
         {
          "param": "betaS",
          "value": 0.5804917896342205
         },
         {
          "param": "betaS",
          "value": 0.5688556650849956
         },
         {
          "param": "betaS",
          "value": 0.46865889934516
         },
         {
          "param": "betaS",
          "value": 0.8492409565065636
         },
         {
          "param": "betaS",
          "value": 0.6025159353900709
         },
         {
          "param": "betaS",
          "value": 0.6298760014679091
         },
         {
          "param": "betaS",
          "value": 0.5302262855293799
         },
         {
          "param": "betaS",
          "value": 0.7573874324786743
         },
         {
          "param": "betaS",
          "value": 0.6987642189935628
         },
         {
          "param": "betaS",
          "value": 0.7004449334260076
         },
         {
          "param": "betaS",
          "value": 0.6402898961934271
         },
         {
          "param": "betaS",
          "value": 0.6414774244213568
         },
         {
          "param": "betaS",
          "value": 0.7495640566768683
         },
         {
          "param": "betaS",
          "value": 0.799737648519658
         },
         {
          "param": "betaS",
          "value": 0.5629053160726042
         },
         {
          "param": "betaS",
          "value": 0.7652872510540124
         },
         {
          "param": "betaS",
          "value": 0.5622905661398806
         },
         {
          "param": "betaS",
          "value": 0.6891944757252463
         },
         {
          "param": "betaS",
          "value": 0.6514435437215844
         },
         {
          "param": "betaS",
          "value": 0.7456994529421701
         },
         {
          "param": "betaS",
          "value": 0.7292916618038621
         },
         {
          "param": "betaS",
          "value": 0.647442256109933
         },
         {
          "param": "betaS",
          "value": 0.7336629779716617
         },
         {
          "param": "betaS",
          "value": 0.6909413417474168
         },
         {
          "param": "betaS",
          "value": 0.6227159997927869
         },
         {
          "param": "betaS",
          "value": 0.6986414274384292
         },
         {
          "param": "betaS",
          "value": 0.6382533283723353
         },
         {
          "param": "betaS",
          "value": 0.8111528132323138
         },
         {
          "param": "betaS",
          "value": 0.668721014280457
         },
         {
          "param": "betaS",
          "value": 0.6284620969106095
         },
         {
          "param": "betaS",
          "value": 0.5703051103506018
         },
         {
          "param": "betaS",
          "value": 0.6199454616902215
         },
         {
          "param": "betaS",
          "value": 0.719965533989708
         },
         {
          "param": "betaS",
          "value": 0.7712765188653398
         },
         {
          "param": "betaS",
          "value": 0.5553769856151659
         },
         {
          "param": "betaS",
          "value": 0.6156690259088888
         },
         {
          "param": "betaS",
          "value": 0.6944591178074114
         },
         {
          "param": "betaS",
          "value": 0.7773836358895979
         },
         {
          "param": "betaS",
          "value": 0.822418995432794
         },
         {
          "param": "betaS",
          "value": 0.6382629395553833
         },
         {
          "param": "betaS",
          "value": 0.7162630802872808
         },
         {
          "param": "betaS",
          "value": 0.7554852604828821
         },
         {
          "param": "betaS",
          "value": 0.6858457522498848
         },
         {
          "param": "betaS",
          "value": 0.7083778822533998
         },
         {
          "param": "betaS",
          "value": 0.6852425482884124
         },
         {
          "param": "betaS",
          "value": 0.5077767782384812
         },
         {
          "param": "betaS",
          "value": 0.6898462496016335
         },
         {
          "param": "betaS",
          "value": 0.7588986177933126
         },
         {
          "param": "betaS",
          "value": 0.8540294309904937
         },
         {
          "param": "betaS",
          "value": 0.7484860468059271
         },
         {
          "param": "betaS",
          "value": 0.5998079158028841
         },
         {
          "param": "betaS",
          "value": 0.5270386785886326
         },
         {
          "param": "betaS",
          "value": 0.6441843130438888
         },
         {
          "param": "betaS",
          "value": 0.6407104925016539
         },
         {
          "param": "betaS",
          "value": 0.700979874976834
         },
         {
          "param": "betaS",
          "value": 0.7698372992442907
         },
         {
          "param": "betaS",
          "value": 0.7221201665133115
         },
         {
          "param": "betaS",
          "value": 0.632752730584975
         },
         {
          "param": "betaS",
          "value": 0.682832220690849
         },
         {
          "param": "betaS",
          "value": 0.8334876339358079
         },
         {
          "param": "betaS",
          "value": 0.6525385338557859
         },
         {
          "param": "betaS",
          "value": 0.8139514895730688
         },
         {
          "param": "betaS",
          "value": 0.5882565072009212
         },
         {
          "param": "betaS",
          "value": 0.6366860476815178
         },
         {
          "param": "betaS",
          "value": 0.8102716585466248
         },
         {
          "param": "betaS",
          "value": 0.7563719189718906
         },
         {
          "param": "betaS",
          "value": 0.5987620486175821
         },
         {
          "param": "betaS",
          "value": 0.7630300309839801
         },
         {
          "param": "betaS",
          "value": 0.63152043287195
         },
         {
          "param": "betaS",
          "value": 0.7563719189718906
         },
         {
          "param": "betaS",
          "value": 0.5761243009742096
         },
         {
          "param": "betaS",
          "value": 0.653140450294621
         },
         {
          "param": "betaS",
          "value": 0.694581946669957
         },
         {
          "param": "betaS",
          "value": 0.5874139151082277
         },
         {
          "param": "betaS",
          "value": 0.5649370150144187
         },
         {
          "param": "betaS",
          "value": 0.6057593418864252
         },
         {
          "param": "betaS",
          "value": 0.640878967337033
         },
         {
          "param": "betaS",
          "value": 0.6130067160085727
         },
         {
          "param": "betaS",
          "value": 0.8262231916713433
         },
         {
          "param": "betaS",
          "value": 0.6793198074734859
         },
         {
          "param": "betaS",
          "value": 0.573274845570543
         },
         {
          "param": "betaS",
          "value": 0.4852227191790053
         },
         {
          "param": "betaS",
          "value": 0.5817184369451257
         },
         {
          "param": "betaS",
          "value": 0.7519264450133615
         },
         {
          "param": "betaS",
          "value": 0.6076439290432396
         },
         {
          "param": "betaS",
          "value": 0.5706341397139292
         },
         {
          "param": "betaS",
          "value": 0.6901057623028469
         },
         {
          "param": "betaS",
          "value": 0.7394509758186907
         },
         {
          "param": "betaS",
          "value": 0.734118600663043
         },
         {
          "param": "betaS",
          "value": 0.6067147214079439
         },
         {
          "param": "betaS",
          "value": 0.6698511915517116
         },
         {
          "param": "betaS",
          "value": 0.4781007881669762
         },
         {
          "param": "betaS",
          "value": 0.6668442474331099
         },
         {
          "param": "betaS",
          "value": 0.7693443601812094
         },
         {
          "param": "betaS",
          "value": 0.6402567061555211
         },
         {
          "param": "betaS",
          "value": 0.6760851878599763
         },
         {
          "param": "betaS",
          "value": 0.6772610081274577
         },
         {
          "param": "betaS",
          "value": 0.6659830218985178
         },
         {
          "param": "betaS",
          "value": 0.5198655666713936
         },
         {
          "param": "betaS",
          "value": 0.6789054500117226
         },
         {
          "param": "betaS",
          "value": 0.5733675506891334
         },
         {
          "param": "betaS",
          "value": 0.7602594501176629
         },
         {
          "param": "betaS",
          "value": 0.762806206173316
         },
         {
          "param": "betaS",
          "value": 0.6604843126433334
         },
         {
          "param": "betaS",
          "value": 0.5386118306075348
         },
         {
          "param": "betaS",
          "value": 0.752168555649206
         },
         {
          "param": "betaS",
          "value": 0.8566000249948036
         },
         {
          "param": "betaS",
          "value": 0.6383426807160769
         },
         {
          "param": "betaS",
          "value": 0.661307449835582
         },
         {
          "param": "betaS",
          "value": 0.7067200864596664
         },
         {
          "param": "betaS",
          "value": 0.52252493650438
         },
         {
          "param": "betaS",
          "value": 0.6657632260263456
         },
         {
          "param": "betaS",
          "value": 0.8556295044733502
         },
         {
          "param": "betaS",
          "value": 0.9026090754408128
         },
         {
          "param": "betaS",
          "value": 0.775799053213145
         },
         {
          "param": "betaS",
          "value": 0.5956189162732661
         },
         {
          "param": "betaS",
          "value": 0.43798855003546217
         },
         {
          "param": "betaS",
          "value": 0.7165718759242381
         },
         {
          "param": "betaS",
          "value": 0.7006592092231215
         },
         {
          "param": "betaS",
          "value": 0.5796321734269034
         },
         {
          "param": "betaS",
          "value": 0.5491400151505753
         },
         {
          "param": "betaS",
          "value": 0.781344786382292
         },
         {
          "param": "betaS",
          "value": 0.83557465344903
         },
         {
          "param": "betaS",
          "value": 0.8021912303811697
         },
         {
          "param": "betaS",
          "value": 0.850897891717636
         },
         {
          "param": "betaS",
          "value": 0.7707813407052759
         },
         {
          "param": "betaS",
          "value": 0.5774301646660664
         },
         {
          "param": "betaS",
          "value": 0.7909069023199999
         },
         {
          "param": "betaS",
          "value": 0.5961759846040896
         },
         {
          "param": "betaS",
          "value": 0.6951009223317084
         },
         {
          "param": "betaS",
          "value": 0.7358475820460137
         },
         {
          "param": "betaS",
          "value": 0.5171598533107721
         },
         {
          "param": "betaS",
          "value": 0.5740838841817575
         },
         {
          "param": "betaS",
          "value": 0.5525932691205971
         },
         {
          "param": "betaS",
          "value": 0.6955158694442087
         },
         {
          "param": "betaS",
          "value": 0.6121901492629984
         },
         {
          "param": "betaS",
          "value": 0.7066655139919299
         },
         {
          "param": "betaS",
          "value": 0.7267496751991688
         },
         {
          "param": "betaS",
          "value": 0.6351923669955045
         },
         {
          "param": "betaS",
          "value": 0.6121901492629984
         },
         {
          "param": "betaS",
          "value": 0.6631484513240131
         },
         {
          "param": "betaS",
          "value": 0.703861366080537
         },
         {
          "param": "betaS",
          "value": 0.6389048878755095
         },
         {
          "param": "betaS",
          "value": 0.6251629894477947
         },
         {
          "param": "betaS",
          "value": 0.7632454244514382
         },
         {
          "param": "betaS",
          "value": 0.5594769246662208
         },
         {
          "param": "betaS",
          "value": 0.6553964498027557
         },
         {
          "param": "betaS",
          "value": 0.7429398899587474
         },
         {
          "param": "betaS",
          "value": 0.6610615357452855
         },
         {
          "param": "betaS",
          "value": 0.7018622309351331
         },
         {
          "param": "betaS",
          "value": 0.6230452958337407
         },
         {
          "param": "betaS",
          "value": 0.5774475252265072
         },
         {
          "param": "betaS",
          "value": 0.6556837833333229
         },
         {
          "param": "betaS",
          "value": 0.4322888713576321
         },
         {
          "param": "betaS",
          "value": 0.7141153267321451
         },
         {
          "param": "betaS",
          "value": 0.6822653517436733
         },
         {
          "param": "betaS",
          "value": 0.6171816162517159
         },
         {
          "param": "betaS",
          "value": 0.6183491710528821
         },
         {
          "param": "betaS",
          "value": 0.7257209447250468
         },
         {
          "param": "betaS",
          "value": 0.7611868719042587
         },
         {
          "param": "betaS",
          "value": 0.5723212688506543
         },
         {
          "param": "betaS",
          "value": 0.7036139224437428
         },
         {
          "param": "betaS",
          "value": 0.7658504652806917
         },
         {
          "param": "betaS",
          "value": 0.673222565480102
         },
         {
          "param": "betaS",
          "value": 0.6419125689719114
         },
         {
          "param": "betaS",
          "value": 0.6411396111991161
         },
         {
          "param": "betaS",
          "value": 0.5789902712655911
         },
         {
          "param": "betaS",
          "value": 0.6302109214573717
         },
         {
          "param": "betaS",
          "value": 0.6307958503954435
         },
         {
          "param": "betaS",
          "value": 0.913207233230615
         },
         {
          "param": "betaS",
          "value": 0.7446961022297993
         },
         {
          "param": "betaS",
          "value": 0.7164174774927762
         },
         {
          "param": "betaS",
          "value": 0.7956045743167419
         },
         {
          "param": "betaS",
          "value": 0.7247186699537319
         },
         {
          "param": "betaS",
          "value": 0.5440919634464756
         },
         {
          "param": "betaS",
          "value": 0.6433190825798824
         },
         {
          "param": "betaS",
          "value": 0.6837534566774481
         },
         {
          "param": "betaS",
          "value": 0.6601976608532383
         },
         {
          "param": "betaS",
          "value": 0.6679089613059155
         },
         {
          "param": "betaS",
          "value": 0.7104373391616188
         },
         {
          "param": "betaS",
          "value": 0.6374639788209315
         },
         {
          "param": "betaS",
          "value": 0.6802470765395248
         },
         {
          "param": "betaS",
          "value": 0.5318999666604819
         },
         {
          "param": "betaS",
          "value": 0.6234581994805911
         },
         {
          "param": "betaS",
          "value": 0.6061897008035974
         },
         {
          "param": "betaS",
          "value": 0.850799969020703
         },
         {
          "param": "betaS",
          "value": 0.7393911281855039
         },
         {
          "param": "betaS",
          "value": 0.568615885577761
         },
         {
          "param": "betaS",
          "value": 0.6259029025207906
         },
         {
          "param": "betaS",
          "value": 0.7328671180924398
         },
         {
          "param": "betaS",
          "value": 0.6435014649705305
         },
         {
          "param": "betaS",
          "value": 0.717069297717056
         },
         {
          "param": "betaS",
          "value": 0.5680541357169749
         },
         {
          "param": "betaS",
          "value": 0.6094356787013956
         },
         {
          "param": "betaS",
          "value": 0.5858075946612037
         },
         {
          "param": "betaS",
          "value": 0.6442574427860792
         },
         {
          "param": "betaS",
          "value": 0.6878823343897558
         },
         {
          "param": "betaS",
          "value": 0.59562522382526
         },
         {
          "param": "betaS",
          "value": 0.6428156080667535
         },
         {
          "param": "betaS",
          "value": 0.6136726764731585
         },
         {
          "param": "betaS",
          "value": 0.6662440585258392
         },
         {
          "param": "betaS",
          "value": 0.6462891652567166
         },
         {
          "param": "betaS",
          "value": 0.8081074853097764
         },
         {
          "param": "betaS",
          "value": 0.723217308324201
         },
         {
          "param": "betaS",
          "value": 0.7694919481226576
         },
         {
          "param": "betaS",
          "value": 0.5773792577858243
         },
         {
          "param": "betaS",
          "value": 0.4823206977603615
         },
         {
          "param": "betaS",
          "value": 0.7472267181021837
         },
         {
          "param": "betaS",
          "value": 0.7744910773883595
         },
         {
          "param": "betaS",
          "value": 0.425893410596761
         },
         {
          "param": "betaS",
          "value": 0.5791713793543167
         },
         {
          "param": "betaS",
          "value": 0.6515491530927695
         },
         {
          "param": "betaS",
          "value": 0.5648662393310444
         },
         {
          "param": "betaS",
          "value": 0.7112060092100481
         },
         {
          "param": "betaS",
          "value": 0.6391045424338545
         },
         {
          "param": "betaS",
          "value": 0.6320003008929046
         },
         {
          "param": "betaS",
          "value": 0.545500605788878
         },
         {
          "param": "betaS",
          "value": 0.7275606204064412
         },
         {
          "param": "betaS",
          "value": 0.8085467409586573
         },
         {
          "param": "betaS",
          "value": 0.6838194513994652
         },
         {
          "param": "betaS",
          "value": 0.7222494743104391
         },
         {
          "param": "betaS",
          "value": 0.6830163701898948
         },
         {
          "param": "betaS",
          "value": 0.8403186464045638
         },
         {
          "param": "betaS",
          "value": 0.7068435773902679
         },
         {
          "param": "betaS",
          "value": 0.6320348518267018
         },
         {
          "param": "betaS",
          "value": 0.6320749017920697
         },
         {
          "param": "betaS",
          "value": 0.49544600574571285
         },
         {
          "param": "betaS",
          "value": 0.5356547656397367
         },
         {
          "param": "betaS",
          "value": 0.66930878403951
         },
         {
          "param": "betaS",
          "value": 0.6482698638841573
         },
         {
          "param": "betaS",
          "value": 0.5534728848356073
         },
         {
          "param": "betaS",
          "value": 0.6950431530501391
         },
         {
          "param": "betaS",
          "value": 0.6279787995616624
         },
         {
          "param": "betaS",
          "value": 0.7344164546943948
         },
         {
          "param": "betaS",
          "value": 0.8248814398310268
         },
         {
          "param": "betaS",
          "value": 0.6509359673591925
         },
         {
          "param": "betaS",
          "value": 0.7936840557268745
         },
         {
          "param": "betaS",
          "value": 0.5219219561214081
         },
         {
          "param": "betaS",
          "value": 0.5222250127934949
         },
         {
          "param": "betaS",
          "value": 0.6409728781726503
         },
         {
          "param": "betaS",
          "value": 0.46778051898639905
         },
         {
          "param": "betaS",
          "value": 0.8333209874855655
         },
         {
          "param": "betaS",
          "value": 0.7399692210071384
         },
         {
          "param": "betaS",
          "value": 0.6431567546243252
         },
         {
          "param": "betaS",
          "value": 0.7031710542164041
         },
         {
          "param": "betaS",
          "value": 0.8004632233123646
         },
         {
          "param": "betaS",
          "value": 0.7288471403023964
         },
         {
          "param": "betaS",
          "value": 0.6429151843593246
         },
         {
          "param": "betaS",
          "value": 0.7320692972704305
         },
         {
          "param": "betaS",
          "value": 0.7145868631478088
         },
         {
          "param": "betaS",
          "value": 0.7182447679782543
         },
         {
          "param": "betaS",
          "value": 0.4268287105361101
         },
         {
          "param": "betaS",
          "value": 0.6366048897017736
         },
         {
          "param": "betaS",
          "value": 0.5940992607594766
         },
         {
          "param": "betaS",
          "value": 0.6911671385114982
         },
         {
          "param": "betaS",
          "value": 0.8302105736171341
         },
         {
          "param": "betaS",
          "value": 0.7928524419614134
         },
         {
          "param": "betaS",
          "value": 0.6229685314910354
         },
         {
          "param": "betaS",
          "value": 0.5513914040574803
         },
         {
          "param": "betaS",
          "value": 0.6557857809097936
         },
         {
          "param": "betaS",
          "value": 0.5599892610555401
         },
         {
          "param": "betaS",
          "value": 0.6519505172512906
         },
         {
          "param": "betaS",
          "value": 0.7785429920895702
         },
         {
          "param": "betaS",
          "value": 0.6444056060844696
         },
         {
          "param": "betaS",
          "value": 0.6365985277792588
         },
         {
          "param": "betaS",
          "value": 0.5999190279995736
         },
         {
          "param": "betaS",
          "value": 0.7627217343931382
         },
         {
          "param": "betaS",
          "value": 0.5928292089448106
         },
         {
          "param": "betaS",
          "value": 0.7451834037762537
         },
         {
          "param": "betaS",
          "value": 0.5533748246734969
         },
         {
          "param": "betaS",
          "value": 0.6449173931798092
         },
         {
          "param": "betaS",
          "value": 0.881549718286684
         },
         {
          "param": "betaS",
          "value": 0.6664963316183286
         },
         {
          "param": "betaS",
          "value": 0.8705012561609988
         },
         {
          "param": "betaS",
          "value": 0.7251093118219638
         },
         {
          "param": "betaS",
          "value": 0.5242975743615328
         },
         {
          "param": "betaS",
          "value": 0.645857916747536
         },
         {
          "param": "betaS",
          "value": 0.4806910411629319
         },
         {
          "param": "betaS",
          "value": 0.6467645730576721
         },
         {
          "param": "betaS",
          "value": 0.507595532793712
         },
         {
          "param": "betaS",
          "value": 0.7123520910261711
         },
         {
          "param": "betaS",
          "value": 0.528450839384339
         },
         {
          "param": "betaS",
          "value": 0.5625813633907338
         },
         {
          "param": "betaS",
          "value": 0.6732482890693982
         },
         {
          "param": "betaS",
          "value": 0.5741938552641388
         },
         {
          "param": "betaS",
          "value": 0.7930947124477282
         },
         {
          "param": "betaS",
          "value": 0.6345598612667924
         },
         {
          "param": "betaS",
          "value": 0.7265959695905334
         },
         {
          "param": "betaS",
          "value": 0.5734970053818564
         },
         {
          "param": "betaS",
          "value": 0.7400603957685987
         },
         {
          "param": "betaS",
          "value": 0.6748347214297155
         },
         {
          "param": "betaS",
          "value": 0.6128090614763465
         },
         {
          "param": "betaS",
          "value": 0.5731701435145662
         },
         {
          "param": "betaS",
          "value": 0.701557269322423
         },
         {
          "param": "betaS",
          "value": 0.5173513909618596
         },
         {
          "param": "betaS",
          "value": 0.5385353890200879
         },
         {
          "param": "betaS",
          "value": 0.6525034987877358
         },
         {
          "param": "betaS",
          "value": 0.7592515788432858
         },
         {
          "param": "betaS",
          "value": 0.6647612428456322
         },
         {
          "param": "betaS",
          "value": 0.5897161992948278
         },
         {
          "param": "betaS",
          "value": 0.9404155181339393
         },
         {
          "param": "betaS",
          "value": 0.6049276606271499
         },
         {
          "param": "betaS",
          "value": 0.8095154357349147
         },
         {
          "param": "betaS",
          "value": 0.5897161992948278
         },
         {
          "param": "betaS",
          "value": 0.8795853438637343
         },
         {
          "param": "betaS",
          "value": 0.6184502787552598
         },
         {
          "param": "betaS",
          "value": 0.5067281594555194
         },
         {
          "param": "betaS",
          "value": 0.5196905377519885
         },
         {
          "param": "betaS",
          "value": 0.5777932228007947
         },
         {
          "param": "betaS",
          "value": 0.6473269289523044
         },
         {
          "param": "betaS",
          "value": 0.7255181727479855
         },
         {
          "param": "betaS",
          "value": 0.6315291282330068
         },
         {
          "param": "betaS",
          "value": 0.7234068679677026
         },
         {
          "param": "betaS",
          "value": 0.7022036451243557
         },
         {
          "param": "betaS",
          "value": 0.6317752723282033
         },
         {
          "param": "betaS",
          "value": 0.7688160672188933
         },
         {
          "param": "betaS",
          "value": 0.7702838272979907
         },
         {
          "param": "betaS",
          "value": 0.7729836894273172
         },
         {
          "param": "betaS",
          "value": 0.698477009852574
         },
         {
          "param": "betaS",
          "value": 0.7936188761437963
         },
         {
          "param": "betaS",
          "value": 0.5436577949348523
         },
         {
          "param": "betaS",
          "value": 0.73802067142871
         },
         {
          "param": "betaS",
          "value": 0.4910769720023738
         },
         {
          "param": "betaS",
          "value": 0.6289921108305181
         },
         {
          "param": "betaS",
          "value": 0.7602805483356141
         },
         {
          "param": "betaS",
          "value": 0.5580416974095438
         },
         {
          "param": "betaS",
          "value": 0.5534361568870649
         },
         {
          "param": "betaS",
          "value": 0.587547455677598
         },
         {
          "param": "betaS",
          "value": 0.5924387769795386
         },
         {
          "param": "betaS",
          "value": 0.6849117642637198
         },
         {
          "param": "betaS",
          "value": 0.8718416905942272
         },
         {
          "param": "betaS",
          "value": 0.7305292499271654
         },
         {
          "param": "betaS",
          "value": 0.6022577800678021
         },
         {
          "param": "betaS",
          "value": 0.4975065779550547
         },
         {
          "param": "betaS",
          "value": 0.7917661290215586
         },
         {
          "param": "betaS",
          "value": 0.6418226952653953
         },
         {
          "param": "betaS",
          "value": 0.7021044995044737
         },
         {
          "param": "betaS",
          "value": 0.7500388789868511
         },
         {
          "param": "betaS",
          "value": 0.5909434154122434
         },
         {
          "param": "betaS",
          "value": 0.4845453226819666
         },
         {
          "param": "betaS",
          "value": 0.7231123213430787
         },
         {
          "param": "betaS",
          "value": 0.6039644067754623
         },
         {
          "param": "betaS",
          "value": 0.6599618869100315
         },
         {
          "param": "betaS",
          "value": 0.7431330737778115
         },
         {
          "param": "betaS",
          "value": 0.7146069551925812
         },
         {
          "param": "betaS",
          "value": 0.6538051568588749
         },
         {
          "param": "betaS",
          "value": 0.6599618869100315
         },
         {
          "param": "betaS",
          "value": 0.8079380341107816
         },
         {
          "param": "betaS",
          "value": 0.6090777592410674
         },
         {
          "param": "betaS",
          "value": 0.6541952576892596
         },
         {
          "param": "betaS",
          "value": 0.6493740912229017
         },
         {
          "param": "betaS",
          "value": 0.6535159659885523
         },
         {
          "param": "betaS",
          "value": 0.4979719443740682
         },
         {
          "param": "betaS",
          "value": 0.6735148392227979
         },
         {
          "param": "betaS",
          "value": 0.5179073717004159
         },
         {
          "param": "betaS",
          "value": 0.5908071225146342
         },
         {
          "param": "betaS",
          "value": 0.5520241157215715
         },
         {
          "param": "betaS",
          "value": 0.6716213131088443
         },
         {
          "param": "betaS",
          "value": 0.8363002365678509
         },
         {
          "param": "betaS",
          "value": 0.6471010448188185
         },
         {
          "param": "betaS",
          "value": 0.6450572342591164
         },
         {
          "param": "betaS",
          "value": 0.7825340734869289
         },
         {
          "param": "betaS",
          "value": 0.8523681668604752
         },
         {
          "param": "betaS",
          "value": 0.6005082974770833
         },
         {
          "param": "betaS",
          "value": 0.6351884689344705
         },
         {
          "param": "betaS",
          "value": 0.7139770713117187
         },
         {
          "param": "betaS",
          "value": 0.4045109947919261
         },
         {
          "param": "betaS",
          "value": 0.7447738272167703
         },
         {
          "param": "betaS",
          "value": 0.7153481127846226
         },
         {
          "param": "betaS",
          "value": 0.7467865321460815
         },
         {
          "param": "betaS",
          "value": 0.8565900863334058
         },
         {
          "param": "betaS",
          "value": 0.431112932975651
         },
         {
          "param": "betaS",
          "value": 0.8727940665885592
         },
         {
          "param": "betaS",
          "value": 0.6791391441696215
         },
         {
          "param": "betaS",
          "value": 0.8199911943307824
         },
         {
          "param": "betaS",
          "value": 0.714226904972947
         },
         {
          "param": "betaS",
          "value": 0.8053932407260636
         },
         {
          "param": "betaS",
          "value": 0.389561485035376
         },
         {
          "param": "betaS",
          "value": 0.8961607645973346
         },
         {
          "param": "betaS",
          "value": 0.725321186920813
         },
         {
          "param": "betaS",
          "value": 0.5325728027915979
         },
         {
          "param": "betaS",
          "value": 0.40178947763831796
         },
         {
          "param": "betaS",
          "value": 0.7022047236222506
         },
         {
          "param": "betaS",
          "value": 0.7092989021868504
         },
         {
          "param": "betaS",
          "value": 0.6039497730646792
         },
         {
          "param": "betaS",
          "value": 0.7894840521837867
         },
         {
          "param": "betaS",
          "value": 0.7000192712081161
         },
         {
          "param": "betaS",
          "value": 0.8056036376710207
         },
         {
          "param": "betaS",
          "value": 0.6052668454481603
         },
         {
          "param": "betaS",
          "value": 0.5867358528101422
         },
         {
          "param": "betaS",
          "value": 0.8984391285123009
         },
         {
          "param": "betaS",
          "value": 0.7318679120865339
         },
         {
          "param": "betaS",
          "value": 0.8421797600446418
         },
         {
          "param": "betaS",
          "value": 0.8615532418968173
         },
         {
          "param": "betaS",
          "value": 0.46456708587447004
         },
         {
          "param": "betaS",
          "value": 0.6859702685602368
         },
         {
          "param": "betaS",
          "value": 0.7560583355894057
         },
         {
          "param": "betaS",
          "value": 0.5710377307895098
         },
         {
          "param": "betaS",
          "value": 0.7063932525486614
         },
         {
          "param": "betaS",
          "value": 0.5735369483048969
         },
         {
          "param": "betaS",
          "value": 0.6317071588712861
         },
         {
          "param": "betaS",
          "value": 0.4837750437551285
         },
         {
          "param": "betaS",
          "value": 0.5933870909721064
         },
         {
          "param": "betaS",
          "value": 0.7480531303050576
         },
         {
          "param": "betaS",
          "value": 0.8208444820395026
         },
         {
          "param": "betaS",
          "value": 0.7727806510894307
         },
         {
          "param": "betaS",
          "value": 0.7491095080658423
         },
         {
          "param": "betaS",
          "value": 0.7203045686014671
         },
         {
          "param": "betaS",
          "value": 0.7734330338999165
         },
         {
          "param": "betaS",
          "value": 0.5270942008664455
         },
         {
          "param": "betaS",
          "value": 0.6447508245254467
         },
         {
          "param": "betaS",
          "value": 0.6627820785714869
         },
         {
          "param": "betaS",
          "value": 0.7833519825181391
         },
         {
          "param": "betaS",
          "value": 0.8255113116137036
         },
         {
          "param": "betaS",
          "value": 0.6759223091410171
         },
         {
          "param": "betaS",
          "value": 0.7853235755235825
         },
         {
          "param": "betaS",
          "value": 0.4813485196744125
         },
         {
          "param": "betaS",
          "value": 0.5520163369697237
         },
         {
          "param": "betaS",
          "value": 0.7861206474048952
         },
         {
          "param": "betaS",
          "value": 0.42140273882204965
         },
         {
          "param": "sigma",
          "value": 0.9017414104260904
         },
         {
          "param": "sigma",
          "value": 0.8172294579576512
         },
         {
          "param": "sigma",
          "value": 0.6816823272948265
         },
         {
          "param": "sigma",
          "value": 0.6870646810112404
         },
         {
          "param": "sigma",
          "value": 0.6311006889167858
         },
         {
          "param": "sigma",
          "value": 0.696775267026855
         },
         {
          "param": "sigma",
          "value": 0.8490514108335578
         },
         {
          "param": "sigma",
          "value": 0.816767827210329
         },
         {
          "param": "sigma",
          "value": 0.6560948042621458
         },
         {
          "param": "sigma",
          "value": 0.7539180261110916
         },
         {
          "param": "sigma",
          "value": 0.8975069216245303
         },
         {
          "param": "sigma",
          "value": 0.6401741691075544
         },
         {
          "param": "sigma",
          "value": 0.8365275294545951
         },
         {
          "param": "sigma",
          "value": 0.8059634792760906
         },
         {
          "param": "sigma",
          "value": 0.6137403209235254
         },
         {
          "param": "sigma",
          "value": 1.036058362816407
         },
         {
          "param": "sigma",
          "value": 0.7620521542982279
         },
         {
          "param": "sigma",
          "value": 0.6490590918408256
         },
         {
          "param": "sigma",
          "value": 0.8763350067457415
         },
         {
          "param": "sigma",
          "value": 0.9425618469911727
         },
         {
          "param": "sigma",
          "value": 0.6664117000152073
         },
         {
          "param": "sigma",
          "value": 0.874572836808675
         },
         {
          "param": "sigma",
          "value": 0.8947351075219137
         },
         {
          "param": "sigma",
          "value": 0.8271065086912539
         },
         {
          "param": "sigma",
          "value": 0.6476038384667221
         },
         {
          "param": "sigma",
          "value": 0.9291151672511052
         },
         {
          "param": "sigma",
          "value": 0.8733101432404767
         },
         {
          "param": "sigma",
          "value": 0.8106216163582233
         },
         {
          "param": "sigma",
          "value": 0.7544920639731423
         },
         {
          "param": "sigma",
          "value": 0.685624438875004
         },
         {
          "param": "sigma",
          "value": 0.6366935496601256
         },
         {
          "param": "sigma",
          "value": 0.8525545024345009
         },
         {
          "param": "sigma",
          "value": 0.7996303021148498
         },
         {
          "param": "sigma",
          "value": 0.7851096866234268
         },
         {
          "param": "sigma",
          "value": 0.9829905485289141
         },
         {
          "param": "sigma",
          "value": 0.6517017230966942
         },
         {
          "param": "sigma",
          "value": 0.7748855144870849
         },
         {
          "param": "sigma",
          "value": 0.7509750197023585
         },
         {
          "param": "sigma",
          "value": 0.6130388192249558
         },
         {
          "param": "sigma",
          "value": 0.8910405588309905
         },
         {
          "param": "sigma",
          "value": 0.7760222567097247
         },
         {
          "param": "sigma",
          "value": 0.8181343323167182
         },
         {
          "param": "sigma",
          "value": 0.8081629711517879
         },
         {
          "param": "sigma",
          "value": 0.6680138516071016
         },
         {
          "param": "sigma",
          "value": 0.7200591341594121
         },
         {
          "param": "sigma",
          "value": 0.7075806585117163
         },
         {
          "param": "sigma",
          "value": 0.7381456857451185
         },
         {
          "param": "sigma",
          "value": 0.6850768631006761
         },
         {
          "param": "sigma",
          "value": 0.8421950580139961
         },
         {
          "param": "sigma",
          "value": 0.7552254697040733
         },
         {
          "param": "sigma",
          "value": 0.796725386838699
         },
         {
          "param": "sigma",
          "value": 0.7606358633446625
         },
         {
          "param": "sigma",
          "value": 0.6627333091480484
         },
         {
          "param": "sigma",
          "value": 0.7359397520624609
         },
         {
          "param": "sigma",
          "value": 0.7404237169409188
         },
         {
          "param": "sigma",
          "value": 0.7396543971855003
         },
         {
          "param": "sigma",
          "value": 0.7566720051340576
         },
         {
          "param": "sigma",
          "value": 0.7530202400731195
         },
         {
          "param": "sigma",
          "value": 0.8717409494992122
         },
         {
          "param": "sigma",
          "value": 0.7535384495421175
         },
         {
          "param": "sigma",
          "value": 0.7258953488544251
         },
         {
          "param": "sigma",
          "value": 0.7937288914738213
         },
         {
          "param": "sigma",
          "value": 0.6658525791681662
         },
         {
          "param": "sigma",
          "value": 0.7662409600028233
         },
         {
          "param": "sigma",
          "value": 0.7898182627232317
         },
         {
          "param": "sigma",
          "value": 0.6704321319173093
         },
         {
          "param": "sigma",
          "value": 0.7634596485754881
         },
         {
          "param": "sigma",
          "value": 0.6583553346305281
         },
         {
          "param": "sigma",
          "value": 0.7099509333670214
         },
         {
          "param": "sigma",
          "value": 0.695430098064436
         },
         {
          "param": "sigma",
          "value": 0.7883434605268529
         },
         {
          "param": "sigma",
          "value": 0.7288491059215623
         },
         {
          "param": "sigma",
          "value": 0.7293205143073613
         },
         {
          "param": "sigma",
          "value": 0.7912252611203193
         },
         {
          "param": "sigma",
          "value": 0.742548524059791
         },
         {
          "param": "sigma",
          "value": 0.6660148042113164
         },
         {
          "param": "sigma",
          "value": 0.833671695703215
         },
         {
          "param": "sigma",
          "value": 0.6861531555003292
         },
         {
          "param": "sigma",
          "value": 0.6981453339957988
         },
         {
          "param": "sigma",
          "value": 0.7681106606044321
         },
         {
          "param": "sigma",
          "value": 0.766384508154909
         },
         {
          "param": "sigma",
          "value": 0.6823991730706352
         },
         {
          "param": "sigma",
          "value": 0.7791504072103864
         },
         {
          "param": "sigma",
          "value": 0.8145710481961311
         },
         {
          "param": "sigma",
          "value": 0.7230625073686051
         },
         {
          "param": "sigma",
          "value": 0.6669528461219992
         },
         {
          "param": "sigma",
          "value": 0.7062249878558887
         },
         {
          "param": "sigma",
          "value": 0.666189673979349
         },
         {
          "param": "sigma",
          "value": 0.7517153096249535
         },
         {
          "param": "sigma",
          "value": 0.8186244161406334
         },
         {
          "param": "sigma",
          "value": 0.6813715441178871
         },
         {
          "param": "sigma",
          "value": 0.8018962614625856
         },
         {
          "param": "sigma",
          "value": 0.6888287469744209
         },
         {
          "param": "sigma",
          "value": 0.6761425516240557
         },
         {
          "param": "sigma",
          "value": 0.7497218936246839
         },
         {
          "param": "sigma",
          "value": 0.6220886916093525
         },
         {
          "param": "sigma",
          "value": 0.8381819353675085
         },
         {
          "param": "sigma",
          "value": 0.7576965476202767
         },
         {
          "param": "sigma",
          "value": 0.8048383836885276
         },
         {
          "param": "sigma",
          "value": 0.7808374672955856
         },
         {
          "param": "sigma",
          "value": 0.6513997184501645
         },
         {
          "param": "sigma",
          "value": 0.6898935664110174
         },
         {
          "param": "sigma",
          "value": 0.7373883629451162
         },
         {
          "param": "sigma",
          "value": 0.7240295961983904
         },
         {
          "param": "sigma",
          "value": 0.8511228473532874
         },
         {
          "param": "sigma",
          "value": 0.7728663254875585
         },
         {
          "param": "sigma",
          "value": 0.718645291520059
         },
         {
          "param": "sigma",
          "value": 0.7584348284189447
         },
         {
          "param": "sigma",
          "value": 0.7654399164238521
         },
         {
          "param": "sigma",
          "value": 0.7653802320602896
         },
         {
          "param": "sigma",
          "value": 0.7211940301519855
         },
         {
          "param": "sigma",
          "value": 0.7068954997154884
         },
         {
          "param": "sigma",
          "value": 0.7022091321602494
         },
         {
          "param": "sigma",
          "value": 0.6905612339151448
         },
         {
          "param": "sigma",
          "value": 0.7183295203254746
         },
         {
          "param": "sigma",
          "value": 0.6167750272388914
         },
         {
          "param": "sigma",
          "value": 0.6887504670519744
         },
         {
          "param": "sigma",
          "value": 0.6690557712048659
         },
         {
          "param": "sigma",
          "value": 0.9153680189473136
         },
         {
          "param": "sigma",
          "value": 0.8790689547817971
         },
         {
          "param": "sigma",
          "value": 0.7606065685341761
         },
         {
          "param": "sigma",
          "value": 0.8622522950326296
         },
         {
          "param": "sigma",
          "value": 0.9184784117610608
         },
         {
          "param": "sigma",
          "value": 0.6500854529396144
         },
         {
          "param": "sigma",
          "value": 0.6958957358536978
         },
         {
          "param": "sigma",
          "value": 0.6180632573552731
         },
         {
          "param": "sigma",
          "value": 0.6623246114430492
         },
         {
          "param": "sigma",
          "value": 0.769321980153328
         },
         {
          "param": "sigma",
          "value": 0.7298320256351162
         },
         {
          "param": "sigma",
          "value": 0.6974878760658274
         },
         {
          "param": "sigma",
          "value": 0.7591449907836837
         },
         {
          "param": "sigma",
          "value": 0.6746744224864304
         },
         {
          "param": "sigma",
          "value": 0.813161321419491
         },
         {
          "param": "sigma",
          "value": 0.7662710602902495
         },
         {
          "param": "sigma",
          "value": 0.8050303785661749
         },
         {
          "param": "sigma",
          "value": 0.6746744224864304
         },
         {
          "param": "sigma",
          "value": 0.7447009876817887
         },
         {
          "param": "sigma",
          "value": 0.7676530031264825
         },
         {
          "param": "sigma",
          "value": 0.7266667643697845
         },
         {
          "param": "sigma",
          "value": 0.7230920872481451
         },
         {
          "param": "sigma",
          "value": 0.6458003117548182
         },
         {
          "param": "sigma",
          "value": 0.879210441104827
         },
         {
          "param": "sigma",
          "value": 0.8004159173535579
         },
         {
          "param": "sigma",
          "value": 0.7814524654506801
         },
         {
          "param": "sigma",
          "value": 0.8471015805224381
         },
         {
          "param": "sigma",
          "value": 0.7588025969264969
         },
         {
          "param": "sigma",
          "value": 0.8780966997983433
         },
         {
          "param": "sigma",
          "value": 0.7439912592104918
         },
         {
          "param": "sigma",
          "value": 0.6810453015594703
         },
         {
          "param": "sigma",
          "value": 0.7684403278532228
         },
         {
          "param": "sigma",
          "value": 0.6136688176003929
         },
         {
          "param": "sigma",
          "value": 0.7839759068868402
         },
         {
          "param": "sigma",
          "value": 0.8174851880428281
         },
         {
          "param": "sigma",
          "value": 0.7608673690797517
         },
         {
          "param": "sigma",
          "value": 0.6959883515640231
         },
         {
          "param": "sigma",
          "value": 0.6750017232230487
         },
         {
          "param": "sigma",
          "value": 0.7241779022176202
         },
         {
          "param": "sigma",
          "value": 0.6894950211664966
         },
         {
          "param": "sigma",
          "value": 0.7368427581593721
         },
         {
          "param": "sigma",
          "value": 0.9577586225416616
         },
         {
          "param": "sigma",
          "value": 0.7286109579299788
         },
         {
          "param": "sigma",
          "value": 0.7961488126484634
         },
         {
          "param": "sigma",
          "value": 0.8377549148453306
         },
         {
          "param": "sigma",
          "value": 0.8752328432103934
         },
         {
          "param": "sigma",
          "value": 0.6884440188849889
         },
         {
          "param": "sigma",
          "value": 0.7353146340108812
         },
         {
          "param": "sigma",
          "value": 0.7707991283045977
         },
         {
          "param": "sigma",
          "value": 0.6928276393775676
         },
         {
          "param": "sigma",
          "value": 0.7504144378930862
         },
         {
          "param": "sigma",
          "value": 0.681612270334628
         },
         {
          "param": "sigma",
          "value": 0.7309059828750458
         },
         {
          "param": "sigma",
          "value": 0.6947308116953891
         },
         {
          "param": "sigma",
          "value": 0.6861131946543632
         },
         {
          "param": "sigma",
          "value": 0.7733268209426835
         },
         {
          "param": "sigma",
          "value": 0.7969166968021791
         },
         {
          "param": "sigma",
          "value": 0.7649654271641199
         },
         {
          "param": "sigma",
          "value": 0.7865205079669382
         },
         {
          "param": "sigma",
          "value": 0.7401101569332387
         },
         {
          "param": "sigma",
          "value": 0.7691144887597684
         },
         {
          "param": "sigma",
          "value": 0.6562900480460048
         },
         {
          "param": "sigma",
          "value": 0.6449576949011456
         },
         {
          "param": "sigma",
          "value": 0.6941159642355226
         },
         {
          "param": "sigma",
          "value": 0.7915539613499808
         },
         {
          "param": "sigma",
          "value": 0.6891198553851937
         },
         {
          "param": "sigma",
          "value": 0.7008518874035536
         },
         {
          "param": "sigma",
          "value": 0.8111832996779479
         },
         {
          "param": "sigma",
          "value": 0.7405377753124879
         },
         {
          "param": "sigma",
          "value": 0.8321811241025576
         },
         {
          "param": "sigma",
          "value": 0.9065700903259384
         },
         {
          "param": "sigma",
          "value": 0.6957308703857478
         },
         {
          "param": "sigma",
          "value": 0.8027373211407332
         },
         {
          "param": "sigma",
          "value": 0.7846973058587946
         },
         {
          "param": "sigma",
          "value": 0.6664102401885009
         },
         {
          "param": "sigma",
          "value": 0.7862047738545662
         },
         {
          "param": "sigma",
          "value": 0.8086136638652374
         },
         {
          "param": "sigma",
          "value": 0.778975675913857
         },
         {
          "param": "sigma",
          "value": 0.6549655212002001
         },
         {
          "param": "sigma",
          "value": 0.807451267318087
         },
         {
          "param": "sigma",
          "value": 0.9057018956879727
         },
         {
          "param": "sigma",
          "value": 0.7255794610836819
         },
         {
          "param": "sigma",
          "value": 0.611992173218311
         },
         {
          "param": "sigma",
          "value": 0.7859465407315414
         },
         {
          "param": "sigma",
          "value": 0.7054789735383608
         },
         {
          "param": "sigma",
          "value": 0.6776595389535264
         },
         {
          "param": "sigma",
          "value": 0.7738153221976972
         },
         {
          "param": "sigma",
          "value": 0.6822935171960022
         },
         {
          "param": "sigma",
          "value": 0.7371717004858772
         },
         {
          "param": "sigma",
          "value": 0.8662294442787174
         },
         {
          "param": "sigma",
          "value": 0.7507462318140652
         },
         {
          "param": "sigma",
          "value": 0.7980327395522407
         },
         {
          "param": "sigma",
          "value": 0.8115948335321866
         },
         {
          "param": "sigma",
          "value": 0.8828619480907975
         },
         {
          "param": "sigma",
          "value": 0.7082354246892326
         },
         {
          "param": "sigma",
          "value": 0.7309183423987756
         },
         {
          "param": "sigma",
          "value": 0.6748783515104919
         },
         {
          "param": "sigma",
          "value": 0.6522429799456254
         },
         {
          "param": "sigma",
          "value": 0.8278327518400415
         },
         {
          "param": "sigma",
          "value": 0.7980366696515881
         },
         {
          "param": "sigma",
          "value": 0.638851363290167
         },
         {
          "param": "sigma",
          "value": 0.9396159064361629
         },
         {
          "param": "sigma",
          "value": 0.7141066089241238
         },
         {
          "param": "sigma",
          "value": 0.7810155254137524
         },
         {
          "param": "sigma",
          "value": 0.8902300896409998
         },
         {
          "param": "sigma",
          "value": 0.7238285215469055
         },
         {
          "param": "sigma",
          "value": 0.7058774133715909
         },
         {
          "param": "sigma",
          "value": 0.8185564007615027
         },
         {
          "param": "sigma",
          "value": 0.8324626558766643
         },
         {
          "param": "sigma",
          "value": 0.7218743768626056
         },
         {
          "param": "sigma",
          "value": 0.7801771230922868
         },
         {
          "param": "sigma",
          "value": 0.6914066942935843
         },
         {
          "param": "sigma",
          "value": 0.7210204782069767
         },
         {
          "param": "sigma",
          "value": 0.7130046587962928
         },
         {
          "param": "sigma",
          "value": 0.6797053968297805
         },
         {
          "param": "sigma",
          "value": 0.8123386141089705
         },
         {
          "param": "sigma",
          "value": 0.6898762287346112
         },
         {
          "param": "sigma",
          "value": 0.9464802766152395
         },
         {
          "param": "sigma",
          "value": 0.7945649813176804
         },
         {
          "param": "sigma",
          "value": 0.7314051744702367
         },
         {
          "param": "sigma",
          "value": 0.7691433800335978
         },
         {
          "param": "sigma",
          "value": 0.6725000395714532
         },
         {
          "param": "sigma",
          "value": 0.697516658379876
         },
         {
          "param": "sigma",
          "value": 0.7996346581673591
         },
         {
          "param": "sigma",
          "value": 0.748865289518092
         },
         {
          "param": "sigma",
          "value": 0.797281403528788
         },
         {
          "param": "sigma",
          "value": 0.7186556867363146
         },
         {
          "param": "sigma",
          "value": 0.7748229754579475
         },
         {
          "param": "sigma",
          "value": 0.755015219432127
         },
         {
          "param": "sigma",
          "value": 0.6700714724280912
         },
         {
          "param": "sigma",
          "value": 0.791308341279789
         },
         {
          "param": "sigma",
          "value": 0.7666683896116206
         },
         {
          "param": "sigma",
          "value": 0.7629083703450644
         },
         {
          "param": "sigma",
          "value": 0.7724746946292772
         },
         {
          "param": "sigma",
          "value": 0.6763880010442166
         },
         {
          "param": "sigma",
          "value": 0.736181724539454
         },
         {
          "param": "sigma",
          "value": 0.7788435822944065
         },
         {
          "param": "sigma",
          "value": 0.7479286376210106
         },
         {
          "param": "sigma",
          "value": 0.8759006016135877
         },
         {
          "param": "sigma",
          "value": 0.7847322314711188
         },
         {
          "param": "sigma",
          "value": 0.7745027761859512
         },
         {
          "param": "sigma",
          "value": 0.6515699042779236
         },
         {
          "param": "sigma",
          "value": 0.7211433282447481
         },
         {
          "param": "sigma",
          "value": 0.6412590103852377
         },
         {
          "param": "sigma",
          "value": 0.7723075979078734
         },
         {
          "param": "sigma",
          "value": 0.7286825209655212
         },
         {
          "param": "sigma",
          "value": 0.8609001341343664
         },
         {
          "param": "sigma",
          "value": 0.9310805819287401
         },
         {
          "param": "sigma",
          "value": 0.7500015764891095
         },
         {
          "param": "sigma",
          "value": 0.7601712268962136
         },
         {
          "param": "sigma",
          "value": 0.6939439453957801
         },
         {
          "param": "sigma",
          "value": 0.8183498117118898
         },
         {
          "param": "sigma",
          "value": 0.8215067278728283
         },
         {
          "param": "sigma",
          "value": 0.7255812271709303
         },
         {
          "param": "sigma",
          "value": 0.6992128500229318
         },
         {
          "param": "sigma",
          "value": 0.9309829534785375
         },
         {
          "param": "sigma",
          "value": 0.809793761573164
         },
         {
          "param": "sigma",
          "value": 0.8319351057450582
         },
         {
          "param": "sigma",
          "value": 0.7575823444123879
         },
         {
          "param": "sigma",
          "value": 0.925458428878722
         },
         {
          "param": "sigma",
          "value": 0.7070715630083886
         },
         {
          "param": "sigma",
          "value": 0.6891687207185047
         },
         {
          "param": "sigma",
          "value": 0.7114254658308414
         },
         {
          "param": "sigma",
          "value": 0.8047663615838921
         },
         {
          "param": "sigma",
          "value": 0.8647034502161507
         },
         {
          "param": "sigma",
          "value": 0.8111905400195756
         },
         {
          "param": "sigma",
          "value": 0.8261373826841918
         },
         {
          "param": "sigma",
          "value": 0.8507680701357162
         },
         {
          "param": "sigma",
          "value": 0.6962517944519858
         },
         {
          "param": "sigma",
          "value": 0.7736173901190432
         },
         {
          "param": "sigma",
          "value": 0.7864697606651754
         },
         {
          "param": "sigma",
          "value": 0.8362793391314567
         },
         {
          "param": "sigma",
          "value": 0.7075351963429054
         },
         {
          "param": "sigma",
          "value": 0.631647160362844
         },
         {
          "param": "sigma",
          "value": 0.9971933944972788
         },
         {
          "param": "sigma",
          "value": 0.6869119779303835
         },
         {
          "param": "sigma",
          "value": 0.7671962861838344
         },
         {
          "param": "sigma",
          "value": 0.9016221463333738
         },
         {
          "param": "sigma",
          "value": 0.5960394755439257
         },
         {
          "param": "sigma",
          "value": 0.699199578500019
         },
         {
          "param": "sigma",
          "value": 0.8105729875884067
         },
         {
          "param": "sigma",
          "value": 0.7601448615543768
         },
         {
          "param": "sigma",
          "value": 0.889191011660353
         },
         {
          "param": "sigma",
          "value": 0.7890691470364459
         },
         {
          "param": "sigma",
          "value": 0.664684534213318
         },
         {
          "param": "sigma",
          "value": 0.7668300309835037
         },
         {
          "param": "sigma",
          "value": 0.8774685603042129
         },
         {
          "param": "sigma",
          "value": 0.7044162834336071
         },
         {
          "param": "sigma",
          "value": 0.8209456401611973
         },
         {
          "param": "sigma",
          "value": 0.734269829331032
         },
         {
          "param": "sigma",
          "value": 0.7279879646001902
         },
         {
          "param": "sigma",
          "value": 0.7290051300210532
         },
         {
          "param": "sigma",
          "value": 0.8397617022686875
         },
         {
          "param": "sigma",
          "value": 0.7420970770892782
         },
         {
          "param": "sigma",
          "value": 1.0165703416497647
         },
         {
          "param": "sigma",
          "value": 0.6584377425231448
         },
         {
          "param": "sigma",
          "value": 0.8433666900791295
         },
         {
          "param": "sigma",
          "value": 0.8204698111674825
         },
         {
          "param": "sigma",
          "value": 0.8863411433907737
         },
         {
          "param": "sigma",
          "value": 0.6584377425231448
         },
         {
          "param": "sigma",
          "value": 0.7200890786980139
         },
         {
          "param": "sigma",
          "value": 0.6781662463319359
         },
         {
          "param": "sigma",
          "value": 0.7655208993022102
         },
         {
          "param": "sigma",
          "value": 0.7718846676927472
         },
         {
          "param": "sigma",
          "value": 0.6172912074688058
         },
         {
          "param": "sigma",
          "value": 0.7523871556371438
         },
         {
          "param": "sigma",
          "value": 0.6624289212919653
         },
         {
          "param": "sigma",
          "value": 0.7056540578004298
         },
         {
          "param": "sigma",
          "value": 0.9014349017256728
         },
         {
          "param": "sigma",
          "value": 0.7578709832103854
         },
         {
          "param": "sigma",
          "value": 0.8567116873655358
         },
         {
          "param": "sigma",
          "value": 0.7155423263695652
         },
         {
          "param": "sigma",
          "value": 0.6438804671465223
         },
         {
          "param": "sigma",
          "value": 0.7056283818813512
         },
         {
          "param": "sigma",
          "value": 0.8356158578621965
         },
         {
          "param": "sigma",
          "value": 0.7537465012513389
         },
         {
          "param": "sigma",
          "value": 0.7174198942882537
         },
         {
          "param": "sigma",
          "value": 0.784171576398218
         },
         {
          "param": "sigma",
          "value": 0.6647711659186321
         },
         {
          "param": "sigma",
          "value": 0.7787708042415707
         },
         {
          "param": "sigma",
          "value": 0.7281605680433203
         },
         {
          "param": "sigma",
          "value": 0.7874037984423127
         },
         {
          "param": "sigma",
          "value": 0.853257771244305
         },
         {
          "param": "sigma",
          "value": 0.6489128511054861
         },
         {
          "param": "sigma",
          "value": 0.7909151128748184
         },
         {
          "param": "sigma",
          "value": 0.7061457154570454
         },
         {
          "param": "sigma",
          "value": 0.7727745672666688
         },
         {
          "param": "sigma",
          "value": 0.8745034873484706
         },
         {
          "param": "sigma",
          "value": 0.8661437754211091
         },
         {
          "param": "sigma",
          "value": 0.7782249246730746
         },
         {
          "param": "sigma",
          "value": 0.8825375701875581
         },
         {
          "param": "sigma",
          "value": 0.6816361885333365
         },
         {
          "param": "sigma",
          "value": 1.0100686060061197
         },
         {
          "param": "sigma",
          "value": 0.6804626741209461
         },
         {
          "param": "sigma",
          "value": 0.8366040201769925
         },
         {
          "param": "sigma",
          "value": 0.8755086425055593
         },
         {
          "param": "sigma",
          "value": 0.5944274098256297
         },
         {
          "param": "sigma",
          "value": 0.9276982998763279
         },
         {
          "param": "sigma",
          "value": 0.68313250870207
         },
         {
          "param": "sigma",
          "value": 0.8247588112663473
         },
         {
          "param": "sigma",
          "value": 0.8225465959618888
         },
         {
          "param": "sigma",
          "value": 0.7667783180765155
         },
         {
          "param": "sigma",
          "value": 0.8073462243419157
         },
         {
          "param": "sigma",
          "value": 0.7469649692584083
         },
         {
          "param": "sigma",
          "value": 0.7652912316629864
         },
         {
          "param": "sigma",
          "value": 0.8421192725660164
         },
         {
          "param": "sigma",
          "value": 0.7513444107297471
         },
         {
          "param": "sigma",
          "value": 0.7915294523087422
         },
         {
          "param": "sigma",
          "value": 0.7218499548621619
         },
         {
          "param": "sigma",
          "value": 0.6521226643845878
         },
         {
          "param": "sigma",
          "value": 0.781528156624767
         },
         {
          "param": "sigma",
          "value": 0.6799142883227907
         },
         {
          "param": "sigma",
          "value": 0.7097912021162657
         },
         {
          "param": "sigma",
          "value": 0.807282900327693
         },
         {
          "param": "sigma",
          "value": 0.7131595332555477
         },
         {
          "param": "sigma",
          "value": 0.8521340073417025
         },
         {
          "param": "sigma",
          "value": 0.6473377273540399
         },
         {
          "param": "sigma",
          "value": 0.8229333802639444
         },
         {
          "param": "sigma",
          "value": 0.7964331897202332
         },
         {
          "param": "sigma",
          "value": 0.792895014322684
         },
         {
          "param": "sigma",
          "value": 0.747878912225077
         },
         {
          "param": "sigma",
          "value": 0.7819051942709883
         },
         {
          "param": "sigma",
          "value": 0.7350724670473889
         },
         {
          "param": "sigma",
          "value": 0.7548396708271533
         },
         {
          "param": "sigma",
          "value": 0.7218743143929607
         },
         {
          "param": "sigma",
          "value": 0.7837922767091031
         },
         {
          "param": "sigma",
          "value": 0.9063069377477208
         },
         {
          "param": "sigma",
          "value": 0.7536715476510413
         },
         {
          "param": "sigma",
          "value": 0.7501844463171663
         },
         {
          "param": "sigma",
          "value": 0.8418887684398365
         },
         {
          "param": "sigma",
          "value": 0.7959183832914828
         },
         {
          "param": "sigma",
          "value": 0.749143132339152
         },
         {
          "param": "sigma",
          "value": 0.7297703008171257
         },
         {
          "param": "sigma",
          "value": 0.6384329479923512
         },
         {
          "param": "sigma",
          "value": 0.6767168723885943
         },
         {
          "param": "sigma",
          "value": 0.7879493579103019
         },
         {
          "param": "sigma",
          "value": 0.7227079779103764
         },
         {
          "param": "sigma",
          "value": 0.9087486703424316
         },
         {
          "param": "sigma",
          "value": 0.715082278795194
         },
         {
          "param": "sigma",
          "value": 0.690360109455435
         },
         {
          "param": "sigma",
          "value": 0.6909860417566749
         },
         {
          "param": "sigma",
          "value": 0.7653870932164076
         },
         {
          "param": "sigma",
          "value": 0.6930168658524731
         },
         {
          "param": "sigma",
          "value": 0.8684777476364707
         },
         {
          "param": "sigma",
          "value": 0.7563534304100592
         },
         {
          "param": "sigma",
          "value": 0.7037499709433138
         },
         {
          "param": "sigma",
          "value": 0.8054331587220324
         },
         {
          "param": "sigma",
          "value": 0.7779196182376911
         },
         {
          "param": "sigma",
          "value": 0.7623769508408599
         },
         {
          "param": "sigma",
          "value": 0.7723198293981867
         },
         {
          "param": "sigma",
          "value": 0.7301989370789883
         },
         {
          "param": "sigma",
          "value": 0.831167290129616
         },
         {
          "param": "sigma",
          "value": 0.7485244592780548
         },
         {
          "param": "sigma",
          "value": 0.8382908437291638
         },
         {
          "param": "sigma",
          "value": 0.8908835316938719
         },
         {
          "param": "sigma",
          "value": 0.6599976060473304
         },
         {
          "param": "sigma",
          "value": 0.745114553980287
         },
         {
          "param": "sigma",
          "value": 0.7637263093090364
         },
         {
          "param": "sigma",
          "value": 0.6642559052771001
         },
         {
          "param": "sigma",
          "value": 0.6517913828644188
         },
         {
          "param": "sigma",
          "value": 0.820783027262782
         },
         {
          "param": "sigma",
          "value": 0.7607593572345533
         },
         {
          "param": "sigma",
          "value": 0.880145318545687
         },
         {
          "param": "sigma",
          "value": 0.7221907343852739
         },
         {
          "param": "sigma",
          "value": 0.6576810631903067
         },
         {
          "param": "sigma",
          "value": 0.7338657727173074
         },
         {
          "param": "sigma",
          "value": 0.6976833889821504
         },
         {
          "param": "sigma",
          "value": 0.7599129854290937
         },
         {
          "param": "sigma",
          "value": 0.7481475642878679
         },
         {
          "param": "sigma",
          "value": 0.7626897885869941
         },
         {
          "param": "sigma",
          "value": 0.8402310876844299
         },
         {
          "param": "sigma",
          "value": 0.7540536830362145
         },
         {
          "param": "sigma",
          "value": 0.7880156117185796
         },
         {
          "param": "sigma",
          "value": 0.8924032252578209
         },
         {
          "param": "sigma",
          "value": 0.8487312357805541
         },
         {
          "param": "sigma",
          "value": 0.6668435168375767
         },
         {
          "param": "sigma",
          "value": 0.891699010637739
         },
         {
          "param": "sigma",
          "value": 0.7237558754105452
         },
         {
          "param": "sigma",
          "value": 0.8810200780272535
         },
         {
          "param": "sigma",
          "value": 0.683677010787874
         },
         {
          "param": "sigma",
          "value": 0.6892684961693551
         },
         {
          "param": "sigma",
          "value": 0.8034287944010683
         },
         {
          "param": "sigma",
          "value": 0.7436082907784775
         },
         {
          "param": "sigma",
          "value": 0.8532313308114807
         },
         {
          "param": "sigma",
          "value": 0.6887356053357674
         },
         {
          "param": "sigma",
          "value": 0.6984941804384917
         },
         {
          "param": "sigma",
          "value": 0.7225636793217515
         },
         {
          "param": "sigma",
          "value": 0.9356752130191801
         },
         {
          "param": "sigma",
          "value": 0.676984872738459
         },
         {
          "param": "sigma",
          "value": 0.6984941804384917
         },
         {
          "param": "sigma",
          "value": 0.8575751544433386
         },
         {
          "param": "sigma",
          "value": 0.8167626340224897
         },
         {
          "param": "sigma",
          "value": 0.7281838727579628
         },
         {
          "param": "sigma",
          "value": 0.8638323575294792
         },
         {
          "param": "sigma",
          "value": 0.8868962136661995
         },
         {
          "param": "sigma",
          "value": 0.755744903543958
         },
         {
          "param": "sigma",
          "value": 0.851288359259884
         },
         {
          "param": "sigma",
          "value": 0.6851411185752786
         },
         {
          "param": "sigma",
          "value": 0.6900784427686698
         },
         {
          "param": "sigma",
          "value": 0.7536764565938999
         },
         {
          "param": "sigma",
          "value": 0.6693271255203834
         },
         {
          "param": "sigma",
          "value": 0.7083145813922616
         },
         {
          "param": "sigma",
          "value": 0.7033658650571627
         },
         {
          "param": "sigma",
          "value": 0.7778969621711331
         },
         {
          "param": "sigma",
          "value": 0.7485256249365844
         },
         {
          "param": "sigma",
          "value": 0.7629742479050448
         },
         {
          "param": "sigma",
          "value": 0.7302355855390983
         },
         {
          "param": "sigma",
          "value": 0.799982146262362
         },
         {
          "param": "sigma",
          "value": 0.6376157943185531
         },
         {
          "param": "sigma",
          "value": 0.675072041748212
         },
         {
          "param": "sigma",
          "value": 0.7746084902682134
         },
         {
          "param": "sigma",
          "value": 0.7304890455511857
         },
         {
          "param": "sigma",
          "value": 0.6383037529784019
         },
         {
          "param": "sigma",
          "value": 0.6624512096524622
         },
         {
          "param": "sigma",
          "value": 0.7044885023384979
         },
         {
          "param": "sigma",
          "value": 0.8287169372348614
         },
         {
          "param": "sigma",
          "value": 0.8434335976523607
         },
         {
          "param": "sigma",
          "value": 0.8563877881637979
         },
         {
          "param": "sigma",
          "value": 0.7941730972129013
         },
         {
          "param": "sigma",
          "value": 0.7016724053663832
         },
         {
          "param": "sigma",
          "value": 0.6875184220204602
         },
         {
          "param": "sigma",
          "value": 0.6995651929048036
         },
         {
          "param": "sigma",
          "value": 0.7277928904036316
         },
         {
          "param": "sigma",
          "value": 0.6832839223597252
         },
         {
          "param": "sigma",
          "value": 0.874527998253012
         },
         {
          "param": "sigma",
          "value": 0.6676389082764929
         },
         {
          "param": "sigma",
          "value": 0.6449226859698383
         },
         {
          "param": "sigma",
          "value": 0.7821863244499102
         },
         {
          "param": "sigma",
          "value": 0.6837177951659816
         },
         {
          "param": "sigma",
          "value": 0.8703057905414817
         },
         {
          "param": "sigma",
          "value": 0.8619796324053862
         },
         {
          "param": "sigma",
          "value": 0.6604789089341132
         },
         {
          "param": "sigma",
          "value": 0.6685331296867839
         },
         {
          "param": "sigma",
          "value": 0.6526858838500841
         },
         {
          "param": "sigma",
          "value": 0.9188101722671578
         },
         {
          "param": "sigma",
          "value": 0.6704699423591066
         },
         {
          "param": "sigma",
          "value": 0.7121324215525532
         },
         {
          "param": "sigma",
          "value": 0.8560398484606503
         },
         {
          "param": "sigma",
          "value": 0.6515769421489526
         },
         {
          "param": "sigma",
          "value": 0.6212260383325756
         },
         {
          "param": "sigma",
          "value": 0.8325110640262777
         },
         {
          "param": "sigma",
          "value": 0.8655529040090458
         },
         {
          "param": "sigma",
          "value": 0.7432239783167057
         },
         {
          "param": "sigma",
          "value": 0.714889466348282
         },
         {
          "param": "sigma",
          "value": 0.6761498789208518
         },
         {
          "param": "sigma",
          "value": 0.6573115853830831
         },
         {
          "param": "sigma",
          "value": 0.7475132004665477
         },
         {
          "param": "sigma",
          "value": 0.8096878460864624
         },
         {
          "param": "sigma",
          "value": 0.681309463810053
         },
         {
          "param": "sigma",
          "value": 0.7230172767398434
         },
         {
          "param": "sigma",
          "value": 0.8380679469623017
         },
         {
          "param": "sigma",
          "value": 0.9478265954294354
         },
         {
          "param": "sigma",
          "value": 0.7376934112024262
         },
         {
          "param": "sigma",
          "value": 0.6991653737651725
         },
         {
          "param": "sigma",
          "value": 0.7608227058606191
         },
         {
          "param": "sigma",
          "value": 0.66136603764952
         },
         {
          "param": "sigma",
          "value": 0.6713611052166796
         },
         {
          "param": "sigma",
          "value": 0.6533753772339872
         },
         {
          "param": "sigma",
          "value": 0.7884469102706131
         },
         {
          "param": "sigma",
          "value": 0.679225263634812
         },
         {
          "param": "sigma",
          "value": 0.8043010146978562
         },
         {
          "param": "sigma",
          "value": 0.6772267419000296
         },
         {
          "param": "sigma",
          "value": 0.8040256262270701
         },
         {
          "param": "sigma",
          "value": 0.7704995972028431
         },
         {
          "param": "sigma",
          "value": 0.6595144443922594
         },
         {
          "param": "sigma",
          "value": 0.6370200575978004
         },
         {
          "param": "sigma",
          "value": 0.7521051844250995
         },
         {
          "param": "sigma",
          "value": 0.7704995972028431
         },
         {
          "param": "sigma",
          "value": 0.6681295937216588
         },
         {
          "param": "sigma",
          "value": 0.8905186350859461
         },
         {
          "param": "sigma",
          "value": 0.8142118336549969
         },
         {
          "param": "sigma",
          "value": 0.8120945688453944
         },
         {
          "param": "sigma",
          "value": 0.7475910414026433
         },
         {
          "param": "sigma",
          "value": 0.8098840327506049
         },
         {
          "param": "sigma",
          "value": 0.8306387814905727
         },
         {
          "param": "sigma",
          "value": 0.806078025861927
         },
         {
          "param": "sigma",
          "value": 0.7044805037812579
         },
         {
          "param": "sigma",
          "value": 0.8689154233720525
         },
         {
          "param": "sigma",
          "value": 0.8292134290924843
         },
         {
          "param": "sigma",
          "value": 0.8749952392389869
         },
         {
          "param": "sigma",
          "value": 0.6364330443677653
         },
         {
          "param": "sigma",
          "value": 0.6729836368436419
         },
         {
          "param": "sigma",
          "value": 0.6611402781799325
         },
         {
          "param": "sigma",
          "value": 0.7206415631771491
         },
         {
          "param": "sigma",
          "value": 0.7089367027226202
         },
         {
          "param": "sigma",
          "value": 0.648402661366952
         },
         {
          "param": "sigma",
          "value": 0.6896866114078789
         },
         {
          "param": "sigma",
          "value": 0.6129024653471864
         },
         {
          "param": "sigma",
          "value": 0.7433563064792136
         },
         {
          "param": "sigma",
          "value": 0.7063993979404611
         },
         {
          "param": "sigma",
          "value": 0.6827668124895147
         },
         {
          "param": "sigma",
          "value": 0.9407722306477648
         },
         {
          "param": "sigma",
          "value": 0.8158130191844218
         },
         {
          "param": "sigma",
          "value": 0.5766136144288775
         },
         {
          "param": "sigma",
          "value": 0.774218130965361
         },
         {
          "param": "sigma",
          "value": 0.6833658060599072
         },
         {
          "param": "sigma",
          "value": 0.6708158300993877
         },
         {
          "param": "sigma",
          "value": 0.6861519152265325
         },
         {
          "param": "sigma",
          "value": 0.8161875028646721
         },
         {
          "param": "sigma",
          "value": 0.8252787906655852
         },
         {
          "param": "sigma",
          "value": 0.957446228047167
         },
         {
          "param": "sigma",
          "value": 0.7899139276823884
         },
         {
          "param": "sigma",
          "value": 0.6738741614049485
         },
         {
          "param": "sigma",
          "value": 0.8272342063953367
         },
         {
          "param": "sigma",
          "value": 0.7029206886835969
         },
         {
          "param": "sigma",
          "value": 0.8978047953172984
         },
         {
          "param": "sigma",
          "value": 0.820341362673981
         },
         {
          "param": "sigma",
          "value": 0.8318757295820443
         },
         {
          "param": "sigma",
          "value": 0.723052675138137
         },
         {
          "param": "sigma",
          "value": 0.7464903894525869
         },
         {
          "param": "sigma",
          "value": 0.6957394119554101
         },
         {
          "param": "sigma",
          "value": 0.7570740224876036
         },
         {
          "param": "sigma",
          "value": 0.7753907754465003
         },
         {
          "param": "sigma",
          "value": 0.8226051593178528
         },
         {
          "param": "sigma",
          "value": 0.7035725561896919
         },
         {
          "param": "sigma",
          "value": 0.7338838324417755
         },
         {
          "param": "sigma",
          "value": 0.6821861808297016
         },
         {
          "param": "sigma",
          "value": 0.7339514670756375
         },
         {
          "param": "sigma",
          "value": 0.7489052027449953
         },
         {
          "param": "sigma",
          "value": 0.7369134904887561
         },
         {
          "param": "sigma",
          "value": 0.6624909767864321
         },
         {
          "param": "sigma",
          "value": 0.8266789024591553
         },
         {
          "param": "sigma",
          "value": 0.7759641016135044
         },
         {
          "param": "sigma",
          "value": 0.7584982343480772
         },
         {
          "param": "sigma",
          "value": 0.7622507331222574
         },
         {
          "param": "sigma",
          "value": 0.6565244620561412
         },
         {
          "param": "sigma",
          "value": 0.8125294509218794
         },
         {
          "param": "sigma",
          "value": 0.7430321630645129
         },
         {
          "param": "sigma",
          "value": 0.7642336933439708
         },
         {
          "param": "sigma",
          "value": 0.6974664053070175
         },
         {
          "param": "sigma",
          "value": 0.773647486179717
         },
         {
          "param": "sigma",
          "value": 0.7556676156576947
         },
         {
          "param": "sigma",
          "value": 0.7781779947835323
         },
         {
          "param": "sigma",
          "value": 0.7684645047244386
         },
         {
          "param": "sigma",
          "value": 0.7120217671099563
         },
         {
          "param": "sigma",
          "value": 0.7038828753162911
         },
         {
          "param": "sigma",
          "value": 0.6852419815370617
         },
         {
          "param": "sigma",
          "value": 0.7312806022446829
         },
         {
          "param": "sigma",
          "value": 0.8314338890489774
         },
         {
          "param": "sigma",
          "value": 0.8357822727465581
         },
         {
          "param": "sigma",
          "value": 0.6780192996467497
         },
         {
          "param": "sigma",
          "value": 0.800013324043946
         },
         {
          "param": "sigma",
          "value": 0.7341639686014044
         },
         {
          "param": "sigma",
          "value": 0.9125094884685299
         },
         {
          "param": "sigma",
          "value": 0.7929925123451484
         },
         {
          "param": "sigma",
          "value": 0.7131331543872165
         },
         {
          "param": "sigma",
          "value": 0.7805586649439621
         },
         {
          "param": "sigma",
          "value": 0.6864546189354184
         },
         {
          "param": "sigma",
          "value": 0.6509767387004985
         },
         {
          "param": "sigma",
          "value": 0.6549105390585421
         },
         {
          "param": "sigma",
          "value": 0.7680880213290942
         },
         {
          "param": "sigma",
          "value": 0.7841321792537285
         },
         {
          "param": "sigma",
          "value": 0.6401536654560552
         },
         {
          "param": "sigma",
          "value": 0.7491612447302174
         },
         {
          "param": "sigma",
          "value": 0.7096166698214806
         },
         {
          "param": "sigma",
          "value": 0.7382265775706649
         },
         {
          "param": "sigma",
          "value": 0.6147549029063186
         },
         {
          "param": "sigma",
          "value": 0.7953749340122543
         },
         {
          "param": "sigma",
          "value": 0.6704133136510598
         },
         {
          "param": "sigma",
          "value": 0.7596005955417077
         },
         {
          "param": "sigma",
          "value": 0.863819770805751
         },
         {
          "param": "sigma",
          "value": 0.698945386479807
         },
         {
          "param": "sigma",
          "value": 0.6460407466222383
         },
         {
          "param": "sigma",
          "value": 0.7619738133899747
         },
         {
          "param": "sigma",
          "value": 0.7578384071280044
         },
         {
          "param": "sigma",
          "value": 0.675042460080054
         },
         {
          "param": "sigma",
          "value": 0.812663328044387
         },
         {
          "param": "sigma",
          "value": 0.8037024046222694
         },
         {
          "param": "sigma",
          "value": 0.7249233527099287
         },
         {
          "param": "sigma",
          "value": 0.8825002280192039
         },
         {
          "param": "sigma",
          "value": 0.7130893657338034
         },
         {
          "param": "sigma",
          "value": 0.8501434074784102
         },
         {
          "param": "sigma",
          "value": 0.7576349077147545
         },
         {
          "param": "sigma",
          "value": 0.6419904186467545
         },
         {
          "param": "sigma",
          "value": 0.7195231449434301
         },
         {
          "param": "sigma",
          "value": 0.6735710026838024
         },
         {
          "param": "sigma",
          "value": 0.7228560976229852
         },
         {
          "param": "sigma",
          "value": 0.8241778086510017
         },
         {
          "param": "sigma",
          "value": 0.7363521787052724
         },
         {
          "param": "sigma",
          "value": 0.7964978958338758
         },
         {
          "param": "sigma",
          "value": 0.7476090000497886
         },
         {
          "param": "sigma",
          "value": 0.7608538726143617
         },
         {
          "param": "sigma",
          "value": 0.7236907371205382
         },
         {
          "param": "sigma",
          "value": 0.6335797284322208
         },
         {
          "param": "sigma",
          "value": 0.6686526474753118
         },
         {
          "param": "sigma",
          "value": 0.8026599343582431
         },
         {
          "param": "sigma",
          "value": 0.8665662251330911
         },
         {
          "param": "sigma",
          "value": 0.6961575616851564
         },
         {
          "param": "sigma",
          "value": 0.9363816413937098
         },
         {
          "param": "sigma",
          "value": 0.6845050972230826
         },
         {
          "param": "sigma",
          "value": 0.6519763431000477
         },
         {
          "param": "sigma",
          "value": 0.6961575616851564
         },
         {
          "param": "sigma",
          "value": 0.8057218709193087
         },
         {
          "param": "sigma",
          "value": 0.7412345102134134
         },
         {
          "param": "sigma",
          "value": 0.8893453090087887
         },
         {
          "param": "sigma",
          "value": 0.6505075338010673
         },
         {
          "param": "sigma",
          "value": 0.6388815340770122
         },
         {
          "param": "sigma",
          "value": 0.6812224206073284
         },
         {
          "param": "sigma",
          "value": 0.6338573279461147
         },
         {
          "param": "sigma",
          "value": 0.7689445142890814
         },
         {
          "param": "sigma",
          "value": 0.8906184994453112
         },
         {
          "param": "sigma",
          "value": 0.8027201178766877
         },
         {
          "param": "sigma",
          "value": 0.7582167608157074
         },
         {
          "param": "sigma",
          "value": 0.7637016187061476
         },
         {
          "param": "sigma",
          "value": 0.7037063854110268
         },
         {
          "param": "sigma",
          "value": 0.9540036870482952
         },
         {
          "param": "sigma",
          "value": 0.7937948793479112
         },
         {
          "param": "sigma",
          "value": 0.6536411909876616
         },
         {
          "param": "sigma",
          "value": 0.8262842594646289
         },
         {
          "param": "sigma",
          "value": 0.8151405580962073
         },
         {
          "param": "sigma",
          "value": 0.6384397710299313
         },
         {
          "param": "sigma",
          "value": 0.661604474504014
         },
         {
          "param": "sigma",
          "value": 0.8660033900736909
         },
         {
          "param": "sigma",
          "value": 0.7325528495771979
         },
         {
          "param": "sigma",
          "value": 0.7378879472057626
         },
         {
          "param": "sigma",
          "value": 0.5764475723547924
         },
         {
          "param": "sigma",
          "value": 0.6937282333091633
         },
         {
          "param": "sigma",
          "value": 0.7781847229868394
         },
         {
          "param": "sigma",
          "value": 0.7975294697795079
         },
         {
          "param": "sigma",
          "value": 0.6635354154763636
         },
         {
          "param": "sigma",
          "value": 0.7717571616748936
         },
         {
          "param": "sigma",
          "value": 0.6827668832158528
         },
         {
          "param": "sigma",
          "value": 0.8377712587188243
         },
         {
          "param": "sigma",
          "value": 0.6355450656581544
         },
         {
          "param": "sigma",
          "value": 0.711620397797892
         },
         {
          "param": "sigma",
          "value": 0.6811414690439243
         },
         {
          "param": "sigma",
          "value": 0.8242811077004032
         },
         {
          "param": "sigma",
          "value": 0.608823597190646
         },
         {
          "param": "sigma",
          "value": 0.9897320891029424
         },
         {
          "param": "sigma",
          "value": 0.8121846977234517
         },
         {
          "param": "sigma",
          "value": 0.8198699358096023
         },
         {
          "param": "sigma",
          "value": 0.7252792026481526
         },
         {
          "param": "sigma",
          "value": 0.619257441285083
         },
         {
          "param": "sigma",
          "value": 0.724500268463617
         },
         {
          "param": "sigma",
          "value": 0.8755132980573479
         },
         {
          "param": "sigma",
          "value": 0.7247049628906188
         },
         {
          "param": "sigma",
          "value": 0.9825182393646066
         },
         {
          "param": "sigma",
          "value": 0.8187152097721537
         },
         {
          "param": "sigma",
          "value": 0.6646049805506012
         },
         {
          "param": "sigma",
          "value": 0.7035525767158587
         },
         {
          "param": "sigma",
          "value": 0.8894654672607539
         },
         {
          "param": "sigma",
          "value": 0.7250254370527964
         },
         {
          "param": "sigma",
          "value": 0.7246822956994068
         },
         {
          "param": "sigma",
          "value": 0.7673221616614031
         },
         {
          "param": "sigma",
          "value": 0.7542630515310994
         },
         {
          "param": "sigma",
          "value": 0.6314313883136491
         },
         {
          "param": "sigma",
          "value": 0.7974316937593222
         },
         {
          "param": "sigma",
          "value": 0.670107786191726
         },
         {
          "param": "sigma",
          "value": 0.7209441551841926
         },
         {
          "param": "sigma",
          "value": 0.8016781684732456
         },
         {
          "param": "sigma",
          "value": 0.8015937001219522
         },
         {
          "param": "sigma",
          "value": 0.8389175114949473
         },
         {
          "param": "sigma",
          "value": 0.7577238696965886
         },
         {
          "param": "sigma",
          "value": 0.5999122333615687
         },
         {
          "param": "sigma",
          "value": 0.8016699531335277
         },
         {
          "param": "sigma",
          "value": 0.7067568955587543
         },
         {
          "param": "sigma",
          "value": 0.6824940960324235
         },
         {
          "param": "sigma",
          "value": 0.6171933362014118
         },
         {
          "param": "sigma",
          "value": 0.7329078144830948
         },
         {
          "param": "sigma",
          "value": 0.821980819865797
         },
         {
          "param": "sigma",
          "value": 0.7548790451950752
         },
         {
          "param": "sigma",
          "value": 0.6171933362014118
         },
         {
          "param": "sigma",
          "value": 0.7365130703247075
         },
         {
          "param": "sigma",
          "value": 0.7213100611741587
         },
         {
          "param": "sigma",
          "value": 0.6882744931951796
         },
         {
          "param": "sigma",
          "value": 0.7568214512678294
         },
         {
          "param": "sigma",
          "value": 0.7209439822745373
         },
         {
          "param": "sigma",
          "value": 0.7071980274846555
         },
         {
          "param": "sigma",
          "value": 0.7895168880020406
         },
         {
          "param": "sigma",
          "value": 0.7158888381388491
         },
         {
          "param": "sigma",
          "value": 0.8036166378341932
         },
         {
          "param": "sigma",
          "value": 0.9857297173335089
         },
         {
          "param": "sigma",
          "value": 0.7157886560176417
         },
         {
          "param": "sigma",
          "value": 0.7447213256137598
         },
         {
          "param": "sigma",
          "value": 0.7414281697537312
         },
         {
          "param": "sigma",
          "value": 0.789970444685415
         },
         {
          "param": "sigma",
          "value": 0.950809331908333
         },
         {
          "param": "sigma",
          "value": 0.7644132416159602
         },
         {
          "param": "sigma",
          "value": 0.7777283690519953
         },
         {
          "param": "sigma",
          "value": 0.7769806892906881
         },
         {
          "param": "sigma",
          "value": 0.6847383905436303
         },
         {
          "param": "sigma",
          "value": 0.7907140252304199
         },
         {
          "param": "sigma",
          "value": 0.7584724481583502
         },
         {
          "param": "sigma",
          "value": 0.7970288130297944
         },
         {
          "param": "sigma",
          "value": 0.6152098445645453
         },
         {
          "param": "sigma",
          "value": 0.8936431871091299
         },
         {
          "param": "sigma",
          "value": 0.7931387134655317
         },
         {
          "param": "sigma",
          "value": 0.7380789515276521
         },
         {
          "param": "sigma",
          "value": 0.9070400082395169
         },
         {
          "param": "sigma",
          "value": 0.6966479770294808
         },
         {
          "param": "sigma",
          "value": 0.8126949194383364
         },
         {
          "param": "sigma",
          "value": 0.8235892981550594
         },
         {
          "param": "sigma",
          "value": 0.6484769572013066
         },
         {
          "param": "sigma",
          "value": 0.7915154832513803
         },
         {
          "param": "sigma",
          "value": 0.6126514320004853
         },
         {
          "param": "sigma",
          "value": 0.8275452249451019
         },
         {
          "param": "sigma",
          "value": 0.7782783050835124
         },
         {
          "param": "sigma",
          "value": 0.7181407539031307
         },
         {
          "param": "sigma",
          "value": 0.6985425587220245
         },
         {
          "param": "sigma",
          "value": 0.6672609480713639
         },
         {
          "param": "sigma",
          "value": 0.7515657411966572
         },
         {
          "param": "sigma",
          "value": 0.7355423498838106
         },
         {
          "param": "sigma",
          "value": 0.7861026854215113
         },
         {
          "param": "sigma",
          "value": 0.8412741703160779
         },
         {
          "param": "sigma",
          "value": 0.7352268519882187
         },
         {
          "param": "sigma",
          "value": 0.7125791940969651
         },
         {
          "param": "sigma",
          "value": 0.8512309315976722
         },
         {
          "param": "sigma",
          "value": 0.7715478093884657
         },
         {
          "param": "sigma",
          "value": 0.7272201385137633
         },
         {
          "param": "sigma",
          "value": 0.7475526497294933
         },
         {
          "param": "sigma",
          "value": 0.7492265069690829
         },
         {
          "param": "sigma",
          "value": 0.776192995844667
         },
         {
          "param": "sigma",
          "value": 0.7130966333900455
         },
         {
          "param": "sigma",
          "value": 0.8060200956904251
         },
         {
          "param": "sigma",
          "value": 0.7584310394791036
         },
         {
          "param": "sigma",
          "value": 0.8319493859380115
         },
         {
          "param": "sigma",
          "value": 0.8396644573399132
         },
         {
          "param": "sigma",
          "value": 0.6051237472629685
         },
         {
          "param": "sigma",
          "value": 0.7355077369048345
         },
         {
          "param": "sigma",
          "value": 0.7558384350884703
         },
         {
          "param": "sigma",
          "value": 0.8513326035532163
         },
         {
          "param": "sigma",
          "value": 0.7786999329585956
         },
         {
          "param": "sigma",
          "value": 0.6455601605582192
         },
         {
          "param": "sigma",
          "value": 0.8488283038404348
         },
         {
          "param": "sigma",
          "value": 0.8210002979118001
         },
         {
          "param": "sigma",
          "value": 0.676446457323366
         },
         {
          "param": "sigma",
          "value": 0.6154287219225479
         },
         {
          "param": "sigma",
          "value": 0.8256209702243656
         },
         {
          "param": "sigma",
          "value": 0.7594798562196242
         },
         {
          "param": "sigma",
          "value": 0.78355317592057
         },
         {
          "param": "sigma",
          "value": 0.7206250029889265
         },
         {
          "param": "sigma",
          "value": 0.7536534228848382
         },
         {
          "param": "sigma",
          "value": 0.825876918646256
         },
         {
          "param": "sigma",
          "value": 0.6705104268982716
         },
         {
          "param": "sigma",
          "value": 0.6726528924599546
         },
         {
          "param": "sigma",
          "value": 0.9257666369256453
         },
         {
          "param": "sigma",
          "value": 0.6828577288626652
         },
         {
          "param": "sigma",
          "value": 0.9048138651758719
         },
         {
          "param": "sigma",
          "value": 0.6449016180465428
         },
         {
          "param": "sigma",
          "value": 0.851789446895612
         },
         {
          "param": "sigma",
          "value": 0.7030782152203479
         },
         {
          "param": "sigma",
          "value": 0.7964861774167785
         },
         {
          "param": "sigma",
          "value": 0.8127610034194227
         },
         {
          "param": "sigma",
          "value": 0.8238873700715876
         },
         {
          "param": "sigma",
          "value": 0.7244309697600004
         },
         {
          "param": "sigma",
          "value": 0.7623631307465037
         },
         {
          "param": "sigma",
          "value": 0.6979592690058511
         },
         {
          "param": "sigma",
          "value": 0.7179928357661067
         },
         {
          "param": "sigma",
          "value": 0.7675017532750259
         },
         {
          "param": "sigma",
          "value": 0.8081591131736063
         },
         {
          "param": "sigma",
          "value": 0.7251001680299823
         },
         {
          "param": "sigma",
          "value": 0.7868248281132058
         },
         {
          "param": "sigma",
          "value": 0.794181788443021
         },
         {
          "param": "sigma",
          "value": 0.693005346083619
         },
         {
          "param": "sigma",
          "value": 0.677610433976946
         },
         {
          "param": "sigma",
          "value": 0.6815711580953272
         },
         {
          "param": "sigma",
          "value": 0.6881011200132873
         },
         {
          "param": "sigma",
          "value": 0.7355928828084042
         },
         {
          "param": "sigma",
          "value": 0.6478150989012483
         },
         {
          "param": "sigma",
          "value": 0.830454652427739
         },
         {
          "param": "sigma",
          "value": 0.8623268469524848
         },
         {
          "param": "sigma",
          "value": 0.7151191693533387
         },
         {
          "param": "sigma",
          "value": 0.8160384361526194
         },
         {
          "param": "sigma",
          "value": 0.645580833934026
         },
         {
          "param": "sigma",
          "value": 0.7263007161315619
         },
         {
          "param": "sigma",
          "value": 0.7060622580768235
         },
         {
          "param": "sigma",
          "value": 0.8252774397686911
         },
         {
          "param": "sigma",
          "value": 0.8058114697149853
         },
         {
          "param": "sigma",
          "value": 0.804413911434625
         },
         {
          "param": "sigma",
          "value": 0.7279384805039838
         },
         {
          "param": "sigma",
          "value": 0.8461065509300255
         },
         {
          "param": "sigma",
          "value": 0.6883304403621354
         },
         {
          "param": "sigma",
          "value": 0.7300521539330641
         },
         {
          "param": "sigma",
          "value": 0.6750582368065058
         },
         {
          "param": "sigma",
          "value": 0.6806396625102786
         },
         {
          "param": "sigma",
          "value": 0.7544566093344907
         },
         {
          "param": "sigma",
          "value": 0.7418346136453032
         },
         {
          "param": "sigma",
          "value": 0.7394392958651191
         },
         {
          "param": "sigma",
          "value": 0.7450660950417305
         },
         {
          "param": "sigma",
          "value": 0.8927023452658973
         },
         {
          "param": "sigma",
          "value": 0.7173793942566002
         },
         {
          "param": "sigma",
          "value": 0.7888859997720626
         },
         {
          "param": "sigma",
          "value": 0.8139150484678542
         },
         {
          "param": "sigma",
          "value": 0.8198323724348328
         },
         {
          "param": "sigma",
          "value": 0.6302713400019111
         },
         {
          "param": "sigma",
          "value": 0.7816769995052683
         },
         {
          "param": "sigma",
          "value": 0.6641531077734169
         },
         {
          "param": "sigma",
          "value": 0.7194848092454982
         },
         {
          "param": "sigma",
          "value": 0.6145862185628782
         },
         {
          "param": "sigma",
          "value": 0.810899739154566
         },
         {
          "param": "sigma",
          "value": 0.7285822982404324
         },
         {
          "param": "sigma",
          "value": 0.6676661071387853
         },
         {
          "param": "sigma",
          "value": 0.6535737909999022
         },
         {
          "param": "sigma",
          "value": 0.7147703078210055
         },
         {
          "param": "sigma",
          "value": 0.7413182887900639
         },
         {
          "param": "sigma",
          "value": 0.7733701996286131
         },
         {
          "param": "sigma",
          "value": 0.7518654646883246
         },
         {
          "param": "sigma",
          "value": 0.7455061760261774
         },
         {
          "param": "sigma",
          "value": 0.8157289912674179
         },
         {
          "param": "sigma",
          "value": 0.7210896764344162
         },
         {
          "param": "sigma",
          "value": 0.7165593710775265
         },
         {
          "param": "sigma",
          "value": 0.7770048068763316
         },
         {
          "param": "sigma",
          "value": 0.7007613517037422
         },
         {
          "param": "sigma",
          "value": 0.8663453468493414
         },
         {
          "param": "sigma",
          "value": 0.7141459306004291
         },
         {
          "param": "sigma",
          "value": 0.91350614579705
         },
         {
          "param": "sigma",
          "value": 0.6252968780686716
         },
         {
          "param": "sigma",
          "value": 0.6798066014225332
         },
         {
          "param": "sigma",
          "value": 0.7673418951851104
         },
         {
          "param": "sigma",
          "value": 0.7530505243909196
         },
         {
          "param": "sigma",
          "value": 0.8867341924965687
         },
         {
          "param": "sigma",
          "value": 0.6682406638098043
         },
         {
          "param": "sigma",
          "value": 0.7234642367156913
         },
         {
          "param": "sigma",
          "value": 0.8610843528350871
         },
         {
          "param": "sigma",
          "value": 0.6546003469110085
         },
         {
          "param": "sigma",
          "value": 0.6768247218600622
         },
         {
          "param": "sigma",
          "value": 0.7839657504854468
         },
         {
          "param": "sigma",
          "value": 0.8573633133383531
         },
         {
          "param": "sigma",
          "value": 0.6708117664289451
         },
         {
          "param": "sigma",
          "value": 0.6459801587682152
         },
         {
          "param": "sigma",
          "value": 0.8026455663313845
         },
         {
          "param": "sigma",
          "value": 0.8916435272273505
         },
         {
          "param": "sigma",
          "value": 1.061182944220057
         },
         {
          "param": "sigma",
          "value": 0.6983166751128267
         },
         {
          "param": "sigma",
          "value": 0.731534693412559
         },
         {
          "param": "sigma",
          "value": 0.8916435272273505
         },
         {
          "param": "sigma",
          "value": 0.7976813373418106
         },
         {
          "param": "sigma",
          "value": 0.7788332136827507
         },
         {
          "param": "sigma",
          "value": 0.6961329006862316
         },
         {
          "param": "sigma",
          "value": 0.8594226154846641
         },
         {
          "param": "sigma",
          "value": 0.7956829038555379
         },
         {
          "param": "sigma",
          "value": 0.6646706299889857
         },
         {
          "param": "sigma",
          "value": 0.8081392332166265
         },
         {
          "param": "sigma",
          "value": 0.7379158334498659
         },
         {
          "param": "sigma",
          "value": 0.6485149919124215
         },
         {
          "param": "sigma",
          "value": 0.6897359634836605
         },
         {
          "param": "sigma",
          "value": 0.6895930003491811
         },
         {
          "param": "sigma",
          "value": 0.814973327326694
         },
         {
          "param": "sigma",
          "value": 0.9260004753448835
         },
         {
          "param": "sigma",
          "value": 0.705253663830581
         },
         {
          "param": "sigma",
          "value": 0.7113626818197722
         },
         {
          "param": "sigma",
          "value": 0.6795358371554774
         },
         {
          "param": "sigma",
          "value": 0.6763639362084815
         },
         {
          "param": "sigma",
          "value": 0.7039997435709864
         },
         {
          "param": "sigma",
          "value": 0.8320055339965415
         },
         {
          "param": "sigma",
          "value": 0.8341162541805747
         },
         {
          "param": "sigma",
          "value": 0.6970629247242336
         },
         {
          "param": "sigma",
          "value": 0.7913385859634616
         },
         {
          "param": "sigma",
          "value": 0.8516871259238563
         },
         {
          "param": "sigma",
          "value": 0.7426766633386878
         },
         {
          "param": "sigma",
          "value": 0.7933558455065463
         },
         {
          "param": "sigma",
          "value": 0.8016940100802505
         },
         {
          "param": "sigma",
          "value": 0.7296177190879481
         },
         {
          "param": "sigma",
          "value": 0.7716389045052057
         },
         {
          "param": "sigma",
          "value": 0.7737088059357163
         },
         {
          "param": "sigma",
          "value": 0.7113341490939984
         },
         {
          "param": "sigma",
          "value": 0.6925976868557095
         },
         {
          "param": "sigma",
          "value": 0.7403580739517089
         },
         {
          "param": "sigma",
          "value": 0.7097484133706925
         },
         {
          "param": "sigma",
          "value": 0.7690220608522699
         },
         {
          "param": "sigma",
          "value": 0.7652506403099021
         },
         {
          "param": "sigma",
          "value": 0.7512657498579671
         },
         {
          "param": "sigma",
          "value": 0.702816935906529
         },
         {
          "param": "sigma",
          "value": 0.6932030608596134
         },
         {
          "param": "sigma",
          "value": 0.7630631668241433
         },
         {
          "param": "sigma",
          "value": 0.7914517998203373
         },
         {
          "param": "sigma",
          "value": 0.6746787933152827
         },
         {
          "param": "sigma",
          "value": 0.7262390512353667
         },
         {
          "param": "sigma",
          "value": 0.7630631668241433
         },
         {
          "param": "sigma",
          "value": 0.6789183852025611
         },
         {
          "param": "sigma",
          "value": 0.7911400614276324
         },
         {
          "param": "sigma",
          "value": 0.7519345509042924
         },
         {
          "param": "sigma",
          "value": 0.735036275853951
         },
         {
          "param": "sigma",
          "value": 0.6757522244719455
         },
         {
          "param": "sigma",
          "value": 0.8664428869741263
         },
         {
          "param": "sigma",
          "value": 0.9150487778762609
         },
         {
          "param": "sigma",
          "value": 0.7244162638229625
         },
         {
          "param": "sigma",
          "value": 0.813405925145849
         },
         {
          "param": "sigma",
          "value": 0.7956837010051944
         },
         {
          "param": "sigma",
          "value": 0.7594277370250611
         },
         {
          "param": "sigma",
          "value": 0.8796303936377432
         },
         {
          "param": "sigma",
          "value": 0.681071342892893
         },
         {
          "param": "sigma",
          "value": 0.8556367276543464
         },
         {
          "param": "sigma",
          "value": 0.8392590545573612
         },
         {
          "param": "sigma",
          "value": 0.8072493182776506
         },
         {
          "param": "sigma",
          "value": 0.7803486247759881
         },
         {
          "param": "sigma",
          "value": 0.6740070831704763
         },
         {
          "param": "sigma",
          "value": 0.8699321579354767
         },
         {
          "param": "sigma",
          "value": 0.7928829491489258
         },
         {
          "param": "sigma",
          "value": 0.7508198386819008
         },
         {
          "param": "sigma",
          "value": 0.7003046708144691
         },
         {
          "param": "sigma",
          "value": 0.7139408099690984
         },
         {
          "param": "sigma",
          "value": 0.8212897812257115
         },
         {
          "param": "sigma",
          "value": 0.8194677291751139
         },
         {
          "param": "sigma",
          "value": 0.8877670055248522
         },
         {
          "param": "sigma",
          "value": 0.8382607810381711
         },
         {
          "param": "sigma",
          "value": 0.8201374597018448
         },
         {
          "param": "sigma",
          "value": 0.6086668081620766
         },
         {
          "param": "sigma",
          "value": 0.8448048802620542
         },
         {
          "param": "sigma",
          "value": 0.7984589742560022
         },
         {
          "param": "sigma",
          "value": 0.8715884350418153
         },
         {
          "param": "sigma",
          "value": 0.60483072789502
         },
         {
          "param": "sigma",
          "value": 0.6621026054297744
         },
         {
          "param": "sigma",
          "value": 0.8314199971644695
         },
         {
          "param": "sigma",
          "value": 0.8513035129408498
         },
         {
          "param": "sigma",
          "value": 0.8216220554512225
         },
         {
          "param": "sigma",
          "value": 0.7597714211994617
         },
         {
          "param": "sigma",
          "value": 0.660550244566495
         },
         {
          "param": "sigma",
          "value": 0.9134107153259932
         },
         {
          "param": "sigma",
          "value": 0.9735332707911649
         },
         {
          "param": "sigma",
          "value": 0.7737633613081575
         },
         {
          "param": "sigma",
          "value": 0.8083776775210757
         },
         {
          "param": "sigma",
          "value": 0.7630691198737305
         },
         {
          "param": "sigma",
          "value": 0.6624926764402642
         },
         {
          "param": "sigma",
          "value": 0.7371887678490883
         },
         {
          "param": "sigma",
          "value": 0.8082491206887511
         },
         {
          "param": "sigma",
          "value": 0.666190987499199
         },
         {
          "param": "sigma",
          "value": 0.7757497217491519
         },
         {
          "param": "sigma",
          "value": 0.7177794093337969
         },
         {
          "param": "sigma",
          "value": 0.8423305201902549
         },
         {
          "param": "sigma",
          "value": 0.7274981727738252
         },
         {
          "param": "sigma",
          "value": 0.7166649798948235
         },
         {
          "param": "sigma",
          "value": 0.7882102494003025
         },
         {
          "param": "sigma",
          "value": 0.7988403845202583
         },
         {
          "param": "sigma",
          "value": 0.6724989522057541
         },
         {
          "param": "sigma",
          "value": 0.8347137920122378
         },
         {
          "param": "sigma",
          "value": 0.8941940870887886
         },
         {
          "param": "sigma",
          "value": 0.6753901459271107
         },
         {
          "param": "sigma",
          "value": 0.7541208923424008
         },
         {
          "param": "sigma",
          "value": 0.8299656241813996
         },
         {
          "param": "sigma",
          "value": 0.8923774980207507
         },
         {
          "param": "sigma",
          "value": 0.6878256814802195
         },
         {
          "param": "sigma",
          "value": 0.7639850729950475
         },
         {
          "param": "sigma",
          "value": 0.6658103146513191
         },
         {
          "param": "sigma",
          "value": 0.8989733432720133
         },
         {
          "param": "sigma",
          "value": 0.6880992868101934
         },
         {
          "param": "sigma",
          "value": 0.6808019964101538
         },
         {
          "param": "sigma",
          "value": 0.6553206728512783
         },
         {
          "param": "sigma",
          "value": 0.9024404889318484
         },
         {
          "param": "sigma",
          "value": 0.7091527744785839
         },
         {
          "param": "sigma",
          "value": 0.773234394159508
         },
         {
          "param": "sigma",
          "value": 0.9054841935351285
         }
        ]
       },
       "height": 200,
       "layer": [
        {
         "encoding": {
          "x": {
           "field": "value",
           "type": "quantitative"
          },
          "y": {
           "field": "param",
           "type": "nominal"
          }
         },
         "mark": {
          "extent": "stdev",
          "type": "errorbar"
         }
        },
        {
         "encoding": {
          "color": {
           "field": "param",
           "type": "nominal"
          },
          "x": {
           "aggregate": "mean",
           "field": "value",
           "type": "quantitative"
          },
          "y": {
           "field": "param",
           "type": "nominal"
          }
         },
         "mark": {
          "filled": false,
          "type": "point"
         }
        }
       ],
       "width": 400
      },
      "image/png": "[encoded data removed]",
      "text/plain": [
       "<VegaLite 5 object>\n",
       "\n",
       "If you see this message, it means the renderer has not been properly enabled\n",
       "for the frontend that you are using. For more information, see\n",
       "https://altair-viz.github.io/user_guide/display_frontends.html#troubleshooting\n"
      ]
     },
     "execution_count": 19,
     "metadata": {},
     "output_type": "execute_result"
    }
   ],
   "source": [
    "df = fit_df[:1000]\n",
    "df = df.melt(var_name=\"param\")\n",
    "\n",
    "error_bars = alt.Chart(df).mark_errorbar(extent=\"stdev\").encode(x=\"value\", y=\"param\")\n",
    "\n",
    "points = (\n",
    "    alt.Chart(df)\n",
    "    .mark_point(filled=False)\n",
    "    .encode(x=alt.X(\"value\", aggregate=\"mean\"), y=\"param\", color=\"param\")\n",
    ")\n",
    "\n",
    "(error_bars + points).properties(width=400, height=200)"
   ]
  },
  {
   "cell_type": "code",
   "execution_count": 20,
   "id": "019b52c2-0953-4ee1-8e80-059479feb90c",
   "metadata": {},
   "outputs": [
    {
     "data": {
      "text/plain": [
       "<Axes: xlabel='MedianAgeMarriage', ylabel='WaffleHouses'>"
      ]
     },
     "execution_count": 20,
     "metadata": {},
     "output_type": "execute_result"
    },
    {
     "data": {
      "image/png": "[encoded data removed]",
      "text/plain": [
       "<Figure size 640x480 with 1 Axes>"
      ]
     },
     "metadata": {},
     "output_type": "display_data"
    }
   ],
   "source": [
    "waffle_df[\"Color\"] = waffle_df[\"South\"].map(lambda s: [\"blue\", \"red\"][s])\n",
    "waffle_df.plot.scatter(x=\"MedianAgeMarriage\", y=\"WaffleHouses\", c=\"Color\")"
   ]
  },
  {
   "cell_type": "code",
   "execution_count": null,
   "id": "75316560-b0a4-45f9-9c1d-0446787375c0",
   "metadata": {},
   "outputs": [],
   "source": []
  }
 ],
 "metadata": {
  "kernelspec": {
   "display_name": "Python 3 (ipykernel)",
   "language": "python",
   "name": "python3"
  },
  "language_info": {
   "codemirror_mode": {
    "name": "ipython",
    "version": 3
   },
   "file_extension": ".py",
   "mimetype": "text/x-python",
   "name": "python",
   "nbconvert_exporter": "python",
   "pygments_lexer": "ipython3",
   "version": "3.12.7"
  }
 },
 "nbformat": 4,
 "nbformat_minor": 5
}
