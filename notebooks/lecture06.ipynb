{
 "cells": [
  {
   "cell_type": "markdown",
   "id": "bdd2cad6-746a-4309-887d-b3494a71925c",
   "metadata": {},
   "source": [
    "# Lecture 6 Slides: Good & Bad Controls\n",
    "\n",
    "https://www.youtube.com/watch?v=NSuTaeW6Orc&list=PLDcUM9US4XdMROZ57-OIRtIK0aOynbgZN&index=7"
   ]
  },
  {
   "cell_type": "code",
   "execution_count": 1,
   "id": "5b1a2bf4-da51-4b55-9bb2-f0374baa11dc",
   "metadata": {},
   "outputs": [],
   "source": [
    "%load_ext autoreload\n",
    "%autoreload 2"
   ]
  },
  {
   "cell_type": "code",
   "execution_count": 2,
   "id": "c96e63b2-9cf1-4c9b-9bee-429ec18a44a6",
   "metadata": {},
   "outputs": [],
   "source": [
    "import altair as alt\n",
    "\n",
    "alt.renderers.enable(\"mimetype\")  # support rendering on github\n",
    "\n",
    "import numpy as np\n",
    "import pandas as pd\n",
    "\n",
    "import statreth as sr\n",
    "from statreth.utils import suppress_subprocess_output"
   ]
  },
  {
   "cell_type": "code",
   "execution_count": 3,
   "id": "d0fbd874-19aa-4a09-b596-83478d8ae594",
   "metadata": {},
   "outputs": [],
   "source": [
    "# workaround to make stan run in jupyter\n",
    "# https://pystan.readthedocs.io/en/latest/faq.html#how-can-i-use-pystan-with-jupyter-notebook-or-jupyterlab\n",
    "import nest_asyncio\n",
    "import stan\n",
    "\n",
    "nest_asyncio.apply()\n",
    "del nest_asyncio"
   ]
  },
  {
   "cell_type": "markdown",
   "id": "e249d42e-a4dc-4e4d-8d50-e5de660da9e5",
   "metadata": {},
   "source": [
    "## Estimate **direct** effect of grandparents `G` on grandchildren `C`."
   ]
  },
  {
   "cell_type": "markdown",
   "id": "7afb8003-81e6-4026-b8b4-3b13a8624f29",
   "metadata": {},
   "source": [
    "To find `C = f(G | direct)` we need to block  `G->P->C` by conditioning on `P` but `P` is a collider of `G` and `U` which would make them associated. So knowing `P` would reveal some information about `U` and bias `C`.\n",
    "```\n",
    "G────►P◄────U\n",
    "│     │     │\n",
    "│     │     │\n",
    "│     ▼     │\n",
    "└────►C◄────┘\n",
    "```\n",
    "\n",
    "In this context we can only estimate the total effect `C = f(G)` or biased direct effect `C = f(G, P)` due to `U`."
   ]
  },
  {
   "cell_type": "code",
   "execution_count": 4,
   "id": "a6fa5b3f-df40-4823-a851-191ff3f6a840",
   "metadata": {},
   "outputs": [],
   "source": [
    "# generate synthetic data so we have exact model\n",
    "n = 200  # number of grandparent-parent-child triplets\n",
    "b_GP = 1  # direct effect of G on P\n",
    "b_GC = 0  # direct effect of G on C\n",
    "b_PC = 1  # direct effect of P on C\n",
    "b_U = 2  # direct effect of U on P and C"
   ]
  },
  {
   "cell_type": "code",
   "execution_count": 5,
   "id": "ea548917-5d01-4b51-9c05-57ca2af8e8c2",
   "metadata": {},
   "outputs": [
    {
     "data": {
      "text/html": [
       "<div>\n",
       "<style scoped>\n",
       "    .dataframe tbody tr th:only-of-type {\n",
       "        vertical-align: middle;\n",
       "    }\n",
       "\n",
       "    .dataframe tbody tr th {\n",
       "        vertical-align: top;\n",
       "    }\n",
       "\n",
       "    .dataframe thead th {\n",
       "        text-align: right;\n",
       "    }\n",
       "</style>\n",
       "<table border=\"1\" class=\"dataframe\">\n",
       "  <thead>\n",
       "    <tr style=\"text-align: right;\">\n",
       "      <th></th>\n",
       "      <th>grandparent</th>\n",
       "      <th>parent</th>\n",
       "      <th>child</th>\n",
       "      <th>neighborhood</th>\n",
       "    </tr>\n",
       "  </thead>\n",
       "  <tbody>\n",
       "    <tr>\n",
       "      <th>0</th>\n",
       "      <td>-0.262717</td>\n",
       "      <td>-2.781279</td>\n",
       "      <td>-4.172667</td>\n",
       "      <td>-1</td>\n",
       "    </tr>\n",
       "    <tr>\n",
       "      <th>1</th>\n",
       "      <td>1.485307</td>\n",
       "      <td>3.500158</td>\n",
       "      <td>5.630318</td>\n",
       "      <td>1</td>\n",
       "    </tr>\n",
       "    <tr>\n",
       "      <th>2</th>\n",
       "      <td>-0.432645</td>\n",
       "      <td>2.608126</td>\n",
       "      <td>4.988597</td>\n",
       "      <td>1</td>\n",
       "    </tr>\n",
       "    <tr>\n",
       "      <th>3</th>\n",
       "      <td>-0.142252</td>\n",
       "      <td>1.122703</td>\n",
       "      <td>1.669410</td>\n",
       "      <td>1</td>\n",
       "    </tr>\n",
       "    <tr>\n",
       "      <th>4</th>\n",
       "      <td>0.054049</td>\n",
       "      <td>-2.795579</td>\n",
       "      <td>-2.837197</td>\n",
       "      <td>-1</td>\n",
       "    </tr>\n",
       "  </tbody>\n",
       "</table>\n",
       "</div>"
      ],
      "text/plain": [
       "   grandparent    parent     child  neighborhood\n",
       "0    -0.262717 -2.781279 -4.172667            -1\n",
       "1     1.485307  3.500158  5.630318             1\n",
       "2    -0.432645  2.608126  4.988597             1\n",
       "3    -0.142252  1.122703  1.669410             1\n",
       "4     0.054049 -2.795579 -2.837197            -1"
      ]
     },
     "execution_count": 5,
     "metadata": {},
     "output_type": "execute_result"
    }
   ],
   "source": [
    "U = 2 * np.random.binomial(n=1, p=0.5, size=n) - 1  # [-1, 1], neighbourhood impact\n",
    "G = np.random.normal(0, 1, size=n)  # grandparent education level\n",
    "P = np.random.normal(b_GP * G + b_U * U, 1, size=n)  # parent education level\n",
    "C = np.random.normal(b_PC * P + b_GC * G + b_U * U, 1, size=n)  # child education level\n",
    "\n",
    "edu_df = pd.DataFrame({\"grandparent\": G, \"parent\": P, \"child\": C, \"neighborhood\": U})\n",
    "edu_df.head(5)"
   ]
  },
  {
   "cell_type": "code",
   "execution_count": 6,
   "id": "41f07aef-b061-4608-9619-9908aba04fbd",
   "metadata": {},
   "outputs": [],
   "source": [
    "# Build a model for C = f(G, P). Expect to get biased results.\n",
    "code = \"\"\"\n",
    "data {\n",
    "  int<lower=0> n;  // number of families\n",
    "  vector[n] G;     // grandparent education\n",
    "  vector[n] P;     // parent education\n",
    "  vector[n] C;     // child education\n",
    "}\n",
    "parameters {\n",
    "  real<lower=0> a;  // default child education\n",
    "  real b_PC;        // parent->child slope\n",
    "  real b_GC;        // grandparent->child slope\n",
    "  real<lower=0> sigma;\n",
    "}\n",
    "model {\n",
    "  // priors\n",
    "  a ~ lognormal(0, 1);\n",
    "  b_PC ~ normal(0, 1);\n",
    "  b_GC ~ normal(0, 1);\n",
    "  sigma ~ exponential(1);\n",
    "  \n",
    "  // likelihood\n",
    "  vector[n] myu = a + b_PC * P + b_GC * G;\n",
    "  C ~ normal(myu, sigma);\n",
    "}\n",
    "\"\"\"\n",
    "\n",
    "data = {\"n\": n, \"G\": G, \"P\": P, \"C\": C}"
   ]
  },
  {
   "cell_type": "code",
   "execution_count": 7,
   "id": "7e29adc0-138b-445e-9c11-a1a8de2a0b33",
   "metadata": {},
   "outputs": [],
   "source": [
    "%%capture\n",
    "with suppress_subprocess_output():\n",
    "    model = stan.build(code, data=data, random_seed=42)"
   ]
  },
  {
   "cell_type": "code",
   "execution_count": 8,
   "id": "41876616-2359-4a11-91b5-8bba2a64f64e",
   "metadata": {},
   "outputs": [],
   "source": [
    "%%capture\n",
    "fit = model.sample(num_chains=4, num_samples=1000)"
   ]
  },
  {
   "cell_type": "code",
   "execution_count": 9,
   "id": "f063ec94-fc22-4d49-9033-94325209283b",
   "metadata": {},
   "outputs": [
    {
     "data": {
      "text/html": [
       "<div>\n",
       "<style scoped>\n",
       "    .dataframe tbody tr th:only-of-type {\n",
       "        vertical-align: middle;\n",
       "    }\n",
       "\n",
       "    .dataframe tbody tr th {\n",
       "        vertical-align: top;\n",
       "    }\n",
       "\n",
       "    .dataframe thead th {\n",
       "        text-align: right;\n",
       "    }\n",
       "</style>\n",
       "<table border=\"1\" class=\"dataframe\">\n",
       "  <thead>\n",
       "    <tr style=\"text-align: right;\">\n",
       "      <th></th>\n",
       "      <th>count</th>\n",
       "      <th>mean</th>\n",
       "      <th>std</th>\n",
       "      <th>min</th>\n",
       "      <th>25%</th>\n",
       "      <th>50%</th>\n",
       "      <th>75%</th>\n",
       "      <th>max</th>\n",
       "    </tr>\n",
       "    <tr>\n",
       "      <th>parameters</th>\n",
       "      <th></th>\n",
       "      <th></th>\n",
       "      <th></th>\n",
       "      <th></th>\n",
       "      <th></th>\n",
       "      <th></th>\n",
       "      <th></th>\n",
       "      <th></th>\n",
       "    </tr>\n",
       "  </thead>\n",
       "  <tbody>\n",
       "    <tr>\n",
       "      <th>a</th>\n",
       "      <td>4000.0</td>\n",
       "      <td>0.132317</td>\n",
       "      <td>0.056333</td>\n",
       "      <td>0.014942</td>\n",
       "      <td>0.090661</td>\n",
       "      <td>0.126365</td>\n",
       "      <td>0.166856</td>\n",
       "      <td>0.389990</td>\n",
       "    </tr>\n",
       "    <tr>\n",
       "      <th>b_PC</th>\n",
       "      <td>4000.0</td>\n",
       "      <td>1.764829</td>\n",
       "      <td>0.044772</td>\n",
       "      <td>1.578698</td>\n",
       "      <td>1.734871</td>\n",
       "      <td>1.765147</td>\n",
       "      <td>1.795199</td>\n",
       "      <td>1.948148</td>\n",
       "    </tr>\n",
       "    <tr>\n",
       "      <th>b_GC</th>\n",
       "      <td>4000.0</td>\n",
       "      <td>-0.668023</td>\n",
       "      <td>0.107812</td>\n",
       "      <td>-1.077744</td>\n",
       "      <td>-0.738951</td>\n",
       "      <td>-0.666609</td>\n",
       "      <td>-0.596243</td>\n",
       "      <td>-0.270096</td>\n",
       "    </tr>\n",
       "    <tr>\n",
       "      <th>sigma</th>\n",
       "      <td>4000.0</td>\n",
       "      <td>1.339088</td>\n",
       "      <td>0.069612</td>\n",
       "      <td>1.148443</td>\n",
       "      <td>1.290340</td>\n",
       "      <td>1.335160</td>\n",
       "      <td>1.383442</td>\n",
       "      <td>1.617383</td>\n",
       "    </tr>\n",
       "  </tbody>\n",
       "</table>\n",
       "</div>"
      ],
      "text/plain": [
       "             count      mean       std       min       25%       50%  \\\n",
       "parameters                                                             \n",
       "a           4000.0  0.132317  0.056333  0.014942  0.090661  0.126365   \n",
       "b_PC        4000.0  1.764829  0.044772  1.578698  1.734871  1.765147   \n",
       "b_GC        4000.0 -0.668023  0.107812 -1.077744 -0.738951 -0.666609   \n",
       "sigma       4000.0  1.339088  0.069612  1.148443  1.290340  1.335160   \n",
       "\n",
       "                 75%       max  \n",
       "parameters                      \n",
       "a           0.166856  0.389990  \n",
       "b_PC        1.795199  1.948148  \n",
       "b_GC       -0.596243 -0.270096  \n",
       "sigma       1.383442  1.617383  "
      ]
     },
     "execution_count": 9,
     "metadata": {},
     "output_type": "execute_result"
    }
   ],
   "source": [
    "fit_df = fit.to_frame()\n",
    "fit_df[[\"a\", \"b_PC\", \"b_GC\", \"sigma\"]].describe().T"
   ]
  },
  {
   "cell_type": "code",
   "execution_count": 10,
   "id": "43112627-8d87-4902-affd-2d648ebdbb9a",
   "metadata": {},
   "outputs": [
    {
     "data": {
      "application/vnd.vegalite.v5+json": {
       "$schema": "https://vega.github.io/schema/vega-lite/v5.20.1.json",
       "config": {
        "view": {
         "continuousHeight": 300,
         "continuousWidth": 300
        }
       },
       "data": {
        "name": "data-2dfbaf23f6101d73a0a7451e1de2430e"
       },
       "datasets": {
        "data-2dfbaf23f6101d73a0a7451e1de2430e": [
         {
          "param": "a",
          "value": 0.16553251245209064
         },
         {
          "param": "a",
          "value": 0.16028517808884143
         },
         {
          "param": "a",
          "value": 0.12845416171829788
         },
         {
          "param": "a",
          "value": 0.18804654814397395
         },
         {
          "param": "a",
          "value": 0.13442743501006865
         },
         {
          "param": "a",
          "value": 0.18381589018266567
         },
         {
          "param": "a",
          "value": 0.1315673340479719
         },
         {
          "param": "a",
          "value": 0.18804654814397395
         },
         {
          "param": "a",
          "value": 0.11608688901464961
         },
         {
          "param": "a",
          "value": 0.10280855407811049
         },
         {
          "param": "a",
          "value": 0.38114569040902424
         },
         {
          "param": "a",
          "value": 0.09003104357589038
         },
         {
          "param": "a",
          "value": 0.16887843570292402
         },
         {
          "param": "a",
          "value": 0.15611085891805487
         },
         {
          "param": "a",
          "value": 0.07019153701711808
         },
         {
          "param": "a",
          "value": 0.08782908093106524
         },
         {
          "param": "a",
          "value": 0.08603398691260801
         },
         {
          "param": "a",
          "value": 0.1367761181822239
         },
         {
          "param": "a",
          "value": 0.10818090071641373
         },
         {
          "param": "a",
          "value": 0.1697699039721363
         },
         {
          "param": "a",
          "value": 0.3040430995375824
         },
         {
          "param": "a",
          "value": 0.140409432123309
         },
         {
          "param": "a",
          "value": 0.15417743091075092
         },
         {
          "param": "a",
          "value": 0.12435964493779912
         },
         {
          "param": "a",
          "value": 0.04189895452271944
         },
         {
          "param": "a",
          "value": 0.10168468191630957
         },
         {
          "param": "a",
          "value": 0.1436753323955288
         },
         {
          "param": "a",
          "value": 0.16854500379249485
         },
         {
          "param": "a",
          "value": 0.1591482181913101
         },
         {
          "param": "a",
          "value": 0.13941862340337352
         },
         {
          "param": "a",
          "value": 0.17627710525666035
         },
         {
          "param": "a",
          "value": 0.17962699394255632
         },
         {
          "param": "a",
          "value": 0.15126173727608644
         },
         {
          "param": "a",
          "value": 0.19231375907790155
         },
         {
          "param": "a",
          "value": 0.12628366362144433
         },
         {
          "param": "a",
          "value": 0.12052266146160147
         },
         {
          "param": "a",
          "value": 0.1293489797834174
         },
         {
          "param": "a",
          "value": 0.1730936596467199
         },
         {
          "param": "a",
          "value": 0.24369753290156415
         },
         {
          "param": "a",
          "value": 0.14324716477229715
         },
         {
          "param": "a",
          "value": 0.16272067552879987
         },
         {
          "param": "a",
          "value": 0.1730936596467199
         },
         {
          "param": "a",
          "value": 0.07487674237060664
         },
         {
          "param": "a",
          "value": 0.08971867197638043
         },
         {
          "param": "a",
          "value": 0.16919238293095684
         },
         {
          "param": "a",
          "value": 0.15667501139439063
         },
         {
          "param": "a",
          "value": 0.08374872664285204
         },
         {
          "param": "a",
          "value": 0.06896716062826037
         },
         {
          "param": "a",
          "value": 0.13086271799016835
         },
         {
          "param": "a",
          "value": 0.13436728386722624
         },
         {
          "param": "a",
          "value": 0.08259986064007943
         },
         {
          "param": "a",
          "value": 0.2155771022040392
         },
         {
          "param": "a",
          "value": 0.17298422549390555
         },
         {
          "param": "a",
          "value": 0.07231443604908994
         },
         {
          "param": "a",
          "value": 0.2079411514775298
         },
         {
          "param": "a",
          "value": 0.06675514656124149
         },
         {
          "param": "a",
          "value": 0.15376627985150165
         },
         {
          "param": "a",
          "value": 0.21800873015779954
         },
         {
          "param": "a",
          "value": 0.12575001262686913
         },
         {
          "param": "a",
          "value": 0.1742114314674694
         },
         {
          "param": "a",
          "value": 0.11066859971820144
         },
         {
          "param": "a",
          "value": 0.1148588669995314
         },
         {
          "param": "a",
          "value": 0.10145934021098346
         },
         {
          "param": "a",
          "value": 0.12510498435785045
         },
         {
          "param": "a",
          "value": 0.16700853265912735
         },
         {
          "param": "a",
          "value": 0.20859709514965094
         },
         {
          "param": "a",
          "value": 0.1827364531659747
         },
         {
          "param": "a",
          "value": 0.0966783040854431
         },
         {
          "param": "a",
          "value": 0.0913467246464536
         },
         {
          "param": "a",
          "value": 0.13414116038020105
         },
         {
          "param": "a",
          "value": 0.07759291563400098
         },
         {
          "param": "a",
          "value": 0.07067826594522852
         },
         {
          "param": "a",
          "value": 0.08859657810811117
         },
         {
          "param": "a",
          "value": 0.13838727904887227
         },
         {
          "param": "a",
          "value": 0.11612288602058225
         },
         {
          "param": "a",
          "value": 0.10465008169196087
         },
         {
          "param": "a",
          "value": 0.19748771668206455
         },
         {
          "param": "a",
          "value": 0.14883653498561147
         },
         {
          "param": "a",
          "value": 0.08860421291366423
         },
         {
          "param": "a",
          "value": 0.10761185233941727
         },
         {
          "param": "a",
          "value": 0.08708473846481551
         },
         {
          "param": "a",
          "value": 0.1199020267351048
         },
         {
          "param": "a",
          "value": 0.08860421291366423
         },
         {
          "param": "a",
          "value": 0.080163380807467
         },
         {
          "param": "a",
          "value": 0.16235189581322754
         },
         {
          "param": "a",
          "value": 0.17976578467896698
         },
         {
          "param": "a",
          "value": 0.06381230506643237
         },
         {
          "param": "a",
          "value": 0.200905354993409
         },
         {
          "param": "a",
          "value": 0.17961739180929392
         },
         {
          "param": "a",
          "value": 0.1699422103822809
         },
         {
          "param": "a",
          "value": 0.07138348019089946
         },
         {
          "param": "a",
          "value": 0.2203261944124165
         },
         {
          "param": "a",
          "value": 0.1940993796323478
         },
         {
          "param": "a",
          "value": 0.17729271380689718
         },
         {
          "param": "a",
          "value": 0.21113378328460666
         },
         {
          "param": "a",
          "value": 0.09004033817910718
         },
         {
          "param": "a",
          "value": 0.0650251443469985
         },
         {
          "param": "a",
          "value": 0.2241487319744669
         },
         {
          "param": "a",
          "value": 0.06021718206227703
         },
         {
          "param": "a",
          "value": 0.23006681068697393
         },
         {
          "param": "a",
          "value": 0.0348761828445655
         },
         {
          "param": "a",
          "value": 0.10831799977281058
         },
         {
          "param": "a",
          "value": 0.0915133328918869
         },
         {
          "param": "a",
          "value": 0.08957369775726136
         },
         {
          "param": "a",
          "value": 0.036846001727323795
         },
         {
          "param": "a",
          "value": 0.12448428702596309
         },
         {
          "param": "a",
          "value": 0.17436205090477475
         },
         {
          "param": "a",
          "value": 0.08419746048020223
         },
         {
          "param": "a",
          "value": 0.04790944469374065
         },
         {
          "param": "a",
          "value": 0.11622817103602957
         },
         {
          "param": "a",
          "value": 0.17917118694279477
         },
         {
          "param": "a",
          "value": 0.17330453032524562
         },
         {
          "param": "a",
          "value": 0.07029266122203243
         },
         {
          "param": "a",
          "value": 0.175339111043874
         },
         {
          "param": "a",
          "value": 0.2797322298572173
         },
         {
          "param": "a",
          "value": 0.09056016969255223
         },
         {
          "param": "a",
          "value": 0.16709704160204297
         },
         {
          "param": "a",
          "value": 0.12067507804766234
         },
         {
          "param": "a",
          "value": 0.18186208913468344
         },
         {
          "param": "a",
          "value": 0.08145766022857591
         },
         {
          "param": "a",
          "value": 0.15839398974609048
         },
         {
          "param": "a",
          "value": 0.16365972468859855
         },
         {
          "param": "a",
          "value": 0.114245361738064
         },
         {
          "param": "a",
          "value": 0.12993486984376962
         },
         {
          "param": "a",
          "value": 0.11440142139312758
         },
         {
          "param": "a",
          "value": 0.17410689021921458
         },
         {
          "param": "a",
          "value": 0.14931993932060283
         },
         {
          "param": "a",
          "value": 0.1572626597497058
         },
         {
          "param": "a",
          "value": 0.06353707905421267
         },
         {
          "param": "a",
          "value": 0.08268767769217177
         },
         {
          "param": "a",
          "value": 0.19601129671571554
         },
         {
          "param": "a",
          "value": 0.11698737114841343
         },
         {
          "param": "a",
          "value": 0.24387767175183683
         },
         {
          "param": "a",
          "value": 0.13367181419146393
         },
         {
          "param": "a",
          "value": 0.11156125998318248
         },
         {
          "param": "a",
          "value": 0.20960772971443264
         },
         {
          "param": "a",
          "value": 0.10731788311202511
         },
         {
          "param": "a",
          "value": 0.09945410295933912
         },
         {
          "param": "a",
          "value": 0.12139284609017148
         },
         {
          "param": "a",
          "value": 0.0809461300439479
         },
         {
          "param": "a",
          "value": 0.17358336658692947
         },
         {
          "param": "a",
          "value": 0.09497564690737847
         },
         {
          "param": "a",
          "value": 0.16321820196214729
         },
         {
          "param": "a",
          "value": 0.271344459144783
         },
         {
          "param": "a",
          "value": 0.12551807342539453
         },
         {
          "param": "a",
          "value": 0.1105660999419047
         },
         {
          "param": "a",
          "value": 0.21593852889220047
         },
         {
          "param": "a",
          "value": 0.1473599575346316
         },
         {
          "param": "a",
          "value": 0.14225370642066207
         },
         {
          "param": "a",
          "value": 0.1025674953103935
         },
         {
          "param": "a",
          "value": 0.3365284935859831
         },
         {
          "param": "a",
          "value": 0.10102770289187195
         },
         {
          "param": "a",
          "value": 0.13238662188296357
         },
         {
          "param": "a",
          "value": 0.12654406733366455
         },
         {
          "param": "a",
          "value": 0.15123470414721324
         },
         {
          "param": "a",
          "value": 0.13774543216132035
         },
         {
          "param": "a",
          "value": 0.050842444203330096
         },
         {
          "param": "a",
          "value": 0.09715011022240179
         },
         {
          "param": "a",
          "value": 0.11778123466308867
         },
         {
          "param": "a",
          "value": 0.13565532749984544
         },
         {
          "param": "a",
          "value": 0.055429598596024324
         },
         {
          "param": "a",
          "value": 0.09596938620154076
         },
         {
          "param": "a",
          "value": 0.133781485032878
         },
         {
          "param": "a",
          "value": 0.12152873325512355
         },
         {
          "param": "a",
          "value": 0.20543010987380328
         },
         {
          "param": "a",
          "value": 0.11551480160802013
         },
         {
          "param": "a",
          "value": 0.1960760846638293
         },
         {
          "param": "a",
          "value": 0.09819096886544912
         },
         {
          "param": "a",
          "value": 0.07015054792675676
         },
         {
          "param": "a",
          "value": 0.08370949912743324
         },
         {
          "param": "a",
          "value": 0.03116204606725712
         },
         {
          "param": "a",
          "value": 0.2388333213497576
         },
         {
          "param": "a",
          "value": 0.14928760719467993
         },
         {
          "param": "a",
          "value": 0.1052208980238922
         },
         {
          "param": "a",
          "value": 0.07469284125315385
         },
         {
          "param": "a",
          "value": 0.15062557503023866
         },
         {
          "param": "a",
          "value": 0.13616685303315734
         },
         {
          "param": "a",
          "value": 0.13300234848775724
         },
         {
          "param": "a",
          "value": 0.07655324121701607
         },
         {
          "param": "a",
          "value": 0.11835323179888871
         },
         {
          "param": "a",
          "value": 0.13413001710467348
         },
         {
          "param": "a",
          "value": 0.13478255043337709
         },
         {
          "param": "a",
          "value": 0.06467402901661601
         },
         {
          "param": "a",
          "value": 0.0846689602084832
         },
         {
          "param": "a",
          "value": 0.20905648277273012
         },
         {
          "param": "a",
          "value": 0.11781953522144212
         },
         {
          "param": "a",
          "value": 0.1881530105521161
         },
         {
          "param": "a",
          "value": 0.09885801393958214
         },
         {
          "param": "a",
          "value": 0.19454294158339788
         },
         {
          "param": "a",
          "value": 0.19046087159936684
         },
         {
          "param": "a",
          "value": 0.18297933946179026
         },
         {
          "param": "a",
          "value": 0.13746074112677287
         },
         {
          "param": "a",
          "value": 0.16989547157621038
         },
         {
          "param": "a",
          "value": 0.09248672406114436
         },
         {
          "param": "a",
          "value": 0.1812746559830863
         },
         {
          "param": "a",
          "value": 0.1365062868444306
         },
         {
          "param": "a",
          "value": 0.12275229209911931
         },
         {
          "param": "a",
          "value": 0.09634594288830044
         },
         {
          "param": "a",
          "value": 0.11670753251706312
         },
         {
          "param": "a",
          "value": 0.28862109280779885
         },
         {
          "param": "a",
          "value": 0.20827981810362736
         },
         {
          "param": "a",
          "value": 0.23242729449514496
         },
         {
          "param": "a",
          "value": 0.1605493705664462
         },
         {
          "param": "a",
          "value": 0.16326346218872873
         },
         {
          "param": "a",
          "value": 0.08063261015982069
         },
         {
          "param": "a",
          "value": 0.03417733930218205
         },
         {
          "param": "a",
          "value": 0.1416740882033903
         },
         {
          "param": "a",
          "value": 0.11841971548584387
         },
         {
          "param": "a",
          "value": 0.03529921949762617
         },
         {
          "param": "a",
          "value": 0.04605478600590426
         },
         {
          "param": "a",
          "value": 0.13479062891509383
         },
         {
          "param": "a",
          "value": 0.09470026387598612
         },
         {
          "param": "a",
          "value": 0.07090942538751611
         },
         {
          "param": "a",
          "value": 0.20812884380552443
         },
         {
          "param": "a",
          "value": 0.10724331250504025
         },
         {
          "param": "a",
          "value": 0.11388966003390517
         },
         {
          "param": "a",
          "value": 0.0597004656577214
         },
         {
          "param": "a",
          "value": 0.13018597120435318
         },
         {
          "param": "a",
          "value": 0.14914306666760427
         },
         {
          "param": "a",
          "value": 0.12287118259139693
         },
         {
          "param": "a",
          "value": 0.06544869717928985
         },
         {
          "param": "a",
          "value": 0.17653129561670056
         },
         {
          "param": "a",
          "value": 0.06323410006236707
         },
         {
          "param": "a",
          "value": 0.13929196213633763
         },
         {
          "param": "a",
          "value": 0.10094996683443788
         },
         {
          "param": "a",
          "value": 0.12246330130056546
         },
         {
          "param": "a",
          "value": 0.04066835795642375
         },
         {
          "param": "a",
          "value": 0.13850250989253937
         },
         {
          "param": "a",
          "value": 0.26881080180000516
         },
         {
          "param": "a",
          "value": 0.1589605122208447
         },
         {
          "param": "a",
          "value": 0.03297696019471195
         },
         {
          "param": "a",
          "value": 0.15792254755158375
         },
         {
          "param": "a",
          "value": 0.06575841529523574
         },
         {
          "param": "a",
          "value": 0.1292643722247222
         },
         {
          "param": "a",
          "value": 0.2779242204142683
         },
         {
          "param": "a",
          "value": 0.0679534905835378
         },
         {
          "param": "a",
          "value": 0.055869506459219384
         },
         {
          "param": "a",
          "value": 0.1820596273722419
         },
         {
          "param": "a",
          "value": 0.2779242204142683
         },
         {
          "param": "a",
          "value": 0.06371544054103385
         },
         {
          "param": "a",
          "value": 0.03482466368511185
         },
         {
          "param": "a",
          "value": 0.21369804244571886
         },
         {
          "param": "a",
          "value": 0.26079156641738266
         },
         {
          "param": "a",
          "value": 0.3186637818614432
         },
         {
          "param": "a",
          "value": 0.11636936136113378
         },
         {
          "param": "a",
          "value": 0.08962982953630043
         },
         {
          "param": "a",
          "value": 0.07278641637267226
         },
         {
          "param": "a",
          "value": 0.06625171963415231
         },
         {
          "param": "a",
          "value": 0.14415577025644594
         },
         {
          "param": "a",
          "value": 0.1687765133925797
         },
         {
          "param": "a",
          "value": 0.1934211480516629
         },
         {
          "param": "a",
          "value": 0.1828123365371322
         },
         {
          "param": "a",
          "value": 0.13092175710247955
         },
         {
          "param": "a",
          "value": 0.13901858108424117
         },
         {
          "param": "a",
          "value": 0.1432504158149136
         },
         {
          "param": "a",
          "value": 0.11749586256146506
         },
         {
          "param": "a",
          "value": 0.21318989475166789
         },
         {
          "param": "a",
          "value": 0.16879437709592196
         },
         {
          "param": "a",
          "value": 0.17042020219781753
         },
         {
          "param": "a",
          "value": 0.1435706938356105
         },
         {
          "param": "a",
          "value": 0.15301116538282655
         },
         {
          "param": "a",
          "value": 0.08700635252131095
         },
         {
          "param": "a",
          "value": 0.11505886686667902
         },
         {
          "param": "a",
          "value": 0.1493086356144137
         },
         {
          "param": "a",
          "value": 0.11205300914053212
         },
         {
          "param": "a",
          "value": 0.0732460827328041
         },
         {
          "param": "a",
          "value": 0.04357610498862269
         },
         {
          "param": "a",
          "value": 0.13488422365334424
         },
         {
          "param": "a",
          "value": 0.1902591621061805
         },
         {
          "param": "a",
          "value": 0.1925011777159943
         },
         {
          "param": "a",
          "value": 0.047385208483967975
         },
         {
          "param": "a",
          "value": 0.14437218396798385
         },
         {
          "param": "a",
          "value": 0.08609611323517767
         },
         {
          "param": "a",
          "value": 0.14534497193738638
         },
         {
          "param": "a",
          "value": 0.02968848716074273
         },
         {
          "param": "a",
          "value": 0.16313658119943397
         },
         {
          "param": "a",
          "value": 0.1750471774336051
         },
         {
          "param": "a",
          "value": 0.16673969598696953
         },
         {
          "param": "a",
          "value": 0.041048258523830844
         },
         {
          "param": "a",
          "value": 0.1544275632370648
         },
         {
          "param": "a",
          "value": 0.047836484555806164
         },
         {
          "param": "a",
          "value": 0.11874815024411642
         },
         {
          "param": "a",
          "value": 0.1600323293239894
         },
         {
          "param": "a",
          "value": 0.15838321261011606
         },
         {
          "param": "a",
          "value": 0.03594242543256774
         },
         {
          "param": "a",
          "value": 0.08194444792752915
         },
         {
          "param": "a",
          "value": 0.17818716616445662
         },
         {
          "param": "a",
          "value": 0.14713083381430556
         },
         {
          "param": "a",
          "value": 0.041513902511457174
         },
         {
          "param": "a",
          "value": 0.2267460573504369
         },
         {
          "param": "a",
          "value": 0.08756780036115445
         },
         {
          "param": "a",
          "value": 0.05100154942236403
         },
         {
          "param": "a",
          "value": 0.25369367278306476
         },
         {
          "param": "a",
          "value": 0.05360020515383245
         },
         {
          "param": "a",
          "value": 0.08730926012600597
         },
         {
          "param": "a",
          "value": 0.03437131439515709
         },
         {
          "param": "a",
          "value": 0.10039320993125961
         },
         {
          "param": "a",
          "value": 0.15595103992557316
         },
         {
          "param": "a",
          "value": 0.079617888553477
         },
         {
          "param": "a",
          "value": 0.10505473336227279
         },
         {
          "param": "a",
          "value": 0.027279087139379165
         },
         {
          "param": "a",
          "value": 0.0918927880359805
         },
         {
          "param": "a",
          "value": 0.16180727417134913
         },
         {
          "param": "a",
          "value": 0.2119416251753305
         },
         {
          "param": "a",
          "value": 0.029691669931149696
         },
         {
          "param": "a",
          "value": 0.09867475775243699
         },
         {
          "param": "a",
          "value": 0.14020206784249525
         },
         {
          "param": "a",
          "value": 0.15609754189198524
         },
         {
          "param": "a",
          "value": 0.08134169731991
         },
         {
          "param": "a",
          "value": 0.10753988877664053
         },
         {
          "param": "a",
          "value": 0.06110815126194991
         },
         {
          "param": "a",
          "value": 0.15045301621148569
         },
         {
          "param": "a",
          "value": 0.12118969987785896
         },
         {
          "param": "a",
          "value": 0.08676335711463315
         },
         {
          "param": "a",
          "value": 0.1539488107329069
         },
         {
          "param": "a",
          "value": 0.17026336581886906
         },
         {
          "param": "a",
          "value": 0.10645665590650796
         },
         {
          "param": "a",
          "value": 0.19584685307013555
         },
         {
          "param": "a",
          "value": 0.1676604839591884
         },
         {
          "param": "a",
          "value": 0.06490232165072309
         },
         {
          "param": "a",
          "value": 0.16472519821986475
         },
         {
          "param": "a",
          "value": 0.09598993843251831
         },
         {
          "param": "a",
          "value": 0.14971558571454857
         },
         {
          "param": "a",
          "value": 0.041180070016806465
         },
         {
          "param": "a",
          "value": 0.1943808791516981
         },
         {
          "param": "a",
          "value": 0.13044793846907077
         },
         {
          "param": "a",
          "value": 0.08409884641656433
         },
         {
          "param": "a",
          "value": 0.047822770553015044
         },
         {
          "param": "a",
          "value": 0.07643865392521036
         },
         {
          "param": "a",
          "value": 0.17037333267479027
         },
         {
          "param": "a",
          "value": 0.1798667251983947
         },
         {
          "param": "a",
          "value": 0.049258642916292034
         },
         {
          "param": "a",
          "value": 0.08252557216830914
         },
         {
          "param": "a",
          "value": 0.23881954849871495
         },
         {
          "param": "a",
          "value": 0.15707912828599593
         },
         {
          "param": "a",
          "value": 0.11522123441189135
         },
         {
          "param": "a",
          "value": 0.13251284693794618
         },
         {
          "param": "a",
          "value": 0.06145255193744096
         },
         {
          "param": "a",
          "value": 0.07725691709555994
         },
         {
          "param": "a",
          "value": 0.1078624587398156
         },
         {
          "param": "a",
          "value": 0.0629439729578011
         },
         {
          "param": "a",
          "value": 0.34933868200693746
         },
         {
          "param": "a",
          "value": 0.05883088171709138
         },
         {
          "param": "a",
          "value": 0.12845452736260407
         },
         {
          "param": "a",
          "value": 0.10710960974889334
         },
         {
          "param": "a",
          "value": 0.07606887579539837
         },
         {
          "param": "a",
          "value": 0.08319502371921346
         },
         {
          "param": "a",
          "value": 0.1697810695510931
         },
         {
          "param": "a",
          "value": 0.09628290450576833
         },
         {
          "param": "a",
          "value": 0.09863881482800448
         },
         {
          "param": "a",
          "value": 0.1989159216004198
         },
         {
          "param": "a",
          "value": 0.17301882504956811
         },
         {
          "param": "a",
          "value": 0.13265009269625574
         },
         {
          "param": "a",
          "value": 0.2503755358695837
         },
         {
          "param": "a",
          "value": 0.13480369542454704
         },
         {
          "param": "a",
          "value": 0.159212148294369
         },
         {
          "param": "a",
          "value": 0.17436352759236376
         },
         {
          "param": "a",
          "value": 0.04242534939125599
         },
         {
          "param": "a",
          "value": 0.12800325936912013
         },
         {
          "param": "a",
          "value": 0.2025323876411059
         },
         {
          "param": "a",
          "value": 0.06410916773538479
         },
         {
          "param": "a",
          "value": 0.22424000055115764
         },
         {
          "param": "a",
          "value": 0.15029495599336973
         },
         {
          "param": "a",
          "value": 0.11481992476459858
         },
         {
          "param": "a",
          "value": 0.18871675579149977
         },
         {
          "param": "a",
          "value": 0.06929296149923499
         },
         {
          "param": "a",
          "value": 0.1267808713758418
         },
         {
          "param": "a",
          "value": 0.10637698273072904
         },
         {
          "param": "a",
          "value": 0.16598422590905434
         },
         {
          "param": "a",
          "value": 0.26473357271281067
         },
         {
          "param": "a",
          "value": 0.10546770769343802
         },
         {
          "param": "a",
          "value": 0.10735782368175556
         },
         {
          "param": "a",
          "value": 0.1349480600614642
         },
         {
          "param": "a",
          "value": 0.12882480090535167
         },
         {
          "param": "a",
          "value": 0.16105453095126626
         },
         {
          "param": "a",
          "value": 0.16221763075679668
         },
         {
          "param": "a",
          "value": 0.20148012444140265
         },
         {
          "param": "a",
          "value": 0.15438155409592186
         },
         {
          "param": "a",
          "value": 0.20327062832028792
         },
         {
          "param": "a",
          "value": 0.06967211685837878
         },
         {
          "param": "a",
          "value": 0.12659132798647293
         },
         {
          "param": "a",
          "value": 0.24252475916799143
         },
         {
          "param": "a",
          "value": 0.08793907619210323
         },
         {
          "param": "a",
          "value": 0.059220335587130704
         },
         {
          "param": "a",
          "value": 0.18493075917258342
         },
         {
          "param": "a",
          "value": 0.07862689775516589
         },
         {
          "param": "a",
          "value": 0.0640782505955834
         },
         {
          "param": "a",
          "value": 0.07121790877875644
         },
         {
          "param": "a",
          "value": 0.07485339558525694
         },
         {
          "param": "a",
          "value": 0.12736047216984567
         },
         {
          "param": "a",
          "value": 0.19352626612037063
         },
         {
          "param": "a",
          "value": 0.07345812548328798
         },
         {
          "param": "a",
          "value": 0.0615210637041989
         },
         {
          "param": "a",
          "value": 0.17262186173287797
         },
         {
          "param": "a",
          "value": 0.05102973517027782
         },
         {
          "param": "a",
          "value": 0.17334018089229164
         },
         {
          "param": "a",
          "value": 0.13327888325354284
         },
         {
          "param": "a",
          "value": 0.07980980164345676
         },
         {
          "param": "a",
          "value": 0.06901639119582066
         },
         {
          "param": "a",
          "value": 0.10521711849596835
         },
         {
          "param": "a",
          "value": 0.11670406722342618
         },
         {
          "param": "a",
          "value": 0.20375021633095894
         },
         {
          "param": "a",
          "value": 0.2930980145442813
         },
         {
          "param": "a",
          "value": 0.10209039865807037
         },
         {
          "param": "a",
          "value": 0.1022136341166836
         },
         {
          "param": "a",
          "value": 0.13464000329238593
         },
         {
          "param": "a",
          "value": 0.0687254993782946
         },
         {
          "param": "a",
          "value": 0.07223899693121245
         },
         {
          "param": "a",
          "value": 0.13149327402279987
         },
         {
          "param": "a",
          "value": 0.14685026871312604
         },
         {
          "param": "a",
          "value": 0.08884618262411736
         },
         {
          "param": "a",
          "value": 0.15505748027536925
         },
         {
          "param": "a",
          "value": 0.13893812216822815
         },
         {
          "param": "a",
          "value": 0.10570934319156493
         },
         {
          "param": "a",
          "value": 0.18786089637863942
         },
         {
          "param": "a",
          "value": 0.18179899606339242
         },
         {
          "param": "a",
          "value": 0.1383755869098557
         },
         {
          "param": "a",
          "value": 0.17569425467858105
         },
         {
          "param": "a",
          "value": 0.151630860447991
         },
         {
          "param": "a",
          "value": 0.16216315770571302
         },
         {
          "param": "a",
          "value": 0.139192715957454
         },
         {
          "param": "a",
          "value": 0.15221115220103995
         },
         {
          "param": "a",
          "value": 0.17377189414563513
         },
         {
          "param": "a",
          "value": 0.1140206681952243
         },
         {
          "param": "a",
          "value": 0.16740853898810756
         },
         {
          "param": "a",
          "value": 0.12906700783087535
         },
         {
          "param": "a",
          "value": 0.09486354316354817
         },
         {
          "param": "a",
          "value": 0.19998847000401077
         },
         {
          "param": "a",
          "value": 0.13701369832358784
         },
         {
          "param": "a",
          "value": 0.21010301802422607
         },
         {
          "param": "a",
          "value": 0.098363371634238
         },
         {
          "param": "a",
          "value": 0.11318251534601467
         },
         {
          "param": "a",
          "value": 0.11590921232953341
         },
         {
          "param": "a",
          "value": 0.11549737738804787
         },
         {
          "param": "a",
          "value": 0.11037356472093679
         },
         {
          "param": "a",
          "value": 0.10577481817914797
         },
         {
          "param": "a",
          "value": 0.1239774408461047
         },
         {
          "param": "a",
          "value": 0.08235583903844164
         },
         {
          "param": "a",
          "value": 0.13154367918152052
         },
         {
          "param": "a",
          "value": 0.0848542404125145
         },
         {
          "param": "a",
          "value": 0.11119906741292078
         },
         {
          "param": "a",
          "value": 0.09114072333759521
         },
         {
          "param": "a",
          "value": 0.13514847927651988
         },
         {
          "param": "a",
          "value": 0.10155255369282244
         },
         {
          "param": "a",
          "value": 0.1886073576063663
         },
         {
          "param": "a",
          "value": 0.18768330860804358
         },
         {
          "param": "a",
          "value": 0.055058727576202934
         },
         {
          "param": "a",
          "value": 0.14192963105387849
         },
         {
          "param": "a",
          "value": 0.15933145763442486
         },
         {
          "param": "a",
          "value": 0.053175655949153064
         },
         {
          "param": "a",
          "value": 0.08250407660293638
         },
         {
          "param": "a",
          "value": 0.2549064694800314
         },
         {
          "param": "a",
          "value": 0.09156868748609824
         },
         {
          "param": "a",
          "value": 0.053175655949153064
         },
         {
          "param": "a",
          "value": 0.053964540379979775
         },
         {
          "param": "a",
          "value": 0.1350429962390455
         },
         {
          "param": "a",
          "value": 0.1638310552738615
         },
         {
          "param": "a",
          "value": 0.2213048506974786
         },
         {
          "param": "a",
          "value": 0.06808716251918417
         },
         {
          "param": "a",
          "value": 0.13375162832596976
         },
         {
          "param": "a",
          "value": 0.10674208495084335
         },
         {
          "param": "a",
          "value": 0.09289960844858378
         },
         {
          "param": "a",
          "value": 0.04042451342656816
         },
         {
          "param": "a",
          "value": 0.13375162832596976
         },
         {
          "param": "a",
          "value": 0.18475923230103045
         },
         {
          "param": "a",
          "value": 0.061636226550870275
         },
         {
          "param": "a",
          "value": 0.32567390601365837
         },
         {
          "param": "a",
          "value": 0.14249563022102735
         },
         {
          "param": "a",
          "value": 0.10422750127780994
         },
         {
          "param": "a",
          "value": 0.12134665592035214
         },
         {
          "param": "a",
          "value": 0.12193873113819573
         },
         {
          "param": "a",
          "value": 0.14035757947986108
         },
         {
          "param": "a",
          "value": 0.12126340203149402
         },
         {
          "param": "a",
          "value": 0.1572799671551037
         },
         {
          "param": "a",
          "value": 0.037850399685216855
         },
         {
          "param": "a",
          "value": 0.16658883304877384
         },
         {
          "param": "a",
          "value": 0.12509832993743641
         },
         {
          "param": "a",
          "value": 0.07928097198462355
         },
         {
          "param": "a",
          "value": 0.11475115467328828
         },
         {
          "param": "a",
          "value": 0.10622754787040349
         },
         {
          "param": "a",
          "value": 0.2013375579705133
         },
         {
          "param": "a",
          "value": 0.1657763474304008
         },
         {
          "param": "a",
          "value": 0.11013905311379167
         },
         {
          "param": "a",
          "value": 0.17131677803530224
         },
         {
          "param": "a",
          "value": 0.18247017207773197
         },
         {
          "param": "a",
          "value": 0.11705577185570014
         },
         {
          "param": "a",
          "value": 0.1262646710490264
         },
         {
          "param": "a",
          "value": 0.19189670007412762
         },
         {
          "param": "a",
          "value": 0.15899725227476924
         },
         {
          "param": "a",
          "value": 0.24748191616139115
         },
         {
          "param": "a",
          "value": 0.21385866245238827
         },
         {
          "param": "a",
          "value": 0.258673309857772
         },
         {
          "param": "a",
          "value": 0.13911186906469025
         },
         {
          "param": "a",
          "value": 0.12905333387768847
         },
         {
          "param": "a",
          "value": 0.13216105483386792
         },
         {
          "param": "a",
          "value": 0.2164411195849069
         },
         {
          "param": "a",
          "value": 0.15975265616273346
         },
         {
          "param": "a",
          "value": 0.13293280297682264
         },
         {
          "param": "a",
          "value": 0.148908818756204
         },
         {
          "param": "a",
          "value": 0.08970814548050536
         },
         {
          "param": "a",
          "value": 0.1482636732893758
         },
         {
          "param": "a",
          "value": 0.17783117680886937
         },
         {
          "param": "a",
          "value": 0.1333649705732202
         },
         {
          "param": "a",
          "value": 0.1530579827768496
         },
         {
          "param": "a",
          "value": 0.11889819977727205
         },
         {
          "param": "a",
          "value": 0.11730404970903716
         },
         {
          "param": "a",
          "value": 0.09310320814141168
         },
         {
          "param": "a",
          "value": 0.12472694852363181
         },
         {
          "param": "a",
          "value": 0.0877512942788942
         },
         {
          "param": "a",
          "value": 0.08911648623118065
         },
         {
          "param": "a",
          "value": 0.20505658637189086
         },
         {
          "param": "a",
          "value": 0.17388786282729557
         },
         {
          "param": "a",
          "value": 0.1677953808733342
         },
         {
          "param": "a",
          "value": 0.1591970962334733
         },
         {
          "param": "a",
          "value": 0.15160635100174327
         },
         {
          "param": "a",
          "value": 0.12820376163787553
         },
         {
          "param": "a",
          "value": 0.11839000387553886
         },
         {
          "param": "a",
          "value": 0.08658193939183072
         },
         {
          "param": "a",
          "value": 0.15534505668105458
         },
         {
          "param": "a",
          "value": 0.11174722650342846
         },
         {
          "param": "a",
          "value": 0.06324702978687553
         },
         {
          "param": "a",
          "value": 0.14345185990993756
         },
         {
          "param": "a",
          "value": 0.1323130013241828
         },
         {
          "param": "a",
          "value": 0.16680512292448416
         },
         {
          "param": "a",
          "value": 0.05322741679726246
         },
         {
          "param": "a",
          "value": 0.2463351485554911
         },
         {
          "param": "a",
          "value": 0.16766324194907822
         },
         {
          "param": "a",
          "value": 0.13066254474532546
         },
         {
          "param": "a",
          "value": 0.19728851842154846
         },
         {
          "param": "a",
          "value": 0.08119130830842812
         },
         {
          "param": "a",
          "value": 0.10818223877848522
         },
         {
          "param": "a",
          "value": 0.10202116243307341
         },
         {
          "param": "a",
          "value": 0.11510605180778118
         },
         {
          "param": "a",
          "value": 0.1291205072888703
         },
         {
          "param": "a",
          "value": 0.15408130340078316
         },
         {
          "param": "a",
          "value": 0.1587196319958934
         },
         {
          "param": "a",
          "value": 0.0738917108199607
         },
         {
          "param": "a",
          "value": 0.11015719693142009
         },
         {
          "param": "a",
          "value": 0.22109183305106844
         },
         {
          "param": "a",
          "value": 0.15952122967025636
         },
         {
          "param": "a",
          "value": 0.11057524436782028
         },
         {
          "param": "a",
          "value": 0.10810776876737538
         },
         {
          "param": "a",
          "value": 0.0837694841364444
         },
         {
          "param": "a",
          "value": 0.08527545932918269
         },
         {
          "param": "a",
          "value": 0.08361463102364282
         },
         {
          "param": "a",
          "value": 0.09376704234933822
         },
         {
          "param": "a",
          "value": 0.269640314256969
         },
         {
          "param": "a",
          "value": 0.2361503942506437
         },
         {
          "param": "a",
          "value": 0.1905529485886254
         },
         {
          "param": "a",
          "value": 0.20170992885875094
         },
         {
          "param": "a",
          "value": 0.21085089001956006
         },
         {
          "param": "a",
          "value": 0.03887105689598781
         },
         {
          "param": "a",
          "value": 0.11816968900623565
         },
         {
          "param": "a",
          "value": 0.06906516925856782
         },
         {
          "param": "a",
          "value": 0.07952453310836131
         },
         {
          "param": "a",
          "value": 0.05946657232836441
         },
         {
          "param": "a",
          "value": 0.139688662997958
         },
         {
          "param": "a",
          "value": 0.10414817724491666
         },
         {
          "param": "a",
          "value": 0.07670125076749976
         },
         {
          "param": "a",
          "value": 0.18325448039877698
         },
         {
          "param": "a",
          "value": 0.13333133697134747
         },
         {
          "param": "a",
          "value": 0.10043548891677717
         },
         {
          "param": "a",
          "value": 0.12893400194752955
         },
         {
          "param": "a",
          "value": 0.13075820485134876
         },
         {
          "param": "a",
          "value": 0.10499987171052089
         },
         {
          "param": "a",
          "value": 0.1993073426009965
         },
         {
          "param": "a",
          "value": 0.1300205966326615
         },
         {
          "param": "a",
          "value": 0.11074056920328675
         },
         {
          "param": "a",
          "value": 0.19134663404685098
         },
         {
          "param": "a",
          "value": 0.16624970797272537
         },
         {
          "param": "a",
          "value": 0.10946136542899307
         },
         {
          "param": "a",
          "value": 0.37181681921134274
         },
         {
          "param": "a",
          "value": 0.07457795832088926
         },
         {
          "param": "a",
          "value": 0.13389028772397388
         },
         {
          "param": "a",
          "value": 0.08737307898185091
         },
         {
          "param": "a",
          "value": 0.2354017740913865
         },
         {
          "param": "a",
          "value": 0.1279677432427686
         },
         {
          "param": "a",
          "value": 0.13617989856899992
         },
         {
          "param": "a",
          "value": 0.08675338963953029
         },
         {
          "param": "a",
          "value": 0.1904948604215704
         },
         {
          "param": "a",
          "value": 0.1765658999064999
         },
         {
          "param": "a",
          "value": 0.07881547906963497
         },
         {
          "param": "a",
          "value": 0.1340161636594162
         },
         {
          "param": "a",
          "value": 0.12452666874691912
         },
         {
          "param": "a",
          "value": 0.1537346923578844
         },
         {
          "param": "a",
          "value": 0.1363347176222506
         },
         {
          "param": "a",
          "value": 0.15575470176440143
         },
         {
          "param": "a",
          "value": 0.18552300260434787
         },
         {
          "param": "a",
          "value": 0.06396722861794352
         },
         {
          "param": "a",
          "value": 0.12796952210051463
         },
         {
          "param": "a",
          "value": 0.1796180043115919
         },
         {
          "param": "a",
          "value": 0.12413949494545908
         },
         {
          "param": "a",
          "value": 0.23175735310405213
         },
         {
          "param": "a",
          "value": 0.13090369118820183
         },
         {
          "param": "a",
          "value": 0.15767879971968507
         },
         {
          "param": "a",
          "value": 0.14442285627712573
         },
         {
          "param": "a",
          "value": 0.09891150934257122
         },
         {
          "param": "a",
          "value": 0.09333933099309905
         },
         {
          "param": "a",
          "value": 0.14582138730734104
         },
         {
          "param": "a",
          "value": 0.14442285627712573
         },
         {
          "param": "a",
          "value": 0.1034281722116967
         },
         {
          "param": "a",
          "value": 0.21647682192716522
         },
         {
          "param": "a",
          "value": 0.14779459062191672
         },
         {
          "param": "a",
          "value": 0.11810215205520574
         },
         {
          "param": "a",
          "value": 0.09661209559264668
         },
         {
          "param": "a",
          "value": 0.16260729702049426
         },
         {
          "param": "a",
          "value": 0.08235851414793466
         },
         {
          "param": "a",
          "value": 0.18224161438926378
         },
         {
          "param": "a",
          "value": 0.34510676211276364
         },
         {
          "param": "a",
          "value": 0.20795230119033783
         },
         {
          "param": "a",
          "value": 0.09459577239638929
         },
         {
          "param": "a",
          "value": 0.10980335126575563
         },
         {
          "param": "a",
          "value": 0.05096442846547373
         },
         {
          "param": "a",
          "value": 0.06964581576843211
         },
         {
          "param": "a",
          "value": 0.08519658640479726
         },
         {
          "param": "a",
          "value": 0.12002370767729073
         },
         {
          "param": "a",
          "value": 0.24178157047932072
         },
         {
          "param": "a",
          "value": 0.22451722700322704
         },
         {
          "param": "a",
          "value": 0.12515557361701762
         },
         {
          "param": "a",
          "value": 0.17745946475283111
         },
         {
          "param": "a",
          "value": 0.07374682461706987
         },
         {
          "param": "a",
          "value": 0.09644173075028573
         },
         {
          "param": "a",
          "value": 0.15411535839688992
         },
         {
          "param": "a",
          "value": 0.13796898618835804
         },
         {
          "param": "a",
          "value": 0.19242591703807418
         },
         {
          "param": "a",
          "value": 0.10074492297648201
         },
         {
          "param": "a",
          "value": 0.1455471027735753
         },
         {
          "param": "a",
          "value": 0.13315167643039807
         },
         {
          "param": "a",
          "value": 0.09580854375916309
         },
         {
          "param": "a",
          "value": 0.14626063775731082
         },
         {
          "param": "a",
          "value": 0.11550384838598321
         },
         {
          "param": "a",
          "value": 0.11526259617260001
         },
         {
          "param": "a",
          "value": 0.054026311437377954
         },
         {
          "param": "a",
          "value": 0.11001471727083281
         },
         {
          "param": "a",
          "value": 0.07635221016988179
         },
         {
          "param": "a",
          "value": 0.16925642108938835
         },
         {
          "param": "a",
          "value": 0.050599958023832214
         },
         {
          "param": "a",
          "value": 0.17528321642163355
         },
         {
          "param": "a",
          "value": 0.09864240196652027
         },
         {
          "param": "a",
          "value": 0.1393262088652757
         },
         {
          "param": "a",
          "value": 0.0395431472003812
         },
         {
          "param": "a",
          "value": 0.26462369017011733
         },
         {
          "param": "a",
          "value": 0.12904651557927566
         },
         {
          "param": "a",
          "value": 0.14991426437985433
         },
         {
          "param": "a",
          "value": 0.13745154819141298
         },
         {
          "param": "a",
          "value": 0.119377957754879
         },
         {
          "param": "a",
          "value": 0.15886641920322447
         },
         {
          "param": "a",
          "value": 0.0915446980885078
         },
         {
          "param": "a",
          "value": 0.20161609379147066
         },
         {
          "param": "a",
          "value": 0.11746412615021155
         },
         {
          "param": "a",
          "value": 0.14010227887335716
         },
         {
          "param": "a",
          "value": 0.10051574160468657
         },
         {
          "param": "a",
          "value": 0.06096975521867809
         },
         {
          "param": "a",
          "value": 0.10540594135077662
         },
         {
          "param": "a",
          "value": 0.13766905813395067
         },
         {
          "param": "a",
          "value": 0.10144349327732824
         },
         {
          "param": "a",
          "value": 0.18911975150256108
         },
         {
          "param": "a",
          "value": 0.21580267863140074
         },
         {
          "param": "a",
          "value": 0.1228191235621824
         },
         {
          "param": "a",
          "value": 0.15172717725206405
         },
         {
          "param": "a",
          "value": 0.11331997538367464
         },
         {
          "param": "a",
          "value": 0.10820005659564731
         },
         {
          "param": "a",
          "value": 0.15045499773136672
         },
         {
          "param": "a",
          "value": 0.16666383373121296
         },
         {
          "param": "a",
          "value": 0.1493793109485409
         },
         {
          "param": "a",
          "value": 0.1599420009778349
         },
         {
          "param": "a",
          "value": 0.07822294341150704
         },
         {
          "param": "a",
          "value": 0.10306312406729606
         },
         {
          "param": "a",
          "value": 0.14581107883559566
         },
         {
          "param": "a",
          "value": 0.2224735635413384
         },
         {
          "param": "a",
          "value": 0.3020858546501548
         },
         {
          "param": "a",
          "value": 0.15818731651833023
         },
         {
          "param": "a",
          "value": 0.17341828658731626
         },
         {
          "param": "a",
          "value": 0.14014830776715922
         },
         {
          "param": "a",
          "value": 0.1067678600636284
         },
         {
          "param": "a",
          "value": 0.15695940505281508
         },
         {
          "param": "a",
          "value": 0.1702338145636861
         },
         {
          "param": "a",
          "value": 0.10382067680029201
         },
         {
          "param": "a",
          "value": 0.12747530721263317
         },
         {
          "param": "a",
          "value": 0.1129927182175654
         },
         {
          "param": "a",
          "value": 0.12007972291671788
         },
         {
          "param": "a",
          "value": 0.1186535399279479
         },
         {
          "param": "a",
          "value": 0.06562686096536059
         },
         {
          "param": "a",
          "value": 0.05933657258545727
         },
         {
          "param": "a",
          "value": 0.1446278908771458
         },
         {
          "param": "a",
          "value": 0.13569614490655674
         },
         {
          "param": "a",
          "value": 0.0983300656885259
         },
         {
          "param": "a",
          "value": 0.17973009639835774
         },
         {
          "param": "a",
          "value": 0.23918432174089627
         },
         {
          "param": "a",
          "value": 0.10961272604653993
         },
         {
          "param": "a",
          "value": 0.11659651255437598
         },
         {
          "param": "a",
          "value": 0.2249058761233504
         },
         {
          "param": "a",
          "value": 0.15038584095860646
         },
         {
          "param": "a",
          "value": 0.13436632707040874
         },
         {
          "param": "a",
          "value": 0.15980712657927268
         },
         {
          "param": "a",
          "value": 0.2249058761233504
         },
         {
          "param": "a",
          "value": 0.15483038754937387
         },
         {
          "param": "a",
          "value": 0.11078347508481273
         },
         {
          "param": "a",
          "value": 0.08961411249691481
         },
         {
          "param": "a",
          "value": 0.05927167852367567
         },
         {
          "param": "a",
          "value": 0.105953932722464
         },
         {
          "param": "a",
          "value": 0.11180820719191538
         },
         {
          "param": "a",
          "value": 0.21356023847797304
         },
         {
          "param": "a",
          "value": 0.042006457681997386
         },
         {
          "param": "a",
          "value": 0.10595230566468176
         },
         {
          "param": "a",
          "value": 0.16651603322802083
         },
         {
          "param": "a",
          "value": 0.15452326464555896
         },
         {
          "param": "a",
          "value": 0.060321174356756935
         },
         {
          "param": "a",
          "value": 0.08405374013376173
         },
         {
          "param": "a",
          "value": 0.12408984132370116
         },
         {
          "param": "a",
          "value": 0.20820243802793945
         },
         {
          "param": "a",
          "value": 0.12924764863123878
         },
         {
          "param": "a",
          "value": 0.041828048634725064
         },
         {
          "param": "a",
          "value": 0.16520687347922366
         },
         {
          "param": "a",
          "value": 0.12361873868313647
         },
         {
          "param": "a",
          "value": 0.09821185398581889
         },
         {
          "param": "a",
          "value": 0.11619716459432515
         },
         {
          "param": "a",
          "value": 0.12464449084953781
         },
         {
          "param": "a",
          "value": 0.17642749316994005
         },
         {
          "param": "a",
          "value": 0.15146127623911507
         },
         {
          "param": "a",
          "value": 0.1309180042496792
         },
         {
          "param": "a",
          "value": 0.06789873468833559
         },
         {
          "param": "a",
          "value": 0.1333959432974138
         },
         {
          "param": "a",
          "value": 0.18264665447941905
         },
         {
          "param": "a",
          "value": 0.1245530357843563
         },
         {
          "param": "a",
          "value": 0.036555392845218866
         },
         {
          "param": "a",
          "value": 0.1024612989674732
         },
         {
          "param": "a",
          "value": 0.10762551799527911
         },
         {
          "param": "a",
          "value": 0.19023709531456456
         },
         {
          "param": "a",
          "value": 0.22233601797413405
         },
         {
          "param": "a",
          "value": 0.2325379105678193
         },
         {
          "param": "a",
          "value": 0.16073444463057981
         },
         {
          "param": "a",
          "value": 0.13374069352486556
         },
         {
          "param": "a",
          "value": 0.12023550122203223
         },
         {
          "param": "a",
          "value": 0.11997314138316183
         },
         {
          "param": "a",
          "value": 0.15810710494792107
         },
         {
          "param": "a",
          "value": 0.14334039339814458
         },
         {
          "param": "a",
          "value": 0.18622378668932105
         },
         {
          "param": "a",
          "value": 0.09616312134026138
         },
         {
          "param": "a",
          "value": 0.17567749439929906
         },
         {
          "param": "a",
          "value": 0.1572267950382686
         },
         {
          "param": "a",
          "value": 0.11494407023674347
         },
         {
          "param": "a",
          "value": 0.09911034685381781
         },
         {
          "param": "a",
          "value": 0.13182021988992262
         },
         {
          "param": "a",
          "value": 0.17716754706292848
         },
         {
          "param": "a",
          "value": 0.15378218446301722
         },
         {
          "param": "a",
          "value": 0.16444933785324597
         },
         {
          "param": "a",
          "value": 0.042856928672603815
         },
         {
          "param": "a",
          "value": 0.10061702781944448
         },
         {
          "param": "a",
          "value": 0.18419533621486298
         },
         {
          "param": "a",
          "value": 0.11183830809712071
         },
         {
          "param": "a",
          "value": 0.1527054882845152
         },
         {
          "param": "a",
          "value": 0.10167279375787289
         },
         {
          "param": "a",
          "value": 0.02855905400144893
         },
         {
          "param": "a",
          "value": 0.15473292666163097
         },
         {
          "param": "a",
          "value": 0.21772202440971583
         },
         {
          "param": "a",
          "value": 0.10103727218309791
         },
         {
          "param": "a",
          "value": 0.29138352099848613
         },
         {
          "param": "a",
          "value": 0.09186885055625627
         },
         {
          "param": "a",
          "value": 0.07186233842168853
         },
         {
          "param": "a",
          "value": 0.22376443625241305
         },
         {
          "param": "a",
          "value": 0.06575372499523714
         },
         {
          "param": "a",
          "value": 0.10167383018723551
         },
         {
          "param": "a",
          "value": 0.07314084541735918
         },
         {
          "param": "a",
          "value": 0.06903656070015673
         },
         {
          "param": "a",
          "value": 0.230248627232233
         },
         {
          "param": "a",
          "value": 0.10917477292148493
         },
         {
          "param": "a",
          "value": 0.1076248524808015
         },
         {
          "param": "a",
          "value": 0.11927278005971405
         },
         {
          "param": "a",
          "value": 0.14161123023982936
         },
         {
          "param": "a",
          "value": 0.10917477292148493
         },
         {
          "param": "a",
          "value": 0.12129775353282231
         },
         {
          "param": "a",
          "value": 0.11336763042864476
         },
         {
          "param": "a",
          "value": 0.2443185392345222
         },
         {
          "param": "a",
          "value": 0.04919701515270816
         },
         {
          "param": "a",
          "value": 0.08620713667659961
         },
         {
          "param": "a",
          "value": 0.09959132830600911
         },
         {
          "param": "a",
          "value": 0.06487919625959666
         },
         {
          "param": "a",
          "value": 0.05043384440744627
         },
         {
          "param": "a",
          "value": 0.17763553536412816
         },
         {
          "param": "a",
          "value": 0.023042402757304088
         },
         {
          "param": "a",
          "value": 0.1643672570716174
         },
         {
          "param": "a",
          "value": 0.25594810305284216
         },
         {
          "param": "a",
          "value": 0.09458020366804633
         },
         {
          "param": "a",
          "value": 0.04030814686784775
         },
         {
          "param": "a",
          "value": 0.12623802720487853
         },
         {
          "param": "a",
          "value": 0.0704603441067945
         },
         {
          "param": "a",
          "value": 0.17769872985608556
         },
         {
          "param": "a",
          "value": 0.24269738224329812
         },
         {
          "param": "a",
          "value": 0.15910578859573862
         },
         {
          "param": "a",
          "value": 0.02457132558310533
         },
         {
          "param": "a",
          "value": 0.10333905462806432
         },
         {
          "param": "a",
          "value": 0.09625324485655397
         },
         {
          "param": "a",
          "value": 0.2201509689334014
         },
         {
          "param": "a",
          "value": 0.014942030335319571
         },
         {
          "param": "a",
          "value": 0.1429049297485282
         },
         {
          "param": "a",
          "value": 0.1996157117016875
         },
         {
          "param": "a",
          "value": 0.06977901350205207
         },
         {
          "param": "a",
          "value": 0.32888220670098195
         },
         {
          "param": "a",
          "value": 0.1877244746185819
         },
         {
          "param": "a",
          "value": 0.18837219351521664
         },
         {
          "param": "a",
          "value": 0.08500745973027099
         },
         {
          "param": "a",
          "value": 0.20717057281464946
         },
         {
          "param": "a",
          "value": 0.12043303690440156
         },
         {
          "param": "a",
          "value": 0.1405989298390121
         },
         {
          "param": "a",
          "value": 0.11461709070977265
         },
         {
          "param": "a",
          "value": 0.08318644163386354
         },
         {
          "param": "a",
          "value": 0.13087607422216904
         },
         {
          "param": "a",
          "value": 0.12198794219687938
         },
         {
          "param": "a",
          "value": 0.129791404030903
         },
         {
          "param": "a",
          "value": 0.22162496148816963
         },
         {
          "param": "a",
          "value": 0.13849663238928564
         },
         {
          "param": "a",
          "value": 0.14622239271991827
         },
         {
          "param": "a",
          "value": 0.1655956930909787
         },
         {
          "param": "a",
          "value": 0.09729945453185909
         },
         {
          "param": "a",
          "value": 0.06469765890837958
         },
         {
          "param": "a",
          "value": 0.18180396886900205
         },
         {
          "param": "a",
          "value": 0.11904697689861371
         },
         {
          "param": "a",
          "value": 0.13153267250315567
         },
         {
          "param": "a",
          "value": 0.17763763496681967
         },
         {
          "param": "a",
          "value": 0.21477939282946296
         },
         {
          "param": "a",
          "value": 0.0979962336478216
         },
         {
          "param": "a",
          "value": 0.08935538116634154
         },
         {
          "param": "a",
          "value": 0.1578983771595988
         },
         {
          "param": "a",
          "value": 0.1898939129491475
         },
         {
          "param": "a",
          "value": 0.09030101964125736
         },
         {
          "param": "a",
          "value": 0.15249121522700537
         },
         {
          "param": "a",
          "value": 0.10432991128472985
         },
         {
          "param": "a",
          "value": 0.1315379104252199
         },
         {
          "param": "a",
          "value": 0.20283185149600239
         },
         {
          "param": "a",
          "value": 0.11307640108635186
         },
         {
          "param": "a",
          "value": 0.1223998157579347
         },
         {
          "param": "a",
          "value": 0.18723893363231064
         },
         {
          "param": "a",
          "value": 0.11975796464194122
         },
         {
          "param": "a",
          "value": 0.1244658488392489
         },
         {
          "param": "a",
          "value": 0.16393803027009402
         },
         {
          "param": "a",
          "value": 0.15569495333531483
         },
         {
          "param": "a",
          "value": 0.09552366843587486
         },
         {
          "param": "a",
          "value": 0.15663538292759338
         },
         {
          "param": "a",
          "value": 0.21965187689739654
         },
         {
          "param": "a",
          "value": 0.16102415772429304
         },
         {
          "param": "a",
          "value": 0.16379932996932975
         },
         {
          "param": "a",
          "value": 0.08323509533280717
         },
         {
          "param": "a",
          "value": 0.12101155341878977
         },
         {
          "param": "a",
          "value": 0.042810079357817
         },
         {
          "param": "a",
          "value": 0.11455281766167019
         },
         {
          "param": "a",
          "value": 0.17964763202886805
         },
         {
          "param": "a",
          "value": 0.14025891844236046
         },
         {
          "param": "a",
          "value": 0.03270845916397937
         },
         {
          "param": "a",
          "value": 0.13409755513260513
         },
         {
          "param": "a",
          "value": 0.25319774003820483
         },
         {
          "param": "a",
          "value": 0.13329527174483707
         },
         {
          "param": "a",
          "value": 0.3046180141935535
         },
         {
          "param": "a",
          "value": 0.1225305379187367
         },
         {
          "param": "a",
          "value": 0.06762401270612443
         },
         {
          "param": "a",
          "value": 0.17401754778931228
         },
         {
          "param": "a",
          "value": 0.03255562187669745
         },
         {
          "param": "a",
          "value": 0.27574734286933267
         },
         {
          "param": "a",
          "value": 0.06999462879265868
         },
         {
          "param": "a",
          "value": 0.08739873062224308
         },
         {
          "param": "a",
          "value": 0.034261890208514265
         },
         {
          "param": "a",
          "value": 0.07178621595102243
         },
         {
          "param": "a",
          "value": 0.07351380572046894
         },
         {
          "param": "a",
          "value": 0.0897993873379516
         },
         {
          "param": "a",
          "value": 0.06670256364102822
         },
         {
          "param": "a",
          "value": 0.046138154359778326
         },
         {
          "param": "a",
          "value": 0.11105466553679635
         },
         {
          "param": "a",
          "value": 0.21429126901887632
         },
         {
          "param": "a",
          "value": 0.11005482417488832
         },
         {
          "param": "a",
          "value": 0.09023910403778429
         },
         {
          "param": "a",
          "value": 0.12041768650279581
         },
         {
          "param": "a",
          "value": 0.04814264793333242
         },
         {
          "param": "a",
          "value": 0.10039374584413042
         },
         {
          "param": "a",
          "value": 0.16615994871220627
         },
         {
          "param": "a",
          "value": 0.09335685565868783
         },
         {
          "param": "a",
          "value": 0.07305297241297326
         },
         {
          "param": "a",
          "value": 0.14081162686270496
         },
         {
          "param": "a",
          "value": 0.1351450836884959
         },
         {
          "param": "a",
          "value": 0.055993227195124
         },
         {
          "param": "a",
          "value": 0.06407161901055666
         },
         {
          "param": "a",
          "value": 0.05554713419769705
         },
         {
          "param": "a",
          "value": 0.19006088157720796
         },
         {
          "param": "a",
          "value": 0.08109032645645402
         },
         {
          "param": "a",
          "value": 0.18951976374065577
         },
         {
          "param": "a",
          "value": 0.25492716368630236
         },
         {
          "param": "a",
          "value": 0.19006088157720796
         },
         {
          "param": "a",
          "value": 0.20895045747375096
         },
         {
          "param": "a",
          "value": 0.12639433720492535
         },
         {
          "param": "a",
          "value": 0.06003886737681168
         },
         {
          "param": "a",
          "value": 0.18995058958616268
         },
         {
          "param": "a",
          "value": 0.09855663801108774
         },
         {
          "param": "a",
          "value": 0.1375400035366199
         },
         {
          "param": "a",
          "value": 0.10092644103448917
         },
         {
          "param": "a",
          "value": 0.12280175910363504
         },
         {
          "param": "a",
          "value": 0.10790578180834243
         },
         {
          "param": "a",
          "value": 0.09717874051684657
         },
         {
          "param": "a",
          "value": 0.09490468595676071
         },
         {
          "param": "a",
          "value": 0.17370430342149212
         },
         {
          "param": "a",
          "value": 0.19758091337460518
         },
         {
          "param": "a",
          "value": 0.15282940514978122
         },
         {
          "param": "a",
          "value": 0.18665222004032245
         },
         {
          "param": "a",
          "value": 0.12214812557688395
         },
         {
          "param": "a",
          "value": 0.0882008958846056
         },
         {
          "param": "a",
          "value": 0.15614134659088066
         },
         {
          "param": "a",
          "value": 0.08528092753985206
         },
         {
          "param": "a",
          "value": 0.08108573630941414
         },
         {
          "param": "a",
          "value": 0.21475555506212574
         },
         {
          "param": "a",
          "value": 0.1457961143856498
         },
         {
          "param": "a",
          "value": 0.0588490838003826
         },
         {
          "param": "a",
          "value": 0.10376698009832865
         },
         {
          "param": "a",
          "value": 0.08221460917588906
         },
         {
          "param": "a",
          "value": 0.14873752922163014
         },
         {
          "param": "a",
          "value": 0.07174461966433987
         },
         {
          "param": "a",
          "value": 0.13820019603254782
         },
         {
          "param": "a",
          "value": 0.22431374339974636
         },
         {
          "param": "a",
          "value": 0.08110880378550214
         },
         {
          "param": "a",
          "value": 0.09757345359812418
         },
         {
          "param": "a",
          "value": 0.30426081453461706
         },
         {
          "param": "a",
          "value": 0.08608721183855077
         },
         {
          "param": "a",
          "value": 0.1932928327127537
         },
         {
          "param": "a",
          "value": 0.1755085746549869
         },
         {
          "param": "a",
          "value": 0.30426081453461706
         },
         {
          "param": "a",
          "value": 0.2504385944211192
         },
         {
          "param": "a",
          "value": 0.09806200157042823
         },
         {
          "param": "a",
          "value": 0.15955478955818722
         },
         {
          "param": "a",
          "value": 0.11787874356714355
         },
         {
          "param": "a",
          "value": 0.02700250798000552
         },
         {
          "param": "a",
          "value": 0.09406462588773604
         },
         {
          "param": "a",
          "value": 0.1807592780020328
         },
         {
          "param": "a",
          "value": 0.30606548130146305
         },
         {
          "param": "a",
          "value": 0.02700250798000552
         },
         {
          "param": "a",
          "value": 0.2279004809114182
         },
         {
          "param": "a",
          "value": 0.12973138462585093
         },
         {
          "param": "a",
          "value": 0.05856908141829264
         },
         {
          "param": "a",
          "value": 0.11995648761322207
         },
         {
          "param": "a",
          "value": 0.07805763441650751
         },
         {
          "param": "a",
          "value": 0.1450787539942115
         },
         {
          "param": "a",
          "value": 0.0628332154771941
         },
         {
          "param": "a",
          "value": 0.0872135957404687
         },
         {
          "param": "a",
          "value": 0.08734369744374652
         },
         {
          "param": "a",
          "value": 0.11538449866371212
         },
         {
          "param": "a",
          "value": 0.07944682093534755
         },
         {
          "param": "a",
          "value": 0.0752037349173189
         },
         {
          "param": "a",
          "value": 0.11156981003148143
         },
         {
          "param": "a",
          "value": 0.08503159593065077
         },
         {
          "param": "a",
          "value": 0.07646581585839554
         },
         {
          "param": "a",
          "value": 0.0798882396293815
         },
         {
          "param": "a",
          "value": 0.24995927141582078
         },
         {
          "param": "a",
          "value": 0.06272295422257552
         },
         {
          "param": "a",
          "value": 0.10901078569353616
         },
         {
          "param": "a",
          "value": 0.08172972244415838
         },
         {
          "param": "a",
          "value": 0.10125671848827977
         },
         {
          "param": "a",
          "value": 0.1591997429196613
         },
         {
          "param": "a",
          "value": 0.220326140075261
         },
         {
          "param": "a",
          "value": 0.20748231821771868
         },
         {
          "param": "a",
          "value": 0.1586044564758018
         },
         {
          "param": "a",
          "value": 0.12104713858258356
         },
         {
          "param": "a",
          "value": 0.08989106661265542
         },
         {
          "param": "a",
          "value": 0.05924522477964185
         },
         {
          "param": "a",
          "value": 0.2705774262682075
         },
         {
          "param": "a",
          "value": 0.165524242306229
         },
         {
          "param": "a",
          "value": 0.07082205653103939
         },
         {
          "param": "a",
          "value": 0.09235490369133519
         },
         {
          "param": "a",
          "value": 0.17666261662794094
         },
         {
          "param": "a",
          "value": 0.20917526853474913
         },
         {
          "param": "a",
          "value": 0.13488233630190835
         },
         {
          "param": "a",
          "value": 0.16476741180985102
         },
         {
          "param": "a",
          "value": 0.12253507984855436
         },
         {
          "param": "a",
          "value": 0.10672652692142702
         },
         {
          "param": "a",
          "value": 0.10999012942691312
         },
         {
          "param": "a",
          "value": 0.20254359837157082
         },
         {
          "param": "a",
          "value": 0.1299354259377084
         },
         {
          "param": "a",
          "value": 0.10594281651125577
         },
         {
          "param": "a",
          "value": 0.16831769722570838
         },
         {
          "param": "a",
          "value": 0.22470928234772286
         },
         {
          "param": "a",
          "value": 0.16831663445664774
         },
         {
          "param": "a",
          "value": 0.14877844743299465
         },
         {
          "param": "a",
          "value": 0.17558411944058389
         },
         {
          "param": "a",
          "value": 0.10339234762410864
         },
         {
          "param": "a",
          "value": 0.12628536183495134
         },
         {
          "param": "a",
          "value": 0.16210488433021808
         },
         {
          "param": "a",
          "value": 0.12076372863300869
         },
         {
          "param": "a",
          "value": 0.09629818295307416
         },
         {
          "param": "a",
          "value": 0.18064476374728963
         },
         {
          "param": "a",
          "value": 0.07873736659220444
         },
         {
          "param": "a",
          "value": 0.08632527856488593
         },
         {
          "param": "a",
          "value": 0.17284066283113558
         },
         {
          "param": "a",
          "value": 0.08675320956825401
         },
         {
          "param": "a",
          "value": 0.11516276375899466
         },
         {
          "param": "a",
          "value": 0.23533073281622108
         },
         {
          "param": "a",
          "value": 0.0972017506171051
         },
         {
          "param": "a",
          "value": 0.22740784259228788
         },
         {
          "param": "a",
          "value": 0.08253168836496355
         },
         {
          "param": "a",
          "value": 0.0792830507218123
         },
         {
          "param": "a",
          "value": 0.1943325178886145
         },
         {
          "param": "a",
          "value": 0.16018014367340938
         },
         {
          "param": "a",
          "value": 0.053287097000004675
         },
         {
          "param": "a",
          "value": 0.12983640538382415
         },
         {
          "param": "a",
          "value": 0.21348000817235094
         },
         {
          "param": "a",
          "value": 0.14650164558847284
         },
         {
          "param": "a",
          "value": 0.08265408386856538
         },
         {
          "param": "a",
          "value": 0.16443245786001975
         },
         {
          "param": "a",
          "value": 0.0751340837452842
         },
         {
          "param": "a",
          "value": 0.07345168298661149
         },
         {
          "param": "a",
          "value": 0.07399840959611963
         },
         {
          "param": "a",
          "value": 0.10840213999523474
         },
         {
          "param": "a",
          "value": 0.20028672015873045
         },
         {
          "param": "a",
          "value": 0.09053709707621925
         },
         {
          "param": "a",
          "value": 0.13505366868381385
         },
         {
          "param": "a",
          "value": 0.2206477254589731
         },
         {
          "param": "a",
          "value": 0.18821138621571484
         },
         {
          "param": "a",
          "value": 0.11432634317336861
         },
         {
          "param": "a",
          "value": 0.16374339241354569
         },
         {
          "param": "a",
          "value": 0.2206477254589731
         },
         {
          "param": "a",
          "value": 0.14404265845739272
         },
         {
          "param": "a",
          "value": 0.1219691445703525
         },
         {
          "param": "a",
          "value": 0.10239062947573892
         },
         {
          "param": "a",
          "value": 0.23550987636685433
         },
         {
          "param": "a",
          "value": 0.09369611046024762
         },
         {
          "param": "a",
          "value": 0.0928356365167279
         },
         {
          "param": "a",
          "value": 0.1189126023263661
         },
         {
          "param": "a",
          "value": 0.065900784097089
         },
         {
          "param": "a",
          "value": 0.07053568808692257
         },
         {
          "param": "a",
          "value": 0.12867130187316841
         },
         {
          "param": "a",
          "value": 0.12252935811056924
         },
         {
          "param": "a",
          "value": 0.24480676076561206
         },
         {
          "param": "a",
          "value": 0.03438376089143157
         },
         {
          "param": "a",
          "value": 0.15977358779479345
         },
         {
          "param": "a",
          "value": 0.17347419995579727
         },
         {
          "param": "a",
          "value": 0.08396464822548182
         },
         {
          "param": "a",
          "value": 0.032517556879986774
         },
         {
          "param": "a",
          "value": 0.1664056438405812
         },
         {
          "param": "a",
          "value": 0.17347419995579727
         },
         {
          "param": "a",
          "value": 0.09725013682952871
         },
         {
          "param": "a",
          "value": 0.14388308560827381
         },
         {
          "param": "a",
          "value": 0.2090730230073282
         },
         {
          "param": "a",
          "value": 0.21774878157105756
         },
         {
          "param": "a",
          "value": 0.12091254009274108
         },
         {
          "param": "a",
          "value": 0.1516130449899459
         },
         {
          "param": "a",
          "value": 0.14508337703710372
         },
         {
          "param": "a",
          "value": 0.1097497986312002
         },
         {
          "param": "a",
          "value": 0.2639094896491441
         },
         {
          "param": "a",
          "value": 0.16227250447095076
         },
         {
          "param": "a",
          "value": 0.1898220451966906
         },
         {
          "param": "a",
          "value": 0.04991769207772866
         },
         {
          "param": "a",
          "value": 0.06371029254149317
         },
         {
          "param": "a",
          "value": 0.1604554859372731
         },
         {
          "param": "a",
          "value": 0.20075203372231357
         },
         {
          "param": "a",
          "value": 0.10927155411430933
         },
         {
          "param": "a",
          "value": 0.12821050681128035
         },
         {
          "param": "a",
          "value": 0.11705345367549455
         },
         {
          "param": "a",
          "value": 0.1536839984448483
         },
         {
          "param": "a",
          "value": 0.08631697011251989
         },
         {
          "param": "a",
          "value": 0.11964407893746713
         },
         {
          "param": "a",
          "value": 0.15480747695383237
         },
         {
          "param": "a",
          "value": 0.11594386493498374
         },
         {
          "param": "a",
          "value": 0.10622994593174004
         },
         {
          "param": "a",
          "value": 0.2547050234947658
         },
         {
          "param": "a",
          "value": 0.1294751783971556
         },
         {
          "param": "a",
          "value": 0.21776491655061367
         },
         {
          "param": "a",
          "value": 0.0834738075743624
         },
         {
          "param": "a",
          "value": 0.13179264929295623
         },
         {
          "param": "a",
          "value": 0.08519206253628041
         },
         {
          "param": "a",
          "value": 0.12329262850395839
         },
         {
          "param": "a",
          "value": 0.21637135337121585
         },
         {
          "param": "a",
          "value": 0.164775827272341
         },
         {
          "param": "a",
          "value": 0.08467406321753251
         },
         {
          "param": "a",
          "value": 0.09499701476851424
         },
         {
          "param": "a",
          "value": 0.1867438033089298
         },
         {
          "param": "a",
          "value": 0.14939386393071347
         },
         {
          "param": "a",
          "value": 0.08492916113929333
         },
         {
          "param": "a",
          "value": 0.0943605278148717
         },
         {
          "param": "a",
          "value": 0.1584398132431378
         },
         {
          "param": "a",
          "value": 0.10015100092882744
         },
         {
          "param": "a",
          "value": 0.150554546528229
         },
         {
          "param": "a",
          "value": 0.060828405017773736
         },
         {
          "param": "a",
          "value": 0.07639834999239488
         },
         {
          "param": "a",
          "value": 0.09826508841449556
         },
         {
          "param": "a",
          "value": 0.06431535867261304
         },
         {
          "param": "a",
          "value": 0.06459581455696116
         },
         {
          "param": "a",
          "value": 0.09931472611898176
         },
         {
          "param": "a",
          "value": 0.20770182585398084
         },
         {
          "param": "a",
          "value": 0.07341586512374063
         },
         {
          "param": "a",
          "value": 0.026370738943538197
         },
         {
          "param": "a",
          "value": 0.1328492847962891
         },
         {
          "param": "a",
          "value": 0.0192026486667458
         },
         {
          "param": "a",
          "value": 0.14322825609105108
         },
         {
          "param": "a",
          "value": 0.19680010655267804
         },
         {
          "param": "a",
          "value": 0.1428392715498116
         },
         {
          "param": "a",
          "value": 0.01952069081308983
         },
         {
          "param": "a",
          "value": 0.1896252691998801
         },
         {
          "param": "a",
          "value": 0.09496370777727425
         },
         {
          "param": "a",
          "value": 0.14569555918493435
         },
         {
          "param": "a",
          "value": 0.019563641425951354
         },
         {
          "param": "a",
          "value": 0.2404661239002759
         },
         {
          "param": "a",
          "value": 0.1956242897567023
         },
         {
          "param": "a",
          "value": 0.14720618930282858
         },
         {
          "param": "a",
          "value": 0.02462679282829641
         },
         {
          "param": "a",
          "value": 0.041515059836570424
         },
         {
          "param": "a",
          "value": 0.21771478183446474
         },
         {
          "param": "a",
          "value": 0.11272879928990111
         },
         {
          "param": "a",
          "value": 0.05441706583824213
         },
         {
          "param": "a",
          "value": 0.05825062372456872
         },
         {
          "param": "a",
          "value": 0.1871066796704877
         },
         {
          "param": "a",
          "value": 0.0510796152454701
         },
         {
          "param": "a",
          "value": 0.05516783665356848
         },
         {
          "param": "a",
          "value": 0.026442132097040834
         },
         {
          "param": "a",
          "value": 0.19051943094421997
         },
         {
          "param": "a",
          "value": 0.07237987575754011
         },
         {
          "param": "a",
          "value": 0.15218739431797998
         },
         {
          "param": "a",
          "value": 0.08984652985895512
         },
         {
          "param": "a",
          "value": 0.06367089895019716
         },
         {
          "param": "a",
          "value": 0.10164177156064425
         },
         {
          "param": "a",
          "value": 0.0554329716849927
         },
         {
          "param": "a",
          "value": 0.12525360888628076
         },
         {
          "param": "a",
          "value": 0.03590302967342005
         },
         {
          "param": "a",
          "value": 0.09589751423260767
         },
         {
          "param": "a",
          "value": 0.04433373735898506
         },
         {
          "param": "a",
          "value": 0.19253287682791678
         },
         {
          "param": "a",
          "value": 0.17068446554766922
         },
         {
          "param": "a",
          "value": 0.19463479455187552
         },
         {
          "param": "a",
          "value": 0.043275502178856014
         },
         {
          "param": "a",
          "value": 0.12261423783409546
         },
         {
          "param": "a",
          "value": 0.1295047154580612
         },
         {
          "param": "a",
          "value": 0.15194704663700803
         },
         {
          "param": "a",
          "value": 0.09159671728634657
         },
         {
          "param": "a",
          "value": 0.14882336244095667
         },
         {
          "param": "a",
          "value": 0.16847356377844985
         },
         {
          "param": "a",
          "value": 0.16619816080086042
         },
         {
          "param": "a",
          "value": 0.12648520698728616
         },
         {
          "param": "a",
          "value": 0.20009233932028953
         },
         {
          "param": "a",
          "value": 0.08339604260633766
         },
         {
          "param": "a",
          "value": 0.05369741962973921
         },
         {
          "param": "a",
          "value": 0.1293036515717609
         },
         {
          "param": "a",
          "value": 0.28347671493679283
         },
         {
          "param": "a",
          "value": 0.2732297307264764
         },
         {
          "param": "a",
          "value": 0.15627105462490262
         },
         {
          "param": "a",
          "value": 0.11699818730617204
         },
         {
          "param": "a",
          "value": 0.197014878336128
         },
         {
          "param": "a",
          "value": 0.08727296113552416
         },
         {
          "param": "a",
          "value": 0.16193293975320314
         },
         {
          "param": "a",
          "value": 0.2166737204259046
         },
         {
          "param": "a",
          "value": 0.0646582591558533
         },
         {
          "param": "a",
          "value": 0.07900583339040536
         },
         {
          "param": "a",
          "value": 0.12920692478776152
         },
         {
          "param": "a",
          "value": 0.1492287695563741
         },
         {
          "param": "a",
          "value": 0.05527922026125252
         },
         {
          "param": "a",
          "value": 0.0902636856707313
         },
         {
          "param": "a",
          "value": 0.09794534613072974
         },
         {
          "param": "a",
          "value": 0.1282523864685851
         },
         {
          "param": "a",
          "value": 0.060484537871451194
         },
         {
          "param": "a",
          "value": 0.16196178401831104
         },
         {
          "param": "a",
          "value": 0.1290389915332751
         },
         {
          "param": "a",
          "value": 0.14116691435306258
         },
         {
          "param": "a",
          "value": 0.03931325683326258
         },
         {
          "param": "a",
          "value": 0.10006444913444303
         },
         {
          "param": "a",
          "value": 0.10118704576363241
         },
         {
          "param": "a",
          "value": 0.15149464938006585
         },
         {
          "param": "a",
          "value": 0.24972460239811795
         },
         {
          "param": "a",
          "value": 0.08091852759344675
         },
         {
          "param": "a",
          "value": 0.09287312137250128
         },
         {
          "param": "a",
          "value": 0.09011529196726702
         },
         {
          "param": "a",
          "value": 0.1726711989861974
         },
         {
          "param": "a",
          "value": 0.09859625167381629
         },
         {
          "param": "a",
          "value": 0.21232316993494094
         },
         {
          "param": "a",
          "value": 0.05321421212220901
         },
         {
          "param": "a",
          "value": 0.15053811573576584
         },
         {
          "param": "a",
          "value": 0.21218105440584292
         },
         {
          "param": "a",
          "value": 0.20128721893590928
         },
         {
          "param": "a",
          "value": 0.20837977058806356
         },
         {
          "param": "a",
          "value": 0.1979869723548869
         },
         {
          "param": "a",
          "value": 0.08250486191348283
         },
         {
          "param": "a",
          "value": 0.1374939946023084
         },
         {
          "param": "a",
          "value": 0.037129829089877345
         },
         {
          "param": "a",
          "value": 0.13362503164481382
         },
         {
          "param": "a",
          "value": 0.03455872503995252
         },
         {
          "param": "a",
          "value": 0.09935278904397259
         },
         {
          "param": "a",
          "value": 0.041004945493077385
         },
         {
          "param": "a",
          "value": 0.12784300503615906
         },
         {
          "param": "a",
          "value": 0.06907239973587467
         },
         {
          "param": "a",
          "value": 0.1656364304637687
         },
         {
          "param": "a",
          "value": 0.041004945493077385
         },
         {
          "param": "a",
          "value": 0.10695522215468052
         },
         {
          "param": "a",
          "value": 0.05920745025436159
         },
         {
          "param": "a",
          "value": 0.139547032462567
         },
         {
          "param": "a",
          "value": 0.1661736121112849
         },
         {
          "param": "a",
          "value": 0.17334608843511176
         },
         {
          "param": "a",
          "value": 0.08305450476068692
         },
         {
          "param": "a",
          "value": 0.1525701875972292
         },
         {
          "param": "a",
          "value": 0.22323280968608475
         },
         {
          "param": "a",
          "value": 0.09523135343861316
         },
         {
          "param": "a",
          "value": 0.15383558900715275
         },
         {
          "param": "a",
          "value": 0.10205662306389816
         },
         {
          "param": "a",
          "value": 0.11945032235028737
         },
         {
          "param": "a",
          "value": 0.20420231504031058
         },
         {
          "param": "a",
          "value": 0.13264199491454556
         },
         {
          "param": "a",
          "value": 0.12273649615883925
         },
         {
          "param": "a",
          "value": 0.13673060545974564
         },
         {
          "param": "a",
          "value": 0.13448978751504337
         },
         {
          "param": "a",
          "value": 0.14249354055844327
         },
         {
          "param": "b_PC",
          "value": 1.8161873315653942
         },
         {
          "param": "b_PC",
          "value": 1.7710832006569541
         },
         {
          "param": "b_PC",
          "value": 1.8256210781434976
         },
         {
          "param": "b_PC",
          "value": 1.7410781035218927
         },
         {
          "param": "b_PC",
          "value": 1.7644983647505659
         },
         {
          "param": "b_PC",
          "value": 1.7337496192298147
         },
         {
          "param": "b_PC",
          "value": 1.8057609977066638
         },
         {
          "param": "b_PC",
          "value": 1.7410781035218927
         },
         {
          "param": "b_PC",
          "value": 1.7402771778745318
         },
         {
          "param": "b_PC",
          "value": 1.7365630692754186
         },
         {
          "param": "b_PC",
          "value": 1.7792133154730967
         },
         {
          "param": "b_PC",
          "value": 1.7862418939014568
         },
         {
          "param": "b_PC",
          "value": 1.7774854342342816
         },
         {
          "param": "b_PC",
          "value": 1.787457901807155
         },
         {
          "param": "b_PC",
          "value": 1.79309412174243
         },
         {
          "param": "b_PC",
          "value": 1.7552158334824395
         },
         {
          "param": "b_PC",
          "value": 1.7764353525508367
         },
         {
          "param": "b_PC",
          "value": 1.85567390492503
         },
         {
          "param": "b_PC",
          "value": 1.7627865001064054
         },
         {
          "param": "b_PC",
          "value": 1.7769818712697492
         },
         {
          "param": "b_PC",
          "value": 1.7628986758614626
         },
         {
          "param": "b_PC",
          "value": 1.8322281141882013
         },
         {
          "param": "b_PC",
          "value": 1.8146352897298104
         },
         {
          "param": "b_PC",
          "value": 1.7103493399807987
         },
         {
          "param": "b_PC",
          "value": 1.7567134514586467
         },
         {
          "param": "b_PC",
          "value": 1.771819514625629
         },
         {
          "param": "b_PC",
          "value": 1.8222710206626813
         },
         {
          "param": "b_PC",
          "value": 1.7900392484270335
         },
         {
          "param": "b_PC",
          "value": 1.7260616688479793
         },
         {
          "param": "b_PC",
          "value": 1.708898755394094
         },
         {
          "param": "b_PC",
          "value": 1.8456707389543718
         },
         {
          "param": "b_PC",
          "value": 1.756788762889059
         },
         {
          "param": "b_PC",
          "value": 1.7147724249648457
         },
         {
          "param": "b_PC",
          "value": 1.7712577610951128
         },
         {
          "param": "b_PC",
          "value": 1.6459346523200087
         },
         {
          "param": "b_PC",
          "value": 1.7547913266020545
         },
         {
          "param": "b_PC",
          "value": 1.7744243836982894
         },
         {
          "param": "b_PC",
          "value": 1.795713393095553
         },
         {
          "param": "b_PC",
          "value": 1.7758310436136067
         },
         {
          "param": "b_PC",
          "value": 1.7896289380515127
         },
         {
          "param": "b_PC",
          "value": 1.7451459922970698
         },
         {
          "param": "b_PC",
          "value": 1.795713393095553
         },
         {
          "param": "b_PC",
          "value": 1.7545491363111683
         },
         {
          "param": "b_PC",
          "value": 1.7471418251373538
         },
         {
          "param": "b_PC",
          "value": 1.7322959531421054
         },
         {
          "param": "b_PC",
          "value": 1.7577593357717274
         },
         {
          "param": "b_PC",
          "value": 1.785858617468165
         },
         {
          "param": "b_PC",
          "value": 1.7275303883008841
         },
         {
          "param": "b_PC",
          "value": 1.8023858124774659
         },
         {
          "param": "b_PC",
          "value": 1.719967978304301
         },
         {
          "param": "b_PC",
          "value": 1.7847907976588986
         },
         {
          "param": "b_PC",
          "value": 1.795423800999717
         },
         {
          "param": "b_PC",
          "value": 1.7314847002998244
         },
         {
          "param": "b_PC",
          "value": 1.7867944796549962
         },
         {
          "param": "b_PC",
          "value": 1.7903771400724526
         },
         {
          "param": "b_PC",
          "value": 1.6947514386663476
         },
         {
          "param": "b_PC",
          "value": 1.7610314767627042
         },
         {
          "param": "b_PC",
          "value": 1.773174295571478
         },
         {
          "param": "b_PC",
          "value": 1.726380507434605
         },
         {
          "param": "b_PC",
          "value": 1.7952827447234996
         },
         {
          "param": "b_PC",
          "value": 1.7174799884897867
         },
         {
          "param": "b_PC",
          "value": 1.7838705982770826
         },
         {
          "param": "b_PC",
          "value": 1.7479915017563474
         },
         {
          "param": "b_PC",
          "value": 1.8283167510103426
         },
         {
          "param": "b_PC",
          "value": 1.798372805945935
         },
         {
          "param": "b_PC",
          "value": 1.780464768734244
         },
         {
          "param": "b_PC",
          "value": 1.7899204055408047
         },
         {
          "param": "b_PC",
          "value": 1.8149253055063912
         },
         {
          "param": "b_PC",
          "value": 1.7354209310522555
         },
         {
          "param": "b_PC",
          "value": 1.7970452699141708
         },
         {
          "param": "b_PC",
          "value": 1.7339051954006384
         },
         {
          "param": "b_PC",
          "value": 1.83278953040628
         },
         {
          "param": "b_PC",
          "value": 1.7624964340341545
         },
         {
          "param": "b_PC",
          "value": 1.7577941752092137
         },
         {
          "param": "b_PC",
          "value": 1.7842382226307392
         },
         {
          "param": "b_PC",
          "value": 1.7276909917310153
         },
         {
          "param": "b_PC",
          "value": 1.775715860693192
         },
         {
          "param": "b_PC",
          "value": 1.8429031539005711
         },
         {
          "param": "b_PC",
          "value": 1.7563532406806033
         },
         {
          "param": "b_PC",
          "value": 1.8282000839147827
         },
         {
          "param": "b_PC",
          "value": 1.740848469609175
         },
         {
          "param": "b_PC",
          "value": 1.7105806460224204
         },
         {
          "param": "b_PC",
          "value": 1.7563532406806033
         },
         {
          "param": "b_PC",
          "value": 1.7563408553290678
         },
         {
          "param": "b_PC",
          "value": 1.7665685486829565
         },
         {
          "param": "b_PC",
          "value": 1.793163880576921
         },
         {
          "param": "b_PC",
          "value": 1.7476864833811145
         },
         {
          "param": "b_PC",
          "value": 1.7278168994633356
         },
         {
          "param": "b_PC",
          "value": 1.7570860686732799
         },
         {
          "param": "b_PC",
          "value": 1.7914850501915585
         },
         {
          "param": "b_PC",
          "value": 1.7565907303329675
         },
         {
          "param": "b_PC",
          "value": 1.758836856591201
         },
         {
          "param": "b_PC",
          "value": 1.7176138504178797
         },
         {
          "param": "b_PC",
          "value": 1.6924123564933629
         },
         {
          "param": "b_PC",
          "value": 1.7976642763189752
         },
         {
          "param": "b_PC",
          "value": 1.7542638420019043
         },
         {
          "param": "b_PC",
          "value": 1.7991219588571226
         },
         {
          "param": "b_PC",
          "value": 1.7277828482381727
         },
         {
          "param": "b_PC",
          "value": 1.733961035433274
         },
         {
          "param": "b_PC",
          "value": 1.6842670002777413
         },
         {
          "param": "b_PC",
          "value": 1.793504327993968
         },
         {
          "param": "b_PC",
          "value": 1.7452310634233417
         },
         {
          "param": "b_PC",
          "value": 1.7857935570872256
         },
         {
          "param": "b_PC",
          "value": 1.7758988197508736
         },
         {
          "param": "b_PC",
          "value": 1.8020118453746898
         },
         {
          "param": "b_PC",
          "value": 1.7053446657214688
         },
         {
          "param": "b_PC",
          "value": 1.761545517614667
         },
         {
          "param": "b_PC",
          "value": 1.7926113614749326
         },
         {
          "param": "b_PC",
          "value": 1.742964039545688
         },
         {
          "param": "b_PC",
          "value": 1.7502388018143655
         },
         {
          "param": "b_PC",
          "value": 1.6646641959203377
         },
         {
          "param": "b_PC",
          "value": 1.7313358548266984
         },
         {
          "param": "b_PC",
          "value": 1.732818986643175
         },
         {
          "param": "b_PC",
          "value": 1.818862138414733
         },
         {
          "param": "b_PC",
          "value": 1.8014458658983752
         },
         {
          "param": "b_PC",
          "value": 1.7948206431664988
         },
         {
          "param": "b_PC",
          "value": 1.7804188119312232
         },
         {
          "param": "b_PC",
          "value": 1.8144390603948661
         },
         {
          "param": "b_PC",
          "value": 1.6464105267345333
         },
         {
          "param": "b_PC",
          "value": 1.8455503303134628
         },
         {
          "param": "b_PC",
          "value": 1.6866516949778916
         },
         {
          "param": "b_PC",
          "value": 1.7091432408921832
         },
         {
          "param": "b_PC",
          "value": 1.6582857955990191
         },
         {
          "param": "b_PC",
          "value": 1.7207451094573745
         },
         {
          "param": "b_PC",
          "value": 1.7455409980480046
         },
         {
          "param": "b_PC",
          "value": 1.8183905351399778
         },
         {
          "param": "b_PC",
          "value": 1.7667391799421477
         },
         {
          "param": "b_PC",
          "value": 1.7166004112691902
         },
         {
          "param": "b_PC",
          "value": 1.7234702473636494
         },
         {
          "param": "b_PC",
          "value": 1.6800124612501095
         },
         {
          "param": "b_PC",
          "value": 1.7442926243441599
         },
         {
          "param": "b_PC",
          "value": 1.771906927978602
         },
         {
          "param": "b_PC",
          "value": 1.7682082750380017
         },
         {
          "param": "b_PC",
          "value": 1.6668296502915119
         },
         {
          "param": "b_PC",
          "value": 1.744172411720523
         },
         {
          "param": "b_PC",
          "value": 1.7006947967900365
         },
         {
          "param": "b_PC",
          "value": 1.7943684458906677
         },
         {
          "param": "b_PC",
          "value": 1.7209143344039297
         },
         {
          "param": "b_PC",
          "value": 1.7813710518981936
         },
         {
          "param": "b_PC",
          "value": 1.7921966651386574
         },
         {
          "param": "b_PC",
          "value": 1.748541471657617
         },
         {
          "param": "b_PC",
          "value": 1.7813673682205184
         },
         {
          "param": "b_PC",
          "value": 1.7265935927925655
         },
         {
          "param": "b_PC",
          "value": 1.7369840338030231
         },
         {
          "param": "b_PC",
          "value": 1.869480762019537
         },
         {
          "param": "b_PC",
          "value": 1.763816369560295
         },
         {
          "param": "b_PC",
          "value": 1.7118071358885658
         },
         {
          "param": "b_PC",
          "value": 1.714833772580338
         },
         {
          "param": "b_PC",
          "value": 1.81375222793538
         },
         {
          "param": "b_PC",
          "value": 1.8044687731853017
         },
         {
          "param": "b_PC",
          "value": 1.7597735635549112
         },
         {
          "param": "b_PC",
          "value": 1.7692823247589549
         },
         {
          "param": "b_PC",
          "value": 1.7250269512371592
         },
         {
          "param": "b_PC",
          "value": 1.767611834365749
         },
         {
          "param": "b_PC",
          "value": 1.75310226804631
         },
         {
          "param": "b_PC",
          "value": 1.8242994714115186
         },
         {
          "param": "b_PC",
          "value": 1.7590019306015152
         },
         {
          "param": "b_PC",
          "value": 1.757011392591806
         },
         {
          "param": "b_PC",
          "value": 1.7701044144751938
         },
         {
          "param": "b_PC",
          "value": 1.8324447230339949
         },
         {
          "param": "b_PC",
          "value": 1.785354242680966
         },
         {
          "param": "b_PC",
          "value": 1.81753582425594
         },
         {
          "param": "b_PC",
          "value": 1.8224822618573018
         },
         {
          "param": "b_PC",
          "value": 1.8348520092819258
         },
         {
          "param": "b_PC",
          "value": 1.7537757967448606
         },
         {
          "param": "b_PC",
          "value": 1.757536351387277
         },
         {
          "param": "b_PC",
          "value": 1.8039121355753949
         },
         {
          "param": "b_PC",
          "value": 1.7317675620770494
         },
         {
          "param": "b_PC",
          "value": 1.7571434449463865
         },
         {
          "param": "b_PC",
          "value": 1.7555996760156576
         },
         {
          "param": "b_PC",
          "value": 1.7860714767474772
         },
         {
          "param": "b_PC",
          "value": 1.8006723422060849
         },
         {
          "param": "b_PC",
          "value": 1.7729373180661718
         },
         {
          "param": "b_PC",
          "value": 1.7575784130933698
         },
         {
          "param": "b_PC",
          "value": 1.7217953069360035
         },
         {
          "param": "b_PC",
          "value": 1.7754949733706924
         },
         {
          "param": "b_PC",
          "value": 1.672773012109203
         },
         {
          "param": "b_PC",
          "value": 1.679279479523946
         },
         {
          "param": "b_PC",
          "value": 1.7421747362658921
         },
         {
          "param": "b_PC",
          "value": 1.6767810336914695
         },
         {
          "param": "b_PC",
          "value": 1.7642623129081672
         },
         {
          "param": "b_PC",
          "value": 1.7173759299604034
         },
         {
          "param": "b_PC",
          "value": 1.7571011729594328
         },
         {
          "param": "b_PC",
          "value": 1.7514223590988238
         },
         {
          "param": "b_PC",
          "value": 1.777336952828553
         },
         {
          "param": "b_PC",
          "value": 1.8228370049486842
         },
         {
          "param": "b_PC",
          "value": 1.7501709957758975
         },
         {
          "param": "b_PC",
          "value": 1.7971848747969088
         },
         {
          "param": "b_PC",
          "value": 1.7372900806842155
         },
         {
          "param": "b_PC",
          "value": 1.8458927180621587
         },
         {
          "param": "b_PC",
          "value": 1.7413014656728356
         },
         {
          "param": "b_PC",
          "value": 1.7825495260018813
         },
         {
          "param": "b_PC",
          "value": 1.759835842911319
         },
         {
          "param": "b_PC",
          "value": 1.7280642192753204
         },
         {
          "param": "b_PC",
          "value": 1.7739460048079898
         },
         {
          "param": "b_PC",
          "value": 1.696452847970173
         },
         {
          "param": "b_PC",
          "value": 1.7690454623595602
         },
         {
          "param": "b_PC",
          "value": 1.708622013350993
         },
         {
          "param": "b_PC",
          "value": 1.718359534047187
         },
         {
          "param": "b_PC",
          "value": 1.7554221359171673
         },
         {
          "param": "b_PC",
          "value": 1.765937075858464
         },
         {
          "param": "b_PC",
          "value": 1.7813230818415131
         },
         {
          "param": "b_PC",
          "value": 1.7535649997261429
         },
         {
          "param": "b_PC",
          "value": 1.740310690517249
         },
         {
          "param": "b_PC",
          "value": 1.78015866829815
         },
         {
          "param": "b_PC",
          "value": 1.819681111843128
         },
         {
          "param": "b_PC",
          "value": 1.8060819919742372
         },
         {
          "param": "b_PC",
          "value": 1.821934608677086
         },
         {
          "param": "b_PC",
          "value": 1.6657896083254633
         },
         {
          "param": "b_PC",
          "value": 1.7673001926085352
         },
         {
          "param": "b_PC",
          "value": 1.7830919015305853
         },
         {
          "param": "b_PC",
          "value": 1.773094827317562
         },
         {
          "param": "b_PC",
          "value": 1.7644327620342761
         },
         {
          "param": "b_PC",
          "value": 1.6829369359444195
         },
         {
          "param": "b_PC",
          "value": 1.8099343539818982
         },
         {
          "param": "b_PC",
          "value": 1.8013601986481949
         },
         {
          "param": "b_PC",
          "value": 1.8053894780615234
         },
         {
          "param": "b_PC",
          "value": 1.652928793970316
         },
         {
          "param": "b_PC",
          "value": 1.7638349120754846
         },
         {
          "param": "b_PC",
          "value": 1.7136143493694742
         },
         {
          "param": "b_PC",
          "value": 1.8058567563645918
         },
         {
          "param": "b_PC",
          "value": 1.8235207985599087
         },
         {
          "param": "b_PC",
          "value": 1.7239955305426184
         },
         {
          "param": "b_PC",
          "value": 1.799591596327324
         },
         {
          "param": "b_PC",
          "value": 1.7586590644654896
         },
         {
          "param": "b_PC",
          "value": 1.8006470013712759
         },
         {
          "param": "b_PC",
          "value": 1.6450178001095432
         },
         {
          "param": "b_PC",
          "value": 1.8581644367447787
         },
         {
          "param": "b_PC",
          "value": 1.752366436583902
         },
         {
          "param": "b_PC",
          "value": 1.7676716666985557
         },
         {
          "param": "b_PC",
          "value": 1.6845254153334395
         },
         {
          "param": "b_PC",
          "value": 1.7863512934858576
         },
         {
          "param": "b_PC",
          "value": 1.7732482810551458
         },
         {
          "param": "b_PC",
          "value": 1.68609789934339
         },
         {
          "param": "b_PC",
          "value": 1.7826840672487028
         },
         {
          "param": "b_PC",
          "value": 1.7806138424067097
         },
         {
          "param": "b_PC",
          "value": 1.6916543760645666
         },
         {
          "param": "b_PC",
          "value": 1.85186420750944
         },
         {
          "param": "b_PC",
          "value": 1.7826840672487028
         },
         {
          "param": "b_PC",
          "value": 1.8492983318344824
         },
         {
          "param": "b_PC",
          "value": 1.757977737409621
         },
         {
          "param": "b_PC",
          "value": 1.8234837344382642
         },
         {
          "param": "b_PC",
          "value": 1.777629025159886
         },
         {
          "param": "b_PC",
          "value": 1.6983414781641126
         },
         {
          "param": "b_PC",
          "value": 1.749513852089491
         },
         {
          "param": "b_PC",
          "value": 1.7820869388811404
         },
         {
          "param": "b_PC",
          "value": 1.822421733594524
         },
         {
          "param": "b_PC",
          "value": 1.7543896014342248
         },
         {
          "param": "b_PC",
          "value": 1.760102402667955
         },
         {
          "param": "b_PC",
          "value": 1.7106210493814697
         },
         {
          "param": "b_PC",
          "value": 1.7837374267559298
         },
         {
          "param": "b_PC",
          "value": 1.8024430225208021
         },
         {
          "param": "b_PC",
          "value": 1.8005378107098944
         },
         {
          "param": "b_PC",
          "value": 1.7571492139017266
         },
         {
          "param": "b_PC",
          "value": 1.6770744815967173
         },
         {
          "param": "b_PC",
          "value": 1.7625784639489996
         },
         {
          "param": "b_PC",
          "value": 1.767740482540227
         },
         {
          "param": "b_PC",
          "value": 1.7522973286181909
         },
         {
          "param": "b_PC",
          "value": 1.6760708442650165
         },
         {
          "param": "b_PC",
          "value": 1.7531000256726346
         },
         {
          "param": "b_PC",
          "value": 1.8432884386466206
         },
         {
          "param": "b_PC",
          "value": 1.7489019194952902
         },
         {
          "param": "b_PC",
          "value": 1.8063191519373576
         },
         {
          "param": "b_PC",
          "value": 1.7001186571891642
         },
         {
          "param": "b_PC",
          "value": 1.820921881080144
         },
         {
          "param": "b_PC",
          "value": 1.7300702245697992
         },
         {
          "param": "b_PC",
          "value": 1.6990864680542466
         },
         {
          "param": "b_PC",
          "value": 1.763849968458345
         },
         {
          "param": "b_PC",
          "value": 1.8635881623253183
         },
         {
          "param": "b_PC",
          "value": 1.8197226367072024
         },
         {
          "param": "b_PC",
          "value": 1.716957840133488
         },
         {
          "param": "b_PC",
          "value": 1.7374085457315154
         },
         {
          "param": "b_PC",
          "value": 1.8346930664390664
         },
         {
          "param": "b_PC",
          "value": 1.844519861237267
         },
         {
          "param": "b_PC",
          "value": 1.8162920182241213
         },
         {
          "param": "b_PC",
          "value": 1.780792377723516
         },
         {
          "param": "b_PC",
          "value": 1.75905760010684
         },
         {
          "param": "b_PC",
          "value": 1.784107073053708
         },
         {
          "param": "b_PC",
          "value": 1.6848422631879494
         },
         {
          "param": "b_PC",
          "value": 1.7834262386011703
         },
         {
          "param": "b_PC",
          "value": 1.7209767008314916
         },
         {
          "param": "b_PC",
          "value": 1.767424062479961
         },
         {
          "param": "b_PC",
          "value": 1.8204680509458229
         },
         {
          "param": "b_PC",
          "value": 1.6839932816198828
         },
         {
          "param": "b_PC",
          "value": 1.7782618089391267
         },
         {
          "param": "b_PC",
          "value": 1.7068389294040893
         },
         {
          "param": "b_PC",
          "value": 1.80458035325275
         },
         {
          "param": "b_PC",
          "value": 1.7379630170316143
         },
         {
          "param": "b_PC",
          "value": 1.7522962037178011
         },
         {
          "param": "b_PC",
          "value": 1.8488107952847086
         },
         {
          "param": "b_PC",
          "value": 1.877680764383706
         },
         {
          "param": "b_PC",
          "value": 1.795314976773844
         },
         {
          "param": "b_PC",
          "value": 1.7291458717838255
         },
         {
          "param": "b_PC",
          "value": 1.7423022739508853
         },
         {
          "param": "b_PC",
          "value": 1.9085313237192785
         },
         {
          "param": "b_PC",
          "value": 1.8299282866559101
         },
         {
          "param": "b_PC",
          "value": 1.8169690534424694
         },
         {
          "param": "b_PC",
          "value": 1.7700104498687586
         },
         {
          "param": "b_PC",
          "value": 1.9319709527991378
         },
         {
          "param": "b_PC",
          "value": 1.8043270194607763
         },
         {
          "param": "b_PC",
          "value": 1.7940262630947643
         },
         {
          "param": "b_PC",
          "value": 1.7775929119871667
         },
         {
          "param": "b_PC",
          "value": 1.7901538176614045
         },
         {
          "param": "b_PC",
          "value": 1.6890132431253297
         },
         {
          "param": "b_PC",
          "value": 1.797371716317482
         },
         {
          "param": "b_PC",
          "value": 1.753970862321559
         },
         {
          "param": "b_PC",
          "value": 1.7913209437341973
         },
         {
          "param": "b_PC",
          "value": 1.7565999891131963
         },
         {
          "param": "b_PC",
          "value": 1.7961212078268556
         },
         {
          "param": "b_PC",
          "value": 1.7745584903485452
         },
         {
          "param": "b_PC",
          "value": 1.727085273506623
         },
         {
          "param": "b_PC",
          "value": 1.822640055337663
         },
         {
          "param": "b_PC",
          "value": 1.7384831353611214
         },
         {
          "param": "b_PC",
          "value": 1.7640981706511654
         },
         {
          "param": "b_PC",
          "value": 1.7614604784996413
         },
         {
          "param": "b_PC",
          "value": 1.7839679199259473
         },
         {
          "param": "b_PC",
          "value": 1.7677599231673413
         },
         {
          "param": "b_PC",
          "value": 1.7491375669298281
         },
         {
          "param": "b_PC",
          "value": 1.7394842093927112
         },
         {
          "param": "b_PC",
          "value": 1.778272863562103
         },
         {
          "param": "b_PC",
          "value": 1.8073360042270152
         },
         {
          "param": "b_PC",
          "value": 1.777187746502742
         },
         {
          "param": "b_PC",
          "value": 1.77234157782509
         },
         {
          "param": "b_PC",
          "value": 1.777527641688592
         },
         {
          "param": "b_PC",
          "value": 1.7756567967406625
         },
         {
          "param": "b_PC",
          "value": 1.716389777860135
         },
         {
          "param": "b_PC",
          "value": 1.825411594477088
         },
         {
          "param": "b_PC",
          "value": 1.8290557031119175
         },
         {
          "param": "b_PC",
          "value": 1.6990476164748156
         },
         {
          "param": "b_PC",
          "value": 1.7185792831271074
         },
         {
          "param": "b_PC",
          "value": 1.7197982957268538
         },
         {
          "param": "b_PC",
          "value": 1.8111134354401754
         },
         {
          "param": "b_PC",
          "value": 1.7999668366662156
         },
         {
          "param": "b_PC",
          "value": 1.8003101999450237
         },
         {
          "param": "b_PC",
          "value": 1.8223383196252192
         },
         {
          "param": "b_PC",
          "value": 1.6204617573879365
         },
         {
          "param": "b_PC",
          "value": 1.7764982202416641
         },
         {
          "param": "b_PC",
          "value": 1.7427945596301344
         },
         {
          "param": "b_PC",
          "value": 1.7396960157743753
         },
         {
          "param": "b_PC",
          "value": 1.840673505361025
         },
         {
          "param": "b_PC",
          "value": 1.765121442849412
         },
         {
          "param": "b_PC",
          "value": 1.745048731828643
         },
         {
          "param": "b_PC",
          "value": 1.7857659981299412
         },
         {
          "param": "b_PC",
          "value": 1.8436829903595842
         },
         {
          "param": "b_PC",
          "value": 1.726448446645687
         },
         {
          "param": "b_PC",
          "value": 1.5786978962946212
         },
         {
          "param": "b_PC",
          "value": 1.7730588227573476
         },
         {
          "param": "b_PC",
          "value": 1.7494374031309976
         },
         {
          "param": "b_PC",
          "value": 1.7688125033177764
         },
         {
          "param": "b_PC",
          "value": 1.7397035228806237
         },
         {
          "param": "b_PC",
          "value": 1.7433018236393236
         },
         {
          "param": "b_PC",
          "value": 1.733139138755868
         },
         {
          "param": "b_PC",
          "value": 1.7938181403679783
         },
         {
          "param": "b_PC",
          "value": 1.7401591696408432
         },
         {
          "param": "b_PC",
          "value": 1.7085759235252684
         },
         {
          "param": "b_PC",
          "value": 1.7916187970334314
         },
         {
          "param": "b_PC",
          "value": 1.7646590978135164
         },
         {
          "param": "b_PC",
          "value": 1.7455545562374142
         },
         {
          "param": "b_PC",
          "value": 1.8041696095729216
         },
         {
          "param": "b_PC",
          "value": 1.770728518730518
         },
         {
          "param": "b_PC",
          "value": 1.7744249165313737
         },
         {
          "param": "b_PC",
          "value": 1.746253048046833
         },
         {
          "param": "b_PC",
          "value": 1.765980991850278
         },
         {
          "param": "b_PC",
          "value": 1.7448369680875526
         },
         {
          "param": "b_PC",
          "value": 1.7339368664478079
         },
         {
          "param": "b_PC",
          "value": 1.788159837292857
         },
         {
          "param": "b_PC",
          "value": 1.7476414065589119
         },
         {
          "param": "b_PC",
          "value": 1.8637138171651346
         },
         {
          "param": "b_PC",
          "value": 1.8039793832617588
         },
         {
          "param": "b_PC",
          "value": 1.7452264581794463
         },
         {
          "param": "b_PC",
          "value": 1.7040710158921715
         },
         {
          "param": "b_PC",
          "value": 1.8144265512540367
         },
         {
          "param": "b_PC",
          "value": 1.796751831555557
         },
         {
          "param": "b_PC",
          "value": 1.7828827989810028
         },
         {
          "param": "b_PC",
          "value": 1.7120576068669242
         },
         {
          "param": "b_PC",
          "value": 1.8237494888018333
         },
         {
          "param": "b_PC",
          "value": 1.6950210390989258
         },
         {
          "param": "b_PC",
          "value": 1.6545643982387404
         },
         {
          "param": "b_PC",
          "value": 1.7587513996034427
         },
         {
          "param": "b_PC",
          "value": 1.705410264322493
         },
         {
          "param": "b_PC",
          "value": 1.7273324339604321
         },
         {
          "param": "b_PC",
          "value": 1.7688127409073988
         },
         {
          "param": "b_PC",
          "value": 1.729084823431225
         },
         {
          "param": "b_PC",
          "value": 1.6844963104176718
         },
         {
          "param": "b_PC",
          "value": 1.6960771224350586
         },
         {
          "param": "b_PC",
          "value": 1.7625326775388275
         },
         {
          "param": "b_PC",
          "value": 1.7521641525362934
         },
         {
          "param": "b_PC",
          "value": 1.681156783336557
         },
         {
          "param": "b_PC",
          "value": 1.8178594076630619
         },
         {
          "param": "b_PC",
          "value": 1.749131736175958
         },
         {
          "param": "b_PC",
          "value": 1.8346315832340423
         },
         {
          "param": "b_PC",
          "value": 1.7762836331372946
         },
         {
          "param": "b_PC",
          "value": 1.7781200439370728
         },
         {
          "param": "b_PC",
          "value": 1.7127225300063675
         },
         {
          "param": "b_PC",
          "value": 1.7536527395855752
         },
         {
          "param": "b_PC",
          "value": 1.83982831988684
         },
         {
          "param": "b_PC",
          "value": 1.736823498642928
         },
         {
          "param": "b_PC",
          "value": 1.8094660769684052
         },
         {
          "param": "b_PC",
          "value": 1.707228327464364
         },
         {
          "param": "b_PC",
          "value": 1.8026782919898676
         },
         {
          "param": "b_PC",
          "value": 1.7303711652308364
         },
         {
          "param": "b_PC",
          "value": 1.7625015451571258
         },
         {
          "param": "b_PC",
          "value": 1.8049772072089627
         },
         {
          "param": "b_PC",
          "value": 1.7506110649520692
         },
         {
          "param": "b_PC",
          "value": 1.7731122896358331
         },
         {
          "param": "b_PC",
          "value": 1.7609148195600557
         },
         {
          "param": "b_PC",
          "value": 1.7086126435721587
         },
         {
          "param": "b_PC",
          "value": 1.8177162780792766
         },
         {
          "param": "b_PC",
          "value": 1.7372050237116556
         },
         {
          "param": "b_PC",
          "value": 1.7349096848300183
         },
         {
          "param": "b_PC",
          "value": 1.7767154325679901
         },
         {
          "param": "b_PC",
          "value": 1.7529506312950232
         },
         {
          "param": "b_PC",
          "value": 1.836529559085759
         },
         {
          "param": "b_PC",
          "value": 1.6910265041890808
         },
         {
          "param": "b_PC",
          "value": 1.796101919598797
         },
         {
          "param": "b_PC",
          "value": 1.8166701249389783
         },
         {
          "param": "b_PC",
          "value": 1.7539157277322233
         },
         {
          "param": "b_PC",
          "value": 1.6972080047662181
         },
         {
          "param": "b_PC",
          "value": 1.7951947728789293
         },
         {
          "param": "b_PC",
          "value": 1.8005640222348482
         },
         {
          "param": "b_PC",
          "value": 1.8045391887120332
         },
         {
          "param": "b_PC",
          "value": 1.7069582770074199
         },
         {
          "param": "b_PC",
          "value": 1.752827271866382
         },
         {
          "param": "b_PC",
          "value": 1.7911495928310364
         },
         {
          "param": "b_PC",
          "value": 1.7379198025804472
         },
         {
          "param": "b_PC",
          "value": 1.806003501589861
         },
         {
          "param": "b_PC",
          "value": 1.751824415161143
         },
         {
          "param": "b_PC",
          "value": 1.8101148607172213
         },
         {
          "param": "b_PC",
          "value": 1.7320125072904697
         },
         {
          "param": "b_PC",
          "value": 1.8647330761325718
         },
         {
          "param": "b_PC",
          "value": 1.7849852313993546
         },
         {
          "param": "b_PC",
          "value": 1.8157329118413368
         },
         {
          "param": "b_PC",
          "value": 1.8470799247461482
         },
         {
          "param": "b_PC",
          "value": 1.7661896901640572
         },
         {
          "param": "b_PC",
          "value": 1.7975142873912078
         },
         {
          "param": "b_PC",
          "value": 1.7650373983877117
         },
         {
          "param": "b_PC",
          "value": 1.7305766617712817
         },
         {
          "param": "b_PC",
          "value": 1.7933662566584456
         },
         {
          "param": "b_PC",
          "value": 1.76053350036207
         },
         {
          "param": "b_PC",
          "value": 1.725803536515474
         },
         {
          "param": "b_PC",
          "value": 1.7393074077508255
         },
         {
          "param": "b_PC",
          "value": 1.7107331463104711
         },
         {
          "param": "b_PC",
          "value": 1.7358611602197516
         },
         {
          "param": "b_PC",
          "value": 1.736470401700023
         },
         {
          "param": "b_PC",
          "value": 1.8100014363858727
         },
         {
          "param": "b_PC",
          "value": 1.691387872295044
         },
         {
          "param": "b_PC",
          "value": 1.7478025019878007
         },
         {
          "param": "b_PC",
          "value": 1.7800355103784318
         },
         {
          "param": "b_PC",
          "value": 1.8029248313965693
         },
         {
          "param": "b_PC",
          "value": 1.719956565923166
         },
         {
          "param": "b_PC",
          "value": 1.8463224195349481
         },
         {
          "param": "b_PC",
          "value": 1.7779605726642203
         },
         {
          "param": "b_PC",
          "value": 1.8324196891691726
         },
         {
          "param": "b_PC",
          "value": 1.719956565923166
         },
         {
          "param": "b_PC",
          "value": 1.685232021316508
         },
         {
          "param": "b_PC",
          "value": 1.7825780565860723
         },
         {
          "param": "b_PC",
          "value": 1.8219139405677245
         },
         {
          "param": "b_PC",
          "value": 1.7986494398010604
         },
         {
          "param": "b_PC",
          "value": 1.7234652500198748
         },
         {
          "param": "b_PC",
          "value": 1.7436582541846986
         },
         {
          "param": "b_PC",
          "value": 1.7244786808918702
         },
         {
          "param": "b_PC",
          "value": 1.7408523606921984
         },
         {
          "param": "b_PC",
          "value": 1.8382821223484824
         },
         {
          "param": "b_PC",
          "value": 1.7436582541846986
         },
         {
          "param": "b_PC",
          "value": 1.7183686106120692
         },
         {
          "param": "b_PC",
          "value": 1.7415070744694934
         },
         {
          "param": "b_PC",
          "value": 1.7173745275789052
         },
         {
          "param": "b_PC",
          "value": 1.7311193092507584
         },
         {
          "param": "b_PC",
          "value": 1.7502368567256446
         },
         {
          "param": "b_PC",
          "value": 1.6909530092304266
         },
         {
          "param": "b_PC",
          "value": 1.775398864334411
         },
         {
          "param": "b_PC",
          "value": 1.7620859076662876
         },
         {
          "param": "b_PC",
          "value": 1.7326955047111332
         },
         {
          "param": "b_PC",
          "value": 1.7563815431805725
         },
         {
          "param": "b_PC",
          "value": 1.7299652745770293
         },
         {
          "param": "b_PC",
          "value": 1.8004146791320703
         },
         {
          "param": "b_PC",
          "value": 1.7665641512983816
         },
         {
          "param": "b_PC",
          "value": 1.794819346576934
         },
         {
          "param": "b_PC",
          "value": 1.7325575099397277
         },
         {
          "param": "b_PC",
          "value": 1.7577676365758292
         },
         {
          "param": "b_PC",
          "value": 1.7879994105292387
         },
         {
          "param": "b_PC",
          "value": 1.7045988390577878
         },
         {
          "param": "b_PC",
          "value": 1.7650710824449571
         },
         {
          "param": "b_PC",
          "value": 1.8151551220560476
         },
         {
          "param": "b_PC",
          "value": 1.7887502274728075
         },
         {
          "param": "b_PC",
          "value": 1.7940113479204356
         },
         {
          "param": "b_PC",
          "value": 1.8007994923101276
         },
         {
          "param": "b_PC",
          "value": 1.829988617582197
         },
         {
          "param": "b_PC",
          "value": 1.7204302869007617
         },
         {
          "param": "b_PC",
          "value": 1.7221610203388857
         },
         {
          "param": "b_PC",
          "value": 1.6696788389241881
         },
         {
          "param": "b_PC",
          "value": 1.8172352810572785
         },
         {
          "param": "b_PC",
          "value": 1.7653555787236026
         },
         {
          "param": "b_PC",
          "value": 1.800607359072978
         },
         {
          "param": "b_PC",
          "value": 1.8470314390057243
         },
         {
          "param": "b_PC",
          "value": 1.792646475800658
         },
         {
          "param": "b_PC",
          "value": 1.7507405233353774
         },
         {
          "param": "b_PC",
          "value": 1.7745539492871463
         },
         {
          "param": "b_PC",
          "value": 1.7684556512064755
         },
         {
          "param": "b_PC",
          "value": 1.7818460863911574
         },
         {
          "param": "b_PC",
          "value": 1.7563886650197942
         },
         {
          "param": "b_PC",
          "value": 1.7473468320296384
         },
         {
          "param": "b_PC",
          "value": 1.8090782444291198
         },
         {
          "param": "b_PC",
          "value": 1.7396493218982978
         },
         {
          "param": "b_PC",
          "value": 1.7715998311880146
         },
         {
          "param": "b_PC",
          "value": 1.7427456882225223
         },
         {
          "param": "b_PC",
          "value": 1.7207273261177087
         },
         {
          "param": "b_PC",
          "value": 1.729537029874133
         },
         {
          "param": "b_PC",
          "value": 1.7831870687884133
         },
         {
          "param": "b_PC",
          "value": 1.7660279519366608
         },
         {
          "param": "b_PC",
          "value": 1.7988616201842869
         },
         {
          "param": "b_PC",
          "value": 1.7344216042654244
         },
         {
          "param": "b_PC",
          "value": 1.7612762333636507
         },
         {
          "param": "b_PC",
          "value": 1.7891700575666252
         },
         {
          "param": "b_PC",
          "value": 1.7100934533361831
         },
         {
          "param": "b_PC",
          "value": 1.7726481771800644
         },
         {
          "param": "b_PC",
          "value": 1.726880305743661
         },
         {
          "param": "b_PC",
          "value": 1.6851345227589822
         },
         {
          "param": "b_PC",
          "value": 1.7389907946911838
         },
         {
          "param": "b_PC",
          "value": 1.7724400901604709
         },
         {
          "param": "b_PC",
          "value": 1.8418172414692198
         },
         {
          "param": "b_PC",
          "value": 1.7894927688062205
         },
         {
          "param": "b_PC",
          "value": 1.8040302480182655
         },
         {
          "param": "b_PC",
          "value": 1.7279694723631969
         },
         {
          "param": "b_PC",
          "value": 1.7975025578905601
         },
         {
          "param": "b_PC",
          "value": 1.7724490865445521
         },
         {
          "param": "b_PC",
          "value": 1.7348462621012959
         },
         {
          "param": "b_PC",
          "value": 1.7287083435414452
         },
         {
          "param": "b_PC",
          "value": 1.7655317204837728
         },
         {
          "param": "b_PC",
          "value": 1.7760355553137233
         },
         {
          "param": "b_PC",
          "value": 1.7696497763138705
         },
         {
          "param": "b_PC",
          "value": 1.76433897802859
         },
         {
          "param": "b_PC",
          "value": 1.682546052085736
         },
         {
          "param": "b_PC",
          "value": 1.7772769589157882
         },
         {
          "param": "b_PC",
          "value": 1.8316406780078445
         },
         {
          "param": "b_PC",
          "value": 1.7415863292692422
         },
         {
          "param": "b_PC",
          "value": 1.7186025538832987
         },
         {
          "param": "b_PC",
          "value": 1.7113179305782156
         },
         {
          "param": "b_PC",
          "value": 1.8001125287652642
         },
         {
          "param": "b_PC",
          "value": 1.7155549085892772
         },
         {
          "param": "b_PC",
          "value": 1.708255793047635
         },
         {
          "param": "b_PC",
          "value": 1.7313388168315822
         },
         {
          "param": "b_PC",
          "value": 1.6550323320253084
         },
         {
          "param": "b_PC",
          "value": 1.6524953780958713
         },
         {
          "param": "b_PC",
          "value": 1.66064177398337
         },
         {
          "param": "b_PC",
          "value": 1.7349395007037518
         },
         {
          "param": "b_PC",
          "value": 1.704923169996665
         },
         {
          "param": "b_PC",
          "value": 1.7532540330293567
         },
         {
          "param": "b_PC",
          "value": 1.7980952360793772
         },
         {
          "param": "b_PC",
          "value": 1.7827754001441165
         },
         {
          "param": "b_PC",
          "value": 1.7234582273676307
         },
         {
          "param": "b_PC",
          "value": 1.731780817227489
         },
         {
          "param": "b_PC",
          "value": 1.7963986788420412
         },
         {
          "param": "b_PC",
          "value": 1.7928258858983395
         },
         {
          "param": "b_PC",
          "value": 1.7552710679147399
         },
         {
          "param": "b_PC",
          "value": 1.7247979755391694
         },
         {
          "param": "b_PC",
          "value": 1.7816223979167867
         },
         {
          "param": "b_PC",
          "value": 1.764333301583754
         },
         {
          "param": "b_PC",
          "value": 1.7473067339521482
         },
         {
          "param": "b_PC",
          "value": 1.7913262872600966
         },
         {
          "param": "b_PC",
          "value": 1.740320051385961
         },
         {
          "param": "b_PC",
          "value": 1.7239951406607057
         },
         {
          "param": "b_PC",
          "value": 1.7300398650646005
         },
         {
          "param": "b_PC",
          "value": 1.7769467265835512
         },
         {
          "param": "b_PC",
          "value": 1.737816573544775
         },
         {
          "param": "b_PC",
          "value": 1.7456080931829099
         },
         {
          "param": "b_PC",
          "value": 1.7566717923652508
         },
         {
          "param": "b_PC",
          "value": 1.7413409735200056
         },
         {
          "param": "b_PC",
          "value": 1.7670211062627188
         },
         {
          "param": "b_PC",
          "value": 1.6945073636841017
         },
         {
          "param": "b_PC",
          "value": 1.7817559710975335
         },
         {
          "param": "b_PC",
          "value": 1.760988955126372
         },
         {
          "param": "b_PC",
          "value": 1.750206009410552
         },
         {
          "param": "b_PC",
          "value": 1.7762653537462074
         },
         {
          "param": "b_PC",
          "value": 1.7877901484540635
         },
         {
          "param": "b_PC",
          "value": 1.7943061835141305
         },
         {
          "param": "b_PC",
          "value": 1.786747401641666
         },
         {
          "param": "b_PC",
          "value": 1.8075171094963636
         },
         {
          "param": "b_PC",
          "value": 1.7657023417581734
         },
         {
          "param": "b_PC",
          "value": 1.7354821697622762
         },
         {
          "param": "b_PC",
          "value": 1.7598356444858747
         },
         {
          "param": "b_PC",
          "value": 1.7343625249143677
         },
         {
          "param": "b_PC",
          "value": 1.7397308634344
         },
         {
          "param": "b_PC",
          "value": 1.731127800238141
         },
         {
          "param": "b_PC",
          "value": 1.8146603005523696
         },
         {
          "param": "b_PC",
          "value": 1.7386178416488922
         },
         {
          "param": "b_PC",
          "value": 1.7883471423191568
         },
         {
          "param": "b_PC",
          "value": 1.805820502299965
         },
         {
          "param": "b_PC",
          "value": 1.7497778389064802
         },
         {
          "param": "b_PC",
          "value": 1.7391611148045618
         },
         {
          "param": "b_PC",
          "value": 1.7663969755522861
         },
         {
          "param": "b_PC",
          "value": 1.7777936583575344
         },
         {
          "param": "b_PC",
          "value": 1.7989685821437018
         },
         {
          "param": "b_PC",
          "value": 1.8285000870663703
         },
         {
          "param": "b_PC",
          "value": 1.7509462307660009
         },
         {
          "param": "b_PC",
          "value": 1.7354316745784775
         },
         {
          "param": "b_PC",
          "value": 1.7331493636847868
         },
         {
          "param": "b_PC",
          "value": 1.7334141585757246
         },
         {
          "param": "b_PC",
          "value": 1.765288048981874
         },
         {
          "param": "b_PC",
          "value": 1.7354316745784775
         },
         {
          "param": "b_PC",
          "value": 1.8021729718290103
         },
         {
          "param": "b_PC",
          "value": 1.7229725260149793
         },
         {
          "param": "b_PC",
          "value": 1.8249957943429924
         },
         {
          "param": "b_PC",
          "value": 1.7867656640384257
         },
         {
          "param": "b_PC",
          "value": 1.7127108806786182
         },
         {
          "param": "b_PC",
          "value": 1.6662766993344273
         },
         {
          "param": "b_PC",
          "value": 1.7837129800229024
         },
         {
          "param": "b_PC",
          "value": 1.7704980722489911
         },
         {
          "param": "b_PC",
          "value": 1.7377160722796505
         },
         {
          "param": "b_PC",
          "value": 1.744448200282731
         },
         {
          "param": "b_PC",
          "value": 1.7266087855271848
         },
         {
          "param": "b_PC",
          "value": 1.6985722456318115
         },
         {
          "param": "b_PC",
          "value": 1.8494941934715945
         },
         {
          "param": "b_PC",
          "value": 1.733961393133616
         },
         {
          "param": "b_PC",
          "value": 1.7701523094927847
         },
         {
          "param": "b_PC",
          "value": 1.6924049011122013
         },
         {
          "param": "b_PC",
          "value": 1.7757387500999924
         },
         {
          "param": "b_PC",
          "value": 1.7766208933995018
         },
         {
          "param": "b_PC",
          "value": 1.7786989867441634
         },
         {
          "param": "b_PC",
          "value": 1.77491628157217
         },
         {
          "param": "b_PC",
          "value": 1.7723788645239107
         },
         {
          "param": "b_PC",
          "value": 1.7594240725563597
         },
         {
          "param": "b_PC",
          "value": 1.814756812272312
         },
         {
          "param": "b_PC",
          "value": 1.738091180379969
         },
         {
          "param": "b_PC",
          "value": 1.724976299095387
         },
         {
          "param": "b_PC",
          "value": 1.698036627096678
         },
         {
          "param": "b_PC",
          "value": 1.7021063879923743
         },
         {
          "param": "b_PC",
          "value": 1.7908995537464898
         },
         {
          "param": "b_PC",
          "value": 1.7884289016845687
         },
         {
          "param": "b_PC",
          "value": 1.854486039592873
         },
         {
          "param": "b_PC",
          "value": 1.7612983329874987
         },
         {
          "param": "b_PC",
          "value": 1.725172911697992
         },
         {
          "param": "b_PC",
          "value": 1.786229437375959
         },
         {
          "param": "b_PC",
          "value": 1.8141434049994585
         },
         {
          "param": "b_PC",
          "value": 1.7656886132314846
         },
         {
          "param": "b_PC",
          "value": 1.8058785098445993
         },
         {
          "param": "b_PC",
          "value": 1.790575594331271
         },
         {
          "param": "b_PC",
          "value": 1.7427468761631688
         },
         {
          "param": "b_PC",
          "value": 1.777425278538768
         },
         {
          "param": "b_PC",
          "value": 1.835271864273259
         },
         {
          "param": "b_PC",
          "value": 1.7898873544608909
         },
         {
          "param": "b_PC",
          "value": 1.7315920026878302
         },
         {
          "param": "b_PC",
          "value": 1.7408613736764424
         },
         {
          "param": "b_PC",
          "value": 1.7722314434032835
         },
         {
          "param": "b_PC",
          "value": 1.7446125438475273
         },
         {
          "param": "b_PC",
          "value": 1.7346102556321208
         },
         {
          "param": "b_PC",
          "value": 1.7976642852757225
         },
         {
          "param": "b_PC",
          "value": 1.72776869795233
         },
         {
          "param": "b_PC",
          "value": 1.701114431867621
         },
         {
          "param": "b_PC",
          "value": 1.7632076362645617
         },
         {
          "param": "b_PC",
          "value": 1.7494788600425335
         },
         {
          "param": "b_PC",
          "value": 1.7081162724541934
         },
         {
          "param": "b_PC",
          "value": 1.7603461995598968
         },
         {
          "param": "b_PC",
          "value": 1.7708989848738712
         },
         {
          "param": "b_PC",
          "value": 1.830905875275705
         },
         {
          "param": "b_PC",
          "value": 1.7891916470129403
         },
         {
          "param": "b_PC",
          "value": 1.7942612789568761
         },
         {
          "param": "b_PC",
          "value": 1.7759536142228967
         },
         {
          "param": "b_PC",
          "value": 1.748273781789628
         },
         {
          "param": "b_PC",
          "value": 1.7506028510876686
         },
         {
          "param": "b_PC",
          "value": 1.7433716136969586
         },
         {
          "param": "b_PC",
          "value": 1.7247080891178874
         },
         {
          "param": "b_PC",
          "value": 1.842928569076499
         },
         {
          "param": "b_PC",
          "value": 1.766862165846874
         },
         {
          "param": "b_PC",
          "value": 1.7689637828867826
         },
         {
          "param": "b_PC",
          "value": 1.73411306714093
         },
         {
          "param": "b_PC",
          "value": 1.6789070187062622
         },
         {
          "param": "b_PC",
          "value": 1.760098521341602
         },
         {
          "param": "b_PC",
          "value": 1.7177158762747642
         },
         {
          "param": "b_PC",
          "value": 1.747245375575277
         },
         {
          "param": "b_PC",
          "value": 1.6290353597581828
         },
         {
          "param": "b_PC",
          "value": 1.7540967275636543
         },
         {
          "param": "b_PC",
          "value": 1.722530975480594
         },
         {
          "param": "b_PC",
          "value": 1.7869002559040312
         },
         {
          "param": "b_PC",
          "value": 1.72988907054723
         },
         {
          "param": "b_PC",
          "value": 1.736089855742677
         },
         {
          "param": "b_PC",
          "value": 1.7550322458346526
         },
         {
          "param": "b_PC",
          "value": 1.7577201833749307
         },
         {
          "param": "b_PC",
          "value": 1.753894510118476
         },
         {
          "param": "b_PC",
          "value": 1.7712950902205822
         },
         {
          "param": "b_PC",
          "value": 1.7517799175195754
         },
         {
          "param": "b_PC",
          "value": 1.7663026289078008
         },
         {
          "param": "b_PC",
          "value": 1.8107489978719198
         },
         {
          "param": "b_PC",
          "value": 1.7475342131199023
         },
         {
          "param": "b_PC",
          "value": 1.7492649726270466
         },
         {
          "param": "b_PC",
          "value": 1.7167191965224886
         },
         {
          "param": "b_PC",
          "value": 1.7998432323102254
         },
         {
          "param": "b_PC",
          "value": 1.7984694524066902
         },
         {
          "param": "b_PC",
          "value": 1.7934119095013772
         },
         {
          "param": "b_PC",
          "value": 1.7849789306026727
         },
         {
          "param": "b_PC",
          "value": 1.83885671488495
         },
         {
          "param": "b_PC",
          "value": 1.7427693619009057
         },
         {
          "param": "b_PC",
          "value": 1.7598654667539508
         },
         {
          "param": "b_PC",
          "value": 1.8007098463203917
         },
         {
          "param": "b_PC",
          "value": 1.7831591841784984
         },
         {
          "param": "b_PC",
          "value": 1.7427693619009057
         },
         {
          "param": "b_PC",
          "value": 1.7981167709900299
         },
         {
          "param": "b_PC",
          "value": 1.8294922954214832
         },
         {
          "param": "b_PC",
          "value": 1.7705537070626571
         },
         {
          "param": "b_PC",
          "value": 1.7228852198735827
         },
         {
          "param": "b_PC",
          "value": 1.7644992432984534
         },
         {
          "param": "b_PC",
          "value": 1.7503502307303136
         },
         {
          "param": "b_PC",
          "value": 1.7956316177517497
         },
         {
          "param": "b_PC",
          "value": 1.7288313769518109
         },
         {
          "param": "b_PC",
          "value": 1.8211734261314751
         },
         {
          "param": "b_PC",
          "value": 1.7332527494501588
         },
         {
          "param": "b_PC",
          "value": 1.7210139703031448
         },
         {
          "param": "b_PC",
          "value": 1.7203970764661367
         },
         {
          "param": "b_PC",
          "value": 1.7547613311402719
         },
         {
          "param": "b_PC",
          "value": 1.7675440687306916
         },
         {
          "param": "b_PC",
          "value": 1.740541418921103
         },
         {
          "param": "b_PC",
          "value": 1.7620629295213714
         },
         {
          "param": "b_PC",
          "value": 1.7347924046586773
         },
         {
          "param": "b_PC",
          "value": 1.8179302686489198
         },
         {
          "param": "b_PC",
          "value": 1.7661260261297227
         },
         {
          "param": "b_PC",
          "value": 1.69933882806622
         },
         {
          "param": "b_PC",
          "value": 1.753936206447209
         },
         {
          "param": "b_PC",
          "value": 1.7628642125286407
         },
         {
          "param": "b_PC",
          "value": 1.781362209234523
         },
         {
          "param": "b_PC",
          "value": 1.7484769044340747
         },
         {
          "param": "b_PC",
          "value": 1.7808411358924292
         },
         {
          "param": "b_PC",
          "value": 1.7964073691603129
         },
         {
          "param": "b_PC",
          "value": 1.777838572139396
         },
         {
          "param": "b_PC",
          "value": 1.6862179813761842
         },
         {
          "param": "b_PC",
          "value": 1.7742316307561607
         },
         {
          "param": "b_PC",
          "value": 1.827937264917386
         },
         {
          "param": "b_PC",
          "value": 1.8191930434951462
         },
         {
          "param": "b_PC",
          "value": 1.701850284651042
         },
         {
          "param": "b_PC",
          "value": 1.7797912248285164
         },
         {
          "param": "b_PC",
          "value": 1.6676166250007942
         },
         {
          "param": "b_PC",
          "value": 1.7337146996720818
         },
         {
          "param": "b_PC",
          "value": 1.6875421566760411
         },
         {
          "param": "b_PC",
          "value": 1.7526496428349523
         },
         {
          "param": "b_PC",
          "value": 1.7218551199803855
         },
         {
          "param": "b_PC",
          "value": 1.7574345588944964
         },
         {
          "param": "b_PC",
          "value": 1.7206024088049867
         },
         {
          "param": "b_PC",
          "value": 1.7439143136857067
         },
         {
          "param": "b_PC",
          "value": 1.751607431681545
         },
         {
          "param": "b_PC",
          "value": 1.738162338977118
         },
         {
          "param": "b_PC",
          "value": 1.8099991389724284
         },
         {
          "param": "b_PC",
          "value": 1.7060065316592647
         },
         {
          "param": "b_PC",
          "value": 1.7601085793352855
         },
         {
          "param": "b_PC",
          "value": 1.7958679618703068
         },
         {
          "param": "b_PC",
          "value": 1.7171775833837088
         },
         {
          "param": "b_PC",
          "value": 1.7987510218838514
         },
         {
          "param": "b_PC",
          "value": 1.774981900444316
         },
         {
          "param": "b_PC",
          "value": 1.769562868675224
         },
         {
          "param": "b_PC",
          "value": 1.854909649234904
         },
         {
          "param": "b_PC",
          "value": 1.691172845387104
         },
         {
          "param": "b_PC",
          "value": 1.7331097361462546
         },
         {
          "param": "b_PC",
          "value": 1.7850974654987373
         },
         {
          "param": "b_PC",
          "value": 1.753041153555748
         },
         {
          "param": "b_PC",
          "value": 1.7528160015619085
         },
         {
          "param": "b_PC",
          "value": 1.7708590835686613
         },
         {
          "param": "b_PC",
          "value": 1.773168363275068
         },
         {
          "param": "b_PC",
          "value": 1.7416060297020932
         },
         {
          "param": "b_PC",
          "value": 1.7690127669391353
         },
         {
          "param": "b_PC",
          "value": 1.7737930370114807
         },
         {
          "param": "b_PC",
          "value": 1.7602204173407592
         },
         {
          "param": "b_PC",
          "value": 1.72215459539941
         },
         {
          "param": "b_PC",
          "value": 1.7463665783669753
         },
         {
          "param": "b_PC",
          "value": 1.802857736256101
         },
         {
          "param": "b_PC",
          "value": 1.7281659891771117
         },
         {
          "param": "b_PC",
          "value": 1.718582441252823
         },
         {
          "param": "b_PC",
          "value": 1.8061507816988964
         },
         {
          "param": "b_PC",
          "value": 1.7320045717780943
         },
         {
          "param": "b_PC",
          "value": 1.7873396150988037
         },
         {
          "param": "b_PC",
          "value": 1.845988321793351
         },
         {
          "param": "b_PC",
          "value": 1.7469750724242776
         },
         {
          "param": "b_PC",
          "value": 1.7151712228143476
         },
         {
          "param": "b_PC",
          "value": 1.7873396150988037
         },
         {
          "param": "b_PC",
          "value": 1.8717285274584832
         },
         {
          "param": "b_PC",
          "value": 1.7416206596972563
         },
         {
          "param": "b_PC",
          "value": 1.784878918478284
         },
         {
          "param": "b_PC",
          "value": 1.7889462602368889
         },
         {
          "param": "b_PC",
          "value": 1.7530890847158833
         },
         {
          "param": "b_PC",
          "value": 1.7329069851093206
         },
         {
          "param": "b_PC",
          "value": 1.7415266023424012
         },
         {
          "param": "b_PC",
          "value": 1.8023774866371138
         },
         {
          "param": "b_PC",
          "value": 1.7668076788466633
         },
         {
          "param": "b_PC",
          "value": 1.777701350357958
         },
         {
          "param": "b_PC",
          "value": 1.7586876480676565
         },
         {
          "param": "b_PC",
          "value": 1.831983348862068
         },
         {
          "param": "b_PC",
          "value": 1.7857186574846498
         },
         {
          "param": "b_PC",
          "value": 1.7228327791830031
         },
         {
          "param": "b_PC",
          "value": 1.7866973754335258
         },
         {
          "param": "b_PC",
          "value": 1.7021093208788474
         },
         {
          "param": "b_PC",
          "value": 1.7524606781433176
         },
         {
          "param": "b_PC",
          "value": 1.7536574344550433
         },
         {
          "param": "b_PC",
          "value": 1.7367806894575128
         },
         {
          "param": "b_PC",
          "value": 1.776506835241812
         },
         {
          "param": "b_PC",
          "value": 1.7710361411238091
         },
         {
          "param": "b_PC",
          "value": 1.8011229901791246
         },
         {
          "param": "b_PC",
          "value": 1.7514084451021246
         },
         {
          "param": "b_PC",
          "value": 1.76320068054363
         },
         {
          "param": "b_PC",
          "value": 1.7790457409894858
         },
         {
          "param": "b_PC",
          "value": 1.707137899732071
         },
         {
          "param": "b_PC",
          "value": 1.9031102447339445
         },
         {
          "param": "b_PC",
          "value": 1.6813092603960482
         },
         {
          "param": "b_PC",
          "value": 1.83096906269554
         },
         {
          "param": "b_PC",
          "value": 1.8103571068457174
         },
         {
          "param": "b_PC",
          "value": 1.8858690978833923
         },
         {
          "param": "b_PC",
          "value": 1.7290879595626674
         },
         {
          "param": "b_PC",
          "value": 1.7844123737852706
         },
         {
          "param": "b_PC",
          "value": 1.7654911426117323
         },
         {
          "param": "b_PC",
          "value": 1.7515900397188742
         },
         {
          "param": "b_PC",
          "value": 1.7646031496061978
         },
         {
          "param": "b_PC",
          "value": 1.7575885718868562
         },
         {
          "param": "b_PC",
          "value": 1.7690951576419458
         },
         {
          "param": "b_PC",
          "value": 1.7148367005918461
         },
         {
          "param": "b_PC",
          "value": 1.84075809212764
         },
         {
          "param": "b_PC",
          "value": 1.7677826924637614
         },
         {
          "param": "b_PC",
          "value": 1.8049940157546895
         },
         {
          "param": "b_PC",
          "value": 1.7238333089362308
         },
         {
          "param": "b_PC",
          "value": 1.7609727407397824
         },
         {
          "param": "b_PC",
          "value": 1.7763610742187026
         },
         {
          "param": "b_PC",
          "value": 1.8450978067353465
         },
         {
          "param": "b_PC",
          "value": 1.7329998127510862
         },
         {
          "param": "b_PC",
          "value": 1.8352445955596683
         },
         {
          "param": "b_PC",
          "value": 1.7582968076717609
         },
         {
          "param": "b_PC",
          "value": 1.7965027510724119
         },
         {
          "param": "b_PC",
          "value": 1.7372137629179838
         },
         {
          "param": "b_PC",
          "value": 1.761740357171017
         },
         {
          "param": "b_PC",
          "value": 1.7233142627241826
         },
         {
          "param": "b_PC",
          "value": 1.7573442080443964
         },
         {
          "param": "b_PC",
          "value": 1.7872976302787202
         },
         {
          "param": "b_PC",
          "value": 1.760540544756619
         },
         {
          "param": "b_PC",
          "value": 1.7962103953500697
         },
         {
          "param": "b_PC",
          "value": 1.7598510767860671
         },
         {
          "param": "b_PC",
          "value": 1.669403664365112
         },
         {
          "param": "b_PC",
          "value": 1.6873675293530086
         },
         {
          "param": "b_PC",
          "value": 1.7219398564972646
         },
         {
          "param": "b_PC",
          "value": 1.7172190823195421
         },
         {
          "param": "b_PC",
          "value": 1.7616187510346666
         },
         {
          "param": "b_PC",
          "value": 1.7396974492121458
         },
         {
          "param": "b_PC",
          "value": 1.810020853199531
         },
         {
          "param": "b_PC",
          "value": 1.716555642100934
         },
         {
          "param": "b_PC",
          "value": 1.7370609222619169
         },
         {
          "param": "b_PC",
          "value": 1.7570900458043763
         },
         {
          "param": "b_PC",
          "value": 1.8012410522168556
         },
         {
          "param": "b_PC",
          "value": 1.819303445631739
         },
         {
          "param": "b_PC",
          "value": 1.7863559193092582
         },
         {
          "param": "b_PC",
          "value": 1.8114545398636936
         },
         {
          "param": "b_PC",
          "value": 1.8422369826879204
         },
         {
          "param": "b_PC",
          "value": 1.7393516855529554
         },
         {
          "param": "b_PC",
          "value": 1.7469860643086448
         },
         {
          "param": "b_PC",
          "value": 1.6932198637135394
         },
         {
          "param": "b_PC",
          "value": 1.8321582427213003
         },
         {
          "param": "b_PC",
          "value": 1.7358927406732088
         },
         {
          "param": "b_PC",
          "value": 1.7359750904466533
         },
         {
          "param": "b_PC",
          "value": 1.767649109520161
         },
         {
          "param": "b_PC",
          "value": 1.840611633002229
         },
         {
          "param": "b_PC",
          "value": 1.8391621436801775
         },
         {
          "param": "b_PC",
          "value": 1.7847196167604444
         },
         {
          "param": "b_PC",
          "value": 1.7488500048543159
         },
         {
          "param": "b_PC",
          "value": 1.844956553808377
         },
         {
          "param": "b_PC",
          "value": 1.7267658951589302
         },
         {
          "param": "b_PC",
          "value": 1.8372432024077239
         },
         {
          "param": "b_PC",
          "value": 1.7139890993072497
         },
         {
          "param": "b_PC",
          "value": 1.6979729585926793
         },
         {
          "param": "b_PC",
          "value": 1.7412289994163606
         },
         {
          "param": "b_PC",
          "value": 1.7698118963268505
         },
         {
          "param": "b_PC",
          "value": 1.8408877919080195
         },
         {
          "param": "b_PC",
          "value": 1.749010648761095
         },
         {
          "param": "b_PC",
          "value": 1.7513843708819241
         },
         {
          "param": "b_PC",
          "value": 1.7648213202328509
         },
         {
          "param": "b_PC",
          "value": 1.7412825404107843
         },
         {
          "param": "b_PC",
          "value": 1.7688828083159536
         },
         {
          "param": "b_PC",
          "value": 1.7843347914867547
         },
         {
          "param": "b_PC",
          "value": 1.824858918375757
         },
         {
          "param": "b_PC",
          "value": 1.6962168609572232
         },
         {
          "param": "b_PC",
          "value": 1.7133179168001524
         },
         {
          "param": "b_PC",
          "value": 1.848934452845492
         },
         {
          "param": "b_PC",
          "value": 1.8458811245380173
         },
         {
          "param": "b_PC",
          "value": 1.7830115509912101
         },
         {
          "param": "b_PC",
          "value": 1.737380259429175
         },
         {
          "param": "b_PC",
          "value": 1.707057917063614
         },
         {
          "param": "b_PC",
          "value": 1.736040384462141
         },
         {
          "param": "b_PC",
          "value": 1.7731166775021543
         },
         {
          "param": "b_PC",
          "value": 1.7914507667540918
         },
         {
          "param": "b_PC",
          "value": 1.717929806635303
         },
         {
          "param": "b_PC",
          "value": 1.7235193271559306
         },
         {
          "param": "b_PC",
          "value": 1.727142038951141
         },
         {
          "param": "b_PC",
          "value": 1.6947650889443695
         },
         {
          "param": "b_PC",
          "value": 1.811366390514489
         },
         {
          "param": "b_PC",
          "value": 1.7235193271559306
         },
         {
          "param": "b_PC",
          "value": 1.7903723651155259
         },
         {
          "param": "b_PC",
          "value": 1.7890549967321718
         },
         {
          "param": "b_PC",
          "value": 1.72915910143192
         },
         {
          "param": "b_PC",
          "value": 1.805787374249199
         },
         {
          "param": "b_PC",
          "value": 1.7173525649249035
         },
         {
          "param": "b_PC",
          "value": 1.7385582471391527
         },
         {
          "param": "b_PC",
          "value": 1.6852555224870143
         },
         {
          "param": "b_PC",
          "value": 1.73889681426344
         },
         {
          "param": "b_PC",
          "value": 1.859410861654809
         },
         {
          "param": "b_PC",
          "value": 1.7555067644200613
         },
         {
          "param": "b_PC",
          "value": 1.783122294278201
         },
         {
          "param": "b_PC",
          "value": 1.759311665413065
         },
         {
          "param": "b_PC",
          "value": 1.780043464483188
         },
         {
          "param": "b_PC",
          "value": 1.803144696606907
         },
         {
          "param": "b_PC",
          "value": 1.736579472651323
         },
         {
          "param": "b_PC",
          "value": 1.78526754492287
         },
         {
          "param": "b_PC",
          "value": 1.8051972118788389
         },
         {
          "param": "b_PC",
          "value": 1.7832111959611254
         },
         {
          "param": "b_PC",
          "value": 1.759256184032044
         },
         {
          "param": "b_PC",
          "value": 1.7967620749298592
         },
         {
          "param": "b_PC",
          "value": 1.7563591329115882
         },
         {
          "param": "b_PC",
          "value": 1.685805998774204
         },
         {
          "param": "b_PC",
          "value": 1.8061088490150594
         },
         {
          "param": "b_PC",
          "value": 1.719412035927907
         },
         {
          "param": "b_PC",
          "value": 1.7245551487772108
         },
         {
          "param": "b_PC",
          "value": 1.7198586627827643
         },
         {
          "param": "b_PC",
          "value": 1.7953214311299526
         },
         {
          "param": "b_PC",
          "value": 1.6987585453711738
         },
         {
          "param": "b_PC",
          "value": 1.7716582870496973
         },
         {
          "param": "b_PC",
          "value": 1.7884302640426708
         },
         {
          "param": "b_PC",
          "value": 1.7822447614839831
         },
         {
          "param": "b_PC",
          "value": 1.7386291324017278
         },
         {
          "param": "b_PC",
          "value": 1.7931740907072182
         },
         {
          "param": "b_PC",
          "value": 1.762753990341547
         },
         {
          "param": "b_PC",
          "value": 1.6993901412637193
         },
         {
          "param": "b_PC",
          "value": 1.7386291324017278
         },
         {
          "param": "b_PC",
          "value": 1.7811517802393577
         },
         {
          "param": "b_PC",
          "value": 1.7539437321846987
         },
         {
          "param": "b_PC",
          "value": 1.6669442722592085
         },
         {
          "param": "b_PC",
          "value": 1.7142123314018112
         },
         {
          "param": "b_PC",
          "value": 1.813227367228345
         },
         {
          "param": "b_PC",
          "value": 1.7820046195246935
         },
         {
          "param": "b_PC",
          "value": 1.6725927107190832
         },
         {
          "param": "b_PC",
          "value": 1.7172816544546028
         },
         {
          "param": "b_PC",
          "value": 1.813227367228345
         },
         {
          "param": "b_PC",
          "value": 1.7797188871428788
         },
         {
          "param": "b_PC",
          "value": 1.6812192245454252
         },
         {
          "param": "b_PC",
          "value": 1.7958202190102275
         },
         {
          "param": "b_PC",
          "value": 1.7816674784318773
         },
         {
          "param": "b_PC",
          "value": 1.7589987096759654
         },
         {
          "param": "b_PC",
          "value": 1.7923124092070655
         },
         {
          "param": "b_PC",
          "value": 1.7235958852873783
         },
         {
          "param": "b_PC",
          "value": 1.7909410594227761
         },
         {
          "param": "b_PC",
          "value": 1.8102004809967847
         },
         {
          "param": "b_PC",
          "value": 1.6936214553899818
         },
         {
          "param": "b_PC",
          "value": 1.707255681690341
         },
         {
          "param": "b_PC",
          "value": 1.7425155035212805
         },
         {
          "param": "b_PC",
          "value": 1.7343090070893714
         },
         {
          "param": "b_PC",
          "value": 1.7545731457814582
         },
         {
          "param": "b_PC",
          "value": 1.7117374591341852
         },
         {
          "param": "b_PC",
          "value": 1.7438452945935616
         },
         {
          "param": "b_PC",
          "value": 1.812882245921353
         },
         {
          "param": "b_PC",
          "value": 1.7651173392602237
         },
         {
          "param": "b_PC",
          "value": 1.8389562987803165
         },
         {
          "param": "b_PC",
          "value": 1.815575598563062
         },
         {
          "param": "b_PC",
          "value": 1.773019579606467
         },
         {
          "param": "b_PC",
          "value": 1.7243966702603337
         },
         {
          "param": "b_PC",
          "value": 1.772644463264376
         },
         {
          "param": "b_PC",
          "value": 1.7708401115804593
         },
         {
          "param": "b_PC",
          "value": 1.749326927865201
         },
         {
          "param": "b_PC",
          "value": 1.7120882247465856
         },
         {
          "param": "b_PC",
          "value": 1.7683319422921702
         },
         {
          "param": "b_PC",
          "value": 1.8319683035570267
         },
         {
          "param": "b_PC",
          "value": 1.743988061943871
         },
         {
          "param": "b_PC",
          "value": 1.831645082625929
         },
         {
          "param": "b_PC",
          "value": 1.7502078139591986
         },
         {
          "param": "b_PC",
          "value": 1.779777740228088
         },
         {
          "param": "b_PC",
          "value": 1.7722807059775711
         },
         {
          "param": "b_PC",
          "value": 1.7497544908652682
         },
         {
          "param": "b_PC",
          "value": 1.7221500650273667
         },
         {
          "param": "b_PC",
          "value": 1.7949252394329371
         },
         {
          "param": "b_PC",
          "value": 1.7861343844992585
         },
         {
          "param": "b_PC",
          "value": 1.817749537912181
         },
         {
          "param": "b_PC",
          "value": 1.7379186908111688
         },
         {
          "param": "b_PC",
          "value": 1.773275884865532
         },
         {
          "param": "b_PC",
          "value": 1.6864009174663979
         },
         {
          "param": "b_PC",
          "value": 1.7912273316564484
         },
         {
          "param": "b_PC",
          "value": 1.760465382317673
         },
         {
          "param": "b_PC",
          "value": 1.743831557701728
         },
         {
          "param": "b_PC",
          "value": 1.810028125037638
         },
         {
          "param": "b_PC",
          "value": 1.760209882159398
         },
         {
          "param": "b_PC",
          "value": 1.6953995675126383
         },
         {
          "param": "b_PC",
          "value": 1.7973955669178459
         },
         {
          "param": "b_PC",
          "value": 1.7982419231877673
         },
         {
          "param": "b_PC",
          "value": 1.748499931543719
         },
         {
          "param": "b_PC",
          "value": 1.681557993531303
         },
         {
          "param": "b_PC",
          "value": 1.7618758272877186
         },
         {
          "param": "b_PC",
          "value": 1.7601724291984775
         },
         {
          "param": "b_PC",
          "value": 1.835645096190704
         },
         {
          "param": "b_PC",
          "value": 1.7130630376525444
         },
         {
          "param": "b_PC",
          "value": 1.7142143298739785
         },
         {
          "param": "b_PC",
          "value": 1.7583617410659216
         },
         {
          "param": "b_PC",
          "value": 1.720985964035531
         },
         {
          "param": "b_PC",
          "value": 1.7597100138754656
         },
         {
          "param": "b_PC",
          "value": 1.820287597357233
         },
         {
          "param": "b_PC",
          "value": 1.68725908063829
         },
         {
          "param": "b_PC",
          "value": 1.8102685453597211
         },
         {
          "param": "b_PC",
          "value": 1.7648379677022061
         },
         {
          "param": "b_PC",
          "value": 1.709213537542511
         },
         {
          "param": "b_PC",
          "value": 1.751326517006975
         },
         {
          "param": "b_PC",
          "value": 1.7619641065530247
         },
         {
          "param": "b_PC",
          "value": 1.8573029890160069
         },
         {
          "param": "b_PC",
          "value": 1.8100097935881128
         },
         {
          "param": "b_PC",
          "value": 1.7296731996051924
         },
         {
          "param": "b_PC",
          "value": 1.7951242818770468
         },
         {
          "param": "b_PC",
          "value": 1.7012472305896646
         },
         {
          "param": "b_PC",
          "value": 1.7094257824953434
         },
         {
          "param": "b_PC",
          "value": 1.8073754263481367
         },
         {
          "param": "b_PC",
          "value": 1.815393007723558
         },
         {
          "param": "b_PC",
          "value": 1.835024187095814
         },
         {
          "param": "b_PC",
          "value": 1.7825831067465099
         },
         {
          "param": "b_PC",
          "value": 1.7487272482559644
         },
         {
          "param": "b_PC",
          "value": 1.7281658544681817
         },
         {
          "param": "b_PC",
          "value": 1.7107284338681907
         },
         {
          "param": "b_PC",
          "value": 1.7077541974297046
         },
         {
          "param": "b_PC",
          "value": 1.8394263615657587
         },
         {
          "param": "b_PC",
          "value": 1.7880579135635946
         },
         {
          "param": "b_PC",
          "value": 1.7107284338681907
         },
         {
          "param": "b_PC",
          "value": 1.814691668921872
         },
         {
          "param": "b_PC",
          "value": 1.8364120751814996
         },
         {
          "param": "b_PC",
          "value": 1.7910555175505298
         },
         {
          "param": "b_PC",
          "value": 1.7719739762881237
         },
         {
          "param": "b_PC",
          "value": 1.700202041508296
         },
         {
          "param": "b_PC",
          "value": 1.80358390664153
         },
         {
          "param": "b_PC",
          "value": 1.774528185324346
         },
         {
          "param": "b_PC",
          "value": 1.7818188711291854
         },
         {
          "param": "b_PC",
          "value": 1.7025566423448013
         },
         {
          "param": "b_PC",
          "value": 1.7354810166844377
         },
         {
          "param": "b_PC",
          "value": 1.7580223637513377
         },
         {
          "param": "b_PC",
          "value": 1.6976077879785916
         },
         {
          "param": "b_PC",
          "value": 1.6889560242119959
         },
         {
          "param": "b_PC",
          "value": 1.7552412135538118
         },
         {
          "param": "b_PC",
          "value": 1.8374083093816393
         },
         {
          "param": "b_PC",
          "value": 1.7878749690302906
         },
         {
          "param": "b_PC",
          "value": 1.7387074868673138
         },
         {
          "param": "b_PC",
          "value": 1.7140767441680815
         },
         {
          "param": "b_PC",
          "value": 1.8374083093816393
         },
         {
          "param": "b_PC",
          "value": 1.807743755204596
         },
         {
          "param": "b_PC",
          "value": 1.7069695097023747
         },
         {
          "param": "b_PC",
          "value": 1.616143429274163
         },
         {
          "param": "b_PC",
          "value": 1.874435859692921
         },
         {
          "param": "b_PC",
          "value": 1.7336863510705014
         },
         {
          "param": "b_PC",
          "value": 1.837502546503107
         },
         {
          "param": "b_PC",
          "value": 1.711752208593952
         },
         {
          "param": "b_PC",
          "value": 1.727003545647872
         },
         {
          "param": "b_PC",
          "value": 1.7712847413160726
         },
         {
          "param": "b_PC",
          "value": 1.7147045438661477
         },
         {
          "param": "b_PC",
          "value": 1.7053195370471617
         },
         {
          "param": "b_PC",
          "value": 1.7954923437121566
         },
         {
          "param": "b_PC",
          "value": 1.7555024708495799
         },
         {
          "param": "b_PC",
          "value": 1.7467002815516566
         },
         {
          "param": "b_PC",
          "value": 1.7129141658572518
         },
         {
          "param": "b_PC",
          "value": 1.8168523683668845
         },
         {
          "param": "b_PC",
          "value": 1.7153738256869016
         },
         {
          "param": "b_PC",
          "value": 1.7059800991197462
         },
         {
          "param": "b_PC",
          "value": 1.745192701073208
         },
         {
          "param": "b_PC",
          "value": 1.7235030844689059
         },
         {
          "param": "b_PC",
          "value": 1.7855672230562143
         },
         {
          "param": "b_PC",
          "value": 1.7773450218868552
         },
         {
          "param": "b_PC",
          "value": 1.7356496229965055
         },
         {
          "param": "b_PC",
          "value": 1.7252327156299407
         },
         {
          "param": "b_PC",
          "value": 1.7162633760057489
         },
         {
          "param": "b_PC",
          "value": 1.7982873630006009
         },
         {
          "param": "b_PC",
          "value": 1.8349117766217722
         },
         {
          "param": "b_PC",
          "value": 1.7830553695287972
         },
         {
          "param": "b_PC",
          "value": 1.7873170724832808
         },
         {
          "param": "b_PC",
          "value": 1.757901742382898
         },
         {
          "param": "b_PC",
          "value": 1.8000289046179874
         },
         {
          "param": "b_PC",
          "value": 1.723758987037443
         },
         {
          "param": "b_PC",
          "value": 1.774947244575706
         },
         {
          "param": "b_PC",
          "value": 1.7989477435164434
         },
         {
          "param": "b_PC",
          "value": 1.727671763143667
         },
         {
          "param": "b_PC",
          "value": 1.7155599632174086
         },
         {
          "param": "b_PC",
          "value": 1.7584777508767966
         },
         {
          "param": "b_PC",
          "value": 1.7510340549559216
         },
         {
          "param": "b_PC",
          "value": 1.8141091179426705
         },
         {
          "param": "b_PC",
          "value": 1.7661838907168976
         },
         {
          "param": "b_PC",
          "value": 1.7111672681907248
         },
         {
          "param": "b_PC",
          "value": 1.6986563017871625
         },
         {
          "param": "b_PC",
          "value": 1.7605674241671705
         },
         {
          "param": "b_PC",
          "value": 1.75752012967152
         },
         {
          "param": "b_PC",
          "value": 1.732416811211369
         },
         {
          "param": "b_PC",
          "value": 1.8221720127669538
         },
         {
          "param": "b_PC",
          "value": 1.7533496478074178
         },
         {
          "param": "b_PC",
          "value": 1.712577209821938
         },
         {
          "param": "b_PC",
          "value": 1.7716070580531627
         },
         {
          "param": "b_PC",
          "value": 1.822030636818145
         },
         {
          "param": "b_PC",
          "value": 1.8466522633055802
         },
         {
          "param": "b_PC",
          "value": 1.8238887501053531
         },
         {
          "param": "b_PC",
          "value": 1.8062487701247827
         },
         {
          "param": "b_PC",
          "value": 1.7316846307166678
         },
         {
          "param": "b_PC",
          "value": 1.6458765250522662
         },
         {
          "param": "b_PC",
          "value": 1.7084109075067522
         },
         {
          "param": "b_PC",
          "value": 1.7910254066063933
         },
         {
          "param": "b_PC",
          "value": 1.703029851655225
         },
         {
          "param": "b_PC",
          "value": 1.8814028528486455
         },
         {
          "param": "b_PC",
          "value": 1.829490229088929
         },
         {
          "param": "b_PC",
          "value": 1.7921757656912962
         },
         {
          "param": "b_PC",
          "value": 1.7998373910513896
         },
         {
          "param": "b_PC",
          "value": 1.751362495259742
         },
         {
          "param": "b_PC",
          "value": 1.791345720295693
         },
         {
          "param": "b_PC",
          "value": 1.7834426813289095
         },
         {
          "param": "b_PC",
          "value": 1.7142517089053462
         },
         {
          "param": "b_PC",
          "value": 1.7543230925359843
         },
         {
          "param": "b_PC",
          "value": 1.7542585154262387
         },
         {
          "param": "b_PC",
          "value": 1.7789717491732748
         },
         {
          "param": "b_PC",
          "value": 1.7483709237309817
         },
         {
          "param": "b_PC",
          "value": 1.6997201292570274
         },
         {
          "param": "b_PC",
          "value": 1.8474546990685128
         },
         {
          "param": "b_PC",
          "value": 1.7587495384212648
         },
         {
          "param": "b_PC",
          "value": 1.7814567151694234
         },
         {
          "param": "b_PC",
          "value": 1.830897536716057
         },
         {
          "param": "b_PC",
          "value": 1.8129426743172175
         },
         {
          "param": "b_PC",
          "value": 1.772415197950282
         },
         {
          "param": "b_PC",
          "value": 1.8219861893709923
         },
         {
          "param": "b_PC",
          "value": 1.6110936606366288
         },
         {
          "param": "b_PC",
          "value": 1.7575390143202656
         },
         {
          "param": "b_PC",
          "value": 1.803395018328886
         },
         {
          "param": "b_PC",
          "value": 1.7977729530873356
         },
         {
          "param": "b_PC",
          "value": 1.8091164153333912
         },
         {
          "param": "b_PC",
          "value": 1.7522944346283187
         },
         {
          "param": "b_PC",
          "value": 1.7574718758686096
         },
         {
          "param": "b_PC",
          "value": 1.7798605419592213
         },
         {
          "param": "b_PC",
          "value": 1.6890802553677908
         },
         {
          "param": "b_PC",
          "value": 1.7100619399253265
         },
         {
          "param": "b_PC",
          "value": 1.8578669999422313
         },
         {
          "param": "b_PC",
          "value": 1.723080276044046
         },
         {
          "param": "b_PC",
          "value": 1.7501929016041928
         },
         {
          "param": "b_PC",
          "value": 1.772117827196718
         },
         {
          "param": "b_PC",
          "value": 1.7729994471988622
         },
         {
          "param": "b_PC",
          "value": 1.7596452725093057
         },
         {
          "param": "b_PC",
          "value": 1.784216532633937
         },
         {
          "param": "b_PC",
          "value": 1.6977321383651762
         },
         {
          "param": "b_PC",
          "value": 1.7386166717365854
         },
         {
          "param": "b_PC",
          "value": 1.7334717667108375
         },
         {
          "param": "b_PC",
          "value": 1.7893231829072793
         },
         {
          "param": "b_PC",
          "value": 1.8496308319866166
         },
         {
          "param": "b_PC",
          "value": 1.6817044054738366
         },
         {
          "param": "b_PC",
          "value": 1.7051664501119772
         },
         {
          "param": "b_PC",
          "value": 1.7926115682741786
         },
         {
          "param": "b_PC",
          "value": 1.7386810003073159
         },
         {
          "param": "b_PC",
          "value": 1.7421809435402802
         },
         {
          "param": "b_PC",
          "value": 1.678178088713748
         },
         {
          "param": "b_PC",
          "value": 1.7700409967308515
         },
         {
          "param": "b_PC",
          "value": 1.7515854472938799
         },
         {
          "param": "b_PC",
          "value": 1.7982712559448981
         },
         {
          "param": "b_PC",
          "value": 1.7022454586445777
         },
         {
          "param": "b_PC",
          "value": 1.8188974085781344
         },
         {
          "param": "b_PC",
          "value": 1.7928179599122258
         },
         {
          "param": "b_PC",
          "value": 1.7468376963741532
         },
         {
          "param": "b_PC",
          "value": 1.727474688361219
         },
         {
          "param": "b_PC",
          "value": 1.7176062389027444
         },
         {
          "param": "b_PC",
          "value": 1.8271192032314603
         },
         {
          "param": "b_PC",
          "value": 1.8048015904854682
         },
         {
          "param": "b_PC",
          "value": 1.7788432047051814
         },
         {
          "param": "b_PC",
          "value": 1.7672340437257832
         },
         {
          "param": "b_PC",
          "value": 1.765822312861352
         },
         {
          "param": "b_PC",
          "value": 1.8100296407647911
         },
         {
          "param": "b_PC",
          "value": 1.78384642344007
         },
         {
          "param": "b_PC",
          "value": 1.7694367141659002
         },
         {
          "param": "b_PC",
          "value": 1.6828270816278783
         },
         {
          "param": "b_PC",
          "value": 1.689995494469516
         },
         {
          "param": "b_PC",
          "value": 1.7381931201826892
         },
         {
          "param": "b_PC",
          "value": 1.751399110026515
         },
         {
          "param": "b_PC",
          "value": 1.7136514476329312
         },
         {
          "param": "b_PC",
          "value": 1.7720305843373223
         },
         {
          "param": "b_PC",
          "value": 1.6920714284657767
         },
         {
          "param": "b_PC",
          "value": 1.74328748837923
         },
         {
          "param": "b_PC",
          "value": 1.802505284548894
         },
         {
          "param": "b_PC",
          "value": 1.7664192837205004
         },
         {
          "param": "b_PC",
          "value": 1.8067381231524544
         },
         {
          "param": "b_PC",
          "value": 1.7317162329016766
         },
         {
          "param": "b_PC",
          "value": 1.7905076912230264
         },
         {
          "param": "b_PC",
          "value": 1.7563817505759165
         },
         {
          "param": "b_PC",
          "value": 1.7770645667299505
         },
         {
          "param": "b_PC",
          "value": 1.8303755161733941
         },
         {
          "param": "b_PC",
          "value": 1.8203517332806458
         },
         {
          "param": "b_PC",
          "value": 1.8008116886351684
         },
         {
          "param": "b_PC",
          "value": 1.752327149622517
         },
         {
          "param": "b_PC",
          "value": 1.7906388568631761
         },
         {
          "param": "b_PC",
          "value": 1.7541859646444828
         },
         {
          "param": "b_PC",
          "value": 1.7865801790104043
         },
         {
          "param": "b_PC",
          "value": 1.8658622229642936
         },
         {
          "param": "b_PC",
          "value": 1.8075016123438403
         },
         {
          "param": "b_PC",
          "value": 1.7831228695220642
         },
         {
          "param": "b_PC",
          "value": 1.7865801790104043
         },
         {
          "param": "b_PC",
          "value": 1.8286123769911147
         },
         {
          "param": "b_PC",
          "value": 1.8312679276436752
         },
         {
          "param": "b_PC",
          "value": 1.7506141109835962
         },
         {
          "param": "b_PC",
          "value": 1.792107412452127
         },
         {
          "param": "b_PC",
          "value": 1.7309081181063384
         },
         {
          "param": "b_PC",
          "value": 1.7142983244969274
         },
         {
          "param": "b_PC",
          "value": 1.6946857828868718
         },
         {
          "param": "b_PC",
          "value": 1.726622133605483
         },
         {
          "param": "b_PC",
          "value": 1.744527695483108
         },
         {
          "param": "b_PC",
          "value": 1.779867532095235
         },
         {
          "param": "b_PC",
          "value": 1.8669315675181537
         },
         {
          "param": "b_PC",
          "value": 1.8054887880633457
         },
         {
          "param": "b_PC",
          "value": 1.694794136779556
         },
         {
          "param": "b_PC",
          "value": 1.8757367792414967
         },
         {
          "param": "b_PC",
          "value": 1.671191532086354
         },
         {
          "param": "b_PC",
          "value": 1.8083043918241026
         },
         {
          "param": "b_PC",
          "value": 1.6744844578075888
         },
         {
          "param": "b_PC",
          "value": 1.7475633668942694
         },
         {
          "param": "b_GC",
          "value": -0.6550308500247339
         },
         {
          "param": "b_GC",
          "value": -0.5397914051569656
         },
         {
          "param": "b_GC",
          "value": -0.7967987963129243
         },
         {
          "param": "b_GC",
          "value": -0.6057358626246112
         },
         {
          "param": "b_GC",
          "value": -0.5608118649508453
         },
         {
          "param": "b_GC",
          "value": -0.6067869114733382
         },
         {
          "param": "b_GC",
          "value": -0.7442101858869656
         },
         {
          "param": "b_GC",
          "value": -0.6057358626246112
         },
         {
          "param": "b_GC",
          "value": -0.7368158038767322
         },
         {
          "param": "b_GC",
          "value": -0.5759015471699377
         },
         {
          "param": "b_GC",
          "value": -0.5987347124540822
         },
         {
          "param": "b_GC",
          "value": -0.754665795022379
         },
         {
          "param": "b_GC",
          "value": -0.5669209069243578
         },
         {
          "param": "b_GC",
          "value": -0.8932383431171662
         },
         {
          "param": "b_GC",
          "value": -0.7441588154350935
         },
         {
          "param": "b_GC",
          "value": -0.8077745387308908
         },
         {
          "param": "b_GC",
          "value": -0.7366536047524851
         },
         {
          "param": "b_GC",
          "value": -0.7184620600705683
         },
         {
          "param": "b_GC",
          "value": -0.6314474384461051
         },
         {
          "param": "b_GC",
          "value": -0.8066431882233888
         },
         {
          "param": "b_GC",
          "value": -0.6192173286598823
         },
         {
          "param": "b_GC",
          "value": -0.6908109296812148
         },
         {
          "param": "b_GC",
          "value": -0.7323283267289924
         },
         {
          "param": "b_GC",
          "value": -0.5094746495739965
         },
         {
          "param": "b_GC",
          "value": -0.6509503035438656
         },
         {
          "param": "b_GC",
          "value": -0.8437250565821426
         },
         {
          "param": "b_GC",
          "value": -0.902108944761685
         },
         {
          "param": "b_GC",
          "value": -0.8036038508359218
         },
         {
          "param": "b_GC",
          "value": -0.7201014038868528
         },
         {
          "param": "b_GC",
          "value": -0.6304650539057166
         },
         {
          "param": "b_GC",
          "value": -0.9718762083467753
         },
         {
          "param": "b_GC",
          "value": -0.6498690412489148
         },
         {
          "param": "b_GC",
          "value": -0.6721272517556812
         },
         {
          "param": "b_GC",
          "value": -0.7703400661071529
         },
         {
          "param": "b_GC",
          "value": -0.4799854717983429
         },
         {
          "param": "b_GC",
          "value": -0.701835233284836
         },
         {
          "param": "b_GC",
          "value": -0.58816101383439
         },
         {
          "param": "b_GC",
          "value": -0.6728961258075548
         },
         {
          "param": "b_GC",
          "value": -0.4660018448802311
         },
         {
          "param": "b_GC",
          "value": -0.6627920685165747
         },
         {
          "param": "b_GC",
          "value": -0.6976296731547031
         },
         {
          "param": "b_GC",
          "value": -0.6728961258075548
         },
         {
          "param": "b_GC",
          "value": -0.4093740498329711
         },
         {
          "param": "b_GC",
          "value": -0.7311423735900954
         },
         {
          "param": "b_GC",
          "value": -0.8423157445445277
         },
         {
          "param": "b_GC",
          "value": -0.5397326395819219
         },
         {
          "param": "b_GC",
          "value": -0.6406186937907925
         },
         {
          "param": "b_GC",
          "value": -0.6701143425568359
         },
         {
          "param": "b_GC",
          "value": -0.64008900657409
         },
         {
          "param": "b_GC",
          "value": -0.6065905029376709
         },
         {
          "param": "b_GC",
          "value": -0.7920418630855673
         },
         {
          "param": "b_GC",
          "value": -0.8067000182955254
         },
         {
          "param": "b_GC",
          "value": -0.5581487170079654
         },
         {
          "param": "b_GC",
          "value": -0.6402647328605996
         },
         {
          "param": "b_GC",
          "value": -0.7079012710305066
         },
         {
          "param": "b_GC",
          "value": -0.46517159158554217
         },
         {
          "param": "b_GC",
          "value": -0.6136658563186312
         },
         {
          "param": "b_GC",
          "value": -0.7802671308962474
         },
         {
          "param": "b_GC",
          "value": -0.6092506567990631
         },
         {
          "param": "b_GC",
          "value": -0.8345087497921259
         },
         {
          "param": "b_GC",
          "value": -0.5414407244171178
         },
         {
          "param": "b_GC",
          "value": -0.6160841390875911
         },
         {
          "param": "b_GC",
          "value": -0.5018728196353481
         },
         {
          "param": "b_GC",
          "value": -0.6345732485947613
         },
         {
          "param": "b_GC",
          "value": -0.8731318598297405
         },
         {
          "param": "b_GC",
          "value": -0.6221942251837977
         },
         {
          "param": "b_GC",
          "value": -0.8528070024472262
         },
         {
          "param": "b_GC",
          "value": -0.7689069702652148
         },
         {
          "param": "b_GC",
          "value": -0.5224252004949157
         },
         {
          "param": "b_GC",
          "value": -0.6343212401819845
         },
         {
          "param": "b_GC",
          "value": -0.6090117803553006
         },
         {
          "param": "b_GC",
          "value": -0.7111108953873584
         },
         {
          "param": "b_GC",
          "value": -0.6453304979102458
         },
         {
          "param": "b_GC",
          "value": -0.5871551050469912
         },
         {
          "param": "b_GC",
          "value": -0.7504645272853439
         },
         {
          "param": "b_GC",
          "value": -0.6989539988842044
         },
         {
          "param": "b_GC",
          "value": -0.7158456169733916
         },
         {
          "param": "b_GC",
          "value": -0.7543275527154771
         },
         {
          "param": "b_GC",
          "value": -0.593405280129218
         },
         {
          "param": "b_GC",
          "value": -0.7646252122574978
         },
         {
          "param": "b_GC",
          "value": -0.6308765922674728
         },
         {
          "param": "b_GC",
          "value": -0.6692725390006459
         },
         {
          "param": "b_GC",
          "value": -0.593405280129218
         },
         {
          "param": "b_GC",
          "value": -0.687790227820026
         },
         {
          "param": "b_GC",
          "value": -0.7282502481046901
         },
         {
          "param": "b_GC",
          "value": -0.5983369744116442
         },
         {
          "param": "b_GC",
          "value": -0.8081252432087155
         },
         {
          "param": "b_GC",
          "value": -0.7039852987900566
         },
         {
          "param": "b_GC",
          "value": -0.6728425356479527
         },
         {
          "param": "b_GC",
          "value": -0.8878939457432246
         },
         {
          "param": "b_GC",
          "value": -0.7032457747997711
         },
         {
          "param": "b_GC",
          "value": -0.6933359920702513
         },
         {
          "param": "b_GC",
          "value": -0.7240075840095189
         },
         {
          "param": "b_GC",
          "value": -0.6135168384868275
         },
         {
          "param": "b_GC",
          "value": -0.7626371304518713
         },
         {
          "param": "b_GC",
          "value": -0.6493417128855926
         },
         {
          "param": "b_GC",
          "value": -0.5900047295458349
         },
         {
          "param": "b_GC",
          "value": -0.5785823541425963
         },
         {
          "param": "b_GC",
          "value": -0.5923395077709204
         },
         {
          "param": "b_GC",
          "value": -0.5576236428101748
         },
         {
          "param": "b_GC",
          "value": -0.7355017162600398
         },
         {
          "param": "b_GC",
          "value": -0.6190068378261706
         },
         {
          "param": "b_GC",
          "value": -0.6674976352265737
         },
         {
          "param": "b_GC",
          "value": -0.6565673535705671
         },
         {
          "param": "b_GC",
          "value": -0.7708922280103816
         },
         {
          "param": "b_GC",
          "value": -0.7627054265193991
         },
         {
          "param": "b_GC",
          "value": -0.6012163142830097
         },
         {
          "param": "b_GC",
          "value": -0.567566383773637
         },
         {
          "param": "b_GC",
          "value": -0.764918450174747
         },
         {
          "param": "b_GC",
          "value": -0.67320771740028
         },
         {
          "param": "b_GC",
          "value": -0.5150138537889513
         },
         {
          "param": "b_GC",
          "value": -0.6168284021898057
         },
         {
          "param": "b_GC",
          "value": -0.695450685384477
         },
         {
          "param": "b_GC",
          "value": -0.8136221808224684
         },
         {
          "param": "b_GC",
          "value": -0.48562381362798035
         },
         {
          "param": "b_GC",
          "value": -0.7398776260139007
         },
         {
          "param": "b_GC",
          "value": -0.7305498325814842
         },
         {
          "param": "b_GC",
          "value": -0.790742803014565
         },
         {
          "param": "b_GC",
          "value": -0.6343979843483097
         },
         {
          "param": "b_GC",
          "value": -0.7556322687850696
         },
         {
          "param": "b_GC",
          "value": -0.4795046224626309
         },
         {
          "param": "b_GC",
          "value": -0.5681743171141984
         },
         {
          "param": "b_GC",
          "value": -0.6290393914781981
         },
         {
          "param": "b_GC",
          "value": -0.8124809352829311
         },
         {
          "param": "b_GC",
          "value": -0.5932172320347704
         },
         {
          "param": "b_GC",
          "value": -0.7773330568936014
         },
         {
          "param": "b_GC",
          "value": -0.6855274547041985
         },
         {
          "param": "b_GC",
          "value": -0.7261765542861991
         },
         {
          "param": "b_GC",
          "value": -0.7881096723652237
         },
         {
          "param": "b_GC",
          "value": -0.5069806461658373
         },
         {
          "param": "b_GC",
          "value": -0.6932334037599024
         },
         {
          "param": "b_GC",
          "value": -0.5476325252798255
         },
         {
          "param": "b_GC",
          "value": -0.6624660864602548
         },
         {
          "param": "b_GC",
          "value": -0.6761031200209541
         },
         {
          "param": "b_GC",
          "value": -0.5096980278983237
         },
         {
          "param": "b_GC",
          "value": -0.6723794437271658
         },
         {
          "param": "b_GC",
          "value": -0.8003190453993577
         },
         {
          "param": "b_GC",
          "value": -0.27943984089639906
         },
         {
          "param": "b_GC",
          "value": -0.790793802647347
         },
         {
          "param": "b_GC",
          "value": -0.5399146295669526
         },
         {
          "param": "b_GC",
          "value": -0.4869069071790575
         },
         {
          "param": "b_GC",
          "value": -0.9636184009640034
         },
         {
          "param": "b_GC",
          "value": -0.4917844415813769
         },
         {
          "param": "b_GC",
          "value": -0.7884081756662049
         },
         {
          "param": "b_GC",
          "value": -0.7145085165065918
         },
         {
          "param": "b_GC",
          "value": -0.8570895896776731
         },
         {
          "param": "b_GC",
          "value": -0.7728961853147653
         },
         {
          "param": "b_GC",
          "value": -0.7328382345710878
         },
         {
          "param": "b_GC",
          "value": -0.64511847161671
         },
         {
          "param": "b_GC",
          "value": -0.5783520080903295
         },
         {
          "param": "b_GC",
          "value": -0.756289010655932
         },
         {
          "param": "b_GC",
          "value": -0.6265688816851627
         },
         {
          "param": "b_GC",
          "value": -0.7112428578683341
         },
         {
          "param": "b_GC",
          "value": -0.6812381772551299
         },
         {
          "param": "b_GC",
          "value": -0.6453447871477189
         },
         {
          "param": "b_GC",
          "value": -0.7912096024655634
         },
         {
          "param": "b_GC",
          "value": -0.7169785918844154
         },
         {
          "param": "b_GC",
          "value": -0.7135717591119203
         },
         {
          "param": "b_GC",
          "value": -0.7249525168245143
         },
         {
          "param": "b_GC",
          "value": -0.6705403839648721
         },
         {
          "param": "b_GC",
          "value": -0.7602993351655872
         },
         {
          "param": "b_GC",
          "value": -0.8811645141838633
         },
         {
          "param": "b_GC",
          "value": -0.5722737007495476
         },
         {
          "param": "b_GC",
          "value": -0.6239818582029116
         },
         {
          "param": "b_GC",
          "value": -0.5853493513111192
         },
         {
          "param": "b_GC",
          "value": -0.6376740349581554
         },
         {
          "param": "b_GC",
          "value": -0.5833021493222214
         },
         {
          "param": "b_GC",
          "value": -0.5932962641709536
         },
         {
          "param": "b_GC",
          "value": -0.7153061666075732
         },
         {
          "param": "b_GC",
          "value": -0.6419407192832286
         },
         {
          "param": "b_GC",
          "value": -0.6089947227290204
         },
         {
          "param": "b_GC",
          "value": -0.7249527294070325
         },
         {
          "param": "b_GC",
          "value": -0.6096813551519581
         },
         {
          "param": "b_GC",
          "value": -0.5858876869646861
         },
         {
          "param": "b_GC",
          "value": -0.6414611958909756
         },
         {
          "param": "b_GC",
          "value": -0.6682995900888683
         },
         {
          "param": "b_GC",
          "value": -0.58871273355981
         },
         {
          "param": "b_GC",
          "value": -0.4535425388809088
         },
         {
          "param": "b_GC",
          "value": -0.6570765158165621
         },
         {
          "param": "b_GC",
          "value": -0.5545531446164826
         },
         {
          "param": "b_GC",
          "value": -0.7992220948359354
         },
         {
          "param": "b_GC",
          "value": -0.4765953609206145
         },
         {
          "param": "b_GC",
          "value": -0.6625708649016567
         },
         {
          "param": "b_GC",
          "value": -0.6087701043377067
         },
         {
          "param": "b_GC",
          "value": -0.8686616920979922
         },
         {
          "param": "b_GC",
          "value": -0.920820251482938
         },
         {
          "param": "b_GC",
          "value": -0.679289251592384
         },
         {
          "param": "b_GC",
          "value": -0.6819540235500612
         },
         {
          "param": "b_GC",
          "value": -0.7448700171838347
         },
         {
          "param": "b_GC",
          "value": -0.8164353433878196
         },
         {
          "param": "b_GC",
          "value": -0.7393774031740666
         },
         {
          "param": "b_GC",
          "value": -0.8245664090413645
         },
         {
          "param": "b_GC",
          "value": -0.7665201651148221
         },
         {
          "param": "b_GC",
          "value": -0.44769606556488656
         },
         {
          "param": "b_GC",
          "value": -0.7123502004227383
         },
         {
          "param": "b_GC",
          "value": -0.6287909196615613
         },
         {
          "param": "b_GC",
          "value": -0.6588536092367946
         },
         {
          "param": "b_GC",
          "value": -0.5684128182197682
         },
         {
          "param": "b_GC",
          "value": -0.7674345680677197
         },
         {
          "param": "b_GC",
          "value": -0.6122027961674811
         },
         {
          "param": "b_GC",
          "value": -0.7074499719866707
         },
         {
          "param": "b_GC",
          "value": -0.760280948062268
         },
         {
          "param": "b_GC",
          "value": -0.7128163049890146
         },
         {
          "param": "b_GC",
          "value": -0.7003881612085783
         },
         {
          "param": "b_GC",
          "value": -0.6861816790023576
         },
         {
          "param": "b_GC",
          "value": -0.4765908695881225
         },
         {
          "param": "b_GC",
          "value": -0.7126726801986178
         },
         {
          "param": "b_GC",
          "value": -0.6959161948208816
         },
         {
          "param": "b_GC",
          "value": -0.5979528818355472
         },
         {
          "param": "b_GC",
          "value": -0.5064954091607705
         },
         {
          "param": "b_GC",
          "value": -0.7965917791243468
         },
         {
          "param": "b_GC",
          "value": -0.8763490385543065
         },
         {
          "param": "b_GC",
          "value": -0.676416195320019
         },
         {
          "param": "b_GC",
          "value": -0.6397920604257008
         },
         {
          "param": "b_GC",
          "value": -0.7964428331868301
         },
         {
          "param": "b_GC",
          "value": -0.5730245097017512
         },
         {
          "param": "b_GC",
          "value": -0.757301528621692
         },
         {
          "param": "b_GC",
          "value": -0.35995185512812095
         },
         {
          "param": "b_GC",
          "value": -0.6385219345671551
         },
         {
          "param": "b_GC",
          "value": -0.6258856017754164
         },
         {
          "param": "b_GC",
          "value": -0.9023249181984766
         },
         {
          "param": "b_GC",
          "value": -0.8587262803096651
         },
         {
          "param": "b_GC",
          "value": -0.6681973363070794
         },
         {
          "param": "b_GC",
          "value": -0.9547440000680023
         },
         {
          "param": "b_GC",
          "value": -0.6089063007463894
         },
         {
          "param": "b_GC",
          "value": -0.702671531112838
         },
         {
          "param": "b_GC",
          "value": -0.38580497888220505
         },
         {
          "param": "b_GC",
          "value": -0.9752646504875117
         },
         {
          "param": "b_GC",
          "value": -0.6988545619116113
         },
         {
          "param": "b_GC",
          "value": -0.4933947800341575
         },
         {
          "param": "b_GC",
          "value": -0.5253548847835134
         },
         {
          "param": "b_GC",
          "value": -0.6547256061532027
         },
         {
          "param": "b_GC",
          "value": -0.6332943493701885
         },
         {
          "param": "b_GC",
          "value": -0.6828443098246848
         },
         {
          "param": "b_GC",
          "value": -0.6421124251430859
         },
         {
          "param": "b_GC",
          "value": -0.7801186561167545
         },
         {
          "param": "b_GC",
          "value": -0.5906990447346468
         },
         {
          "param": "b_GC",
          "value": -0.6701996190840959
         },
         {
          "param": "b_GC",
          "value": -0.6421124251430859
         },
         {
          "param": "b_GC",
          "value": -0.918296119650956
         },
         {
          "param": "b_GC",
          "value": -0.5459425162757485
         },
         {
          "param": "b_GC",
          "value": -0.7644046160998669
         },
         {
          "param": "b_GC",
          "value": -0.6597245371526044
         },
         {
          "param": "b_GC",
          "value": -0.5498267394072558
         },
         {
          "param": "b_GC",
          "value": -0.7411696684245771
         },
         {
          "param": "b_GC",
          "value": -0.7619182473858772
         },
         {
          "param": "b_GC",
          "value": -0.8746646994950402
         },
         {
          "param": "b_GC",
          "value": -0.5086321737479994
         },
         {
          "param": "b_GC",
          "value": -0.7486143972481116
         },
         {
          "param": "b_GC",
          "value": -0.6768112648850291
         },
         {
          "param": "b_GC",
          "value": -0.6397598283063936
         },
         {
          "param": "b_GC",
          "value": -0.6617846377712717
         },
         {
          "param": "b_GC",
          "value": -0.6924865965707209
         },
         {
          "param": "b_GC",
          "value": -0.7329660289717301
         },
         {
          "param": "b_GC",
          "value": -0.4676809923654041
         },
         {
          "param": "b_GC",
          "value": -0.5895155507295124
         },
         {
          "param": "b_GC",
          "value": -0.6011922988268064
         },
         {
          "param": "b_GC",
          "value": -0.7117965918494479
         },
         {
          "param": "b_GC",
          "value": -0.5288710064827058
         },
         {
          "param": "b_GC",
          "value": -0.6036971548372575
         },
         {
          "param": "b_GC",
          "value": -0.9695699292337621
         },
         {
          "param": "b_GC",
          "value": -0.6487072252370146
         },
         {
          "param": "b_GC",
          "value": -0.7369940575366992
         },
         {
          "param": "b_GC",
          "value": -0.612669741236865
         },
         {
          "param": "b_GC",
          "value": -0.6988688719182297
         },
         {
          "param": "b_GC",
          "value": -0.5391530229860134
         },
         {
          "param": "b_GC",
          "value": -0.6726682963786
         },
         {
          "param": "b_GC",
          "value": -0.6237674803803279
         },
         {
          "param": "b_GC",
          "value": -0.9685732470612274
         },
         {
          "param": "b_GC",
          "value": -0.8826990577382964
         },
         {
          "param": "b_GC",
          "value": -0.477339247973455
         },
         {
          "param": "b_GC",
          "value": -0.6561346324740918
         },
         {
          "param": "b_GC",
          "value": -0.8178976311598426
         },
         {
          "param": "b_GC",
          "value": -0.6743664467051774
         },
         {
          "param": "b_GC",
          "value": -0.6167281804422491
         },
         {
          "param": "b_GC",
          "value": -0.7650907869915372
         },
         {
          "param": "b_GC",
          "value": -0.5785870417995322
         },
         {
          "param": "b_GC",
          "value": -0.7201649549425522
         },
         {
          "param": "b_GC",
          "value": -0.576322138228801
         },
         {
          "param": "b_GC",
          "value": -0.6487558229353875
         },
         {
          "param": "b_GC",
          "value": -0.7298876001825058
         },
         {
          "param": "b_GC",
          "value": -0.6780705926647704
         },
         {
          "param": "b_GC",
          "value": -0.7057889537868032
         },
         {
          "param": "b_GC",
          "value": -0.6396617286722723
         },
         {
          "param": "b_GC",
          "value": -0.7388308472763463
         },
         {
          "param": "b_GC",
          "value": -0.5117780583458416
         },
         {
          "param": "b_GC",
          "value": -0.7770382335341054
         },
         {
          "param": "b_GC",
          "value": -0.709686620673086
         },
         {
          "param": "b_GC",
          "value": -0.7186264747972598
         },
         {
          "param": "b_GC",
          "value": -0.8470669713249414
         },
         {
          "param": "b_GC",
          "value": -0.8997156327903149
         },
         {
          "param": "b_GC",
          "value": -0.9190897994366587
         },
         {
          "param": "b_GC",
          "value": -0.6197818484430606
         },
         {
          "param": "b_GC",
          "value": -0.5513247307056943
         },
         {
          "param": "b_GC",
          "value": -0.8933906211302801
         },
         {
          "param": "b_GC",
          "value": -1.0050832771447924
         },
         {
          "param": "b_GC",
          "value": -0.6724075956962866
         },
         {
          "param": "b_GC",
          "value": -0.6374113964249414
         },
         {
          "param": "b_GC",
          "value": -0.831376371936627
         },
         {
          "param": "b_GC",
          "value": -0.503353387073581
         },
         {
          "param": "b_GC",
          "value": -0.7790525910957136
         },
         {
          "param": "b_GC",
          "value": -0.6551002971699978
         },
         {
          "param": "b_GC",
          "value": -0.7501779034105446
         },
         {
          "param": "b_GC",
          "value": -0.7393394095616793
         },
         {
          "param": "b_GC",
          "value": -0.7523664769988865
         },
         {
          "param": "b_GC",
          "value": -0.6268441224733382
         },
         {
          "param": "b_GC",
          "value": -0.737280732538166
         },
         {
          "param": "b_GC",
          "value": -0.7930798170857055
         },
         {
          "param": "b_GC",
          "value": -0.7243590772143728
         },
         {
          "param": "b_GC",
          "value": -0.6676127312971298
         },
         {
          "param": "b_GC",
          "value": -0.5711098594735139
         },
         {
          "param": "b_GC",
          "value": -0.8915618760833226
         },
         {
          "param": "b_GC",
          "value": -0.6260867662816308
         },
         {
          "param": "b_GC",
          "value": -0.5799377401100002
         },
         {
          "param": "b_GC",
          "value": -0.6255533125553326
         },
         {
          "param": "b_GC",
          "value": -0.7801277981439613
         },
         {
          "param": "b_GC",
          "value": -0.7346897851703051
         },
         {
          "param": "b_GC",
          "value": -0.7045836793759627
         },
         {
          "param": "b_GC",
          "value": -0.6329098229671294
         },
         {
          "param": "b_GC",
          "value": -0.5510817834317457
         },
         {
          "param": "b_GC",
          "value": -0.7033750020700847
         },
         {
          "param": "b_GC",
          "value": -0.7402961390820529
         },
         {
          "param": "b_GC",
          "value": -0.6736172015652121
         },
         {
          "param": "b_GC",
          "value": -0.49069502003273274
         },
         {
          "param": "b_GC",
          "value": -0.6900635175484288
         },
         {
          "param": "b_GC",
          "value": -0.6460313769590579
         },
         {
          "param": "b_GC",
          "value": -0.7585991574968816
         },
         {
          "param": "b_GC",
          "value": -0.6237050664061212
         },
         {
          "param": "b_GC",
          "value": -0.545512199188084
         },
         {
          "param": "b_GC",
          "value": -0.4844493574343411
         },
         {
          "param": "b_GC",
          "value": -0.5577506739603859
         },
         {
          "param": "b_GC",
          "value": -0.4073613865575062
         },
         {
          "param": "b_GC",
          "value": -0.7875212336601625
         },
         {
          "param": "b_GC",
          "value": -0.8372592116432063
         },
         {
          "param": "b_GC",
          "value": -0.7899887822980445
         },
         {
          "param": "b_GC",
          "value": -0.6109272084680751
         },
         {
          "param": "b_GC",
          "value": -0.7799596978050424
         },
         {
          "param": "b_GC",
          "value": -0.6169041324649552
         },
         {
          "param": "b_GC",
          "value": -0.5751661821326395
         },
         {
          "param": "b_GC",
          "value": -0.5395020893208171
         },
         {
          "param": "b_GC",
          "value": -0.5164812414370936
         },
         {
          "param": "b_GC",
          "value": -0.6284920825382342
         },
         {
          "param": "b_GC",
          "value": -0.6788561824708065
         },
         {
          "param": "b_GC",
          "value": -0.644899079599439
         },
         {
          "param": "b_GC",
          "value": -0.5707335651174686
         },
         {
          "param": "b_GC",
          "value": -0.40177687687833685
         },
         {
          "param": "b_GC",
          "value": -0.61399167179665
         },
         {
          "param": "b_GC",
          "value": -0.5794228280598637
         },
         {
          "param": "b_GC",
          "value": -0.7932194737627167
         },
         {
          "param": "b_GC",
          "value": -0.5738843497278144
         },
         {
          "param": "b_GC",
          "value": -0.5949230426797717
         },
         {
          "param": "b_GC",
          "value": -0.6166819118781245
         },
         {
          "param": "b_GC",
          "value": -0.6412213249159158
         },
         {
          "param": "b_GC",
          "value": -0.539841409049262
         },
         {
          "param": "b_GC",
          "value": -0.6219506661751774
         },
         {
          "param": "b_GC",
          "value": -0.5695290708203569
         },
         {
          "param": "b_GC",
          "value": -0.6113362327544248
         },
         {
          "param": "b_GC",
          "value": -0.6493266491973951
         },
         {
          "param": "b_GC",
          "value": -0.742830151402139
         },
         {
          "param": "b_GC",
          "value": -0.7764964003386177
         },
         {
          "param": "b_GC",
          "value": -0.42953459804710303
         },
         {
          "param": "b_GC",
          "value": -0.6251653438967232
         },
         {
          "param": "b_GC",
          "value": -0.6877222912744234
         },
         {
          "param": "b_GC",
          "value": -0.606770303659294
         },
         {
          "param": "b_GC",
          "value": -0.828444053612244
         },
         {
          "param": "b_GC",
          "value": -0.5179718524327054
         },
         {
          "param": "b_GC",
          "value": -0.7085729458153295
         },
         {
          "param": "b_GC",
          "value": -0.9293320492160351
         },
         {
          "param": "b_GC",
          "value": -0.7377912229206088
         },
         {
          "param": "b_GC",
          "value": -0.787815136659985
         },
         {
          "param": "b_GC",
          "value": -0.7795047160630124
         },
         {
          "param": "b_GC",
          "value": -0.7479916597570326
         },
         {
          "param": "b_GC",
          "value": -0.8126155553146194
         },
         {
          "param": "b_GC",
          "value": -0.571015370116208
         },
         {
          "param": "b_GC",
          "value": -0.7848483455743855
         },
         {
          "param": "b_GC",
          "value": -0.808646101264997
         },
         {
          "param": "b_GC",
          "value": -0.5957334196603135
         },
         {
          "param": "b_GC",
          "value": -0.47308247234242295
         },
         {
          "param": "b_GC",
          "value": -0.8456074764341076
         },
         {
          "param": "b_GC",
          "value": -0.552239769482098
         },
         {
          "param": "b_GC",
          "value": -0.5262611647290207
         },
         {
          "param": "b_GC",
          "value": -0.4555260323099827
         },
         {
          "param": "b_GC",
          "value": -0.5900160898645952
         },
         {
          "param": "b_GC",
          "value": -0.6227409214851325
         },
         {
          "param": "b_GC",
          "value": -0.539574963232437
         },
         {
          "param": "b_GC",
          "value": -0.8857171743834092
         },
         {
          "param": "b_GC",
          "value": -0.6160131507199283
         },
         {
          "param": "b_GC",
          "value": -0.6558568131448991
         },
         {
          "param": "b_GC",
          "value": -0.7453136808396202
         },
         {
          "param": "b_GC",
          "value": -0.5507594149217616
         },
         {
          "param": "b_GC",
          "value": -0.7920857595823508
         },
         {
          "param": "b_GC",
          "value": -0.8539776383341311
         },
         {
          "param": "b_GC",
          "value": -0.5940973598814605
         },
         {
          "param": "b_GC",
          "value": -0.6802956543009471
         },
         {
          "param": "b_GC",
          "value": -0.42313280195485464
         },
         {
          "param": "b_GC",
          "value": -0.6964380843612326
         },
         {
          "param": "b_GC",
          "value": -0.7103372286178933
         },
         {
          "param": "b_GC",
          "value": -0.6419604034926468
         },
         {
          "param": "b_GC",
          "value": -0.6114209802301087
         },
         {
          "param": "b_GC",
          "value": -0.6491760840700433
         },
         {
          "param": "b_GC",
          "value": -0.613243438884454
         },
         {
          "param": "b_GC",
          "value": -0.6385161662630006
         },
         {
          "param": "b_GC",
          "value": -0.6878114223511542
         },
         {
          "param": "b_GC",
          "value": -0.7707971574021787
         },
         {
          "param": "b_GC",
          "value": -0.6505362052620107
         },
         {
          "param": "b_GC",
          "value": -0.6932423207031749
         },
         {
          "param": "b_GC",
          "value": -0.6229810234789872
         },
         {
          "param": "b_GC",
          "value": -0.6240345907819975
         },
         {
          "param": "b_GC",
          "value": -0.6378024019122865
         },
         {
          "param": "b_GC",
          "value": -0.5793388237349978
         },
         {
          "param": "b_GC",
          "value": -0.5620428336581064
         },
         {
          "param": "b_GC",
          "value": -0.7662817432937478
         },
         {
          "param": "b_GC",
          "value": -0.786958834453821
         },
         {
          "param": "b_GC",
          "value": -0.5082453125953579
         },
         {
          "param": "b_GC",
          "value": -0.64577027048892
         },
         {
          "param": "b_GC",
          "value": -0.5292182682871985
         },
         {
          "param": "b_GC",
          "value": -0.5779903110120945
         },
         {
          "param": "b_GC",
          "value": -0.557930730054679
         },
         {
          "param": "b_GC",
          "value": -0.6037156231538281
         },
         {
          "param": "b_GC",
          "value": -0.4950283774741131
         },
         {
          "param": "b_GC",
          "value": -0.8601502971053057
         },
         {
          "param": "b_GC",
          "value": -0.5290616631465844
         },
         {
          "param": "b_GC",
          "value": -0.7253517246883978
         },
         {
          "param": "b_GC",
          "value": -0.5593849866536698
         },
         {
          "param": "b_GC",
          "value": -0.5150915891222008
         },
         {
          "param": "b_GC",
          "value": -0.877219264536278
         },
         {
          "param": "b_GC",
          "value": -0.5888883377922566
         },
         {
          "param": "b_GC",
          "value": -0.6094901726136202
         },
         {
          "param": "b_GC",
          "value": -0.7870445514494224
         },
         {
          "param": "b_GC",
          "value": -0.9484457497008457
         },
         {
          "param": "b_GC",
          "value": -0.708364298007816
         },
         {
          "param": "b_GC",
          "value": -0.6862176750278302
         },
         {
          "param": "b_GC",
          "value": -0.688488545970854
         },
         {
          "param": "b_GC",
          "value": -0.8763134849091023
         },
         {
          "param": "b_GC",
          "value": -0.709766364688883
         },
         {
          "param": "b_GC",
          "value": -0.5638916041699602
         },
         {
          "param": "b_GC",
          "value": -0.5204216692030896
         },
         {
          "param": "b_GC",
          "value": -0.7581651700129672
         },
         {
          "param": "b_GC",
          "value": -0.6908468993356797
         },
         {
          "param": "b_GC",
          "value": -0.7683773285512143
         },
         {
          "param": "b_GC",
          "value": -0.5819858892534913
         },
         {
          "param": "b_GC",
          "value": -0.5595929881878581
         },
         {
          "param": "b_GC",
          "value": -0.601934664131764
         },
         {
          "param": "b_GC",
          "value": -0.5893227838860194
         },
         {
          "param": "b_GC",
          "value": -0.7906075685518381
         },
         {
          "param": "b_GC",
          "value": -0.6802992731965414
         },
         {
          "param": "b_GC",
          "value": -0.6797344916359226
         },
         {
          "param": "b_GC",
          "value": -0.6977039921940443
         },
         {
          "param": "b_GC",
          "value": -0.7439473666492724
         },
         {
          "param": "b_GC",
          "value": -0.7255248056558165
         },
         {
          "param": "b_GC",
          "value": -0.804419783464323
         },
         {
          "param": "b_GC",
          "value": -0.6650296020904517
         },
         {
          "param": "b_GC",
          "value": -0.7482685468442694
         },
         {
          "param": "b_GC",
          "value": -0.7255248056558165
         },
         {
          "param": "b_GC",
          "value": -0.548064189466872
         },
         {
          "param": "b_GC",
          "value": -0.7184173767703338
         },
         {
          "param": "b_GC",
          "value": -0.7718654023885081
         },
         {
          "param": "b_GC",
          "value": -0.578362881944019
         },
         {
          "param": "b_GC",
          "value": -0.5731635546173844
         },
         {
          "param": "b_GC",
          "value": -0.620329313899096
         },
         {
          "param": "b_GC",
          "value": -0.7154549687679703
         },
         {
          "param": "b_GC",
          "value": -0.5871979400922543
         },
         {
          "param": "b_GC",
          "value": -0.7131435299822159
         },
         {
          "param": "b_GC",
          "value": -0.620329313899096
         },
         {
          "param": "b_GC",
          "value": -0.519361070407247
         },
         {
          "param": "b_GC",
          "value": -0.5949162799850828
         },
         {
          "param": "b_GC",
          "value": -0.7052212761341383
         },
         {
          "param": "b_GC",
          "value": -0.7252863331644201
         },
         {
          "param": "b_GC",
          "value": -0.7558857606675502
         },
         {
          "param": "b_GC",
          "value": -0.48726202291000176
         },
         {
          "param": "b_GC",
          "value": -0.5580620777186305
         },
         {
          "param": "b_GC",
          "value": -0.7410379148626123
         },
         {
          "param": "b_GC",
          "value": -0.7618872010310208
         },
         {
          "param": "b_GC",
          "value": -0.637611584883998
         },
         {
          "param": "b_GC",
          "value": -0.3874507291643084
         },
         {
          "param": "b_GC",
          "value": -0.6401382117423927
         },
         {
          "param": "b_GC",
          "value": -0.821891648407824
         },
         {
          "param": "b_GC",
          "value": -0.6332255822125376
         },
         {
          "param": "b_GC",
          "value": -0.5474739695357178
         },
         {
          "param": "b_GC",
          "value": -0.7965482348769215
         },
         {
          "param": "b_GC",
          "value": -0.6755013514207829
         },
         {
          "param": "b_GC",
          "value": -0.5922611737334066
         },
         {
          "param": "b_GC",
          "value": -0.6375404641131205
         },
         {
          "param": "b_GC",
          "value": -0.7151971925757028
         },
         {
          "param": "b_GC",
          "value": -0.767888062715723
         },
         {
          "param": "b_GC",
          "value": -0.6736522031776294
         },
         {
          "param": "b_GC",
          "value": -0.7367336988557405
         },
         {
          "param": "b_GC",
          "value": -0.7086875257265391
         },
         {
          "param": "b_GC",
          "value": -0.5710885902432554
         },
         {
          "param": "b_GC",
          "value": -0.5751986194339277
         },
         {
          "param": "b_GC",
          "value": -0.6872885607319632
         },
         {
          "param": "b_GC",
          "value": -0.8223271789619516
         },
         {
          "param": "b_GC",
          "value": -0.5405536415639031
         },
         {
          "param": "b_GC",
          "value": -0.6864514336076841
         },
         {
          "param": "b_GC",
          "value": -0.6227345636156948
         },
         {
          "param": "b_GC",
          "value": -0.7547333646384747
         },
         {
          "param": "b_GC",
          "value": -0.5515651876655849
         },
         {
          "param": "b_GC",
          "value": -0.770428397157345
         },
         {
          "param": "b_GC",
          "value": -0.7951078139392261
         },
         {
          "param": "b_GC",
          "value": -0.6381997199141191
         },
         {
          "param": "b_GC",
          "value": -0.7340392682196835
         },
         {
          "param": "b_GC",
          "value": -0.637847312252457
         },
         {
          "param": "b_GC",
          "value": -0.671169445024045
         },
         {
          "param": "b_GC",
          "value": -0.6539151091450466
         },
         {
          "param": "b_GC",
          "value": -0.6158619243161184
         },
         {
          "param": "b_GC",
          "value": -0.6116176611827845
         },
         {
          "param": "b_GC",
          "value": -0.5580524465387255
         },
         {
          "param": "b_GC",
          "value": -0.3411189006232662
         },
         {
          "param": "b_GC",
          "value": -0.6330199787525956
         },
         {
          "param": "b_GC",
          "value": -0.6712574111880018
         },
         {
          "param": "b_GC",
          "value": -0.7287668368054607
         },
         {
          "param": "b_GC",
          "value": -0.5948946128352242
         },
         {
          "param": "b_GC",
          "value": -0.7343700957087891
         },
         {
          "param": "b_GC",
          "value": -0.6944870989095411
         },
         {
          "param": "b_GC",
          "value": -0.598974852015447
         },
         {
          "param": "b_GC",
          "value": -0.8114315033350077
         },
         {
          "param": "b_GC",
          "value": -0.6834239558056083
         },
         {
          "param": "b_GC",
          "value": -0.7822041320098627
         },
         {
          "param": "b_GC",
          "value": -0.5886884174970342
         },
         {
          "param": "b_GC",
          "value": -0.692447540527717
         },
         {
          "param": "b_GC",
          "value": -0.7420248890964511
         },
         {
          "param": "b_GC",
          "value": -0.653334882257954
         },
         {
          "param": "b_GC",
          "value": -0.7132343793502103
         },
         {
          "param": "b_GC",
          "value": -0.5960548402980255
         },
         {
          "param": "b_GC",
          "value": -0.766727516043928
         },
         {
          "param": "b_GC",
          "value": -0.6327353696720653
         },
         {
          "param": "b_GC",
          "value": -0.4351828696253728
         },
         {
          "param": "b_GC",
          "value": -0.6147872036971532
         },
         {
          "param": "b_GC",
          "value": -0.5894188185559335
         },
         {
          "param": "b_GC",
          "value": -0.6199168594357838
         },
         {
          "param": "b_GC",
          "value": -0.825113140334032
         },
         {
          "param": "b_GC",
          "value": -0.7203311556617835
         },
         {
          "param": "b_GC",
          "value": -0.5038454743199288
         },
         {
          "param": "b_GC",
          "value": -0.626854301034047
         },
         {
          "param": "b_GC",
          "value": -0.6694511515302464
         },
         {
          "param": "b_GC",
          "value": -0.5607022234272707
         },
         {
          "param": "b_GC",
          "value": -0.517982659944195
         },
         {
          "param": "b_GC",
          "value": -0.7656946442327139
         },
         {
          "param": "b_GC",
          "value": -0.7587644784159582
         },
         {
          "param": "b_GC",
          "value": -0.5029607335754517
         },
         {
          "param": "b_GC",
          "value": -0.5286681985365718
         },
         {
          "param": "b_GC",
          "value": -0.5829669495419642
         },
         {
          "param": "b_GC",
          "value": -0.2700955492635472
         },
         {
          "param": "b_GC",
          "value": -0.4464577892888942
         },
         {
          "param": "b_GC",
          "value": -0.6074757324764111
         },
         {
          "param": "b_GC",
          "value": -0.6156417467770966
         },
         {
          "param": "b_GC",
          "value": -0.7566763476002223
         },
         {
          "param": "b_GC",
          "value": -0.59153306727203
         },
         {
          "param": "b_GC",
          "value": -0.5538212600795309
         },
         {
          "param": "b_GC",
          "value": -0.754859086331107
         },
         {
          "param": "b_GC",
          "value": -0.6800681219322389
         },
         {
          "param": "b_GC",
          "value": -0.6233868493040116
         },
         {
          "param": "b_GC",
          "value": -0.6428265139431195
         },
         {
          "param": "b_GC",
          "value": -0.5528641728002893
         },
         {
          "param": "b_GC",
          "value": -0.7078143959534177
         },
         {
          "param": "b_GC",
          "value": -0.725359963135386
         },
         {
          "param": "b_GC",
          "value": -0.8012470498927262
         },
         {
          "param": "b_GC",
          "value": -0.5400450044668444
         },
         {
          "param": "b_GC",
          "value": -0.5581730028106875
         },
         {
          "param": "b_GC",
          "value": -0.7622106975483322
         },
         {
          "param": "b_GC",
          "value": -0.5545300170992897
         },
         {
          "param": "b_GC",
          "value": -0.7102376559921225
         },
         {
          "param": "b_GC",
          "value": -0.65113685308182
         },
         {
          "param": "b_GC",
          "value": -0.742091724325007
         },
         {
          "param": "b_GC",
          "value": -0.5217933998662356
         },
         {
          "param": "b_GC",
          "value": -0.4657077460460497
         },
         {
          "param": "b_GC",
          "value": -0.5778512843523846
         },
         {
          "param": "b_GC",
          "value": -0.7056070370798477
         },
         {
          "param": "b_GC",
          "value": -0.6773982453401027
         },
         {
          "param": "b_GC",
          "value": -0.5191995247013026
         },
         {
          "param": "b_GC",
          "value": -0.7897799232863514
         },
         {
          "param": "b_GC",
          "value": -0.7079090886406741
         },
         {
          "param": "b_GC",
          "value": -0.7276418887357453
         },
         {
          "param": "b_GC",
          "value": -0.6672190334500825
         },
         {
          "param": "b_GC",
          "value": -0.8068209669251639
         },
         {
          "param": "b_GC",
          "value": -0.7078466591450785
         },
         {
          "param": "b_GC",
          "value": -0.6763669825793167
         },
         {
          "param": "b_GC",
          "value": -0.684404239913033
         },
         {
          "param": "b_GC",
          "value": -0.5280810910202782
         },
         {
          "param": "b_GC",
          "value": -0.8606419343444598
         },
         {
          "param": "b_GC",
          "value": -0.6439153824503614
         },
         {
          "param": "b_GC",
          "value": -0.6831646014249229
         },
         {
          "param": "b_GC",
          "value": -0.7263793010915157
         },
         {
          "param": "b_GC",
          "value": -0.7344822247586111
         },
         {
          "param": "b_GC",
          "value": -0.8313055559682672
         },
         {
          "param": "b_GC",
          "value": -0.5572133520837655
         },
         {
          "param": "b_GC",
          "value": -0.5832231709460491
         },
         {
          "param": "b_GC",
          "value": -0.5991625631231464
         },
         {
          "param": "b_GC",
          "value": -0.6418296889083845
         },
         {
          "param": "b_GC",
          "value": -0.5673727824978891
         },
         {
          "param": "b_GC",
          "value": -0.5029789708573293
         },
         {
          "param": "b_GC",
          "value": -0.6129329686713586
         },
         {
          "param": "b_GC",
          "value": -0.732106327496274
         },
         {
          "param": "b_GC",
          "value": -0.7190239732631212
         },
         {
          "param": "b_GC",
          "value": -0.6882291680173457
         },
         {
          "param": "b_GC",
          "value": -0.6546734227672002
         },
         {
          "param": "b_GC",
          "value": -0.5344527389567163
         },
         {
          "param": "b_GC",
          "value": -0.5834939805580175
         },
         {
          "param": "b_GC",
          "value": -0.6013244097562352
         },
         {
          "param": "b_GC",
          "value": -0.6546734227672002
         },
         {
          "param": "b_GC",
          "value": -0.7402040292450656
         },
         {
          "param": "b_GC",
          "value": -0.5654981880725081
         },
         {
          "param": "b_GC",
          "value": -0.6615057664265372
         },
         {
          "param": "b_GC",
          "value": -0.7403933564899823
         },
         {
          "param": "b_GC",
          "value": -0.6041329304370157
         },
         {
          "param": "b_GC",
          "value": -0.6081846069852538
         },
         {
          "param": "b_GC",
          "value": -0.5977152746310839
         },
         {
          "param": "b_GC",
          "value": -0.6671923976331677
         },
         {
          "param": "b_GC",
          "value": -0.5985147198118137
         },
         {
          "param": "b_GC",
          "value": -0.7590309044532066
         },
         {
          "param": "b_GC",
          "value": -0.654707399588951
         },
         {
          "param": "b_GC",
          "value": -0.3420203996503296
         },
         {
          "param": "b_GC",
          "value": -0.9724673779229214
         },
         {
          "param": "b_GC",
          "value": -0.6930576896696646
         },
         {
          "param": "b_GC",
          "value": -0.67929974514753
         },
         {
          "param": "b_GC",
          "value": -0.5978955039871812
         },
         {
          "param": "b_GC",
          "value": -0.6811292515740004
         },
         {
          "param": "b_GC",
          "value": -0.7053950109790198
         },
         {
          "param": "b_GC",
          "value": -0.637830249873208
         },
         {
          "param": "b_GC",
          "value": -0.554486570502521
         },
         {
          "param": "b_GC",
          "value": -0.6398844379685775
         },
         {
          "param": "b_GC",
          "value": -0.5293337584947048
         },
         {
          "param": "b_GC",
          "value": -0.7973732118553722
         },
         {
          "param": "b_GC",
          "value": -0.7036455432803889
         },
         {
          "param": "b_GC",
          "value": -0.7723476221756416
         },
         {
          "param": "b_GC",
          "value": -0.5748127088575697
         },
         {
          "param": "b_GC",
          "value": -0.5530785042532943
         },
         {
          "param": "b_GC",
          "value": -0.6178623526317181
         },
         {
          "param": "b_GC",
          "value": -0.516448917995743
         },
         {
          "param": "b_GC",
          "value": -0.7018666543794777
         },
         {
          "param": "b_GC",
          "value": -0.6085879845007092
         },
         {
          "param": "b_GC",
          "value": -0.6915056417135532
         },
         {
          "param": "b_GC",
          "value": -0.5818121854310833
         },
         {
          "param": "b_GC",
          "value": -0.8118619838742875
         },
         {
          "param": "b_GC",
          "value": -0.7449596424917128
         },
         {
          "param": "b_GC",
          "value": -0.7911390487326633
         },
         {
          "param": "b_GC",
          "value": -0.602614544291798
         },
         {
          "param": "b_GC",
          "value": -0.6043833232154487
         },
         {
          "param": "b_GC",
          "value": -0.671865019447104
         },
         {
          "param": "b_GC",
          "value": -0.8159413643330745
         },
         {
          "param": "b_GC",
          "value": -0.588285766065083
         },
         {
          "param": "b_GC",
          "value": -0.7287021500252043
         },
         {
          "param": "b_GC",
          "value": -0.611786657176792
         },
         {
          "param": "b_GC",
          "value": -0.7964474248379817
         },
         {
          "param": "b_GC",
          "value": -0.7332210901350225
         },
         {
          "param": "b_GC",
          "value": -0.7303491930976923
         },
         {
          "param": "b_GC",
          "value": -0.751969705945493
         },
         {
          "param": "b_GC",
          "value": -0.5589585321974072
         },
         {
          "param": "b_GC",
          "value": -0.8311478955117899
         },
         {
          "param": "b_GC",
          "value": -0.6560167312118402
         },
         {
          "param": "b_GC",
          "value": -0.7599732260054666
         },
         {
          "param": "b_GC",
          "value": -0.7351581979639545
         },
         {
          "param": "b_GC",
          "value": -0.6156225508191567
         },
         {
          "param": "b_GC",
          "value": -0.6875245652351576
         },
         {
          "param": "b_GC",
          "value": -0.6574968343983913
         },
         {
          "param": "b_GC",
          "value": -0.748848208662253
         },
         {
          "param": "b_GC",
          "value": -0.6544586685324116
         },
         {
          "param": "b_GC",
          "value": -0.691630133127062
         },
         {
          "param": "b_GC",
          "value": -0.521641808484977
         },
         {
          "param": "b_GC",
          "value": -0.6204763918393487
         },
         {
          "param": "b_GC",
          "value": -0.73212738095238
         },
         {
          "param": "b_GC",
          "value": -0.6192172956359453
         },
         {
          "param": "b_GC",
          "value": -0.8811875469525865
         },
         {
          "param": "b_GC",
          "value": -0.612205699979353
         },
         {
          "param": "b_GC",
          "value": -0.815997905024224
         },
         {
          "param": "b_GC",
          "value": -0.7657193867935045
         },
         {
          "param": "b_GC",
          "value": -0.49473425977102276
         },
         {
          "param": "b_GC",
          "value": -0.6548660619432803
         },
         {
          "param": "b_GC",
          "value": -0.6310519677658972
         },
         {
          "param": "b_GC",
          "value": -0.7294018344668601
         },
         {
          "param": "b_GC",
          "value": -0.4063533711140201
         },
         {
          "param": "b_GC",
          "value": -0.6161726685861205
         },
         {
          "param": "b_GC",
          "value": -0.6838012358473475
         },
         {
          "param": "b_GC",
          "value": -0.6411949944496144
         },
         {
          "param": "b_GC",
          "value": -0.3980551428414368
         },
         {
          "param": "b_GC",
          "value": -0.5873082919237297
         },
         {
          "param": "b_GC",
          "value": -0.6315773684401607
         },
         {
          "param": "b_GC",
          "value": -0.7292952662516458
         },
         {
          "param": "b_GC",
          "value": -0.5130653074272277
         },
         {
          "param": "b_GC",
          "value": -0.6879557309670888
         },
         {
          "param": "b_GC",
          "value": -0.5677162033342843
         },
         {
          "param": "b_GC",
          "value": -0.7699994107473492
         },
         {
          "param": "b_GC",
          "value": -0.7267384013921618
         },
         {
          "param": "b_GC",
          "value": -0.6184019086969126
         },
         {
          "param": "b_GC",
          "value": -0.8455478286127714
         },
         {
          "param": "b_GC",
          "value": -0.6236217864076383
         },
         {
          "param": "b_GC",
          "value": -0.5976405211611655
         },
         {
          "param": "b_GC",
          "value": -0.6722354237776237
         },
         {
          "param": "b_GC",
          "value": -0.804408817896409
         },
         {
          "param": "b_GC",
          "value": -0.6361035448477403
         },
         {
          "param": "b_GC",
          "value": -0.7066222833618874
         },
         {
          "param": "b_GC",
          "value": -0.6653608919816938
         },
         {
          "param": "b_GC",
          "value": -0.8218737695474512
         },
         {
          "param": "b_GC",
          "value": -0.8335623614429598
         },
         {
          "param": "b_GC",
          "value": -0.8176744284678144
         },
         {
          "param": "b_GC",
          "value": -0.6653608919816938
         },
         {
          "param": "b_GC",
          "value": -0.752565262996713
         },
         {
          "param": "b_GC",
          "value": -0.7192179205350046
         },
         {
          "param": "b_GC",
          "value": -0.5217211277686983
         },
         {
          "param": "b_GC",
          "value": -0.7383370168680925
         },
         {
          "param": "b_GC",
          "value": -0.7518105954821589
         },
         {
          "param": "b_GC",
          "value": -0.5998819048539623
         },
         {
          "param": "b_GC",
          "value": -0.6678528951477569
         },
         {
          "param": "b_GC",
          "value": -0.6305178475641113
         },
         {
          "param": "b_GC",
          "value": -0.6435100070362307
         },
         {
          "param": "b_GC",
          "value": -0.6215259534529062
         },
         {
          "param": "b_GC",
          "value": -0.4611770768682946
         },
         {
          "param": "b_GC",
          "value": -0.5433583087726997
         },
         {
          "param": "b_GC",
          "value": -0.510627565553899
         },
         {
          "param": "b_GC",
          "value": -0.7827337171391139
         },
         {
          "param": "b_GC",
          "value": -0.5195838531528704
         },
         {
          "param": "b_GC",
          "value": -0.6286623026564128
         },
         {
          "param": "b_GC",
          "value": -0.9118752794024276
         },
         {
          "param": "b_GC",
          "value": -0.6839991614538349
         },
         {
          "param": "b_GC",
          "value": -0.7546796125939752
         },
         {
          "param": "b_GC",
          "value": -0.7248891425701781
         },
         {
          "param": "b_GC",
          "value": -0.6789782858608754
         },
         {
          "param": "b_GC",
          "value": -0.6255758339819971
         },
         {
          "param": "b_GC",
          "value": -0.7435180182722123
         },
         {
          "param": "b_GC",
          "value": -0.7282002270361082
         },
         {
          "param": "b_GC",
          "value": -0.58642562932792
         },
         {
          "param": "b_GC",
          "value": -0.6450694809636316
         },
         {
          "param": "b_GC",
          "value": -0.7121579040146968
         },
         {
          "param": "b_GC",
          "value": -0.5095122527669359
         },
         {
          "param": "b_GC",
          "value": -0.764523113432187
         },
         {
          "param": "b_GC",
          "value": -0.6083635634261367
         },
         {
          "param": "b_GC",
          "value": -0.6851355182996541
         },
         {
          "param": "b_GC",
          "value": -0.5991258390697526
         },
         {
          "param": "b_GC",
          "value": -0.771031548179113
         },
         {
          "param": "b_GC",
          "value": -0.7802415647184412
         },
         {
          "param": "b_GC",
          "value": -0.43487277174989414
         },
         {
          "param": "b_GC",
          "value": -0.6826734872083853
         },
         {
          "param": "b_GC",
          "value": -0.6500466222254772
         },
         {
          "param": "b_GC",
          "value": -0.5760211823697691
         },
         {
          "param": "b_GC",
          "value": -0.7692411832729377
         },
         {
          "param": "b_GC",
          "value": -0.5727057247137164
         },
         {
          "param": "b_GC",
          "value": -0.632171304171412
         },
         {
          "param": "b_GC",
          "value": -0.6480893980875291
         },
         {
          "param": "b_GC",
          "value": -0.7338092656651034
         },
         {
          "param": "b_GC",
          "value": -0.8020723548111461
         },
         {
          "param": "b_GC",
          "value": -0.760592360246805
         },
         {
          "param": "b_GC",
          "value": -0.6780192504721593
         },
         {
          "param": "b_GC",
          "value": -0.5846886598504022
         },
         {
          "param": "b_GC",
          "value": -0.5570500535524502
         },
         {
          "param": "b_GC",
          "value": -0.6547982007082944
         },
         {
          "param": "b_GC",
          "value": -0.6233442817390495
         },
         {
          "param": "b_GC",
          "value": -0.5551328954307255
         },
         {
          "param": "b_GC",
          "value": -0.7257396554242177
         },
         {
          "param": "b_GC",
          "value": -0.664850641646403
         },
         {
          "param": "b_GC",
          "value": -0.6936103344623321
         },
         {
          "param": "b_GC",
          "value": -0.8661283355079278
         },
         {
          "param": "b_GC",
          "value": -0.7445847912881852
         },
         {
          "param": "b_GC",
          "value": -0.7023971999835095
         },
         {
          "param": "b_GC",
          "value": -0.6792320412752832
         },
         {
          "param": "b_GC",
          "value": -0.5225653770280128
         },
         {
          "param": "b_GC",
          "value": -0.7246147192034236
         },
         {
          "param": "b_GC",
          "value": -0.5294751041558927
         },
         {
          "param": "b_GC",
          "value": -0.6432723295471641
         },
         {
          "param": "b_GC",
          "value": -0.8016996792701758
         },
         {
          "param": "b_GC",
          "value": -0.8071871806912011
         },
         {
          "param": "b_GC",
          "value": -0.8629351187518153
         },
         {
          "param": "b_GC",
          "value": -0.7273703837867047
         },
         {
          "param": "b_GC",
          "value": -0.6601853840310018
         },
         {
          "param": "b_GC",
          "value": -0.7366246961267338
         },
         {
          "param": "b_GC",
          "value": -0.6682168572553276
         },
         {
          "param": "b_GC",
          "value": -0.5240848358230478
         },
         {
          "param": "b_GC",
          "value": -0.561430245821943
         },
         {
          "param": "b_GC",
          "value": -0.6823529972995954
         },
         {
          "param": "b_GC",
          "value": -0.6126075370633505
         },
         {
          "param": "b_GC",
          "value": -0.7088647032527069
         },
         {
          "param": "b_GC",
          "value": -0.561430245821943
         },
         {
          "param": "b_GC",
          "value": -0.6609184921449435
         },
         {
          "param": "b_GC",
          "value": -0.5743228019315045
         },
         {
          "param": "b_GC",
          "value": -0.6267999177812711
         },
         {
          "param": "b_GC",
          "value": -0.6430207374721124
         },
         {
          "param": "b_GC",
          "value": -0.612403063993415
         },
         {
          "param": "b_GC",
          "value": -0.6544601724834114
         },
         {
          "param": "b_GC",
          "value": -0.6891451934041701
         },
         {
          "param": "b_GC",
          "value": -0.567351445502374
         },
         {
          "param": "b_GC",
          "value": -0.7101079545160645
         },
         {
          "param": "b_GC",
          "value": -0.6012740763811545
         },
         {
          "param": "b_GC",
          "value": -0.700870468598723
         },
         {
          "param": "b_GC",
          "value": -0.6271775633032382
         },
         {
          "param": "b_GC",
          "value": -0.6497241567180769
         },
         {
          "param": "b_GC",
          "value": -0.8045453843046826
         },
         {
          "param": "b_GC",
          "value": -0.6837315756958113
         },
         {
          "param": "b_GC",
          "value": -0.4633622801796107
         },
         {
          "param": "b_GC",
          "value": -0.6373752254380488
         },
         {
          "param": "b_GC",
          "value": -0.6792570520384182
         },
         {
          "param": "b_GC",
          "value": -0.5756901123645695
         },
         {
          "param": "b_GC",
          "value": -0.7036650359242601
         },
         {
          "param": "b_GC",
          "value": -0.7111703413931534
         },
         {
          "param": "b_GC",
          "value": -0.7174707760574908
         },
         {
          "param": "b_GC",
          "value": -0.5655351173262608
         },
         {
          "param": "b_GC",
          "value": -0.7116614791746941
         },
         {
          "param": "b_GC",
          "value": -0.6304590188420467
         },
         {
          "param": "b_GC",
          "value": -0.6159592212922761
         },
         {
          "param": "b_GC",
          "value": -0.8554016884070244
         },
         {
          "param": "b_GC",
          "value": -0.7618633803291783
         },
         {
          "param": "b_GC",
          "value": -0.8306360908590571
         },
         {
          "param": "b_GC",
          "value": -0.7202675329316184
         },
         {
          "param": "b_GC",
          "value": -0.8548766740895712
         },
         {
          "param": "b_GC",
          "value": -0.768964006996266
         },
         {
          "param": "b_GC",
          "value": -0.8040879605112512
         },
         {
          "param": "b_GC",
          "value": -0.6404272528560224
         },
         {
          "param": "b_GC",
          "value": -0.6971554313374294
         },
         {
          "param": "b_GC",
          "value": -0.44327901151197
         },
         {
          "param": "b_GC",
          "value": -0.5901528884345971
         },
         {
          "param": "b_GC",
          "value": -0.6581492700202793
         },
         {
          "param": "b_GC",
          "value": -0.7252938275960898
         },
         {
          "param": "b_GC",
          "value": -0.6355902721809809
         },
         {
          "param": "b_GC",
          "value": -0.6850483696725532
         },
         {
          "param": "b_GC",
          "value": -0.8005378293963775
         },
         {
          "param": "b_GC",
          "value": -0.6589444904999285
         },
         {
          "param": "b_GC",
          "value": -0.9052548800666465
         },
         {
          "param": "b_GC",
          "value": -0.7909998760756312
         },
         {
          "param": "b_GC",
          "value": -0.8168105352512555
         },
         {
          "param": "b_GC",
          "value": -0.6965679926441494
         },
         {
          "param": "b_GC",
          "value": -0.56384598903863
         },
         {
          "param": "b_GC",
          "value": -0.5541575324954843
         },
         {
          "param": "b_GC",
          "value": -0.7077540371863523
         },
         {
          "param": "b_GC",
          "value": -0.5381713006621937
         },
         {
          "param": "b_GC",
          "value": -0.7254914697566955
         },
         {
          "param": "b_GC",
          "value": -0.681243941561087
         },
         {
          "param": "b_GC",
          "value": -0.67935011504048
         },
         {
          "param": "b_GC",
          "value": -0.4512469011595691
         },
         {
          "param": "b_GC",
          "value": -0.7408715032193868
         },
         {
          "param": "b_GC",
          "value": -0.7833249960278976
         },
         {
          "param": "b_GC",
          "value": -0.633116717209021
         },
         {
          "param": "b_GC",
          "value": -0.7151617384781646
         },
         {
          "param": "b_GC",
          "value": -0.740441923504613
         },
         {
          "param": "b_GC",
          "value": -0.7007952873370659
         },
         {
          "param": "b_GC",
          "value": -0.6474671336294882
         },
         {
          "param": "b_GC",
          "value": -0.790840928374327
         },
         {
          "param": "b_GC",
          "value": -0.7230338940270898
         },
         {
          "param": "b_GC",
          "value": -0.7633990843277084
         },
         {
          "param": "b_GC",
          "value": -0.748533993987552
         },
         {
          "param": "b_GC",
          "value": -0.7400226985178997
         },
         {
          "param": "b_GC",
          "value": -0.6256194170193681
         },
         {
          "param": "b_GC",
          "value": -0.784570409937571
         },
         {
          "param": "b_GC",
          "value": -0.6715266798195285
         },
         {
          "param": "b_GC",
          "value": -0.5710111452280789
         },
         {
          "param": "b_GC",
          "value": -0.5945615144691547
         },
         {
          "param": "b_GC",
          "value": -0.7814889090244937
         },
         {
          "param": "b_GC",
          "value": -0.6034613122835464
         },
         {
          "param": "b_GC",
          "value": -0.6342924036713296
         },
         {
          "param": "b_GC",
          "value": -0.6474872051208904
         },
         {
          "param": "b_GC",
          "value": -0.9032485851820975
         },
         {
          "param": "b_GC",
          "value": -0.7491168395886534
         },
         {
          "param": "b_GC",
          "value": -0.5885299325929789
         },
         {
          "param": "b_GC",
          "value": -0.5866224769254947
         },
         {
          "param": "b_GC",
          "value": -0.9209635824454121
         },
         {
          "param": "b_GC",
          "value": -0.7067417924236247
         },
         {
          "param": "b_GC",
          "value": -0.7852321153493718
         },
         {
          "param": "b_GC",
          "value": -0.604666907648065
         },
         {
          "param": "b_GC",
          "value": -0.7924751140070158
         },
         {
          "param": "b_GC",
          "value": -0.5512223395102338
         },
         {
          "param": "b_GC",
          "value": -0.8369138578267398
         },
         {
          "param": "b_GC",
          "value": -0.6607106852229514
         },
         {
          "param": "b_GC",
          "value": -0.6349940963503603
         },
         {
          "param": "b_GC",
          "value": -0.6063955874242518
         },
         {
          "param": "b_GC",
          "value": -0.7003348314453575
         },
         {
          "param": "b_GC",
          "value": -0.6827282222027884
         },
         {
          "param": "b_GC",
          "value": -0.40808169685672524
         },
         {
          "param": "b_GC",
          "value": -0.6557547924365994
         },
         {
          "param": "b_GC",
          "value": -0.5406901826739853
         },
         {
          "param": "b_GC",
          "value": -0.6741501127191276
         },
         {
          "param": "b_GC",
          "value": -0.8325174854805942
         },
         {
          "param": "b_GC",
          "value": -0.6980610272605936
         },
         {
          "param": "b_GC",
          "value": -0.7446663314358469
         },
         {
          "param": "b_GC",
          "value": -0.6787489288094952
         },
         {
          "param": "b_GC",
          "value": -0.5946290335150057
         },
         {
          "param": "b_GC",
          "value": -0.6998680125510395
         },
         {
          "param": "b_GC",
          "value": -0.6986882774441903
         },
         {
          "param": "b_GC",
          "value": -0.792409616204249
         },
         {
          "param": "b_GC",
          "value": -0.5584443734857649
         },
         {
          "param": "b_GC",
          "value": -0.635756570677311
         },
         {
          "param": "b_GC",
          "value": -0.7872686277739901
         },
         {
          "param": "b_GC",
          "value": -0.689929579703439
         },
         {
          "param": "b_GC",
          "value": -0.7969717198867923
         },
         {
          "param": "b_GC",
          "value": -0.66635922436792
         },
         {
          "param": "b_GC",
          "value": -0.6035068854886152
         },
         {
          "param": "b_GC",
          "value": -0.6929752048180254
         },
         {
          "param": "b_GC",
          "value": -0.6579480250132911
         },
         {
          "param": "b_GC",
          "value": -0.8161986300926292
         },
         {
          "param": "b_GC",
          "value": -0.6035068854886152
         },
         {
          "param": "b_GC",
          "value": -0.6146674929183434
         },
         {
          "param": "b_GC",
          "value": -0.7474291104014158
         },
         {
          "param": "b_GC",
          "value": -0.44774242713786866
         },
         {
          "param": "b_GC",
          "value": -0.8597686486124408
         },
         {
          "param": "b_GC",
          "value": -0.6784755262877566
         },
         {
          "param": "b_GC",
          "value": -0.6287222583939136
         },
         {
          "param": "b_GC",
          "value": -0.5963031906478269
         },
         {
          "param": "b_GC",
          "value": -0.5924852813226877
         },
         {
          "param": "b_GC",
          "value": -0.5973019106384049
         },
         {
          "param": "b_GC",
          "value": -0.6527057018132745
         },
         {
          "param": "b_GC",
          "value": -0.6964610670043984
         },
         {
          "param": "b_GC",
          "value": -0.6879295976251654
         },
         {
          "param": "b_GC",
          "value": -0.8370116175867822
         },
         {
          "param": "b_GC",
          "value": -0.6240991276835124
         },
         {
          "param": "b_GC",
          "value": -0.6510847098968929
         },
         {
          "param": "b_GC",
          "value": -0.6958721780658994
         },
         {
          "param": "b_GC",
          "value": -0.5482792560513795
         },
         {
          "param": "b_GC",
          "value": -0.6918333792652791
         },
         {
          "param": "b_GC",
          "value": -0.5876033285769336
         },
         {
          "param": "b_GC",
          "value": -0.6322740118808812
         },
         {
          "param": "b_GC",
          "value": -0.6589135022993673
         },
         {
          "param": "b_GC",
          "value": -0.6027761801897092
         },
         {
          "param": "b_GC",
          "value": -0.6465371580214891
         },
         {
          "param": "b_GC",
          "value": -0.659459477721149
         },
         {
          "param": "b_GC",
          "value": -0.5568021170827687
         },
         {
          "param": "b_GC",
          "value": -0.5837503439321926
         },
         {
          "param": "b_GC",
          "value": -0.6372967448587006
         },
         {
          "param": "b_GC",
          "value": -0.6424870910526914
         },
         {
          "param": "b_GC",
          "value": -0.7483232516743443
         },
         {
          "param": "b_GC",
          "value": -0.8227113320726835
         },
         {
          "param": "b_GC",
          "value": -0.7444926822979795
         },
         {
          "param": "b_GC",
          "value": -0.5622308569718699
         },
         {
          "param": "b_GC",
          "value": -0.6919686416957634
         },
         {
          "param": "b_GC",
          "value": -0.6335490388588841
         },
         {
          "param": "b_GC",
          "value": -0.5942134422119326
         },
         {
          "param": "b_GC",
          "value": -0.5622308569718699
         },
         {
          "param": "b_GC",
          "value": -0.7822714967739584
         },
         {
          "param": "b_GC",
          "value": -0.6473423039931656
         },
         {
          "param": "b_GC",
          "value": -0.7254612911259974
         },
         {
          "param": "b_GC",
          "value": -0.6114556431209822
         },
         {
          "param": "b_GC",
          "value": -0.8278046469023994
         },
         {
          "param": "b_GC",
          "value": -0.7332830769549582
         },
         {
          "param": "b_GC",
          "value": -0.7596496830930748
         },
         {
          "param": "b_GC",
          "value": -0.6380907351219488
         },
         {
          "param": "b_GC",
          "value": -0.8278046469023994
         },
         {
          "param": "b_GC",
          "value": -0.7142603031580207
         },
         {
          "param": "b_GC",
          "value": -0.6212031081984287
         },
         {
          "param": "b_GC",
          "value": -0.6807500205731246
         },
         {
          "param": "b_GC",
          "value": -0.6179812226720575
         },
         {
          "param": "b_GC",
          "value": -0.6845011583692493
         },
         {
          "param": "b_GC",
          "value": -0.6003287774323084
         },
         {
          "param": "b_GC",
          "value": -0.6392985501058662
         },
         {
          "param": "b_GC",
          "value": -0.64918068171461
         },
         {
          "param": "b_GC",
          "value": -0.7596875731626506
         },
         {
          "param": "b_GC",
          "value": -0.6288996787498329
         },
         {
          "param": "b_GC",
          "value": -0.5549012261396358
         },
         {
          "param": "b_GC",
          "value": -0.6302637354498072
         },
         {
          "param": "b_GC",
          "value": -0.5978405604234097
         },
         {
          "param": "b_GC",
          "value": -0.7463806429026839
         },
         {
          "param": "b_GC",
          "value": -0.47140634369243006
         },
         {
          "param": "b_GC",
          "value": -0.6914107047649374
         },
         {
          "param": "b_GC",
          "value": -0.6566194065195528
         },
         {
          "param": "b_GC",
          "value": -0.7826328635287946
         },
         {
          "param": "b_GC",
          "value": -0.9542925937923111
         },
         {
          "param": "b_GC",
          "value": -0.7861023237051503
         },
         {
          "param": "b_GC",
          "value": -0.7000343921308498
         },
         {
          "param": "b_GC",
          "value": -0.5486906863836758
         },
         {
          "param": "b_GC",
          "value": -0.6028466705750015
         },
         {
          "param": "b_GC",
          "value": -0.7127637436225895
         },
         {
          "param": "b_GC",
          "value": -0.7210560765686851
         },
         {
          "param": "b_GC",
          "value": -0.5762810973165183
         },
         {
          "param": "b_GC",
          "value": -0.6064875131255475
         },
         {
          "param": "b_GC",
          "value": -0.7222757256466187
         },
         {
          "param": "b_GC",
          "value": -0.7142589169285157
         },
         {
          "param": "b_GC",
          "value": -0.7590877903890888
         },
         {
          "param": "b_GC",
          "value": -0.6744391919003282
         },
         {
          "param": "b_GC",
          "value": -0.4818878655501772
         },
         {
          "param": "b_GC",
          "value": -0.7009418691739148
         },
         {
          "param": "b_GC",
          "value": -0.744627483673383
         },
         {
          "param": "b_GC",
          "value": -0.7696991379254698
         },
         {
          "param": "b_GC",
          "value": -0.5408486358357929
         },
         {
          "param": "b_GC",
          "value": -0.7072877108530238
         },
         {
          "param": "b_GC",
          "value": -0.6044390086402006
         },
         {
          "param": "b_GC",
          "value": -0.7532003352044322
         },
         {
          "param": "b_GC",
          "value": -0.6621151464830977
         },
         {
          "param": "b_GC",
          "value": -0.5197679520649323
         },
         {
          "param": "b_GC",
          "value": -0.544342242354985
         },
         {
          "param": "b_GC",
          "value": -0.5017227839125971
         },
         {
          "param": "b_GC",
          "value": -0.7967488840114261
         },
         {
          "param": "b_GC",
          "value": -0.8900772865333388
         },
         {
          "param": "b_GC",
          "value": -0.8581763952234067
         },
         {
          "param": "b_GC",
          "value": -0.7145375320673825
         },
         {
          "param": "b_GC",
          "value": -0.5836585304016825
         },
         {
          "param": "b_GC",
          "value": -0.647101556047239
         },
         {
          "param": "b_GC",
          "value": -0.7923636202413089
         },
         {
          "param": "b_GC",
          "value": -0.5817109272403636
         },
         {
          "param": "b_GC",
          "value": -0.8014430970845802
         },
         {
          "param": "b_GC",
          "value": -0.584660350191736
         },
         {
          "param": "b_GC",
          "value": -0.7079149453746979
         },
         {
          "param": "b_GC",
          "value": -0.6004247478421519
         },
         {
          "param": "b_GC",
          "value": -0.4321408251461467
         },
         {
          "param": "b_GC",
          "value": -0.9679759920179636
         },
         {
          "param": "b_GC",
          "value": -0.8119761328824454
         },
         {
          "param": "b_GC",
          "value": -0.5877917889552542
         },
         {
          "param": "b_GC",
          "value": -0.7750941414555126
         },
         {
          "param": "b_GC",
          "value": -0.5838216962830223
         },
         {
          "param": "b_GC",
          "value": -0.5733633830630764
         },
         {
          "param": "b_GC",
          "value": -0.7451886695913837
         },
         {
          "param": "b_GC",
          "value": -0.6450468369970311
         },
         {
          "param": "b_GC",
          "value": -0.6113472163791591
         },
         {
          "param": "b_GC",
          "value": -0.5441899619504968
         },
         {
          "param": "b_GC",
          "value": -0.7544606105331882
         },
         {
          "param": "b_GC",
          "value": -0.7333786306081705
         },
         {
          "param": "b_GC",
          "value": -0.6197371208249238
         },
         {
          "param": "b_GC",
          "value": -0.7285670982835061
         },
         {
          "param": "b_GC",
          "value": -0.5216637946238942
         },
         {
          "param": "b_GC",
          "value": -0.6400820185560374
         },
         {
          "param": "b_GC",
          "value": -0.6764295213565702
         },
         {
          "param": "b_GC",
          "value": -0.6402842901047576
         },
         {
          "param": "b_GC",
          "value": -0.6990964604300186
         },
         {
          "param": "b_GC",
          "value": -0.8002182771321893
         },
         {
          "param": "b_GC",
          "value": -0.7752872298638536
         },
         {
          "param": "b_GC",
          "value": -0.6603724754682858
         },
         {
          "param": "b_GC",
          "value": -0.7502156277748057
         },
         {
          "param": "b_GC",
          "value": -0.6681257482742712
         },
         {
          "param": "b_GC",
          "value": -0.7472087539348092
         },
         {
          "param": "b_GC",
          "value": -0.7921003729153328
         },
         {
          "param": "b_GC",
          "value": -0.7502156277748057
         },
         {
          "param": "b_GC",
          "value": -0.6470553816928667
         },
         {
          "param": "b_GC",
          "value": -0.772456109996462
         },
         {
          "param": "b_GC",
          "value": -0.5389927314954038
         },
         {
          "param": "b_GC",
          "value": -0.5984058815929596
         },
         {
          "param": "b_GC",
          "value": -0.7117836816331178
         },
         {
          "param": "b_GC",
          "value": -0.8197913441118665
         },
         {
          "param": "b_GC",
          "value": -0.7898569526324245
         },
         {
          "param": "b_GC",
          "value": -0.6650124102610222
         },
         {
          "param": "b_GC",
          "value": -0.5423093505378981
         },
         {
          "param": "b_GC",
          "value": -0.661955511279954
         },
         {
          "param": "b_GC",
          "value": -0.5071360081788894
         },
         {
          "param": "b_GC",
          "value": -0.5070479926165884
         },
         {
          "param": "b_GC",
          "value": -0.7108904829117586
         },
         {
          "param": "b_GC",
          "value": -0.7121065777247582
         },
         {
          "param": "b_GC",
          "value": -0.8634807724872536
         },
         {
          "param": "b_GC",
          "value": -0.7046741518504266
         },
         {
          "param": "b_GC",
          "value": -0.9094571528432788
         },
         {
          "param": "b_GC",
          "value": -0.4757734171260438
         },
         {
          "param": "b_GC",
          "value": -0.8634807724872536
         },
         {
          "param": "b_GC",
          "value": -0.6301183773373109
         },
         {
          "param": "b_GC",
          "value": -0.5852757185419556
         },
         {
          "param": "b_GC",
          "value": -0.3571558354309199
         },
         {
          "param": "b_GC",
          "value": -0.9317146650178342
         },
         {
          "param": "b_GC",
          "value": -0.7843712985376754
         },
         {
          "param": "b_GC",
          "value": -0.8175252782289786
         },
         {
          "param": "b_GC",
          "value": -0.5243879472858359
         },
         {
          "param": "b_GC",
          "value": -0.6084449708941791
         },
         {
          "param": "b_GC",
          "value": -0.6820725074443973
         },
         {
          "param": "b_GC",
          "value": -0.4151111214529903
         },
         {
          "param": "b_GC",
          "value": -0.5750509286263457
         },
         {
          "param": "b_GC",
          "value": -0.7000902840979459
         },
         {
          "param": "b_GC",
          "value": -0.6593287907864096
         },
         {
          "param": "b_GC",
          "value": -0.6931314687107564
         },
         {
          "param": "b_GC",
          "value": -0.6178460755515285
         },
         {
          "param": "b_GC",
          "value": -0.5884494355846166
         },
         {
          "param": "b_GC",
          "value": -0.7755280003682583
         },
         {
          "param": "b_GC",
          "value": -0.7306327276830464
         },
         {
          "param": "b_GC",
          "value": -0.6131912007780657
         },
         {
          "param": "b_GC",
          "value": -0.7379582025634047
         },
         {
          "param": "b_GC",
          "value": -0.48280276896530305
         },
         {
          "param": "b_GC",
          "value": -0.5003801904715022
         },
         {
          "param": "b_GC",
          "value": -0.5409532128992486
         },
         {
          "param": "b_GC",
          "value": -0.492169004632292
         },
         {
          "param": "b_GC",
          "value": -0.7356066539145782
         },
         {
          "param": "b_GC",
          "value": -0.7762833306719058
         },
         {
          "param": "b_GC",
          "value": -0.8546121356065468
         },
         {
          "param": "b_GC",
          "value": -0.8046626718790851
         },
         {
          "param": "b_GC",
          "value": -0.7093405061479315
         },
         {
          "param": "b_GC",
          "value": -0.540162428884101
         },
         {
          "param": "b_GC",
          "value": -0.7697636842097364
         },
         {
          "param": "b_GC",
          "value": -0.5893736085714019
         },
         {
          "param": "b_GC",
          "value": -0.7180821948201589
         },
         {
          "param": "b_GC",
          "value": -0.6336750266390176
         },
         {
          "param": "b_GC",
          "value": -0.5741954848399518
         },
         {
          "param": "b_GC",
          "value": -0.8304972575923084
         },
         {
          "param": "b_GC",
          "value": -0.7027649982129625
         },
         {
          "param": "b_GC",
          "value": -0.763194236240997
         },
         {
          "param": "b_GC",
          "value": -0.7068209612126951
         },
         {
          "param": "b_GC",
          "value": -0.6712038742217274
         },
         {
          "param": "b_GC",
          "value": -0.7639934051460444
         },
         {
          "param": "b_GC",
          "value": -0.7720862074682803
         },
         {
          "param": "b_GC",
          "value": -0.6134150239749085
         },
         {
          "param": "b_GC",
          "value": -0.6847916367345994
         },
         {
          "param": "b_GC",
          "value": -0.5949762059456722
         },
         {
          "param": "b_GC",
          "value": -0.6643314919101341
         },
         {
          "param": "b_GC",
          "value": -0.5020626576040925
         },
         {
          "param": "b_GC",
          "value": -0.5522257185276995
         },
         {
          "param": "b_GC",
          "value": -0.8177012183957962
         },
         {
          "param": "b_GC",
          "value": -0.7009923280357782
         },
         {
          "param": "b_GC",
          "value": -1.0205404914829879
         },
         {
          "param": "b_GC",
          "value": -0.7958741480566407
         },
         {
          "param": "b_GC",
          "value": -0.648570097291051
         },
         {
          "param": "b_GC",
          "value": -0.5636043973417797
         },
         {
          "param": "b_GC",
          "value": -0.5187285476957312
         },
         {
          "param": "b_GC",
          "value": -0.7640223854112276
         },
         {
          "param": "b_GC",
          "value": -0.6302183042431425
         },
         {
          "param": "b_GC",
          "value": -0.7828435392616468
         },
         {
          "param": "b_GC",
          "value": -0.7899834655878303
         },
         {
          "param": "b_GC",
          "value": -0.6382905637082745
         },
         {
          "param": "b_GC",
          "value": -0.57102295297832
         },
         {
          "param": "b_GC",
          "value": -0.5766139790723552
         },
         {
          "param": "b_GC",
          "value": -0.752497691015314
         },
         {
          "param": "b_GC",
          "value": -0.9915150525853594
         },
         {
          "param": "b_GC",
          "value": -0.5536329583955175
         },
         {
          "param": "b_GC",
          "value": -0.6445358552219853
         },
         {
          "param": "b_GC",
          "value": -0.6562658107657966
         },
         {
          "param": "b_GC",
          "value": -0.437974953287522
         },
         {
          "param": "b_GC",
          "value": -0.7025986817454377
         },
         {
          "param": "b_GC",
          "value": -0.5913413954845423
         },
         {
          "param": "b_GC",
          "value": -0.5170299129344045
         },
         {
          "param": "b_GC",
          "value": -0.6773969235981884
         },
         {
          "param": "b_GC",
          "value": -0.7043901703484824
         },
         {
          "param": "b_GC",
          "value": -0.6471573146657323
         },
         {
          "param": "b_GC",
          "value": -0.7477247833949778
         },
         {
          "param": "b_GC",
          "value": -0.6102450907103745
         },
         {
          "param": "b_GC",
          "value": -0.6650829145799128
         },
         {
          "param": "b_GC",
          "value": -0.8994486655386045
         },
         {
          "param": "b_GC",
          "value": -0.4821174247644958
         },
         {
          "param": "b_GC",
          "value": -0.615874039479333
         },
         {
          "param": "b_GC",
          "value": -0.8592597437103453
         },
         {
          "param": "b_GC",
          "value": -0.7321265404374979
         },
         {
          "param": "b_GC",
          "value": -0.6225386128741768
         },
         {
          "param": "b_GC",
          "value": -0.5870093778242217
         },
         {
          "param": "b_GC",
          "value": -0.856364809074761
         },
         {
          "param": "b_GC",
          "value": -0.6225705041956627
         },
         {
          "param": "b_GC",
          "value": -0.6759076696878241
         },
         {
          "param": "b_GC",
          "value": -0.5072928167042332
         },
         {
          "param": "b_GC",
          "value": -0.8708349279450639
         },
         {
          "param": "b_GC",
          "value": -0.5873021215948777
         },
         {
          "param": "b_GC",
          "value": -0.4514153873790775
         },
         {
          "param": "b_GC",
          "value": -0.6603555729903743
         },
         {
          "param": "b_GC",
          "value": -0.6892265760699468
         },
         {
          "param": "b_GC",
          "value": -0.6428146149025952
         },
         {
          "param": "b_GC",
          "value": -0.5847854034240509
         },
         {
          "param": "b_GC",
          "value": -0.5544092963900407
         },
         {
          "param": "b_GC",
          "value": -0.5790174076894711
         },
         {
          "param": "b_GC",
          "value": -0.5378354574787002
         },
         {
          "param": "b_GC",
          "value": -0.6617336641225496
         },
         {
          "param": "b_GC",
          "value": -0.8737055547591972
         },
         {
          "param": "b_GC",
          "value": -0.49256157695119174
         },
         {
          "param": "b_GC",
          "value": -0.5828149634518042
         },
         {
          "param": "b_GC",
          "value": -0.7198622895355009
         },
         {
          "param": "b_GC",
          "value": -0.5903404587178663
         },
         {
          "param": "b_GC",
          "value": -0.47403806731072917
         },
         {
          "param": "b_GC",
          "value": -0.6738395307327469
         },
         {
          "param": "b_GC",
          "value": -0.7721811633575321
         },
         {
          "param": "b_GC",
          "value": -0.7077825382559096
         },
         {
          "param": "b_GC",
          "value": -0.7631531497450232
         },
         {
          "param": "b_GC",
          "value": -0.5148626293930094
         },
         {
          "param": "b_GC",
          "value": -0.7433359606340698
         },
         {
          "param": "b_GC",
          "value": -0.6588735986069196
         },
         {
          "param": "b_GC",
          "value": -0.6244074306865092
         },
         {
          "param": "b_GC",
          "value": -0.6621078767906418
         },
         {
          "param": "b_GC",
          "value": -0.7872863359581184
         },
         {
          "param": "b_GC",
          "value": -0.6331611151800709
         },
         {
          "param": "b_GC",
          "value": -0.8336902434256462
         },
         {
          "param": "b_GC",
          "value": -0.6583498628889326
         },
         {
          "param": "b_GC",
          "value": -0.7436280733105075
         },
         {
          "param": "b_GC",
          "value": -0.5794920771849112
         },
         {
          "param": "b_GC",
          "value": -0.7294414971306673
         },
         {
          "param": "b_GC",
          "value": -0.7435117706940391
         },
         {
          "param": "b_GC",
          "value": -0.5572605084213076
         },
         {
          "param": "b_GC",
          "value": -0.5049458519022838
         },
         {
          "param": "b_GC",
          "value": -0.5499378657857115
         },
         {
          "param": "b_GC",
          "value": -0.6984104747649386
         },
         {
          "param": "b_GC",
          "value": -0.6713715689245547
         },
         {
          "param": "b_GC",
          "value": -0.5034931955445104
         },
         {
          "param": "b_GC",
          "value": -0.6945186370175753
         },
         {
          "param": "b_GC",
          "value": -0.6491411216361281
         },
         {
          "param": "b_GC",
          "value": -0.7030135694228374
         },
         {
          "param": "b_GC",
          "value": -0.8007102984398395
         },
         {
          "param": "b_GC",
          "value": -0.7070595171454708
         },
         {
          "param": "b_GC",
          "value": -0.6046831529613304
         },
         {
          "param": "b_GC",
          "value": -0.5020352986539025
         },
         {
          "param": "b_GC",
          "value": -0.7279019890320453
         },
         {
          "param": "b_GC",
          "value": -0.6405590554356213
         },
         {
          "param": "b_GC",
          "value": -0.8553998841951919
         },
         {
          "param": "b_GC",
          "value": -0.7517565825327565
         },
         {
          "param": "b_GC",
          "value": -0.6294910973257524
         },
         {
          "param": "b_GC",
          "value": -0.6356726864819713
         },
         {
          "param": "b_GC",
          "value": -0.9258880189647617
         },
         {
          "param": "b_GC",
          "value": -0.6154277649237969
         },
         {
          "param": "b_GC",
          "value": -0.6969489195649221
         },
         {
          "param": "b_GC",
          "value": -0.706917612780729
         },
         {
          "param": "b_GC",
          "value": -0.94388602268816
         },
         {
          "param": "b_GC",
          "value": -0.8020258125546796
         },
         {
          "param": "b_GC",
          "value": -0.5692133694886906
         },
         {
          "param": "b_GC",
          "value": -0.706917612780729
         },
         {
          "param": "b_GC",
          "value": -0.7184254393848188
         },
         {
          "param": "b_GC",
          "value": -0.8471410852453879
         },
         {
          "param": "b_GC",
          "value": -0.7654114463751028
         },
         {
          "param": "b_GC",
          "value": -0.614852151661702
         },
         {
          "param": "b_GC",
          "value": -0.5923415041603114
         },
         {
          "param": "b_GC",
          "value": -0.6209245706090243
         },
         {
          "param": "b_GC",
          "value": -0.62903244880354
         },
         {
          "param": "b_GC",
          "value": -0.5360276335626857
         },
         {
          "param": "b_GC",
          "value": -0.5903517343399532
         },
         {
          "param": "b_GC",
          "value": -0.8410378224299274
         },
         {
          "param": "b_GC",
          "value": -0.6973173774219709
         },
         {
          "param": "b_GC",
          "value": -0.722639173666525
         },
         {
          "param": "b_GC",
          "value": -0.5468687345459594
         },
         {
          "param": "b_GC",
          "value": -0.749910996296785
         },
         {
          "param": "b_GC",
          "value": -0.5827361012700598
         },
         {
          "param": "b_GC",
          "value": -0.6857370391711384
         },
         {
          "param": "b_GC",
          "value": -0.5203943880817182
         },
         {
          "param": "b_GC",
          "value": -0.32760938822842983
         },
         {
          "param": "sigma",
          "value": 1.3666811408467519
         },
         {
          "param": "sigma",
          "value": 1.4232801100563421
         },
         {
          "param": "sigma",
          "value": 1.384860180944388
         },
         {
          "param": "sigma",
          "value": 1.3018829916949843
         },
         {
          "param": "sigma",
          "value": 1.3511895070074507
         },
         {
          "param": "sigma",
          "value": 1.4781087886669044
         },
         {
          "param": "sigma",
          "value": 1.4444746997269688
         },
         {
          "param": "sigma",
          "value": 1.3018829916949843
         },
         {
          "param": "sigma",
          "value": 1.3131990684203023
         },
         {
          "param": "sigma",
          "value": 1.2509698453051683
         },
         {
          "param": "sigma",
          "value": 1.461971521131765
         },
         {
          "param": "sigma",
          "value": 1.376519140800583
         },
         {
          "param": "sigma",
          "value": 1.2383319570700726
         },
         {
          "param": "sigma",
          "value": 1.395718966400779
         },
         {
          "param": "sigma",
          "value": 1.2882150602003046
         },
         {
          "param": "sigma",
          "value": 1.3509796459663226
         },
         {
          "param": "sigma",
          "value": 1.4533621512853665
         },
         {
          "param": "sigma",
          "value": 1.3351258425432293
         },
         {
          "param": "sigma",
          "value": 1.3641891420265297
         },
         {
          "param": "sigma",
          "value": 1.4003914681462357
         },
         {
          "param": "sigma",
          "value": 1.4780034934222193
         },
         {
          "param": "sigma",
          "value": 1.3673445305290255
         },
         {
          "param": "sigma",
          "value": 1.287407891390535
         },
         {
          "param": "sigma",
          "value": 1.2396255371369893
         },
         {
          "param": "sigma",
          "value": 1.2007374312204726
         },
         {
          "param": "sigma",
          "value": 1.335436159174388
         },
         {
          "param": "sigma",
          "value": 1.3694477539710896
         },
         {
          "param": "sigma",
          "value": 1.3330338618434467
         },
         {
          "param": "sigma",
          "value": 1.4705660798936453
         },
         {
          "param": "sigma",
          "value": 1.3363170328804694
         },
         {
          "param": "sigma",
          "value": 1.339948571258647
         },
         {
          "param": "sigma",
          "value": 1.3653194403694067
         },
         {
          "param": "sigma",
          "value": 1.2701396047544147
         },
         {
          "param": "sigma",
          "value": 1.3456719318535157
         },
         {
          "param": "sigma",
          "value": 1.3137562041654116
         },
         {
          "param": "sigma",
          "value": 1.177292451115063
         },
         {
          "param": "sigma",
          "value": 1.3555479640566679
         },
         {
          "param": "sigma",
          "value": 1.3060971172609233
         },
         {
          "param": "sigma",
          "value": 1.3347268568075807
         },
         {
          "param": "sigma",
          "value": 1.4618793154910024
         },
         {
          "param": "sigma",
          "value": 1.3254151200896531
         },
         {
          "param": "sigma",
          "value": 1.3060971172609233
         },
         {
          "param": "sigma",
          "value": 1.2384303493834743
         },
         {
          "param": "sigma",
          "value": 1.2287328531424142
         },
         {
          "param": "sigma",
          "value": 1.2927269367867986
         },
         {
          "param": "sigma",
          "value": 1.2852694463916625
         },
         {
          "param": "sigma",
          "value": 1.2644335817820003
         },
         {
          "param": "sigma",
          "value": 1.2866583369619675
         },
         {
          "param": "sigma",
          "value": 1.289699846051107
         },
         {
          "param": "sigma",
          "value": 1.2134150752571287
         },
         {
          "param": "sigma",
          "value": 1.360127661602445
         },
         {
          "param": "sigma",
          "value": 1.383496078349806
         },
         {
          "param": "sigma",
          "value": 1.3606942161660132
         },
         {
          "param": "sigma",
          "value": 1.333172604308996
         },
         {
          "param": "sigma",
          "value": 1.3184530697416441
         },
         {
          "param": "sigma",
          "value": 1.3252854824163103
         },
         {
          "param": "sigma",
          "value": 1.3020616877393532
         },
         {
          "param": "sigma",
          "value": 1.279347247768121
         },
         {
          "param": "sigma",
          "value": 1.282956120472077
         },
         {
          "param": "sigma",
          "value": 1.4168732209599055
         },
         {
          "param": "sigma",
          "value": 1.2785755525192215
         },
         {
          "param": "sigma",
          "value": 1.268315093234722
         },
         {
          "param": "sigma",
          "value": 1.2601705775337924
         },
         {
          "param": "sigma",
          "value": 1.2621262640915885
         },
         {
          "param": "sigma",
          "value": 1.3963351620351265
         },
         {
          "param": "sigma",
          "value": 1.2353153244118238
         },
         {
          "param": "sigma",
          "value": 1.358831198948833
         },
         {
          "param": "sigma",
          "value": 1.2819130970059387
         },
         {
          "param": "sigma",
          "value": 1.27983606817494
         },
         {
          "param": "sigma",
          "value": 1.1770370821219156
         },
         {
          "param": "sigma",
          "value": 1.3196457976286295
         },
         {
          "param": "sigma",
          "value": 1.2790384502025611
         },
         {
          "param": "sigma",
          "value": 1.3433147694800478
         },
         {
          "param": "sigma",
          "value": 1.463888599075062
         },
         {
          "param": "sigma",
          "value": 1.3659935973754054
         },
         {
          "param": "sigma",
          "value": 1.241591955140473
         },
         {
          "param": "sigma",
          "value": 1.3183456533645252
         },
         {
          "param": "sigma",
          "value": 1.2416580828456893
         },
         {
          "param": "sigma",
          "value": 1.279552029350791
         },
         {
          "param": "sigma",
          "value": 1.3750408688658995
         },
         {
          "param": "sigma",
          "value": 1.3223557662207726
         },
         {
          "param": "sigma",
          "value": 1.2992235333440612
         },
         {
          "param": "sigma",
          "value": 1.279552029350791
         },
         {
          "param": "sigma",
          "value": 1.3775629005400514
         },
         {
          "param": "sigma",
          "value": 1.3537501066936044
         },
         {
          "param": "sigma",
          "value": 1.34329316359454
         },
         {
          "param": "sigma",
          "value": 1.453297074096695
         },
         {
          "param": "sigma",
          "value": 1.3651162595980153
         },
         {
          "param": "sigma",
          "value": 1.3050276681909367
         },
         {
          "param": "sigma",
          "value": 1.3416008797799255
         },
         {
          "param": "sigma",
          "value": 1.3802208472794193
         },
         {
          "param": "sigma",
          "value": 1.3410513174602077
         },
         {
          "param": "sigma",
          "value": 1.2107593171023259
         },
         {
          "param": "sigma",
          "value": 1.497248210441765
         },
         {
          "param": "sigma",
          "value": 1.3077584230621417
         },
         {
          "param": "sigma",
          "value": 1.3180727346797607
         },
         {
          "param": "sigma",
          "value": 1.5079398309106316
         },
         {
          "param": "sigma",
          "value": 1.3712381688274653
         },
         {
          "param": "sigma",
          "value": 1.3946439173222083
         },
         {
          "param": "sigma",
          "value": 1.2720037079323019
         },
         {
          "param": "sigma",
          "value": 1.537921469605339
         },
         {
          "param": "sigma",
          "value": 1.344043803214135
         },
         {
          "param": "sigma",
          "value": 1.3551781375001573
         },
         {
          "param": "sigma",
          "value": 1.246773447243632
         },
         {
          "param": "sigma",
          "value": 1.2684611911148078
         },
         {
          "param": "sigma",
          "value": 1.3520496776011415
         },
         {
          "param": "sigma",
          "value": 1.309620034910356
         },
         {
          "param": "sigma",
          "value": 1.26796370128899
         },
         {
          "param": "sigma",
          "value": 1.272151482037577
         },
         {
          "param": "sigma",
          "value": 1.3599937126980024
         },
         {
          "param": "sigma",
          "value": 1.414514667306069
         },
         {
          "param": "sigma",
          "value": 1.272894668768771
         },
         {
          "param": "sigma",
          "value": 1.2535457519355206
         },
         {
          "param": "sigma",
          "value": 1.330007488807682
         },
         {
          "param": "sigma",
          "value": 1.6173828893943496
         },
         {
          "param": "sigma",
          "value": 1.3754663288826605
         },
         {
          "param": "sigma",
          "value": 1.4030170827729607
         },
         {
          "param": "sigma",
          "value": 1.294653937198583
         },
         {
          "param": "sigma",
          "value": 1.3820780266194115
         },
         {
          "param": "sigma",
          "value": 1.3016203135482496
         },
         {
          "param": "sigma",
          "value": 1.2524644743618247
         },
         {
          "param": "sigma",
          "value": 1.400472787715431
         },
         {
          "param": "sigma",
          "value": 1.4115994963134535
         },
         {
          "param": "sigma",
          "value": 1.3436836516503425
         },
         {
          "param": "sigma",
          "value": 1.271257741390279
         },
         {
          "param": "sigma",
          "value": 1.2569241779917517
         },
         {
          "param": "sigma",
          "value": 1.3352132339956786
         },
         {
          "param": "sigma",
          "value": 1.2429816030099228
         },
         {
          "param": "sigma",
          "value": 1.2199368791137715
         },
         {
          "param": "sigma",
          "value": 1.3098076541997188
         },
         {
          "param": "sigma",
          "value": 1.2901227056479059
         },
         {
          "param": "sigma",
          "value": 1.3884311426722746
         },
         {
          "param": "sigma",
          "value": 1.51412569983554
         },
         {
          "param": "sigma",
          "value": 1.2433930257504073
         },
         {
          "param": "sigma",
          "value": 1.4175211874950544
         },
         {
          "param": "sigma",
          "value": 1.2967243821137824
         },
         {
          "param": "sigma",
          "value": 1.5407723347545403
         },
         {
          "param": "sigma",
          "value": 1.3405759866926195
         },
         {
          "param": "sigma",
          "value": 1.2646969232185812
         },
         {
          "param": "sigma",
          "value": 1.3841128304900803
         },
         {
          "param": "sigma",
          "value": 1.1790658925436126
         },
         {
          "param": "sigma",
          "value": 1.3234136618474703
         },
         {
          "param": "sigma",
          "value": 1.4117297465460046
         },
         {
          "param": "sigma",
          "value": 1.2788719143760086
         },
         {
          "param": "sigma",
          "value": 1.4631516887443279
         },
         {
          "param": "sigma",
          "value": 1.2535439228573964
         },
         {
          "param": "sigma",
          "value": 1.4064202454332697
         },
         {
          "param": "sigma",
          "value": 1.2969856395094173
         },
         {
          "param": "sigma",
          "value": 1.4043012119306302
         },
         {
          "param": "sigma",
          "value": 1.2853127724531601
         },
         {
          "param": "sigma",
          "value": 1.4060358777908788
         },
         {
          "param": "sigma",
          "value": 1.361705817163689
         },
         {
          "param": "sigma",
          "value": 1.2863462580079623
         },
         {
          "param": "sigma",
          "value": 1.274710737299216
         },
         {
          "param": "sigma",
          "value": 1.4148356911052236
         },
         {
          "param": "sigma",
          "value": 1.3970993199924255
         },
         {
          "param": "sigma",
          "value": 1.3179009848134693
         },
         {
          "param": "sigma",
          "value": 1.3731483626128989
         },
         {
          "param": "sigma",
          "value": 1.3630270134403772
         },
         {
          "param": "sigma",
          "value": 1.4829203484364475
         },
         {
          "param": "sigma",
          "value": 1.3204122926107482
         },
         {
          "param": "sigma",
          "value": 1.4298384187218476
         },
         {
          "param": "sigma",
          "value": 1.3766422349540026
         },
         {
          "param": "sigma",
          "value": 1.4432677851766764
         },
         {
          "param": "sigma",
          "value": 1.3614090215330106
         },
         {
          "param": "sigma",
          "value": 1.3047616975950562
         },
         {
          "param": "sigma",
          "value": 1.378738724746962
         },
         {
          "param": "sigma",
          "value": 1.2701529509700789
         },
         {
          "param": "sigma",
          "value": 1.280245842853686
         },
         {
          "param": "sigma",
          "value": 1.3292584635260407
         },
         {
          "param": "sigma",
          "value": 1.2441660269585606
         },
         {
          "param": "sigma",
          "value": 1.2646723471791834
         },
         {
          "param": "sigma",
          "value": 1.3815912750713057
         },
         {
          "param": "sigma",
          "value": 1.3351821699523418
         },
         {
          "param": "sigma",
          "value": 1.301387565291893
         },
         {
          "param": "sigma",
          "value": 1.322684254912362
         },
         {
          "param": "sigma",
          "value": 1.248575816753502
         },
         {
          "param": "sigma",
          "value": 1.4023403026690546
         },
         {
          "param": "sigma",
          "value": 1.3117633252153098
         },
         {
          "param": "sigma",
          "value": 1.3602171345609966
         },
         {
          "param": "sigma",
          "value": 1.4339048354624495
         },
         {
          "param": "sigma",
          "value": 1.36554545371436
         },
         {
          "param": "sigma",
          "value": 1.2742200965610448
         },
         {
          "param": "sigma",
          "value": 1.3667097439158953
         },
         {
          "param": "sigma",
          "value": 1.5121831592322026
         },
         {
          "param": "sigma",
          "value": 1.267511275027844
         },
         {
          "param": "sigma",
          "value": 1.3810811984436246
         },
         {
          "param": "sigma",
          "value": 1.309467795077968
         },
         {
          "param": "sigma",
          "value": 1.4612380765566315
         },
         {
          "param": "sigma",
          "value": 1.3291858350809416
         },
         {
          "param": "sigma",
          "value": 1.3612543174540295
         },
         {
          "param": "sigma",
          "value": 1.2856135851065698
         },
         {
          "param": "sigma",
          "value": 1.4190749238477551
         },
         {
          "param": "sigma",
          "value": 1.3275174223332729
         },
         {
          "param": "sigma",
          "value": 1.324753194219981
         },
         {
          "param": "sigma",
          "value": 1.3911388487131529
         },
         {
          "param": "sigma",
          "value": 1.2916589204468005
         },
         {
          "param": "sigma",
          "value": 1.306239228856457
         },
         {
          "param": "sigma",
          "value": 1.4302125632452545
         },
         {
          "param": "sigma",
          "value": 1.3984519714157773
         },
         {
          "param": "sigma",
          "value": 1.3195622130827656
         },
         {
          "param": "sigma",
          "value": 1.4518946086764177
         },
         {
          "param": "sigma",
          "value": 1.20942102748593
         },
         {
          "param": "sigma",
          "value": 1.4269156613419647
         },
         {
          "param": "sigma",
          "value": 1.3488181318328232
         },
         {
          "param": "sigma",
          "value": 1.282845171901312
         },
         {
          "param": "sigma",
          "value": 1.3342437961566964
         },
         {
          "param": "sigma",
          "value": 1.3569822681459558
         },
         {
          "param": "sigma",
          "value": 1.3879030811099953
         },
         {
          "param": "sigma",
          "value": 1.2883798874446677
         },
         {
          "param": "sigma",
          "value": 1.235436832853631
         },
         {
          "param": "sigma",
          "value": 1.3958952195620304
         },
         {
          "param": "sigma",
          "value": 1.2850224012068772
         },
         {
          "param": "sigma",
          "value": 1.4248932989549918
         },
         {
          "param": "sigma",
          "value": 1.34884079086219
         },
         {
          "param": "sigma",
          "value": 1.316734886858048
         },
         {
          "param": "sigma",
          "value": 1.3927055360607645
         },
         {
          "param": "sigma",
          "value": 1.353758054970082
         },
         {
          "param": "sigma",
          "value": 1.215891153995515
         },
         {
          "param": "sigma",
          "value": 1.150501805537554
         },
         {
          "param": "sigma",
          "value": 1.4294654606109969
         },
         {
          "param": "sigma",
          "value": 1.3042900924761067
         },
         {
          "param": "sigma",
          "value": 1.493699535022791
         },
         {
          "param": "sigma",
          "value": 1.5717511373632218
         },
         {
          "param": "sigma",
          "value": 1.377130675258148
         },
         {
          "param": "sigma",
          "value": 1.2818730489745656
         },
         {
          "param": "sigma",
          "value": 1.3240635290789748
         },
         {
          "param": "sigma",
          "value": 1.5526394434135034
         },
         {
          "param": "sigma",
          "value": 1.405026805639011
         },
         {
          "param": "sigma",
          "value": 1.318701454059509
         },
         {
          "param": "sigma",
          "value": 1.3971043149010964
         },
         {
          "param": "sigma",
          "value": 1.23996581488141
         },
         {
          "param": "sigma",
          "value": 1.3430624885370275
         },
         {
          "param": "sigma",
          "value": 1.294689016061131
         },
         {
          "param": "sigma",
          "value": 1.2610885359225348
         },
         {
          "param": "sigma",
          "value": 1.3724616239489758
         },
         {
          "param": "sigma",
          "value": 1.369562921730297
         },
         {
          "param": "sigma",
          "value": 1.4728789069271788
         },
         {
          "param": "sigma",
          "value": 1.2610885359225348
         },
         {
          "param": "sigma",
          "value": 1.3335500668056315
         },
         {
          "param": "sigma",
          "value": 1.3353365410542049
         },
         {
          "param": "sigma",
          "value": 1.3802886661832643
         },
         {
          "param": "sigma",
          "value": 1.2620139992724986
         },
         {
          "param": "sigma",
          "value": 1.40216036368536
         },
         {
          "param": "sigma",
          "value": 1.3595923007333814
         },
         {
          "param": "sigma",
          "value": 1.2255239427796876
         },
         {
          "param": "sigma",
          "value": 1.3112176255679269
         },
         {
          "param": "sigma",
          "value": 1.2689486121057534
         },
         {
          "param": "sigma",
          "value": 1.4091156757751329
         },
         {
          "param": "sigma",
          "value": 1.2742732354174626
         },
         {
          "param": "sigma",
          "value": 1.3696964754409104
         },
         {
          "param": "sigma",
          "value": 1.4622219995525465
         },
         {
          "param": "sigma",
          "value": 1.3268862301361466
         },
         {
          "param": "sigma",
          "value": 1.3094830190821667
         },
         {
          "param": "sigma",
          "value": 1.4021533361822693
         },
         {
          "param": "sigma",
          "value": 1.2464167931659025
         },
         {
          "param": "sigma",
          "value": 1.379288643108712
         },
         {
          "param": "sigma",
          "value": 1.437365023192609
         },
         {
          "param": "sigma",
          "value": 1.3881296317085003
         },
         {
          "param": "sigma",
          "value": 1.2171210930473786
         },
         {
          "param": "sigma",
          "value": 1.3264239370751025
         },
         {
          "param": "sigma",
          "value": 1.2765892707451336
         },
         {
          "param": "sigma",
          "value": 1.2478522701977182
         },
         {
          "param": "sigma",
          "value": 1.4999226611146288
         },
         {
          "param": "sigma",
          "value": 1.334837619320262
         },
         {
          "param": "sigma",
          "value": 1.2964100626338053
         },
         {
          "param": "sigma",
          "value": 1.4082119908048891
         },
         {
          "param": "sigma",
          "value": 1.3147203695871745
         },
         {
          "param": "sigma",
          "value": 1.3419655525221514
         },
         {
          "param": "sigma",
          "value": 1.3961874514356565
         },
         {
          "param": "sigma",
          "value": 1.4465554302850083
         },
         {
          "param": "sigma",
          "value": 1.329581973252244
         },
         {
          "param": "sigma",
          "value": 1.4801754416299242
         },
         {
          "param": "sigma",
          "value": 1.3726754102360879
         },
         {
          "param": "sigma",
          "value": 1.3598096950982441
         },
         {
          "param": "sigma",
          "value": 1.3214260645274833
         },
         {
          "param": "sigma",
          "value": 1.2182949688256228
         },
         {
          "param": "sigma",
          "value": 1.4018527238705334
         },
         {
          "param": "sigma",
          "value": 1.3485578980863384
         },
         {
          "param": "sigma",
          "value": 1.3315503987869404
         },
         {
          "param": "sigma",
          "value": 1.3768802489017549
         },
         {
          "param": "sigma",
          "value": 1.274010472962399
         },
         {
          "param": "sigma",
          "value": 1.4429353801507154
         },
         {
          "param": "sigma",
          "value": 1.220275970193305
         },
         {
          "param": "sigma",
          "value": 1.4041287688648876
         },
         {
          "param": "sigma",
          "value": 1.2798057254884974
         },
         {
          "param": "sigma",
          "value": 1.3451494557089143
         },
         {
          "param": "sigma",
          "value": 1.2456464650247268
         },
         {
          "param": "sigma",
          "value": 1.3837647256288685
         },
         {
          "param": "sigma",
          "value": 1.416023247901071
         },
         {
          "param": "sigma",
          "value": 1.4217496402510414
         },
         {
          "param": "sigma",
          "value": 1.3834326673920707
         },
         {
          "param": "sigma",
          "value": 1.282416576347375
         },
         {
          "param": "sigma",
          "value": 1.2815097152897514
         },
         {
          "param": "sigma",
          "value": 1.3729886263151276
         },
         {
          "param": "sigma",
          "value": 1.361676159081082
         },
         {
          "param": "sigma",
          "value": 1.2903761800001252
         },
         {
          "param": "sigma",
          "value": 1.3083299630118
         },
         {
          "param": "sigma",
          "value": 1.4283013350076217
         },
         {
          "param": "sigma",
          "value": 1.4590484250658895
         },
         {
          "param": "sigma",
          "value": 1.2707616693530972
         },
         {
          "param": "sigma",
          "value": 1.3470188757646384
         },
         {
          "param": "sigma",
          "value": 1.5099540494514871
         },
         {
          "param": "sigma",
          "value": 1.3091316847015428
         },
         {
          "param": "sigma",
          "value": 1.339250592195765
         },
         {
          "param": "sigma",
          "value": 1.3459763949672605
         },
         {
          "param": "sigma",
          "value": 1.5016940051937715
         },
         {
          "param": "sigma",
          "value": 1.22220440653049
         },
         {
          "param": "sigma",
          "value": 1.3301074838621656
         },
         {
          "param": "sigma",
          "value": 1.3608196796841185
         },
         {
          "param": "sigma",
          "value": 1.3239406039561765
         },
         {
          "param": "sigma",
          "value": 1.2303661535158055
         },
         {
          "param": "sigma",
          "value": 1.314785630235862
         },
         {
          "param": "sigma",
          "value": 1.3970383437064497
         },
         {
          "param": "sigma",
          "value": 1.3892903681910407
         },
         {
          "param": "sigma",
          "value": 1.269092753327897
         },
         {
          "param": "sigma",
          "value": 1.3018819877062233
         },
         {
          "param": "sigma",
          "value": 1.2284386978926136
         },
         {
          "param": "sigma",
          "value": 1.3727779907103015
         },
         {
          "param": "sigma",
          "value": 1.2915481687043886
         },
         {
          "param": "sigma",
          "value": 1.210915144408261
         },
         {
          "param": "sigma",
          "value": 1.2906802651449014
         },
         {
          "param": "sigma",
          "value": 1.2240281487028182
         },
         {
          "param": "sigma",
          "value": 1.2466687865931252
         },
         {
          "param": "sigma",
          "value": 1.1659068742832805
         },
         {
          "param": "sigma",
          "value": 1.3656811149304129
         },
         {
          "param": "sigma",
          "value": 1.2441225533428606
         },
         {
          "param": "sigma",
          "value": 1.3979666076107993
         },
         {
          "param": "sigma",
          "value": 1.3879621518878158
         },
         {
          "param": "sigma",
          "value": 1.263504317259633
         },
         {
          "param": "sigma",
          "value": 1.4829185819225226
         },
         {
          "param": "sigma",
          "value": 1.3321571835179304
         },
         {
          "param": "sigma",
          "value": 1.33085157664381
         },
         {
          "param": "sigma",
          "value": 1.3663079235963462
         },
         {
          "param": "sigma",
          "value": 1.2819740953026157
         },
         {
          "param": "sigma",
          "value": 1.297809951381229
         },
         {
          "param": "sigma",
          "value": 1.261220503290382
         },
         {
          "param": "sigma",
          "value": 1.2811295986804123
         },
         {
          "param": "sigma",
          "value": 1.272828535065687
         },
         {
          "param": "sigma",
          "value": 1.329093465879996
         },
         {
          "param": "sigma",
          "value": 1.3360801979457664
         },
         {
          "param": "sigma",
          "value": 1.2161362921909058
         },
         {
          "param": "sigma",
          "value": 1.2792995480595628
         },
         {
          "param": "sigma",
          "value": 1.4266331418857128
         },
         {
          "param": "sigma",
          "value": 1.4632106828142428
         },
         {
          "param": "sigma",
          "value": 1.3321832464672154
         },
         {
          "param": "sigma",
          "value": 1.32979033249638
         },
         {
          "param": "sigma",
          "value": 1.425035106345898
         },
         {
          "param": "sigma",
          "value": 1.2507177477154965
         },
         {
          "param": "sigma",
          "value": 1.426596282093997
         },
         {
          "param": "sigma",
          "value": 1.3873458259658484
         },
         {
          "param": "sigma",
          "value": 1.4455499734227226
         },
         {
          "param": "sigma",
          "value": 1.4274620982437172
         },
         {
          "param": "sigma",
          "value": 1.460075013455688
         },
         {
          "param": "sigma",
          "value": 1.393821959460048
         },
         {
          "param": "sigma",
          "value": 1.4001551012550781
         },
         {
          "param": "sigma",
          "value": 1.2330912001761547
         },
         {
          "param": "sigma",
          "value": 1.2760392517430663
         },
         {
          "param": "sigma",
          "value": 1.2538219099634524
         },
         {
          "param": "sigma",
          "value": 1.342505396908405
         },
         {
          "param": "sigma",
          "value": 1.3257177887177092
         },
         {
          "param": "sigma",
          "value": 1.349053083195634
         },
         {
          "param": "sigma",
          "value": 1.4187150530267514
         },
         {
          "param": "sigma",
          "value": 1.2222560313727697
         },
         {
          "param": "sigma",
          "value": 1.3744015747648677
         },
         {
          "param": "sigma",
          "value": 1.3003950849411565
         },
         {
          "param": "sigma",
          "value": 1.3253574012449443
         },
         {
          "param": "sigma",
          "value": 1.264946677077712
         },
         {
          "param": "sigma",
          "value": 1.3958207267205014
         },
         {
          "param": "sigma",
          "value": 1.47382747299433
         },
         {
          "param": "sigma",
          "value": 1.379004487095578
         },
         {
          "param": "sigma",
          "value": 1.4067762471854757
         },
         {
          "param": "sigma",
          "value": 1.4566007636910285
         },
         {
          "param": "sigma",
          "value": 1.4084355913349427
         },
         {
          "param": "sigma",
          "value": 1.3560147438322134
         },
         {
          "param": "sigma",
          "value": 1.3941638790286999
         },
         {
          "param": "sigma",
          "value": 1.3188867284759278
         },
         {
          "param": "sigma",
          "value": 1.3710111969447552
         },
         {
          "param": "sigma",
          "value": 1.452810493009706
         },
         {
          "param": "sigma",
          "value": 1.2200630864074125
         },
         {
          "param": "sigma",
          "value": 1.3135751381154412
         },
         {
          "param": "sigma",
          "value": 1.4606924356080375
         },
         {
          "param": "sigma",
          "value": 1.2103351613762776
         },
         {
          "param": "sigma",
          "value": 1.2053675909433694
         },
         {
          "param": "sigma",
          "value": 1.3235340038097845
         },
         {
          "param": "sigma",
          "value": 1.2166126865760016
         },
         {
          "param": "sigma",
          "value": 1.3239373619214645
         },
         {
          "param": "sigma",
          "value": 1.2686187084233458
         },
         {
          "param": "sigma",
          "value": 1.363784622606223
         },
         {
          "param": "sigma",
          "value": 1.31176518688207
         },
         {
          "param": "sigma",
          "value": 1.3069643829465512
         },
         {
          "param": "sigma",
          "value": 1.3936907750478051
         },
         {
          "param": "sigma",
          "value": 1.4733760829817835
         },
         {
          "param": "sigma",
          "value": 1.3280869877053902
         },
         {
          "param": "sigma",
          "value": 1.360847966603276
         },
         {
          "param": "sigma",
          "value": 1.4326576567691922
         },
         {
          "param": "sigma",
          "value": 1.1757005817919446
         },
         {
          "param": "sigma",
          "value": 1.2536566249697376
         },
         {
          "param": "sigma",
          "value": 1.2773522203844712
         },
         {
          "param": "sigma",
          "value": 1.3009932235410706
         },
         {
          "param": "sigma",
          "value": 1.328304129617238
         },
         {
          "param": "sigma",
          "value": 1.413256063499514
         },
         {
          "param": "sigma",
          "value": 1.309743816034669
         },
         {
          "param": "sigma",
          "value": 1.344614595092132
         },
         {
          "param": "sigma",
          "value": 1.3306962676382157
         },
         {
          "param": "sigma",
          "value": 1.3672105134401045
         },
         {
          "param": "sigma",
          "value": 1.2933683103866718
         },
         {
          "param": "sigma",
          "value": 1.2586254789230942
         },
         {
          "param": "sigma",
          "value": 1.3165475916959817
         },
         {
          "param": "sigma",
          "value": 1.2483171446524277
         },
         {
          "param": "sigma",
          "value": 1.2907921248706233
         },
         {
          "param": "sigma",
          "value": 1.3161254053830989
         },
         {
          "param": "sigma",
          "value": 1.4018439680307369
         },
         {
          "param": "sigma",
          "value": 1.260800877529489
         },
         {
          "param": "sigma",
          "value": 1.4039841184316522
         },
         {
          "param": "sigma",
          "value": 1.3651342534520026
         },
         {
          "param": "sigma",
          "value": 1.274481016152706
         },
         {
          "param": "sigma",
          "value": 1.2753343630476432
         },
         {
          "param": "sigma",
          "value": 1.3603537291927583
         },
         {
          "param": "sigma",
          "value": 1.398073193991675
         },
         {
          "param": "sigma",
          "value": 1.3111233282710377
         },
         {
          "param": "sigma",
          "value": 1.2280844387895182
         },
         {
          "param": "sigma",
          "value": 1.3455466964099947
         },
         {
          "param": "sigma",
          "value": 1.3068734486829183
         },
         {
          "param": "sigma",
          "value": 1.2730870614372616
         },
         {
          "param": "sigma",
          "value": 1.4257343172422392
         },
         {
          "param": "sigma",
          "value": 1.3139741505798468
         },
         {
          "param": "sigma",
          "value": 1.3574043357217587
         },
         {
          "param": "sigma",
          "value": 1.3967941897572622
         },
         {
          "param": "sigma",
          "value": 1.5769833184181856
         },
         {
          "param": "sigma",
          "value": 1.3506848741420745
         },
         {
          "param": "sigma",
          "value": 1.3340262552121
         },
         {
          "param": "sigma",
          "value": 1.2872354520436746
         },
         {
          "param": "sigma",
          "value": 1.4707138577717078
         },
         {
          "param": "sigma",
          "value": 1.3506700615590967
         },
         {
          "param": "sigma",
          "value": 1.3575186989739125
         },
         {
          "param": "sigma",
          "value": 1.41716872772635
         },
         {
          "param": "sigma",
          "value": 1.451231906024614
         },
         {
          "param": "sigma",
          "value": 1.2390065572702555
         },
         {
          "param": "sigma",
          "value": 1.4748995152210673
         },
         {
          "param": "sigma",
          "value": 1.3695592863706632
         },
         {
          "param": "sigma",
          "value": 1.2845493380685886
         },
         {
          "param": "sigma",
          "value": 1.4549236378330832
         },
         {
          "param": "sigma",
          "value": 1.4136251334032184
         },
         {
          "param": "sigma",
          "value": 1.4161029067074242
         },
         {
          "param": "sigma",
          "value": 1.3759586150464262
         },
         {
          "param": "sigma",
          "value": 1.1836698535771488
         },
         {
          "param": "sigma",
          "value": 1.2284760166947248
         },
         {
          "param": "sigma",
          "value": 1.4171754166803567
         },
         {
          "param": "sigma",
          "value": 1.3176635734360322
         },
         {
          "param": "sigma",
          "value": 1.3319249510162685
         },
         {
          "param": "sigma",
          "value": 1.25239596687196
         },
         {
          "param": "sigma",
          "value": 1.3308076390424741
         },
         {
          "param": "sigma",
          "value": 1.3176635734360322
         },
         {
          "param": "sigma",
          "value": 1.2813092414706462
         },
         {
          "param": "sigma",
          "value": 1.3101082964225572
         },
         {
          "param": "sigma",
          "value": 1.3045179071692754
         },
         {
          "param": "sigma",
          "value": 1.2883012034000725
         },
         {
          "param": "sigma",
          "value": 1.279661005684608
         },
         {
          "param": "sigma",
          "value": 1.3307649620266409
         },
         {
          "param": "sigma",
          "value": 1.4017347739689805
         },
         {
          "param": "sigma",
          "value": 1.4467137253875706
         },
         {
          "param": "sigma",
          "value": 1.3185166274984375
         },
         {
          "param": "sigma",
          "value": 1.3307649620266409
         },
         {
          "param": "sigma",
          "value": 1.3572308015052617
         },
         {
          "param": "sigma",
          "value": 1.3625866767852268
         },
         {
          "param": "sigma",
          "value": 1.5123829119642809
         },
         {
          "param": "sigma",
          "value": 1.3216121673873642
         },
         {
          "param": "sigma",
          "value": 1.1863649010920736
         },
         {
          "param": "sigma",
          "value": 1.2907644210737694
         },
         {
          "param": "sigma",
          "value": 1.4460342608337764
         },
         {
          "param": "sigma",
          "value": 1.3750144563048137
         },
         {
          "param": "sigma",
          "value": 1.1990318608668122
         },
         {
          "param": "sigma",
          "value": 1.243541287249163
         },
         {
          "param": "sigma",
          "value": 1.4611572120859588
         },
         {
          "param": "sigma",
          "value": 1.403380564834035
         },
         {
          "param": "sigma",
          "value": 1.2254673367337094
         },
         {
          "param": "sigma",
          "value": 1.4662586690340336
         },
         {
          "param": "sigma",
          "value": 1.4220864267542621
         },
         {
          "param": "sigma",
          "value": 1.3944616873407505
         },
         {
          "param": "sigma",
          "value": 1.3663025582777624
         },
         {
          "param": "sigma",
          "value": 1.2457032524330378
         },
         {
          "param": "sigma",
          "value": 1.329767085703759
         },
         {
          "param": "sigma",
          "value": 1.3749821491905811
         },
         {
          "param": "sigma",
          "value": 1.42061143586392
         },
         {
          "param": "sigma",
          "value": 1.367578685737748
         },
         {
          "param": "sigma",
          "value": 1.354324535478381
         },
         {
          "param": "sigma",
          "value": 1.438301720508661
         },
         {
          "param": "sigma",
          "value": 1.3035490981829998
         },
         {
          "param": "sigma",
          "value": 1.487973778399778
         },
         {
          "param": "sigma",
          "value": 1.3539186559611693
         },
         {
          "param": "sigma",
          "value": 1.4443839108314431
         },
         {
          "param": "sigma",
          "value": 1.2531581287790716
         },
         {
          "param": "sigma",
          "value": 1.2495035297166877
         },
         {
          "param": "sigma",
          "value": 1.3883021463133864
         },
         {
          "param": "sigma",
          "value": 1.3970680748373405
         },
         {
          "param": "sigma",
          "value": 1.234301143642659
         },
         {
          "param": "sigma",
          "value": 1.2505160696541635
         },
         {
          "param": "sigma",
          "value": 1.3919412971371885
         },
         {
          "param": "sigma",
          "value": 1.3479934707566803
         },
         {
          "param": "sigma",
          "value": 1.3378667865079117
         },
         {
          "param": "sigma",
          "value": 1.3076567022233814
         },
         {
          "param": "sigma",
          "value": 1.3021887300544888
         },
         {
          "param": "sigma",
          "value": 1.3758731546525247
         },
         {
          "param": "sigma",
          "value": 1.3286407157974103
         },
         {
          "param": "sigma",
          "value": 1.261159978061674
         },
         {
          "param": "sigma",
          "value": 1.3013508423186262
         },
         {
          "param": "sigma",
          "value": 1.3467271403193717
         },
         {
          "param": "sigma",
          "value": 1.313646088993015
         },
         {
          "param": "sigma",
          "value": 1.3086001710731643
         },
         {
          "param": "sigma",
          "value": 1.359619926966351
         },
         {
          "param": "sigma",
          "value": 1.3347018908212516
         },
         {
          "param": "sigma",
          "value": 1.2953062004220075
         },
         {
          "param": "sigma",
          "value": 1.3087550949091347
         },
         {
          "param": "sigma",
          "value": 1.4625741608490883
         },
         {
          "param": "sigma",
          "value": 1.318773161364182
         },
         {
          "param": "sigma",
          "value": 1.3747285635313338
         },
         {
          "param": "sigma",
          "value": 1.3314344291170586
         },
         {
          "param": "sigma",
          "value": 1.277309552945776
         },
         {
          "param": "sigma",
          "value": 1.2211504063514729
         },
         {
          "param": "sigma",
          "value": 1.3665777100586098
         },
         {
          "param": "sigma",
          "value": 1.3584928375077001
         },
         {
          "param": "sigma",
          "value": 1.3430275016697997
         },
         {
          "param": "sigma",
          "value": 1.296207778120063
         },
         {
          "param": "sigma",
          "value": 1.3438998432538283
         },
         {
          "param": "sigma",
          "value": 1.3292863980390204
         },
         {
          "param": "sigma",
          "value": 1.3573421472569904
         },
         {
          "param": "sigma",
          "value": 1.3437640326553648
         },
         {
          "param": "sigma",
          "value": 1.3182307306818213
         },
         {
          "param": "sigma",
          "value": 1.3527083356093996
         },
         {
          "param": "sigma",
          "value": 1.2557307396504394
         },
         {
          "param": "sigma",
          "value": 1.213002898219073
         },
         {
          "param": "sigma",
          "value": 1.275058503565617
         },
         {
          "param": "sigma",
          "value": 1.2620275182581244
         },
         {
          "param": "sigma",
          "value": 1.2904151045950591
         },
         {
          "param": "sigma",
          "value": 1.4640155082876831
         },
         {
          "param": "sigma",
          "value": 1.3087879147966344
         },
         {
          "param": "sigma",
          "value": 1.339006161847155
         },
         {
          "param": "sigma",
          "value": 1.335349440287102
         },
         {
          "param": "sigma",
          "value": 1.4143456156105738
         },
         {
          "param": "sigma",
          "value": 1.3730999044416614
         },
         {
          "param": "sigma",
          "value": 1.4084107408069808
         },
         {
          "param": "sigma",
          "value": 1.449372144058625
         },
         {
          "param": "sigma",
          "value": 1.3349140275318825
         },
         {
          "param": "sigma",
          "value": 1.404773504060084
         },
         {
          "param": "sigma",
          "value": 1.3275058248972211
         },
         {
          "param": "sigma",
          "value": 1.3752898648278136
         },
         {
          "param": "sigma",
          "value": 1.3167602244125054
         },
         {
          "param": "sigma",
          "value": 1.3413430046432446
         },
         {
          "param": "sigma",
          "value": 1.3371572111271322
         },
         {
          "param": "sigma",
          "value": 1.4241264109719034
         },
         {
          "param": "sigma",
          "value": 1.3000114148910558
         },
         {
          "param": "sigma",
          "value": 1.3125678487375507
         },
         {
          "param": "sigma",
          "value": 1.2822388640212938
         },
         {
          "param": "sigma",
          "value": 1.2244364856539107
         },
         {
          "param": "sigma",
          "value": 1.2765632032842056
         },
         {
          "param": "sigma",
          "value": 1.2716427347550723
         },
         {
          "param": "sigma",
          "value": 1.3171731627184768
         },
         {
          "param": "sigma",
          "value": 1.29229741824097
         },
         {
          "param": "sigma",
          "value": 1.3871286445739486
         },
         {
          "param": "sigma",
          "value": 1.2640264334863784
         },
         {
          "param": "sigma",
          "value": 1.2741052981628083
         },
         {
          "param": "sigma",
          "value": 1.3286598548698696
         },
         {
          "param": "sigma",
          "value": 1.370420116011621
         },
         {
          "param": "sigma",
          "value": 1.2786813505422296
         },
         {
          "param": "sigma",
          "value": 1.3497410896118285
         },
         {
          "param": "sigma",
          "value": 1.2815000077390999
         },
         {
          "param": "sigma",
          "value": 1.2678165997988553
         },
         {
          "param": "sigma",
          "value": 1.3285726268900315
         },
         {
          "param": "sigma",
          "value": 1.3384589250953667
         },
         {
          "param": "sigma",
          "value": 1.2955041974540855
         },
         {
          "param": "sigma",
          "value": 1.433748030488991
         },
         {
          "param": "sigma",
          "value": 1.3423429261106221
         },
         {
          "param": "sigma",
          "value": 1.328408968476571
         },
         {
          "param": "sigma",
          "value": 1.2760156124973567
         },
         {
          "param": "sigma",
          "value": 1.43691721900941
         },
         {
          "param": "sigma",
          "value": 1.3479598775939785
         },
         {
          "param": "sigma",
          "value": 1.3576887027556388
         },
         {
          "param": "sigma",
          "value": 1.3904919449204118
         },
         {
          "param": "sigma",
          "value": 1.3559630062131496
         },
         {
          "param": "sigma",
          "value": 1.353476687833801
         },
         {
          "param": "sigma",
          "value": 1.3072621904191628
         },
         {
          "param": "sigma",
          "value": 1.4095330597547928
         },
         {
          "param": "sigma",
          "value": 1.2756260748776311
         },
         {
          "param": "sigma",
          "value": 1.32932650515542
         },
         {
          "param": "sigma",
          "value": 1.4154233210323235
         },
         {
          "param": "sigma",
          "value": 1.3671919033415534
         },
         {
          "param": "sigma",
          "value": 1.314984060377362
         },
         {
          "param": "sigma",
          "value": 1.233981476715105
         },
         {
          "param": "sigma",
          "value": 1.46527302076956
         },
         {
          "param": "sigma",
          "value": 1.2979100235276548
         },
         {
          "param": "sigma",
          "value": 1.338665093776777
         },
         {
          "param": "sigma",
          "value": 1.360172642692486
         },
         {
          "param": "sigma",
          "value": 1.3515809766503117
         },
         {
          "param": "sigma",
          "value": 1.3437668046670554
         },
         {
          "param": "sigma",
          "value": 1.369816852161102
         },
         {
          "param": "sigma",
          "value": 1.3438643472124536
         },
         {
          "param": "sigma",
          "value": 1.2911024654195464
         },
         {
          "param": "sigma",
          "value": 1.3232858220427814
         },
         {
          "param": "sigma",
          "value": 1.369816852161102
         },
         {
          "param": "sigma",
          "value": 1.30479359604181
         },
         {
          "param": "sigma",
          "value": 1.3578624371500656
         },
         {
          "param": "sigma",
          "value": 1.3505718616197244
         },
         {
          "param": "sigma",
          "value": 1.3059055119824938
         },
         {
          "param": "sigma",
          "value": 1.3280023163428547
         },
         {
          "param": "sigma",
          "value": 1.3490819968260896
         },
         {
          "param": "sigma",
          "value": 1.318654696325151
         },
         {
          "param": "sigma",
          "value": 1.3009408182864612
         },
         {
          "param": "sigma",
          "value": 1.275260565415283
         },
         {
          "param": "sigma",
          "value": 1.3461334838864185
         },
         {
          "param": "sigma",
          "value": 1.2772650625986925
         },
         {
          "param": "sigma",
          "value": 1.3800480421226753
         },
         {
          "param": "sigma",
          "value": 1.2516320428108598
         },
         {
          "param": "sigma",
          "value": 1.3212979384338213
         },
         {
          "param": "sigma",
          "value": 1.2523512745161127
         },
         {
          "param": "sigma",
          "value": 1.2271104198415304
         },
         {
          "param": "sigma",
          "value": 1.297644399659423
         },
         {
          "param": "sigma",
          "value": 1.3446065611666853
         },
         {
          "param": "sigma",
          "value": 1.226207397678468
         },
         {
          "param": "sigma",
          "value": 1.3312665556082253
         },
         {
          "param": "sigma",
          "value": 1.3419857444092138
         },
         {
          "param": "sigma",
          "value": 1.3155014205047415
         },
         {
          "param": "sigma",
          "value": 1.4387288104829377
         },
         {
          "param": "sigma",
          "value": 1.3334507414867174
         },
         {
          "param": "sigma",
          "value": 1.3140626662473314
         },
         {
          "param": "sigma",
          "value": 1.3196663715255632
         },
         {
          "param": "sigma",
          "value": 1.3073354103000079
         },
         {
          "param": "sigma",
          "value": 1.3315105243210577
         },
         {
          "param": "sigma",
          "value": 1.2833368061909352
         },
         {
          "param": "sigma",
          "value": 1.3139335333935396
         },
         {
          "param": "sigma",
          "value": 1.4302429616347658
         },
         {
          "param": "sigma",
          "value": 1.3509024655862758
         },
         {
          "param": "sigma",
          "value": 1.2799765826848817
         },
         {
          "param": "sigma",
          "value": 1.2902265917919868
         },
         {
          "param": "sigma",
          "value": 1.227028882547411
         },
         {
          "param": "sigma",
          "value": 1.3279553297106719
         },
         {
          "param": "sigma",
          "value": 1.2970424874584963
         },
         {
          "param": "sigma",
          "value": 1.2626335929521253
         },
         {
          "param": "sigma",
          "value": 1.4327831813027092
         },
         {
          "param": "sigma",
          "value": 1.3781302692549366
         },
         {
          "param": "sigma",
          "value": 1.3162286085468673
         },
         {
          "param": "sigma",
          "value": 1.2032266966509098
         },
         {
          "param": "sigma",
          "value": 1.4724816366208175
         },
         {
          "param": "sigma",
          "value": 1.3864694581697485
         },
         {
          "param": "sigma",
          "value": 1.3854136325543456
         },
         {
          "param": "sigma",
          "value": 1.2474533298666337
         },
         {
          "param": "sigma",
          "value": 1.3275758262077366
         },
         {
          "param": "sigma",
          "value": 1.2630364029190362
         },
         {
          "param": "sigma",
          "value": 1.3856638495333498
         },
         {
          "param": "sigma",
          "value": 1.2247172092254799
         },
         {
          "param": "sigma",
          "value": 1.2755841733409217
         },
         {
          "param": "sigma",
          "value": 1.3666998056413873
         },
         {
          "param": "sigma",
          "value": 1.3901102200171596
         },
         {
          "param": "sigma",
          "value": 1.3886251014911486
         },
         {
          "param": "sigma",
          "value": 1.4099680391528338
         },
         {
          "param": "sigma",
          "value": 1.3258540116062716
         },
         {
          "param": "sigma",
          "value": 1.264800406053138
         },
         {
          "param": "sigma",
          "value": 1.3837355909998599
         },
         {
          "param": "sigma",
          "value": 1.3556886485358701
         },
         {
          "param": "sigma",
          "value": 1.2991720048178514
         },
         {
          "param": "sigma",
          "value": 1.38579514535211
         },
         {
          "param": "sigma",
          "value": 1.4279184987035014
         },
         {
          "param": "sigma",
          "value": 1.3066208540060607
         },
         {
          "param": "sigma",
          "value": 1.3017837846330478
         },
         {
          "param": "sigma",
          "value": 1.2950113444590023
         },
         {
          "param": "sigma",
          "value": 1.232114346378946
         },
         {
          "param": "sigma",
          "value": 1.393784454825539
         },
         {
          "param": "sigma",
          "value": 1.3424188599164444
         },
         {
          "param": "sigma",
          "value": 1.346712474643629
         },
         {
          "param": "sigma",
          "value": 1.358905877270878
         },
         {
          "param": "sigma",
          "value": 1.398947888261502
         },
         {
          "param": "sigma",
          "value": 1.3355784736494984
         },
         {
          "param": "sigma",
          "value": 1.358323016838344
         },
         {
          "param": "sigma",
          "value": 1.3510072986883566
         },
         {
          "param": "sigma",
          "value": 1.5362472085583285
         },
         {
          "param": "sigma",
          "value": 1.325066181487944
         },
         {
          "param": "sigma",
          "value": 1.3798191387325336
         },
         {
          "param": "sigma",
          "value": 1.2819074281676388
         },
         {
          "param": "sigma",
          "value": 1.4960705725168066
         },
         {
          "param": "sigma",
          "value": 1.278771737555258
         },
         {
          "param": "sigma",
          "value": 1.2949500960916678
         },
         {
          "param": "sigma",
          "value": 1.4302034042090175
         },
         {
          "param": "sigma",
          "value": 1.2084562330556683
         },
         {
          "param": "sigma",
          "value": 1.255835177304779
         },
         {
          "param": "sigma",
          "value": 1.350943757045741
         },
         {
          "param": "sigma",
          "value": 1.2415891290678034
         },
         {
          "param": "sigma",
          "value": 1.2842506973160015
         },
         {
          "param": "sigma",
          "value": 1.4016469447661815
         },
         {
          "param": "sigma",
          "value": 1.342615868547082
         },
         {
          "param": "sigma",
          "value": 1.3381712806720707
         },
         {
          "param": "sigma",
          "value": 1.4026142050782993
         },
         {
          "param": "sigma",
          "value": 1.3235727037669442
         },
         {
          "param": "sigma",
          "value": 1.3284853159180097
         },
         {
          "param": "sigma",
          "value": 1.4133461467077233
         },
         {
          "param": "sigma",
          "value": 1.3491797049878604
         },
         {
          "param": "sigma",
          "value": 1.3235727037669442
         },
         {
          "param": "sigma",
          "value": 1.3042989792898627
         },
         {
          "param": "sigma",
          "value": 1.4006553706414935
         },
         {
          "param": "sigma",
          "value": 1.3513279851759588
         },
         {
          "param": "sigma",
          "value": 1.3427008189198715
         },
         {
          "param": "sigma",
          "value": 1.2985102604668415
         },
         {
          "param": "sigma",
          "value": 1.243276584439595
         },
         {
          "param": "sigma",
          "value": 1.318538498170677
         },
         {
          "param": "sigma",
          "value": 1.3765819503317158
         },
         {
          "param": "sigma",
          "value": 1.361440050508814
         },
         {
          "param": "sigma",
          "value": 1.3379852842311508
         },
         {
          "param": "sigma",
          "value": 1.3495308468329195
         },
         {
          "param": "sigma",
          "value": 1.3960857206487012
         },
         {
          "param": "sigma",
          "value": 1.3292269235160028
         },
         {
          "param": "sigma",
          "value": 1.306592438698041
         },
         {
          "param": "sigma",
          "value": 1.4034692112284661
         },
         {
          "param": "sigma",
          "value": 1.3831052763701985
         },
         {
          "param": "sigma",
          "value": 1.347932435786927
         },
         {
          "param": "sigma",
          "value": 1.3285183519214032
         },
         {
          "param": "sigma",
          "value": 1.468197064520733
         },
         {
          "param": "sigma",
          "value": 1.299171147963756
         },
         {
          "param": "sigma",
          "value": 1.3719724761457455
         },
         {
          "param": "sigma",
          "value": 1.2572010558237001
         },
         {
          "param": "sigma",
          "value": 1.426685576061057
         },
         {
          "param": "sigma",
          "value": 1.3620658807445891
         },
         {
          "param": "sigma",
          "value": 1.4678736399505583
         },
         {
          "param": "sigma",
          "value": 1.4299229972013525
         },
         {
          "param": "sigma",
          "value": 1.2553128796012405
         },
         {
          "param": "sigma",
          "value": 1.3177925838745066
         },
         {
          "param": "sigma",
          "value": 1.2197921955885576
         },
         {
          "param": "sigma",
          "value": 1.5179224883816764
         },
         {
          "param": "sigma",
          "value": 1.3977309935327797
         },
         {
          "param": "sigma",
          "value": 1.3023262378843476
         },
         {
          "param": "sigma",
          "value": 1.204092364427846
         },
         {
          "param": "sigma",
          "value": 1.424849412910325
         },
         {
          "param": "sigma",
          "value": 1.36039081633793
         },
         {
          "param": "sigma",
          "value": 1.227098741480921
         },
         {
          "param": "sigma",
          "value": 1.2416655168115485
         },
         {
          "param": "sigma",
          "value": 1.3749989660937343
         },
         {
          "param": "sigma",
          "value": 1.392674912940796
         },
         {
          "param": "sigma",
          "value": 1.3054260352947404
         },
         {
          "param": "sigma",
          "value": 1.3796368748407974
         },
         {
          "param": "sigma",
          "value": 1.2848035561927542
         },
         {
          "param": "sigma",
          "value": 1.39671139378788
         },
         {
          "param": "sigma",
          "value": 1.3525453084146137
         },
         {
          "param": "sigma",
          "value": 1.3077346189767647
         },
         {
          "param": "sigma",
          "value": 1.1619236007186398
         },
         {
          "param": "sigma",
          "value": 1.332606432405463
         },
         {
          "param": "sigma",
          "value": 1.289507148269954
         },
         {
          "param": "sigma",
          "value": 1.3692682519057084
         },
         {
          "param": "sigma",
          "value": 1.3293189382606911
         },
         {
          "param": "sigma",
          "value": 1.2958271458132853
         },
         {
          "param": "sigma",
          "value": 1.3675908308989269
         },
         {
          "param": "sigma",
          "value": 1.3219105911465174
         },
         {
          "param": "sigma",
          "value": 1.2670713046650401
         },
         {
          "param": "sigma",
          "value": 1.2749734954908518
         },
         {
          "param": "sigma",
          "value": 1.2974944781808686
         },
         {
          "param": "sigma",
          "value": 1.3829542110982451
         },
         {
          "param": "sigma",
          "value": 1.3478854817636496
         },
         {
          "param": "sigma",
          "value": 1.3014889958613898
         },
         {
          "param": "sigma",
          "value": 1.2306933784102094
         },
         {
          "param": "sigma",
          "value": 1.2416119092213302
         },
         {
          "param": "sigma",
          "value": 1.3331527383755821
         },
         {
          "param": "sigma",
          "value": 1.2865964740004168
         },
         {
          "param": "sigma",
          "value": 1.4266652929781745
         },
         {
          "param": "sigma",
          "value": 1.3627152145143864
         },
         {
          "param": "sigma",
          "value": 1.3262051914305926
         },
         {
          "param": "sigma",
          "value": 1.232167622119752
         },
         {
          "param": "sigma",
          "value": 1.3320542909800777
         },
         {
          "param": "sigma",
          "value": 1.2920125204530253
         },
         {
          "param": "sigma",
          "value": 1.3263914293175636
         },
         {
          "param": "sigma",
          "value": 1.2801643567037297
         },
         {
          "param": "sigma",
          "value": 1.2977095072371612
         },
         {
          "param": "sigma",
          "value": 1.4207733395988473
         },
         {
          "param": "sigma",
          "value": 1.279710988232054
         },
         {
          "param": "sigma",
          "value": 1.2801643567037297
         },
         {
          "param": "sigma",
          "value": 1.3287616027234148
         },
         {
          "param": "sigma",
          "value": 1.3315829332745732
         },
         {
          "param": "sigma",
          "value": 1.3684245275733256
         },
         {
          "param": "sigma",
          "value": 1.348618496937644
         },
         {
          "param": "sigma",
          "value": 1.3141305787770787
         },
         {
          "param": "sigma",
          "value": 1.215342945497773
         },
         {
          "param": "sigma",
          "value": 1.3657259725508306
         },
         {
          "param": "sigma",
          "value": 1.3273567401897413
         },
         {
          "param": "sigma",
          "value": 1.4046435115556068
         },
         {
          "param": "sigma",
          "value": 1.3544942307278738
         },
         {
          "param": "sigma",
          "value": 1.3344162144916973
         },
         {
          "param": "sigma",
          "value": 1.3769532720527566
         },
         {
          "param": "sigma",
          "value": 1.2591509091230895
         },
         {
          "param": "sigma",
          "value": 1.3767771058426905
         },
         {
          "param": "sigma",
          "value": 1.2773518588261819
         },
         {
          "param": "sigma",
          "value": 1.337487424901364
         },
         {
          "param": "sigma",
          "value": 1.3585619776556022
         },
         {
          "param": "sigma",
          "value": 1.2996610839711755
         },
         {
          "param": "sigma",
          "value": 1.3839424843929307
         },
         {
          "param": "sigma",
          "value": 1.376272238442266
         },
         {
          "param": "sigma",
          "value": 1.4092630426854476
         },
         {
          "param": "sigma",
          "value": 1.3493486801609125
         },
         {
          "param": "sigma",
          "value": 1.2784411120838706
         },
         {
          "param": "sigma",
          "value": 1.3928629427292825
         },
         {
          "param": "sigma",
          "value": 1.3026905592506703
         },
         {
          "param": "sigma",
          "value": 1.2912401732834897
         },
         {
          "param": "sigma",
          "value": 1.4123807400915807
         },
         {
          "param": "sigma",
          "value": 1.2859862831372826
         },
         {
          "param": "sigma",
          "value": 1.4547275967727475
         },
         {
          "param": "sigma",
          "value": 1.3085397655247042
         },
         {
          "param": "sigma",
          "value": 1.408585476970211
         },
         {
          "param": "sigma",
          "value": 1.2731117496680193
         },
         {
          "param": "sigma",
          "value": 1.3760428275539272
         },
         {
          "param": "sigma",
          "value": 1.401405893213195
         },
         {
          "param": "sigma",
          "value": 1.3421716184959471
         },
         {
          "param": "sigma",
          "value": 1.297934949635645
         },
         {
          "param": "sigma",
          "value": 1.2773425803710596
         },
         {
          "param": "sigma",
          "value": 1.4715269828599005
         },
         {
          "param": "sigma",
          "value": 1.4019211437665504
         },
         {
          "param": "sigma",
          "value": 1.4155475712945038
         },
         {
          "param": "sigma",
          "value": 1.26368400286087
         },
         {
          "param": "sigma",
          "value": 1.268328020717096
         },
         {
          "param": "sigma",
          "value": 1.380038788005818
         },
         {
          "param": "sigma",
          "value": 1.268455813554302
         },
         {
          "param": "sigma",
          "value": 1.2311911326454954
         },
         {
          "param": "sigma",
          "value": 1.2337129817877643
         },
         {
          "param": "sigma",
          "value": 1.340204584139142
         },
         {
          "param": "sigma",
          "value": 1.3137695288435927
         },
         {
          "param": "sigma",
          "value": 1.438546241205723
         },
         {
          "param": "sigma",
          "value": 1.3242118028948533
         },
         {
          "param": "sigma",
          "value": 1.4693021304185276
         },
         {
          "param": "sigma",
          "value": 1.3075966913570398
         },
         {
          "param": "sigma",
          "value": 1.430004510762991
         },
         {
          "param": "sigma",
          "value": 1.3150968195393835
         },
         {
          "param": "sigma",
          "value": 1.4108388982622095
         },
         {
          "param": "sigma",
          "value": 1.5294530795202053
         },
         {
          "param": "sigma",
          "value": 1.2600167663339739
         },
         {
          "param": "sigma",
          "value": 1.296042008560835
         },
         {
          "param": "sigma",
          "value": 1.362809798181381
         },
         {
          "param": "sigma",
          "value": 1.3884222017421683
         },
         {
          "param": "sigma",
          "value": 1.3403360272430362
         },
         {
          "param": "sigma",
          "value": 1.3890343758046109
         },
         {
          "param": "sigma",
          "value": 1.2416365697669358
         },
         {
          "param": "sigma",
          "value": 1.455828482967601
         },
         {
          "param": "sigma",
          "value": 1.4358513773990236
         },
         {
          "param": "sigma",
          "value": 1.3613812476826317
         },
         {
          "param": "sigma",
          "value": 1.2557311883849815
         },
         {
          "param": "sigma",
          "value": 1.2973064497138809
         },
         {
          "param": "sigma",
          "value": 1.440130068744862
         },
         {
          "param": "sigma",
          "value": 1.2245899373708677
         },
         {
          "param": "sigma",
          "value": 1.382813273379508
         },
         {
          "param": "sigma",
          "value": 1.3581194496404538
         },
         {
          "param": "sigma",
          "value": 1.339933705362585
         },
         {
          "param": "sigma",
          "value": 1.4542880360414123
         },
         {
          "param": "sigma",
          "value": 1.307017280151939
         },
         {
          "param": "sigma",
          "value": 1.3684577333590418
         },
         {
          "param": "sigma",
          "value": 1.2778476017520752
         },
         {
          "param": "sigma",
          "value": 1.4847536369298673
         },
         {
          "param": "sigma",
          "value": 1.2982090333307716
         },
         {
          "param": "sigma",
          "value": 1.3574854166549528
         },
         {
          "param": "sigma",
          "value": 1.2791610153845692
         },
         {
          "param": "sigma",
          "value": 1.2796240078132386
         },
         {
          "param": "sigma",
          "value": 1.4225340781605074
         },
         {
          "param": "sigma",
          "value": 1.2920809247072111
         },
         {
          "param": "sigma",
          "value": 1.3924845818411065
         },
         {
          "param": "sigma",
          "value": 1.3979936501068035
         },
         {
          "param": "sigma",
          "value": 1.3921353802462517
         },
         {
          "param": "sigma",
          "value": 1.3367722127411368
         },
         {
          "param": "sigma",
          "value": 1.2717444072224893
         },
         {
          "param": "sigma",
          "value": 1.3950132247190927
         },
         {
          "param": "sigma",
          "value": 1.3310386839123578
         },
         {
          "param": "sigma",
          "value": 1.405213234301874
         },
         {
          "param": "sigma",
          "value": 1.495707480841193
         },
         {
          "param": "sigma",
          "value": 1.3158301719720122
         },
         {
          "param": "sigma",
          "value": 1.3341771342630924
         },
         {
          "param": "sigma",
          "value": 1.3577772902926744
         },
         {
          "param": "sigma",
          "value": 1.2445859435334754
         },
         {
          "param": "sigma",
          "value": 1.3914788582290232
         },
         {
          "param": "sigma",
          "value": 1.3072618501454878
         },
         {
          "param": "sigma",
          "value": 1.3515981224682394
         },
         {
          "param": "sigma",
          "value": 1.4160318104040428
         },
         {
          "param": "sigma",
          "value": 1.3608882971875855
         },
         {
          "param": "sigma",
          "value": 1.3256768187528125
         },
         {
          "param": "sigma",
          "value": 1.3014350662528948
         },
         {
          "param": "sigma",
          "value": 1.3691262624404308
         },
         {
          "param": "sigma",
          "value": 1.2881309876655287
         },
         {
          "param": "sigma",
          "value": 1.4030539672686733
         },
         {
          "param": "sigma",
          "value": 1.3530116843800524
         },
         {
          "param": "sigma",
          "value": 1.2901656512064754
         },
         {
          "param": "sigma",
          "value": 1.271146841203821
         },
         {
          "param": "sigma",
          "value": 1.2980402122881722
         },
         {
          "param": "sigma",
          "value": 1.320464844830201
         },
         {
          "param": "sigma",
          "value": 1.3685033815736276
         },
         {
          "param": "sigma",
          "value": 1.39267399204077
         },
         {
          "param": "sigma",
          "value": 1.2980402122881722
         },
         {
          "param": "sigma",
          "value": 1.2956707916574097
         },
         {
          "param": "sigma",
          "value": 1.3857838671274898
         },
         {
          "param": "sigma",
          "value": 1.275531117036929
         },
         {
          "param": "sigma",
          "value": 1.4104505597781734
         },
         {
          "param": "sigma",
          "value": 1.2875215260460389
         },
         {
          "param": "sigma",
          "value": 1.3298200263133995
         },
         {
          "param": "sigma",
          "value": 1.2930449816448628
         },
         {
          "param": "sigma",
          "value": 1.3105751958563119
         },
         {
          "param": "sigma",
          "value": 1.4322770607046484
         },
         {
          "param": "sigma",
          "value": 1.3730449826729936
         },
         {
          "param": "sigma",
          "value": 1.3178034047190215
         },
         {
          "param": "sigma",
          "value": 1.3283328409934945
         },
         {
          "param": "sigma",
          "value": 1.340382096583989
         },
         {
          "param": "sigma",
          "value": 1.3385290417064915
         },
         {
          "param": "sigma",
          "value": 1.30883243259016
         },
         {
          "param": "sigma",
          "value": 1.3966243298394663
         },
         {
          "param": "sigma",
          "value": 1.2749421193492902
         },
         {
          "param": "sigma",
          "value": 1.3354902945951377
         },
         {
          "param": "sigma",
          "value": 1.4053958744965633
         },
         {
          "param": "sigma",
          "value": 1.3039163359395465
         },
         {
          "param": "sigma",
          "value": 1.4007881243020814
         },
         {
          "param": "sigma",
          "value": 1.300569616812667
         },
         {
          "param": "sigma",
          "value": 1.319024111346846
         },
         {
          "param": "sigma",
          "value": 1.3310448574045817
         },
         {
          "param": "sigma",
          "value": 1.2579964461429922
         },
         {
          "param": "sigma",
          "value": 1.371111292560935
         },
         {
          "param": "sigma",
          "value": 1.2925985938067444
         },
         {
          "param": "sigma",
          "value": 1.3788551622119958
         },
         {
          "param": "sigma",
          "value": 1.391847414312691
         },
         {
          "param": "sigma",
          "value": 1.3394207457716685
         },
         {
          "param": "sigma",
          "value": 1.189492727091957
         },
         {
          "param": "sigma",
          "value": 1.4724634626876751
         },
         {
          "param": "sigma",
          "value": 1.3065378876327318
         },
         {
          "param": "sigma",
          "value": 1.3374456855256556
         },
         {
          "param": "sigma",
          "value": 1.4461045310551741
         },
         {
          "param": "sigma",
          "value": 1.4724634626876751
         },
         {
          "param": "sigma",
          "value": 1.2624169444748623
         },
         {
          "param": "sigma",
          "value": 1.3030137644278066
         },
         {
          "param": "sigma",
          "value": 1.395512641547745
         },
         {
          "param": "sigma",
          "value": 1.3800574052787657
         },
         {
          "param": "sigma",
          "value": 1.3299490392367928
         },
         {
          "param": "sigma",
          "value": 1.3000691693056126
         },
         {
          "param": "sigma",
          "value": 1.403241767865439
         },
         {
          "param": "sigma",
          "value": 1.3314468097458079
         },
         {
          "param": "sigma",
          "value": 1.3299490392367928
         },
         {
          "param": "sigma",
          "value": 1.3090115117406056
         },
         {
          "param": "sigma",
          "value": 1.293933977823212
         },
         {
          "param": "sigma",
          "value": 1.3202277394150923
         },
         {
          "param": "sigma",
          "value": 1.380517181649226
         },
         {
          "param": "sigma",
          "value": 1.372042488350057
         },
         {
          "param": "sigma",
          "value": 1.3111077705402763
         },
         {
          "param": "sigma",
          "value": 1.3249551079410222
         },
         {
          "param": "sigma",
          "value": 1.304432340599096
         },
         {
          "param": "sigma",
          "value": 1.316289563455185
         },
         {
          "param": "sigma",
          "value": 1.4424378968069174
         },
         {
          "param": "sigma",
          "value": 1.2412621524148857
         },
         {
          "param": "sigma",
          "value": 1.3812137295199276
         },
         {
          "param": "sigma",
          "value": 1.3857947115491736
         },
         {
          "param": "sigma",
          "value": 1.2216932038509305
         },
         {
          "param": "sigma",
          "value": 1.2808453989543767
         },
         {
          "param": "sigma",
          "value": 1.3956018147697011
         },
         {
          "param": "sigma",
          "value": 1.469130080923686
         },
         {
          "param": "sigma",
          "value": 1.243192283925822
         },
         {
          "param": "sigma",
          "value": 1.389214074704045
         },
         {
          "param": "sigma",
          "value": 1.413936594591729
         },
         {
          "param": "sigma",
          "value": 1.4591774326618487
         },
         {
          "param": "sigma",
          "value": 1.295878631465661
         },
         {
          "param": "sigma",
          "value": 1.387126299672098
         },
         {
          "param": "sigma",
          "value": 1.2813221757425879
         },
         {
          "param": "sigma",
          "value": 1.2940205597273906
         },
         {
          "param": "sigma",
          "value": 1.2519884779851767
         },
         {
          "param": "sigma",
          "value": 1.34803709406301
         },
         {
          "param": "sigma",
          "value": 1.3366371382415088
         },
         {
          "param": "sigma",
          "value": 1.374769250507013
         },
         {
          "param": "sigma",
          "value": 1.4593796339397291
         },
         {
          "param": "sigma",
          "value": 1.3142986171477085
         },
         {
          "param": "sigma",
          "value": 1.3151166786206736
         },
         {
          "param": "sigma",
          "value": 1.401624223874896
         },
         {
          "param": "sigma",
          "value": 1.3593801538207495
         },
         {
          "param": "sigma",
          "value": 1.3943091662465552
         },
         {
          "param": "sigma",
          "value": 1.3047040371097107
         },
         {
          "param": "sigma",
          "value": 1.3135836491616766
         },
         {
          "param": "sigma",
          "value": 1.428078076178899
         },
         {
          "param": "sigma",
          "value": 1.2900560873646474
         },
         {
          "param": "sigma",
          "value": 1.3808281948856551
         },
         {
          "param": "sigma",
          "value": 1.299462912689431
         },
         {
          "param": "sigma",
          "value": 1.2280282043611075
         },
         {
          "param": "sigma",
          "value": 1.3413801827041338
         },
         {
          "param": "sigma",
          "value": 1.2586069508320823
         },
         {
          "param": "sigma",
          "value": 1.3511815951183084
         },
         {
          "param": "sigma",
          "value": 1.3669768784502436
         },
         {
          "param": "sigma",
          "value": 1.3657644350972273
         },
         {
          "param": "sigma",
          "value": 1.348383881896245
         },
         {
          "param": "sigma",
          "value": 1.4753200429779576
         },
         {
          "param": "sigma",
          "value": 1.42853333974994
         },
         {
          "param": "sigma",
          "value": 1.345964174388583
         },
         {
          "param": "sigma",
          "value": 1.3910467445219232
         },
         {
          "param": "sigma",
          "value": 1.4366622974147154
         },
         {
          "param": "sigma",
          "value": 1.262644200852187
         },
         {
          "param": "sigma",
          "value": 1.325437867166736
         },
         {
          "param": "sigma",
          "value": 1.390686836838111
         },
         {
          "param": "sigma",
          "value": 1.4620978956906683
         },
         {
          "param": "sigma",
          "value": 1.4145149726563453
         },
         {
          "param": "sigma",
          "value": 1.3343431167884743
         },
         {
          "param": "sigma",
          "value": 1.4819140221674043
         },
         {
          "param": "sigma",
          "value": 1.2061571806340223
         },
         {
          "param": "sigma",
          "value": 1.2658757479082
         },
         {
          "param": "sigma",
          "value": 1.271748893520772
         },
         {
          "param": "sigma",
          "value": 1.2396966704047734
         },
         {
          "param": "sigma",
          "value": 1.2447953996985732
         },
         {
          "param": "sigma",
          "value": 1.282895328169423
         },
         {
          "param": "sigma",
          "value": 1.3056658059853332
         },
         {
          "param": "sigma",
          "value": 1.3231592234964364
         },
         {
          "param": "sigma",
          "value": 1.543057286804156
         },
         {
          "param": "sigma",
          "value": 1.425542140565249
         },
         {
          "param": "sigma",
          "value": 1.2743978156222315
         },
         {
          "param": "sigma",
          "value": 1.2773072247603756
         },
         {
          "param": "sigma",
          "value": 1.1709000549811803
         },
         {
          "param": "sigma",
          "value": 1.4882430262127313
         },
         {
          "param": "sigma",
          "value": 1.3942202481524475
         },
         {
          "param": "sigma",
          "value": 1.3794574633673893
         },
         {
          "param": "sigma",
          "value": 1.1840774883318483
         },
         {
          "param": "sigma",
          "value": 1.1956424197857982
         },
         {
          "param": "sigma",
          "value": 1.3497932315548704
         },
         {
          "param": "sigma",
          "value": 1.3421202046988003
         },
         {
          "param": "sigma",
          "value": 1.3637485699692864
         },
         {
          "param": "sigma",
          "value": 1.3779416999468512
         },
         {
          "param": "sigma",
          "value": 1.3497932315548704
         },
         {
          "param": "sigma",
          "value": 1.3371105291808432
         },
         {
          "param": "sigma",
          "value": 1.3617611229245394
         },
         {
          "param": "sigma",
          "value": 1.265019370068688
         },
         {
          "param": "sigma",
          "value": 1.3135434598584235
         },
         {
          "param": "sigma",
          "value": 1.3610195016625364
         },
         {
          "param": "sigma",
          "value": 1.4435489761114144
         },
         {
          "param": "sigma",
          "value": 1.340301454631325
         },
         {
          "param": "sigma",
          "value": 1.3255962124383296
         },
         {
          "param": "sigma",
          "value": 1.427505017082712
         },
         {
          "param": "sigma",
          "value": 1.4141944982849477
         },
         {
          "param": "sigma",
          "value": 1.4089250037620449
         },
         {
          "param": "sigma",
          "value": 1.3420782775752755
         },
         {
          "param": "sigma",
          "value": 1.3754435170915165
         },
         {
          "param": "sigma",
          "value": 1.3351314386782394
         },
         {
          "param": "sigma",
          "value": 1.3280249211685529
         },
         {
          "param": "sigma",
          "value": 1.3322946907062183
         },
         {
          "param": "sigma",
          "value": 1.2982802771778899
         },
         {
          "param": "sigma",
          "value": 1.4677686037668856
         },
         {
          "param": "sigma",
          "value": 1.3280249211685529
         },
         {
          "param": "sigma",
          "value": 1.318064452121842
         },
         {
          "param": "sigma",
          "value": 1.3864078582779835
         },
         {
          "param": "sigma",
          "value": 1.499126974819118
         },
         {
          "param": "sigma",
          "value": 1.3423845327681403
         },
         {
          "param": "sigma",
          "value": 1.39731407420526
         },
         {
          "param": "sigma",
          "value": 1.2759149088323798
         },
         {
          "param": "sigma",
          "value": 1.4183805422225828
         },
         {
          "param": "sigma",
          "value": 1.2959231023482303
         },
         {
          "param": "sigma",
          "value": 1.3217881368599358
         },
         {
          "param": "sigma",
          "value": 1.4435046392151387
         },
         {
          "param": "sigma",
          "value": 1.2980173614328774
         },
         {
          "param": "sigma",
          "value": 1.3868496434792312
         },
         {
          "param": "sigma",
          "value": 1.2283769186758307
         },
         {
          "param": "sigma",
          "value": 1.3750398758202058
         },
         {
          "param": "sigma",
          "value": 1.297723908565583
         },
         {
          "param": "sigma",
          "value": 1.362189941964561
         },
         {
          "param": "sigma",
          "value": 1.308550134920779
         },
         {
          "param": "sigma",
          "value": 1.3858147631310747
         },
         {
          "param": "sigma",
          "value": 1.2849671319771585
         },
         {
          "param": "sigma",
          "value": 1.3065840149271986
         },
         {
          "param": "sigma",
          "value": 1.3142250687899526
         },
         {
          "param": "sigma",
          "value": 1.3031839549117838
         },
         {
          "param": "sigma",
          "value": 1.3187128449492473
         },
         {
          "param": "sigma",
          "value": 1.2883983475440266
         },
         {
          "param": "sigma",
          "value": 1.2607538599962096
         },
         {
          "param": "sigma",
          "value": 1.2946576837047252
         },
         {
          "param": "sigma",
          "value": 1.3879048497472657
         },
         {
          "param": "sigma",
          "value": 1.2985458943200865
         },
         {
          "param": "sigma",
          "value": 1.3630521099146522
         },
         {
          "param": "sigma",
          "value": 1.4594587477302623
         },
         {
          "param": "sigma",
          "value": 1.3888728705865763
         },
         {
          "param": "sigma",
          "value": 1.3702198325122275
         },
         {
          "param": "sigma",
          "value": 1.2667392697875521
         },
         {
          "param": "sigma",
          "value": 1.3913375361113782
         },
         {
          "param": "sigma",
          "value": 1.261863614478443
         },
         {
          "param": "sigma",
          "value": 1.3811909700169334
         },
         {
          "param": "sigma",
          "value": 1.282165267738715
         },
         {
          "param": "sigma",
          "value": 1.4130258877945088
         },
         {
          "param": "sigma",
          "value": 1.4105374532497268
         },
         {
          "param": "sigma",
          "value": 1.3548488134870027
         },
         {
          "param": "sigma",
          "value": 1.2840696552199
         },
         {
          "param": "sigma",
          "value": 1.2602622951848976
         },
         {
          "param": "sigma",
          "value": 1.2970253546422057
         },
         {
          "param": "sigma",
          "value": 1.3318676571875439
         },
         {
          "param": "sigma",
          "value": 1.2101855802925707
         },
         {
          "param": "sigma",
          "value": 1.3669797134672583
         },
         {
          "param": "sigma",
          "value": 1.2757758086100293
         },
         {
          "param": "sigma",
          "value": 1.4485926080692466
         },
         {
          "param": "sigma",
          "value": 1.4548812086528864
         },
         {
          "param": "sigma",
          "value": 1.3556675822944961
         },
         {
          "param": "sigma",
          "value": 1.347071650494556
         },
         {
          "param": "sigma",
          "value": 1.3068108113222052
         },
         {
          "param": "sigma",
          "value": 1.2783201326893228
         },
         {
          "param": "sigma",
          "value": 1.2845914282670774
         },
         {
          "param": "sigma",
          "value": 1.3182586703692667
         },
         {
          "param": "sigma",
          "value": 1.4484636942652815
         },
         {
          "param": "sigma",
          "value": 1.2949837760924756
         },
         {
          "param": "sigma",
          "value": 1.3754955649030893
         },
         {
          "param": "sigma",
          "value": 1.3278205800149374
         },
         {
          "param": "sigma",
          "value": 1.242220369071941
         },
         {
          "param": "sigma",
          "value": 1.3079127959119787
         },
         {
          "param": "sigma",
          "value": 1.3593877673310855
         },
         {
          "param": "sigma",
          "value": 1.310250937223853
         },
         {
          "param": "sigma",
          "value": 1.2259445438663623
         },
         {
          "param": "sigma",
          "value": 1.2988201258343932
         },
         {
          "param": "sigma",
          "value": 1.2755801566376208
         },
         {
          "param": "sigma",
          "value": 1.3140648029478503
         },
         {
          "param": "sigma",
          "value": 1.497552938670455
         },
         {
          "param": "sigma",
          "value": 1.3096216202747313
         },
         {
          "param": "sigma",
          "value": 1.3306431465533428
         },
         {
          "param": "sigma",
          "value": 1.2609611773007303
         },
         {
          "param": "sigma",
          "value": 1.3264980770763901
         },
         {
          "param": "sigma",
          "value": 1.2858956162712092
         },
         {
          "param": "sigma",
          "value": 1.4229441596369867
         },
         {
          "param": "sigma",
          "value": 1.3253051087198222
         },
         {
          "param": "sigma",
          "value": 1.3511320576648702
         },
         {
          "param": "sigma",
          "value": 1.3657289842720628
         },
         {
          "param": "sigma",
          "value": 1.258080159840944
         },
         {
          "param": "sigma",
          "value": 1.3873550603005678
         },
         {
          "param": "sigma",
          "value": 1.316167162399968
         },
         {
          "param": "sigma",
          "value": 1.3998312360907352
         },
         {
          "param": "sigma",
          "value": 1.3368631363325745
         },
         {
          "param": "sigma",
          "value": 1.2889054228215755
         },
         {
          "param": "sigma",
          "value": 1.3576069985050265
         },
         {
          "param": "sigma",
          "value": 1.3316704749380586
         },
         {
          "param": "sigma",
          "value": 1.34862561538207
         },
         {
          "param": "sigma",
          "value": 1.4014165563546708
         },
         {
          "param": "sigma",
          "value": 1.2471513761566873
         },
         {
          "param": "sigma",
          "value": 1.3205595010152558
         },
         {
          "param": "sigma",
          "value": 1.3265547793039476
         },
         {
          "param": "sigma",
          "value": 1.331998527857649
         },
         {
          "param": "sigma",
          "value": 1.3241745950454233
         },
         {
          "param": "sigma",
          "value": 1.3526309193451655
         },
         {
          "param": "sigma",
          "value": 1.337473106640941
         },
         {
          "param": "sigma",
          "value": 1.3674059579100901
         },
         {
          "param": "sigma",
          "value": 1.2759310133570807
         },
         {
          "param": "sigma",
          "value": 1.289174453751488
         },
         {
          "param": "sigma",
          "value": 1.371556981986728
         },
         {
          "param": "sigma",
          "value": 1.363198109790048
         },
         {
          "param": "sigma",
          "value": 1.3986032944824356
         },
         {
          "param": "sigma",
          "value": 1.3309250595306767
         },
         {
          "param": "sigma",
          "value": 1.407167422168261
         },
         {
          "param": "sigma",
          "value": 1.3974553872138364
         },
         {
          "param": "sigma",
          "value": 1.2371267817260572
         },
         {
          "param": "sigma",
          "value": 1.3229946822247396
         },
         {
          "param": "sigma",
          "value": 1.4378103225110437
         },
         {
          "param": "sigma",
          "value": 1.312660844044253
         },
         {
          "param": "sigma",
          "value": 1.4452281801667883
         },
         {
          "param": "sigma",
          "value": 1.301660946260915
         },
         {
          "param": "sigma",
          "value": 1.3142879994022652
         },
         {
          "param": "sigma",
          "value": 1.2598209264251148
         },
         {
          "param": "sigma",
          "value": 1.3336766199080559
         },
         {
          "param": "sigma",
          "value": 1.3116275863667677
         },
         {
          "param": "sigma",
          "value": 1.3207746239348959
         },
         {
          "param": "sigma",
          "value": 1.352155012974407
         },
         {
          "param": "sigma",
          "value": 1.334662865859975
         },
         {
          "param": "sigma",
          "value": 1.3731395707363063
         },
         {
          "param": "sigma",
          "value": 1.3385222523865807
         },
         {
          "param": "sigma",
          "value": 1.246552046441706
         },
         {
          "param": "sigma",
          "value": 1.3298733350198315
         },
         {
          "param": "sigma",
          "value": 1.2067778073699627
         },
         {
          "param": "sigma",
          "value": 1.382260287586282
         },
         {
          "param": "sigma",
          "value": 1.334054594071763
         },
         {
          "param": "sigma",
          "value": 1.36924433077991
         },
         {
          "param": "sigma",
          "value": 1.4091890664324283
         },
         {
          "param": "sigma",
          "value": 1.3798490419212481
         },
         {
          "param": "sigma",
          "value": 1.3478901686633669
         },
         {
          "param": "sigma",
          "value": 1.3646169837864688
         },
         {
          "param": "sigma",
          "value": 1.287533383640111
         },
         {
          "param": "sigma",
          "value": 1.363098600609517
         },
         {
          "param": "sigma",
          "value": 1.3773082892000057
         },
         {
          "param": "sigma",
          "value": 1.3373617177086232
         },
         {
          "param": "sigma",
          "value": 1.349758882372737
         },
         {
          "param": "sigma",
          "value": 1.4148243468423076
         },
         {
          "param": "sigma",
          "value": 1.4079285336517755
         },
         {
          "param": "sigma",
          "value": 1.342519090424735
         },
         {
          "param": "sigma",
          "value": 1.3233446869084373
         },
         {
          "param": "sigma",
          "value": 1.421995486004879
         },
         {
          "param": "sigma",
          "value": 1.2887917597410516
         },
         {
          "param": "sigma",
          "value": 1.3166657255921332
         },
         {
          "param": "sigma",
          "value": 1.3685773291033752
         },
         {
          "param": "sigma",
          "value": 1.4119346523706486
         },
         {
          "param": "sigma",
          "value": 1.2754205878326454
         },
         {
          "param": "sigma",
          "value": 1.3413126225284966
         },
         {
          "param": "sigma",
          "value": 1.3547510573408437
         },
         {
          "param": "sigma",
          "value": 1.3732739389255133
         },
         {
          "param": "sigma",
          "value": 1.3547059191755477
         },
         {
          "param": "sigma",
          "value": 1.3043710431616093
         },
         {
          "param": "sigma",
          "value": 1.3547510573408437
         },
         {
          "param": "sigma",
          "value": 1.3831902618641092
         },
         {
          "param": "sigma",
          "value": 1.3753358881740585
         },
         {
          "param": "sigma",
          "value": 1.318715041030122
         },
         {
          "param": "sigma",
          "value": 1.3276080198110005
         },
         {
          "param": "sigma",
          "value": 1.282215150189233
         },
         {
          "param": "sigma",
          "value": 1.4354080352236465
         },
         {
          "param": "sigma",
          "value": 1.3242055072873993
         },
         {
          "param": "sigma",
          "value": 1.37686785627465
         },
         {
          "param": "sigma",
          "value": 1.3140239118915236
         },
         {
          "param": "sigma",
          "value": 1.3119006084884515
         },
         {
          "param": "sigma",
          "value": 1.3617646577875466
         },
         {
          "param": "sigma",
          "value": 1.236075182977839
         },
         {
          "param": "sigma",
          "value": 1.3614172863991973
         },
         {
          "param": "sigma",
          "value": 1.2585529511790974
         },
         {
          "param": "sigma",
          "value": 1.324557001012556
         },
         {
          "param": "sigma",
          "value": 1.2179467977468732
         },
         {
          "param": "sigma",
          "value": 1.3441700681506301
         },
         {
          "param": "sigma",
          "value": 1.4379076090512424
         }
        ],
        "data-44bd98a5b6dfd5bd02b95e5a4b4ea876": [
         {
          "param": "b_GC",
          "value": 0
         },
         {
          "param": "b_PC",
          "value": 1
         }
        ]
       },
       "height": 200,
       "layer": [
        {
         "encoding": {
          "x": {
           "field": "value",
           "type": "quantitative"
          },
          "y": {
           "field": "param",
           "type": "nominal"
          }
         },
         "mark": {
          "extent": "stdev",
          "type": "errorbar"
         }
        },
        {
         "encoding": {
          "color": {
           "field": "param",
           "type": "nominal"
          },
          "x": {
           "aggregate": "mean",
           "field": "value",
           "type": "quantitative"
          },
          "y": {
           "field": "param",
           "type": "nominal"
          }
         },
         "mark": {
          "filled": false,
          "type": "point"
         }
        },
        {
         "data": {
          "name": "data-44bd98a5b6dfd5bd02b95e5a4b4ea876"
         },
         "encoding": {
          "text": {
           "value": "x"
          },
          "x": {
           "field": "value",
           "type": "quantitative"
          },
          "y": {
           "field": "param",
           "type": "nominal"
          }
         },
         "mark": {
          "color": "red",
          "dy": 0,
          "type": "text"
         }
        }
       ],
       "title": "Mean factors. True values are marked with 'x'",
       "width": 400
      },
      "image/png": "[encoded data removed]",
      "text/plain": [
       "<VegaLite 5 object>\n",
       "\n",
       "If you see this message, it means the renderer has not been properly enabled\n",
       "for the frontend that you are using. For more information, see\n",
       "https://altair-viz.github.io/user_guide/display_frontends.html#troubleshooting\n"
      ]
     },
     "execution_count": 10,
     "metadata": {},
     "output_type": "execute_result"
    }
   ],
   "source": [
    "df = fit_df[[\"a\", \"b_PC\", \"b_GC\", \"sigma\"]][:1200]\n",
    "\n",
    "df = df.melt(var_name=\"param\")\n",
    "\n",
    "error_bars = alt.Chart(df).mark_errorbar(extent=\"stdev\").encode(x=\"value\", y=\"param\")\n",
    "\n",
    "points = (\n",
    "    alt.Chart(df)\n",
    "    .mark_point(filled=False)\n",
    "    .encode(x=alt.X(\"value\", aggregate=\"mean\"), y=\"param\", color=\"param\")\n",
    ")\n",
    "\n",
    "text = (\n",
    "    alt.Chart(pd.DataFrame({\"param\": [\"b_GC\", \"b_PC\"], \"value\": [b_GC, b_PC]}))\n",
    "    .mark_text(dy=0, color=\"red\")\n",
    "    .encode(x=\"value\", y=\"param\", text=alt.value(\"x\"))\n",
    ")\n",
    "\n",
    "(error_bars + points + text).properties(\n",
    "    width=400, height=200, title=\"Mean factors. True values are marked with 'x'\"\n",
    ")"
   ]
  },
  {
   "cell_type": "code",
   "execution_count": 11,
   "id": "48af1795-5ed9-4e16-af55-83906ff82f07",
   "metadata": {},
   "outputs": [],
   "source": [
    "from scipy.stats import linregress"
   ]
  },
  {
   "cell_type": "code",
   "execution_count": 13,
   "id": "e649aa29-1169-456f-8d0d-623c17f429e3",
   "metadata": {},
   "outputs": [
    {
     "data": {
      "text/plain": [
       "np.float64(0.15)"
      ]
     },
     "execution_count": 13,
     "metadata": {},
     "output_type": "execute_result"
    }
   ],
   "source": [
    "qlow, qhigh = [0.45, 0.60] # percentiles range\n",
    "plow = float(np.quantile(edu_df[\"parent\"], qlow))\n",
    "phigh = float(np.quantile(edu_df[\"parent\"], qhigh))\n",
    "\n",
    "mask = (edu_df[\"parent\"] > plow) & (edu_df[\"parent\"] < phigh)\n",
    "mask.mean()"
   ]
  },
  {
   "cell_type": "code",
   "execution_count": 14,
   "id": "38baa632-2752-4249-a285-c56f2e7aeeaa",
   "metadata": {},
   "outputs": [],
   "source": [
    "# fit regression line to selected families\n",
    "g = edu_df[\"grandparent\"][mask]\n",
    "c = edu_df[\"child\"][mask]\n",
    "\n",
    "res = linregress(g, c)"
   ]
  },
  {
   "cell_type": "code",
   "execution_count": 15,
   "id": "f06a302a-7ea7-46ea-812f-5073a416799a",
   "metadata": {},
   "outputs": [],
   "source": [
    "grandparent_x = np.linspace(g.min(), g.max())\n",
    "child_y = res.intercept + grandparent_x * res.slope"
   ]
  },
  {
   "cell_type": "code",
   "execution_count": 16,
   "id": "289c1613-30f9-4ffc-8637-6c54a8368b1d",
   "metadata": {},
   "outputs": [
    {
     "data": {
      "application/vnd.vegalite.v5+json": {
       "$schema": "https://vega.github.io/schema/vega-lite/v5.20.1.json",
       "config": {
        "view": {
         "continuousHeight": 300,
         "continuousWidth": 300
        }
       },
       "datasets": {
        "data-10d6855a74c0d3ccd9d32c27cce14fbe": [
         {
          "child": -4.172666719763175,
          "grandparent": -0.2627172934595153,
          "neighborhood": "bad",
          "parent": -2.781278819133636
         },
         {
          "child": 5.630317744171117,
          "grandparent": 1.4853070238940556,
          "neighborhood": "good",
          "parent": 3.5001578902008825
         },
         {
          "child": 4.988596944497936,
          "grandparent": -0.4326453192102708,
          "neighborhood": "good",
          "parent": 2.6081264111601072
         },
         {
          "child": 1.6694095011455983,
          "grandparent": -0.14225213657268568,
          "neighborhood": "good",
          "parent": 1.122703228290563
         },
         {
          "child": -2.8371971684203654,
          "grandparent": 0.05404947991801166,
          "neighborhood": "bad",
          "parent": -2.7955793661133352
         },
         {
          "child": -2.208477728280822,
          "grandparent": 0.27855467467887474,
          "neighborhood": "bad",
          "parent": -2.3102921292257506
         },
         {
          "child": -2.921435614555498,
          "grandparent": 0.9144077263770922,
          "neighborhood": "bad",
          "parent": -0.2514367171929276
         },
         {
          "child": -5.539288938525906,
          "grandparent": -0.7751352820942905,
          "neighborhood": "bad",
          "parent": -3.46457615596189
         },
         {
          "child": -6.238358136802172,
          "grandparent": -1.1634714779397228,
          "neighborhood": "bad",
          "parent": -3.596241860021574
         },
         {
          "child": 2.0134301998246675,
          "grandparent": -0.6461167245085622,
          "neighborhood": "good",
          "parent": 1.1386483242596062
         },
         {
          "child": 2.1428060365263377,
          "grandparent": -0.3395079459131925,
          "neighborhood": "good",
          "parent": 1.1542343344396309
         },
         {
          "child": -2.412223320558708,
          "grandparent": 0.7579418073100461,
          "neighborhood": "bad",
          "parent": -0.04218671863846568
         },
         {
          "child": -1.0355336655776461,
          "grandparent": 0.39331541350321214,
          "neighborhood": "bad",
          "parent": 0.0759736427018951
         },
         {
          "child": 2.1609012997159827,
          "grandparent": 0.09519534863439309,
          "neighborhood": "good",
          "parent": 0.9240919118957402
         },
         {
          "child": 5.809506249529097,
          "grandparent": -0.5807107353075445,
          "neighborhood": "good",
          "parent": 2.5940476580015788
         },
         {
          "child": -2.191778397682092,
          "grandparent": 0.42808154207635957,
          "neighborhood": "bad",
          "parent": -1.0234866393147601
         },
         {
          "child": 4.513327480147136,
          "grandparent": 0.17693674418646235,
          "neighborhood": "good",
          "parent": 2.3646566385557226
         },
         {
          "child": -4.97477887917878,
          "grandparent": -0.11149916615690372,
          "neighborhood": "bad",
          "parent": -2.040193143901208
         },
         {
          "child": -4.014490321871004,
          "grandparent": -1.5296295579605144,
          "neighborhood": "bad",
          "parent": -2.2858776674104946
         },
         {
          "child": -1.007351390007273,
          "grandparent": 1.173207335445408,
          "neighborhood": "bad",
          "parent": -0.6108541572846276
         },
         {
          "child": 3.7515084044292766,
          "grandparent": -0.8352792013600275,
          "neighborhood": "good",
          "parent": 2.53462781520232
         },
         {
          "child": -3.953265065570747,
          "grandparent": -0.8250690121461621,
          "neighborhood": "bad",
          "parent": -1.7291178979296704
         },
         {
          "child": 1.7512085537208002,
          "grandparent": -0.3223103914844841,
          "neighborhood": "good",
          "parent": 0.6336139963788074
         },
         {
          "child": -3.8645901536860863,
          "grandparent": 0.3652700416697817,
          "neighborhood": "bad",
          "parent": -1.0447681629680994
         },
         {
          "child": 8.222947387527407,
          "grandparent": 1.8528398086299835,
          "neighborhood": "good",
          "parent": 4.448775458556833
         },
         {
          "child": 4.974423842396954,
          "grandparent": 1.0777292023606762,
          "neighborhood": "good",
          "parent": 2.8190248546468664
         },
         {
          "child": -2.9320746471900554,
          "grandparent": 0.24447014996069671,
          "neighborhood": "bad",
          "parent": -2.2509649198271275
         },
         {
          "child": -3.58429931588313,
          "grandparent": 0.3938492685420645,
          "neighborhood": "bad",
          "parent": -2.5110912668785765
         },
         {
          "child": -4.29950466435784,
          "grandparent": -0.4826373489609389,
          "neighborhood": "bad",
          "parent": -1.1698420276980308
         },
         {
          "child": -6.240471563349601,
          "grandparent": -0.14657371927592625,
          "neighborhood": "bad",
          "parent": -3.476578095692214
         },
         {
          "child": 3.517059693915762,
          "grandparent": -0.8610635083303917,
          "neighborhood": "good",
          "parent": 0.16139088811251656
         },
         {
          "child": -2.9808986674579163,
          "grandparent": 1.0477825027159657,
          "neighborhood": "bad",
          "parent": 0.5625696697899321
         },
         {
          "child": 0.8723422962385634,
          "grandparent": -0.8730487144989375,
          "neighborhood": "good",
          "parent": -0.7715719460167223
         },
         {
          "child": 1.3477910005126643,
          "grandparent": -1.3728912112939875,
          "neighborhood": "good",
          "parent": -1.3669025245556001
         },
         {
          "child": 8.184296038255045,
          "grandparent": 1.7808294846197465,
          "neighborhood": "good",
          "parent": 5.023094680198388
         },
         {
          "child": 4.281876382637213,
          "grandparent": -0.6262371733569604,
          "neighborhood": "good",
          "parent": 2.287020058052952
         },
         {
          "child": 2.0129154170893546,
          "grandparent": -0.4958638119220365,
          "neighborhood": "good",
          "parent": -0.005928598623651249
         },
         {
          "child": 4.868824632425675,
          "grandparent": 0.25761455090234514,
          "neighborhood": "good",
          "parent": 2.0379279670550723
         },
         {
          "child": 5.88927110660497,
          "grandparent": -0.7910175574429185,
          "neighborhood": "good",
          "parent": 2.2562205889644016
         },
         {
          "child": 3.610127512130467,
          "grandparent": 0.6649728674740295,
          "neighborhood": "good",
          "parent": 1.617204294601232
         },
         {
          "child": 4.9126927746086695,
          "grandparent": 0.03998914916935402,
          "neighborhood": "good",
          "parent": 3.011355313567149
         },
         {
          "child": 3.2867992980268617,
          "grandparent": -0.4226462311398461,
          "neighborhood": "good",
          "parent": 1.3284346962810796
         },
         {
          "child": 2.8984103190219552,
          "grandparent": 0.5728671661585504,
          "neighborhood": "good",
          "parent": 2.2518652619081223
         },
         {
          "child": 4.0471405111730485,
          "grandparent": 1.4768580697836795,
          "neighborhood": "good",
          "parent": 3.0657306017194768
         },
         {
          "child": -5.523648299066971,
          "grandparent": -0.6042801299748943,
          "neighborhood": "bad",
          "parent": -3.9094130418564372
         },
         {
          "child": -5.213547296297596,
          "grandparent": -1.2036718616641777,
          "neighborhood": "bad",
          "parent": -3.498043738713586
         },
         {
          "child": 3.9760169684867535,
          "grandparent": -0.21390530481369907,
          "neighborhood": "good",
          "parent": 1.3538153232766654
         },
         {
          "child": 2.3018052486776246,
          "grandparent": 0.4563541632895454,
          "neighborhood": "good",
          "parent": 1.810746440923408
         },
         {
          "child": 3.3449935278676906,
          "grandparent": 2.1598732818140323,
          "neighborhood": "good",
          "parent": 3.3551414380899973
         },
         {
          "child": -3.9357630435303754,
          "grandparent": 0.3837906872450777,
          "neighborhood": "bad",
          "parent": -2.7670489941219394
         },
         {
          "child": -4.3940356522955035,
          "grandparent": 0.5273168687284809,
          "neighborhood": "bad",
          "parent": -2.5370122249313916
         },
         {
          "child": -2.6425848742521514,
          "grandparent": 0.20298952402098483,
          "neighborhood": "bad",
          "parent": -0.44534482566382905
         },
         {
          "child": 4.131973094725572,
          "grandparent": 0.9584709516394726,
          "neighborhood": "good",
          "parent": 2.6802441828027987
         },
         {
          "child": -5.704383819620092,
          "grandparent": -1.6388324700944992,
          "neighborhood": "bad",
          "parent": -3.048681436975363
         },
         {
          "child": 4.932844529032507,
          "grandparent": 1.9074929205451743,
          "neighborhood": "good",
          "parent": 2.438016111658712
         },
         {
          "child": 6.171277866218888,
          "grandparent": 1.5049462748624973,
          "neighborhood": "good",
          "parent": 4.194489003264907
         },
         {
          "child": 5.289524323612639,
          "grandparent": 1.0870408356777879,
          "neighborhood": "good",
          "parent": 3.716237171821132
         },
         {
          "child": 0.10269602314962123,
          "grandparent": -0.6174504480626682,
          "neighborhood": "good",
          "parent": 0.1183831128854731
         },
         {
          "child": -5.477714935959143,
          "grandparent": 0.5304736557890011,
          "neighborhood": "bad",
          "parent": -1.5649025195786235
         },
         {
          "child": 4.65403572365102,
          "grandparent": 0.580113348085002,
          "neighborhood": "good",
          "parent": 2.4787633775261813
         },
         {
          "child": 3.2726498298298026,
          "grandparent": -0.38533064127855576,
          "neighborhood": "good",
          "parent": 2.2521105111725226
         },
         {
          "child": 3.6924503849765125,
          "grandparent": -0.4810830592493531,
          "neighborhood": "good",
          "parent": 1.748495944989572
         },
         {
          "child": 5.051954386667526,
          "grandparent": 1.4678798573199259,
          "neighborhood": "good",
          "parent": 1.8495868000846354
         },
         {
          "child": -1.7439934149696614,
          "grandparent": -2.211454136478027,
          "neighborhood": "good",
          "parent": -1.9922052489748563
         },
         {
          "child": 3.4599021345701355,
          "grandparent": 1.0569681999286558,
          "neighborhood": "good",
          "parent": 2.124147882600213
         },
         {
          "child": 3.4172756558127446,
          "grandparent": -0.08431588248309281,
          "neighborhood": "good",
          "parent": 1.1179259983665897
         },
         {
          "child": 2.8095487077471453,
          "grandparent": -0.08826597806739311,
          "neighborhood": "good",
          "parent": 1.1592977974477372
         },
         {
          "child": 6.699701275132693,
          "grandparent": 1.586006204593857,
          "neighborhood": "good",
          "parent": 4.411970767617343
         },
         {
          "child": -2.446360889515071,
          "grandparent": 0.11426387740214812,
          "neighborhood": "bad",
          "parent": -1.5821029267002784
         },
         {
          "child": -4.464881849723921,
          "grandparent": -0.6020821668652839,
          "neighborhood": "bad",
          "parent": -1.6644354836164093
         },
         {
          "child": 4.149231305155518,
          "grandparent": -0.3415179851638963,
          "neighborhood": "good",
          "parent": 0.9457726127532242
         },
         {
          "child": -3.13273141582485,
          "grandparent": 0.9056907250271253,
          "neighborhood": "bad",
          "parent": -2.0059161724804726
         },
         {
          "child": 3.879025108677984,
          "grandparent": -0.30793621262162274,
          "neighborhood": "good",
          "parent": 1.7907836164447575
         },
         {
          "child": -4.64952220736508,
          "grandparent": -0.23179877324656964,
          "neighborhood": "bad",
          "parent": -2.6299120314049027
         },
         {
          "child": 6.712567197914815,
          "grandparent": 0.6691118809854842,
          "neighborhood": "good",
          "parent": 3.617022884801883
         },
         {
          "child": 2.083797680130048,
          "grandparent": -0.250177361348553,
          "neighborhood": "good",
          "parent": 1.9669002173526406
         },
         {
          "child": 1.3351560490019527,
          "grandparent": -0.018606645908829187,
          "neighborhood": "good",
          "parent": 0.37550301973359246
         },
         {
          "child": -2.9631310980845287,
          "grandparent": 1.342104152855364,
          "neighborhood": "bad",
          "parent": -2.0824150533593144
         },
         {
          "child": -5.194480010581609,
          "grandparent": -0.6051368325617823,
          "neighborhood": "bad",
          "parent": -3.3614706485404673
         },
         {
          "child": 2.5366013621591175,
          "grandparent": 0.5105060021480533,
          "neighborhood": "good",
          "parent": 1.2215395544218781
         },
         {
          "child": -5.608280084584914,
          "grandparent": 0.6518238803166208,
          "neighborhood": "bad",
          "parent": -2.5597128841331083
         },
         {
          "child": 2.8836432015022555,
          "grandparent": -1.3495380154587888,
          "neighborhood": "good",
          "parent": 0.5141535896245741
         },
         {
          "child": -3.736601708051113,
          "grandparent": 0.006539926404165532,
          "neighborhood": "bad",
          "parent": -1.8553453890765836
         },
         {
          "child": -4.917255263764488,
          "grandparent": -0.7299130416214206,
          "neighborhood": "bad",
          "parent": -3.3771875513281984
         },
         {
          "child": -5.108389406276197,
          "grandparent": -0.6875373075410852,
          "neighborhood": "bad",
          "parent": -1.915129928434283
         },
         {
          "child": -4.4632724459176965,
          "grandparent": -0.3982837283379509,
          "neighborhood": "bad",
          "parent": -2.3871250239943502
         },
         {
          "child": 2.2837232591972976,
          "grandparent": -1.8902515212444881,
          "neighborhood": "good",
          "parent": -0.27003276187407804
         },
         {
          "child": -4.036941117923766,
          "grandparent": -0.34486867049999054,
          "neighborhood": "bad",
          "parent": -3.0856652117454795
         },
         {
          "child": 5.802919687347915,
          "grandparent": 1.0261864020687246,
          "neighborhood": "good",
          "parent": 3.945334086944089
         },
         {
          "child": 4.192972269627511,
          "grandparent": -0.8134881069177065,
          "neighborhood": "good",
          "parent": 1.4491295983318413
         },
         {
          "child": -5.648073464212884,
          "grandparent": -1.097177259164224,
          "neighborhood": "bad",
          "parent": -3.340253036127607
         },
         {
          "child": 5.950115706051346,
          "grandparent": 0.690290729480439,
          "neighborhood": "good",
          "parent": 3.425318609403499
         },
         {
          "child": -4.444154665744779,
          "grandparent": -0.4896611646652901,
          "neighborhood": "bad",
          "parent": -2.3689357286497015
         },
         {
          "child": 4.1514144844151915,
          "grandparent": -0.480552474107166,
          "neighborhood": "good",
          "parent": 0.7459613510516654
         },
         {
          "child": -0.19960247417953925,
          "grandparent": -0.20781724408993493,
          "neighborhood": "bad",
          "parent": -0.5779954813904331
         },
         {
          "child": 0.32608391857196595,
          "grandparent": -1.4455304939519236,
          "neighborhood": "good",
          "parent": -0.4226574287326228
         },
         {
          "child": 5.693795593198553,
          "grandparent": 0.5336938189816172,
          "neighborhood": "good",
          "parent": 2.9306907869410015
         },
         {
          "child": -7.000133147247009,
          "grandparent": -0.3170411782536003,
          "neighborhood": "bad",
          "parent": -3.2855892901758605
         },
         {
          "child": 2.424262663775917,
          "grandparent": -0.34048374756150496,
          "neighborhood": "good",
          "parent": 0.4578827779709631
         },
         {
          "child": -1.2724918522904238,
          "grandparent": -0.5691689554923768,
          "neighborhood": "bad",
          "parent": -1.1551833529229303
         },
         {
          "child": -2.5991833826663644,
          "grandparent": 1.6680675616583773,
          "neighborhood": "bad",
          "parent": 0.3157483607825057
         },
         {
          "child": -1.8387359372460945,
          "grandparent": -0.7614617821296034,
          "neighborhood": "bad",
          "parent": -1.2956438203613012
         },
         {
          "child": 3.2139095175580352,
          "grandparent": 0.23689188255803686,
          "neighborhood": "good",
          "parent": 2.3719436688562228
         },
         {
          "child": 6.085816360466943,
          "grandparent": 0.01722660749537375,
          "neighborhood": "good",
          "parent": 2.941044411183828
         },
         {
          "child": 1.0186392631032903,
          "grandparent": -0.8725554542934705,
          "neighborhood": "good",
          "parent": 0.09123297829287691
         },
         {
          "child": 6.338235704012377,
          "grandparent": -0.27589686820066234,
          "neighborhood": "good",
          "parent": 2.9748642679000517
         },
         {
          "child": -4.4399063172099105,
          "grandparent": 0.513901113639585,
          "neighborhood": "bad",
          "parent": -1.9308402700166034
         },
         {
          "child": 3.1508837190219925,
          "grandparent": 1.0655000530293195,
          "neighborhood": "good",
          "parent": 3.269042739465946
         },
         {
          "child": 3.546088092400659,
          "grandparent": 0.3225584998969157,
          "neighborhood": "good",
          "parent": 2.97104375242773
         },
         {
          "child": -4.198024266695834,
          "grandparent": 0.3953687558208792,
          "neighborhood": "bad",
          "parent": -1.707740677292628
         },
         {
          "child": 3.3107025146246745,
          "grandparent": -0.9255479592446061,
          "neighborhood": "good",
          "parent": 2.451617567355437
         },
         {
          "child": 2.8166713073549077,
          "grandparent": -1.417628349291294,
          "neighborhood": "good",
          "parent": 1.0752957137344912
         },
         {
          "child": -6.043988151738107,
          "grandparent": -0.6199655683514357,
          "neighborhood": "bad",
          "parent": -3.5270594707267184
         },
         {
          "child": 3.307534951846841,
          "grandparent": 0.3210195858596865,
          "neighborhood": "good",
          "parent": 1.9163993864063438
         },
         {
          "child": -3.917814405705042,
          "grandparent": -0.6925159072184776,
          "neighborhood": "bad",
          "parent": -2.373647655142787
         },
         {
          "child": 3.8042773737517774,
          "grandparent": 0.26764090616685127,
          "neighborhood": "good",
          "parent": 3.004505359424151
         },
         {
          "child": -6.6007291476806405,
          "grandparent": -1.0441855151591626,
          "neighborhood": "bad",
          "parent": -3.5479936309301325
         },
         {
          "child": 0.9754456619655953,
          "grandparent": -1.196624517176566,
          "neighborhood": "good",
          "parent": 1.49658700251037
         },
         {
          "child": 3.980385369049081,
          "grandparent": 0.028481356463674976,
          "neighborhood": "good",
          "parent": 1.738642454906255
         },
         {
          "child": -5.1251623524868455,
          "grandparent": -0.09186430527213554,
          "neighborhood": "bad",
          "parent": -3.530539481654558
         },
         {
          "child": 0.4005406584247012,
          "grandparent": -1.4326826719641395,
          "neighborhood": "good",
          "parent": -0.6963767966526282
         },
         {
          "child": -3.782588641386567,
          "grandparent": -0.7045058930205589,
          "neighborhood": "bad",
          "parent": -3.0868756877324404
         },
         {
          "child": -5.4147933531754395,
          "grandparent": -0.4640038691606753,
          "neighborhood": "bad",
          "parent": -2.380629946533375
         },
         {
          "child": 5.995066113763198,
          "grandparent": 1.1382158850121569,
          "neighborhood": "good",
          "parent": 2.078756806541652
         },
         {
          "child": -1.5868025294265988,
          "grandparent": 0.9460847972542833,
          "neighborhood": "bad",
          "parent": 0.6562926076169289
         },
         {
          "child": 4.705270667925693,
          "grandparent": 2.124857342346696,
          "neighborhood": "good",
          "parent": 4.037093961307684
         },
         {
          "child": -2.4029066439311038,
          "grandparent": 1.0094192620128195,
          "neighborhood": "bad",
          "parent": 0.49917299268548
         },
         {
          "child": 0.06407414277937862,
          "grandparent": 0.7905821883104848,
          "neighborhood": "bad",
          "parent": 1.4115086907575098
         },
         {
          "child": -5.761845009747949,
          "grandparent": 0.4696621624001816,
          "neighborhood": "bad",
          "parent": -3.2178311742713546
         },
         {
          "child": -4.024815082645871,
          "grandparent": -0.5357113499947459,
          "neighborhood": "bad",
          "parent": -2.663421323647994
         },
         {
          "child": 3.0373820712743007,
          "grandparent": -0.6113033286917572,
          "neighborhood": "good",
          "parent": 0.2602298028011085
         },
         {
          "child": 1.0338812318383406,
          "grandparent": -2.8170720653405006,
          "neighborhood": "good",
          "parent": -0.3202149650412552
         },
         {
          "child": 2.306094252171689,
          "grandparent": -1.5206107487360134,
          "neighborhood": "good",
          "parent": 1.2540425086236433
         },
         {
          "child": 5.504054012809836,
          "grandparent": -0.11741618831767921,
          "neighborhood": "good",
          "parent": 3.45880272254162
         },
         {
          "child": 4.0062755014134295,
          "grandparent": 0.2825656344227891,
          "neighborhood": "good",
          "parent": 3.302251353895535
         },
         {
          "child": 3.257707852200208,
          "grandparent": -0.5003849233725433,
          "neighborhood": "good",
          "parent": 1.6843794989382554
         },
         {
          "child": -4.716643893565059,
          "grandparent": -0.07222568253175589,
          "neighborhood": "bad",
          "parent": -2.7631106722733803
         },
         {
          "child": 1.325304313705698,
          "grandparent": -0.7584693214955363,
          "neighborhood": "good",
          "parent": 0.36484687406574245
         },
         {
          "child": -2.4280558757470936,
          "grandparent": 0.14360320579290384,
          "neighborhood": "bad",
          "parent": -1.2397167523740813
         },
         {
          "child": 4.94275174135515,
          "grandparent": 0.7463881984181219,
          "neighborhood": "good",
          "parent": 2.7370923117051666
         },
         {
          "child": -4.872387953390694,
          "grandparent": -2.120742936327779,
          "neighborhood": "bad",
          "parent": -3.37297203982111
         },
         {
          "child": -6.1197240643701285,
          "grandparent": -0.06430624602067717,
          "neighborhood": "bad",
          "parent": -2.7045599380930097
         },
         {
          "child": -2.5111822931813776,
          "grandparent": 1.1639208710356241,
          "neighborhood": "bad",
          "parent": -0.4704049190633784
         },
         {
          "child": 1.6180772722870131,
          "grandparent": -0.0005990879616088427,
          "neighborhood": "good",
          "parent": 0.15893868593709448
         },
         {
          "child": -1.903936831268392,
          "grandparent": 0.5643891847150365,
          "neighborhood": "bad",
          "parent": -0.9788091650171467
         },
         {
          "child": -2.716078904911083,
          "grandparent": 0.49431373840109255,
          "neighborhood": "bad",
          "parent": -0.3523148724265719
         },
         {
          "child": 1.8044819423463714,
          "grandparent": -0.011845309267110695,
          "neighborhood": "good",
          "parent": 1.3329030280918293
         },
         {
          "child": -4.478103265287071,
          "grandparent": 1.821626323727907,
          "neighborhood": "bad",
          "parent": -0.17851468806280396
         },
         {
          "child": 1.4518658703661298,
          "grandparent": -1.015417308406215,
          "neighborhood": "good",
          "parent": 0.5108088938356595
         },
         {
          "child": -5.937702222027079,
          "grandparent": 0.0027213649071780293,
          "neighborhood": "bad",
          "parent": -1.402577733519362
         },
         {
          "child": -2.801891924344717,
          "grandparent": -1.0069546670762166,
          "neighborhood": "bad",
          "parent": -1.6157305937449167
         },
         {
          "child": -3.0532347660835524,
          "grandparent": 0.5881218494849245,
          "neighborhood": "bad",
          "parent": -1.5652808203631674
         },
         {
          "child": -2.911506289126188,
          "grandparent": 1.0706226124405218,
          "neighborhood": "bad",
          "parent": 1.1116223955747662
         },
         {
          "child": -3.0145800769090783,
          "grandparent": 0.9093041832613002,
          "neighborhood": "bad",
          "parent": -0.5711765047077528
         },
         {
          "child": -5.914832507245431,
          "grandparent": -1.1337792064499659,
          "neighborhood": "bad",
          "parent": -2.974501782238868
         },
         {
          "child": 5.315942382631671,
          "grandparent": -0.04951136777885813,
          "neighborhood": "good",
          "parent": 1.5316016798113634
         },
         {
          "child": 6.9724915364599145,
          "grandparent": 2.089348246953977,
          "neighborhood": "good",
          "parent": 4.797717419399571
         },
         {
          "child": 2.349894398484591,
          "grandparent": -0.08649250862881049,
          "neighborhood": "good",
          "parent": 0.7852254241876613
         },
         {
          "child": 2.6303939615848466,
          "grandparent": -0.9666635142820724,
          "neighborhood": "good",
          "parent": 1.3718410783206825
         },
         {
          "child": -4.555387110283747,
          "grandparent": -1.4057969703960813,
          "neighborhood": "bad",
          "parent": -1.8768365613808469
         },
         {
          "child": -6.079777423020828,
          "grandparent": -1.4490911000103854,
          "neighborhood": "bad",
          "parent": -4.326765126079577
         },
         {
          "child": 1.95913108824155,
          "grandparent": 0.7803099563113777,
          "neighborhood": "good",
          "parent": 0.5019902128095954
         },
         {
          "child": 0.9788642109395438,
          "grandparent": -1.3018303199998307,
          "neighborhood": "good",
          "parent": 1.5437955769980451
         },
         {
          "child": 6.2589743887041696,
          "grandparent": 1.8028237103518483,
          "neighborhood": "good",
          "parent": 4.093833279232384
         },
         {
          "child": -3.1069587419146236,
          "grandparent": -0.6951611209077777,
          "neighborhood": "bad",
          "parent": -2.883425007527937
         },
         {
          "child": 6.1185830495105975,
          "grandparent": 1.385475183731805,
          "neighborhood": "good",
          "parent": 5.051632466968112
         },
         {
          "child": 4.864567887083799,
          "grandparent": 0.5944539522424352,
          "neighborhood": "good",
          "parent": 3.0779457167728297
         },
         {
          "child": 6.3045075817542084,
          "grandparent": -0.6738999953509186,
          "neighborhood": "good",
          "parent": 3.5944297780445242
         },
         {
          "child": 4.123489754105077,
          "grandparent": -0.24584995834668905,
          "neighborhood": "good",
          "parent": 2.2075051730428052
         },
         {
          "child": 5.499690987034375,
          "grandparent": 0.540945530372288,
          "neighborhood": "good",
          "parent": 3.1232046549997285
         },
         {
          "child": -4.114849407755008,
          "grandparent": 0.07934103229677844,
          "neighborhood": "bad",
          "parent": -3.1760890805332744
         },
         {
          "child": 6.386756370458954,
          "grandparent": 1.095037508028343,
          "neighborhood": "good",
          "parent": 2.6243473261807875
         },
         {
          "child": -3.0450844146293967,
          "grandparent": -0.2835114864455281,
          "neighborhood": "bad",
          "parent": -1.9411489389132024
         },
         {
          "child": -3.426672839086332,
          "grandparent": 0.45987342114526714,
          "neighborhood": "bad",
          "parent": -1.782020288594268
         },
         {
          "child": 4.730723162631826,
          "grandparent": 0.6265835209483811,
          "neighborhood": "good",
          "parent": 2.075142942843916
         },
         {
          "child": -3.3492410997172057,
          "grandparent": 1.2907516213072932,
          "neighborhood": "bad",
          "parent": -0.9685145658224507
         },
         {
          "child": 5.67308254510366,
          "grandparent": 1.6969192397103603,
          "neighborhood": "good",
          "parent": 4.083382602449884
         },
         {
          "child": 5.779662358333829,
          "grandparent": 0.44110119446778356,
          "neighborhood": "good",
          "parent": 3.373107505821128
         },
         {
          "child": 5.214737265663207,
          "grandparent": -0.8063085124473456,
          "neighborhood": "good",
          "parent": 2.789309948248511
         },
         {
          "child": 1.5030670605896366,
          "grandparent": 2.1856266218670912,
          "neighborhood": "bad",
          "parent": 1.6843619041944569
         },
         {
          "child": 2.677697542318918,
          "grandparent": 0.5677782934893256,
          "neighborhood": "good",
          "parent": 0.6486446021027699
         },
         {
          "child": 4.157150358144393,
          "grandparent": 0.785648602808884,
          "neighborhood": "good",
          "parent": 1.6951481004591693
         },
         {
          "child": 5.204334887374303,
          "grandparent": 1.922129910038844,
          "neighborhood": "good",
          "parent": 2.3830161822542806
         },
         {
          "child": -6.354898942755221,
          "grandparent": -1.1014092984713477,
          "neighborhood": "bad",
          "parent": -3.932618005493776
         },
         {
          "child": 3.9617531700161837,
          "grandparent": -1.6805256225801677,
          "neighborhood": "good",
          "parent": 1.5509392589755093
         },
         {
          "child": 5.401186486506826,
          "grandparent": -0.484822673578695,
          "neighborhood": "good",
          "parent": 1.7809576527345448
         },
         {
          "child": -4.065176622666622,
          "grandparent": -0.3512882380639891,
          "neighborhood": "bad",
          "parent": -3.4123310785515297
         },
         {
          "child": 2.3944920576698463,
          "grandparent": -0.4972164975744215,
          "neighborhood": "good",
          "parent": 1.0821037549843338
         },
         {
          "child": 0.4025218017786645,
          "grandparent": 0.8927279747682462,
          "neighborhood": "bad",
          "parent": -0.04197295371367593
         },
         {
          "child": -2.9781606053283367,
          "grandparent": -1.2741177813545537,
          "neighborhood": "bad",
          "parent": -1.5524131376249133
         },
         {
          "child": -2.8062896002409468,
          "grandparent": 0.5891185808172309,
          "neighborhood": "bad",
          "parent": -2.9849939358233426
         },
         {
          "child": -3.08665917347506,
          "grandparent": -0.3771915016084296,
          "neighborhood": "bad",
          "parent": -2.078022696565482
         },
         {
          "child": -0.9989822900053797,
          "grandparent": 0.5841689123324901,
          "neighborhood": "bad",
          "parent": 0.33370787517241984
         },
         {
          "child": 3.7023040423301925,
          "grandparent": 1.2119583502014717,
          "neighborhood": "good",
          "parent": 2.7893627659890328
         },
         {
          "child": -0.9701570909650881,
          "grandparent": 2.4457956795753586,
          "neighborhood": "bad",
          "parent": -0.14176759874724398
         },
         {
          "child": 4.520645823597504,
          "grandparent": 0.2121987144780788,
          "neighborhood": "good",
          "parent": 2.1791735935895327
         },
         {
          "child": -3.812378332637278,
          "grandparent": -1.7167343752106803,
          "neighborhood": "bad",
          "parent": -2.169121396287478
         },
         {
          "child": -2.1950144845432766,
          "grandparent": 1.5904280453255208,
          "neighborhood": "bad",
          "parent": 0.11037012492462428
         },
         {
          "child": -5.313675515500752,
          "grandparent": -1.2236584545273665,
          "neighborhood": "bad",
          "parent": -3.614981853072261
         },
         {
          "child": -3.421359771164785,
          "grandparent": -0.3549201417431983,
          "neighborhood": "bad",
          "parent": -2.7877035714871377
         }
        ],
        "data-e3008d01844d1d7694425c361d1bd949": [
         {
          "child": 3.868646301004235,
          "grandparent": -1.417628349291294
         },
         {
          "child": 3.744342291640204,
          "grandparent": -1.3546549633535456
         },
         {
          "child": 3.620038282276173,
          "grandparent": -1.2916815774157973
         },
         {
          "child": 3.4957342729121414,
          "grandparent": -1.2287081914780489
         },
         {
          "child": 3.3714302635481097,
          "grandparent": -1.1657348055403003
         },
         {
          "child": 3.247126254184079,
          "grandparent": -1.102761419602552
         },
         {
          "child": 3.122822244820048,
          "grandparent": -1.0397880336648035
         },
         {
          "child": 2.9985182354560163,
          "grandparent": -0.9768146477270552
         },
         {
          "child": 2.8742142260919854,
          "grandparent": -0.9138412617893068
         },
         {
          "child": 2.749910216727954,
          "grandparent": -0.8508678758515584
         },
         {
          "child": 2.625606207363923,
          "grandparent": -0.7878944899138101
         },
         {
          "child": 2.5013021979998915,
          "grandparent": -0.7249211039760616
         },
         {
          "child": 2.37699818863586,
          "grandparent": -0.6619477180383132
         },
         {
          "child": 2.2526941792718294,
          "grandparent": -0.5989743321005648
         },
         {
          "child": 2.1283901699077976,
          "grandparent": -0.5360009461628163
         },
         {
          "child": 2.0040861605437668,
          "grandparent": -0.473027560225068
         },
         {
          "child": 1.8797821511797355,
          "grandparent": -0.4100541742873196
         },
         {
          "child": 1.7554781418157042,
          "grandparent": -0.34708078834957123
         },
         {
          "child": 1.6311741324516729,
          "grandparent": -0.28410740241182286
         },
         {
          "child": 1.5068701230876418,
          "grandparent": -0.2211340164740745
         },
         {
          "child": 1.3825661137236107,
          "grandparent": -0.15816063053632612
         },
         {
          "child": 1.258262104359579,
          "grandparent": -0.09518724459857753
         },
         {
          "child": 1.133958094995548,
          "grandparent": -0.03221385866082915
         },
         {
          "child": 1.0096540856315166,
          "grandparent": 0.03075952727691922
         },
         {
          "child": 0.8853500762674855,
          "grandparent": 0.09373291321466759
         },
         {
          "child": 0.7610460669034542,
          "grandparent": 0.15670629915241596
         },
         {
          "child": 0.6367420575394231,
          "grandparent": 0.21967968509016433
         },
         {
          "child": 0.512438048175392,
          "grandparent": 0.2826530710279127
         },
         {
          "child": 0.3881340388113603,
          "grandparent": 0.3456264569656613
         },
         {
          "child": 0.26383002944732914,
          "grandparent": 0.40859984290340967
         },
         {
          "child": 0.13952602008329795,
          "grandparent": 0.47157322884115804
         },
         {
          "child": 0.015222010719266876,
          "grandparent": 0.5345466147789064
         },
         {
          "child": -0.10908199864476442,
          "grandparent": 0.5975200007166548
         },
         {
          "child": -0.2333860080087955,
          "grandparent": 0.6604933866544032
         },
         {
          "child": -0.3576900173728268,
          "grandparent": 0.7234667725921515
         },
         {
          "child": -0.4819940267368579,
          "grandparent": 0.7864401585298999
         },
         {
          "child": -0.6062980361008892,
          "grandparent": 0.8494135444676483
         },
         {
          "child": -0.7306020454649202,
          "grandparent": 0.9123869304053966
         },
         {
          "child": -0.8549060548289515,
          "grandparent": 0.975360316343145
         },
         {
          "child": -0.9792100641929828,
          "grandparent": 1.0383337022808934
         },
         {
          "child": -1.1035140735570137,
          "grandparent": 1.1013070882186418
         },
         {
          "child": -1.2278180829210459,
          "grandparent": 1.1642804741563906
         },
         {
          "child": -1.3521220922850772,
          "grandparent": 1.227253860094139
         },
         {
          "child": -1.476426101649108,
          "grandparent": 1.2902272460318873
         },
         {
          "child": -1.6007301110131393,
          "grandparent": 1.3532006319696357
         },
         {
          "child": -1.7250341203771706,
          "grandparent": 1.416174017907384
         },
         {
          "child": -1.849338129741202,
          "grandparent": 1.4791474038451324
         },
         {
          "child": -1.9736421391052328,
          "grandparent": 1.5421207897828808
         },
         {
          "child": -2.097946148469264,
          "grandparent": 1.6050941757206292
         },
         {
          "child": -2.2222501578332947,
          "grandparent": 1.6680675616583773
         }
        ]
       },
       "layer": [
        {
         "data": {
          "name": "data-10d6855a74c0d3ccd9d32c27cce14fbe"
         },
         "encoding": {
          "color": {
           "field": "neighborhood",
           "type": "nominal"
          },
          "opacity": {
           "condition": {
            "test": "((datum.parent > 0.039117634105399014) && (datum.parent < 1.1448827283316159))",
            "value": 1
           },
           "value": 0.2
          },
          "x": {
           "field": "grandparent",
           "type": "quantitative"
          },
          "y": {
           "field": "child",
           "type": "quantitative"
          }
         },
         "mark": {
          "type": "point"
         },
         "title": "Linear regression for [0.45, 0.6] quantile of parents"
        },
        {
         "data": {
          "name": "data-e3008d01844d1d7694425c361d1bd949"
         },
         "encoding": {
          "x": {
           "field": "grandparent",
           "type": "quantitative"
          },
          "y": {
           "field": "child",
           "type": "quantitative"
          }
         },
         "mark": {
          "type": "line"
         }
        }
       ],
       "width": 600
      },
      "image/png": "[encoded data removed]",
      "text/plain": [
       "<VegaLite 5 object>\n",
       "\n",
       "If you see this message, it means the renderer has not been properly enabled\n",
       "for the frontend that you are using. For more information, see\n",
       "https://altair-viz.github.io/user_guide/display_frontends.html#troubleshooting\n"
      ]
     },
     "execution_count": 16,
     "metadata": {},
     "output_type": "execute_result"
    }
   ],
   "source": [
    "df = edu_df.copy()\n",
    "df[\"neighborhood\"] = df[\"neighborhood\"].map(lambda n: {-1: \"bad\", 1: \"good\"}[n])\n",
    "\n",
    "line = (\n",
    "    alt.Chart(pd.DataFrame({\"grandparent\": grandparent_x, \"child\": child_y}))\n",
    "    .mark_line()\n",
    "    .encode(x=\"grandparent\", y=\"child\")\n",
    ")\n",
    "\n",
    "edu_chart = (\n",
    "    alt.Chart(df, width=600, title=f\"Linear regression for [{qlow}, {qhigh}] quantile of parents\")\n",
    "    .mark_point()\n",
    "    .encode(\n",
    "        x=\"grandparent\",\n",
    "        y=\"child\",\n",
    "        color=\"neighborhood:N\",\n",
    "        opacity=alt.condition(\n",
    "            (alt.datum.parent > plow) & (alt.datum.parent < phigh),\n",
    "            alt.value(1.0),\n",
    "            alt.value(0.2),\n",
    "        ),\n",
    "    )\n",
    ")\n",
    "edu_chart + line"
   ]
  },
  {
   "cell_type": "code",
   "execution_count": null,
   "id": "2893fe20-fcf9-4ca5-8596-b897b48359d7",
   "metadata": {},
   "outputs": [],
   "source": []
  }
 ],
 "metadata": {
  "kernelspec": {
   "display_name": "Python 3 (ipykernel)",
   "language": "python",
   "name": "python3"
  },
  "language_info": {
   "codemirror_mode": {
    "name": "ipython",
    "version": 3
   },
   "file_extension": ".py",
   "mimetype": "text/x-python",
   "name": "python",
   "nbconvert_exporter": "python",
   "pygments_lexer": "ipython3",
   "version": "3.12.7"
  }
 },
 "nbformat": 4,
 "nbformat_minor": 5
}
