{
 "cells": [
  {
   "cell_type": "markdown",
   "id": "2599a3b7-4b4b-4afd-a031-5e781c832f4f",
   "metadata": {},
   "source": [
    "# Chapter 3 Practice"
   ]
  },
  {
   "cell_type": "code",
   "execution_count": null,
   "id": "5b8a6c5a-7fc6-4e26-bc67-eb1a30a79e31",
   "metadata": {},
   "outputs": [],
   "source": [
    "%load_ext autoreload\n",
    "%autoreload 2"
   ]
  },
  {
   "cell_type": "code",
   "execution_count": null,
   "id": "35b93c35-ab6f-45a7-a2e7-d4f7440f5ca0",
   "metadata": {},
   "outputs": [],
   "source": [
    "import altair as alt\n",
    "import numpy as np\n",
    "import pandas as pd\n",
    "from scipy import stats"
   ]
  },
  {
   "cell_type": "code",
   "execution_count": null,
   "id": "32bc3657-6be6-416f-a9a3-69bcf0c32269",
   "metadata": {},
   "outputs": [],
   "source": [
    "np.random.seed(42)"
   ]
  },
  {
   "cell_type": "code",
   "execution_count": null,
   "id": "e8d76a13-a225-4d88-97aa-1c1a6ed1fd41",
   "metadata": {},
   "outputs": [],
   "source": [
    "p_grid = np.linspace(0, 1, num=1000)\n",
    "prior = np.ones_like(p_grid)\n",
    "\n",
    "n = 9  # number of observations\n",
    "k = 6  # number of water measurements\n",
    "prob_data = stats.binom.pmf(k=k, n=n, p=p_grid)\n",
    "\n",
    "posterior = prior * prob_data\n",
    "posterior = posterior / posterior.sum()\n",
    "\n",
    "samples = np.random.choice(p_grid, p=posterior, size=10000)"
   ]
  },
  {
   "cell_type": "code",
   "execution_count": null,
   "id": "336daf6e-df78-4c8a-b6b7-528a095f2408",
   "metadata": {},
   "outputs": [],
   "source": [
    "samples_source = pd.DataFrame({\"posterior_samples\": samples[:5000]})\n",
    "hist = (\n",
    "    alt.Chart(samples_source)\n",
    "    .mark_bar(size=10)\n",
    "    .encode(\n",
    "        x=alt.X(\"posterior_samples\", bin=alt.BinParams(step=0.05, extent=[0, 1])),\n",
    "        y=\"count()\",\n",
    "    )\n",
    ")\n",
    "\n",
    "hist"
   ]
  },
  {
   "cell_type": "markdown",
   "id": "7e107071-9142-4b5c-8564-503982f1db05",
   "metadata": {},
   "source": [
    "## 3E1-SE3"
   ]
  },
  {
   "cell_type": "code",
   "execution_count": null,
   "id": "304bc4d9-3b1e-46f0-b6b6-55c2665bd375",
   "metadata": {},
   "outputs": [],
   "source": [
    "(samples < 0.2).mean()"
   ]
  },
  {
   "cell_type": "code",
   "execution_count": null,
   "id": "7152f12a-bc01-48eb-b006-82a68643a833",
   "metadata": {},
   "outputs": [],
   "source": [
    "(samples > 0.8).mean()"
   ]
  },
  {
   "cell_type": "code",
   "execution_count": null,
   "id": "7a62d079-612c-4239-ba3b-b9942541d8a9",
   "metadata": {},
   "outputs": [],
   "source": [
    "((samples > 0.2) & (samples < 0.8)).mean()"
   ]
  },
  {
   "cell_type": "markdown",
   "id": "b199d304-58a5-4c10-8941-3f8aaccab3b4",
   "metadata": {},
   "source": [
    "## SE4-SE5"
   ]
  },
  {
   "cell_type": "code",
   "execution_count": null,
   "id": "14828bb0-d69d-41a0-8c49-c969834b2454",
   "metadata": {},
   "outputs": [],
   "source": [
    "np.quantile(samples, 0.2)"
   ]
  },
  {
   "cell_type": "code",
   "execution_count": null,
   "id": "a12baa91-5b6c-4dac-95f4-a1b5976b917a",
   "metadata": {},
   "outputs": [],
   "source": [
    "np.quantile(samples, 0.8)"
   ]
  },
  {
   "cell_type": "markdown",
   "id": "b0bb24b6-5a65-4f71-b4e9-6f530770a705",
   "metadata": {},
   "source": [
    "## SE6-SE7"
   ]
  },
  {
   "cell_type": "code",
   "execution_count": null,
   "id": "01ba26e5-0df0-457c-a103-17942dc7b148",
   "metadata": {},
   "outputs": [],
   "source": [
    "import statreth as sr"
   ]
  },
  {
   "cell_type": "code",
   "execution_count": null,
   "id": "0e696b0c-dd17-4a86-bb2a-920be8f4199c",
   "metadata": {},
   "outputs": [],
   "source": [
    "hdi_low, hdi_high = sr.hdi(samples, mass=0.66)\n",
    "hdi_low, hdi_high"
   ]
  },
  {
   "cell_type": "code",
   "execution_count": null,
   "id": "5d414bf2-a95f-4259-a2b8-187d4f6e61c9",
   "metadata": {},
   "outputs": [],
   "source": [
    "# check that HDI includes specified probability mass\n",
    "1 - (samples < hdi_low).mean() - (samples > hdi_high).mean()"
   ]
  },
  {
   "cell_type": "code",
   "execution_count": null,
   "id": "ea3c1059-5967-41f6-a664-162ad4057d9f",
   "metadata": {},
   "outputs": [],
   "source": [
    "pi_low, pi_high = sr.pi(samples, mass=0.66)\n",
    "pi_low, pi_high"
   ]
  },
  {
   "cell_type": "code",
   "execution_count": null,
   "id": "29d186ad-e0c5-4f5d-921a-44a56fd0cc66",
   "metadata": {},
   "outputs": [],
   "source": [
    "# check that PI includes specified probability mass\n",
    "1 - (samples < pi_low).mean() - (samples > pi_high).mean()"
   ]
  },
  {
   "cell_type": "code",
   "execution_count": null,
   "id": "8620145e-d7d1-4d8c-8c25-d2990ec42a8c",
   "metadata": {},
   "outputs": [],
   "source": [
    "# hdi should be smaller than pi\n",
    "assert (hdi_high - hdi_low) < (pi_high - pi_low)"
   ]
  },
  {
   "cell_type": "markdown",
   "id": "8109958a-5abe-4f61-b804-69083ff111a4",
   "metadata": {},
   "source": [
    "### 3M1"
   ]
  },
  {
   "cell_type": "code",
   "execution_count": null,
   "id": "55497688-991f-4a6a-9436-dbb174ad9261",
   "metadata": {},
   "outputs": [],
   "source": [
    "p_grid = np.linspace(0, 1, num=1000)\n",
    "prior = np.ones_like(p_grid)\n",
    "prior = prior / prior.sum()\n",
    "\n",
    "n = 15  # number of observations\n",
    "k = 8  # number of water measurements\n",
    "prob_data = stats.binom.pmf(k=k, n=n, p=p_grid)\n",
    "prob_data = prob_data / prob_data.sum()\n",
    "\n",
    "posterior = prior * prob_data\n",
    "posterior = posterior / posterior.sum()"
   ]
  },
  {
   "cell_type": "code",
   "execution_count": null,
   "id": "fdfd56e8-64a5-408f-82a7-d4f35c8d0f4c",
   "metadata": {},
   "outputs": [],
   "source": [
    "# data source for plotting\n",
    "source = pd.DataFrame(\n",
    "    {\n",
    "        \"p_grid\": p_grid,\n",
    "        \"prior\": prior,\n",
    "        \"prob_data\": prob_data,\n",
    "        \"posterior\": posterior,\n",
    "    }\n",
    ")\n",
    "\n",
    "# convert wide df to tall, keep `p_grid` column\n",
    "source = source.melt(\"p_grid\", value_name=\"density\")\n",
    "\n",
    "alt.Chart(source, title=\"probabilities\").mark_line().encode(\n",
    "    alt.X(\"p_grid\", title=\"water ratio\"),\n",
    "    y=\"density\",\n",
    "    color=\"variable\",\n",
    ")"
   ]
  },
  {
   "cell_type": "code",
   "execution_count": null,
   "id": "40f5a98f-c200-47f5-b1da-165d672e9b40",
   "metadata": {},
   "outputs": [],
   "source": [
    "samples = np.random.choice(p_grid, p=posterior, size=10000)"
   ]
  },
  {
   "cell_type": "code",
   "execution_count": null,
   "id": "99395f70-3540-4009-858b-08bc1ee15a54",
   "metadata": {},
   "outputs": [],
   "source": [
    "samples_source = pd.DataFrame({\"posterior_samples\": samples[:5000]})\n",
    "alt.Chart(samples_source).mark_bar(size=10).encode(\n",
    "    x=alt.X(\"posterior_samples\", bin=alt.BinParams(step=0.05, extent=[0, 1])),\n",
    "    y=\"count()\",\n",
    ")"
   ]
  },
  {
   "cell_type": "markdown",
   "id": "80b278e9-5b93-42c6-957f-fc14e65aaa09",
   "metadata": {},
   "source": [
    "## 3M2"
   ]
  },
  {
   "cell_type": "code",
   "execution_count": null,
   "id": "2fe1b475-a424-4f82-8b66-3c6ae5889f48",
   "metadata": {},
   "outputs": [],
   "source": [
    "sr.hdi(samples, 0.9)"
   ]
  },
  {
   "cell_type": "markdown",
   "id": "50a1785e-2bb1-4776-8e75-181245c2693d",
   "metadata": {},
   "source": [
    "## 3M3"
   ]
  },
  {
   "cell_type": "code",
   "execution_count": null,
   "id": "4469fd15-8007-4c06-80b4-cfdb3cb381a8",
   "metadata": {},
   "outputs": [],
   "source": [
    "predictions = np.random.binomial(n, p=samples)\n",
    "\n",
    "# possible counts\n",
    "ks = np.linspace(0, n, num=n + 1)\n",
    "expected_counts = stats.binom.pmf(k=ks, n=n, p=0.7)"
   ]
  },
  {
   "cell_type": "code",
   "execution_count": null,
   "id": "adfc4352-d931-4b83-ae85-bec2532323e1",
   "metadata": {},
   "outputs": [],
   "source": [
    "pp_source = pd.DataFrame({\"posterior_predictive\": predictions[:5000]})\n",
    "hist = (\n",
    "    alt.Chart(pp_source)\n",
    "    .mark_bar(size=10)\n",
    "    .encode(\n",
    "        x=alt.X(\"posterior_predictive\", bin=alt.BinParams(step=1, extent=[0, n + 1])),\n",
    "        y=\"count()\",\n",
    "    )\n",
    ")\n",
    "\n",
    "ec_source = pd.DataFrame(\n",
    "    {\n",
    "        \"ks\": ks,\n",
    "        \"expected_counts\": expected_counts * len(predictions) / 2,\n",
    "    }\n",
    ")\n",
    "expected_line = alt.Chart(ec_source).mark_point().encode(x=\"ks\", y=\"expected_counts\")\n",
    "\n",
    "hist + expected_line"
   ]
  },
  {
   "cell_type": "code",
   "execution_count": null,
   "id": "6e3d8ec8-db3b-4936-b44b-b244cfc9ae2d",
   "metadata": {},
   "outputs": [],
   "source": [
    "samples.mean()"
   ]
  },
  {
   "cell_type": "markdown",
   "id": "050a4f88-6d8d-4eea-b40e-8517f79e91fc",
   "metadata": {},
   "source": [
    "## 3M4"
   ]
  },
  {
   "cell_type": "code",
   "execution_count": null,
   "id": "b8d91e82-0a05-4047-888f-6ebe99a84acc",
   "metadata": {},
   "outputs": [],
   "source": [
    "predictions = np.random.binomial(n=9, p=samples)\n",
    "(predictions == 6).mean()"
   ]
  },
  {
   "cell_type": "markdown",
   "id": "cf6bc326-c863-43b5-a4fc-23b6889ee8eb",
   "metadata": {},
   "source": [
    "## 3M5"
   ]
  },
  {
   "cell_type": "code",
   "execution_count": null,
   "id": "233dcf3b-1eb6-40d6-8dd7-b04f47b05928",
   "metadata": {},
   "outputs": [],
   "source": [
    "p_grid = np.linspace(0, 1, num=1000)\n",
    "prior = np.ones_like(p_grid)\n",
    "prior[p_grid < 0.5] = 0\n",
    "prior = prior / prior.sum()\n",
    "\n",
    "n = 15  # number of observations\n",
    "k = 8  # number of water measurements\n",
    "prob_data = stats.binom.pmf(k=k, n=n, p=p_grid)\n",
    "prob_data = prob_data / prob_data.sum()\n",
    "\n",
    "posterior = prior * prob_data\n",
    "posterior = posterior / posterior.sum()"
   ]
  },
  {
   "cell_type": "code",
   "execution_count": null,
   "id": "940ea473-aa40-4fd2-8f51-a0ec44d59afa",
   "metadata": {},
   "outputs": [],
   "source": [
    "# data source for plotting\n",
    "source = pd.DataFrame(\n",
    "    {\n",
    "        \"p_grid\": p_grid,\n",
    "        \"prior\": prior,\n",
    "        \"prob_data\": prob_data,\n",
    "        \"posterior\": posterior,\n",
    "    }\n",
    ")\n",
    "\n",
    "# convert wide df to tall, keep `p_grid` column\n",
    "source = source.melt(\"p_grid\", value_name=\"density\")\n",
    "\n",
    "alt.Chart(source, title=\"probabilities\").mark_line().encode(\n",
    "    alt.X(\"p_grid\", title=\"water ratio\"),\n",
    "    y=\"density\",\n",
    "    color=\"variable\",\n",
    ")"
   ]
  },
  {
   "cell_type": "code",
   "execution_count": null,
   "id": "4822aed5-c77b-4334-96c2-cd48d814b2d2",
   "metadata": {},
   "outputs": [],
   "source": [
    "samples = np.random.choice(p_grid, p=posterior, size=10000)"
   ]
  },
  {
   "cell_type": "code",
   "execution_count": null,
   "id": "d3d3a791-1671-41ad-bd25-b26c0667f37d",
   "metadata": {},
   "outputs": [],
   "source": [
    "sr.hdi(samples, 0.9)"
   ]
  },
  {
   "cell_type": "code",
   "execution_count": null,
   "id": "d1b5cc6c-db1e-4ae7-a2b5-133375c04a75",
   "metadata": {},
   "outputs": [],
   "source": [
    "samples_source = pd.DataFrame({\"posterior_samples\": samples[:5000]})\n",
    "alt.Chart(samples_source).mark_bar(size=10).encode(\n",
    "    x=alt.X(\"posterior_samples\", bin=alt.BinParams(step=0.05, extent=[0, 1])),\n",
    "    y=\"count()\",\n",
    ")"
   ]
  },
  {
   "cell_type": "code",
   "execution_count": null,
   "id": "ad23c457-cbca-4486-8aa1-567c5581f478",
   "metadata": {},
   "outputs": [],
   "source": [
    "predictions = np.random.binomial(n, p=samples)\n",
    "\n",
    "# possible counts\n",
    "ks = np.linspace(0, n, num=n + 1)\n",
    "expected_counts = stats.binom.pmf(k=ks, n=n, p=0.7)"
   ]
  },
  {
   "cell_type": "code",
   "execution_count": null,
   "id": "75a92934-6a7f-49ae-8297-beaf542b3938",
   "metadata": {},
   "outputs": [],
   "source": [
    "pp_source = pd.DataFrame({\"posterior_predictive\": predictions[:5000]})\n",
    "hist = (\n",
    "    alt.Chart(pp_source)\n",
    "    .mark_bar(size=10)\n",
    "    .encode(\n",
    "        x=alt.X(\"posterior_predictive\", bin=alt.BinParams(step=1, extent=[0, n + 1])),\n",
    "        y=\"count()\",\n",
    "    )\n",
    ")\n",
    "\n",
    "ec_source = pd.DataFrame(\n",
    "    {\n",
    "        \"ks\": ks,\n",
    "        \"expected_counts\": expected_counts * len(predictions) / 2,\n",
    "    }\n",
    ")\n",
    "expected_line = alt.Chart(ec_source).mark_point().encode(x=\"ks\", y=\"expected_counts\")\n",
    "\n",
    "hist + expected_line"
   ]
  },
  {
   "cell_type": "code",
   "execution_count": null,
   "id": "d882d9bd-acf9-49ae-9dc8-9b2721a6a721",
   "metadata": {},
   "outputs": [],
   "source": [
    "samples.mean()"
   ]
  },
  {
   "cell_type": "code",
   "execution_count": null,
   "id": "e7da7211-082a-4181-98cb-990661a72ecb",
   "metadata": {},
   "outputs": [],
   "source": [
    "predictions = np.random.binomial(n=9, p=samples)\n",
    "(predictions == 6).mean()"
   ]
  },
  {
   "cell_type": "markdown",
   "id": "ac1b2015-d87a-42d1-9455-c526e5a7ba49",
   "metadata": {},
   "source": [
    "## 3M6"
   ]
  },
  {
   "cell_type": "code",
   "execution_count": null,
   "id": "2c4a2385-977b-42e3-b6ae-27b0073e8fd5",
   "metadata": {},
   "outputs": [],
   "source": [
    "# true proportion\n",
    "p = 0.7\n",
    "\n",
    "# estimate number of required samples under ideal conditions\n",
    "n = 100\n",
    "while True:\n",
    "    # number of water samples\n",
    "    k = int(n * p)\n",
    "    # assume it's symmetric around mode\n",
    "    low, high = stats.binom.sf(k, n, [p - 0.025, p + 0.025])\n",
    "    if high - low > 0.95:\n",
    "        print(\"n =\", n, \"high-low =\", high - low)\n",
    "        break\n",
    "    n += 100"
   ]
  },
  {
   "cell_type": "markdown",
   "id": "0173e2c1-0e77-4d52-978a-9b32064b960d",
   "metadata": {},
   "source": [
    "## 3H1"
   ]
  },
  {
   "cell_type": "code",
   "execution_count": null,
   "id": "3977fb5c-5e04-4f7f-920a-7e030e7aec59",
   "metadata": {},
   "outputs": [],
   "source": [
    "birth1 = \"1,0,0,0,1,1,0,1,0,1,0,0,1,1,0,1,1,0,0,0,1,0,0,0,1,0,\\\n",
    "0,0,0,1,1,1,0,1,0,1,1,1,0,1,0,1,1,0,1,0,0,1,1,0,1,0,0,0,0,0,0,0,\\\n",
    "1,1,0,1,0,0,1,0,0,0,1,0,0,1,1,1,1,0,1,0,1,1,1,1,1,0,0,1,0,1,1,0,\\\n",
    "1,0,1,1,1,0,1,1,1,1\"\n",
    "birth2 = \"0,1,0,1,0,1,1,1,0,0,1,1,1,1,1,0,0,1,1,1,0,0,1,1,1,0,\\\n",
    "1,1,1,0,1,1,1,0,1,0,0,1,1,1,1,0,0,1,0,1,1,1,1,1,1,1,1,1,1,1,1,1,\\\n",
    "1,1,1,0,1,1,0,1,1,0,1,1,1,0,0,0,0,0,0,1,0,0,0,1,1,0,0,1,0,0,1,1,\\\n",
    "0,0,0,1,1,1,0,0,0,0\"\n",
    "\n",
    "birth1 = np.array([int(g) for g in birth1.split(\",\")])\n",
    "birth2 = np.array([int(g) for g in birth2.split(\",\")])"
   ]
  },
  {
   "cell_type": "code",
   "execution_count": null,
   "id": "dbdabd8b-1196-4223-8b1d-8969b4b80c81",
   "metadata": {},
   "outputs": [],
   "source": [
    "birth = np.concatenate((birth1, birth2))\n",
    "birth.sum()"
   ]
  },
  {
   "cell_type": "code",
   "execution_count": null,
   "id": "72c66538-edc5-401f-b294-adeaf9d521b0",
   "metadata": {},
   "outputs": [],
   "source": [
    "p_grid = np.linspace(0, 1, num=1000)\n",
    "prior = np.ones_like(p_grid)\n",
    "prior = prior / prior.sum()\n",
    "\n",
    "k = birth.sum()\n",
    "n = len(birth)\n",
    "data_prob = stats.binom.pmf(k=k, n=n, p=p_grid)\n",
    "data_prob = data_prob / data_prob.sum()\n",
    "\n",
    "posterior = prior * data_prob\n",
    "posterior = posterior / posterior.sum()"
   ]
  },
  {
   "cell_type": "code",
   "execution_count": null,
   "id": "6710c37b-355a-4b08-8f19-890b7208560b",
   "metadata": {},
   "outputs": [],
   "source": [
    "# data source for plotting\n",
    "source = pd.DataFrame(\n",
    "    {\n",
    "        \"p_grid\": p_grid,\n",
    "        \"prior\": prior,\n",
    "        \"prob_data\": data_prob,\n",
    "        \"posterior\": posterior,\n",
    "    }\n",
    ")\n",
    "\n",
    "# convert wide df to tall, keep `p_grid` column\n",
    "source = source.melt(\"p_grid\", value_name=\"density\")\n",
    "\n",
    "alt.Chart(source, title=\"probabilities\").mark_line().encode(\n",
    "    alt.X(\"p_grid\", title=\"P(boy)\"),\n",
    "    y=\"density\",\n",
    "    color=\"variable\",\n",
    ")"
   ]
  },
  {
   "cell_type": "code",
   "execution_count": null,
   "id": "0d5e9bf8-291a-4151-b27f-d5b8b48fc0ab",
   "metadata": {},
   "outputs": [],
   "source": [
    "print(\"MAP:\", p_grid[posterior.argmax()])"
   ]
  },
  {
   "cell_type": "markdown",
   "id": "51ce208f-49f8-4e38-8289-a4d79845a845",
   "metadata": {},
   "source": [
    "## 3H2"
   ]
  },
  {
   "cell_type": "code",
   "execution_count": null,
   "id": "bc62e01f-98fa-4b1d-a452-6973b0eabb84",
   "metadata": {},
   "outputs": [],
   "source": [
    "samples = np.random.choice(p_grid, p=posterior, size=10000)"
   ]
  },
  {
   "cell_type": "code",
   "execution_count": null,
   "id": "4eab977a-af7f-47e4-afc3-4eae3dd91009",
   "metadata": {},
   "outputs": [],
   "source": [
    "sr.hdi(samples, mass=0.5)"
   ]
  },
  {
   "cell_type": "code",
   "execution_count": null,
   "id": "31eda883-6294-4946-a759-9e7d34bda23c",
   "metadata": {},
   "outputs": [],
   "source": [
    "sr.hdi(samples, mass=0.89)"
   ]
  },
  {
   "cell_type": "code",
   "execution_count": null,
   "id": "2f4fa9bb-7de8-4da6-9224-4bb25912d36c",
   "metadata": {},
   "outputs": [],
   "source": [
    "sr.hdi(samples, mass=0.97)"
   ]
  },
  {
   "cell_type": "markdown",
   "id": "941ba859-c219-451d-b0bd-064c72f4ab7e",
   "metadata": {},
   "source": [
    "## 3H3"
   ]
  },
  {
   "cell_type": "code",
   "execution_count": null,
   "id": "0d94d1da-56e6-4919-b3bf-03bbcbfcb6c8",
   "metadata": {},
   "outputs": [],
   "source": [
    "predictions = np.random.binomial(n, p=samples, size=10000)"
   ]
  },
  {
   "cell_type": "code",
   "execution_count": null,
   "id": "dd9df92c-7058-43ec-bf63-cb5708f0ca10",
   "metadata": {},
   "outputs": [],
   "source": [
    "pp_source = pd.DataFrame({\"predictions\": predictions[:5000]})\n",
    "\n",
    "hist = (\n",
    "    alt.Chart(pp_source)\n",
    "    .mark_bar(size=1)\n",
    "    .encode(\n",
    "        x=alt.X(\"predictions\", bin=alt.BinParams(step=1, extent=[0, n + 1])),\n",
    "        y=\"count()\",\n",
    "    )\n",
    ")\n",
    "\n",
    "line_source = pd.DataFrame(\n",
    "    {\n",
    "        \"x\": [birth.sum(), birth.sum()],\n",
    "        \"y\": [0, 220],\n",
    "    }\n",
    ")\n",
    "line = alt.Chart(line_source).mark_line(color=\"red\", strokeWidth=1).encode(x=\"x\", y=\"y\")\n",
    "\n",
    "hist + line"
   ]
  },
  {
   "cell_type": "markdown",
   "id": "81b731da-72af-4ca4-b559-ff4c21a0d03d",
   "metadata": {},
   "source": [
    "## 3H4"
   ]
  },
  {
   "cell_type": "code",
   "execution_count": null,
   "id": "5003725b-cab7-4f6a-92b9-83c569a56d56",
   "metadata": {},
   "outputs": [],
   "source": [
    "predictions = np.random.binomial(n=100, p=samples, size=10000)"
   ]
  },
  {
   "cell_type": "code",
   "execution_count": null,
   "id": "5c5f72eb-7344-4052-b31e-a553e8fd58ed",
   "metadata": {},
   "outputs": [],
   "source": [
    "pp_source = pd.DataFrame({\"predictions\": predictions[:5000]})\n",
    "\n",
    "hist = (\n",
    "    alt.Chart(pp_source)\n",
    "    .mark_bar(size=1)\n",
    "    .encode(\n",
    "        x=alt.X(\"predictions\", bin=alt.BinParams(step=1, extent=[0, 100])),\n",
    "        y=\"count()\",\n",
    "    )\n",
    ")\n",
    "\n",
    "line_source = pd.DataFrame(\n",
    "    {\n",
    "        \"x\": [birth1.sum(), birth1.sum()],\n",
    "        \"y\": [0, 220],\n",
    "    }\n",
    ")\n",
    "line = alt.Chart(line_source).mark_line(color=\"red\", strokeWidth=1).encode(x=\"x\", y=\"y\")\n",
    "\n",
    "hist + line"
   ]
  },
  {
   "cell_type": "markdown",
   "id": "3d5d0cb3-5b15-4398-9b09-e263a2760eb3",
   "metadata": {},
   "source": [
    "## 3H5"
   ]
  },
  {
   "cell_type": "code",
   "execution_count": null,
   "id": "96008433-1955-46ad-8ac3-42a0ee396d20",
   "metadata": {},
   "outputs": [],
   "source": [
    "boys1 = birth1.sum()\n",
    "girls1 = len(birth1) - boys1\n",
    "boys1, girls1"
   ]
  },
  {
   "cell_type": "code",
   "execution_count": null,
   "id": "b13252e2-59d5-4a34-9c0f-611a7f548578",
   "metadata": {},
   "outputs": [],
   "source": [
    "# \"fit\" model to birth1 data although we could also use all data\n",
    "# and samples from 3H2\n",
    "p_grid = np.linspace(0, 1, num=1000)\n",
    "prior = np.ones_like(p_grid)\n",
    "prior = prior / prior.sum()\n",
    "\n",
    "n = boys1 + girls1\n",
    "data_prob = stats.binom.pmf(k=boys1, n=n, p=p_grid)\n",
    "data_prob = data_prob / data_prob.sum()\n",
    "\n",
    "posterior = prior * data_prob\n",
    "posterior = posterior / posterior.sum()"
   ]
  },
  {
   "cell_type": "code",
   "execution_count": null,
   "id": "48347556-e186-47fd-bdf9-1f92e8e45cc1",
   "metadata": {},
   "outputs": [],
   "source": [
    "# count boys following girls\n",
    "boys_after_girls = birth2[birth1 == 0].sum()\n",
    "boys_after_girls"
   ]
  },
  {
   "cell_type": "code",
   "execution_count": null,
   "id": "5f61f4dc-332c-42ae-a2ec-28d033299fba",
   "metadata": {},
   "outputs": [],
   "source": [
    "samples1 = np.random.choice(p_grid, p=posterior, size=10000)\n",
    "predictions1 = np.random.binomial(n=girls1, p=samples1)"
   ]
  },
  {
   "cell_type": "code",
   "execution_count": null,
   "id": "019f0f13-29e4-4023-a6c9-191fa2584dd0",
   "metadata": {},
   "outputs": [],
   "source": [
    "pp_source = pd.DataFrame({\"predictions\": predictions1[:5000]})\n",
    "\n",
    "hist = (\n",
    "    alt.Chart(pp_source)\n",
    "    .mark_bar(size=1)\n",
    "    .encode(\n",
    "        x=alt.X(\"predictions\", bin=alt.BinParams(step=1, extent=[0, girls1])),\n",
    "        y=\"count()\",\n",
    "    )\n",
    ")\n",
    "\n",
    "line_source = pd.DataFrame(\n",
    "    {\n",
    "        \"x\": [boys_after_girls, boys_after_girls],\n",
    "        \"y\": [0, 220],\n",
    "    }\n",
    ")\n",
    "line = alt.Chart(line_source).mark_line(color=\"red\", strokeWidth=1).encode(x=\"x\", y=\"y\")\n",
    "\n",
    "hist + line"
   ]
  },
  {
   "cell_type": "code",
   "execution_count": null,
   "id": "36d0d0a2-44d7-4832-b1b7-4d323a0f3cc1",
   "metadata": {},
   "outputs": [],
   "source": [
    "(predictions1 >= boys_after_girls).mean()"
   ]
  },
  {
   "cell_type": "code",
   "execution_count": null,
   "id": "238e39cd-ccb8-4e96-abff-f225c0895b7e",
   "metadata": {},
   "outputs": [],
   "source": []
  }
 ],
 "metadata": {
  "kernelspec": {
   "display_name": "Python 3 (ipykernel)",
   "language": "python",
   "name": "python3"
  },
  "language_info": {
   "codemirror_mode": {
    "name": "ipython",
    "version": 3
   },
   "file_extension": ".py",
   "mimetype": "text/x-python",
   "name": "python",
   "nbconvert_exporter": "python",
   "pygments_lexer": "ipython3",
   "version": "3.10.5"
  }
 },
 "nbformat": 4,
 "nbformat_minor": 5
}
