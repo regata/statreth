{
 "cells": [
  {
   "cell_type": "markdown",
   "id": "a2c5003e-cb40-4f57-ace4-7f2948d4a199",
   "metadata": {},
   "source": [
    "# Chapter 5 Exercises. The Many Variables & The Spurious Waffles"
   ]
  },
  {
   "cell_type": "code",
   "execution_count": 1,
   "id": "190f867f-c9be-4ad6-8666-2c87093747b3",
   "metadata": {},
   "outputs": [],
   "source": [
    "%load_ext autoreload\n",
    "%autoreload 2"
   ]
  }
 ],
 "metadata": {
  "kernelspec": {
   "display_name": "Python 3 (ipykernel)",
   "language": "python",
   "name": "python3"
  },
  "language_info": {
   "codemirror_mode": {
    "name": "ipython",
    "version": 3
   },
   "file_extension": ".py",
   "mimetype": "text/x-python",
   "name": "python",
   "nbconvert_exporter": "python",
   "pygments_lexer": "ipython3",
   "version": "3.10.15"
  }
 },
 "nbformat": 4,
 "nbformat_minor": 5
}
