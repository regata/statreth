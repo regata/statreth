{
 "cells": [
  {
   "cell_type": "markdown",
   "id": "a839e456-1a63-421d-ac65-e0745ed4d45d",
   "metadata": {},
   "source": [
    "# Chapter 2. Small Worlds and Large Worlds"
   ]
  },
  {
   "cell_type": "code",
   "execution_count": 1,
   "id": "26a0f784-06a7-42c5-b885-35a7aeb7d10e",
   "metadata": {},
   "outputs": [],
   "source": [
    "import altair as alt\n",
    "# to support rendering on github\n",
    "alt.renderers.enable('mimetype')\n",
    "\n",
    "import numpy as np\n",
    "import pandas as pd\n",
    "from scipy import stats"
   ]
  },
  {
   "cell_type": "markdown",
   "id": "596942ac-c9ae-4e06-a3de-663d8074987f",
   "metadata": {},
   "source": [
    "### 2M1\n",
    "\n",
    "Recall the globe tossing model from the chapter. Compute and plot the grid approximate posterior distribution for each of the following sets of observations. In each case, assume a uniform prior for p."
   ]
  },
  {
   "cell_type": "code",
   "execution_count": 2,
   "id": "485c0684-a816-483f-a4de-ef5871a5a4bf",
   "metadata": {},
   "outputs": [],
   "source": [
    "observations = [\n",
    "    [\"W\", \"W\", \"W\"],\n",
    "    [\"W\", \"W\", \"W\", \"L\"],\n",
    "    [\"L\", \"W\", \"W\", \"L\", \"W\", \"W\", \"W\"],\n",
    "]"
   ]
  },
  {
   "cell_type": "code",
   "execution_count": 3,
   "id": "c2171fa5-f157-45a5-9eda-96dc4a9beffd",
   "metadata": {},
   "outputs": [],
   "source": [
    "p_grid = np.linspace(0, 1, num=100)\n",
    "prior = np.ones_like(p_grid)\n",
    "\n",
    "df = pd.DataFrame({\"p_grid\": p_grid, \"prior\": prior})\n",
    "\n",
    "for i, obs in enumerate(observations):\n",
    "    n = len(obs)  # number of observations\n",
    "    k = obs.count(\"W\")  # number of water measurements\n",
    "\n",
    "    prob_data = stats.binom.pmf(k=k, n=n, p=p_grid)\n",
    "    posterior = prior * prob_data\n",
    "\n",
    "    df[f\"posterior_{i+1}\"] = posterior"
   ]
  },
  {
   "cell_type": "code",
   "execution_count": 4,
   "id": "86f14abc-af1b-4eb9-871d-18d4f6017bd9",
   "metadata": {},
   "outputs": [
    {
     "data": {
      "application/vnd.vegalite.v4+json": {
       "$schema": "https://vega.github.io/schema/vega-lite/v4.17.0.json",
       "config": {
        "view": {
         "continuousHeight": 300,
         "continuousWidth": 400
        }
       },
       "data": {
        "name": "data-4a50d03dde7cb140944a023f27ef132c"
       },
       "datasets": {
        "data-4a50d03dde7cb140944a023f27ef132c": [
         {
          "density": 1,
          "p_grid": 0,
          "variable": "prior"
         },
         {
          "density": 1,
          "p_grid": 0.010101010101010102,
          "variable": "prior"
         },
         {
          "density": 1,
          "p_grid": 0.020202020202020204,
          "variable": "prior"
         },
         {
          "density": 1,
          "p_grid": 0.030303030303030304,
          "variable": "prior"
         },
         {
          "density": 1,
          "p_grid": 0.04040404040404041,
          "variable": "prior"
         },
         {
          "density": 1,
          "p_grid": 0.05050505050505051,
          "variable": "prior"
         },
         {
          "density": 1,
          "p_grid": 0.06060606060606061,
          "variable": "prior"
         },
         {
          "density": 1,
          "p_grid": 0.07070707070707072,
          "variable": "prior"
         },
         {
          "density": 1,
          "p_grid": 0.08080808080808081,
          "variable": "prior"
         },
         {
          "density": 1,
          "p_grid": 0.09090909090909091,
          "variable": "prior"
         },
         {
          "density": 1,
          "p_grid": 0.10101010101010102,
          "variable": "prior"
         },
         {
          "density": 1,
          "p_grid": 0.11111111111111112,
          "variable": "prior"
         },
         {
          "density": 1,
          "p_grid": 0.12121212121212122,
          "variable": "prior"
         },
         {
          "density": 1,
          "p_grid": 0.13131313131313133,
          "variable": "prior"
         },
         {
          "density": 1,
          "p_grid": 0.14141414141414144,
          "variable": "prior"
         },
         {
          "density": 1,
          "p_grid": 0.15151515151515152,
          "variable": "prior"
         },
         {
          "density": 1,
          "p_grid": 0.16161616161616163,
          "variable": "prior"
         },
         {
          "density": 1,
          "p_grid": 0.17171717171717174,
          "variable": "prior"
         },
         {
          "density": 1,
          "p_grid": 0.18181818181818182,
          "variable": "prior"
         },
         {
          "density": 1,
          "p_grid": 0.19191919191919193,
          "variable": "prior"
         },
         {
          "density": 1,
          "p_grid": 0.20202020202020204,
          "variable": "prior"
         },
         {
          "density": 1,
          "p_grid": 0.21212121212121213,
          "variable": "prior"
         },
         {
          "density": 1,
          "p_grid": 0.22222222222222224,
          "variable": "prior"
         },
         {
          "density": 1,
          "p_grid": 0.23232323232323235,
          "variable": "prior"
         },
         {
          "density": 1,
          "p_grid": 0.24242424242424243,
          "variable": "prior"
         },
         {
          "density": 1,
          "p_grid": 0.25252525252525254,
          "variable": "prior"
         },
         {
          "density": 1,
          "p_grid": 0.26262626262626265,
          "variable": "prior"
         },
         {
          "density": 1,
          "p_grid": 0.27272727272727276,
          "variable": "prior"
         },
         {
          "density": 1,
          "p_grid": 0.2828282828282829,
          "variable": "prior"
         },
         {
          "density": 1,
          "p_grid": 0.29292929292929293,
          "variable": "prior"
         },
         {
          "density": 1,
          "p_grid": 0.30303030303030304,
          "variable": "prior"
         },
         {
          "density": 1,
          "p_grid": 0.31313131313131315,
          "variable": "prior"
         },
         {
          "density": 1,
          "p_grid": 0.32323232323232326,
          "variable": "prior"
         },
         {
          "density": 1,
          "p_grid": 0.33333333333333337,
          "variable": "prior"
         },
         {
          "density": 1,
          "p_grid": 0.3434343434343435,
          "variable": "prior"
         },
         {
          "density": 1,
          "p_grid": 0.3535353535353536,
          "variable": "prior"
         },
         {
          "density": 1,
          "p_grid": 0.36363636363636365,
          "variable": "prior"
         },
         {
          "density": 1,
          "p_grid": 0.37373737373737376,
          "variable": "prior"
         },
         {
          "density": 1,
          "p_grid": 0.38383838383838387,
          "variable": "prior"
         },
         {
          "density": 1,
          "p_grid": 0.393939393939394,
          "variable": "prior"
         },
         {
          "density": 1,
          "p_grid": 0.4040404040404041,
          "variable": "prior"
         },
         {
          "density": 1,
          "p_grid": 0.4141414141414142,
          "variable": "prior"
         },
         {
          "density": 1,
          "p_grid": 0.42424242424242425,
          "variable": "prior"
         },
         {
          "density": 1,
          "p_grid": 0.43434343434343436,
          "variable": "prior"
         },
         {
          "density": 1,
          "p_grid": 0.4444444444444445,
          "variable": "prior"
         },
         {
          "density": 1,
          "p_grid": 0.4545454545454546,
          "variable": "prior"
         },
         {
          "density": 1,
          "p_grid": 0.4646464646464647,
          "variable": "prior"
         },
         {
          "density": 1,
          "p_grid": 0.4747474747474748,
          "variable": "prior"
         },
         {
          "density": 1,
          "p_grid": 0.48484848484848486,
          "variable": "prior"
         },
         {
          "density": 1,
          "p_grid": 0.494949494949495,
          "variable": "prior"
         },
         {
          "density": 1,
          "p_grid": 0.5050505050505051,
          "variable": "prior"
         },
         {
          "density": 1,
          "p_grid": 0.5151515151515152,
          "variable": "prior"
         },
         {
          "density": 1,
          "p_grid": 0.5252525252525253,
          "variable": "prior"
         },
         {
          "density": 1,
          "p_grid": 0.5353535353535354,
          "variable": "prior"
         },
         {
          "density": 1,
          "p_grid": 0.5454545454545455,
          "variable": "prior"
         },
         {
          "density": 1,
          "p_grid": 0.5555555555555556,
          "variable": "prior"
         },
         {
          "density": 1,
          "p_grid": 0.5656565656565657,
          "variable": "prior"
         },
         {
          "density": 1,
          "p_grid": 0.5757575757575758,
          "variable": "prior"
         },
         {
          "density": 1,
          "p_grid": 0.5858585858585859,
          "variable": "prior"
         },
         {
          "density": 1,
          "p_grid": 0.595959595959596,
          "variable": "prior"
         },
         {
          "density": 1,
          "p_grid": 0.6060606060606061,
          "variable": "prior"
         },
         {
          "density": 1,
          "p_grid": 0.6161616161616162,
          "variable": "prior"
         },
         {
          "density": 1,
          "p_grid": 0.6262626262626263,
          "variable": "prior"
         },
         {
          "density": 1,
          "p_grid": 0.6363636363636365,
          "variable": "prior"
         },
         {
          "density": 1,
          "p_grid": 0.6464646464646465,
          "variable": "prior"
         },
         {
          "density": 1,
          "p_grid": 0.6565656565656566,
          "variable": "prior"
         },
         {
          "density": 1,
          "p_grid": 0.6666666666666667,
          "variable": "prior"
         },
         {
          "density": 1,
          "p_grid": 0.6767676767676768,
          "variable": "prior"
         },
         {
          "density": 1,
          "p_grid": 0.686868686868687,
          "variable": "prior"
         },
         {
          "density": 1,
          "p_grid": 0.696969696969697,
          "variable": "prior"
         },
         {
          "density": 1,
          "p_grid": 0.7070707070707072,
          "variable": "prior"
         },
         {
          "density": 1,
          "p_grid": 0.7171717171717172,
          "variable": "prior"
         },
         {
          "density": 1,
          "p_grid": 0.7272727272727273,
          "variable": "prior"
         },
         {
          "density": 1,
          "p_grid": 0.7373737373737375,
          "variable": "prior"
         },
         {
          "density": 1,
          "p_grid": 0.7474747474747475,
          "variable": "prior"
         },
         {
          "density": 1,
          "p_grid": 0.7575757575757577,
          "variable": "prior"
         },
         {
          "density": 1,
          "p_grid": 0.7676767676767677,
          "variable": "prior"
         },
         {
          "density": 1,
          "p_grid": 0.7777777777777778,
          "variable": "prior"
         },
         {
          "density": 1,
          "p_grid": 0.787878787878788,
          "variable": "prior"
         },
         {
          "density": 1,
          "p_grid": 0.797979797979798,
          "variable": "prior"
         },
         {
          "density": 1,
          "p_grid": 0.8080808080808082,
          "variable": "prior"
         },
         {
          "density": 1,
          "p_grid": 0.8181818181818182,
          "variable": "prior"
         },
         {
          "density": 1,
          "p_grid": 0.8282828282828284,
          "variable": "prior"
         },
         {
          "density": 1,
          "p_grid": 0.8383838383838385,
          "variable": "prior"
         },
         {
          "density": 1,
          "p_grid": 0.8484848484848485,
          "variable": "prior"
         },
         {
          "density": 1,
          "p_grid": 0.8585858585858587,
          "variable": "prior"
         },
         {
          "density": 1,
          "p_grid": 0.8686868686868687,
          "variable": "prior"
         },
         {
          "density": 1,
          "p_grid": 0.8787878787878789,
          "variable": "prior"
         },
         {
          "density": 1,
          "p_grid": 0.888888888888889,
          "variable": "prior"
         },
         {
          "density": 1,
          "p_grid": 0.8989898989898991,
          "variable": "prior"
         },
         {
          "density": 1,
          "p_grid": 0.9090909090909092,
          "variable": "prior"
         },
         {
          "density": 1,
          "p_grid": 0.9191919191919192,
          "variable": "prior"
         },
         {
          "density": 1,
          "p_grid": 0.9292929292929294,
          "variable": "prior"
         },
         {
          "density": 1,
          "p_grid": 0.9393939393939394,
          "variable": "prior"
         },
         {
          "density": 1,
          "p_grid": 0.9494949494949496,
          "variable": "prior"
         },
         {
          "density": 1,
          "p_grid": 0.9595959595959597,
          "variable": "prior"
         },
         {
          "density": 1,
          "p_grid": 0.9696969696969697,
          "variable": "prior"
         },
         {
          "density": 1,
          "p_grid": 0.9797979797979799,
          "variable": "prior"
         },
         {
          "density": 1,
          "p_grid": 0.98989898989899,
          "variable": "prior"
         },
         {
          "density": 1,
          "p_grid": 1,
          "variable": "prior"
         },
         {
          "density": 0,
          "p_grid": 0,
          "variable": "posterior_1"
         },
         {
          "density": 1.0306101521283648e-06,
          "p_grid": 0.010101010101010102,
          "variable": "posterior_1"
         },
         {
          "density": 8.244881217026918e-06,
          "p_grid": 0.020202020202020204,
          "variable": "posterior_1"
         },
         {
          "density": 2.7826474107465846e-05,
          "p_grid": 0.030303030303030304,
          "variable": "posterior_1"
         },
         {
          "density": 6.595904973621535e-05,
          "p_grid": 0.04040404040404041,
          "variable": "posterior_1"
         },
         {
          "density": 0.00012882626901604562,
          "p_grid": 0.05050505050505051,
          "variable": "posterior_1"
         },
         {
          "density": 0.00022261179285972677,
          "p_grid": 0.06060606060606061,
          "variable": "posterior_1"
         },
         {
          "density": 0.0003534992821800292,
          "p_grid": 0.07070707070707072,
          "variable": "posterior_1"
         },
         {
          "density": 0.0005276723978897228,
          "p_grid": 0.08080808080808081,
          "variable": "posterior_1"
         },
         {
          "density": 0.0007513148009015778,
          "p_grid": 0.09090909090909091,
          "variable": "posterior_1"
         },
         {
          "density": 0.001030610152128365,
          "p_grid": 0.10101010101010102,
          "variable": "posterior_1"
         },
         {
          "density": 0.0013717421124828536,
          "p_grid": 0.11111111111111112,
          "variable": "posterior_1"
         },
         {
          "density": 0.0017808943428778141,
          "p_grid": 0.12121212121212122,
          "variable": "posterior_1"
         },
         {
          "density": 0.0022642505042260175,
          "p_grid": 0.13131313131313133,
          "variable": "posterior_1"
         },
         {
          "density": 0.0028279942574402335,
          "p_grid": 0.14141414141414144,
          "variable": "posterior_1"
         },
         {
          "density": 0.0034783092634332307,
          "p_grid": 0.15151515151515152,
          "variable": "posterior_1"
         },
         {
          "density": 0.004221379183117782,
          "p_grid": 0.16161616161616163,
          "variable": "posterior_1"
         },
         {
          "density": 0.005063387677406657,
          "p_grid": 0.17171717171717174,
          "variable": "posterior_1"
         },
         {
          "density": 0.006010518407212622,
          "p_grid": 0.18181818181818182,
          "variable": "posterior_1"
         },
         {
          "density": 0.007068955033448454,
          "p_grid": 0.19191919191919193,
          "variable": "posterior_1"
         },
         {
          "density": 0.00824488121702692,
          "p_grid": 0.20202020202020204,
          "variable": "posterior_1"
         },
         {
          "density": 0.009544480618860785,
          "p_grid": 0.21212121212121213,
          "variable": "posterior_1"
         },
         {
          "density": 0.010973936899862828,
          "p_grid": 0.22222222222222224,
          "variable": "posterior_1"
         },
         {
          "density": 0.012539433720945816,
          "p_grid": 0.23232323232323235,
          "variable": "posterior_1"
         },
         {
          "density": 0.014247154743022513,
          "p_grid": 0.24242424242424243,
          "variable": "posterior_1"
         },
         {
          "density": 0.0161032836270057,
          "p_grid": 0.25252525252525254,
          "variable": "posterior_1"
         },
         {
          "density": 0.01811400403380814,
          "p_grid": 0.26262626262626265,
          "variable": "posterior_1"
         },
         {
          "density": 0.020285499624342607,
          "p_grid": 0.27272727272727276,
          "variable": "posterior_1"
         },
         {
          "density": 0.02262395405952187,
          "p_grid": 0.2828282828282829,
          "variable": "posterior_1"
         },
         {
          "density": 0.025135551000258684,
          "p_grid": 0.29292929292929293,
          "variable": "posterior_1"
         },
         {
          "density": 0.027826474107465846,
          "p_grid": 0.30303030303030304,
          "variable": "posterior_1"
         },
         {
          "density": 0.030702907042056114,
          "p_grid": 0.31313131313131315,
          "variable": "posterior_1"
         },
         {
          "density": 0.03377103346494226,
          "p_grid": 0.32323232323232326,
          "variable": "posterior_1"
         },
         {
          "density": 0.03703703703703705,
          "p_grid": 0.33333333333333337,
          "variable": "posterior_1"
         },
         {
          "density": 0.040507101419253254,
          "p_grid": 0.3434343434343435,
          "variable": "posterior_1"
         },
         {
          "density": 0.04418741027250365,
          "p_grid": 0.3535353535353536,
          "variable": "posterior_1"
         },
         {
          "density": 0.04808414725770098,
          "p_grid": 0.36363636363636365,
          "variable": "posterior_1"
         },
         {
          "density": 0.05220349603575806,
          "p_grid": 0.37373737373737376,
          "variable": "posterior_1"
         },
         {
          "density": 0.05655164026758763,
          "p_grid": 0.38383838383838387,
          "variable": "posterior_1"
         },
         {
          "density": 0.06113476361410247,
          "p_grid": 0.393939393939394,
          "variable": "posterior_1"
         },
         {
          "density": 0.06595904973621536,
          "p_grid": 0.4040404040404041,
          "variable": "posterior_1"
         },
         {
          "density": 0.07103068229483904,
          "p_grid": 0.4141414141414142,
          "variable": "posterior_1"
         },
         {
          "density": 0.07635584495088628,
          "p_grid": 0.42424242424242425,
          "variable": "posterior_1"
         },
         {
          "density": 0.08194072136526989,
          "p_grid": 0.43434343434343436,
          "variable": "posterior_1"
         },
         {
          "density": 0.08779149519890263,
          "p_grid": 0.4444444444444445,
          "variable": "posterior_1"
         },
         {
          "density": 0.09391435011269725,
          "p_grid": 0.4545454545454546,
          "variable": "posterior_1"
         },
         {
          "density": 0.10031546976756653,
          "p_grid": 0.4646464646464647,
          "variable": "posterior_1"
         },
         {
          "density": 0.10700103782442323,
          "p_grid": 0.4747474747474748,
          "variable": "posterior_1"
         },
         {
          "density": 0.1139772379441801,
          "p_grid": 0.48484848484848486,
          "variable": "posterior_1"
         },
         {
          "density": 0.12125025378774998,
          "p_grid": 0.494949494949495,
          "variable": "posterior_1"
         },
         {
          "density": 0.1288262690160456,
          "p_grid": 0.5050505050505051,
          "variable": "posterior_1"
         },
         {
          "density": 0.13671146728997977,
          "p_grid": 0.5151515151515152,
          "variable": "posterior_1"
         },
         {
          "density": 0.14491203227046512,
          "p_grid": 0.5252525252525253,
          "variable": "posterior_1"
         },
         {
          "density": 0.15343414761841453,
          "p_grid": 0.5353535353535354,
          "variable": "posterior_1"
         },
         {
          "density": 0.16228399699474086,
          "p_grid": 0.5454545454545455,
          "variable": "posterior_1"
         },
         {
          "density": 0.1714677640603567,
          "p_grid": 0.5555555555555556,
          "variable": "posterior_1"
         },
         {
          "density": 0.18099163247617495,
          "p_grid": 0.5656565656565657,
          "variable": "posterior_1"
         },
         {
          "density": 0.19086178590310826,
          "p_grid": 0.5757575757575758,
          "variable": "posterior_1"
         },
         {
          "density": 0.20108440800206948,
          "p_grid": 0.5858585858585859,
          "variable": "posterior_1"
         },
         {
          "density": 0.21166568243397146,
          "p_grid": 0.595959595959596,
          "variable": "posterior_1"
         },
         {
          "density": 0.22261179285972676,
          "p_grid": 0.6060606060606061,
          "variable": "posterior_1"
         },
         {
          "density": 0.23392892294024842,
          "p_grid": 0.6161616161616162,
          "variable": "posterior_1"
         },
         {
          "density": 0.2456232563364489,
          "p_grid": 0.6262626262626263,
          "variable": "posterior_1"
         },
         {
          "density": 0.2577009767092413,
          "p_grid": 0.6363636363636365,
          "variable": "posterior_1"
         },
         {
          "density": 0.27016826771953806,
          "p_grid": 0.6464646464646465,
          "variable": "posterior_1"
         },
         {
          "density": 0.28303131302825213,
          "p_grid": 0.6565656565656566,
          "variable": "posterior_1"
         },
         {
          "density": 0.2962962962962964,
          "p_grid": 0.6666666666666667,
          "variable": "posterior_1"
         },
         {
          "density": 0.3099694011845833,
          "p_grid": 0.6767676767676768,
          "variable": "posterior_1"
         },
         {
          "density": 0.32405681135402603,
          "p_grid": 0.686868686868687,
          "variable": "posterior_1"
         },
         {
          "density": 0.338564710465537,
          "p_grid": 0.696969696969697,
          "variable": "posterior_1"
         },
         {
          "density": 0.3534992821800292,
          "p_grid": 0.7070707070707072,
          "variable": "posterior_1"
         },
         {
          "density": 0.3688667101584152,
          "p_grid": 0.7171717171717172,
          "variable": "posterior_1"
         },
         {
          "density": 0.38467317806160783,
          "p_grid": 0.7272727272727273,
          "variable": "posterior_1"
         },
         {
          "density": 0.40092486955052015,
          "p_grid": 0.7373737373737375,
          "variable": "posterior_1"
         },
         {
          "density": 0.41762796828606447,
          "p_grid": 0.7474747474747475,
          "variable": "posterior_1"
         },
         {
          "density": 0.434788657929154,
          "p_grid": 0.7575757575757577,
          "variable": "posterior_1"
         },
         {
          "density": 0.45241312214070106,
          "p_grid": 0.7676767676767677,
          "variable": "posterior_1"
         },
         {
          "density": 0.4705075445816187,
          "p_grid": 0.7777777777777778,
          "variable": "posterior_1"
         },
         {
          "density": 0.4890781089128198,
          "p_grid": 0.787878787878788,
          "variable": "posterior_1"
         },
         {
          "density": 0.5081309987952168,
          "p_grid": 0.797979797979798,
          "variable": "posterior_1"
         },
         {
          "density": 0.5276723978897229,
          "p_grid": 0.8080808080808082,
          "variable": "posterior_1"
         },
         {
          "density": 0.5477084898572503,
          "p_grid": 0.8181818181818182,
          "variable": "posterior_1"
         },
         {
          "density": 0.5682454583587123,
          "p_grid": 0.8282828282828284,
          "variable": "posterior_1"
         },
         {
          "density": 0.5892894870550214,
          "p_grid": 0.8383838383838385,
          "variable": "posterior_1"
         },
         {
          "density": 0.6108467596070902,
          "p_grid": 0.8484848484848485,
          "variable": "posterior_1"
         },
         {
          "density": 0.6329234596758321,
          "p_grid": 0.8585858585858587,
          "variable": "posterior_1"
         },
         {
          "density": 0.6555257709221591,
          "p_grid": 0.8686868686868687,
          "variable": "posterior_1"
         },
         {
          "density": 0.6786598770069847,
          "p_grid": 0.8787878787878789,
          "variable": "posterior_1"
         },
         {
          "density": 0.702331961591221,
          "p_grid": 0.888888888888889,
          "variable": "posterior_1"
         },
         {
          "density": 0.7265482083357814,
          "p_grid": 0.8989898989898991,
          "variable": "posterior_1"
         },
         {
          "density": 0.751314800901578,
          "p_grid": 0.9090909090909092,
          "variable": "posterior_1"
         },
         {
          "density": 0.7766379229495239,
          "p_grid": 0.9191919191919192,
          "variable": "posterior_1"
         },
         {
          "density": 0.8025237581405322,
          "p_grid": 0.9292929292929294,
          "variable": "posterior_1"
         },
         {
          "density": 0.8289784901355151,
          "p_grid": 0.9393939393939394,
          "variable": "posterior_1"
         },
         {
          "density": 0.8560083025953859,
          "p_grid": 0.9494949494949496,
          "variable": "posterior_1"
         },
         {
          "density": 0.8836193791810567,
          "p_grid": 0.9595959595959597,
          "variable": "posterior_1"
         },
         {
          "density": 0.9118179035534408,
          "p_grid": 0.9696969696969697,
          "variable": "posterior_1"
         },
         {
          "density": 0.9406100593734511,
          "p_grid": 0.9797979797979799,
          "variable": "posterior_1"
         },
         {
          "density": 0.9700020303019998,
          "p_grid": 0.98989898989899,
          "variable": "posterior_1"
         },
         {
          "density": 1,
          "p_grid": 1,
          "variable": "posterior_1"
         },
         {
          "density": 0,
          "p_grid": 0,
          "variable": "posterior_2"
         },
         {
          "density": 4.080799794286051e-06,
          "p_grid": 0.010101010101010102,
          "variable": "posterior_2"
         },
         {
          "density": 3.231327184046915e-05,
          "p_grid": 0.020202020202020204,
          "variable": "posterior_2"
         },
         {
          "density": 0.00010793299047744329,
          "p_grid": 0.030303030303030304,
          "variable": "posterior_2"
         },
         {
          "density": 0.00025317615050264483,
          "p_grid": 0.04040404040404041,
          "variable": "posterior_2"
         },
         {
          "density": 0.0004892795671720521,
          "p_grid": 0.05050505050505051,
          "variable": "posterior_2"
         },
         {
          "density": 0.0008364806762001856,
          "p_grid": 0.06060606060606061,
          "variable": "posterior_2"
         },
         {
          "density": 0.0013140175337601086,
          "p_grid": 0.07070707070707072,
          "variable": "posterior_2"
         },
         {
          "density": 0.0019401288164834253,
          "p_grid": 0.08080808080808081,
          "variable": "posterior_2"
         },
         {
          "density": 0.002732053821460282,
          "p_grid": 0.09090909090909091,
          "variable": "posterior_2"
         },
         {
          "density": 0.0037060324662393737,
          "p_grid": 0.10101010101010102,
          "variable": "posterior_2"
         },
         {
          "density": 0.004877305288827925,
          "p_grid": 0.11111111111111112,
          "variable": "posterior_2"
         },
         {
          "density": 0.0062601134476917095,
          "p_grid": 0.12121212121212122,
          "variable": "posterior_2"
         },
         {
          "density": 0.00786769872175505,
          "p_grid": 0.13131313131313133,
          "variable": "posterior_2"
         },
         {
          "density": 0.009712303510400805,
          "p_grid": 0.14141414141414144,
          "variable": "posterior_2"
         },
         {
          "density": 0.011805170833470359,
          "p_grid": 0.15151515151515152,
          "variable": "posterior_2"
         },
         {
          "density": 0.014156544331263671,
          "p_grid": 0.16161616161616163,
          "variable": "posterior_2"
         },
         {
          "density": 0.016775668264539235,
          "p_grid": 0.17171717171717174,
          "variable": "posterior_2"
         },
         {
          "density": 0.019670787514514038,
          "p_grid": 0.18181818181818182,
          "variable": "posterior_2"
         },
         {
          "density": 0.0228491475828637,
          "p_grid": 0.19191919191919193,
          "variable": "posterior_2"
         },
         {
          "density": 0.026316994591722286,
          "p_grid": 0.20202020202020204,
          "variable": "posterior_2"
         },
         {
          "density": 0.03007957528368249,
          "p_grid": 0.21212121212121213,
          "variable": "posterior_2"
         },
         {
          "density": 0.034141137021795456,
          "p_grid": 0.22222222222222224,
          "variable": "posterior_2"
         },
         {
          "density": 0.03850492778957103,
          "p_grid": 0.23232323232323235,
          "variable": "posterior_2"
         },
         {
          "density": 0.04317319619097729,
          "p_grid": 0.24242424242424243,
          "variable": "posterior_2"
         },
         {
          "density": 0.04814719145044136,
          "p_grid": 0.25252525252525254,
          "variable": "posterior_2"
         },
         {
          "density": 0.05342716341284822,
          "p_grid": 0.26262626262626265,
          "variable": "posterior_2"
         },
         {
          "density": 0.059012362543542154,
          "p_grid": 0.27272727272727276,
          "variable": "posterior_2"
         },
         {
          "density": 0.06490103992832535,
          "p_grid": 0.2828282828282829,
          "variable": "posterior_2"
         },
         {
          "density": 0.07109044727345896,
          "p_grid": 0.29292929292929293,
          "variable": "posterior_2"
         },
         {
          "density": 0.07757683690566233,
          "p_grid": 0.30303030303030304,
          "variable": "posterior_2"
         },
         {
          "density": 0.08435546177211374,
          "p_grid": 0.31313131313131315,
          "variable": "posterior_2"
         },
         {
          "density": 0.09142057544044971,
          "p_grid": 0.32323232323232326,
          "variable": "posterior_2"
         },
         {
          "density": 0.09876543209876545,
          "p_grid": 0.33333333333333337,
          "variable": "posterior_2"
         },
         {
          "density": 0.10638228655561469,
          "p_grid": 0.3434343434343435,
          "variable": "posterior_2"
         },
         {
          "density": 0.11426239424000939,
          "p_grid": 0.3535353535353536,
          "variable": "posterior_2"
         },
         {
          "density": 0.12239601120142067,
          "p_grid": 0.36363636363636365,
          "variable": "posterior_2"
         },
         {
          "density": 0.1307723941097777,
          "p_grid": 0.37373737373737376,
          "variable": "posterior_2"
         },
         {
          "density": 0.13937980025546853,
          "p_grid": 0.38383838383838387,
          "variable": "posterior_2"
         },
         {
          "density": 0.14820548754933932,
          "p_grid": 0.393939393939394,
          "variable": "posterior_2"
         },
         {
          "density": 0.1572357145226952,
          "p_grid": 0.4040404040404041,
          "variable": "posterior_2"
         },
         {
          "density": 0.16645574032729965,
          "p_grid": 0.4141414141414142,
          "variable": "posterior_2"
         },
         {
          "density": 0.17584982473537447,
          "p_grid": 0.42424242424242425,
          "variable": "posterior_2"
         },
         {
          "density": 0.18540122813960055,
          "p_grid": 0.43434343434343436,
          "variable": "posterior_2"
         },
         {
          "density": 0.19509221155311696,
          "p_grid": 0.4444444444444445,
          "variable": "posterior_2"
         },
         {
          "density": 0.2049040366095211,
          "p_grid": 0.4545454545454546,
          "variable": "posterior_2"
         },
         {
          "density": 0.21481696556286986,
          "p_grid": 0.4646464646464647,
          "variable": "posterior_2"
         },
         {
          "density": 0.22481026128767714,
          "p_grid": 0.4747474747474748,
          "variable": "posterior_2"
         },
         {
          "density": 0.23486218727891658,
          "p_grid": 0.48484848484848486,
          "variable": "posterior_2"
         },
         {
          "density": 0.24495000765202005,
          "p_grid": 0.494949494949495,
          "variable": "posterior_2"
         },
         {
          "density": 0.25504998714287824,
          "p_grid": 0.5050505050505051,
          "variable": "posterior_2"
         },
         {
          "density": 0.26513739110783957,
          "p_grid": 0.5151515151515152,
          "variable": "posterior_2"
         },
         {
          "density": 0.2751864855237115,
          "p_grid": 0.5252525252525253,
          "variable": "posterior_2"
         },
         {
          "density": 0.2851705369877603,
          "p_grid": 0.5353535353535354,
          "variable": "posterior_2"
         },
         {
          "density": 0.29506181271771065,
          "p_grid": 0.5454545454545455,
          "variable": "posterior_2"
         },
         {
          "density": 0.3048315805517453,
          "p_grid": 0.5555555555555556,
          "variable": "posterior_2"
         },
         {
          "density": 0.314450108948506,
          "p_grid": 0.5656565656565657,
          "variable": "posterior_2"
         },
         {
          "density": 0.32388666698709284,
          "p_grid": 0.5757575757575758,
          "variable": "posterior_2"
         },
         {
          "density": 0.33310952436706465,
          "p_grid": 0.5858585858585859,
          "variable": "posterior_2"
         },
         {
          "density": 0.3420859514084388,
          "p_grid": 0.595959595959596,
          "variable": "posterior_2"
         },
         {
          "density": 0.35078221905169077,
          "p_grid": 0.6060606060606061,
          "variable": "posterior_2"
         },
         {
          "density": 0.3591635988577551,
          "p_grid": 0.6161616161616162,
          "variable": "posterior_2"
         },
         {
          "density": 0.36719436300802444,
          "p_grid": 0.6262626262626263,
          "variable": "posterior_2"
         },
         {
          "density": 0.37483778430435094,
          "p_grid": 0.6363636363636365,
          "variable": "posterior_2"
         },
         {
          "density": 0.38205613616904377,
          "p_grid": 0.6464646464646465,
          "variable": "posterior_2"
         },
         {
          "density": 0.38881069264487156,
          "p_grid": 0.6565656565656566,
          "variable": "posterior_2"
         },
         {
          "density": 0.3950617283950616,
          "p_grid": 0.6666666666666667,
          "variable": "posterior_2"
         },
         {
          "density": 0.40076851870329977,
          "p_grid": 0.6767676767676768,
          "variable": "posterior_2"
         },
         {
          "density": 0.40588933947372957,
          "p_grid": 0.686868686868687,
          "variable": "posterior_2"
         },
         {
          "density": 0.41038146723095387,
          "p_grid": 0.696969696969697,
          "variable": "posterior_2"
         },
         {
          "density": 0.4142011791200339,
          "p_grid": 0.7070707070707072,
          "variable": "posterior_2"
         },
         {
          "density": 0.41730375290648986,
          "p_grid": 0.7171717171717172,
          "variable": "posterior_2"
         },
         {
          "density": 0.4196434669762995,
          "p_grid": 0.7272727272727273,
          "variable": "posterior_2"
         },
         {
          "density": 0.4211736003359001,
          "p_grid": 0.7373737373737375,
          "variable": "posterior_2"
         },
         {
          "density": 0.4218464326121863,
          "p_grid": 0.7474747474747475,
          "variable": "posterior_2"
         },
         {
          "density": 0.42161324405251277,
          "p_grid": 0.7575757575757577,
          "variable": "posterior_2"
         },
         {
          "density": 0.4204243155246917,
          "p_grid": 0.7676767676767677,
          "variable": "posterior_2"
         },
         {
          "density": 0.41822892851699445,
          "p_grid": 0.7777777777777778,
          "variable": "posterior_2"
         },
         {
          "density": 0.4149753651381502,
          "p_grid": 0.787878787878788,
          "variable": "posterior_2"
         },
         {
          "density": 0.4106109081173469,
          "p_grid": 0.797979797979798,
          "variable": "posterior_2"
         },
         {
          "density": 0.4050818408042315,
          "p_grid": 0.8080808080808082,
          "variable": "posterior_2"
         },
         {
          "density": 0.3983334471689093,
          "p_grid": 0.8181818181818182,
          "variable": "posterior_2"
         },
         {
          "density": 0.39031001180194363,
          "p_grid": 0.8282828282828284,
          "variable": "posterior_2"
         },
         {
          "density": 0.380954819914357,
          "p_grid": 0.8383838383838385,
          "variable": "posterior_2"
         },
         {
          "density": 0.3702101573376305,
          "p_grid": 0.8484848484848485,
          "variable": "posterior_2"
         },
         {
          "density": 0.3580173105237028,
          "p_grid": 0.8585858585858587,
          "variable": "posterior_2"
         },
         {
          "density": 0.3443165665449724,
          "p_grid": 0.8686868686868687,
          "variable": "posterior_2"
         },
         {
          "density": 0.32904721309429535,
          "p_grid": 0.8787878787878789,
          "variable": "posterior_2"
         },
         {
          "density": 0.312147538484987,
          "p_grid": 0.888888888888889,
          "variable": "posterior_2"
         },
         {
          "density": 0.2935548316508206,
          "p_grid": 0.8989898989898991,
          "variable": "posterior_2"
         },
         {
          "density": 0.27320538214602824,
          "p_grid": 0.9090909090909092,
          "variable": "posterior_2"
         },
         {
          "density": 0.2510344801453005,
          "p_grid": 0.9191919191919192,
          "variable": "posterior_2"
         },
         {
          "density": 0.22697641644378655,
          "p_grid": 0.9292929292929294,
          "variable": "posterior_2"
         },
         {
          "density": 0.20096448245709447,
          "p_grid": 0.9393939393939394,
          "variable": "posterior_2"
         },
         {
          "density": 0.17293097022128973,
          "p_grid": 0.9494949494949496,
          "variable": "posterior_2"
         },
         {
          "density": 0.1428071723928977,
          "p_grid": 0.9595959595959597,
          "variable": "posterior_2"
         },
         {
          "density": 0.11052338224890187,
          "p_grid": 0.9696969696969697,
          "variable": "posterior_2"
         },
         {
          "density": 0.07600889368674316,
          "p_grid": 0.9797979797979799,
          "variable": "posterior_2"
         },
         {
          "density": 0.039192001224323036,
          "p_grid": 0.98989898989899,
          "variable": "posterior_2"
         },
         {
          "density": 0,
          "p_grid": 1,
          "variable": "posterior_2"
         },
         {
          "density": 0,
          "p_grid": 0,
          "variable": "posterior_3"
         },
         {
          "density": 2.1638396970007942e-09,
          "p_grid": 0.010101010101010102,
          "variable": "posterior_3"
         },
         {
          "density": 6.783696029681122e-08,
          "p_grid": 0.020202020202020204,
          "variable": "posterior_3"
         },
         {
          "density": 5.045702868968044e-07,
          "p_grid": 0.030303030303030304,
          "variable": "posterior_3"
         },
         {
          "density": 2.0821887696587396e-06,
          "p_grid": 0.04040404040404041,
          "variable": "posterior_3"
         },
         {
          "density": 6.221264434968189e-06,
          "p_grid": 0.05050505050505051,
          "variable": "posterior_3"
         },
         {
          "density": 1.5152876428369662e-05,
          "p_grid": 0.06060606060606061,
          "variable": "posterior_3"
         },
         {
          "density": 3.2050793591975764e-05,
          "p_grid": 0.07070707070707072,
          "variable": "posterior_3"
         },
         {
          "density": 6.113721511904806e-05,
          "p_grid": 0.08080808080808081,
          "variable": "posterior_3"
         },
         {
          "density": 0.00010776320482844844,
          "p_grid": 0.09090909090909091,
          "variable": "posterior_3"
         },
         {
          "density": 0.00017846495460165863,
          "p_grid": 0.10101010101010102,
          "variable": "posterior_3"
         },
         {
          "density": 0.0002809970125250655,
          "p_grid": 0.11111111111111112,
          "variable": "posterior_3"
         },
         {
          "density": 0.0004243436112802125,
          "p_grid": 0.12121212121212122,
          "variable": "posterior_3"
         },
         {
          "density": 0.0006187092323247129,
          "p_grid": 0.13131313131313133,
          "variable": "posterior_3"
         },
         {
          "density": 0.0008754895414065211,
          "p_grid": 0.14141414141414144,
          "variable": "posterior_3"
         },
         {
          "density": 0.0012072238309542688,
          "p_grid": 0.15151515151515152,
          "variable": "posterior_3"
         },
         {
          "density": 0.0016275301048863545,
          "p_grid": 0.16161616161616163,
          "variable": "posterior_3"
         },
         {
          "density": 0.0021510239413814877,
          "p_grid": 0.17171717171717174,
          "variable": "posterior_3"
         },
         {
          "density": 0.0027932222691533838,
          "p_grid": 0.18181818181818182,
          "variable": "posterior_3"
         },
         {
          "density": 0.0035704331927723224,
          "p_grid": 0.19191919191919193,
          "variable": "posterior_3"
         },
         {
          "density": 0.0044996330025762485,
          "p_grid": 0.20202020202020204,
          "variable": "posterior_3"
         },
         {
          "density": 0.005598331504714093,
          "p_grid": 0.21212121212121213,
          "variable": "posterior_3"
         },
         {
          "density": 0.006884426806864107,
          "p_grid": 0.22222222222222224,
          "variable": "posterior_3"
         },
         {
          "density": 0.008376050695169774,
          "p_grid": 0.23232323232323235,
          "variable": "posterior_3"
         },
         {
          "density": 0.01009140573793609,
          "p_grid": 0.24242424242424243,
          "variable": "posterior_3"
         },
         {
          "density": 0.0120485952516289,
          "p_grid": 0.25252525252525254,
          "variable": "posterior_3"
         },
         {
          "density": 0.014265447264719925,
          "p_grid": 0.26262626262626265,
          "variable": "posterior_3"
         },
         {
          "density": 0.0167593336149203,
          "p_grid": 0.27272727272727276,
          "variable": "posterior_3"
         },
         {
          "density": 0.01954698531534515,
          "p_grid": 0.2828282828282829,
          "variable": "posterior_3"
         },
         {
          "density": 0.022644305325152138,
          "p_grid": 0.29292929292929293,
          "variable": "posterior_3"
         },
         {
          "density": 0.026066179860196232,
          "p_grid": 0.30303030303030304,
          "variable": "posterior_3"
         },
         {
          "density": 0.029826289379244416,
          "p_grid": 0.31313131313131315,
          "variable": "posterior_3"
         },
         {
          "density": 0.03393692038129122,
          "p_grid": 0.32323232323232326,
          "variable": "posterior_3"
         },
         {
          "density": 0.038408779149519956,
          "p_grid": 0.33333333333333337,
          "variable": "posterior_3"
         },
         {
          "density": 0.04325080857745052,
          "p_grid": 0.3434343434343435,
          "variable": "posterior_3"
         },
         {
          "density": 0.0484700092128178,
          "p_grid": 0.3535353535353536,
          "variable": "posterior_3"
         },
         {
          "density": 0.05407126565472229,
          "p_grid": 0.36363636363636365,
          "variable": "posterior_3"
         },
         {
          "density": 0.06005717943959651,
          "p_grid": 0.37373737373737376,
          "variable": "posterior_3"
         },
         {
          "density": 0.06642790955152911,
          "p_grid": 0.38383838383838387,
          "variable": "posterior_3"
         },
         {
          "density": 0.07318102169249037,
          "p_grid": 0.393939393939394,
          "variable": "posterior_3"
         },
         {
          "density": 0.08031134744800082,
          "p_grid": 0.4040404040404041,
          "variable": "posterior_3"
         },
         {
          "density": 0.08781085448378598,
          "p_grid": 0.4141414141414142,
          "variable": "posterior_3"
         },
         {
          "density": 0.0956685289089603,
          "p_grid": 0.42424242424242425,
          "variable": "posterior_3"
         },
         {
          "density": 0.1038702709412828,
          "p_grid": 0.43434343434343436,
          "variable": "posterior_3"
         },
         {
          "density": 0.1123988050100262,
          "p_grid": 0.4444444444444445,
          "variable": "posterior_3"
         },
         {
          "density": 0.12123360543200459,
          "p_grid": 0.4545454545454546,
          "variable": "posterior_3"
         },
         {
          "density": 0.1303508387962986,
          "p_grid": 0.4646464646464647,
          "variable": "posterior_3"
         },
         {
          "density": 0.13972332419322578,
          "p_grid": 0.4747474747474748,
          "variable": "posterior_3"
         },
         {
          "density": 0.14932051242309277,
          "p_grid": 0.48484848484848486,
          "variable": "posterior_3"
         },
         {
          "density": 0.1591084853202789,
          "p_grid": 0.494949494949495,
          "variable": "posterior_3"
         },
         {
          "density": 0.16904997632818694,
          "p_grid": 0.5050505050505051,
          "variable": "posterior_3"
         },
         {
          "density": 0.17910441346060924,
          "p_grid": 0.5151515151515152,
          "variable": "posterior_3"
         },
         {
          "density": 0.18922798578504826,
          "p_grid": 0.5252525252525253,
          "variable": "posterior_3"
         },
         {
          "density": 0.19937373456353802,
          "p_grid": 0.5353535353535354,
          "variable": "posterior_3"
         },
         {
          "density": 0.20949167018650372,
          "p_grid": 0.5454545454545455,
          "variable": "posterior_3"
         },
         {
          "density": 0.21952891603520755,
          "p_grid": 0.5555555555555556,
          "variable": "posterior_3"
         },
         {
          "density": 0.22942988040832019,
          "p_grid": 0.5656565656565657,
          "variable": "posterior_3"
         },
         {
          "density": 0.23913645764816266,
          "p_grid": 0.5757575757575758,
          "variable": "posterior_3"
         },
         {
          "density": 0.24858825960215974,
          "p_grid": 0.5858585858585859,
          "variable": "posterior_3"
         },
         {
          "density": 0.2577228785550462,
          "p_grid": 0.595959595959596,
          "variable": "posterior_3"
         },
         {
          "density": 0.26647618276737506,
          "p_grid": 0.6060606060606061,
          "variable": "posterior_3"
         },
         {
          "density": 0.27478264575586125,
          "p_grid": 0.6161616161616162,
          "variable": "posterior_3"
         },
         {
          "density": 0.28257571045111163,
          "p_grid": 0.6262626262626263,
          "variable": "posterior_3"
         },
         {
          "density": 0.2897881893682773,
          "p_grid": 0.6363636363636365,
          "variable": "posterior_3"
         },
         {
          "density": 0.2963527019261785,
          "p_grid": 0.6464646464646465,
          "variable": "posterior_3"
         },
         {
          "density": 0.302202150050436,
          "p_grid": 0.6565656565656566,
          "variable": "posterior_3"
         },
         {
          "density": 0.30727023319615937,
          "p_grid": 0.6666666666666667,
          "variable": "posterior_3"
         },
         {
          "density": 0.31149200392572873,
          "p_grid": 0.6767676767676768,
          "variable": "posterior_3"
         },
         {
          "density": 0.3148044651772207,
          "p_grid": 0.686868686868687,
          "variable": "posterior_3"
         },
         {
          "density": 0.3171472103590079,
          "p_grid": 0.696969696969697,
          "variable": "posterior_3"
         },
         {
          "density": 0.3184631074060919,
          "p_grid": 0.7070707070707072,
          "variable": "posterior_3"
         },
         {
          "density": 0.3186990279336961,
          "p_grid": 0.7171717171717172,
          "variable": "posterior_3"
         },
         {
          "density": 0.3178066226236738,
          "p_grid": 0.7272727272727273,
          "variable": "posterior_3"
         },
         {
          "density": 0.3157431439792646,
          "p_grid": 0.7373737373737375,
          "variable": "posterior_3"
         },
         {
          "density": 0.31247231758374844,
          "p_grid": 0.7474747474747475,
          "variable": "posterior_3"
         },
         {
          "density": 0.307965262998538,
          "p_grid": 0.7575757575757577,
          "variable": "posterior_3"
         },
         {
          "density": 0.30220146543624943,
          "p_grid": 0.7676767676767677,
          "variable": "posterior_3"
         },
         {
          "density": 0.2951697993442985,
          "p_grid": 0.7777777777777778,
          "variable": "posterior_3"
         },
         {
          "density": 0.28686960503456205,
          "p_grid": 0.787878787878788,
          "variable": "posterior_3"
         },
         {
          "density": 0.27731181949464834,
          "p_grid": 0.797979797979798,
          "variable": "posterior_3"
         },
         {
          "density": 0.26652016251631866,
          "p_grid": 0.8080808080808082,
          "variable": "posterior_3"
         },
         {
          "density": 0.25453237927660183,
          "p_grid": 0.8181818181818182,
          "variable": "posterior_3"
         },
         {
          "density": 0.24140154050714988,
          "p_grid": 0.8282828282828284,
          "variable": "posterior_3"
         },
         {
          "density": 0.22719740138736652,
          "p_grid": 0.8383838383838385,
          "variable": "posterior_3"
         },
         {
          "density": 0.21200782029686496,
          "p_grid": 0.8484848484848485,
          "variable": "posterior_3"
         },
         {
          "density": 0.19594023856278395,
          "p_grid": 0.8585858585858587,
          "variable": "posterior_3"
         },
         {
          "density": 0.17912322233751818,
          "p_grid": 0.8686868686868687,
          "variable": "posterior_3"
         },
         {
          "density": 0.1617080677423921,
          "p_grid": 0.8787878787878789,
          "variable": "posterior_3"
         },
         {
          "density": 0.14387047041283352,
          "p_grid": 0.888888888888889,
          "variable": "posterior_3"
         },
         {
          "density": 0.12581226058057643,
          "p_grid": 0.8989898989898991,
          "variable": "posterior_3"
         },
         {
          "density": 0.10776320482844824,
          "p_grid": 0.9090909090909092,
          "variable": "posterior_3"
         },
         {
          "density": 0.0899828756532737,
          "p_grid": 0.9191919191919192,
          "variable": "posterior_3"
         },
         {
          "density": 0.07276258997244417,
          "p_grid": 0.9292929292929294,
          "variable": "posterior_3"
         },
         {
          "density": 0.05642741770969496,
          "p_grid": 0.9393939393939394,
          "variable": "posterior_3"
         },
         {
          "density": 0.04133826159562872,
          "p_grid": 0.9494949494949496,
          "variable": "posterior_3"
         },
         {
          "density": 0.027894009318533697,
          "p_grid": 0.9595959595959597,
          "variable": "posterior_3"
         },
         {
          "density": 0.016533759161034466,
          "p_grid": 0.9696969696969697,
          "variable": "posterior_3"
         },
         {
          "density": 0.007739120258121383,
          "p_grid": 0.9797979797979799,
          "variable": "posterior_3"
         },
         {
          "density": 0.0020365886120995535,
          "p_grid": 0.98989898989899,
          "variable": "posterior_3"
         },
         {
          "density": 0,
          "p_grid": 1,
          "variable": "posterior_3"
         }
        ]
       },
       "encoding": {
        "color": {
         "field": "variable",
         "type": "nominal"
        },
        "x": {
         "field": "p_grid",
         "title": "water ratio",
         "type": "quantitative"
        },
        "y": {
         "field": "density",
         "type": "quantitative"
        }
       },
       "mark": "line",
       "title": "probabilities"
      },
      "image/png": "[encoded data removed]",
      "text/plain": [
       "<VegaLite 4 object>\n",
       "\n",
       "If you see this message, it means the renderer has not been properly enabled\n",
       "for the frontend that you are using. For more information, see\n",
       "https://altair-viz.github.io/user_guide/troubleshooting.html\n"
      ]
     },
     "execution_count": 4,
     "metadata": {},
     "output_type": "execute_result"
    }
   ],
   "source": [
    "# convert wide df to tall, keep `p_grid` column\n",
    "df = df.melt(\"p_grid\", value_name=\"density\")\n",
    "\n",
    "alt.Chart(df, title=\"probabilities\").mark_line().encode(\n",
    "    alt.X(\"p_grid\", title=\"water ratio\"),\n",
    "    y=\"density\",\n",
    "    color=\"variable\",\n",
    ")"
   ]
  },
  {
   "cell_type": "markdown",
   "id": "aa10143d-0cf4-4963-a939-e4ff0ce488b9",
   "metadata": {},
   "source": [
    "### 2M2\n",
    "\n",
    "Now assume a prior for p that is equal to zero when p < 0.5 and is a positive constant when p ≥ 0.5. Again compute and plot the grid approximate posterior distribution for each of the sets of observations in the problem just above."
   ]
  },
  {
   "cell_type": "code",
   "execution_count": 5,
   "id": "d3323828-2752-4312-9623-d7215cca217d",
   "metadata": {},
   "outputs": [],
   "source": [
    "p_grid = np.linspace(0, 1, num=100)\n",
    "prior = np.ones_like(p_grid)\n",
    "prior[p_grid < 0.5] = 0\n",
    "\n",
    "df = pd.DataFrame({\"p_grid\": p_grid, \"prior\": prior})\n",
    "\n",
    "for i, obs in enumerate(observations):\n",
    "    n = len(obs)  # number of observations\n",
    "    k = len(list(filter(lambda o: o == \"W\", obs)))  # number of water measurements\n",
    "\n",
    "    prob_data = stats.binom.pmf(k=k, n=n, p=p_grid)\n",
    "    posterior = prior * prob_data\n",
    "\n",
    "    df[f\"posterior_{i+1}\"] = posterior"
   ]
  },
  {
   "cell_type": "code",
   "execution_count": 6,
   "id": "08f42af7-38c8-40a9-b8a1-e493d34a44f7",
   "metadata": {},
   "outputs": [
    {
     "data": {
      "application/vnd.vegalite.v4+json": {
       "$schema": "https://vega.github.io/schema/vega-lite/v4.17.0.json",
       "config": {
        "view": {
         "continuousHeight": 300,
         "continuousWidth": 400
        }
       },
       "data": {
        "name": "data-f58a376faf18dc5e5c2e7a32906430d4"
       },
       "datasets": {
        "data-f58a376faf18dc5e5c2e7a32906430d4": [
         {
          "density": 0,
          "p_grid": 0,
          "variable": "prior"
         },
         {
          "density": 0,
          "p_grid": 0.010101010101010102,
          "variable": "prior"
         },
         {
          "density": 0,
          "p_grid": 0.020202020202020204,
          "variable": "prior"
         },
         {
          "density": 0,
          "p_grid": 0.030303030303030304,
          "variable": "prior"
         },
         {
          "density": 0,
          "p_grid": 0.04040404040404041,
          "variable": "prior"
         },
         {
          "density": 0,
          "p_grid": 0.05050505050505051,
          "variable": "prior"
         },
         {
          "density": 0,
          "p_grid": 0.06060606060606061,
          "variable": "prior"
         },
         {
          "density": 0,
          "p_grid": 0.07070707070707072,
          "variable": "prior"
         },
         {
          "density": 0,
          "p_grid": 0.08080808080808081,
          "variable": "prior"
         },
         {
          "density": 0,
          "p_grid": 0.09090909090909091,
          "variable": "prior"
         },
         {
          "density": 0,
          "p_grid": 0.10101010101010102,
          "variable": "prior"
         },
         {
          "density": 0,
          "p_grid": 0.11111111111111112,
          "variable": "prior"
         },
         {
          "density": 0,
          "p_grid": 0.12121212121212122,
          "variable": "prior"
         },
         {
          "density": 0,
          "p_grid": 0.13131313131313133,
          "variable": "prior"
         },
         {
          "density": 0,
          "p_grid": 0.14141414141414144,
          "variable": "prior"
         },
         {
          "density": 0,
          "p_grid": 0.15151515151515152,
          "variable": "prior"
         },
         {
          "density": 0,
          "p_grid": 0.16161616161616163,
          "variable": "prior"
         },
         {
          "density": 0,
          "p_grid": 0.17171717171717174,
          "variable": "prior"
         },
         {
          "density": 0,
          "p_grid": 0.18181818181818182,
          "variable": "prior"
         },
         {
          "density": 0,
          "p_grid": 0.19191919191919193,
          "variable": "prior"
         },
         {
          "density": 0,
          "p_grid": 0.20202020202020204,
          "variable": "prior"
         },
         {
          "density": 0,
          "p_grid": 0.21212121212121213,
          "variable": "prior"
         },
         {
          "density": 0,
          "p_grid": 0.22222222222222224,
          "variable": "prior"
         },
         {
          "density": 0,
          "p_grid": 0.23232323232323235,
          "variable": "prior"
         },
         {
          "density": 0,
          "p_grid": 0.24242424242424243,
          "variable": "prior"
         },
         {
          "density": 0,
          "p_grid": 0.25252525252525254,
          "variable": "prior"
         },
         {
          "density": 0,
          "p_grid": 0.26262626262626265,
          "variable": "prior"
         },
         {
          "density": 0,
          "p_grid": 0.27272727272727276,
          "variable": "prior"
         },
         {
          "density": 0,
          "p_grid": 0.2828282828282829,
          "variable": "prior"
         },
         {
          "density": 0,
          "p_grid": 0.29292929292929293,
          "variable": "prior"
         },
         {
          "density": 0,
          "p_grid": 0.30303030303030304,
          "variable": "prior"
         },
         {
          "density": 0,
          "p_grid": 0.31313131313131315,
          "variable": "prior"
         },
         {
          "density": 0,
          "p_grid": 0.32323232323232326,
          "variable": "prior"
         },
         {
          "density": 0,
          "p_grid": 0.33333333333333337,
          "variable": "prior"
         },
         {
          "density": 0,
          "p_grid": 0.3434343434343435,
          "variable": "prior"
         },
         {
          "density": 0,
          "p_grid": 0.3535353535353536,
          "variable": "prior"
         },
         {
          "density": 0,
          "p_grid": 0.36363636363636365,
          "variable": "prior"
         },
         {
          "density": 0,
          "p_grid": 0.37373737373737376,
          "variable": "prior"
         },
         {
          "density": 0,
          "p_grid": 0.38383838383838387,
          "variable": "prior"
         },
         {
          "density": 0,
          "p_grid": 0.393939393939394,
          "variable": "prior"
         },
         {
          "density": 0,
          "p_grid": 0.4040404040404041,
          "variable": "prior"
         },
         {
          "density": 0,
          "p_grid": 0.4141414141414142,
          "variable": "prior"
         },
         {
          "density": 0,
          "p_grid": 0.42424242424242425,
          "variable": "prior"
         },
         {
          "density": 0,
          "p_grid": 0.43434343434343436,
          "variable": "prior"
         },
         {
          "density": 0,
          "p_grid": 0.4444444444444445,
          "variable": "prior"
         },
         {
          "density": 0,
          "p_grid": 0.4545454545454546,
          "variable": "prior"
         },
         {
          "density": 0,
          "p_grid": 0.4646464646464647,
          "variable": "prior"
         },
         {
          "density": 0,
          "p_grid": 0.4747474747474748,
          "variable": "prior"
         },
         {
          "density": 0,
          "p_grid": 0.48484848484848486,
          "variable": "prior"
         },
         {
          "density": 0,
          "p_grid": 0.494949494949495,
          "variable": "prior"
         },
         {
          "density": 1,
          "p_grid": 0.5050505050505051,
          "variable": "prior"
         },
         {
          "density": 1,
          "p_grid": 0.5151515151515152,
          "variable": "prior"
         },
         {
          "density": 1,
          "p_grid": 0.5252525252525253,
          "variable": "prior"
         },
         {
          "density": 1,
          "p_grid": 0.5353535353535354,
          "variable": "prior"
         },
         {
          "density": 1,
          "p_grid": 0.5454545454545455,
          "variable": "prior"
         },
         {
          "density": 1,
          "p_grid": 0.5555555555555556,
          "variable": "prior"
         },
         {
          "density": 1,
          "p_grid": 0.5656565656565657,
          "variable": "prior"
         },
         {
          "density": 1,
          "p_grid": 0.5757575757575758,
          "variable": "prior"
         },
         {
          "density": 1,
          "p_grid": 0.5858585858585859,
          "variable": "prior"
         },
         {
          "density": 1,
          "p_grid": 0.595959595959596,
          "variable": "prior"
         },
         {
          "density": 1,
          "p_grid": 0.6060606060606061,
          "variable": "prior"
         },
         {
          "density": 1,
          "p_grid": 0.6161616161616162,
          "variable": "prior"
         },
         {
          "density": 1,
          "p_grid": 0.6262626262626263,
          "variable": "prior"
         },
         {
          "density": 1,
          "p_grid": 0.6363636363636365,
          "variable": "prior"
         },
         {
          "density": 1,
          "p_grid": 0.6464646464646465,
          "variable": "prior"
         },
         {
          "density": 1,
          "p_grid": 0.6565656565656566,
          "variable": "prior"
         },
         {
          "density": 1,
          "p_grid": 0.6666666666666667,
          "variable": "prior"
         },
         {
          "density": 1,
          "p_grid": 0.6767676767676768,
          "variable": "prior"
         },
         {
          "density": 1,
          "p_grid": 0.686868686868687,
          "variable": "prior"
         },
         {
          "density": 1,
          "p_grid": 0.696969696969697,
          "variable": "prior"
         },
         {
          "density": 1,
          "p_grid": 0.7070707070707072,
          "variable": "prior"
         },
         {
          "density": 1,
          "p_grid": 0.7171717171717172,
          "variable": "prior"
         },
         {
          "density": 1,
          "p_grid": 0.7272727272727273,
          "variable": "prior"
         },
         {
          "density": 1,
          "p_grid": 0.7373737373737375,
          "variable": "prior"
         },
         {
          "density": 1,
          "p_grid": 0.7474747474747475,
          "variable": "prior"
         },
         {
          "density": 1,
          "p_grid": 0.7575757575757577,
          "variable": "prior"
         },
         {
          "density": 1,
          "p_grid": 0.7676767676767677,
          "variable": "prior"
         },
         {
          "density": 1,
          "p_grid": 0.7777777777777778,
          "variable": "prior"
         },
         {
          "density": 1,
          "p_grid": 0.787878787878788,
          "variable": "prior"
         },
         {
          "density": 1,
          "p_grid": 0.797979797979798,
          "variable": "prior"
         },
         {
          "density": 1,
          "p_grid": 0.8080808080808082,
          "variable": "prior"
         },
         {
          "density": 1,
          "p_grid": 0.8181818181818182,
          "variable": "prior"
         },
         {
          "density": 1,
          "p_grid": 0.8282828282828284,
          "variable": "prior"
         },
         {
          "density": 1,
          "p_grid": 0.8383838383838385,
          "variable": "prior"
         },
         {
          "density": 1,
          "p_grid": 0.8484848484848485,
          "variable": "prior"
         },
         {
          "density": 1,
          "p_grid": 0.8585858585858587,
          "variable": "prior"
         },
         {
          "density": 1,
          "p_grid": 0.8686868686868687,
          "variable": "prior"
         },
         {
          "density": 1,
          "p_grid": 0.8787878787878789,
          "variable": "prior"
         },
         {
          "density": 1,
          "p_grid": 0.888888888888889,
          "variable": "prior"
         },
         {
          "density": 1,
          "p_grid": 0.8989898989898991,
          "variable": "prior"
         },
         {
          "density": 1,
          "p_grid": 0.9090909090909092,
          "variable": "prior"
         },
         {
          "density": 1,
          "p_grid": 0.9191919191919192,
          "variable": "prior"
         },
         {
          "density": 1,
          "p_grid": 0.9292929292929294,
          "variable": "prior"
         },
         {
          "density": 1,
          "p_grid": 0.9393939393939394,
          "variable": "prior"
         },
         {
          "density": 1,
          "p_grid": 0.9494949494949496,
          "variable": "prior"
         },
         {
          "density": 1,
          "p_grid": 0.9595959595959597,
          "variable": "prior"
         },
         {
          "density": 1,
          "p_grid": 0.9696969696969697,
          "variable": "prior"
         },
         {
          "density": 1,
          "p_grid": 0.9797979797979799,
          "variable": "prior"
         },
         {
          "density": 1,
          "p_grid": 0.98989898989899,
          "variable": "prior"
         },
         {
          "density": 1,
          "p_grid": 1,
          "variable": "prior"
         },
         {
          "density": 0,
          "p_grid": 0,
          "variable": "posterior_1"
         },
         {
          "density": 0,
          "p_grid": 0.010101010101010102,
          "variable": "posterior_1"
         },
         {
          "density": 0,
          "p_grid": 0.020202020202020204,
          "variable": "posterior_1"
         },
         {
          "density": 0,
          "p_grid": 0.030303030303030304,
          "variable": "posterior_1"
         },
         {
          "density": 0,
          "p_grid": 0.04040404040404041,
          "variable": "posterior_1"
         },
         {
          "density": 0,
          "p_grid": 0.05050505050505051,
          "variable": "posterior_1"
         },
         {
          "density": 0,
          "p_grid": 0.06060606060606061,
          "variable": "posterior_1"
         },
         {
          "density": 0,
          "p_grid": 0.07070707070707072,
          "variable": "posterior_1"
         },
         {
          "density": 0,
          "p_grid": 0.08080808080808081,
          "variable": "posterior_1"
         },
         {
          "density": 0,
          "p_grid": 0.09090909090909091,
          "variable": "posterior_1"
         },
         {
          "density": 0,
          "p_grid": 0.10101010101010102,
          "variable": "posterior_1"
         },
         {
          "density": 0,
          "p_grid": 0.11111111111111112,
          "variable": "posterior_1"
         },
         {
          "density": 0,
          "p_grid": 0.12121212121212122,
          "variable": "posterior_1"
         },
         {
          "density": 0,
          "p_grid": 0.13131313131313133,
          "variable": "posterior_1"
         },
         {
          "density": 0,
          "p_grid": 0.14141414141414144,
          "variable": "posterior_1"
         },
         {
          "density": 0,
          "p_grid": 0.15151515151515152,
          "variable": "posterior_1"
         },
         {
          "density": 0,
          "p_grid": 0.16161616161616163,
          "variable": "posterior_1"
         },
         {
          "density": 0,
          "p_grid": 0.17171717171717174,
          "variable": "posterior_1"
         },
         {
          "density": 0,
          "p_grid": 0.18181818181818182,
          "variable": "posterior_1"
         },
         {
          "density": 0,
          "p_grid": 0.19191919191919193,
          "variable": "posterior_1"
         },
         {
          "density": 0,
          "p_grid": 0.20202020202020204,
          "variable": "posterior_1"
         },
         {
          "density": 0,
          "p_grid": 0.21212121212121213,
          "variable": "posterior_1"
         },
         {
          "density": 0,
          "p_grid": 0.22222222222222224,
          "variable": "posterior_1"
         },
         {
          "density": 0,
          "p_grid": 0.23232323232323235,
          "variable": "posterior_1"
         },
         {
          "density": 0,
          "p_grid": 0.24242424242424243,
          "variable": "posterior_1"
         },
         {
          "density": 0,
          "p_grid": 0.25252525252525254,
          "variable": "posterior_1"
         },
         {
          "density": 0,
          "p_grid": 0.26262626262626265,
          "variable": "posterior_1"
         },
         {
          "density": 0,
          "p_grid": 0.27272727272727276,
          "variable": "posterior_1"
         },
         {
          "density": 0,
          "p_grid": 0.2828282828282829,
          "variable": "posterior_1"
         },
         {
          "density": 0,
          "p_grid": 0.29292929292929293,
          "variable": "posterior_1"
         },
         {
          "density": 0,
          "p_grid": 0.30303030303030304,
          "variable": "posterior_1"
         },
         {
          "density": 0,
          "p_grid": 0.31313131313131315,
          "variable": "posterior_1"
         },
         {
          "density": 0,
          "p_grid": 0.32323232323232326,
          "variable": "posterior_1"
         },
         {
          "density": 0,
          "p_grid": 0.33333333333333337,
          "variable": "posterior_1"
         },
         {
          "density": 0,
          "p_grid": 0.3434343434343435,
          "variable": "posterior_1"
         },
         {
          "density": 0,
          "p_grid": 0.3535353535353536,
          "variable": "posterior_1"
         },
         {
          "density": 0,
          "p_grid": 0.36363636363636365,
          "variable": "posterior_1"
         },
         {
          "density": 0,
          "p_grid": 0.37373737373737376,
          "variable": "posterior_1"
         },
         {
          "density": 0,
          "p_grid": 0.38383838383838387,
          "variable": "posterior_1"
         },
         {
          "density": 0,
          "p_grid": 0.393939393939394,
          "variable": "posterior_1"
         },
         {
          "density": 0,
          "p_grid": 0.4040404040404041,
          "variable": "posterior_1"
         },
         {
          "density": 0,
          "p_grid": 0.4141414141414142,
          "variable": "posterior_1"
         },
         {
          "density": 0,
          "p_grid": 0.42424242424242425,
          "variable": "posterior_1"
         },
         {
          "density": 0,
          "p_grid": 0.43434343434343436,
          "variable": "posterior_1"
         },
         {
          "density": 0,
          "p_grid": 0.4444444444444445,
          "variable": "posterior_1"
         },
         {
          "density": 0,
          "p_grid": 0.4545454545454546,
          "variable": "posterior_1"
         },
         {
          "density": 0,
          "p_grid": 0.4646464646464647,
          "variable": "posterior_1"
         },
         {
          "density": 0,
          "p_grid": 0.4747474747474748,
          "variable": "posterior_1"
         },
         {
          "density": 0,
          "p_grid": 0.48484848484848486,
          "variable": "posterior_1"
         },
         {
          "density": 0,
          "p_grid": 0.494949494949495,
          "variable": "posterior_1"
         },
         {
          "density": 0.1288262690160456,
          "p_grid": 0.5050505050505051,
          "variable": "posterior_1"
         },
         {
          "density": 0.13671146728997977,
          "p_grid": 0.5151515151515152,
          "variable": "posterior_1"
         },
         {
          "density": 0.14491203227046512,
          "p_grid": 0.5252525252525253,
          "variable": "posterior_1"
         },
         {
          "density": 0.15343414761841453,
          "p_grid": 0.5353535353535354,
          "variable": "posterior_1"
         },
         {
          "density": 0.16228399699474086,
          "p_grid": 0.5454545454545455,
          "variable": "posterior_1"
         },
         {
          "density": 0.1714677640603567,
          "p_grid": 0.5555555555555556,
          "variable": "posterior_1"
         },
         {
          "density": 0.18099163247617495,
          "p_grid": 0.5656565656565657,
          "variable": "posterior_1"
         },
         {
          "density": 0.19086178590310826,
          "p_grid": 0.5757575757575758,
          "variable": "posterior_1"
         },
         {
          "density": 0.20108440800206948,
          "p_grid": 0.5858585858585859,
          "variable": "posterior_1"
         },
         {
          "density": 0.21166568243397146,
          "p_grid": 0.595959595959596,
          "variable": "posterior_1"
         },
         {
          "density": 0.22261179285972676,
          "p_grid": 0.6060606060606061,
          "variable": "posterior_1"
         },
         {
          "density": 0.23392892294024842,
          "p_grid": 0.6161616161616162,
          "variable": "posterior_1"
         },
         {
          "density": 0.2456232563364489,
          "p_grid": 0.6262626262626263,
          "variable": "posterior_1"
         },
         {
          "density": 0.2577009767092413,
          "p_grid": 0.6363636363636365,
          "variable": "posterior_1"
         },
         {
          "density": 0.27016826771953806,
          "p_grid": 0.6464646464646465,
          "variable": "posterior_1"
         },
         {
          "density": 0.28303131302825213,
          "p_grid": 0.6565656565656566,
          "variable": "posterior_1"
         },
         {
          "density": 0.2962962962962964,
          "p_grid": 0.6666666666666667,
          "variable": "posterior_1"
         },
         {
          "density": 0.3099694011845833,
          "p_grid": 0.6767676767676768,
          "variable": "posterior_1"
         },
         {
          "density": 0.32405681135402603,
          "p_grid": 0.686868686868687,
          "variable": "posterior_1"
         },
         {
          "density": 0.338564710465537,
          "p_grid": 0.696969696969697,
          "variable": "posterior_1"
         },
         {
          "density": 0.3534992821800292,
          "p_grid": 0.7070707070707072,
          "variable": "posterior_1"
         },
         {
          "density": 0.3688667101584152,
          "p_grid": 0.7171717171717172,
          "variable": "posterior_1"
         },
         {
          "density": 0.38467317806160783,
          "p_grid": 0.7272727272727273,
          "variable": "posterior_1"
         },
         {
          "density": 0.40092486955052015,
          "p_grid": 0.7373737373737375,
          "variable": "posterior_1"
         },
         {
          "density": 0.41762796828606447,
          "p_grid": 0.7474747474747475,
          "variable": "posterior_1"
         },
         {
          "density": 0.434788657929154,
          "p_grid": 0.7575757575757577,
          "variable": "posterior_1"
         },
         {
          "density": 0.45241312214070106,
          "p_grid": 0.7676767676767677,
          "variable": "posterior_1"
         },
         {
          "density": 0.4705075445816187,
          "p_grid": 0.7777777777777778,
          "variable": "posterior_1"
         },
         {
          "density": 0.4890781089128198,
          "p_grid": 0.787878787878788,
          "variable": "posterior_1"
         },
         {
          "density": 0.5081309987952168,
          "p_grid": 0.797979797979798,
          "variable": "posterior_1"
         },
         {
          "density": 0.5276723978897229,
          "p_grid": 0.8080808080808082,
          "variable": "posterior_1"
         },
         {
          "density": 0.5477084898572503,
          "p_grid": 0.8181818181818182,
          "variable": "posterior_1"
         },
         {
          "density": 0.5682454583587123,
          "p_grid": 0.8282828282828284,
          "variable": "posterior_1"
         },
         {
          "density": 0.5892894870550214,
          "p_grid": 0.8383838383838385,
          "variable": "posterior_1"
         },
         {
          "density": 0.6108467596070902,
          "p_grid": 0.8484848484848485,
          "variable": "posterior_1"
         },
         {
          "density": 0.6329234596758321,
          "p_grid": 0.8585858585858587,
          "variable": "posterior_1"
         },
         {
          "density": 0.6555257709221591,
          "p_grid": 0.8686868686868687,
          "variable": "posterior_1"
         },
         {
          "density": 0.6786598770069847,
          "p_grid": 0.8787878787878789,
          "variable": "posterior_1"
         },
         {
          "density": 0.702331961591221,
          "p_grid": 0.888888888888889,
          "variable": "posterior_1"
         },
         {
          "density": 0.7265482083357814,
          "p_grid": 0.8989898989898991,
          "variable": "posterior_1"
         },
         {
          "density": 0.751314800901578,
          "p_grid": 0.9090909090909092,
          "variable": "posterior_1"
         },
         {
          "density": 0.7766379229495239,
          "p_grid": 0.9191919191919192,
          "variable": "posterior_1"
         },
         {
          "density": 0.8025237581405322,
          "p_grid": 0.9292929292929294,
          "variable": "posterior_1"
         },
         {
          "density": 0.8289784901355151,
          "p_grid": 0.9393939393939394,
          "variable": "posterior_1"
         },
         {
          "density": 0.8560083025953859,
          "p_grid": 0.9494949494949496,
          "variable": "posterior_1"
         },
         {
          "density": 0.8836193791810567,
          "p_grid": 0.9595959595959597,
          "variable": "posterior_1"
         },
         {
          "density": 0.9118179035534408,
          "p_grid": 0.9696969696969697,
          "variable": "posterior_1"
         },
         {
          "density": 0.9406100593734511,
          "p_grid": 0.9797979797979799,
          "variable": "posterior_1"
         },
         {
          "density": 0.9700020303019998,
          "p_grid": 0.98989898989899,
          "variable": "posterior_1"
         },
         {
          "density": 1,
          "p_grid": 1,
          "variable": "posterior_1"
         },
         {
          "density": 0,
          "p_grid": 0,
          "variable": "posterior_2"
         },
         {
          "density": 0,
          "p_grid": 0.010101010101010102,
          "variable": "posterior_2"
         },
         {
          "density": 0,
          "p_grid": 0.020202020202020204,
          "variable": "posterior_2"
         },
         {
          "density": 0,
          "p_grid": 0.030303030303030304,
          "variable": "posterior_2"
         },
         {
          "density": 0,
          "p_grid": 0.04040404040404041,
          "variable": "posterior_2"
         },
         {
          "density": 0,
          "p_grid": 0.05050505050505051,
          "variable": "posterior_2"
         },
         {
          "density": 0,
          "p_grid": 0.06060606060606061,
          "variable": "posterior_2"
         },
         {
          "density": 0,
          "p_grid": 0.07070707070707072,
          "variable": "posterior_2"
         },
         {
          "density": 0,
          "p_grid": 0.08080808080808081,
          "variable": "posterior_2"
         },
         {
          "density": 0,
          "p_grid": 0.09090909090909091,
          "variable": "posterior_2"
         },
         {
          "density": 0,
          "p_grid": 0.10101010101010102,
          "variable": "posterior_2"
         },
         {
          "density": 0,
          "p_grid": 0.11111111111111112,
          "variable": "posterior_2"
         },
         {
          "density": 0,
          "p_grid": 0.12121212121212122,
          "variable": "posterior_2"
         },
         {
          "density": 0,
          "p_grid": 0.13131313131313133,
          "variable": "posterior_2"
         },
         {
          "density": 0,
          "p_grid": 0.14141414141414144,
          "variable": "posterior_2"
         },
         {
          "density": 0,
          "p_grid": 0.15151515151515152,
          "variable": "posterior_2"
         },
         {
          "density": 0,
          "p_grid": 0.16161616161616163,
          "variable": "posterior_2"
         },
         {
          "density": 0,
          "p_grid": 0.17171717171717174,
          "variable": "posterior_2"
         },
         {
          "density": 0,
          "p_grid": 0.18181818181818182,
          "variable": "posterior_2"
         },
         {
          "density": 0,
          "p_grid": 0.19191919191919193,
          "variable": "posterior_2"
         },
         {
          "density": 0,
          "p_grid": 0.20202020202020204,
          "variable": "posterior_2"
         },
         {
          "density": 0,
          "p_grid": 0.21212121212121213,
          "variable": "posterior_2"
         },
         {
          "density": 0,
          "p_grid": 0.22222222222222224,
          "variable": "posterior_2"
         },
         {
          "density": 0,
          "p_grid": 0.23232323232323235,
          "variable": "posterior_2"
         },
         {
          "density": 0,
          "p_grid": 0.24242424242424243,
          "variable": "posterior_2"
         },
         {
          "density": 0,
          "p_grid": 0.25252525252525254,
          "variable": "posterior_2"
         },
         {
          "density": 0,
          "p_grid": 0.26262626262626265,
          "variable": "posterior_2"
         },
         {
          "density": 0,
          "p_grid": 0.27272727272727276,
          "variable": "posterior_2"
         },
         {
          "density": 0,
          "p_grid": 0.2828282828282829,
          "variable": "posterior_2"
         },
         {
          "density": 0,
          "p_grid": 0.29292929292929293,
          "variable": "posterior_2"
         },
         {
          "density": 0,
          "p_grid": 0.30303030303030304,
          "variable": "posterior_2"
         },
         {
          "density": 0,
          "p_grid": 0.31313131313131315,
          "variable": "posterior_2"
         },
         {
          "density": 0,
          "p_grid": 0.32323232323232326,
          "variable": "posterior_2"
         },
         {
          "density": 0,
          "p_grid": 0.33333333333333337,
          "variable": "posterior_2"
         },
         {
          "density": 0,
          "p_grid": 0.3434343434343435,
          "variable": "posterior_2"
         },
         {
          "density": 0,
          "p_grid": 0.3535353535353536,
          "variable": "posterior_2"
         },
         {
          "density": 0,
          "p_grid": 0.36363636363636365,
          "variable": "posterior_2"
         },
         {
          "density": 0,
          "p_grid": 0.37373737373737376,
          "variable": "posterior_2"
         },
         {
          "density": 0,
          "p_grid": 0.38383838383838387,
          "variable": "posterior_2"
         },
         {
          "density": 0,
          "p_grid": 0.393939393939394,
          "variable": "posterior_2"
         },
         {
          "density": 0,
          "p_grid": 0.4040404040404041,
          "variable": "posterior_2"
         },
         {
          "density": 0,
          "p_grid": 0.4141414141414142,
          "variable": "posterior_2"
         },
         {
          "density": 0,
          "p_grid": 0.42424242424242425,
          "variable": "posterior_2"
         },
         {
          "density": 0,
          "p_grid": 0.43434343434343436,
          "variable": "posterior_2"
         },
         {
          "density": 0,
          "p_grid": 0.4444444444444445,
          "variable": "posterior_2"
         },
         {
          "density": 0,
          "p_grid": 0.4545454545454546,
          "variable": "posterior_2"
         },
         {
          "density": 0,
          "p_grid": 0.4646464646464647,
          "variable": "posterior_2"
         },
         {
          "density": 0,
          "p_grid": 0.4747474747474748,
          "variable": "posterior_2"
         },
         {
          "density": 0,
          "p_grid": 0.48484848484848486,
          "variable": "posterior_2"
         },
         {
          "density": 0,
          "p_grid": 0.494949494949495,
          "variable": "posterior_2"
         },
         {
          "density": 0.25504998714287824,
          "p_grid": 0.5050505050505051,
          "variable": "posterior_2"
         },
         {
          "density": 0.26513739110783957,
          "p_grid": 0.5151515151515152,
          "variable": "posterior_2"
         },
         {
          "density": 0.2751864855237115,
          "p_grid": 0.5252525252525253,
          "variable": "posterior_2"
         },
         {
          "density": 0.2851705369877603,
          "p_grid": 0.5353535353535354,
          "variable": "posterior_2"
         },
         {
          "density": 0.29506181271771065,
          "p_grid": 0.5454545454545455,
          "variable": "posterior_2"
         },
         {
          "density": 0.3048315805517453,
          "p_grid": 0.5555555555555556,
          "variable": "posterior_2"
         },
         {
          "density": 0.314450108948506,
          "p_grid": 0.5656565656565657,
          "variable": "posterior_2"
         },
         {
          "density": 0.32388666698709284,
          "p_grid": 0.5757575757575758,
          "variable": "posterior_2"
         },
         {
          "density": 0.33310952436706465,
          "p_grid": 0.5858585858585859,
          "variable": "posterior_2"
         },
         {
          "density": 0.3420859514084388,
          "p_grid": 0.595959595959596,
          "variable": "posterior_2"
         },
         {
          "density": 0.35078221905169077,
          "p_grid": 0.6060606060606061,
          "variable": "posterior_2"
         },
         {
          "density": 0.3591635988577551,
          "p_grid": 0.6161616161616162,
          "variable": "posterior_2"
         },
         {
          "density": 0.36719436300802444,
          "p_grid": 0.6262626262626263,
          "variable": "posterior_2"
         },
         {
          "density": 0.37483778430435094,
          "p_grid": 0.6363636363636365,
          "variable": "posterior_2"
         },
         {
          "density": 0.38205613616904377,
          "p_grid": 0.6464646464646465,
          "variable": "posterior_2"
         },
         {
          "density": 0.38881069264487156,
          "p_grid": 0.6565656565656566,
          "variable": "posterior_2"
         },
         {
          "density": 0.3950617283950616,
          "p_grid": 0.6666666666666667,
          "variable": "posterior_2"
         },
         {
          "density": 0.40076851870329977,
          "p_grid": 0.6767676767676768,
          "variable": "posterior_2"
         },
         {
          "density": 0.40588933947372957,
          "p_grid": 0.686868686868687,
          "variable": "posterior_2"
         },
         {
          "density": 0.41038146723095387,
          "p_grid": 0.696969696969697,
          "variable": "posterior_2"
         },
         {
          "density": 0.4142011791200339,
          "p_grid": 0.7070707070707072,
          "variable": "posterior_2"
         },
         {
          "density": 0.41730375290648986,
          "p_grid": 0.7171717171717172,
          "variable": "posterior_2"
         },
         {
          "density": 0.4196434669762995,
          "p_grid": 0.7272727272727273,
          "variable": "posterior_2"
         },
         {
          "density": 0.4211736003359001,
          "p_grid": 0.7373737373737375,
          "variable": "posterior_2"
         },
         {
          "density": 0.4218464326121863,
          "p_grid": 0.7474747474747475,
          "variable": "posterior_2"
         },
         {
          "density": 0.42161324405251277,
          "p_grid": 0.7575757575757577,
          "variable": "posterior_2"
         },
         {
          "density": 0.4204243155246917,
          "p_grid": 0.7676767676767677,
          "variable": "posterior_2"
         },
         {
          "density": 0.41822892851699445,
          "p_grid": 0.7777777777777778,
          "variable": "posterior_2"
         },
         {
          "density": 0.4149753651381502,
          "p_grid": 0.787878787878788,
          "variable": "posterior_2"
         },
         {
          "density": 0.4106109081173469,
          "p_grid": 0.797979797979798,
          "variable": "posterior_2"
         },
         {
          "density": 0.4050818408042315,
          "p_grid": 0.8080808080808082,
          "variable": "posterior_2"
         },
         {
          "density": 0.3983334471689093,
          "p_grid": 0.8181818181818182,
          "variable": "posterior_2"
         },
         {
          "density": 0.39031001180194363,
          "p_grid": 0.8282828282828284,
          "variable": "posterior_2"
         },
         {
          "density": 0.380954819914357,
          "p_grid": 0.8383838383838385,
          "variable": "posterior_2"
         },
         {
          "density": 0.3702101573376305,
          "p_grid": 0.8484848484848485,
          "variable": "posterior_2"
         },
         {
          "density": 0.3580173105237028,
          "p_grid": 0.8585858585858587,
          "variable": "posterior_2"
         },
         {
          "density": 0.3443165665449724,
          "p_grid": 0.8686868686868687,
          "variable": "posterior_2"
         },
         {
          "density": 0.32904721309429535,
          "p_grid": 0.8787878787878789,
          "variable": "posterior_2"
         },
         {
          "density": 0.312147538484987,
          "p_grid": 0.888888888888889,
          "variable": "posterior_2"
         },
         {
          "density": 0.2935548316508206,
          "p_grid": 0.8989898989898991,
          "variable": "posterior_2"
         },
         {
          "density": 0.27320538214602824,
          "p_grid": 0.9090909090909092,
          "variable": "posterior_2"
         },
         {
          "density": 0.2510344801453005,
          "p_grid": 0.9191919191919192,
          "variable": "posterior_2"
         },
         {
          "density": 0.22697641644378655,
          "p_grid": 0.9292929292929294,
          "variable": "posterior_2"
         },
         {
          "density": 0.20096448245709447,
          "p_grid": 0.9393939393939394,
          "variable": "posterior_2"
         },
         {
          "density": 0.17293097022128973,
          "p_grid": 0.9494949494949496,
          "variable": "posterior_2"
         },
         {
          "density": 0.1428071723928977,
          "p_grid": 0.9595959595959597,
          "variable": "posterior_2"
         },
         {
          "density": 0.11052338224890187,
          "p_grid": 0.9696969696969697,
          "variable": "posterior_2"
         },
         {
          "density": 0.07600889368674316,
          "p_grid": 0.9797979797979799,
          "variable": "posterior_2"
         },
         {
          "density": 0.039192001224323036,
          "p_grid": 0.98989898989899,
          "variable": "posterior_2"
         },
         {
          "density": 0,
          "p_grid": 1,
          "variable": "posterior_2"
         },
         {
          "density": 0,
          "p_grid": 0,
          "variable": "posterior_3"
         },
         {
          "density": 0,
          "p_grid": 0.010101010101010102,
          "variable": "posterior_3"
         },
         {
          "density": 0,
          "p_grid": 0.020202020202020204,
          "variable": "posterior_3"
         },
         {
          "density": 0,
          "p_grid": 0.030303030303030304,
          "variable": "posterior_3"
         },
         {
          "density": 0,
          "p_grid": 0.04040404040404041,
          "variable": "posterior_3"
         },
         {
          "density": 0,
          "p_grid": 0.05050505050505051,
          "variable": "posterior_3"
         },
         {
          "density": 0,
          "p_grid": 0.06060606060606061,
          "variable": "posterior_3"
         },
         {
          "density": 0,
          "p_grid": 0.07070707070707072,
          "variable": "posterior_3"
         },
         {
          "density": 0,
          "p_grid": 0.08080808080808081,
          "variable": "posterior_3"
         },
         {
          "density": 0,
          "p_grid": 0.09090909090909091,
          "variable": "posterior_3"
         },
         {
          "density": 0,
          "p_grid": 0.10101010101010102,
          "variable": "posterior_3"
         },
         {
          "density": 0,
          "p_grid": 0.11111111111111112,
          "variable": "posterior_3"
         },
         {
          "density": 0,
          "p_grid": 0.12121212121212122,
          "variable": "posterior_3"
         },
         {
          "density": 0,
          "p_grid": 0.13131313131313133,
          "variable": "posterior_3"
         },
         {
          "density": 0,
          "p_grid": 0.14141414141414144,
          "variable": "posterior_3"
         },
         {
          "density": 0,
          "p_grid": 0.15151515151515152,
          "variable": "posterior_3"
         },
         {
          "density": 0,
          "p_grid": 0.16161616161616163,
          "variable": "posterior_3"
         },
         {
          "density": 0,
          "p_grid": 0.17171717171717174,
          "variable": "posterior_3"
         },
         {
          "density": 0,
          "p_grid": 0.18181818181818182,
          "variable": "posterior_3"
         },
         {
          "density": 0,
          "p_grid": 0.19191919191919193,
          "variable": "posterior_3"
         },
         {
          "density": 0,
          "p_grid": 0.20202020202020204,
          "variable": "posterior_3"
         },
         {
          "density": 0,
          "p_grid": 0.21212121212121213,
          "variable": "posterior_3"
         },
         {
          "density": 0,
          "p_grid": 0.22222222222222224,
          "variable": "posterior_3"
         },
         {
          "density": 0,
          "p_grid": 0.23232323232323235,
          "variable": "posterior_3"
         },
         {
          "density": 0,
          "p_grid": 0.24242424242424243,
          "variable": "posterior_3"
         },
         {
          "density": 0,
          "p_grid": 0.25252525252525254,
          "variable": "posterior_3"
         },
         {
          "density": 0,
          "p_grid": 0.26262626262626265,
          "variable": "posterior_3"
         },
         {
          "density": 0,
          "p_grid": 0.27272727272727276,
          "variable": "posterior_3"
         },
         {
          "density": 0,
          "p_grid": 0.2828282828282829,
          "variable": "posterior_3"
         },
         {
          "density": 0,
          "p_grid": 0.29292929292929293,
          "variable": "posterior_3"
         },
         {
          "density": 0,
          "p_grid": 0.30303030303030304,
          "variable": "posterior_3"
         },
         {
          "density": 0,
          "p_grid": 0.31313131313131315,
          "variable": "posterior_3"
         },
         {
          "density": 0,
          "p_grid": 0.32323232323232326,
          "variable": "posterior_3"
         },
         {
          "density": 0,
          "p_grid": 0.33333333333333337,
          "variable": "posterior_3"
         },
         {
          "density": 0,
          "p_grid": 0.3434343434343435,
          "variable": "posterior_3"
         },
         {
          "density": 0,
          "p_grid": 0.3535353535353536,
          "variable": "posterior_3"
         },
         {
          "density": 0,
          "p_grid": 0.36363636363636365,
          "variable": "posterior_3"
         },
         {
          "density": 0,
          "p_grid": 0.37373737373737376,
          "variable": "posterior_3"
         },
         {
          "density": 0,
          "p_grid": 0.38383838383838387,
          "variable": "posterior_3"
         },
         {
          "density": 0,
          "p_grid": 0.393939393939394,
          "variable": "posterior_3"
         },
         {
          "density": 0,
          "p_grid": 0.4040404040404041,
          "variable": "posterior_3"
         },
         {
          "density": 0,
          "p_grid": 0.4141414141414142,
          "variable": "posterior_3"
         },
         {
          "density": 0,
          "p_grid": 0.42424242424242425,
          "variable": "posterior_3"
         },
         {
          "density": 0,
          "p_grid": 0.43434343434343436,
          "variable": "posterior_3"
         },
         {
          "density": 0,
          "p_grid": 0.4444444444444445,
          "variable": "posterior_3"
         },
         {
          "density": 0,
          "p_grid": 0.4545454545454546,
          "variable": "posterior_3"
         },
         {
          "density": 0,
          "p_grid": 0.4646464646464647,
          "variable": "posterior_3"
         },
         {
          "density": 0,
          "p_grid": 0.4747474747474748,
          "variable": "posterior_3"
         },
         {
          "density": 0,
          "p_grid": 0.48484848484848486,
          "variable": "posterior_3"
         },
         {
          "density": 0,
          "p_grid": 0.494949494949495,
          "variable": "posterior_3"
         },
         {
          "density": 0.16904997632818694,
          "p_grid": 0.5050505050505051,
          "variable": "posterior_3"
         },
         {
          "density": 0.17910441346060924,
          "p_grid": 0.5151515151515152,
          "variable": "posterior_3"
         },
         {
          "density": 0.18922798578504826,
          "p_grid": 0.5252525252525253,
          "variable": "posterior_3"
         },
         {
          "density": 0.19937373456353802,
          "p_grid": 0.5353535353535354,
          "variable": "posterior_3"
         },
         {
          "density": 0.20949167018650372,
          "p_grid": 0.5454545454545455,
          "variable": "posterior_3"
         },
         {
          "density": 0.21952891603520755,
          "p_grid": 0.5555555555555556,
          "variable": "posterior_3"
         },
         {
          "density": 0.22942988040832019,
          "p_grid": 0.5656565656565657,
          "variable": "posterior_3"
         },
         {
          "density": 0.23913645764816266,
          "p_grid": 0.5757575757575758,
          "variable": "posterior_3"
         },
         {
          "density": 0.24858825960215974,
          "p_grid": 0.5858585858585859,
          "variable": "posterior_3"
         },
         {
          "density": 0.2577228785550462,
          "p_grid": 0.595959595959596,
          "variable": "posterior_3"
         },
         {
          "density": 0.26647618276737506,
          "p_grid": 0.6060606060606061,
          "variable": "posterior_3"
         },
         {
          "density": 0.27478264575586125,
          "p_grid": 0.6161616161616162,
          "variable": "posterior_3"
         },
         {
          "density": 0.28257571045111163,
          "p_grid": 0.6262626262626263,
          "variable": "posterior_3"
         },
         {
          "density": 0.2897881893682773,
          "p_grid": 0.6363636363636365,
          "variable": "posterior_3"
         },
         {
          "density": 0.2963527019261785,
          "p_grid": 0.6464646464646465,
          "variable": "posterior_3"
         },
         {
          "density": 0.302202150050436,
          "p_grid": 0.6565656565656566,
          "variable": "posterior_3"
         },
         {
          "density": 0.30727023319615937,
          "p_grid": 0.6666666666666667,
          "variable": "posterior_3"
         },
         {
          "density": 0.31149200392572873,
          "p_grid": 0.6767676767676768,
          "variable": "posterior_3"
         },
         {
          "density": 0.3148044651772207,
          "p_grid": 0.686868686868687,
          "variable": "posterior_3"
         },
         {
          "density": 0.3171472103590079,
          "p_grid": 0.696969696969697,
          "variable": "posterior_3"
         },
         {
          "density": 0.3184631074060919,
          "p_grid": 0.7070707070707072,
          "variable": "posterior_3"
         },
         {
          "density": 0.3186990279336961,
          "p_grid": 0.7171717171717172,
          "variable": "posterior_3"
         },
         {
          "density": 0.3178066226236738,
          "p_grid": 0.7272727272727273,
          "variable": "posterior_3"
         },
         {
          "density": 0.3157431439792646,
          "p_grid": 0.7373737373737375,
          "variable": "posterior_3"
         },
         {
          "density": 0.31247231758374844,
          "p_grid": 0.7474747474747475,
          "variable": "posterior_3"
         },
         {
          "density": 0.307965262998538,
          "p_grid": 0.7575757575757577,
          "variable": "posterior_3"
         },
         {
          "density": 0.30220146543624943,
          "p_grid": 0.7676767676767677,
          "variable": "posterior_3"
         },
         {
          "density": 0.2951697993442985,
          "p_grid": 0.7777777777777778,
          "variable": "posterior_3"
         },
         {
          "density": 0.28686960503456205,
          "p_grid": 0.787878787878788,
          "variable": "posterior_3"
         },
         {
          "density": 0.27731181949464834,
          "p_grid": 0.797979797979798,
          "variable": "posterior_3"
         },
         {
          "density": 0.26652016251631866,
          "p_grid": 0.8080808080808082,
          "variable": "posterior_3"
         },
         {
          "density": 0.25453237927660183,
          "p_grid": 0.8181818181818182,
          "variable": "posterior_3"
         },
         {
          "density": 0.24140154050714988,
          "p_grid": 0.8282828282828284,
          "variable": "posterior_3"
         },
         {
          "density": 0.22719740138736652,
          "p_grid": 0.8383838383838385,
          "variable": "posterior_3"
         },
         {
          "density": 0.21200782029686496,
          "p_grid": 0.8484848484848485,
          "variable": "posterior_3"
         },
         {
          "density": 0.19594023856278395,
          "p_grid": 0.8585858585858587,
          "variable": "posterior_3"
         },
         {
          "density": 0.17912322233751818,
          "p_grid": 0.8686868686868687,
          "variable": "posterior_3"
         },
         {
          "density": 0.1617080677423921,
          "p_grid": 0.8787878787878789,
          "variable": "posterior_3"
         },
         {
          "density": 0.14387047041283352,
          "p_grid": 0.888888888888889,
          "variable": "posterior_3"
         },
         {
          "density": 0.12581226058057643,
          "p_grid": 0.8989898989898991,
          "variable": "posterior_3"
         },
         {
          "density": 0.10776320482844824,
          "p_grid": 0.9090909090909092,
          "variable": "posterior_3"
         },
         {
          "density": 0.0899828756532737,
          "p_grid": 0.9191919191919192,
          "variable": "posterior_3"
         },
         {
          "density": 0.07276258997244417,
          "p_grid": 0.9292929292929294,
          "variable": "posterior_3"
         },
         {
          "density": 0.05642741770969496,
          "p_grid": 0.9393939393939394,
          "variable": "posterior_3"
         },
         {
          "density": 0.04133826159562872,
          "p_grid": 0.9494949494949496,
          "variable": "posterior_3"
         },
         {
          "density": 0.027894009318533697,
          "p_grid": 0.9595959595959597,
          "variable": "posterior_3"
         },
         {
          "density": 0.016533759161034466,
          "p_grid": 0.9696969696969697,
          "variable": "posterior_3"
         },
         {
          "density": 0.007739120258121383,
          "p_grid": 0.9797979797979799,
          "variable": "posterior_3"
         },
         {
          "density": 0.0020365886120995535,
          "p_grid": 0.98989898989899,
          "variable": "posterior_3"
         },
         {
          "density": 0,
          "p_grid": 1,
          "variable": "posterior_3"
         }
        ]
       },
       "encoding": {
        "color": {
         "field": "variable",
         "type": "nominal"
        },
        "x": {
         "field": "p_grid",
         "title": "water ratio",
         "type": "quantitative"
        },
        "y": {
         "field": "density",
         "type": "quantitative"
        }
       },
       "mark": "line",
       "title": "probabilities"
      },
      "image/png": "[encoded data removed]",
      "text/plain": [
       "<VegaLite 4 object>\n",
       "\n",
       "If you see this message, it means the renderer has not been properly enabled\n",
       "for the frontend that you are using. For more information, see\n",
       "https://altair-viz.github.io/user_guide/troubleshooting.html\n"
      ]
     },
     "execution_count": 6,
     "metadata": {},
     "output_type": "execute_result"
    }
   ],
   "source": [
    "# convert wide df to tall, keep `p_grid` column\n",
    "df = df.melt(\"p_grid\", value_name=\"density\")\n",
    "\n",
    "alt.Chart(df, title=\"probabilities\").mark_line().encode(\n",
    "    alt.X(\"p_grid\", title=\"water ratio\"),\n",
    "    y=\"density\",\n",
    "    color=\"variable\",\n",
    ")"
   ]
  },
  {
   "cell_type": "markdown",
   "id": "fbd6c965-39fe-4283-914b-5ebc3108d091",
   "metadata": {},
   "source": [
    "### 2M3\n",
    "\n",
    "Suppose there are two globes, one for Earth and one for Mars. The Earth globe is 70% covered in water. The Mars globe is 100% land. Further suppose that one of these globes—you don’t know which was tossed in the air and produced a “land” observation. Assume that each globe was equally likely to be tossed. Show that the posterior probability that the globe was the Earth, conditional on seeing “land” (Pr(Earth|land)), is 0.23."
   ]
  },
  {
   "cell_type": "markdown",
   "id": "47214930-a610-4064-affb-319c892781f6",
   "metadata": {},
   "source": [
    "$$\n",
    "  P(Earth|Land) = \\frac{P(Land|Earth)*P(Earth)}{P(Land)}\n",
    "$$"
   ]
  },
  {
   "cell_type": "code",
   "execution_count": 7,
   "id": "209ee420-b6b1-471d-b359-9a56c4360ae0",
   "metadata": {},
   "outputs": [
    {
     "data": {
      "text/plain": [
       "0.23076923076923078"
      ]
     },
     "execution_count": 7,
     "metadata": {},
     "output_type": "execute_result"
    }
   ],
   "source": [
    "p = (1 - 0.7) * 0.5 / ((1 - 0.7) * 0.5 + 0.5)\n",
    "p"
   ]
  },
  {
   "cell_type": "code",
   "execution_count": 8,
   "id": "863908b6-1f72-4f18-b181-813286a36e32",
   "metadata": {},
   "outputs": [
    {
     "data": {
      "text/html": [
       "<div>\n",
       "<style scoped>\n",
       "    .dataframe tbody tr th:only-of-type {\n",
       "        vertical-align: middle;\n",
       "    }\n",
       "\n",
       "    .dataframe tbody tr th {\n",
       "        vertical-align: top;\n",
       "    }\n",
       "\n",
       "    .dataframe thead th {\n",
       "        text-align: right;\n",
       "    }\n",
       "</style>\n",
       "<table border=\"1\" class=\"dataframe\">\n",
       "  <thead>\n",
       "    <tr style=\"text-align: right;\">\n",
       "      <th></th>\n",
       "      <th>land</th>\n",
       "      <th>water</th>\n",
       "    </tr>\n",
       "  </thead>\n",
       "  <tbody>\n",
       "    <tr>\n",
       "      <th>earth</th>\n",
       "      <td>0.15</td>\n",
       "      <td>0.35</td>\n",
       "    </tr>\n",
       "    <tr>\n",
       "      <th>mars</th>\n",
       "      <td>0.50</td>\n",
       "      <td>0.00</td>\n",
       "    </tr>\n",
       "  </tbody>\n",
       "</table>\n",
       "</div>"
      ],
      "text/plain": [
       "       land  water\n",
       "earth  0.15   0.35\n",
       "mars   0.50   0.00"
      ]
     },
     "execution_count": 8,
     "metadata": {},
     "output_type": "execute_result"
    }
   ],
   "source": [
    "p_land_earth = (1 - 0.7) * 0.5\n",
    "p_land_mars = 1 * 0.5\n",
    "p_water_earth = 0.7 * 0.5\n",
    "p_water_mars = 0\n",
    "df = pd.DataFrame(\n",
    "    {\"land\": [p_land_earth, p_land_mars], \"water\": [p_water_earth, p_water_mars]},\n",
    "    index=[\"earth\", \"mars\"],\n",
    ")\n",
    "\n",
    "assert df.values.sum() == 1.0\n",
    "df"
   ]
  },
  {
   "cell_type": "code",
   "execution_count": 9,
   "id": "6f340805-ba21-4c0e-8a09-a17201e833e1",
   "metadata": {},
   "outputs": [
    {
     "data": {
      "text/plain": [
       "0.23076923076923078"
      ]
     },
     "execution_count": 9,
     "metadata": {},
     "output_type": "execute_result"
    }
   ],
   "source": [
    "# P(Earth|Land)\n",
    "df[\"land\"].loc[\"earth\"] / df[\"land\"].sum()"
   ]
  },
  {
   "cell_type": "markdown",
   "id": "4c8e13de-29a3-4952-81df-4960fd0733bf",
   "metadata": {},
   "source": [
    "### 2M4\n",
    "\n",
    "Suppose you have a deck with only three cards. Each card has two sides, and each side is either black or white. One card has two black sides. The second card has one black and one white side. The third card has two white sides. Now suppose all three cards are placed in a bag and shuffled. Someone reaches into the bag and pulls out a card and places it flat on a table. A black side is shown facing up, but you don’t know the color of the side facing down. Show that the probability that the other side is also black is 2/3. Use the counting method (Section 2 of the chapter) to approach this problem. This means counting up the ways that each card could produce the observed data (a black side facing up on the table)."
   ]
  },
  {
   "cell_type": "markdown",
   "id": "a4448c9e-8593-4b8d-864c-6936c30a5315",
   "metadata": {},
   "source": [
    "```\n",
    "cards: BB, BW, WW\n",
    "```\n",
    "\n",
    "```\n",
    "card   # \"B\" draws   plausibility/posterior\n",
    " BB        2              2/3 = P(BB|B)\n",
    " BW        1              1/3 = P(BW|B)\n",
    " WW        0               0  = P(WW|B)\n",
    "```"
   ]
  },
  {
   "cell_type": "markdown",
   "id": "a0bd8252-0d2a-44a3-8284-2063782bed5e",
   "metadata": {},
   "source": [
    "$$\n",
    "P(BB|B) = \\frac{P(B|BB)*P(BB)}{P(B)}\n",
    "$$"
   ]
  },
  {
   "cell_type": "code",
   "execution_count": 10,
   "id": "d84b4f0e-e811-423e-8bcf-9023a69c075c",
   "metadata": {},
   "outputs": [
    {
     "data": {
      "text/plain": [
       "0.6666666666666666"
      ]
     },
     "execution_count": 10,
     "metadata": {},
     "output_type": "execute_result"
    }
   ],
   "source": [
    "p = (1 * 1 / 3) / (1 * 1 / 3 + 1 / 2 * 1 / 3 + 0 * 1 / 3)\n",
    "p"
   ]
  },
  {
   "cell_type": "markdown",
   "id": "c7bb3b14-e9fb-41f9-b605-440c8d56da8c",
   "metadata": {},
   "source": [
    "### 2M5\n",
    "\n",
    "Now suppose there are four cards: B/B, B/W, W/W, and another B/B. Again suppose a card is drawn from the bag and a black side appears face up. Again calculate the probability that the other side is black."
   ]
  },
  {
   "cell_type": "markdown",
   "id": "c0389427-c8cb-4b34-9785-28736959ef1e",
   "metadata": {},
   "source": [
    "```\n",
    "cards: BB, BW, WW, BB\n",
    "```\n",
    "\n",
    "```\n",
    "card   # \"B\" draws   plausibility/posterior\n",
    " BB        2              2/5 = P(BB|B)\n",
    " BW        1              1/5 = P(BW|B)\n",
    " WW        0               0  = P(WW|B)\n",
    " BB        2              2/5 = P(BB|B)\n",
    "```\n",
    "\n",
    "P(BB|B) = 2/5 + 2/5 = 4/5"
   ]
  },
  {
   "cell_type": "code",
   "execution_count": 11,
   "id": "c30205ac-ceca-46de-855b-ae29ffd981f6",
   "metadata": {},
   "outputs": [
    {
     "data": {
      "text/plain": [
       "0.8"
      ]
     },
     "execution_count": 11,
     "metadata": {},
     "output_type": "execute_result"
    }
   ],
   "source": [
    "p = (1 * 2 / 4) / (1 * 2 / 4 + 1 / 2 * 1 / 4)\n",
    "p"
   ]
  },
  {
   "cell_type": "markdown",
   "id": "af8659d1-582e-416d-a138-d2127bccf416",
   "metadata": {},
   "source": [
    "### 2M6\n",
    "\n",
    "Imagine that black ink is heavy, and so cards with black sides are heavier than cards with white sides. As a result, it’s less likely that a card with black sides is pulled from the bag. So again assume there are three cards: B/B, B/W, and W/W. After experimenting a number of times, you conclude that for every way to pull the B/B card from the bag, there are 2 ways to pull the B/W card and 3 ways to pull the W/W card. Again suppose that a card is pulled and a black side appears face up. Show that the probability the other side is black is now 0.5. Use the counting method, as before."
   ]
  },
  {
   "cell_type": "markdown",
   "id": "75d5d430-36c3-4db3-a31f-e15fc330ccae",
   "metadata": {},
   "source": [
    "```\n",
    "Priors:\n",
    " P(BB) = 1 / (1 + 2 + 3) = 1 / 6\n",
    " P(BW) = 2 / (1 + 2 + 3) = 2 / 6\n",
    " P(WW) = 3 / (1 + 2 + 3) = 3 / 6\n",
    "```\n",
    "\n",
    "```\n",
    "card   prior   # \"B\" draws   plausibility\n",
    " BB      1/6      2 * 1/6        1/2 = P(BB|B)\n",
    " BW      2/6      1 * 2/6        1/2 = P(BW|B)\n",
    " WW      3/6      0 * 3/6         0  = P(WW|B)\n",
    "```\n"
   ]
  },
  {
   "cell_type": "code",
   "execution_count": 12,
   "id": "7149651d-08cd-41e6-84d3-f1314da19ba3",
   "metadata": {},
   "outputs": [
    {
     "data": {
      "text/plain": [
       "0.5"
      ]
     },
     "execution_count": 12,
     "metadata": {},
     "output_type": "execute_result"
    }
   ],
   "source": [
    "p = (1 * 1 / 6) / (1 / 6 * 1 + 2 / 6 * 1 / 2 + 3 / 6 * 0)\n",
    "p"
   ]
  },
  {
   "cell_type": "markdown",
   "id": "6b3ceb1b-6e0e-4d69-aa44-46fdbe35a079",
   "metadata": {},
   "source": [
    "### 2M7\n",
    "\n",
    "Assume again the original card problem, with a single card showing a black side face up. Before looking at the other side, we draw another card from the bag and lay it face up on the table. The face that is shown on the new card is white. Show that the probability that the first card, the one showing a black side, has black on its other side is now 0.75. Use the counting method, if you can. Hint: Treat this like the sequence of globe tosses, counting all the ways to see each observation, for each possible first card.\n"
   ]
  },
  {
   "cell_type": "markdown",
   "id": "78ef8e0e-7354-4fbb-b840-7071f803027a",
   "metadata": {},
   "source": [
    "```\n",
    "  First draw: BB           BB           BW           WB           WW           WW\n",
    " Second draw: BW WB WW WW  BW WB WW WW  BB BB WW WW  BB BB WW WW  BB BB WB BW  BB BB WB BW\n",
    "     Matches:     y  y  y      y  y  y         n  n\n",
    "\n",
    "sum(y) = 6\n",
    "sum(y+n) = 8\n",
    "```"
   ]
  },
  {
   "cell_type": "code",
   "execution_count": 13,
   "id": "897ff26b-b03f-4889-beb9-cb3bc2becaa8",
   "metadata": {},
   "outputs": [
    {
     "data": {
      "text/plain": [
       "0.75"
      ]
     },
     "execution_count": 13,
     "metadata": {},
     "output_type": "execute_result"
    }
   ],
   "source": [
    "6 / 8"
   ]
  },
  {
   "cell_type": "markdown",
   "id": "348b894c-99c7-4ea3-9245-e222cfcf671d",
   "metadata": {},
   "source": [
    "### 2H1\n",
    "\n",
    "Suppose there are two species of panda bear. Both are equally common in the wild and live in the same places. They look exactly alike and eat the same food, and there is yet no genetic assay capable of telling them apart. They differ however in their family sizes. Species A gives birth to twins 10% of the time, otherwise birthing a single infant. Species B births twins 20% of the time, otherwise birthing singleton infants. Assume these numbers are known with certainty, from many years of field research.\n",
    "\n",
    "Now suppose you are managing a captive panda breeding program. You have a new female panda of unknown species, and she has just given birth to twins. What is the probability that her next birth will also be twins?"
   ]
  },
  {
   "cell_type": "code",
   "execution_count": 14,
   "id": "36bed2b9-4ae0-492b-a1c8-7fc86cf189a5",
   "metadata": {},
   "outputs": [
    {
     "data": {
      "text/html": [
       "<div>\n",
       "<style scoped>\n",
       "    .dataframe tbody tr th:only-of-type {\n",
       "        vertical-align: middle;\n",
       "    }\n",
       "\n",
       "    .dataframe tbody tr th {\n",
       "        vertical-align: top;\n",
       "    }\n",
       "\n",
       "    .dataframe thead th {\n",
       "        text-align: right;\n",
       "    }\n",
       "</style>\n",
       "<table border=\"1\" class=\"dataframe\">\n",
       "  <thead>\n",
       "    <tr style=\"text-align: right;\">\n",
       "      <th></th>\n",
       "      <th>a_species</th>\n",
       "      <th>b_species</th>\n",
       "    </tr>\n",
       "  </thead>\n",
       "  <tbody>\n",
       "    <tr>\n",
       "      <th>twins</th>\n",
       "      <td>0.05</td>\n",
       "      <td>0.1</td>\n",
       "    </tr>\n",
       "    <tr>\n",
       "      <th>single</th>\n",
       "      <td>0.45</td>\n",
       "      <td>0.4</td>\n",
       "    </tr>\n",
       "  </tbody>\n",
       "</table>\n",
       "</div>"
      ],
      "text/plain": [
       "        a_species  b_species\n",
       "twins        0.05        0.1\n",
       "single       0.45        0.4"
      ]
     },
     "execution_count": 14,
     "metadata": {},
     "output_type": "execute_result"
    }
   ],
   "source": [
    "p_a_twins = 0.1 * 0.5 # P(A, twins)\n",
    "p_a_single = (1 - 0.1) * 0.5 # P(A, single)\n",
    "p_b_twins = 0.2 * 0.5 # P(B, twins)\n",
    "p_b_single = (1 - 0.2) * 0.5 # P(B, single)\n",
    "\n",
    "df = pd.DataFrame(\n",
    "    {\"a_species\": [p_a_twins, p_a_single], \"b_species\": [p_b_twins, p_b_single]},\n",
    "    index=[\"twins\", \"single\"],\n",
    ")\n",
    "\n",
    "assert df.values.sum() == 1.0\n",
    "df"
   ]
  },
  {
   "cell_type": "markdown",
   "id": "5a30a3dc-2f8f-4464-b4a0-860eab3a2e5a",
   "metadata": {},
   "source": [
    "```\n",
    " draw species: A 0.5                         |  B 0.5\n",
    "    1st birth: T 0.1           S 0.9         |  T 0.2          S 0.8      \n",
    "    2nd birth: T 0.1   S 0.9   T 0.1   S 0.9 |  T 0.2  S 0.8   T 0.2  S 0.8\n",
    "\n",
    "     P(T|T) = P(T|A,T) * P(A) + P(T|B,T) * P(B) = 0.1 * 0.5 + 0.2 * 0.5 = 0.15\n",
    "```"
   ]
  },
  {
   "cell_type": "markdown",
   "id": "3f17ec05-e861-4aeb-b2ed-97e26ad4989a",
   "metadata": {},
   "source": [
    "### 2H2\n",
    "\n",
    "Recall all the facts from the problem above. Now compute the probability that the panda we have is from species A, assuming we have observed only the first birth and that it was twins."
   ]
  },
  {
   "cell_type": "markdown",
   "id": "d6053763-7896-46ee-8a81-2d4e46702e02",
   "metadata": {},
   "source": [
    "```\n",
    "P(A|T) = 0.05 / (0.05 + 0.1) = 0.333\n",
    "```"
   ]
  },
  {
   "cell_type": "markdown",
   "id": "ba4f6e2b-d685-4e55-bc5d-6cbb4954a250",
   "metadata": {},
   "source": [
    "### 2H3\n",
    "\n",
    "Continuing on from the previous problem, suppose the same panda mother has a second birth and that it is not twins, but a singleton infant. Compute the posterior probability that this panda is species A.\n"
   ]
  },
  {
   "cell_type": "markdown",
   "id": "9bda9e8f-0b44-4ea0-9837-19e2f52a9472",
   "metadata": {},
   "source": [
    "```\n",
    "P(A|T,S) = P(T,S|A) / [P(T,S|A) + P(T,S|B)] =  0.1 * 0.9 / (0.1 * 0.9 + 0.2 * 0.8) = 0.36\n",
    "```"
   ]
  },
  {
   "cell_type": "markdown",
   "id": "5dc58741-582b-48d6-aca0-e498265ef9d1",
   "metadata": {},
   "source": [
    "### 2H4\n",
    "\n",
    "A common boast of Bayesian statisticians is that Bayesian inference makes it easy to use all of the data, even if the data are of different types.\n",
    "\n",
    "So suppose now that a veterinarian comes along who has a new genetic test that she claims can identify the species of our mother panda. But the test, like all tests, is imperfect. This is the information you have about the test:\n",
    "* The probability it correctly identifies a species A panda is 0.8.\n",
    "* The probability it correctly identifies a species B panda is 0.65.\n",
    "\n",
    "The vet administers the test to your panda and tells you that the test is positive for species A. First ignore your previous information from the births and compute the posterior probability that your panda is species A. Then redo your calculation, now using the birth data as well."
   ]
  },
  {
   "cell_type": "markdown",
   "id": "7df25869-3146-4745-a4c8-a7c4a702faf8",
   "metadata": {},
   "source": [
    "```\n",
    "draw species: A 0.5                           B 0.5\n",
    "        Test: P 0.8           N 0.2           P 0.65          N 0.35\n",
    " Observation: A               B               B               A\n",
    "\n",
    "\n",
    "    P(A|Pos) = P(Pos|A) * P(A) / P(Pos)\n",
    "             = 0.8 * 0.5 / (0.8 * 0.5 + 0.35 * 0.5)\n",
    "             = 0.696\n",
    "\n",
    "  P(A|Pos,T) = P(Pos,T|A) * P(A) / (P(Pos,T|A) + P(Pos,T|B)) \n",
    "             = 0.8 * 0.1 * 0.5 / (0.8 * 0.1 * 0.5 + 0.35 * 0.2 * 0.5)\n",
    "             = 0.533\n",
    "\n",
    "             # same using Bayesian update with P(A|Pos) as prior\n",
    "             = 0.1 * 0.696 / (0.1 * 0.696 + 0.2 * (1 - 0.696))\n",
    "             = 0.533\n",
    "             \n",
    "\n",
    "      let D = Pos,T,S - all evidence we have\n",
    "      P(A|D) = P(D|A) * P(A) / (P(D|A) * P(A) + P(D|B) * P(B))\n",
    "             = 0.8 * 0.1 * 0.9 * 0.5 / (0.8 * 0.1 * 0.9 * 0.5 + 0.35 * 0.2 * 0.8 * 0.5)\n",
    "             = 0.562\n",
    "             \n",
    "             # same using Bayesian update with P(A|Pos,T) as prior\n",
    "             = 0.9 * 0.533 / (0.9 * 0.533 + 0.8 * (1 - 0.533))\n",
    "             = 0.562\n",
    "```"
   ]
  },
  {
   "cell_type": "code",
   "execution_count": null,
   "id": "96f91bf3-c21f-4501-955c-ff1453557c72",
   "metadata": {},
   "outputs": [],
   "source": []
  }
 ],
 "metadata": {
  "kernelspec": {
   "display_name": "Python 3 (ipykernel)",
   "language": "python",
   "name": "python3"
  },
  "language_info": {
   "codemirror_mode": {
    "name": "ipython",
    "version": 3
   },
   "file_extension": ".py",
   "mimetype": "text/x-python",
   "name": "python",
   "nbconvert_exporter": "python",
   "pygments_lexer": "ipython3",
   "version": "3.10.15"
  }
 },
 "nbformat": 4,
 "nbformat_minor": 5
}
