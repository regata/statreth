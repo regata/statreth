{
 "cells": [
  {
   "cell_type": "markdown",
   "id": "a839e456-1a63-421d-ac65-e0745ed4d45d",
   "metadata": {},
   "source": [
    "# Chapter 2 Practice"
   ]
  },
  {
   "cell_type": "code",
   "execution_count": null,
   "id": "26a0f784-06a7-42c5-b885-35a7aeb7d10e",
   "metadata": {},
   "outputs": [],
   "source": [
    "import altair as alt\n",
    "import numpy as np\n",
    "import pandas as pd\n",
    "from scipy import stats"
   ]
  },
  {
   "cell_type": "markdown",
   "id": "596942ac-c9ae-4e06-a3de-663d8074987f",
   "metadata": {},
   "source": [
    "### 2M1"
   ]
  },
  {
   "cell_type": "code",
   "execution_count": null,
   "id": "485c0684-a816-483f-a4de-ef5871a5a4bf",
   "metadata": {},
   "outputs": [],
   "source": [
    "observations = [\n",
    "    [\"W\", \"W\", \"W\"],\n",
    "    [\"W\", \"W\", \"W\", \"L\"],\n",
    "    [\"L\", \"W\", \"W\", \"L\", \"W\", \"W\", \"W\"],\n",
    "]"
   ]
  },
  {
   "cell_type": "code",
   "execution_count": null,
   "id": "c2171fa5-f157-45a5-9eda-96dc4a9beffd",
   "metadata": {},
   "outputs": [],
   "source": [
    "p_grid = np.linspace(0, 1, num=100)\n",
    "prior = np.ones_like(p_grid)\n",
    "\n",
    "df = pd.DataFrame({\"p_grid\": p_grid, \"prior\": prior})\n",
    "\n",
    "for i, obs in enumerate(observations):\n",
    "    n = len(obs)  # number of observations\n",
    "    k = obs.count(\"W\")  # number of water measurements\n",
    "\n",
    "    prob_data = stats.binom.pmf(k=k, n=n, p=p_grid)\n",
    "    posterior = prior * prob_data\n",
    "\n",
    "    df[f\"posterior_{i+1}\"] = posterior\n",
    "\n",
    "df"
   ]
  },
  {
   "cell_type": "code",
   "execution_count": null,
   "id": "86f14abc-af1b-4eb9-871d-18d4f6017bd9",
   "metadata": {},
   "outputs": [],
   "source": [
    "# convert wide df to tall, keep `p_grid` column\n",
    "df = df.melt(\"p_grid\", value_name=\"density\")\n",
    "\n",
    "alt.Chart(df, title=\"probabilities\").mark_line().encode(\n",
    "    alt.X(\"p_grid\", title=\"water ratio\"),\n",
    "    y=\"density\",\n",
    "    color=\"variable\",\n",
    ")"
   ]
  },
  {
   "cell_type": "markdown",
   "id": "aa10143d-0cf4-4963-a939-e4ff0ce488b9",
   "metadata": {},
   "source": [
    "### 2M2"
   ]
  },
  {
   "cell_type": "code",
   "execution_count": null,
   "id": "d3323828-2752-4312-9623-d7215cca217d",
   "metadata": {},
   "outputs": [],
   "source": [
    "p_grid = np.linspace(0, 1, num=100)\n",
    "prior = np.ones_like(p_grid)\n",
    "prior[p_grid < 0.5] = 0\n",
    "\n",
    "df = pd.DataFrame({\"p_grid\": p_grid, \"prior\": prior})\n",
    "\n",
    "for i, obs in enumerate(observations):\n",
    "    n = len(obs)  # number of observations\n",
    "    k = len(list(filter(lambda o: o == \"W\", obs)))  # number of water measurements\n",
    "\n",
    "    prob_data = stats.binom.pmf(k=k, n=n, p=p_grid)\n",
    "    posterior = prior * prob_data\n",
    "\n",
    "    df[f\"posterior_{i+1}\"] = posterior"
   ]
  },
  {
   "cell_type": "code",
   "execution_count": null,
   "id": "08f42af7-38c8-40a9-b8a1-e493d34a44f7",
   "metadata": {},
   "outputs": [],
   "source": [
    "# convert wide df to tall, keep `p_grid` column\n",
    "df = df.melt(\"p_grid\", value_name=\"density\")\n",
    "\n",
    "alt.Chart(df, title=\"probabilities\").mark_line().encode(\n",
    "    alt.X(\"p_grid\", title=\"water ratio\"),\n",
    "    y=\"density\",\n",
    "    color=\"variable\",\n",
    ")"
   ]
  },
  {
   "cell_type": "markdown",
   "id": "fbd6c965-39fe-4283-914b-5ebc3108d091",
   "metadata": {},
   "source": [
    "### 2M3"
   ]
  },
  {
   "cell_type": "markdown",
   "id": "47214930-a610-4064-affb-319c892781f6",
   "metadata": {},
   "source": [
    "$$\n",
    "  P(Earth|Land) = \\frac{P(Land|Earth)*P(Earth)}{P(Land)}\n",
    "$$"
   ]
  },
  {
   "cell_type": "code",
   "execution_count": null,
   "id": "209ee420-b6b1-471d-b359-9a56c4360ae0",
   "metadata": {},
   "outputs": [],
   "source": [
    "p = (1 - 0.7) * 0.5 / ((1 - 0.7) * 0.5 + 0.5)\n",
    "p"
   ]
  },
  {
   "cell_type": "code",
   "execution_count": null,
   "id": "863908b6-1f72-4f18-b181-813286a36e32",
   "metadata": {},
   "outputs": [],
   "source": [
    "p_land_earth = (1 - 0.7) * 0.5\n",
    "p_land_mars = 1 * 0.5\n",
    "p_water_earth = 0.7 * 0.5\n",
    "p_water_mars = 0\n",
    "df = pd.DataFrame(\n",
    "    {\"land\": [p_land_earth, p_land_mars], \"water\": [p_water_earth, p_water_mars]},\n",
    "    index=[\"earth\", \"mars\"],\n",
    ")\n",
    "\n",
    "assert df.values.sum() == 1.0\n",
    "df"
   ]
  },
  {
   "cell_type": "code",
   "execution_count": null,
   "id": "6f340805-ba21-4c0e-8a09-a17201e833e1",
   "metadata": {},
   "outputs": [],
   "source": [
    "# P(Earth|Land)\n",
    "df[\"land\"].loc[\"earth\"] / df[\"land\"].sum()"
   ]
  },
  {
   "cell_type": "markdown",
   "id": "4c8e13de-29a3-4952-81df-4960fd0733bf",
   "metadata": {},
   "source": [
    "### 2M4"
   ]
  },
  {
   "cell_type": "markdown",
   "id": "a4448c9e-8593-4b8d-864c-6936c30a5315",
   "metadata": {},
   "source": [
    "```\n",
    "cards: BB, BW, WW\n",
    "```\n",
    "\n",
    "$$\n",
    "P(BB|B) = \\frac{P(B|BB)*P(BB)}{P(B)}\n",
    "$$"
   ]
  },
  {
   "cell_type": "code",
   "execution_count": null,
   "id": "d84b4f0e-e811-423e-8bcf-9023a69c075c",
   "metadata": {},
   "outputs": [],
   "source": [
    "p = (1 * 1 / 3) / (3 / 6)\n",
    "p"
   ]
  },
  {
   "cell_type": "markdown",
   "id": "c7bb3b14-e9fb-41f9-b605-440c8d56da8c",
   "metadata": {},
   "source": [
    "### 2M5"
   ]
  },
  {
   "cell_type": "code",
   "execution_count": null,
   "id": "c30205ac-ceca-46de-855b-ae29ffd981f6",
   "metadata": {},
   "outputs": [],
   "source": [
    "p = (1 * 2 / 4) / (5 / 8)\n",
    "p"
   ]
  },
  {
   "cell_type": "markdown",
   "id": "af8659d1-582e-416d-a138-d2127bccf416",
   "metadata": {},
   "source": [
    "### 2M6"
   ]
  },
  {
   "cell_type": "markdown",
   "id": "75d5d430-36c3-4db3-a31f-e15fc330ccae",
   "metadata": {},
   "source": [
    "```\n",
    " P(BB) = 1 / 6\n",
    " P(BW) = 2 / 6\n",
    " P(WW) = 3 / 6\n",
    "```"
   ]
  },
  {
   "cell_type": "code",
   "execution_count": null,
   "id": "7149651d-08cd-41e6-84d3-f1314da19ba3",
   "metadata": {},
   "outputs": [],
   "source": [
    "p = (1 * 1 / 6) / (1 / 6 * 1 + 2 / 6 * 1 / 2 + 3 / 6 * 0)\n",
    "p"
   ]
  },
  {
   "cell_type": "markdown",
   "id": "6b3ceb1b-6e0e-4d69-aa44-46fdbe35a079",
   "metadata": {},
   "source": [
    "### 2M7"
   ]
  },
  {
   "cell_type": "markdown",
   "id": "78ef8e0e-7354-4fbb-b840-7071f803027a",
   "metadata": {},
   "source": [
    "```\n",
    "  First draw: BB           BB           BW           WB           WW           WW\n",
    " Second draw: BW WB WW WW  BW WB WW WW  BB BB WW WW  BB BB WW WW  BB BB WB BW  BB BB WB BW\n",
    "     Matches:    y  y  y      y  y  y         n  n\n",
    "```"
   ]
  },
  {
   "cell_type": "code",
   "execution_count": null,
   "id": "897ff26b-b03f-4889-beb9-cb3bc2becaa8",
   "metadata": {},
   "outputs": [],
   "source": [
    "6 / 8"
   ]
  },
  {
   "cell_type": "markdown",
   "id": "348b894c-99c7-4ea3-9245-e222cfcf671d",
   "metadata": {},
   "source": [
    "### 2H1"
   ]
  },
  {
   "cell_type": "code",
   "execution_count": null,
   "id": "36bed2b9-4ae0-492b-a1c8-7fc86cf189a5",
   "metadata": {},
   "outputs": [],
   "source": [
    "p_a_twins = 0.1 * 0.5\n",
    "p_a_single = (1 - 0.1) * 0.5\n",
    "p_b_twins = 0.2 * 0.5\n",
    "p_b_single = (1 - 0.2) * 0.5\n",
    "\n",
    "df = pd.DataFrame(\n",
    "    {\"a_species\": [p_a_twins, p_a_single], \"b_species\": [p_b_twins, p_b_single]},\n",
    "    index=[\"twins\", \"single\"],\n",
    ")\n",
    "\n",
    "assert df.values.sum() == 1.0\n",
    "df"
   ]
  },
  {
   "cell_type": "markdown",
   "id": "5a30a3dc-2f8f-4464-b4a0-860eab3a2e5a",
   "metadata": {},
   "source": [
    "```\n",
    " draw species: A 0.5                         |  B 0.5\n",
    "    1st birth: T 0.1           S 0.9         |  T 0.2          S 0.8      \n",
    "    2nd birth: T 0.1   S 0.9   T 0.1   S 0.9 |  T 0.2  S 0.8   T 0.2  S 0.8\n",
    "               x                             |  x\n",
    " P(T|[A,B],T): 0.1                           |  0.2\n",
    "\n",
    "     P(T|T) = P(T|A,T) * P(A) + P(T|B,T) * P(B) = 0.1 * 0.5 + 0.2 * 0.5 = 0.15\n",
    "```"
   ]
  },
  {
   "cell_type": "markdown",
   "id": "3f17ec05-e861-4aeb-b2ed-97e26ad4989a",
   "metadata": {},
   "source": [
    "### 2H2"
   ]
  },
  {
   "cell_type": "markdown",
   "id": "d6053763-7896-46ee-8a81-2d4e46702e02",
   "metadata": {},
   "source": [
    "```\n",
    "P(A|T) = 0.05 / (0.05 + 0.1) = 0.333\n",
    "```"
   ]
  },
  {
   "cell_type": "markdown",
   "id": "ba4f6e2b-d685-4e55-bc5d-6cbb4954a250",
   "metadata": {},
   "source": [
    "### 2H3"
   ]
  },
  {
   "cell_type": "markdown",
   "id": "9bda9e8f-0b44-4ea0-9837-19e2f52a9472",
   "metadata": {},
   "source": [
    "```\n",
    "P(A|T,S) = P(T,S|A) / [P(T,S|A) + P(T,S|B)] =  0.1 * 0.9 / (0.1 * 0.9 + 0.2 * 0.8) = 0.36\n",
    "```"
   ]
  },
  {
   "cell_type": "markdown",
   "id": "5dc58741-582b-48d6-aca0-e498265ef9d1",
   "metadata": {},
   "source": [
    "### 2H4"
   ]
  },
  {
   "cell_type": "markdown",
   "id": "7df25869-3146-4745-a4c8-a7c4a702faf8",
   "metadata": {},
   "source": [
    "```\n",
    "draw species: A 0.5                           B 0.5\n",
    "        Test: P 0.8           N 0.2           P 0.65          N 0.35\n",
    " Observation: A               B               B               A\n",
    "\n",
    "    P(A|Pos) = 0.8 * 0.5 / (0.8 * 0.5 + 0.35 * 0.5)\n",
    "             = 0.696\n",
    "\n",
    "  P(A|Pos,T) = P(Pos,T|A) * P(A) / (P(Pos,T|A) + P(Pos,T|B)) \n",
    "             = 0.8 * 0.1 * 0.5 / (0.8 * 0.1 * 0.5 + 0.35 * 0.2 * 0.5)\n",
    "             = 0.533\n",
    "\n",
    "             # same using Bayesian update with P(A|Pos) as prior\n",
    "             = 0.1 * 0.696 / (0.1 * 0.696 + 0.2 * (1 - 0.696))\n",
    "             = 0.533\n",
    "             \n",
    "\n",
    "      let D = Pos,T,S - all evidence we have\n",
    "      P(A|D) = P(D|A) * P(A) / (P(D|A) * P(A) + P(D|B) * P(B))\n",
    "             = 0.8 * 0.1 * 0.9 * 0.5 / (0.8 * 0.1 * 0.9 * 0.5 + 0.35 * 0.2 * 0.8 * 0.5)\n",
    "             = 0.562\n",
    "             \n",
    "             # same using Bayesian update with P(A|Pos,T) as prior\n",
    "             = 0.9 * 0.533 / (0.9 * 0.533 + 0.8 * (1 - 0.533))\n",
    "             = 0.562\n",
    "```"
   ]
  },
  {
   "cell_type": "code",
   "execution_count": null,
   "id": "96f91bf3-c21f-4501-955c-ff1453557c72",
   "metadata": {},
   "outputs": [],
   "source": []
  }
 ],
 "metadata": {
  "kernelspec": {
   "display_name": "Python 3 (ipykernel)",
   "language": "python",
   "name": "python3"
  },
  "language_info": {
   "codemirror_mode": {
    "name": "ipython",
    "version": 3
   },
   "file_extension": ".py",
   "mimetype": "text/x-python",
   "name": "python",
   "nbconvert_exporter": "python",
   "pygments_lexer": "ipython3",
   "version": "3.10.5"
  }
 },
 "nbformat": 4,
 "nbformat_minor": 5
}
